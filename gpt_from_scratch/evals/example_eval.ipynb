{
 "cells": [
  {
   "cell_type": "code",
   "execution_count": 1,
   "id": "5c17c329-f237-47d1-b0b9-36c6493dbcbd",
   "metadata": {},
   "outputs": [],
   "source": [
    "%load_ext autoreload\n",
    "%autoreload 2"
   ]
  },
  {
   "cell_type": "code",
   "execution_count": 2,
   "id": "740341b6",
   "metadata": {},
   "outputs": [],
   "source": [
    "import evalugator\n",
    "import evalugator.api\n",
    "import evalugator.api.dispatcher\n",
    "import evalugator.api.requests\n",
    "\n",
    "# note: types from yaml files are represented in `evalugator.structs`, likely only YAML for non-python use cases"
   ]
  },
  {
   "cell_type": "code",
   "execution_count": 3,
   "id": "7996f224",
   "metadata": {},
   "outputs": [
    {
     "name": "stdout",
     "output_type": "stream",
     "text": [
      "Available providers:\n",
      " - evalugator.api.providers.openai\n",
      " - evalugator.api.providers.anthropic\n",
      " - evalugator.api.providers.replicate\n",
      " - evalugator.api.providers.human\n",
      " - evalugator.api.providers.together_api\n"
     ]
    }
   ],
   "source": [
    "# list available providers\n",
    "print('Available providers:')\n",
    "\n",
    "# note: these are literal python modules\n",
    "for provider_module in evalugator.api.dispatcher.PROVIDERS:\n",
    "    print(f' - {provider_module.__name__}')"
   ]
  },
  {
   "cell_type": "code",
   "execution_count": 4,
   "id": "2f6977c0",
   "metadata": {},
   "outputs": [],
   "source": [
    "assert not evalugator.api.providers.openai.provides_model('foo')\n",
    "assert evalugator.api.providers.openai.provides_model('gpt-4o')"
   ]
  },
  {
   "cell_type": "markdown",
   "id": "e74d74b2",
   "metadata": {},
   "source": [
    "Note: The way `evalugator.api.dispatcher` works is:\n",
    "\n",
    "```python\n",
    "from functools import partial\n",
    "\n",
    "from .providers import openai, anthropic, replicate, human, together_api\n",
    "\n",
    "PROVIDERS = [openai, anthropic, replicate, human, together_api]\n",
    "\n",
    "# note: also checks that model ID only matches exactly one provider\n",
    "def get_model_provider(model_id):\n",
    "    providers = []\n",
    "    for provider in PROVIDERS:\n",
    "        if provider.provides_model(model_id):\n",
    "            return provider\n",
    "\n",
    "def get_request_processor(request, model_id):\n",
    "    provider = get_model_provider(model_id)\n",
    "    return partial(provider.execute, model_id)\n",
    "\n",
    "\n",
    "def encode(model_id, *args, **kwargs):\n",
    "    provider = get_model_provider(model_id)\n",
    "    return provider.encode(model_id, *args, **kwargs)\n",
    "\n",
    "\n",
    "def decode(model_id, *args, **kwargs):\n",
    "    provider = get_model_provider(model_id)\n",
    "    return provider.decode(model_id, *args, **kwargs)\n",
    "```"
   ]
  },
  {
   "cell_type": "code",
   "execution_count": 5,
   "id": "4010fc38",
   "metadata": {},
   "outputs": [],
   "source": [
    "# this means the implicit provider API is:\n",
    "\n",
    "from typing import Protocol, ParamSpec\n",
    "\n",
    "P = ParamSpec('P')\n",
    "\n",
    "# note: this could be a module or class\n",
    "class Provider(Protocol):\n",
    "    def provides_model(self, model_id: str) -> bool:\n",
    "        ...\n",
    "    def execute(self, model_id: str, request: evalugator.api.requests.Request) -> evalugator.api.requests.Response:\n",
    "        ...\n",
    "    def encode(self, model_id: str, *args: P.args, **kwargs: P.kwargs) -> str:\n",
    "        ...\n",
    "    def decode(self, model_id: str, *args: P.args, **kwargs: P.kwargs) -> str:\n",
    "        ..."
   ]
  },
  {
   "cell_type": "markdown",
   "id": "5d25d960",
   "metadata": {},
   "source": [
    "This then allows the `API` to be used like this:\n",
    "\n",
    "```python\n",
    "\n",
    "class API:\n",
    "    \n",
    "    model_id: str\n",
    "    executor: ThreadPoolExecutor\n",
    "\n",
    "    # note: allows automatically saving results, essentially poor man's async, which makes since given not all providers might have async\n",
    "    def execute(self, request: Request) -> Future[Response]:\n",
    "        func = dispatcher.get_request_processor(request, self.model_id)\n",
    "        future = self.executor.submit(func, request)\n",
    "        future.add_done_callback(self._log_response)\n",
    "        return future\n",
    "\n",
    "    def encode(self, *args, **kwargs):\n",
    "        return dispatcher.encode(self.model_id, *args, **kwargs)\n",
    "\n",
    "    def decode(self, *args, **kwargs):\n",
    "        return dispatcher.decode(self.model_id, *args, **kwargs)\n",
    "```"
   ]
  },
  {
   "cell_type": "markdown",
   "id": "fb78fc45",
   "metadata": {},
   "source": [
    "additionally defines two convenience functions:\n",
    "\n",
    "```python\n",
    "    def get_text(self, ...) -> Future[GetTextResponse]:\n",
    "        request = GetTextRequest(...)\n",
    "        return self.execute(request)\n",
    "    \n",
    "    def get_probs(self, ...) -> Future[GetPropsResponse]:\n",
    "        request = GetProbsRequest(...)\n",
    "        return self.execute(request)\n",
    "```"
   ]
  },
  {
   "cell_type": "code",
   "execution_count": 8,
   "id": "e0a90563",
   "metadata": {},
   "outputs": [
    {
     "data": {
      "text/plain": [
       "GetTextResponse(model_id='gpt-4o-mini', request=GetTextRequest(context=None, prompt=[Message(role='user', content='Hi!')], temperature=1, max_tokens=512), raw_responses=[ChatCompletion(id='chatcmpl-9y7CeaNPkZ7jesyuUlNBAOdyhKy1B', choices=[Choice(finish_reason='stop', index=0, logprobs=None, message=ChatCompletionMessage(content='Hello! How can I assist you today?', refusal=None, role='assistant', function_call=None, tool_calls=None))], created=1724114396, model='gpt-4o-mini-2024-07-18', object='chat.completion', service_tier=None, system_fingerprint='fp_48196bc67a', usage=CompletionUsage(completion_tokens=9, prompt_tokens=9, total_tokens=18))], context=None, txt='Hello! How can I assist you today?')"
      ]
     },
     "execution_count": 8,
     "metadata": {},
     "output_type": "execute_result"
    }
   ],
   "source": [
    "model_id = 'gpt-4o-mini'\n",
    "\n",
    "# note: also allows `log_file_name`\n",
    "api = evalugator.api.Api(model_id=model_id)\n",
    "\n",
    "response_future = api.get_text(prompt='Hi!')\n",
    "\n",
    "# actual waiting\n",
    "response = response_future.result()\n",
    "\n",
    "response"
   ]
  },
  {
   "cell_type": "code",
   "execution_count": 10,
   "id": "d0ad0510",
   "metadata": {},
   "outputs": [
    {
     "data": {
      "text/plain": [
       "{'model_id': 'gpt-4o-mini',\n",
       " 'request': {'context': None,\n",
       "  'prompt': [{'role': 'user', 'content': 'Hi!'}],\n",
       "  'temperature': 1,\n",
       "  'max_tokens': 512},\n",
       " 'txt': 'Hello! How can I assist you today?',\n",
       " 'context': None}"
      ]
     },
     "execution_count": 10,
     "metadata": {},
     "output_type": "execute_result"
    }
   ],
   "source": [
    "response.as_dict()"
   ]
  },
  {
   "cell_type": "code",
   "execution_count": null,
   "id": "2c2fdcb1",
   "metadata": {},
   "outputs": [],
   "source": [
    "# we'll make a new provider with tool use\n",
    "\n",
    "# note: task-standard/workbench/example-agents/fncall-baseline/commands.py\n",
    "#       uses a `return` tool, which seems like an interesting technique"
   ]
  }
 ],
 "metadata": {
  "kernelspec": {
   "display_name": "Python 3 (ipykernel)",
   "language": "python",
   "name": "python3"
  },
  "language_info": {
   "codemirror_mode": {
    "name": "ipython",
    "version": 3
   },
   "file_extension": ".py",
   "mimetype": "text/x-python",
   "name": "python",
   "nbconvert_exporter": "python",
   "pygments_lexer": "ipython3",
   "version": "3.12.5"
  }
 },
 "nbformat": 4,
 "nbformat_minor": 5
}
