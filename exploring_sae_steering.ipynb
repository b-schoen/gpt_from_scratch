{
 "cells": [
  {
   "cell_type": "code",
   "execution_count": null,
   "id": "8f45cbc4-1119-46a8-b6a7-4f921d3caefd",
   "metadata": {},
   "outputs": [],
   "source": [
    "%load_ext autoreload\n",
    "%autoreload 2\n",
    "\n",
    "print(\"Autoreload extension loaded. Code changes will be automatically reloaded.\")\n"
   ]
  },
  {
   "cell_type": "code",
   "execution_count": null,
   "id": "b5f6cd64",
   "metadata": {},
   "outputs": [],
   "source": [
    "# note: Based on https://github.com/jbloomAus/SAELens/blob/main/tutorials/using_an_sae_as_a_steering_vector.ipynb"
   ]
  },
  {
   "cell_type": "markdown",
   "id": "5710c0bf",
   "metadata": {},
   "source": [
    "# Install / Setup"
   ]
  },
  {
   "cell_type": "code",
   "execution_count": null,
   "id": "affc7ae0",
   "metadata": {},
   "outputs": [],
   "source": [
    "try:\n",
    "  # for google colab users\n",
    "    import google.colab # type: ignore\n",
    "    from google.colab import output\n",
    "    COLAB = True\n",
    "    %pip install sae-lens transformer-lens\n",
    "except:\n",
    "  # for local setup\n",
    "    COLAB = False\n",
    "    from IPython import get_ipython # type: ignore\n",
    "    ipython = get_ipython(); assert ipython is not None\n",
    "    ipython.run_line_magic(\"load_ext\", \"autoreload\")\n",
    "    ipython.run_line_magic(\"autoreload\", \"2\")\n",
    "\n",
    "\n",
    "# Imports for displaying vis in Colab / notebook\n",
    "import webbrowser\n",
    "import http.server\n",
    "import socketserver\n",
    "import threading\n",
    "import functools\n",
    "\n",
    "PORT = 8000\n",
    "\n",
    "# general imports\n",
    "import os\n",
    "import torch\n",
    "from tqdm import tqdm\n",
    "import plotly.express as px"
   ]
  },
  {
   "cell_type": "code",
   "execution_count": null,
   "id": "7b02282e",
   "metadata": {},
   "outputs": [],
   "source": [
    "import torch\n",
    "import transformer_lens\n",
    "\n",
    "\n",
    "# TODO(bschoen): Just start using `transformer_lens.utils.get_device` from now on\n",
    "def get_best_available_torch_device() -> torch.device:\n",
    "    return transformer_lens.utils.get_device()"
   ]
  },
  {
   "cell_type": "code",
   "execution_count": null,
   "id": "fd81f01c",
   "metadata": {},
   "outputs": [],
   "source": [
    "from jaxtyping import Float, Int"
   ]
  },
  {
   "cell_type": "code",
   "execution_count": null,
   "id": "648ceb17",
   "metadata": {},
   "outputs": [],
   "source": [
    "from gpt_from_scratch import python_utils"
   ]
  },
  {
   "cell_type": "code",
   "execution_count": null,
   "id": "03d49543",
   "metadata": {},
   "outputs": [],
   "source": [
    "# imports from https://github.com/jbloomAus/SAELens/blob/main/tutorials/tutorial_2_0.ipynb\n",
    "import os\n",
    "import dataclasses\n",
    "\n",
    "import torch\n",
    "from tqdm import tqdm\n",
    "import plotly.express as px\n",
    "import pandas as pd\n",
    "import tabulate"
   ]
  },
  {
   "cell_type": "code",
   "execution_count": null,
   "id": "e11a8d93",
   "metadata": {},
   "outputs": [],
   "source": [
    "# disable autograd, as we're focused on inference and this save us a lot of speed, memory, and annoying boilerplate\n",
    "torch.set_grad_enabled(False)"
   ]
  },
  {
   "cell_type": "code",
   "execution_count": null,
   "id": "5d9be196",
   "metadata": {},
   "outputs": [],
   "source": [
    "def display_vis_inline(filename: str, height: int = 850):\n",
    "    \"\"\"\n",
    "    Displays the HTML files in Colab. Uses global `PORT` variable defined in prev cell, so that each\n",
    "    vis has a unique port without having to define a port within the function.\n",
    "    \"\"\"\n",
    "    if not (COLAB):\n",
    "        webbrowser.open(filename)\n",
    "\n",
    "    else:\n",
    "        global PORT\n",
    "\n",
    "        def serve(directory):\n",
    "            os.chdir(directory)\n",
    "\n",
    "            # Create a handler for serving files\n",
    "            handler = http.server.SimpleHTTPRequestHandler\n",
    "\n",
    "            # Create a socket server with the handler\n",
    "            with socketserver.TCPServer((\"\", PORT), handler) as httpd:\n",
    "                print(f\"Serving files from {directory} on port {PORT}\")\n",
    "                httpd.serve_forever()\n",
    "\n",
    "        thread = threading.Thread(target=serve, args=(\"/content\",))\n",
    "        thread.start()\n",
    "\n",
    "        output.serve_kernel_port_as_iframe(\n",
    "            PORT, path=f\"/{filename}\", height=height, cache_in_notebook=True\n",
    "        )\n",
    "\n",
    "        PORT += 1"
   ]
  },
  {
   "cell_type": "markdown",
   "id": "6c7124f5",
   "metadata": {},
   "source": [
    "# Load your model and SAE"
   ]
  },
  {
   "cell_type": "code",
   "execution_count": null,
   "id": "28135159",
   "metadata": {},
   "outputs": [],
   "source": [
    "device = get_best_available_torch_device()\n",
    "\n",
    "print(f\"Using device: {device}\")"
   ]
  },
  {
   "cell_type": "code",
   "execution_count": null,
   "id": "7de38629",
   "metadata": {},
   "outputs": [],
   "source": [
    "model = transformer_lens.HookedTransformer.from_pretrained(\n",
    "    \"gemma-2b\",\n",
    "    device=device,\n",
    ")"
   ]
  },
  {
   "cell_type": "code",
   "execution_count": null,
   "id": "4bf41ca2",
   "metadata": {},
   "outputs": [],
   "source": []
  }
 ],
 "metadata": {
  "kernelspec": {
   "display_name": "Python 3 (ipykernel)",
   "language": "python",
   "name": "python3"
  },
  "language_info": {
   "codemirror_mode": {
    "name": "ipython",
    "version": 3
   },
   "file_extension": ".py",
   "mimetype": "text/x-python",
   "name": "python",
   "nbconvert_exporter": "python",
   "pygments_lexer": "ipython3",
   "version": "3.12.5"
  }
 },
 "nbformat": 4,
 "nbformat_minor": 5
}
