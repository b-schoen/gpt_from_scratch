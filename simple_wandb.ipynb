{
 "cells": [
  {
   "cell_type": "code",
   "execution_count": 1,
   "id": "8136c449-8445-45fd-8d23-358f6e639e67",
   "metadata": {},
   "outputs": [],
   "source": [
    "# Autoimport on changes\n",
    "%load_ext autoreload\n",
    "%autoreload 2\n",
    "\n",
    "# Import commonly used libraries\n",
    "import numpy as np\n",
    "import pandas as pd\n",
    "\n",
    "import torch\n",
    "import torch.nn as nn\n",
    "import torch.optim as optim\n",
    "import torch.nn.functional as F\n",
    "\n",
    "# graphics\n",
    "import matplotlib.pyplot as plt\n",
    "import plotly.express as px\n",
    "import plotly.graph_objects as go\n",
    "\n",
    "# type annotation\n",
    "import jaxtyping\n",
    "from jaxtyping import Float32, Int64, jaxtyped\n",
    "from typeguard import typechecked as typechecker\n",
    "\n",
    "# more itertools\n",
    "import more_itertools as mi\n",
    "\n",
    "# itertools\n",
    "import itertools\n",
    "import collections\n",
    "\n",
    "# tensor manipulation\n",
    "from einops import rearrange, reduce, repeat\n",
    "\n",
    "# automatically apply jaxtyping\n",
    "%load_ext jaxtyping\n",
    "%jaxtyping.typechecker typeguard.typechecked"
   ]
  },
  {
   "cell_type": "code",
   "execution_count": 4,
   "id": "d91f8447",
   "metadata": {},
   "outputs": [],
   "source": [
    "import torch\n",
    "import torch.nn as nn\n",
    "import torch.optim as optim\n",
    "from torch.utils.data import Dataset, DataLoader\n",
    "import numpy as np\n",
    "\n",
    "import dataclasses\n",
    "import pprint\n",
    "\n",
    "import wandb\n",
    "\n",
    "import tqdm\n",
    "\n",
    "WANDB_PROJECT_NAME = \"simple_regression\"\n",
    "\n",
    "\n",
    "# Define a simple dataset\n",
    "class SimpleDataset(Dataset):\n",
    "    def __init__(self, num_samples: int = 1000):\n",
    "        \"\"\"\n",
    "        Initialize the dataset with random samples.\n",
    "\n",
    "        :param num_samples: Number of samples to generate\n",
    "        \"\"\"\n",
    "        self.x = torch.randn(num_samples, 10)  # 10 input features\n",
    "        self.y = torch.sum(self.x[:, :5], dim=1) - torch.sum(\n",
    "            self.x[:, 5:], dim=1\n",
    "        )  # Target is sum of first 5 features minus sum of last 5\n",
    "        self.y += torch.randn(num_samples) * 0.1  # Add some noise\n",
    "\n",
    "    def __len__(self) -> int:\n",
    "        return len(self.x)\n",
    "\n",
    "    def __getitem__(\n",
    "        self, idx: int\n",
    "    ) -> tuple[Float32[torch.Tensor, \"features\"], Float32[torch.Tensor, \"\"]]:\n",
    "        return self.x[idx], self.y[idx]\n",
    "\n",
    "\n",
    "class QuadraticDataset(Dataset):\n",
    "    def __init__(self, num_samples: int = 1000):\n",
    "        \"\"\"\n",
    "        Initialize the dataset with a quadratic pattern.\n",
    "\n",
    "        :param num_samples: Number of samples to generate\n",
    "        \"\"\"\n",
    "        self.x = torch.randn(num_samples, 5)  # 5 input features\n",
    "        self.y = torch.sum(self.x**2, dim=1)  # Sum of squared features\n",
    "        self.y += torch.randn(num_samples) * 0.1  # Add some noise\n",
    "\n",
    "    def __len__(self) -> int:\n",
    "        return len(self.x)\n",
    "\n",
    "    def __getitem__(\n",
    "        self, idx: int\n",
    "    ) -> tuple[Float32[torch.Tensor, \"features\"], Float32[torch.Tensor, \"\"]]:\n",
    "        return self.x[idx], self.y[idx]\n",
    "\n",
    "\n",
    "class ExponentialDataset(Dataset):\n",
    "    def __init__(self, num_samples: int = 1000):\n",
    "        \"\"\"\n",
    "        Initialize the dataset with an exponential pattern.\n",
    "\n",
    "        :param num_samples: Number of samples to generate\n",
    "        \"\"\"\n",
    "        self.x = torch.randn(num_samples, 5)  # 5 input features\n",
    "        self.y = torch.sum(torch.exp(self.x * 0.5), dim=1)  # Sum of exponentials\n",
    "        self.y = (self.y - self.y.mean()) / self.y.std()  # Normalize\n",
    "        self.y += torch.randn(num_samples) * 0.1  # Add some noise\n",
    "\n",
    "    def __len__(self) -> int:\n",
    "        return len(self.x)\n",
    "\n",
    "    def __getitem__(\n",
    "        self, idx: int\n",
    "    ) -> tuple[Float32[torch.Tensor, \"features\"], Float32[torch.Tensor, \"\"]]:\n",
    "        return self.x[idx], self.y[idx]\n",
    "\n",
    "\n",
    "class SinusoidalDataset(Dataset):\n",
    "    def __init__(self, num_samples: int = 1000):\n",
    "        \"\"\"\n",
    "        Initialize the dataset with a sinusoidal pattern.\n",
    "\n",
    "        :param num_samples: Number of samples to generate\n",
    "        \"\"\"\n",
    "        self.x = torch.randn(num_samples, 5)  # 5 input features\n",
    "        self.y = torch.sum(torch.sin(self.x), dim=1)  # Sum of sines\n",
    "        self.y += torch.randn(num_samples) * 0.1  # Add some noise\n",
    "\n",
    "    def __len__(self) -> int:\n",
    "        return len(self.x)\n",
    "\n",
    "    def __getitem__(\n",
    "        self, idx: int\n",
    "    ) -> tuple[Float32[torch.Tensor, \"features\"], Float32[torch.Tensor, \"\"]]:\n",
    "        return self.x[idx], self.y[idx]\n",
    "\n",
    "\n",
    "class InteractionDataset(Dataset):\n",
    "    def __init__(self, num_samples: int = 1000):\n",
    "        \"\"\"\n",
    "        Initialize the dataset with feature interactions.\n",
    "\n",
    "        :param num_samples: Number of samples to generate\n",
    "        \"\"\"\n",
    "        self.x = torch.randn(num_samples, 5)  # 5 input features\n",
    "        self.y = (\n",
    "            self.x[:, 0] * self.x[:, 1] + self.x[:, 2] * self.x[:, 3] + self.x[:, 4]\n",
    "        )\n",
    "        self.y += torch.randn(num_samples) * 0.1  # Add some noise\n",
    "\n",
    "    def __len__(self) -> int:\n",
    "        return len(self.x)\n",
    "\n",
    "    def __getitem__(\n",
    "        self, idx: int\n",
    "    ) -> tuple[Float32[torch.Tensor, \"features\"], Float32[torch.Tensor, \"\"]]:\n",
    "        return self.x[idx], self.y[idx]\n",
    "\n",
    "\n",
    "class ComplexDataset(Dataset):\n",
    "    def __init__(self, num_samples: int = 1000):\n",
    "        \"\"\"\n",
    "        Initialize a complex dataset combining multiple patterns.\n",
    "\n",
    "        :param num_samples: Number of samples to generate\n",
    "        \"\"\"\n",
    "        self.x = torch.randn(num_samples, 10)  # 10 input features\n",
    "\n",
    "        # Combine different patterns for each group of features\n",
    "        self.y = torch.zeros(num_samples)\n",
    "\n",
    "        # Quadratic pattern for first two features\n",
    "        self.y += torch.sum(self.x[:, :2] ** 2, dim=1)\n",
    "\n",
    "        # Exponential pattern for next two features\n",
    "        self.y += torch.sum(torch.exp(self.x[:, 2:4] * 0.5), dim=1)\n",
    "\n",
    "        # Sinusoidal pattern for next two features\n",
    "        self.y += torch.sum(torch.sin(self.x[:, 4:6]), dim=1)\n",
    "\n",
    "        # Interaction between next two features\n",
    "        self.y += self.x[:, 6] * self.x[:, 7]\n",
    "\n",
    "        # Linear combination of last two features\n",
    "        self.y += 2 * self.x[:, 8] - 3 * self.x[:, 9]\n",
    "\n",
    "        # Add non-linear transformation\n",
    "        self.y = torch.tanh(self.y)\n",
    "\n",
    "        # Normalize\n",
    "        self.y = (self.y - self.y.mean()) / self.y.std()\n",
    "\n",
    "        # Add some noise\n",
    "        self.y += torch.randn(num_samples) * 0.05\n",
    "\n",
    "    def __len__(self) -> int:\n",
    "        return len(self.x)\n",
    "\n",
    "    def __getitem__(\n",
    "        self, idx: int\n",
    "    ) -> tuple[Float32[torch.Tensor, \"features\"], Float32[torch.Tensor, \"\"]]:\n",
    "        return self.x[idx], self.y[idx]\n",
    "\n",
    "\n",
    "class MultiClassDataset(Dataset):\n",
    "    def __init__(self, num_samples: int = 1000, num_classes: int = 10):\n",
    "        \"\"\"\n",
    "        Initialize a multi-class dataset for classification tasks.\n",
    "\n",
    "        :param num_samples: Number of samples to generate\n",
    "        :param num_classes: Number of classes for classification\n",
    "        \"\"\"\n",
    "        self.num_classes = num_classes\n",
    "        self.x = torch.randn(num_samples, 10)  # 10 input features\n",
    "\n",
    "        # Generate class probabilities\n",
    "        logits = torch.zeros(num_samples, num_classes)\n",
    "\n",
    "        # Create complex decision boundaries\n",
    "        for i in range(num_classes):\n",
    "            # Use different combinations of features for each class\n",
    "            # - The sinusoidal term adds periodic non-linearity.\n",
    "            # - The quadratic term adds parabolic curvature.\n",
    "            # - The exponential term adds rapid growth for positive values.\n",
    "            # - The interaction term captures pairwise feature interactions.\n",
    "\n",
    "            logits[:, i] = (\n",
    "                torch.sin(\n",
    "                    self.x[:, i] + self.x[:, (i + 1) % 10]\n",
    "                )  # Non-linear combination\n",
    "                + self.x[:, (i + 2) % 10] ** 2  # Quadratic term\n",
    "                + torch.exp(self.x[:, (i + 3) % 10] * 0.1)  # Exponential term\n",
    "                + self.x[:, (i + 4) % 10] * self.x[:, (i + 5) % 10]  # Interaction term\n",
    "            )\n",
    "\n",
    "        # Convert logits to probabilities\n",
    "        self.probs = F.softmax(logits, dim=1)\n",
    "\n",
    "        # Sample classes based on probabilities\n",
    "        self.y = torch.multinomial(self.probs, 1).squeeze()\n",
    "\n",
    "    def __len__(self) -> int:\n",
    "        return len(self.x)\n",
    "\n",
    "    def __getitem__(\n",
    "        self, idx: int\n",
    "    ) -> tuple[Float32[torch.Tensor, \"features\"], Int64[torch.Tensor, \"\"]]:\n",
    "        return self.x[idx], self.y[idx]\n",
    "\n",
    "    def get_class_probabilities(self, idx: int) -> Float32[torch.Tensor, \"num_classes\"]:\n",
    "        \"\"\"\n",
    "        Get the probability distribution over classes for a specific sample.\n",
    "\n",
    "        :param idx: Index of the sample\n",
    "        :return: Probability distribution over classes\n",
    "        \"\"\"\n",
    "        return self.probs[idx]\n",
    "\n",
    "\n",
    "@dataclasses.dataclass\n",
    "class SimpleNetConfig:\n",
    "    d_model: int\n",
    "    n_layers: int\n",
    "\n",
    "    d_input: int = 10\n",
    "    d_output: int = 10\n",
    "\n",
    "\n",
    "# Define a simple neural network\n",
    "\n",
    "\n",
    "class SimpleNet(nn.Module):\n",
    "    def __init__(self, cfg: SimpleNetConfig) -> None:\n",
    "        \"\"\"\n",
    "        Initialize the neural network with multiple hidden layers for multi-class classification.\n",
    "        \"\"\"\n",
    "        super(SimpleNet, self).__init__()\n",
    "\n",
    "        self.cfg = cfg\n",
    "\n",
    "        # Input layer: 10 features to d_model\n",
    "        self.input_layer = nn.Linear(self.cfg.d_input, self.cfg.d_model)\n",
    "        self.activation_fn = nn.ReLU()\n",
    "\n",
    "        # Hidden layers\n",
    "        self.hidden_layers = nn.Sequential(\n",
    "            *[\n",
    "                nn.Sequential(\n",
    "                    nn.Linear(self.cfg.d_model, self.cfg.d_model),\n",
    "                    nn.ReLU(),\n",
    "                )\n",
    "                for _ in range(cfg.n_layers)\n",
    "            ]\n",
    "        )\n",
    "\n",
    "        # Output layer: d_model to num_classes (10 for MultiClassDataset)\n",
    "        self.output_layer = nn.Linear(self.cfg.d_model, self.cfg.d_output)\n",
    "\n",
    "    def forward(\n",
    "        self,\n",
    "        x: Float32[torch.Tensor, \"batch features\"],\n",
    "    ) -> Float32[torch.Tensor, \"batch num_classes\"]:\n",
    "        \"\"\"\n",
    "        Forward pass of the network for multi-class classification.\n",
    "\n",
    "        :param x: Input tensor\n",
    "        :return: Logits for each class\n",
    "        \"\"\"\n",
    "        # Apply activation_fn after input layer\n",
    "        x = self.activation_fn(self.input_layer(x))\n",
    "\n",
    "        # Hidden layers already have activation_fn\n",
    "        x = self.hidden_layers(x)\n",
    "\n",
    "        # No activation_fn after output layer (logits)\n",
    "        x = self.output_layer(x)\n",
    "\n",
    "        return x  # Return logits for all classes\n",
    "\n",
    "\n",
    "@dataclasses.dataclass\n",
    "class TrainingConfig:\n",
    "    # model\n",
    "    model_cfg: SimpleNetConfig\n",
    "\n",
    "    # data\n",
    "    num_samples: int = 10000\n",
    "\n",
    "    # training\n",
    "    num_epochs: int = 1000\n",
    "    test_interval: int = 100\n",
    "\n",
    "    # optimizer\n",
    "    learning_rate: float = 0.001\n",
    "    batch_size: int = 32\n",
    "\n",
    "\n",
    "def train(cfg: TrainingConfig) -> None:\n",
    "\n",
    "    # Determine the device to use\n",
    "    device = (\n",
    "        torch.device(\"mps\")\n",
    "        if torch.backends.mps.is_available()\n",
    "        else torch.device(\"cpu\")\n",
    "    )\n",
    "    print(f\"Using device: {device}\")\n",
    "\n",
    "    # Create dataset and dataloader\n",
    "    dataset = MultiClassDataset(\n",
    "        num_samples=cfg.num_samples\n",
    "    )  # Changed to MultiClassDataset\n",
    "    dataloader = DataLoader(dataset, batch_size=cfg.batch_size, shuffle=True)\n",
    "\n",
    "    # Initialize the model, loss function, and optimizer\n",
    "    model = SimpleNet(cfg=cfg.model_cfg)\n",
    "    model = model.to(device)\n",
    "    criterion = (\n",
    "        nn.CrossEntropyLoss()\n",
    "    )  # Changed to CrossEntropyLoss for multi-class classification\n",
    "    optimizer = optim.AdamW(model.parameters(), lr=cfg.learning_rate)\n",
    "\n",
    "    # TODO(bschoen): Plot from optimizer\n",
    "    \"\"\"\n",
    "    params\n",
    "    lr\n",
    "    betas\n",
    "    eps\n",
    "    weight_decay\n",
    "    amsgrad\n",
    "    foreach\n",
    "    maximize\n",
    "    capturable\n",
    "    differentiable\n",
    "    fused\n",
    "    \"\"\"\n",
    "    # for param_group in optimizer.param_groups:\n",
    "    #    for key in param_group:\n",
    "    #        print(key)\n",
    "\n",
    "    # We'll use these in the next cell for training\n",
    "    # Initialize wandb\n",
    "    # wandb.init(\n",
    "    #     project=WANDB_PROJECT_NAME,\n",
    "    #    config=dataclasses.asdict(cfg),\n",
    "    # )\n",
    "\n",
    "    # watch model and criterion\n",
    "    wandb.watch(\n",
    "        [model],\n",
    "        criterion=criterion,\n",
    "        log_freq=100,\n",
    "        log=\"all\",\n",
    "    )\n",
    "\n",
    "    # Training loop\n",
    "    for epoch in range(cfg.num_epochs):\n",
    "        model.train()\n",
    "        epoch_loss = 0.0\n",
    "\n",
    "        # for batch_x, batch_y in tqdm.tqdm(\n",
    "        #    desc=\"Iterating batches...\",\n",
    "        #    iterable=dataloader,\n",
    "        # ):\n",
    "        for batch_x, batch_y in dataloader:\n",
    "\n",
    "            batch_x, batch_y = batch_x.to(device), batch_y.to(device)\n",
    "\n",
    "            # Forward pass\n",
    "            outputs = model(batch_x)\n",
    "\n",
    "            # No need to assert shape equality for multi-class classification\n",
    "            # as CrossEntropyLoss expects logits and class indices\n",
    "\n",
    "            loss = criterion(outputs, batch_y)\n",
    "\n",
    "            # Backward pass and optimization\n",
    "            loss.backward()\n",
    "            optimizer.step()\n",
    "\n",
    "            optimizer.zero_grad()\n",
    "\n",
    "            epoch_loss += loss.item()\n",
    "\n",
    "        # Calculate average loss for the epoch\n",
    "        avg_loss = epoch_loss / len(dataloader)\n",
    "\n",
    "        # Compute test loss every n epochs (or once at very end)\n",
    "        if ((epoch + 1) % cfg.test_interval == 0) or (epoch == cfg.num_epochs - 1):\n",
    "\n",
    "            # Compute test loss\n",
    "            model.eval()\n",
    "            test_loss = 0.0\n",
    "            correct = 0\n",
    "            total = 0\n",
    "            with torch.no_grad():\n",
    "                for batch_x, batch_y in dataloader:\n",
    "                    batch_x, batch_y = batch_x.to(device), batch_y.to(device)\n",
    "                    test_outputs = model(batch_x)\n",
    "                    test_loss += criterion(test_outputs, batch_y).item()\n",
    "                    _, predicted = torch.max(test_outputs.data, 1)\n",
    "                    total += batch_y.size(0)\n",
    "                    correct += (predicted == batch_y).sum().item()\n",
    "            avg_test_loss = test_loss / len(dataloader)\n",
    "            accuracy = 100 * correct / total\n",
    "            model.train()\n",
    "\n",
    "            # print progress\n",
    "            print(\n",
    "                f\"Epoch [{epoch+1}/{cfg.num_epochs}], \"\n",
    "                f\"Train Loss: {avg_loss:.4f}, Test Loss: {avg_test_loss:.4f}, \"\n",
    "                f\"Accuracy: {accuracy:.2f}%\"\n",
    "            )\n",
    "\n",
    "            # Log metrics to wandb\n",
    "            wandb.log(\n",
    "                {\n",
    "                    \"epoch\": epoch,\n",
    "                    \"train_loss\": avg_loss,\n",
    "                    \"test_loss\": avg_test_loss,\n",
    "                    \"accuracy\": accuracy,\n",
    "                }\n",
    "            )\n",
    "\n",
    "        # At least print test loss every 1/10 epochs\n",
    "        elif ((epoch + 1) % (cfg.num_epochs // 10)) == 0:\n",
    "            print(f\"Epoch [{epoch+1}/{cfg.num_epochs}] Train Loss: {avg_loss:.6f}\")\n",
    "\n",
    "    # Finish the wandb run\n",
    "    wandb.finish()\n",
    "\n",
    "    print(\"Training completed!\")"
   ]
  },
  {
   "cell_type": "code",
   "execution_count": 8,
   "id": "aff90f0a",
   "metadata": {},
   "outputs": [
    {
     "data": {
      "text/html": [
       "wandb version 0.17.8 is available!  To upgrade, please run:\n",
       " $ pip install wandb --upgrade"
      ],
      "text/plain": [
       "<IPython.core.display.HTML object>"
      ]
     },
     "metadata": {},
     "output_type": "display_data"
    },
    {
     "data": {
      "text/html": [
       "Tracking run with wandb version 0.17.7"
      ],
      "text/plain": [
       "<IPython.core.display.HTML object>"
      ]
     },
     "metadata": {},
     "output_type": "display_data"
    },
    {
     "data": {
      "text/html": [
       "Run data is saved locally in <code>/Users/bronsonschoen/gpt_from_scratch/wandb/run-20240904_185824-mdajgyvm</code>"
      ],
      "text/plain": [
       "<IPython.core.display.HTML object>"
      ]
     },
     "metadata": {},
     "output_type": "display_data"
    },
    {
     "data": {
      "text/html": [
       "Syncing run <strong><a href='https://wandb.ai/bronsonschoen-personal-use/simple_regression/runs/mdajgyvm' target=\"_blank\">dark-fog-183</a></strong> to <a href='https://wandb.ai/bronsonschoen-personal-use/simple_regression' target=\"_blank\">Weights & Biases</a> (<a href='https://wandb.me/run' target=\"_blank\">docs</a>)<br/>"
      ],
      "text/plain": [
       "<IPython.core.display.HTML object>"
      ]
     },
     "metadata": {},
     "output_type": "display_data"
    },
    {
     "data": {
      "text/html": [
       " View project at <a href='https://wandb.ai/bronsonschoen-personal-use/simple_regression' target=\"_blank\">https://wandb.ai/bronsonschoen-personal-use/simple_regression</a>"
      ],
      "text/plain": [
       "<IPython.core.display.HTML object>"
      ]
     },
     "metadata": {},
     "output_type": "display_data"
    },
    {
     "data": {
      "text/html": [
       " View run at <a href='https://wandb.ai/bronsonschoen-personal-use/simple_regression/runs/mdajgyvm' target=\"_blank\">https://wandb.ai/bronsonschoen-personal-use/simple_regression/runs/mdajgyvm</a>"
      ],
      "text/plain": [
       "<IPython.core.display.HTML object>"
      ]
     },
     "metadata": {},
     "output_type": "display_data"
    },
    {
     "name": "stdout",
     "output_type": "stream",
     "text": [
      "Using device: mps\n",
      "Epoch [1/10], Train Loss: 1.9145, Test Loss: 1.7449, Accuracy: 43.32%\n",
      "Epoch [2/10], Train Loss: 1.6732, Test Loss: 1.5893, Accuracy: 49.17%\n",
      "Epoch [3/10], Train Loss: 1.5650, Test Loss: 1.5042, Accuracy: 50.89%\n",
      "Epoch [4/10], Train Loss: 1.5209, Test Loss: 1.5057, Accuracy: 50.58%\n",
      "Epoch [5/10], Train Loss: 1.5042, Test Loss: 1.4846, Accuracy: 51.12%\n",
      "Epoch [6/10], Train Loss: 1.4943, Test Loss: 1.4571, Accuracy: 52.06%\n",
      "Epoch [7/10], Train Loss: 1.4873, Test Loss: 1.4399, Accuracy: 52.59%\n",
      "Epoch [8/10], Train Loss: 1.4789, Test Loss: 1.4516, Accuracy: 52.24%\n",
      "Epoch [9/10], Train Loss: 1.4734, Test Loss: 1.4794, Accuracy: 51.50%\n",
      "Epoch [10/10], Train Loss: 1.4692, Test Loss: 1.4398, Accuracy: 52.32%\n"
     ]
    },
    {
     "data": {
      "application/vnd.jupyter.widget-view+json": {
       "model_id": "19a04c62648c4e98b8f731012b08aea4",
       "version_major": 2,
       "version_minor": 0
      },
      "text/plain": [
       "VBox(children=(Label(value='0.001 MB of 0.048 MB uploaded\\r'), FloatProgress(value=0.024206732189635816, max=1…"
      ]
     },
     "metadata": {},
     "output_type": "display_data"
    },
    {
     "data": {
      "text/html": [
       "<style>\n",
       "    table.wandb td:nth-child(1) { padding: 0 10px; text-align: left ; width: auto;} td:nth-child(2) {text-align: left ; width: 100%}\n",
       "    .wandb-row { display: flex; flex-direction: row; flex-wrap: wrap; justify-content: flex-start; width: 100% }\n",
       "    .wandb-col { display: flex; flex-direction: column; flex-basis: 100%; flex: 1; padding: 10px; }\n",
       "    </style>\n",
       "<div class=\"wandb-row\"><div class=\"wandb-col\"><h3>Run history:</h3><br/><table class=\"wandb\"><tr><td>accuracy</td><td>▁▅▇▆▇███▇█</td></tr><tr><td>epoch</td><td>▁▂▃▃▄▅▆▆▇█</td></tr><tr><td>test_loss</td><td>█▄▂▃▂▁▁▁▂▁</td></tr><tr><td>train_loss</td><td>█▄▃▂▂▁▁▁▁▁</td></tr></table><br/></div><div class=\"wandb-col\"><h3>Run summary:</h3><br/><table class=\"wandb\"><tr><td>accuracy</td><td>52.319</td></tr><tr><td>epoch</td><td>9</td></tr><tr><td>test_loss</td><td>1.43982</td></tr><tr><td>train_loss</td><td>1.46924</td></tr></table><br/></div></div>"
      ],
      "text/plain": [
       "<IPython.core.display.HTML object>"
      ]
     },
     "metadata": {},
     "output_type": "display_data"
    },
    {
     "data": {
      "text/html": [
       " View run <strong style=\"color:#cdcd00\">dark-fog-183</strong> at: <a href='https://wandb.ai/bronsonschoen-personal-use/simple_regression/runs/mdajgyvm' target=\"_blank\">https://wandb.ai/bronsonschoen-personal-use/simple_regression/runs/mdajgyvm</a><br/> View project at: <a href='https://wandb.ai/bronsonschoen-personal-use/simple_regression' target=\"_blank\">https://wandb.ai/bronsonschoen-personal-use/simple_regression</a><br/>Synced 5 W&B file(s), 0 media file(s), 0 artifact file(s) and 0 other file(s)"
      ],
      "text/plain": [
       "<IPython.core.display.HTML object>"
      ]
     },
     "metadata": {},
     "output_type": "display_data"
    },
    {
     "data": {
      "text/html": [
       "Find logs at: <code>./wandb/run-20240904_185824-mdajgyvm/logs</code>"
      ],
      "text/plain": [
       "<IPython.core.display.HTML object>"
      ]
     },
     "metadata": {},
     "output_type": "display_data"
    },
    {
     "data": {
      "text/html": [
       "The new W&B backend becomes opt-out in version 0.18.0; try it out with `wandb.require(\"core\")`! See https://wandb.me/wandb-core for more information."
      ],
      "text/plain": [
       "<IPython.core.display.HTML object>"
      ]
     },
     "metadata": {},
     "output_type": "display_data"
    },
    {
     "name": "stdout",
     "output_type": "stream",
     "text": [
      "Training completed!\n"
     ]
    }
   ],
   "source": [
    "# TODO(bschoen): Use wandb to plot adam\n",
    "cfg = TrainingConfig(\n",
    "    model_cfg=SimpleNetConfig(d_model=64, n_layers=4),  # Increase model capacity\n",
    "    num_samples=100000,\n",
    "    num_epochs=10,  # Train for longer\n",
    "    test_interval=1,\n",
    "    learning_rate=1e-2,  # Adjust learning rate\n",
    "    batch_size=64,  # Increase batch size\n",
    ")\n",
    "\n",
    "wandb.init(project=WANDB_PROJECT_NAME, config=dataclasses.asdict(cfg))\n",
    "\n",
    "train(cfg)"
   ]
  },
  {
   "cell_type": "markdown",
   "id": "723dde06",
   "metadata": {},
   "source": [
    "# Sweep Configuration For Hyperparameter Search"
   ]
  },
  {
   "cell_type": "code",
   "execution_count": null,
   "id": "244cca39",
   "metadata": {},
   "outputs": [],
   "source": [
    "sweep_configuration = {\n",
    "    \"name\": \"sweepdemo\",\n",
    "    \"method\": \"bayes\",\n",
    "    \"metric\": {\"goal\": \"minimize\", \"name\": \"test_loss\"},\n",
    "    \"parameters\": {\n",
    "        \"d_model\": {\"values\": [8, 16, 32, 64, 128]},\n",
    "        \"n_layers\": {\"min\": 1, \"max\": 16},\n",
    "        \"learning_rate\": {\n",
    "            # a flat distribution between 0 and 0.1\n",
    "            \"distribution\": \"uniform\",\n",
    "            \"min\": 0,\n",
    "            \"max\": 0.1,\n",
    "        },\n",
    "        \"batch_size\": {\n",
    "            \"distribution\": \"q_log_uniform_values\",\n",
    "            \"max\": 256,\n",
    "            \"min\": 32,\n",
    "            \"q\": 8,\n",
    "        },\n",
    "        \"num_epochs\": {\"value\": 100},\n",
    "        \"test_interval\": {\"value\": 1000},\n",
    "        # \"optimizer\": {\"values\": [\"adam\", \"sgd\", \"adamw\", \"rmsprop\"]},\n",
    "    },\n",
    "}"
   ]
  },
  {
   "cell_type": "code",
   "execution_count": null,
   "id": "83541ab3",
   "metadata": {},
   "outputs": [],
   "source": [
    "def train_wandb() -> None:\n",
    "\n",
    "    # construct training config from wandb\n",
    "\n",
    "    wandb.init(project=WANDB_PROJECT_NAME)\n",
    "\n",
    "    # TODO(bschoen): What's the usual way to init config from here so don't copy explicitly\n",
    "    # - usually will have this as completely flatten so can directly grab from\n",
    "    #\n",
    "    # `wandb.config` accesses current sweep params\n",
    "    cfg = TrainingConfig(\n",
    "        model_cfg=SimpleNetConfig(\n",
    "            d_model=wandb.config[\"d_model\"],\n",
    "            n_layers=wandb.config[\"n_layers\"],\n",
    "        ),  # Increase model capacity\n",
    "        num_samples=1000,\n",
    "        num_epochs=wandb.config[\"num_epochs\"],\n",
    "        test_interval=wandb.config[\"test_interval\"],\n",
    "        learning_rate=wandb.config[\"learning_rate\"],\n",
    "        batch_size=wandb.config[\"batch_size\"],\n",
    "    )\n",
    "\n",
    "    train(cfg)"
   ]
  },
  {
   "cell_type": "code",
   "execution_count": null,
   "id": "33b8a732",
   "metadata": {},
   "outputs": [],
   "source": [
    "wandb.agent?"
   ]
  },
  {
   "cell_type": "markdown",
   "id": "f5023732",
   "metadata": {},
   "source": [
    "## Intuition on Hyperparam Runs\n",
    "\n",
    "* Bad hyperparameters are usually clearly worse by the end of the **first 1-2 epochs.**\n",
    "\n",
    "* You can manually abort runs that don't look promising, or you can try to do it automatically\n",
    "  * **Hyperband** is a popular algorithm for this.\n",
    "\n",
    "* Starting with a smaller ResNet than the full ResNet34 is a good idea. \n",
    "  * Good hyperparameters on the small model tend to transfer over to the larger model because the architecture and the data are the same\n",
    "\n",
    "\n",
    "    * the main difference is the **larger model** may require **more regularization** to prevent overfitting."
   ]
  },
  {
   "cell_type": "code",
   "execution_count": null,
   "id": "ef6b4a21",
   "metadata": {},
   "outputs": [],
   "source": []
  },
  {
   "cell_type": "code",
   "execution_count": null,
   "id": "5f413205",
   "metadata": {},
   "outputs": [],
   "source": [
    "sweep_id = wandb.sweep(\n",
    "    sweep=sweep_configuration,\n",
    "    project=WANDB_PROJECT_NAME,\n",
    ")\n",
    "\n",
    "num_trials = 100\n",
    "\n",
    "# Inu\n",
    "# TODO(bschoen): Use hyperband to abort sweep early [](https://www.jmlr.org/papers/volume18/16-558/16-558.pdf)\n",
    "# - popular to use\n",
    "#\n",
    "# note: Larger batch size increases GPU memory usage and doubling batch size often allows doubling learning rate, up to a point where this relationship breaks down.\n",
    "wandb.agent(\n",
    "    sweep_id=sweep_id,\n",
    "    function=train_wandb,\n",
    "    count=num_trials,\n",
    ")\n",
    "\n",
    "wandb.finish()"
   ]
  },
  {
   "cell_type": "markdown",
   "id": "89bbae31",
   "metadata": {},
   "source": [
    "# Scaling Laws"
   ]
  },
  {
   "cell_type": "code",
   "execution_count": 10,
   "id": "1172e673",
   "metadata": {},
   "outputs": [],
   "source": [
    "# MSE - pretty clean scaling on model size: https://wandb.ai/bronsonschoen-personal-use/simple_regression/sweeps/c0ivdnhj?nw=nwuserbronsonschoen\n",
    "#\n",
    "# CrossEntropy\n",
    "# - https://wandb.ai/bronsonschoen-personal-use/simple_regression/sweeps/m0p58ake?nw=nwuserbronsonschoen\n",
    "#\n",
    "#\n",
    "sweep_configuration = {\n",
    "    \"name\": \"scaling_laws\",\n",
    "    # important that this is random, so it shows everything\n",
    "    \"method\": \"random\",\n",
    "    \"metric\": {\"goal\": \"minimize\", \"name\": \"test_loss\"},\n",
    "    \"parameters\": {\n",
    "        \"d_model\": {\n",
    "            \"values\": [1, 2, 4, 8, 16, 32, 64, 128, 256, 512, 1024, 2048, 4096]\n",
    "        },\n",
    "        # \"d_model\": {\"min\": 1, \"max\": 4096},\n",
    "        \"n_layers\": {\"value\": 4},\n",
    "        \"batch_size\": {\"value\": 64},\n",
    "        # \"num_samples\": { \"values\": [1e1, 1e2, 1e3, 1e4, 1e5, 1e6, 1e7, 1e8, 1e9, 1e10]},\n",
    "        \"num_samples\": {\"value\": 100000},\n",
    "        \"num_epochs\": {\"value\": 1},\n",
    "        \"test_interval\": {\"value\": 1e20},\n",
    "        # \"optimizer\": {\"values\": [\"adam\", \"sgd\", \"adamw\", \"rmsprop\"]},\n",
    "    },\n",
    "}"
   ]
  },
  {
   "cell_type": "code",
   "execution_count": 11,
   "id": "4f278a9f",
   "metadata": {},
   "outputs": [],
   "source": [
    "import math\n",
    "\n",
    "\n",
    "def train_wandb_scaling() -> None:\n",
    "\n",
    "    # construct training config from wandb\n",
    "\n",
    "    wandb.init(project=WANDB_PROJECT_NAME)\n",
    "\n",
    "    d_model = wandb.config[\"d_model\"]\n",
    "    num_samples = wandb.config[\"num_samples\"]\n",
    "\n",
    "    # learning rate scales at `1 / sqrt(d_model)`\n",
    "    base_learning_rate = 1e-2\n",
    "    learning_rate = base_learning_rate * (1 / math.sqrt(d_model))\n",
    "\n",
    "    # TODO(bschoen): What's the usual way to init config from here so don't copy explicitly\n",
    "    # - usually will have this as completely flatten so can directly grab from\n",
    "    #\n",
    "    # `wandb.config` accesses current sweep params\n",
    "    cfg = TrainingConfig(\n",
    "        model_cfg=SimpleNetConfig(\n",
    "            d_model=d_model,\n",
    "            n_layers=wandb.config[\"n_layers\"],\n",
    "        ),  # Increase model capacity\n",
    "        num_samples=num_samples,\n",
    "        num_epochs=wandb.config[\"num_epochs\"],\n",
    "        test_interval=wandb.config[\"test_interval\"],\n",
    "        learning_rate=learning_rate,\n",
    "        batch_size=wandb.config[\"batch_size\"],\n",
    "    )\n",
    "\n",
    "    train(cfg)"
   ]
  },
  {
   "cell_type": "code",
   "execution_count": 12,
   "id": "3b516ed2",
   "metadata": {},
   "outputs": [
    {
     "name": "stdout",
     "output_type": "stream",
     "text": [
      "Create sweep with ID: m0p58ake\n",
      "Sweep URL: https://wandb.ai/bronsonschoen-personal-use/simple_regression/sweeps/m0p58ake\n"
     ]
    },
    {
     "name": "stderr",
     "output_type": "stream",
     "text": [
      "\u001b[34m\u001b[1mwandb\u001b[0m: Agent Starting Run: tyc382v8 with config:\n",
      "\u001b[34m\u001b[1mwandb\u001b[0m: \tbatch_size: 64\n",
      "\u001b[34m\u001b[1mwandb\u001b[0m: \td_model: 64\n",
      "\u001b[34m\u001b[1mwandb\u001b[0m: \tn_layers: 4\n",
      "\u001b[34m\u001b[1mwandb\u001b[0m: \tnum_epochs: 1\n",
      "\u001b[34m\u001b[1mwandb\u001b[0m: \tnum_samples: 100000\n",
      "\u001b[34m\u001b[1mwandb\u001b[0m: \ttest_interval: 100000000000000000000\n",
      "Failed to detect the name of this notebook, you can set it manually with the WANDB_NOTEBOOK_NAME environment variable to enable code saving.\n",
      "\u001b[34m\u001b[1mwandb\u001b[0m: \u001b[33mWARNING\u001b[0m Ignored wandb.init() arg project when running a sweep.\n"
     ]
    },
    {
     "data": {
      "text/html": [
       "wandb version 0.17.8 is available!  To upgrade, please run:\n",
       " $ pip install wandb --upgrade"
      ],
      "text/plain": [
       "<IPython.core.display.HTML object>"
      ]
     },
     "metadata": {},
     "output_type": "display_data"
    },
    {
     "data": {
      "text/html": [
       "Tracking run with wandb version 0.17.7"
      ],
      "text/plain": [
       "<IPython.core.display.HTML object>"
      ]
     },
     "metadata": {},
     "output_type": "display_data"
    },
    {
     "data": {
      "text/html": [
       "Run data is saved locally in <code>/Users/bronsonschoen/gpt_from_scratch/wandb/run-20240904_194246-tyc382v8</code>"
      ],
      "text/plain": [
       "<IPython.core.display.HTML object>"
      ]
     },
     "metadata": {},
     "output_type": "display_data"
    },
    {
     "data": {
      "text/html": [
       "Syncing run <strong><a href='https://wandb.ai/bronsonschoen-personal-use/simple_regression/runs/tyc382v8' target=\"_blank\">kind-sweep-1</a></strong> to <a href='https://wandb.ai/bronsonschoen-personal-use/simple_regression' target=\"_blank\">Weights & Biases</a> (<a href='https://wandb.me/run' target=\"_blank\">docs</a>)<br/>Sweep page: <a href='https://wandb.ai/bronsonschoen-personal-use/simple_regression/sweeps/m0p58ake' target=\"_blank\">https://wandb.ai/bronsonschoen-personal-use/simple_regression/sweeps/m0p58ake</a>"
      ],
      "text/plain": [
       "<IPython.core.display.HTML object>"
      ]
     },
     "metadata": {},
     "output_type": "display_data"
    },
    {
     "data": {
      "text/html": [
       " View project at <a href='https://wandb.ai/bronsonschoen-personal-use/simple_regression' target=\"_blank\">https://wandb.ai/bronsonschoen-personal-use/simple_regression</a>"
      ],
      "text/plain": [
       "<IPython.core.display.HTML object>"
      ]
     },
     "metadata": {},
     "output_type": "display_data"
    },
    {
     "data": {
      "text/html": [
       " View sweep at <a href='https://wandb.ai/bronsonschoen-personal-use/simple_regression/sweeps/m0p58ake' target=\"_blank\">https://wandb.ai/bronsonschoen-personal-use/simple_regression/sweeps/m0p58ake</a>"
      ],
      "text/plain": [
       "<IPython.core.display.HTML object>"
      ]
     },
     "metadata": {},
     "output_type": "display_data"
    },
    {
     "data": {
      "text/html": [
       " View run at <a href='https://wandb.ai/bronsonschoen-personal-use/simple_regression/runs/tyc382v8' target=\"_blank\">https://wandb.ai/bronsonschoen-personal-use/simple_regression/runs/tyc382v8</a>"
      ],
      "text/plain": [
       "<IPython.core.display.HTML object>"
      ]
     },
     "metadata": {},
     "output_type": "display_data"
    },
    {
     "name": "stdout",
     "output_type": "stream",
     "text": [
      "Using device: mps\n",
      "Epoch [1/1], Train Loss: 1.6528, Test Loss: 1.4495, Accuracy: 51.53%\n"
     ]
    },
    {
     "data": {
      "application/vnd.jupyter.widget-view+json": {
       "model_id": "4132c8a2b65341febdcfd00f5905f2cc",
       "version_major": 2,
       "version_minor": 0
      },
      "text/plain": [
       "VBox(children=(Label(value='0.001 MB of 0.048 MB uploaded\\r'), FloatProgress(value=0.024220566788853416, max=1…"
      ]
     },
     "metadata": {},
     "output_type": "display_data"
    },
    {
     "data": {
      "text/html": [
       "<style>\n",
       "    table.wandb td:nth-child(1) { padding: 0 10px; text-align: left ; width: auto;} td:nth-child(2) {text-align: left ; width: 100%}\n",
       "    .wandb-row { display: flex; flex-direction: row; flex-wrap: wrap; justify-content: flex-start; width: 100% }\n",
       "    .wandb-col { display: flex; flex-direction: column; flex-basis: 100%; flex: 1; padding: 10px; }\n",
       "    </style>\n",
       "<div class=\"wandb-row\"><div class=\"wandb-col\"><h3>Run history:</h3><br/><table class=\"wandb\"><tr><td>accuracy</td><td>▁</td></tr><tr><td>epoch</td><td>▁</td></tr><tr><td>test_loss</td><td>▁</td></tr><tr><td>train_loss</td><td>▁</td></tr></table><br/></div><div class=\"wandb-col\"><h3>Run summary:</h3><br/><table class=\"wandb\"><tr><td>accuracy</td><td>51.532</td></tr><tr><td>epoch</td><td>0</td></tr><tr><td>test_loss</td><td>1.44953</td></tr><tr><td>train_loss</td><td>1.65282</td></tr></table><br/></div></div>"
      ],
      "text/plain": [
       "<IPython.core.display.HTML object>"
      ]
     },
     "metadata": {},
     "output_type": "display_data"
    },
    {
     "data": {
      "text/html": [
       " View run <strong style=\"color:#cdcd00\">kind-sweep-1</strong> at: <a href='https://wandb.ai/bronsonschoen-personal-use/simple_regression/runs/tyc382v8' target=\"_blank\">https://wandb.ai/bronsonschoen-personal-use/simple_regression/runs/tyc382v8</a><br/> View project at: <a href='https://wandb.ai/bronsonschoen-personal-use/simple_regression' target=\"_blank\">https://wandb.ai/bronsonschoen-personal-use/simple_regression</a><br/>Synced 5 W&B file(s), 0 media file(s), 0 artifact file(s) and 0 other file(s)"
      ],
      "text/plain": [
       "<IPython.core.display.HTML object>"
      ]
     },
     "metadata": {},
     "output_type": "display_data"
    },
    {
     "data": {
      "text/html": [
       "Find logs at: <code>./wandb/run-20240904_194246-tyc382v8/logs</code>"
      ],
      "text/plain": [
       "<IPython.core.display.HTML object>"
      ]
     },
     "metadata": {},
     "output_type": "display_data"
    },
    {
     "data": {
      "text/html": [
       "The new W&B backend becomes opt-out in version 0.18.0; try it out with `wandb.require(\"core\")`! See https://wandb.me/wandb-core for more information."
      ],
      "text/plain": [
       "<IPython.core.display.HTML object>"
      ]
     },
     "metadata": {},
     "output_type": "display_data"
    },
    {
     "name": "stdout",
     "output_type": "stream",
     "text": [
      "Training completed!\n"
     ]
    },
    {
     "name": "stderr",
     "output_type": "stream",
     "text": [
      "\u001b[34m\u001b[1mwandb\u001b[0m: Agent Starting Run: 4sdzqwbq with config:\n",
      "\u001b[34m\u001b[1mwandb\u001b[0m: \tbatch_size: 64\n",
      "\u001b[34m\u001b[1mwandb\u001b[0m: \td_model: 16\n",
      "\u001b[34m\u001b[1mwandb\u001b[0m: \tn_layers: 4\n",
      "\u001b[34m\u001b[1mwandb\u001b[0m: \tnum_epochs: 1\n",
      "\u001b[34m\u001b[1mwandb\u001b[0m: \tnum_samples: 100000\n",
      "\u001b[34m\u001b[1mwandb\u001b[0m: \ttest_interval: 100000000000000000000\n",
      "Failed to detect the name of this notebook, you can set it manually with the WANDB_NOTEBOOK_NAME environment variable to enable code saving.\n",
      "\u001b[34m\u001b[1mwandb\u001b[0m: \u001b[33mWARNING\u001b[0m Ignored wandb.init() arg project when running a sweep.\n"
     ]
    },
    {
     "data": {
      "text/html": [
       "wandb version 0.17.8 is available!  To upgrade, please run:\n",
       " $ pip install wandb --upgrade"
      ],
      "text/plain": [
       "<IPython.core.display.HTML object>"
      ]
     },
     "metadata": {},
     "output_type": "display_data"
    },
    {
     "data": {
      "text/html": [
       "Tracking run with wandb version 0.17.7"
      ],
      "text/plain": [
       "<IPython.core.display.HTML object>"
      ]
     },
     "metadata": {},
     "output_type": "display_data"
    },
    {
     "data": {
      "text/html": [
       "Run data is saved locally in <code>/Users/bronsonschoen/gpt_from_scratch/wandb/run-20240904_194311-4sdzqwbq</code>"
      ],
      "text/plain": [
       "<IPython.core.display.HTML object>"
      ]
     },
     "metadata": {},
     "output_type": "display_data"
    },
    {
     "data": {
      "text/html": [
       "Syncing run <strong><a href='https://wandb.ai/bronsonschoen-personal-use/simple_regression/runs/4sdzqwbq' target=\"_blank\">rare-sweep-2</a></strong> to <a href='https://wandb.ai/bronsonschoen-personal-use/simple_regression' target=\"_blank\">Weights & Biases</a> (<a href='https://wandb.me/run' target=\"_blank\">docs</a>)<br/>Sweep page: <a href='https://wandb.ai/bronsonschoen-personal-use/simple_regression/sweeps/m0p58ake' target=\"_blank\">https://wandb.ai/bronsonschoen-personal-use/simple_regression/sweeps/m0p58ake</a>"
      ],
      "text/plain": [
       "<IPython.core.display.HTML object>"
      ]
     },
     "metadata": {},
     "output_type": "display_data"
    },
    {
     "data": {
      "text/html": [
       " View project at <a href='https://wandb.ai/bronsonschoen-personal-use/simple_regression' target=\"_blank\">https://wandb.ai/bronsonschoen-personal-use/simple_regression</a>"
      ],
      "text/plain": [
       "<IPython.core.display.HTML object>"
      ]
     },
     "metadata": {},
     "output_type": "display_data"
    },
    {
     "data": {
      "text/html": [
       " View sweep at <a href='https://wandb.ai/bronsonschoen-personal-use/simple_regression/sweeps/m0p58ake' target=\"_blank\">https://wandb.ai/bronsonschoen-personal-use/simple_regression/sweeps/m0p58ake</a>"
      ],
      "text/plain": [
       "<IPython.core.display.HTML object>"
      ]
     },
     "metadata": {},
     "output_type": "display_data"
    },
    {
     "data": {
      "text/html": [
       " View run at <a href='https://wandb.ai/bronsonschoen-personal-use/simple_regression/runs/4sdzqwbq' target=\"_blank\">https://wandb.ai/bronsonschoen-personal-use/simple_regression/runs/4sdzqwbq</a>"
      ],
      "text/plain": [
       "<IPython.core.display.HTML object>"
      ]
     },
     "metadata": {},
     "output_type": "display_data"
    },
    {
     "name": "stdout",
     "output_type": "stream",
     "text": [
      "Using device: mps\n",
      "Epoch [1/1], Train Loss: 2.0726, Test Loss: 1.9536, Accuracy: 31.72%\n"
     ]
    },
    {
     "data": {
      "application/vnd.jupyter.widget-view+json": {
       "model_id": "5381c215e2704d95887da657adcb8591",
       "version_major": 2,
       "version_minor": 0
      },
      "text/plain": [
       "VBox(children=(Label(value='0.001 MB of 0.001 MB uploaded\\r'), FloatProgress(value=1.0, max=1.0)))"
      ]
     },
     "metadata": {},
     "output_type": "display_data"
    },
    {
     "data": {
      "text/html": [
       "<style>\n",
       "    table.wandb td:nth-child(1) { padding: 0 10px; text-align: left ; width: auto;} td:nth-child(2) {text-align: left ; width: 100%}\n",
       "    .wandb-row { display: flex; flex-direction: row; flex-wrap: wrap; justify-content: flex-start; width: 100% }\n",
       "    .wandb-col { display: flex; flex-direction: column; flex-basis: 100%; flex: 1; padding: 10px; }\n",
       "    </style>\n",
       "<div class=\"wandb-row\"><div class=\"wandb-col\"><h3>Run history:</h3><br/><table class=\"wandb\"><tr><td>accuracy</td><td>▁</td></tr><tr><td>epoch</td><td>▁</td></tr><tr><td>test_loss</td><td>▁</td></tr><tr><td>train_loss</td><td>▁</td></tr></table><br/></div><div class=\"wandb-col\"><h3>Run summary:</h3><br/><table class=\"wandb\"><tr><td>accuracy</td><td>31.719</td></tr><tr><td>epoch</td><td>0</td></tr><tr><td>test_loss</td><td>1.95359</td></tr><tr><td>train_loss</td><td>2.0726</td></tr></table><br/></div></div>"
      ],
      "text/plain": [
       "<IPython.core.display.HTML object>"
      ]
     },
     "metadata": {},
     "output_type": "display_data"
    },
    {
     "data": {
      "text/html": [
       " View run <strong style=\"color:#cdcd00\">rare-sweep-2</strong> at: <a href='https://wandb.ai/bronsonschoen-personal-use/simple_regression/runs/4sdzqwbq' target=\"_blank\">https://wandb.ai/bronsonschoen-personal-use/simple_regression/runs/4sdzqwbq</a><br/> View project at: <a href='https://wandb.ai/bronsonschoen-personal-use/simple_regression' target=\"_blank\">https://wandb.ai/bronsonschoen-personal-use/simple_regression</a><br/>Synced 5 W&B file(s), 0 media file(s), 0 artifact file(s) and 0 other file(s)"
      ],
      "text/plain": [
       "<IPython.core.display.HTML object>"
      ]
     },
     "metadata": {},
     "output_type": "display_data"
    },
    {
     "data": {
      "text/html": [
       "Find logs at: <code>./wandb/run-20240904_194311-4sdzqwbq/logs</code>"
      ],
      "text/plain": [
       "<IPython.core.display.HTML object>"
      ]
     },
     "metadata": {},
     "output_type": "display_data"
    },
    {
     "data": {
      "text/html": [
       "The new W&B backend becomes opt-out in version 0.18.0; try it out with `wandb.require(\"core\")`! See https://wandb.me/wandb-core for more information."
      ],
      "text/plain": [
       "<IPython.core.display.HTML object>"
      ]
     },
     "metadata": {},
     "output_type": "display_data"
    },
    {
     "name": "stdout",
     "output_type": "stream",
     "text": [
      "Training completed!\n"
     ]
    },
    {
     "name": "stderr",
     "output_type": "stream",
     "text": [
      "\u001b[34m\u001b[1mwandb\u001b[0m: Agent Starting Run: casz1zht with config:\n",
      "\u001b[34m\u001b[1mwandb\u001b[0m: \tbatch_size: 64\n",
      "\u001b[34m\u001b[1mwandb\u001b[0m: \td_model: 16\n",
      "\u001b[34m\u001b[1mwandb\u001b[0m: \tn_layers: 4\n",
      "\u001b[34m\u001b[1mwandb\u001b[0m: \tnum_epochs: 1\n",
      "\u001b[34m\u001b[1mwandb\u001b[0m: \tnum_samples: 100000\n",
      "\u001b[34m\u001b[1mwandb\u001b[0m: \ttest_interval: 100000000000000000000\n",
      "Failed to detect the name of this notebook, you can set it manually with the WANDB_NOTEBOOK_NAME environment variable to enable code saving.\n",
      "\u001b[34m\u001b[1mwandb\u001b[0m: \u001b[33mWARNING\u001b[0m Ignored wandb.init() arg project when running a sweep.\n"
     ]
    },
    {
     "data": {
      "text/html": [
       "wandb version 0.17.8 is available!  To upgrade, please run:\n",
       " $ pip install wandb --upgrade"
      ],
      "text/plain": [
       "<IPython.core.display.HTML object>"
      ]
     },
     "metadata": {},
     "output_type": "display_data"
    },
    {
     "data": {
      "text/html": [
       "Tracking run with wandb version 0.17.7"
      ],
      "text/plain": [
       "<IPython.core.display.HTML object>"
      ]
     },
     "metadata": {},
     "output_type": "display_data"
    },
    {
     "data": {
      "text/html": [
       "Run data is saved locally in <code>/Users/bronsonschoen/gpt_from_scratch/wandb/run-20240904_194338-casz1zht</code>"
      ],
      "text/plain": [
       "<IPython.core.display.HTML object>"
      ]
     },
     "metadata": {},
     "output_type": "display_data"
    },
    {
     "data": {
      "text/html": [
       "Syncing run <strong><a href='https://wandb.ai/bronsonschoen-personal-use/simple_regression/runs/casz1zht' target=\"_blank\">vivid-sweep-3</a></strong> to <a href='https://wandb.ai/bronsonschoen-personal-use/simple_regression' target=\"_blank\">Weights & Biases</a> (<a href='https://wandb.me/run' target=\"_blank\">docs</a>)<br/>Sweep page: <a href='https://wandb.ai/bronsonschoen-personal-use/simple_regression/sweeps/m0p58ake' target=\"_blank\">https://wandb.ai/bronsonschoen-personal-use/simple_regression/sweeps/m0p58ake</a>"
      ],
      "text/plain": [
       "<IPython.core.display.HTML object>"
      ]
     },
     "metadata": {},
     "output_type": "display_data"
    },
    {
     "data": {
      "text/html": [
       " View project at <a href='https://wandb.ai/bronsonschoen-personal-use/simple_regression' target=\"_blank\">https://wandb.ai/bronsonschoen-personal-use/simple_regression</a>"
      ],
      "text/plain": [
       "<IPython.core.display.HTML object>"
      ]
     },
     "metadata": {},
     "output_type": "display_data"
    },
    {
     "data": {
      "text/html": [
       " View sweep at <a href='https://wandb.ai/bronsonschoen-personal-use/simple_regression/sweeps/m0p58ake' target=\"_blank\">https://wandb.ai/bronsonschoen-personal-use/simple_regression/sweeps/m0p58ake</a>"
      ],
      "text/plain": [
       "<IPython.core.display.HTML object>"
      ]
     },
     "metadata": {},
     "output_type": "display_data"
    },
    {
     "data": {
      "text/html": [
       " View run at <a href='https://wandb.ai/bronsonschoen-personal-use/simple_regression/runs/casz1zht' target=\"_blank\">https://wandb.ai/bronsonschoen-personal-use/simple_regression/runs/casz1zht</a>"
      ],
      "text/plain": [
       "<IPython.core.display.HTML object>"
      ]
     },
     "metadata": {},
     "output_type": "display_data"
    },
    {
     "name": "stdout",
     "output_type": "stream",
     "text": [
      "Using device: mps\n",
      "Epoch [1/1], Train Loss: 2.0522, Test Loss: 1.8908, Accuracy: 34.17%\n"
     ]
    },
    {
     "data": {
      "application/vnd.jupyter.widget-view+json": {
       "model_id": "b8557df1680b4e08b5c5f4344b0ee8ee",
       "version_major": 2,
       "version_minor": 0
      },
      "text/plain": [
       "VBox(children=(Label(value='0.001 MB of 0.001 MB uploaded\\r'), FloatProgress(value=1.0, max=1.0)))"
      ]
     },
     "metadata": {},
     "output_type": "display_data"
    },
    {
     "data": {
      "text/html": [
       "<style>\n",
       "    table.wandb td:nth-child(1) { padding: 0 10px; text-align: left ; width: auto;} td:nth-child(2) {text-align: left ; width: 100%}\n",
       "    .wandb-row { display: flex; flex-direction: row; flex-wrap: wrap; justify-content: flex-start; width: 100% }\n",
       "    .wandb-col { display: flex; flex-direction: column; flex-basis: 100%; flex: 1; padding: 10px; }\n",
       "    </style>\n",
       "<div class=\"wandb-row\"><div class=\"wandb-col\"><h3>Run history:</h3><br/><table class=\"wandb\"><tr><td>accuracy</td><td>▁</td></tr><tr><td>epoch</td><td>▁</td></tr><tr><td>test_loss</td><td>▁</td></tr><tr><td>train_loss</td><td>▁</td></tr></table><br/></div><div class=\"wandb-col\"><h3>Run summary:</h3><br/><table class=\"wandb\"><tr><td>accuracy</td><td>34.168</td></tr><tr><td>epoch</td><td>0</td></tr><tr><td>test_loss</td><td>1.89084</td></tr><tr><td>train_loss</td><td>2.05221</td></tr></table><br/></div></div>"
      ],
      "text/plain": [
       "<IPython.core.display.HTML object>"
      ]
     },
     "metadata": {},
     "output_type": "display_data"
    },
    {
     "data": {
      "text/html": [
       " View run <strong style=\"color:#cdcd00\">vivid-sweep-3</strong> at: <a href='https://wandb.ai/bronsonschoen-personal-use/simple_regression/runs/casz1zht' target=\"_blank\">https://wandb.ai/bronsonschoen-personal-use/simple_regression/runs/casz1zht</a><br/> View project at: <a href='https://wandb.ai/bronsonschoen-personal-use/simple_regression' target=\"_blank\">https://wandb.ai/bronsonschoen-personal-use/simple_regression</a><br/>Synced 5 W&B file(s), 0 media file(s), 0 artifact file(s) and 0 other file(s)"
      ],
      "text/plain": [
       "<IPython.core.display.HTML object>"
      ]
     },
     "metadata": {},
     "output_type": "display_data"
    },
    {
     "data": {
      "text/html": [
       "Find logs at: <code>./wandb/run-20240904_194338-casz1zht/logs</code>"
      ],
      "text/plain": [
       "<IPython.core.display.HTML object>"
      ]
     },
     "metadata": {},
     "output_type": "display_data"
    },
    {
     "data": {
      "text/html": [
       "The new W&B backend becomes opt-out in version 0.18.0; try it out with `wandb.require(\"core\")`! See https://wandb.me/wandb-core for more information."
      ],
      "text/plain": [
       "<IPython.core.display.HTML object>"
      ]
     },
     "metadata": {},
     "output_type": "display_data"
    },
    {
     "name": "stdout",
     "output_type": "stream",
     "text": [
      "Training completed!\n"
     ]
    },
    {
     "name": "stderr",
     "output_type": "stream",
     "text": [
      "\u001b[34m\u001b[1mwandb\u001b[0m: Sweep Agent: Waiting for job.\n",
      "\u001b[34m\u001b[1mwandb\u001b[0m: Job received.\n",
      "\u001b[34m\u001b[1mwandb\u001b[0m: Agent Starting Run: m8kw0hkk with config:\n",
      "\u001b[34m\u001b[1mwandb\u001b[0m: \tbatch_size: 64\n",
      "\u001b[34m\u001b[1mwandb\u001b[0m: \td_model: 32\n",
      "\u001b[34m\u001b[1mwandb\u001b[0m: \tn_layers: 4\n",
      "\u001b[34m\u001b[1mwandb\u001b[0m: \tnum_epochs: 1\n",
      "\u001b[34m\u001b[1mwandb\u001b[0m: \tnum_samples: 100000\n",
      "\u001b[34m\u001b[1mwandb\u001b[0m: \ttest_interval: 100000000000000000000\n",
      "Failed to detect the name of this notebook, you can set it manually with the WANDB_NOTEBOOK_NAME environment variable to enable code saving.\n",
      "\u001b[34m\u001b[1mwandb\u001b[0m: \u001b[33mWARNING\u001b[0m Ignored wandb.init() arg project when running a sweep.\n"
     ]
    },
    {
     "data": {
      "text/html": [
       "wandb version 0.17.8 is available!  To upgrade, please run:\n",
       " $ pip install wandb --upgrade"
      ],
      "text/plain": [
       "<IPython.core.display.HTML object>"
      ]
     },
     "metadata": {},
     "output_type": "display_data"
    },
    {
     "data": {
      "text/html": [
       "Tracking run with wandb version 0.17.7"
      ],
      "text/plain": [
       "<IPython.core.display.HTML object>"
      ]
     },
     "metadata": {},
     "output_type": "display_data"
    },
    {
     "data": {
      "text/html": [
       "Run data is saved locally in <code>/Users/bronsonschoen/gpt_from_scratch/wandb/run-20240904_194408-m8kw0hkk</code>"
      ],
      "text/plain": [
       "<IPython.core.display.HTML object>"
      ]
     },
     "metadata": {},
     "output_type": "display_data"
    },
    {
     "data": {
      "text/html": [
       "Syncing run <strong><a href='https://wandb.ai/bronsonschoen-personal-use/simple_regression/runs/m8kw0hkk' target=\"_blank\">revived-sweep-4</a></strong> to <a href='https://wandb.ai/bronsonschoen-personal-use/simple_regression' target=\"_blank\">Weights & Biases</a> (<a href='https://wandb.me/run' target=\"_blank\">docs</a>)<br/>Sweep page: <a href='https://wandb.ai/bronsonschoen-personal-use/simple_regression/sweeps/m0p58ake' target=\"_blank\">https://wandb.ai/bronsonschoen-personal-use/simple_regression/sweeps/m0p58ake</a>"
      ],
      "text/plain": [
       "<IPython.core.display.HTML object>"
      ]
     },
     "metadata": {},
     "output_type": "display_data"
    },
    {
     "data": {
      "text/html": [
       " View project at <a href='https://wandb.ai/bronsonschoen-personal-use/simple_regression' target=\"_blank\">https://wandb.ai/bronsonschoen-personal-use/simple_regression</a>"
      ],
      "text/plain": [
       "<IPython.core.display.HTML object>"
      ]
     },
     "metadata": {},
     "output_type": "display_data"
    },
    {
     "data": {
      "text/html": [
       " View sweep at <a href='https://wandb.ai/bronsonschoen-personal-use/simple_regression/sweeps/m0p58ake' target=\"_blank\">https://wandb.ai/bronsonschoen-personal-use/simple_regression/sweeps/m0p58ake</a>"
      ],
      "text/plain": [
       "<IPython.core.display.HTML object>"
      ]
     },
     "metadata": {},
     "output_type": "display_data"
    },
    {
     "data": {
      "text/html": [
       " View run at <a href='https://wandb.ai/bronsonschoen-personal-use/simple_regression/runs/m8kw0hkk' target=\"_blank\">https://wandb.ai/bronsonschoen-personal-use/simple_regression/runs/m8kw0hkk</a>"
      ],
      "text/plain": [
       "<IPython.core.display.HTML object>"
      ]
     },
     "metadata": {},
     "output_type": "display_data"
    },
    {
     "name": "stdout",
     "output_type": "stream",
     "text": [
      "Using device: mps\n",
      "Epoch [1/1], Train Loss: 1.8502, Test Loss: 1.6162, Accuracy: 46.76%\n"
     ]
    },
    {
     "data": {
      "application/vnd.jupyter.widget-view+json": {
       "model_id": "880048a6946d4ab58b7da3348c63f9c0",
       "version_major": 2,
       "version_minor": 0
      },
      "text/plain": [
       "VBox(children=(Label(value='0.001 MB of 0.048 MB uploaded\\r'), FloatProgress(value=0.024446035724231215, max=1…"
      ]
     },
     "metadata": {},
     "output_type": "display_data"
    },
    {
     "data": {
      "text/html": [
       "<style>\n",
       "    table.wandb td:nth-child(1) { padding: 0 10px; text-align: left ; width: auto;} td:nth-child(2) {text-align: left ; width: 100%}\n",
       "    .wandb-row { display: flex; flex-direction: row; flex-wrap: wrap; justify-content: flex-start; width: 100% }\n",
       "    .wandb-col { display: flex; flex-direction: column; flex-basis: 100%; flex: 1; padding: 10px; }\n",
       "    </style>\n",
       "<div class=\"wandb-row\"><div class=\"wandb-col\"><h3>Run history:</h3><br/><table class=\"wandb\"><tr><td>accuracy</td><td>▁</td></tr><tr><td>epoch</td><td>▁</td></tr><tr><td>test_loss</td><td>▁</td></tr><tr><td>train_loss</td><td>▁</td></tr></table><br/></div><div class=\"wandb-col\"><h3>Run summary:</h3><br/><table class=\"wandb\"><tr><td>accuracy</td><td>46.763</td></tr><tr><td>epoch</td><td>0</td></tr><tr><td>test_loss</td><td>1.61621</td></tr><tr><td>train_loss</td><td>1.85024</td></tr></table><br/></div></div>"
      ],
      "text/plain": [
       "<IPython.core.display.HTML object>"
      ]
     },
     "metadata": {},
     "output_type": "display_data"
    },
    {
     "data": {
      "text/html": [
       " View run <strong style=\"color:#cdcd00\">revived-sweep-4</strong> at: <a href='https://wandb.ai/bronsonschoen-personal-use/simple_regression/runs/m8kw0hkk' target=\"_blank\">https://wandb.ai/bronsonschoen-personal-use/simple_regression/runs/m8kw0hkk</a><br/> View project at: <a href='https://wandb.ai/bronsonschoen-personal-use/simple_regression' target=\"_blank\">https://wandb.ai/bronsonschoen-personal-use/simple_regression</a><br/>Synced 5 W&B file(s), 0 media file(s), 0 artifact file(s) and 0 other file(s)"
      ],
      "text/plain": [
       "<IPython.core.display.HTML object>"
      ]
     },
     "metadata": {},
     "output_type": "display_data"
    },
    {
     "data": {
      "text/html": [
       "Find logs at: <code>./wandb/run-20240904_194408-m8kw0hkk/logs</code>"
      ],
      "text/plain": [
       "<IPython.core.display.HTML object>"
      ]
     },
     "metadata": {},
     "output_type": "display_data"
    },
    {
     "data": {
      "text/html": [
       "The new W&B backend becomes opt-out in version 0.18.0; try it out with `wandb.require(\"core\")`! See https://wandb.me/wandb-core for more information."
      ],
      "text/plain": [
       "<IPython.core.display.HTML object>"
      ]
     },
     "metadata": {},
     "output_type": "display_data"
    },
    {
     "name": "stdout",
     "output_type": "stream",
     "text": [
      "Training completed!\n"
     ]
    },
    {
     "name": "stderr",
     "output_type": "stream",
     "text": [
      "\u001b[34m\u001b[1mwandb\u001b[0m: Agent Starting Run: fnad28g9 with config:\n",
      "\u001b[34m\u001b[1mwandb\u001b[0m: \tbatch_size: 64\n",
      "\u001b[34m\u001b[1mwandb\u001b[0m: \td_model: 128\n",
      "\u001b[34m\u001b[1mwandb\u001b[0m: \tn_layers: 4\n",
      "\u001b[34m\u001b[1mwandb\u001b[0m: \tnum_epochs: 1\n",
      "\u001b[34m\u001b[1mwandb\u001b[0m: \tnum_samples: 100000\n",
      "\u001b[34m\u001b[1mwandb\u001b[0m: \ttest_interval: 100000000000000000000\n",
      "Failed to detect the name of this notebook, you can set it manually with the WANDB_NOTEBOOK_NAME environment variable to enable code saving.\n",
      "\u001b[34m\u001b[1mwandb\u001b[0m: \u001b[33mWARNING\u001b[0m Ignored wandb.init() arg project when running a sweep.\n"
     ]
    },
    {
     "data": {
      "application/vnd.jupyter.widget-view+json": {
       "model_id": "0e6cd9cfb86545329481f3d477072113",
       "version_major": 2,
       "version_minor": 0
      },
      "text/plain": [
       "VBox(children=(Label(value='Waiting for wandb.init()...\\r'), FloatProgress(value=0.011169237500063092, max=1.0…"
      ]
     },
     "metadata": {},
     "output_type": "display_data"
    },
    {
     "data": {
      "text/html": [
       "wandb version 0.17.8 is available!  To upgrade, please run:\n",
       " $ pip install wandb --upgrade"
      ],
      "text/plain": [
       "<IPython.core.display.HTML object>"
      ]
     },
     "metadata": {},
     "output_type": "display_data"
    },
    {
     "data": {
      "text/html": [
       "Tracking run with wandb version 0.17.7"
      ],
      "text/plain": [
       "<IPython.core.display.HTML object>"
      ]
     },
     "metadata": {},
     "output_type": "display_data"
    },
    {
     "data": {
      "text/html": [
       "Run data is saved locally in <code>/Users/bronsonschoen/gpt_from_scratch/wandb/run-20240904_194430-fnad28g9</code>"
      ],
      "text/plain": [
       "<IPython.core.display.HTML object>"
      ]
     },
     "metadata": {},
     "output_type": "display_data"
    },
    {
     "data": {
      "text/html": [
       "Syncing run <strong><a href='https://wandb.ai/bronsonschoen-personal-use/simple_regression/runs/fnad28g9' target=\"_blank\">wise-sweep-5</a></strong> to <a href='https://wandb.ai/bronsonschoen-personal-use/simple_regression' target=\"_blank\">Weights & Biases</a> (<a href='https://wandb.me/run' target=\"_blank\">docs</a>)<br/>Sweep page: <a href='https://wandb.ai/bronsonschoen-personal-use/simple_regression/sweeps/m0p58ake' target=\"_blank\">https://wandb.ai/bronsonschoen-personal-use/simple_regression/sweeps/m0p58ake</a>"
      ],
      "text/plain": [
       "<IPython.core.display.HTML object>"
      ]
     },
     "metadata": {},
     "output_type": "display_data"
    },
    {
     "data": {
      "text/html": [
       " View project at <a href='https://wandb.ai/bronsonschoen-personal-use/simple_regression' target=\"_blank\">https://wandb.ai/bronsonschoen-personal-use/simple_regression</a>"
      ],
      "text/plain": [
       "<IPython.core.display.HTML object>"
      ]
     },
     "metadata": {},
     "output_type": "display_data"
    },
    {
     "data": {
      "text/html": [
       " View sweep at <a href='https://wandb.ai/bronsonschoen-personal-use/simple_regression/sweeps/m0p58ake' target=\"_blank\">https://wandb.ai/bronsonschoen-personal-use/simple_regression/sweeps/m0p58ake</a>"
      ],
      "text/plain": [
       "<IPython.core.display.HTML object>"
      ]
     },
     "metadata": {},
     "output_type": "display_data"
    },
    {
     "data": {
      "text/html": [
       " View run at <a href='https://wandb.ai/bronsonschoen-personal-use/simple_regression/runs/fnad28g9' target=\"_blank\">https://wandb.ai/bronsonschoen-personal-use/simple_regression/runs/fnad28g9</a>"
      ],
      "text/plain": [
       "<IPython.core.display.HTML object>"
      ]
     },
     "metadata": {},
     "output_type": "display_data"
    },
    {
     "name": "stdout",
     "output_type": "stream",
     "text": [
      "Using device: mps\n",
      "Epoch [1/1], Train Loss: 1.5403, Test Loss: 1.3884, Accuracy: 53.42%\n"
     ]
    },
    {
     "data": {
      "application/vnd.jupyter.widget-view+json": {
       "model_id": "966b629ae65441b9ba4265f412d191d5",
       "version_major": 2,
       "version_minor": 0
      },
      "text/plain": [
       "VBox(children=(Label(value='0.001 MB of 0.049 MB uploaded\\r'), FloatProgress(value=0.023994533385396328, max=1…"
      ]
     },
     "metadata": {},
     "output_type": "display_data"
    },
    {
     "data": {
      "text/html": [
       "<style>\n",
       "    table.wandb td:nth-child(1) { padding: 0 10px; text-align: left ; width: auto;} td:nth-child(2) {text-align: left ; width: 100%}\n",
       "    .wandb-row { display: flex; flex-direction: row; flex-wrap: wrap; justify-content: flex-start; width: 100% }\n",
       "    .wandb-col { display: flex; flex-direction: column; flex-basis: 100%; flex: 1; padding: 10px; }\n",
       "    </style>\n",
       "<div class=\"wandb-row\"><div class=\"wandb-col\"><h3>Run history:</h3><br/><table class=\"wandb\"><tr><td>accuracy</td><td>▁</td></tr><tr><td>epoch</td><td>▁</td></tr><tr><td>test_loss</td><td>▁</td></tr><tr><td>train_loss</td><td>▁</td></tr></table><br/></div><div class=\"wandb-col\"><h3>Run summary:</h3><br/><table class=\"wandb\"><tr><td>accuracy</td><td>53.418</td></tr><tr><td>epoch</td><td>0</td></tr><tr><td>test_loss</td><td>1.38841</td></tr><tr><td>train_loss</td><td>1.54028</td></tr></table><br/></div></div>"
      ],
      "text/plain": [
       "<IPython.core.display.HTML object>"
      ]
     },
     "metadata": {},
     "output_type": "display_data"
    },
    {
     "data": {
      "text/html": [
       " View run <strong style=\"color:#cdcd00\">wise-sweep-5</strong> at: <a href='https://wandb.ai/bronsonschoen-personal-use/simple_regression/runs/fnad28g9' target=\"_blank\">https://wandb.ai/bronsonschoen-personal-use/simple_regression/runs/fnad28g9</a><br/> View project at: <a href='https://wandb.ai/bronsonschoen-personal-use/simple_regression' target=\"_blank\">https://wandb.ai/bronsonschoen-personal-use/simple_regression</a><br/>Synced 5 W&B file(s), 0 media file(s), 0 artifact file(s) and 0 other file(s)"
      ],
      "text/plain": [
       "<IPython.core.display.HTML object>"
      ]
     },
     "metadata": {},
     "output_type": "display_data"
    },
    {
     "data": {
      "text/html": [
       "Find logs at: <code>./wandb/run-20240904_194430-fnad28g9/logs</code>"
      ],
      "text/plain": [
       "<IPython.core.display.HTML object>"
      ]
     },
     "metadata": {},
     "output_type": "display_data"
    },
    {
     "data": {
      "text/html": [
       "The new W&B backend becomes opt-out in version 0.18.0; try it out with `wandb.require(\"core\")`! See https://wandb.me/wandb-core for more information."
      ],
      "text/plain": [
       "<IPython.core.display.HTML object>"
      ]
     },
     "metadata": {},
     "output_type": "display_data"
    },
    {
     "name": "stdout",
     "output_type": "stream",
     "text": [
      "Training completed!\n"
     ]
    },
    {
     "name": "stderr",
     "output_type": "stream",
     "text": [
      "\u001b[34m\u001b[1mwandb\u001b[0m: Agent Starting Run: 81kghk8n with config:\n",
      "\u001b[34m\u001b[1mwandb\u001b[0m: \tbatch_size: 64\n",
      "\u001b[34m\u001b[1mwandb\u001b[0m: \td_model: 128\n",
      "\u001b[34m\u001b[1mwandb\u001b[0m: \tn_layers: 4\n",
      "\u001b[34m\u001b[1mwandb\u001b[0m: \tnum_epochs: 1\n",
      "\u001b[34m\u001b[1mwandb\u001b[0m: \tnum_samples: 100000\n",
      "\u001b[34m\u001b[1mwandb\u001b[0m: \ttest_interval: 100000000000000000000\n",
      "Failed to detect the name of this notebook, you can set it manually with the WANDB_NOTEBOOK_NAME environment variable to enable code saving.\n",
      "\u001b[34m\u001b[1mwandb\u001b[0m: \u001b[33mWARNING\u001b[0m Ignored wandb.init() arg project when running a sweep.\n"
     ]
    },
    {
     "data": {
      "text/html": [
       "wandb version 0.17.8 is available!  To upgrade, please run:\n",
       " $ pip install wandb --upgrade"
      ],
      "text/plain": [
       "<IPython.core.display.HTML object>"
      ]
     },
     "metadata": {},
     "output_type": "display_data"
    },
    {
     "data": {
      "text/html": [
       "Tracking run with wandb version 0.17.7"
      ],
      "text/plain": [
       "<IPython.core.display.HTML object>"
      ]
     },
     "metadata": {},
     "output_type": "display_data"
    },
    {
     "data": {
      "text/html": [
       "Run data is saved locally in <code>/Users/bronsonschoen/gpt_from_scratch/wandb/run-20240904_194457-81kghk8n</code>"
      ],
      "text/plain": [
       "<IPython.core.display.HTML object>"
      ]
     },
     "metadata": {},
     "output_type": "display_data"
    },
    {
     "data": {
      "text/html": [
       "Syncing run <strong><a href='https://wandb.ai/bronsonschoen-personal-use/simple_regression/runs/81kghk8n' target=\"_blank\">wise-sweep-6</a></strong> to <a href='https://wandb.ai/bronsonschoen-personal-use/simple_regression' target=\"_blank\">Weights & Biases</a> (<a href='https://wandb.me/run' target=\"_blank\">docs</a>)<br/>Sweep page: <a href='https://wandb.ai/bronsonschoen-personal-use/simple_regression/sweeps/m0p58ake' target=\"_blank\">https://wandb.ai/bronsonschoen-personal-use/simple_regression/sweeps/m0p58ake</a>"
      ],
      "text/plain": [
       "<IPython.core.display.HTML object>"
      ]
     },
     "metadata": {},
     "output_type": "display_data"
    },
    {
     "data": {
      "text/html": [
       " View project at <a href='https://wandb.ai/bronsonschoen-personal-use/simple_regression' target=\"_blank\">https://wandb.ai/bronsonschoen-personal-use/simple_regression</a>"
      ],
      "text/plain": [
       "<IPython.core.display.HTML object>"
      ]
     },
     "metadata": {},
     "output_type": "display_data"
    },
    {
     "data": {
      "text/html": [
       " View sweep at <a href='https://wandb.ai/bronsonschoen-personal-use/simple_regression/sweeps/m0p58ake' target=\"_blank\">https://wandb.ai/bronsonschoen-personal-use/simple_regression/sweeps/m0p58ake</a>"
      ],
      "text/plain": [
       "<IPython.core.display.HTML object>"
      ]
     },
     "metadata": {},
     "output_type": "display_data"
    },
    {
     "data": {
      "text/html": [
       " View run at <a href='https://wandb.ai/bronsonschoen-personal-use/simple_regression/runs/81kghk8n' target=\"_blank\">https://wandb.ai/bronsonschoen-personal-use/simple_regression/runs/81kghk8n</a>"
      ],
      "text/plain": [
       "<IPython.core.display.HTML object>"
      ]
     },
     "metadata": {},
     "output_type": "display_data"
    },
    {
     "name": "stdout",
     "output_type": "stream",
     "text": [
      "Using device: mps\n",
      "Epoch [1/1], Train Loss: 1.5525, Test Loss: 1.4399, Accuracy: 51.83%\n"
     ]
    },
    {
     "data": {
      "application/vnd.jupyter.widget-view+json": {
       "model_id": "83dfc431c58a4f349d6037f82c2b9efc",
       "version_major": 2,
       "version_minor": 0
      },
      "text/plain": [
       "VBox(children=(Label(value='0.048 MB of 0.049 MB uploaded\\r'), FloatProgress(value=0.9863392770145182, max=1.0…"
      ]
     },
     "metadata": {},
     "output_type": "display_data"
    },
    {
     "data": {
      "text/html": [
       "<style>\n",
       "    table.wandb td:nth-child(1) { padding: 0 10px; text-align: left ; width: auto;} td:nth-child(2) {text-align: left ; width: 100%}\n",
       "    .wandb-row { display: flex; flex-direction: row; flex-wrap: wrap; justify-content: flex-start; width: 100% }\n",
       "    .wandb-col { display: flex; flex-direction: column; flex-basis: 100%; flex: 1; padding: 10px; }\n",
       "    </style>\n",
       "<div class=\"wandb-row\"><div class=\"wandb-col\"><h3>Run history:</h3><br/><table class=\"wandb\"><tr><td>accuracy</td><td>▁</td></tr><tr><td>epoch</td><td>▁</td></tr><tr><td>test_loss</td><td>▁</td></tr><tr><td>train_loss</td><td>▁</td></tr></table><br/></div><div class=\"wandb-col\"><h3>Run summary:</h3><br/><table class=\"wandb\"><tr><td>accuracy</td><td>51.825</td></tr><tr><td>epoch</td><td>0</td></tr><tr><td>test_loss</td><td>1.43991</td></tr><tr><td>train_loss</td><td>1.55253</td></tr></table><br/></div></div>"
      ],
      "text/plain": [
       "<IPython.core.display.HTML object>"
      ]
     },
     "metadata": {},
     "output_type": "display_data"
    },
    {
     "data": {
      "text/html": [
       " View run <strong style=\"color:#cdcd00\">wise-sweep-6</strong> at: <a href='https://wandb.ai/bronsonschoen-personal-use/simple_regression/runs/81kghk8n' target=\"_blank\">https://wandb.ai/bronsonschoen-personal-use/simple_regression/runs/81kghk8n</a><br/> View project at: <a href='https://wandb.ai/bronsonschoen-personal-use/simple_regression' target=\"_blank\">https://wandb.ai/bronsonschoen-personal-use/simple_regression</a><br/>Synced 5 W&B file(s), 0 media file(s), 0 artifact file(s) and 0 other file(s)"
      ],
      "text/plain": [
       "<IPython.core.display.HTML object>"
      ]
     },
     "metadata": {},
     "output_type": "display_data"
    },
    {
     "data": {
      "text/html": [
       "Find logs at: <code>./wandb/run-20240904_194457-81kghk8n/logs</code>"
      ],
      "text/plain": [
       "<IPython.core.display.HTML object>"
      ]
     },
     "metadata": {},
     "output_type": "display_data"
    },
    {
     "data": {
      "text/html": [
       "The new W&B backend becomes opt-out in version 0.18.0; try it out with `wandb.require(\"core\")`! See https://wandb.me/wandb-core for more information."
      ],
      "text/plain": [
       "<IPython.core.display.HTML object>"
      ]
     },
     "metadata": {},
     "output_type": "display_data"
    },
    {
     "name": "stdout",
     "output_type": "stream",
     "text": [
      "Training completed!\n"
     ]
    },
    {
     "name": "stderr",
     "output_type": "stream",
     "text": [
      "\u001b[34m\u001b[1mwandb\u001b[0m: Agent Starting Run: htl4w523 with config:\n",
      "\u001b[34m\u001b[1mwandb\u001b[0m: \tbatch_size: 64\n",
      "\u001b[34m\u001b[1mwandb\u001b[0m: \td_model: 8\n",
      "\u001b[34m\u001b[1mwandb\u001b[0m: \tn_layers: 4\n",
      "\u001b[34m\u001b[1mwandb\u001b[0m: \tnum_epochs: 1\n",
      "\u001b[34m\u001b[1mwandb\u001b[0m: \tnum_samples: 100000\n",
      "\u001b[34m\u001b[1mwandb\u001b[0m: \ttest_interval: 100000000000000000000\n",
      "Failed to detect the name of this notebook, you can set it manually with the WANDB_NOTEBOOK_NAME environment variable to enable code saving.\n",
      "\u001b[34m\u001b[1mwandb\u001b[0m: \u001b[33mWARNING\u001b[0m Ignored wandb.init() arg project when running a sweep.\n"
     ]
    },
    {
     "data": {
      "text/html": [
       "wandb version 0.17.8 is available!  To upgrade, please run:\n",
       " $ pip install wandb --upgrade"
      ],
      "text/plain": [
       "<IPython.core.display.HTML object>"
      ]
     },
     "metadata": {},
     "output_type": "display_data"
    },
    {
     "data": {
      "text/html": [
       "Tracking run with wandb version 0.17.7"
      ],
      "text/plain": [
       "<IPython.core.display.HTML object>"
      ]
     },
     "metadata": {},
     "output_type": "display_data"
    },
    {
     "data": {
      "text/html": [
       "Run data is saved locally in <code>/Users/bronsonschoen/gpt_from_scratch/wandb/run-20240904_194522-htl4w523</code>"
      ],
      "text/plain": [
       "<IPython.core.display.HTML object>"
      ]
     },
     "metadata": {},
     "output_type": "display_data"
    },
    {
     "data": {
      "text/html": [
       "Syncing run <strong><a href='https://wandb.ai/bronsonschoen-personal-use/simple_regression/runs/htl4w523' target=\"_blank\">super-sweep-7</a></strong> to <a href='https://wandb.ai/bronsonschoen-personal-use/simple_regression' target=\"_blank\">Weights & Biases</a> (<a href='https://wandb.me/run' target=\"_blank\">docs</a>)<br/>Sweep page: <a href='https://wandb.ai/bronsonschoen-personal-use/simple_regression/sweeps/m0p58ake' target=\"_blank\">https://wandb.ai/bronsonschoen-personal-use/simple_regression/sweeps/m0p58ake</a>"
      ],
      "text/plain": [
       "<IPython.core.display.HTML object>"
      ]
     },
     "metadata": {},
     "output_type": "display_data"
    },
    {
     "data": {
      "text/html": [
       " View project at <a href='https://wandb.ai/bronsonschoen-personal-use/simple_regression' target=\"_blank\">https://wandb.ai/bronsonschoen-personal-use/simple_regression</a>"
      ],
      "text/plain": [
       "<IPython.core.display.HTML object>"
      ]
     },
     "metadata": {},
     "output_type": "display_data"
    },
    {
     "data": {
      "text/html": [
       " View sweep at <a href='https://wandb.ai/bronsonschoen-personal-use/simple_regression/sweeps/m0p58ake' target=\"_blank\">https://wandb.ai/bronsonschoen-personal-use/simple_regression/sweeps/m0p58ake</a>"
      ],
      "text/plain": [
       "<IPython.core.display.HTML object>"
      ]
     },
     "metadata": {},
     "output_type": "display_data"
    },
    {
     "data": {
      "text/html": [
       " View run at <a href='https://wandb.ai/bronsonschoen-personal-use/simple_regression/runs/htl4w523' target=\"_blank\">https://wandb.ai/bronsonschoen-personal-use/simple_regression/runs/htl4w523</a>"
      ],
      "text/plain": [
       "<IPython.core.display.HTML object>"
      ]
     },
     "metadata": {},
     "output_type": "display_data"
    },
    {
     "name": "stdout",
     "output_type": "stream",
     "text": [
      "Using device: mps\n",
      "Epoch [1/1], Train Loss: 2.1625, Test Loss: 2.0967, Accuracy: 23.77%\n"
     ]
    },
    {
     "data": {
      "application/vnd.jupyter.widget-view+json": {
       "model_id": "b499a4cee7a74477b1f78daebaae0d77",
       "version_major": 2,
       "version_minor": 0
      },
      "text/plain": [
       "VBox(children=(Label(value='0.001 MB of 0.005 MB uploaded\\r'), FloatProgress(value=0.21399965174995647, max=1.…"
      ]
     },
     "metadata": {},
     "output_type": "display_data"
    },
    {
     "data": {
      "text/html": [
       "<style>\n",
       "    table.wandb td:nth-child(1) { padding: 0 10px; text-align: left ; width: auto;} td:nth-child(2) {text-align: left ; width: 100%}\n",
       "    .wandb-row { display: flex; flex-direction: row; flex-wrap: wrap; justify-content: flex-start; width: 100% }\n",
       "    .wandb-col { display: flex; flex-direction: column; flex-basis: 100%; flex: 1; padding: 10px; }\n",
       "    </style>\n",
       "<div class=\"wandb-row\"><div class=\"wandb-col\"><h3>Run history:</h3><br/><table class=\"wandb\"><tr><td>accuracy</td><td>▁</td></tr><tr><td>epoch</td><td>▁</td></tr><tr><td>test_loss</td><td>▁</td></tr><tr><td>train_loss</td><td>▁</td></tr></table><br/></div><div class=\"wandb-col\"><h3>Run summary:</h3><br/><table class=\"wandb\"><tr><td>accuracy</td><td>23.771</td></tr><tr><td>epoch</td><td>0</td></tr><tr><td>test_loss</td><td>2.09671</td></tr><tr><td>train_loss</td><td>2.16246</td></tr></table><br/></div></div>"
      ],
      "text/plain": [
       "<IPython.core.display.HTML object>"
      ]
     },
     "metadata": {},
     "output_type": "display_data"
    },
    {
     "data": {
      "text/html": [
       " View run <strong style=\"color:#cdcd00\">super-sweep-7</strong> at: <a href='https://wandb.ai/bronsonschoen-personal-use/simple_regression/runs/htl4w523' target=\"_blank\">https://wandb.ai/bronsonschoen-personal-use/simple_regression/runs/htl4w523</a><br/> View project at: <a href='https://wandb.ai/bronsonschoen-personal-use/simple_regression' target=\"_blank\">https://wandb.ai/bronsonschoen-personal-use/simple_regression</a><br/>Synced 5 W&B file(s), 0 media file(s), 0 artifact file(s) and 0 other file(s)"
      ],
      "text/plain": [
       "<IPython.core.display.HTML object>"
      ]
     },
     "metadata": {},
     "output_type": "display_data"
    },
    {
     "data": {
      "text/html": [
       "Find logs at: <code>./wandb/run-20240904_194522-htl4w523/logs</code>"
      ],
      "text/plain": [
       "<IPython.core.display.HTML object>"
      ]
     },
     "metadata": {},
     "output_type": "display_data"
    },
    {
     "data": {
      "text/html": [
       "The new W&B backend becomes opt-out in version 0.18.0; try it out with `wandb.require(\"core\")`! See https://wandb.me/wandb-core for more information."
      ],
      "text/plain": [
       "<IPython.core.display.HTML object>"
      ]
     },
     "metadata": {},
     "output_type": "display_data"
    },
    {
     "name": "stdout",
     "output_type": "stream",
     "text": [
      "Training completed!\n"
     ]
    },
    {
     "name": "stderr",
     "output_type": "stream",
     "text": [
      "\u001b[34m\u001b[1mwandb\u001b[0m: Agent Starting Run: ee5cteho with config:\n",
      "\u001b[34m\u001b[1mwandb\u001b[0m: \tbatch_size: 64\n",
      "\u001b[34m\u001b[1mwandb\u001b[0m: \td_model: 1024\n",
      "\u001b[34m\u001b[1mwandb\u001b[0m: \tn_layers: 4\n",
      "\u001b[34m\u001b[1mwandb\u001b[0m: \tnum_epochs: 1\n",
      "\u001b[34m\u001b[1mwandb\u001b[0m: \tnum_samples: 100000\n",
      "\u001b[34m\u001b[1mwandb\u001b[0m: \ttest_interval: 100000000000000000000\n",
      "Failed to detect the name of this notebook, you can set it manually with the WANDB_NOTEBOOK_NAME environment variable to enable code saving.\n",
      "\u001b[34m\u001b[1mwandb\u001b[0m: \u001b[33mWARNING\u001b[0m Ignored wandb.init() arg project when running a sweep.\n"
     ]
    },
    {
     "data": {
      "text/html": [
       "wandb version 0.17.8 is available!  To upgrade, please run:\n",
       " $ pip install wandb --upgrade"
      ],
      "text/plain": [
       "<IPython.core.display.HTML object>"
      ]
     },
     "metadata": {},
     "output_type": "display_data"
    },
    {
     "data": {
      "text/html": [
       "Tracking run with wandb version 0.17.7"
      ],
      "text/plain": [
       "<IPython.core.display.HTML object>"
      ]
     },
     "metadata": {},
     "output_type": "display_data"
    },
    {
     "data": {
      "text/html": [
       "Run data is saved locally in <code>/Users/bronsonschoen/gpt_from_scratch/wandb/run-20240904_194548-ee5cteho</code>"
      ],
      "text/plain": [
       "<IPython.core.display.HTML object>"
      ]
     },
     "metadata": {},
     "output_type": "display_data"
    },
    {
     "data": {
      "text/html": [
       "Syncing run <strong><a href='https://wandb.ai/bronsonschoen-personal-use/simple_regression/runs/ee5cteho' target=\"_blank\">young-sweep-8</a></strong> to <a href='https://wandb.ai/bronsonschoen-personal-use/simple_regression' target=\"_blank\">Weights & Biases</a> (<a href='https://wandb.me/run' target=\"_blank\">docs</a>)<br/>Sweep page: <a href='https://wandb.ai/bronsonschoen-personal-use/simple_regression/sweeps/m0p58ake' target=\"_blank\">https://wandb.ai/bronsonschoen-personal-use/simple_regression/sweeps/m0p58ake</a>"
      ],
      "text/plain": [
       "<IPython.core.display.HTML object>"
      ]
     },
     "metadata": {},
     "output_type": "display_data"
    },
    {
     "data": {
      "text/html": [
       " View project at <a href='https://wandb.ai/bronsonschoen-personal-use/simple_regression' target=\"_blank\">https://wandb.ai/bronsonschoen-personal-use/simple_regression</a>"
      ],
      "text/plain": [
       "<IPython.core.display.HTML object>"
      ]
     },
     "metadata": {},
     "output_type": "display_data"
    },
    {
     "data": {
      "text/html": [
       " View sweep at <a href='https://wandb.ai/bronsonschoen-personal-use/simple_regression/sweeps/m0p58ake' target=\"_blank\">https://wandb.ai/bronsonschoen-personal-use/simple_regression/sweeps/m0p58ake</a>"
      ],
      "text/plain": [
       "<IPython.core.display.HTML object>"
      ]
     },
     "metadata": {},
     "output_type": "display_data"
    },
    {
     "data": {
      "text/html": [
       " View run at <a href='https://wandb.ai/bronsonschoen-personal-use/simple_regression/runs/ee5cteho' target=\"_blank\">https://wandb.ai/bronsonschoen-personal-use/simple_regression/runs/ee5cteho</a>"
      ],
      "text/plain": [
       "<IPython.core.display.HTML object>"
      ]
     },
     "metadata": {},
     "output_type": "display_data"
    },
    {
     "name": "stdout",
     "output_type": "stream",
     "text": [
      "Using device: mps\n",
      "Epoch [1/1], Train Loss: 1.4957, Test Loss: 1.3817, Accuracy: 53.48%\n"
     ]
    },
    {
     "data": {
      "application/vnd.jupyter.widget-view+json": {
       "model_id": "6ad8902dc0ee4c07b89c7d0c37b4c160",
       "version_major": 2,
       "version_minor": 0
      },
      "text/plain": [
       "VBox(children=(Label(value='0.001 MB of 0.001 MB uploaded\\r'), FloatProgress(value=1.0, max=1.0)))"
      ]
     },
     "metadata": {},
     "output_type": "display_data"
    },
    {
     "data": {
      "text/html": [
       "<style>\n",
       "    table.wandb td:nth-child(1) { padding: 0 10px; text-align: left ; width: auto;} td:nth-child(2) {text-align: left ; width: 100%}\n",
       "    .wandb-row { display: flex; flex-direction: row; flex-wrap: wrap; justify-content: flex-start; width: 100% }\n",
       "    .wandb-col { display: flex; flex-direction: column; flex-basis: 100%; flex: 1; padding: 10px; }\n",
       "    </style>\n",
       "<div class=\"wandb-row\"><div class=\"wandb-col\"><h3>Run history:</h3><br/><table class=\"wandb\"><tr><td>accuracy</td><td>▁</td></tr><tr><td>epoch</td><td>▁</td></tr><tr><td>test_loss</td><td>▁</td></tr><tr><td>train_loss</td><td>▁</td></tr></table><br/></div><div class=\"wandb-col\"><h3>Run summary:</h3><br/><table class=\"wandb\"><tr><td>accuracy</td><td>53.483</td></tr><tr><td>epoch</td><td>0</td></tr><tr><td>test_loss</td><td>1.38168</td></tr><tr><td>train_loss</td><td>1.49574</td></tr></table><br/></div></div>"
      ],
      "text/plain": [
       "<IPython.core.display.HTML object>"
      ]
     },
     "metadata": {},
     "output_type": "display_data"
    },
    {
     "data": {
      "text/html": [
       " View run <strong style=\"color:#cdcd00\">young-sweep-8</strong> at: <a href='https://wandb.ai/bronsonschoen-personal-use/simple_regression/runs/ee5cteho' target=\"_blank\">https://wandb.ai/bronsonschoen-personal-use/simple_regression/runs/ee5cteho</a><br/> View project at: <a href='https://wandb.ai/bronsonschoen-personal-use/simple_regression' target=\"_blank\">https://wandb.ai/bronsonschoen-personal-use/simple_regression</a><br/>Synced 5 W&B file(s), 0 media file(s), 0 artifact file(s) and 0 other file(s)"
      ],
      "text/plain": [
       "<IPython.core.display.HTML object>"
      ]
     },
     "metadata": {},
     "output_type": "display_data"
    },
    {
     "data": {
      "text/html": [
       "Find logs at: <code>./wandb/run-20240904_194548-ee5cteho/logs</code>"
      ],
      "text/plain": [
       "<IPython.core.display.HTML object>"
      ]
     },
     "metadata": {},
     "output_type": "display_data"
    },
    {
     "data": {
      "text/html": [
       "The new W&B backend becomes opt-out in version 0.18.0; try it out with `wandb.require(\"core\")`! See https://wandb.me/wandb-core for more information."
      ],
      "text/plain": [
       "<IPython.core.display.HTML object>"
      ]
     },
     "metadata": {},
     "output_type": "display_data"
    },
    {
     "name": "stdout",
     "output_type": "stream",
     "text": [
      "Training completed!\n"
     ]
    },
    {
     "name": "stderr",
     "output_type": "stream",
     "text": [
      "\u001b[34m\u001b[1mwandb\u001b[0m: Agent Starting Run: pvd5nwbe with config:\n",
      "\u001b[34m\u001b[1mwandb\u001b[0m: \tbatch_size: 64\n",
      "\u001b[34m\u001b[1mwandb\u001b[0m: \td_model: 512\n",
      "\u001b[34m\u001b[1mwandb\u001b[0m: \tn_layers: 4\n",
      "\u001b[34m\u001b[1mwandb\u001b[0m: \tnum_epochs: 1\n",
      "\u001b[34m\u001b[1mwandb\u001b[0m: \tnum_samples: 100000\n",
      "\u001b[34m\u001b[1mwandb\u001b[0m: \ttest_interval: 100000000000000000000\n",
      "Failed to detect the name of this notebook, you can set it manually with the WANDB_NOTEBOOK_NAME environment variable to enable code saving.\n",
      "\u001b[34m\u001b[1mwandb\u001b[0m: \u001b[33mWARNING\u001b[0m Ignored wandb.init() arg project when running a sweep.\n"
     ]
    },
    {
     "data": {
      "text/html": [
       "wandb version 0.17.8 is available!  To upgrade, please run:\n",
       " $ pip install wandb --upgrade"
      ],
      "text/plain": [
       "<IPython.core.display.HTML object>"
      ]
     },
     "metadata": {},
     "output_type": "display_data"
    },
    {
     "data": {
      "text/html": [
       "Tracking run with wandb version 0.17.7"
      ],
      "text/plain": [
       "<IPython.core.display.HTML object>"
      ]
     },
     "metadata": {},
     "output_type": "display_data"
    },
    {
     "data": {
      "text/html": [
       "Run data is saved locally in <code>/Users/bronsonschoen/gpt_from_scratch/wandb/run-20240904_194622-pvd5nwbe</code>"
      ],
      "text/plain": [
       "<IPython.core.display.HTML object>"
      ]
     },
     "metadata": {},
     "output_type": "display_data"
    },
    {
     "data": {
      "text/html": [
       "Syncing run <strong><a href='https://wandb.ai/bronsonschoen-personal-use/simple_regression/runs/pvd5nwbe' target=\"_blank\">blooming-sweep-9</a></strong> to <a href='https://wandb.ai/bronsonschoen-personal-use/simple_regression' target=\"_blank\">Weights & Biases</a> (<a href='https://wandb.me/run' target=\"_blank\">docs</a>)<br/>Sweep page: <a href='https://wandb.ai/bronsonschoen-personal-use/simple_regression/sweeps/m0p58ake' target=\"_blank\">https://wandb.ai/bronsonschoen-personal-use/simple_regression/sweeps/m0p58ake</a>"
      ],
      "text/plain": [
       "<IPython.core.display.HTML object>"
      ]
     },
     "metadata": {},
     "output_type": "display_data"
    },
    {
     "data": {
      "text/html": [
       " View project at <a href='https://wandb.ai/bronsonschoen-personal-use/simple_regression' target=\"_blank\">https://wandb.ai/bronsonschoen-personal-use/simple_regression</a>"
      ],
      "text/plain": [
       "<IPython.core.display.HTML object>"
      ]
     },
     "metadata": {},
     "output_type": "display_data"
    },
    {
     "data": {
      "text/html": [
       " View sweep at <a href='https://wandb.ai/bronsonschoen-personal-use/simple_regression/sweeps/m0p58ake' target=\"_blank\">https://wandb.ai/bronsonschoen-personal-use/simple_regression/sweeps/m0p58ake</a>"
      ],
      "text/plain": [
       "<IPython.core.display.HTML object>"
      ]
     },
     "metadata": {},
     "output_type": "display_data"
    },
    {
     "data": {
      "text/html": [
       " View run at <a href='https://wandb.ai/bronsonschoen-personal-use/simple_regression/runs/pvd5nwbe' target=\"_blank\">https://wandb.ai/bronsonschoen-personal-use/simple_regression/runs/pvd5nwbe</a>"
      ],
      "text/plain": [
       "<IPython.core.display.HTML object>"
      ]
     },
     "metadata": {},
     "output_type": "display_data"
    },
    {
     "name": "stdout",
     "output_type": "stream",
     "text": [
      "Using device: mps\n",
      "Epoch [1/1], Train Loss: 1.5005, Test Loss: 1.3861, Accuracy: 53.44%\n"
     ]
    },
    {
     "data": {
      "application/vnd.jupyter.widget-view+json": {
       "model_id": "2c6c3fd6bcb24177a5629a333358e230",
       "version_major": 2,
       "version_minor": 0
      },
      "text/plain": [
       "VBox(children=(Label(value='0.001 MB of 0.001 MB uploaded\\r'), FloatProgress(value=1.0, max=1.0)))"
      ]
     },
     "metadata": {},
     "output_type": "display_data"
    },
    {
     "data": {
      "text/html": [
       "<style>\n",
       "    table.wandb td:nth-child(1) { padding: 0 10px; text-align: left ; width: auto;} td:nth-child(2) {text-align: left ; width: 100%}\n",
       "    .wandb-row { display: flex; flex-direction: row; flex-wrap: wrap; justify-content: flex-start; width: 100% }\n",
       "    .wandb-col { display: flex; flex-direction: column; flex-basis: 100%; flex: 1; padding: 10px; }\n",
       "    </style>\n",
       "<div class=\"wandb-row\"><div class=\"wandb-col\"><h3>Run history:</h3><br/><table class=\"wandb\"><tr><td>accuracy</td><td>▁</td></tr><tr><td>epoch</td><td>▁</td></tr><tr><td>test_loss</td><td>▁</td></tr><tr><td>train_loss</td><td>▁</td></tr></table><br/></div><div class=\"wandb-col\"><h3>Run summary:</h3><br/><table class=\"wandb\"><tr><td>accuracy</td><td>53.438</td></tr><tr><td>epoch</td><td>0</td></tr><tr><td>test_loss</td><td>1.3861</td></tr><tr><td>train_loss</td><td>1.50054</td></tr></table><br/></div></div>"
      ],
      "text/plain": [
       "<IPython.core.display.HTML object>"
      ]
     },
     "metadata": {},
     "output_type": "display_data"
    },
    {
     "data": {
      "text/html": [
       " View run <strong style=\"color:#cdcd00\">blooming-sweep-9</strong> at: <a href='https://wandb.ai/bronsonschoen-personal-use/simple_regression/runs/pvd5nwbe' target=\"_blank\">https://wandb.ai/bronsonschoen-personal-use/simple_regression/runs/pvd5nwbe</a><br/> View project at: <a href='https://wandb.ai/bronsonschoen-personal-use/simple_regression' target=\"_blank\">https://wandb.ai/bronsonschoen-personal-use/simple_regression</a><br/>Synced 5 W&B file(s), 0 media file(s), 0 artifact file(s) and 0 other file(s)"
      ],
      "text/plain": [
       "<IPython.core.display.HTML object>"
      ]
     },
     "metadata": {},
     "output_type": "display_data"
    },
    {
     "data": {
      "text/html": [
       "Find logs at: <code>./wandb/run-20240904_194622-pvd5nwbe/logs</code>"
      ],
      "text/plain": [
       "<IPython.core.display.HTML object>"
      ]
     },
     "metadata": {},
     "output_type": "display_data"
    },
    {
     "data": {
      "text/html": [
       "The new W&B backend becomes opt-out in version 0.18.0; try it out with `wandb.require(\"core\")`! See https://wandb.me/wandb-core for more information."
      ],
      "text/plain": [
       "<IPython.core.display.HTML object>"
      ]
     },
     "metadata": {},
     "output_type": "display_data"
    },
    {
     "name": "stdout",
     "output_type": "stream",
     "text": [
      "Training completed!\n"
     ]
    },
    {
     "name": "stderr",
     "output_type": "stream",
     "text": [
      "\u001b[34m\u001b[1mwandb\u001b[0m: Agent Starting Run: 3fd8cv43 with config:\n",
      "\u001b[34m\u001b[1mwandb\u001b[0m: \tbatch_size: 64\n",
      "\u001b[34m\u001b[1mwandb\u001b[0m: \td_model: 4096\n",
      "\u001b[34m\u001b[1mwandb\u001b[0m: \tn_layers: 4\n",
      "\u001b[34m\u001b[1mwandb\u001b[0m: \tnum_epochs: 1\n",
      "\u001b[34m\u001b[1mwandb\u001b[0m: \tnum_samples: 100000\n",
      "\u001b[34m\u001b[1mwandb\u001b[0m: \ttest_interval: 100000000000000000000\n",
      "Failed to detect the name of this notebook, you can set it manually with the WANDB_NOTEBOOK_NAME environment variable to enable code saving.\n",
      "\u001b[34m\u001b[1mwandb\u001b[0m: \u001b[33mWARNING\u001b[0m Ignored wandb.init() arg project when running a sweep.\n"
     ]
    },
    {
     "data": {
      "text/html": [
       "wandb version 0.17.8 is available!  To upgrade, please run:\n",
       " $ pip install wandb --upgrade"
      ],
      "text/plain": [
       "<IPython.core.display.HTML object>"
      ]
     },
     "metadata": {},
     "output_type": "display_data"
    },
    {
     "data": {
      "text/html": [
       "Tracking run with wandb version 0.17.7"
      ],
      "text/plain": [
       "<IPython.core.display.HTML object>"
      ]
     },
     "metadata": {},
     "output_type": "display_data"
    },
    {
     "data": {
      "text/html": [
       "Run data is saved locally in <code>/Users/bronsonschoen/gpt_from_scratch/wandb/run-20240904_194647-3fd8cv43</code>"
      ],
      "text/plain": [
       "<IPython.core.display.HTML object>"
      ]
     },
     "metadata": {},
     "output_type": "display_data"
    },
    {
     "data": {
      "text/html": [
       "Syncing run <strong><a href='https://wandb.ai/bronsonschoen-personal-use/simple_regression/runs/3fd8cv43' target=\"_blank\">worldly-sweep-10</a></strong> to <a href='https://wandb.ai/bronsonschoen-personal-use/simple_regression' target=\"_blank\">Weights & Biases</a> (<a href='https://wandb.me/run' target=\"_blank\">docs</a>)<br/>Sweep page: <a href='https://wandb.ai/bronsonschoen-personal-use/simple_regression/sweeps/m0p58ake' target=\"_blank\">https://wandb.ai/bronsonschoen-personal-use/simple_regression/sweeps/m0p58ake</a>"
      ],
      "text/plain": [
       "<IPython.core.display.HTML object>"
      ]
     },
     "metadata": {},
     "output_type": "display_data"
    },
    {
     "data": {
      "text/html": [
       " View project at <a href='https://wandb.ai/bronsonschoen-personal-use/simple_regression' target=\"_blank\">https://wandb.ai/bronsonschoen-personal-use/simple_regression</a>"
      ],
      "text/plain": [
       "<IPython.core.display.HTML object>"
      ]
     },
     "metadata": {},
     "output_type": "display_data"
    },
    {
     "data": {
      "text/html": [
       " View sweep at <a href='https://wandb.ai/bronsonschoen-personal-use/simple_regression/sweeps/m0p58ake' target=\"_blank\">https://wandb.ai/bronsonschoen-personal-use/simple_regression/sweeps/m0p58ake</a>"
      ],
      "text/plain": [
       "<IPython.core.display.HTML object>"
      ]
     },
     "metadata": {},
     "output_type": "display_data"
    },
    {
     "data": {
      "text/html": [
       " View run at <a href='https://wandb.ai/bronsonschoen-personal-use/simple_regression/runs/3fd8cv43' target=\"_blank\">https://wandb.ai/bronsonschoen-personal-use/simple_regression/runs/3fd8cv43</a>"
      ],
      "text/plain": [
       "<IPython.core.display.HTML object>"
      ]
     },
     "metadata": {},
     "output_type": "display_data"
    },
    {
     "name": "stdout",
     "output_type": "stream",
     "text": [
      "Using device: mps\n",
      "Epoch [1/1], Train Loss: 1.5091, Test Loss: 1.4128, Accuracy: 52.73%\n"
     ]
    },
    {
     "data": {
      "application/vnd.jupyter.widget-view+json": {
       "model_id": "9037d78f4d7549b5aee178b9d48dcec1",
       "version_major": 2,
       "version_minor": 0
      },
      "text/plain": [
       "VBox(children=(Label(value='0.001 MB of 0.001 MB uploaded\\r'), FloatProgress(value=1.0, max=1.0)))"
      ]
     },
     "metadata": {},
     "output_type": "display_data"
    },
    {
     "data": {
      "text/html": [
       "<style>\n",
       "    table.wandb td:nth-child(1) { padding: 0 10px; text-align: left ; width: auto;} td:nth-child(2) {text-align: left ; width: 100%}\n",
       "    .wandb-row { display: flex; flex-direction: row; flex-wrap: wrap; justify-content: flex-start; width: 100% }\n",
       "    .wandb-col { display: flex; flex-direction: column; flex-basis: 100%; flex: 1; padding: 10px; }\n",
       "    </style>\n",
       "<div class=\"wandb-row\"><div class=\"wandb-col\"><h3>Run history:</h3><br/><table class=\"wandb\"><tr><td>accuracy</td><td>▁</td></tr><tr><td>epoch</td><td>▁</td></tr><tr><td>test_loss</td><td>▁</td></tr><tr><td>train_loss</td><td>▁</td></tr></table><br/></div><div class=\"wandb-col\"><h3>Run summary:</h3><br/><table class=\"wandb\"><tr><td>accuracy</td><td>52.734</td></tr><tr><td>epoch</td><td>0</td></tr><tr><td>test_loss</td><td>1.41276</td></tr><tr><td>train_loss</td><td>1.50914</td></tr></table><br/></div></div>"
      ],
      "text/plain": [
       "<IPython.core.display.HTML object>"
      ]
     },
     "metadata": {},
     "output_type": "display_data"
    },
    {
     "data": {
      "text/html": [
       " View run <strong style=\"color:#cdcd00\">worldly-sweep-10</strong> at: <a href='https://wandb.ai/bronsonschoen-personal-use/simple_regression/runs/3fd8cv43' target=\"_blank\">https://wandb.ai/bronsonschoen-personal-use/simple_regression/runs/3fd8cv43</a><br/> View project at: <a href='https://wandb.ai/bronsonschoen-personal-use/simple_regression' target=\"_blank\">https://wandb.ai/bronsonschoen-personal-use/simple_regression</a><br/>Synced 5 W&B file(s), 0 media file(s), 0 artifact file(s) and 0 other file(s)"
      ],
      "text/plain": [
       "<IPython.core.display.HTML object>"
      ]
     },
     "metadata": {},
     "output_type": "display_data"
    },
    {
     "data": {
      "text/html": [
       "Find logs at: <code>./wandb/run-20240904_194647-3fd8cv43/logs</code>"
      ],
      "text/plain": [
       "<IPython.core.display.HTML object>"
      ]
     },
     "metadata": {},
     "output_type": "display_data"
    },
    {
     "data": {
      "text/html": [
       "The new W&B backend becomes opt-out in version 0.18.0; try it out with `wandb.require(\"core\")`! See https://wandb.me/wandb-core for more information."
      ],
      "text/plain": [
       "<IPython.core.display.HTML object>"
      ]
     },
     "metadata": {},
     "output_type": "display_data"
    },
    {
     "name": "stdout",
     "output_type": "stream",
     "text": [
      "Training completed!\n"
     ]
    },
    {
     "name": "stderr",
     "output_type": "stream",
     "text": [
      "\u001b[34m\u001b[1mwandb\u001b[0m: Agent Starting Run: uvonzaay with config:\n",
      "\u001b[34m\u001b[1mwandb\u001b[0m: \tbatch_size: 64\n",
      "\u001b[34m\u001b[1mwandb\u001b[0m: \td_model: 2\n",
      "\u001b[34m\u001b[1mwandb\u001b[0m: \tn_layers: 4\n",
      "\u001b[34m\u001b[1mwandb\u001b[0m: \tnum_epochs: 1\n",
      "\u001b[34m\u001b[1mwandb\u001b[0m: \tnum_samples: 100000\n",
      "\u001b[34m\u001b[1mwandb\u001b[0m: \ttest_interval: 100000000000000000000\n",
      "Failed to detect the name of this notebook, you can set it manually with the WANDB_NOTEBOOK_NAME environment variable to enable code saving.\n",
      "\u001b[34m\u001b[1mwandb\u001b[0m: \u001b[33mWARNING\u001b[0m Ignored wandb.init() arg project when running a sweep.\n"
     ]
    },
    {
     "data": {
      "text/html": [
       "wandb version 0.17.8 is available!  To upgrade, please run:\n",
       " $ pip install wandb --upgrade"
      ],
      "text/plain": [
       "<IPython.core.display.HTML object>"
      ]
     },
     "metadata": {},
     "output_type": "display_data"
    },
    {
     "data": {
      "text/html": [
       "Tracking run with wandb version 0.17.7"
      ],
      "text/plain": [
       "<IPython.core.display.HTML object>"
      ]
     },
     "metadata": {},
     "output_type": "display_data"
    },
    {
     "data": {
      "text/html": [
       "Run data is saved locally in <code>/Users/bronsonschoen/gpt_from_scratch/wandb/run-20240904_194924-uvonzaay</code>"
      ],
      "text/plain": [
       "<IPython.core.display.HTML object>"
      ]
     },
     "metadata": {},
     "output_type": "display_data"
    },
    {
     "data": {
      "text/html": [
       "Syncing run <strong><a href='https://wandb.ai/bronsonschoen-personal-use/simple_regression/runs/uvonzaay' target=\"_blank\">sage-sweep-11</a></strong> to <a href='https://wandb.ai/bronsonschoen-personal-use/simple_regression' target=\"_blank\">Weights & Biases</a> (<a href='https://wandb.me/run' target=\"_blank\">docs</a>)<br/>Sweep page: <a href='https://wandb.ai/bronsonschoen-personal-use/simple_regression/sweeps/m0p58ake' target=\"_blank\">https://wandb.ai/bronsonschoen-personal-use/simple_regression/sweeps/m0p58ake</a>"
      ],
      "text/plain": [
       "<IPython.core.display.HTML object>"
      ]
     },
     "metadata": {},
     "output_type": "display_data"
    },
    {
     "data": {
      "text/html": [
       " View project at <a href='https://wandb.ai/bronsonschoen-personal-use/simple_regression' target=\"_blank\">https://wandb.ai/bronsonschoen-personal-use/simple_regression</a>"
      ],
      "text/plain": [
       "<IPython.core.display.HTML object>"
      ]
     },
     "metadata": {},
     "output_type": "display_data"
    },
    {
     "data": {
      "text/html": [
       " View sweep at <a href='https://wandb.ai/bronsonschoen-personal-use/simple_regression/sweeps/m0p58ake' target=\"_blank\">https://wandb.ai/bronsonschoen-personal-use/simple_regression/sweeps/m0p58ake</a>"
      ],
      "text/plain": [
       "<IPython.core.display.HTML object>"
      ]
     },
     "metadata": {},
     "output_type": "display_data"
    },
    {
     "data": {
      "text/html": [
       " View run at <a href='https://wandb.ai/bronsonschoen-personal-use/simple_regression/runs/uvonzaay' target=\"_blank\">https://wandb.ai/bronsonschoen-personal-use/simple_regression/runs/uvonzaay</a>"
      ],
      "text/plain": [
       "<IPython.core.display.HTML object>"
      ]
     },
     "metadata": {},
     "output_type": "display_data"
    },
    {
     "name": "stdout",
     "output_type": "stream",
     "text": [
      "Using device: mps\n",
      "Epoch [1/1], Train Loss: 2.3052, Test Loss: 2.3029, Accuracy: 10.14%\n"
     ]
    },
    {
     "data": {
      "application/vnd.jupyter.widget-view+json": {
       "model_id": "2a7c60129e9f4b7484d59ec0c8165e64",
       "version_major": 2,
       "version_minor": 0
      },
      "text/plain": [
       "VBox(children=(Label(value='0.001 MB of 0.001 MB uploaded\\r'), FloatProgress(value=1.0, max=1.0)))"
      ]
     },
     "metadata": {},
     "output_type": "display_data"
    },
    {
     "data": {
      "text/html": [
       "<style>\n",
       "    table.wandb td:nth-child(1) { padding: 0 10px; text-align: left ; width: auto;} td:nth-child(2) {text-align: left ; width: 100%}\n",
       "    .wandb-row { display: flex; flex-direction: row; flex-wrap: wrap; justify-content: flex-start; width: 100% }\n",
       "    .wandb-col { display: flex; flex-direction: column; flex-basis: 100%; flex: 1; padding: 10px; }\n",
       "    </style>\n",
       "<div class=\"wandb-row\"><div class=\"wandb-col\"><h3>Run history:</h3><br/><table class=\"wandb\"><tr><td>accuracy</td><td>▁</td></tr><tr><td>epoch</td><td>▁</td></tr><tr><td>test_loss</td><td>▁</td></tr><tr><td>train_loss</td><td>▁</td></tr></table><br/></div><div class=\"wandb-col\"><h3>Run summary:</h3><br/><table class=\"wandb\"><tr><td>accuracy</td><td>10.144</td></tr><tr><td>epoch</td><td>0</td></tr><tr><td>test_loss</td><td>2.30285</td></tr><tr><td>train_loss</td><td>2.30521</td></tr></table><br/></div></div>"
      ],
      "text/plain": [
       "<IPython.core.display.HTML object>"
      ]
     },
     "metadata": {},
     "output_type": "display_data"
    },
    {
     "data": {
      "text/html": [
       " View run <strong style=\"color:#cdcd00\">sage-sweep-11</strong> at: <a href='https://wandb.ai/bronsonschoen-personal-use/simple_regression/runs/uvonzaay' target=\"_blank\">https://wandb.ai/bronsonschoen-personal-use/simple_regression/runs/uvonzaay</a><br/> View project at: <a href='https://wandb.ai/bronsonschoen-personal-use/simple_regression' target=\"_blank\">https://wandb.ai/bronsonschoen-personal-use/simple_regression</a><br/>Synced 5 W&B file(s), 0 media file(s), 0 artifact file(s) and 0 other file(s)"
      ],
      "text/plain": [
       "<IPython.core.display.HTML object>"
      ]
     },
     "metadata": {},
     "output_type": "display_data"
    },
    {
     "data": {
      "text/html": [
       "Find logs at: <code>./wandb/run-20240904_194924-uvonzaay/logs</code>"
      ],
      "text/plain": [
       "<IPython.core.display.HTML object>"
      ]
     },
     "metadata": {},
     "output_type": "display_data"
    },
    {
     "data": {
      "text/html": [
       "The new W&B backend becomes opt-out in version 0.18.0; try it out with `wandb.require(\"core\")`! See https://wandb.me/wandb-core for more information."
      ],
      "text/plain": [
       "<IPython.core.display.HTML object>"
      ]
     },
     "metadata": {},
     "output_type": "display_data"
    },
    {
     "name": "stdout",
     "output_type": "stream",
     "text": [
      "Training completed!\n"
     ]
    },
    {
     "name": "stderr",
     "output_type": "stream",
     "text": [
      "\u001b[34m\u001b[1mwandb\u001b[0m: Sweep Agent: Waiting for job.\n",
      "\u001b[34m\u001b[1mwandb\u001b[0m: Job received.\n",
      "\u001b[34m\u001b[1mwandb\u001b[0m: Agent Starting Run: egeosc1j with config:\n",
      "\u001b[34m\u001b[1mwandb\u001b[0m: \tbatch_size: 64\n",
      "\u001b[34m\u001b[1mwandb\u001b[0m: \td_model: 4096\n",
      "\u001b[34m\u001b[1mwandb\u001b[0m: \tn_layers: 4\n",
      "\u001b[34m\u001b[1mwandb\u001b[0m: \tnum_epochs: 1\n",
      "\u001b[34m\u001b[1mwandb\u001b[0m: \tnum_samples: 100000\n",
      "\u001b[34m\u001b[1mwandb\u001b[0m: \ttest_interval: 100000000000000000000\n",
      "Failed to detect the name of this notebook, you can set it manually with the WANDB_NOTEBOOK_NAME environment variable to enable code saving.\n",
      "\u001b[34m\u001b[1mwandb\u001b[0m: \u001b[33mWARNING\u001b[0m Ignored wandb.init() arg project when running a sweep.\n"
     ]
    },
    {
     "data": {
      "text/html": [
       "wandb version 0.17.8 is available!  To upgrade, please run:\n",
       " $ pip install wandb --upgrade"
      ],
      "text/plain": [
       "<IPython.core.display.HTML object>"
      ]
     },
     "metadata": {},
     "output_type": "display_data"
    },
    {
     "data": {
      "text/html": [
       "Tracking run with wandb version 0.17.7"
      ],
      "text/plain": [
       "<IPython.core.display.HTML object>"
      ]
     },
     "metadata": {},
     "output_type": "display_data"
    },
    {
     "data": {
      "text/html": [
       "Run data is saved locally in <code>/Users/bronsonschoen/gpt_from_scratch/wandb/run-20240904_194956-egeosc1j</code>"
      ],
      "text/plain": [
       "<IPython.core.display.HTML object>"
      ]
     },
     "metadata": {},
     "output_type": "display_data"
    },
    {
     "data": {
      "text/html": [
       "Syncing run <strong><a href='https://wandb.ai/bronsonschoen-personal-use/simple_regression/runs/egeosc1j' target=\"_blank\">dashing-sweep-12</a></strong> to <a href='https://wandb.ai/bronsonschoen-personal-use/simple_regression' target=\"_blank\">Weights & Biases</a> (<a href='https://wandb.me/run' target=\"_blank\">docs</a>)<br/>Sweep page: <a href='https://wandb.ai/bronsonschoen-personal-use/simple_regression/sweeps/m0p58ake' target=\"_blank\">https://wandb.ai/bronsonschoen-personal-use/simple_regression/sweeps/m0p58ake</a>"
      ],
      "text/plain": [
       "<IPython.core.display.HTML object>"
      ]
     },
     "metadata": {},
     "output_type": "display_data"
    },
    {
     "data": {
      "text/html": [
       " View project at <a href='https://wandb.ai/bronsonschoen-personal-use/simple_regression' target=\"_blank\">https://wandb.ai/bronsonschoen-personal-use/simple_regression</a>"
      ],
      "text/plain": [
       "<IPython.core.display.HTML object>"
      ]
     },
     "metadata": {},
     "output_type": "display_data"
    },
    {
     "data": {
      "text/html": [
       " View sweep at <a href='https://wandb.ai/bronsonschoen-personal-use/simple_regression/sweeps/m0p58ake' target=\"_blank\">https://wandb.ai/bronsonschoen-personal-use/simple_regression/sweeps/m0p58ake</a>"
      ],
      "text/plain": [
       "<IPython.core.display.HTML object>"
      ]
     },
     "metadata": {},
     "output_type": "display_data"
    },
    {
     "data": {
      "text/html": [
       " View run at <a href='https://wandb.ai/bronsonschoen-personal-use/simple_regression/runs/egeosc1j' target=\"_blank\">https://wandb.ai/bronsonschoen-personal-use/simple_regression/runs/egeosc1j</a>"
      ],
      "text/plain": [
       "<IPython.core.display.HTML object>"
      ]
     },
     "metadata": {},
     "output_type": "display_data"
    },
    {
     "name": "stdout",
     "output_type": "stream",
     "text": [
      "Using device: mps\n",
      "Epoch [1/1], Train Loss: 1.5060, Test Loss: 1.3887, Accuracy: 53.79%\n"
     ]
    },
    {
     "data": {
      "application/vnd.jupyter.widget-view+json": {
       "model_id": "5763b4874c224eefa3980954716e60c1",
       "version_major": 2,
       "version_minor": 0
      },
      "text/plain": [
       "VBox(children=(Label(value='0.001 MB of 0.052 MB uploaded\\r'), FloatProgress(value=0.022695375978726548, max=1…"
      ]
     },
     "metadata": {},
     "output_type": "display_data"
    },
    {
     "data": {
      "text/html": [
       "<style>\n",
       "    table.wandb td:nth-child(1) { padding: 0 10px; text-align: left ; width: auto;} td:nth-child(2) {text-align: left ; width: 100%}\n",
       "    .wandb-row { display: flex; flex-direction: row; flex-wrap: wrap; justify-content: flex-start; width: 100% }\n",
       "    .wandb-col { display: flex; flex-direction: column; flex-basis: 100%; flex: 1; padding: 10px; }\n",
       "    </style>\n",
       "<div class=\"wandb-row\"><div class=\"wandb-col\"><h3>Run history:</h3><br/><table class=\"wandb\"><tr><td>accuracy</td><td>▁</td></tr><tr><td>epoch</td><td>▁</td></tr><tr><td>test_loss</td><td>▁</td></tr><tr><td>train_loss</td><td>▁</td></tr></table><br/></div><div class=\"wandb-col\"><h3>Run summary:</h3><br/><table class=\"wandb\"><tr><td>accuracy</td><td>53.793</td></tr><tr><td>epoch</td><td>0</td></tr><tr><td>test_loss</td><td>1.38865</td></tr><tr><td>train_loss</td><td>1.50601</td></tr></table><br/></div></div>"
      ],
      "text/plain": [
       "<IPython.core.display.HTML object>"
      ]
     },
     "metadata": {},
     "output_type": "display_data"
    },
    {
     "data": {
      "text/html": [
       " View run <strong style=\"color:#cdcd00\">dashing-sweep-12</strong> at: <a href='https://wandb.ai/bronsonschoen-personal-use/simple_regression/runs/egeosc1j' target=\"_blank\">https://wandb.ai/bronsonschoen-personal-use/simple_regression/runs/egeosc1j</a><br/> View project at: <a href='https://wandb.ai/bronsonschoen-personal-use/simple_regression' target=\"_blank\">https://wandb.ai/bronsonschoen-personal-use/simple_regression</a><br/>Synced 5 W&B file(s), 0 media file(s), 0 artifact file(s) and 0 other file(s)"
      ],
      "text/plain": [
       "<IPython.core.display.HTML object>"
      ]
     },
     "metadata": {},
     "output_type": "display_data"
    },
    {
     "data": {
      "text/html": [
       "Find logs at: <code>./wandb/run-20240904_194956-egeosc1j/logs</code>"
      ],
      "text/plain": [
       "<IPython.core.display.HTML object>"
      ]
     },
     "metadata": {},
     "output_type": "display_data"
    },
    {
     "data": {
      "text/html": [
       "The new W&B backend becomes opt-out in version 0.18.0; try it out with `wandb.require(\"core\")`! See https://wandb.me/wandb-core for more information."
      ],
      "text/plain": [
       "<IPython.core.display.HTML object>"
      ]
     },
     "metadata": {},
     "output_type": "display_data"
    },
    {
     "name": "stdout",
     "output_type": "stream",
     "text": [
      "Training completed!\n"
     ]
    },
    {
     "name": "stderr",
     "output_type": "stream",
     "text": [
      "\u001b[34m\u001b[1mwandb\u001b[0m: Agent Starting Run: 6c0ljo2d with config:\n",
      "\u001b[34m\u001b[1mwandb\u001b[0m: \tbatch_size: 64\n",
      "\u001b[34m\u001b[1mwandb\u001b[0m: \td_model: 2\n",
      "\u001b[34m\u001b[1mwandb\u001b[0m: \tn_layers: 4\n",
      "\u001b[34m\u001b[1mwandb\u001b[0m: \tnum_epochs: 1\n",
      "\u001b[34m\u001b[1mwandb\u001b[0m: \tnum_samples: 100000\n",
      "\u001b[34m\u001b[1mwandb\u001b[0m: \ttest_interval: 100000000000000000000\n",
      "Failed to detect the name of this notebook, you can set it manually with the WANDB_NOTEBOOK_NAME environment variable to enable code saving.\n",
      "\u001b[34m\u001b[1mwandb\u001b[0m: \u001b[33mWARNING\u001b[0m Ignored wandb.init() arg project when running a sweep.\n"
     ]
    },
    {
     "data": {
      "text/html": [
       "wandb version 0.17.8 is available!  To upgrade, please run:\n",
       " $ pip install wandb --upgrade"
      ],
      "text/plain": [
       "<IPython.core.display.HTML object>"
      ]
     },
     "metadata": {},
     "output_type": "display_data"
    },
    {
     "data": {
      "text/html": [
       "Tracking run with wandb version 0.17.7"
      ],
      "text/plain": [
       "<IPython.core.display.HTML object>"
      ]
     },
     "metadata": {},
     "output_type": "display_data"
    },
    {
     "data": {
      "text/html": [
       "Run data is saved locally in <code>/Users/bronsonschoen/gpt_from_scratch/wandb/run-20240904_195241-6c0ljo2d</code>"
      ],
      "text/plain": [
       "<IPython.core.display.HTML object>"
      ]
     },
     "metadata": {},
     "output_type": "display_data"
    },
    {
     "data": {
      "text/html": [
       "Syncing run <strong><a href='https://wandb.ai/bronsonschoen-personal-use/simple_regression/runs/6c0ljo2d' target=\"_blank\">quiet-sweep-13</a></strong> to <a href='https://wandb.ai/bronsonschoen-personal-use/simple_regression' target=\"_blank\">Weights & Biases</a> (<a href='https://wandb.me/run' target=\"_blank\">docs</a>)<br/>Sweep page: <a href='https://wandb.ai/bronsonschoen-personal-use/simple_regression/sweeps/m0p58ake' target=\"_blank\">https://wandb.ai/bronsonschoen-personal-use/simple_regression/sweeps/m0p58ake</a>"
      ],
      "text/plain": [
       "<IPython.core.display.HTML object>"
      ]
     },
     "metadata": {},
     "output_type": "display_data"
    },
    {
     "data": {
      "text/html": [
       " View project at <a href='https://wandb.ai/bronsonschoen-personal-use/simple_regression' target=\"_blank\">https://wandb.ai/bronsonschoen-personal-use/simple_regression</a>"
      ],
      "text/plain": [
       "<IPython.core.display.HTML object>"
      ]
     },
     "metadata": {},
     "output_type": "display_data"
    },
    {
     "data": {
      "text/html": [
       " View sweep at <a href='https://wandb.ai/bronsonschoen-personal-use/simple_regression/sweeps/m0p58ake' target=\"_blank\">https://wandb.ai/bronsonschoen-personal-use/simple_regression/sweeps/m0p58ake</a>"
      ],
      "text/plain": [
       "<IPython.core.display.HTML object>"
      ]
     },
     "metadata": {},
     "output_type": "display_data"
    },
    {
     "data": {
      "text/html": [
       " View run at <a href='https://wandb.ai/bronsonschoen-personal-use/simple_regression/runs/6c0ljo2d' target=\"_blank\">https://wandb.ai/bronsonschoen-personal-use/simple_regression/runs/6c0ljo2d</a>"
      ],
      "text/plain": [
       "<IPython.core.display.HTML object>"
      ]
     },
     "metadata": {},
     "output_type": "display_data"
    },
    {
     "name": "stdout",
     "output_type": "stream",
     "text": [
      "Using device: mps\n",
      "Epoch [1/1], Train Loss: 2.2714, Test Loss: 2.2379, Accuracy: 14.81%\n"
     ]
    },
    {
     "data": {
      "application/vnd.jupyter.widget-view+json": {
       "model_id": "e52b3d180a4b4dc4b863aaf895a878d8",
       "version_major": 2,
       "version_minor": 0
      },
      "text/plain": [
       "VBox(children=(Label(value='0.001 MB of 0.048 MB uploaded\\r'), FloatProgress(value=0.024667817430050983, max=1…"
      ]
     },
     "metadata": {},
     "output_type": "display_data"
    },
    {
     "data": {
      "text/html": [
       "<style>\n",
       "    table.wandb td:nth-child(1) { padding: 0 10px; text-align: left ; width: auto;} td:nth-child(2) {text-align: left ; width: 100%}\n",
       "    .wandb-row { display: flex; flex-direction: row; flex-wrap: wrap; justify-content: flex-start; width: 100% }\n",
       "    .wandb-col { display: flex; flex-direction: column; flex-basis: 100%; flex: 1; padding: 10px; }\n",
       "    </style>\n",
       "<div class=\"wandb-row\"><div class=\"wandb-col\"><h3>Run history:</h3><br/><table class=\"wandb\"><tr><td>accuracy</td><td>▁</td></tr><tr><td>epoch</td><td>▁</td></tr><tr><td>test_loss</td><td>▁</td></tr><tr><td>train_loss</td><td>▁</td></tr></table><br/></div><div class=\"wandb-col\"><h3>Run summary:</h3><br/><table class=\"wandb\"><tr><td>accuracy</td><td>14.81</td></tr><tr><td>epoch</td><td>0</td></tr><tr><td>test_loss</td><td>2.23786</td></tr><tr><td>train_loss</td><td>2.27144</td></tr></table><br/></div></div>"
      ],
      "text/plain": [
       "<IPython.core.display.HTML object>"
      ]
     },
     "metadata": {},
     "output_type": "display_data"
    },
    {
     "data": {
      "text/html": [
       " View run <strong style=\"color:#cdcd00\">quiet-sweep-13</strong> at: <a href='https://wandb.ai/bronsonschoen-personal-use/simple_regression/runs/6c0ljo2d' target=\"_blank\">https://wandb.ai/bronsonschoen-personal-use/simple_regression/runs/6c0ljo2d</a><br/> View project at: <a href='https://wandb.ai/bronsonschoen-personal-use/simple_regression' target=\"_blank\">https://wandb.ai/bronsonschoen-personal-use/simple_regression</a><br/>Synced 5 W&B file(s), 0 media file(s), 0 artifact file(s) and 0 other file(s)"
      ],
      "text/plain": [
       "<IPython.core.display.HTML object>"
      ]
     },
     "metadata": {},
     "output_type": "display_data"
    },
    {
     "data": {
      "text/html": [
       "Find logs at: <code>./wandb/run-20240904_195241-6c0ljo2d/logs</code>"
      ],
      "text/plain": [
       "<IPython.core.display.HTML object>"
      ]
     },
     "metadata": {},
     "output_type": "display_data"
    },
    {
     "data": {
      "text/html": [
       "The new W&B backend becomes opt-out in version 0.18.0; try it out with `wandb.require(\"core\")`! See https://wandb.me/wandb-core for more information."
      ],
      "text/plain": [
       "<IPython.core.display.HTML object>"
      ]
     },
     "metadata": {},
     "output_type": "display_data"
    },
    {
     "name": "stdout",
     "output_type": "stream",
     "text": [
      "Training completed!\n"
     ]
    },
    {
     "name": "stderr",
     "output_type": "stream",
     "text": [
      "\u001b[34m\u001b[1mwandb\u001b[0m: Agent Starting Run: qg8aacq5 with config:\n",
      "\u001b[34m\u001b[1mwandb\u001b[0m: \tbatch_size: 64\n",
      "\u001b[34m\u001b[1mwandb\u001b[0m: \td_model: 2048\n",
      "\u001b[34m\u001b[1mwandb\u001b[0m: \tn_layers: 4\n",
      "\u001b[34m\u001b[1mwandb\u001b[0m: \tnum_epochs: 1\n",
      "\u001b[34m\u001b[1mwandb\u001b[0m: \tnum_samples: 100000\n",
      "\u001b[34m\u001b[1mwandb\u001b[0m: \ttest_interval: 100000000000000000000\n",
      "Failed to detect the name of this notebook, you can set it manually with the WANDB_NOTEBOOK_NAME environment variable to enable code saving.\n",
      "\u001b[34m\u001b[1mwandb\u001b[0m: \u001b[33mWARNING\u001b[0m Ignored wandb.init() arg project when running a sweep.\n"
     ]
    },
    {
     "data": {
      "text/html": [
       "wandb version 0.17.8 is available!  To upgrade, please run:\n",
       " $ pip install wandb --upgrade"
      ],
      "text/plain": [
       "<IPython.core.display.HTML object>"
      ]
     },
     "metadata": {},
     "output_type": "display_data"
    },
    {
     "data": {
      "text/html": [
       "Tracking run with wandb version 0.17.7"
      ],
      "text/plain": [
       "<IPython.core.display.HTML object>"
      ]
     },
     "metadata": {},
     "output_type": "display_data"
    },
    {
     "data": {
      "text/html": [
       "Run data is saved locally in <code>/Users/bronsonschoen/gpt_from_scratch/wandb/run-20240904_195307-qg8aacq5</code>"
      ],
      "text/plain": [
       "<IPython.core.display.HTML object>"
      ]
     },
     "metadata": {},
     "output_type": "display_data"
    },
    {
     "data": {
      "text/html": [
       "Syncing run <strong><a href='https://wandb.ai/bronsonschoen-personal-use/simple_regression/runs/qg8aacq5' target=\"_blank\">firm-sweep-14</a></strong> to <a href='https://wandb.ai/bronsonschoen-personal-use/simple_regression' target=\"_blank\">Weights & Biases</a> (<a href='https://wandb.me/run' target=\"_blank\">docs</a>)<br/>Sweep page: <a href='https://wandb.ai/bronsonschoen-personal-use/simple_regression/sweeps/m0p58ake' target=\"_blank\">https://wandb.ai/bronsonschoen-personal-use/simple_regression/sweeps/m0p58ake</a>"
      ],
      "text/plain": [
       "<IPython.core.display.HTML object>"
      ]
     },
     "metadata": {},
     "output_type": "display_data"
    },
    {
     "data": {
      "text/html": [
       " View project at <a href='https://wandb.ai/bronsonschoen-personal-use/simple_regression' target=\"_blank\">https://wandb.ai/bronsonschoen-personal-use/simple_regression</a>"
      ],
      "text/plain": [
       "<IPython.core.display.HTML object>"
      ]
     },
     "metadata": {},
     "output_type": "display_data"
    },
    {
     "data": {
      "text/html": [
       " View sweep at <a href='https://wandb.ai/bronsonschoen-personal-use/simple_regression/sweeps/m0p58ake' target=\"_blank\">https://wandb.ai/bronsonschoen-personal-use/simple_regression/sweeps/m0p58ake</a>"
      ],
      "text/plain": [
       "<IPython.core.display.HTML object>"
      ]
     },
     "metadata": {},
     "output_type": "display_data"
    },
    {
     "data": {
      "text/html": [
       " View run at <a href='https://wandb.ai/bronsonschoen-personal-use/simple_regression/runs/qg8aacq5' target=\"_blank\">https://wandb.ai/bronsonschoen-personal-use/simple_regression/runs/qg8aacq5</a>"
      ],
      "text/plain": [
       "<IPython.core.display.HTML object>"
      ]
     },
     "metadata": {},
     "output_type": "display_data"
    },
    {
     "name": "stdout",
     "output_type": "stream",
     "text": [
      "Using device: mps\n",
      "Epoch [1/1], Train Loss: 1.5091, Test Loss: 1.3976, Accuracy: 53.33%\n"
     ]
    },
    {
     "data": {
      "application/vnd.jupyter.widget-view+json": {
       "model_id": "66386efcfd0d4e6fbb860f004cfce677",
       "version_major": 2,
       "version_minor": 0
      },
      "text/plain": [
       "VBox(children=(Label(value='0.001 MB of 0.001 MB uploaded\\r'), FloatProgress(value=1.0, max=1.0)))"
      ]
     },
     "metadata": {},
     "output_type": "display_data"
    },
    {
     "data": {
      "text/html": [
       "<style>\n",
       "    table.wandb td:nth-child(1) { padding: 0 10px; text-align: left ; width: auto;} td:nth-child(2) {text-align: left ; width: 100%}\n",
       "    .wandb-row { display: flex; flex-direction: row; flex-wrap: wrap; justify-content: flex-start; width: 100% }\n",
       "    .wandb-col { display: flex; flex-direction: column; flex-basis: 100%; flex: 1; padding: 10px; }\n",
       "    </style>\n",
       "<div class=\"wandb-row\"><div class=\"wandb-col\"><h3>Run history:</h3><br/><table class=\"wandb\"><tr><td>accuracy</td><td>▁</td></tr><tr><td>epoch</td><td>▁</td></tr><tr><td>test_loss</td><td>▁</td></tr><tr><td>train_loss</td><td>▁</td></tr></table><br/></div><div class=\"wandb-col\"><h3>Run summary:</h3><br/><table class=\"wandb\"><tr><td>accuracy</td><td>53.327</td></tr><tr><td>epoch</td><td>0</td></tr><tr><td>test_loss</td><td>1.39763</td></tr><tr><td>train_loss</td><td>1.50912</td></tr></table><br/></div></div>"
      ],
      "text/plain": [
       "<IPython.core.display.HTML object>"
      ]
     },
     "metadata": {},
     "output_type": "display_data"
    },
    {
     "data": {
      "text/html": [
       " View run <strong style=\"color:#cdcd00\">firm-sweep-14</strong> at: <a href='https://wandb.ai/bronsonschoen-personal-use/simple_regression/runs/qg8aacq5' target=\"_blank\">https://wandb.ai/bronsonschoen-personal-use/simple_regression/runs/qg8aacq5</a><br/> View project at: <a href='https://wandb.ai/bronsonschoen-personal-use/simple_regression' target=\"_blank\">https://wandb.ai/bronsonschoen-personal-use/simple_regression</a><br/>Synced 5 W&B file(s), 0 media file(s), 0 artifact file(s) and 0 other file(s)"
      ],
      "text/plain": [
       "<IPython.core.display.HTML object>"
      ]
     },
     "metadata": {},
     "output_type": "display_data"
    },
    {
     "data": {
      "text/html": [
       "Find logs at: <code>./wandb/run-20240904_195307-qg8aacq5/logs</code>"
      ],
      "text/plain": [
       "<IPython.core.display.HTML object>"
      ]
     },
     "metadata": {},
     "output_type": "display_data"
    },
    {
     "data": {
      "text/html": [
       "The new W&B backend becomes opt-out in version 0.18.0; try it out with `wandb.require(\"core\")`! See https://wandb.me/wandb-core for more information."
      ],
      "text/plain": [
       "<IPython.core.display.HTML object>"
      ]
     },
     "metadata": {},
     "output_type": "display_data"
    },
    {
     "name": "stdout",
     "output_type": "stream",
     "text": [
      "Training completed!\n"
     ]
    },
    {
     "name": "stderr",
     "output_type": "stream",
     "text": [
      "\u001b[34m\u001b[1mwandb\u001b[0m: Agent Starting Run: nr2v8z0k with config:\n",
      "\u001b[34m\u001b[1mwandb\u001b[0m: \tbatch_size: 64\n",
      "\u001b[34m\u001b[1mwandb\u001b[0m: \td_model: 16\n",
      "\u001b[34m\u001b[1mwandb\u001b[0m: \tn_layers: 4\n",
      "\u001b[34m\u001b[1mwandb\u001b[0m: \tnum_epochs: 1\n",
      "\u001b[34m\u001b[1mwandb\u001b[0m: \tnum_samples: 100000\n",
      "\u001b[34m\u001b[1mwandb\u001b[0m: \ttest_interval: 100000000000000000000\n",
      "Failed to detect the name of this notebook, you can set it manually with the WANDB_NOTEBOOK_NAME environment variable to enable code saving.\n",
      "\u001b[34m\u001b[1mwandb\u001b[0m: \u001b[33mWARNING\u001b[0m Ignored wandb.init() arg project when running a sweep.\n"
     ]
    },
    {
     "data": {
      "text/html": [
       "wandb version 0.17.8 is available!  To upgrade, please run:\n",
       " $ pip install wandb --upgrade"
      ],
      "text/plain": [
       "<IPython.core.display.HTML object>"
      ]
     },
     "metadata": {},
     "output_type": "display_data"
    },
    {
     "data": {
      "text/html": [
       "Tracking run with wandb version 0.17.7"
      ],
      "text/plain": [
       "<IPython.core.display.HTML object>"
      ]
     },
     "metadata": {},
     "output_type": "display_data"
    },
    {
     "data": {
      "text/html": [
       "Run data is saved locally in <code>/Users/bronsonschoen/gpt_from_scratch/wandb/run-20240904_195403-nr2v8z0k</code>"
      ],
      "text/plain": [
       "<IPython.core.display.HTML object>"
      ]
     },
     "metadata": {},
     "output_type": "display_data"
    },
    {
     "data": {
      "text/html": [
       "Syncing run <strong><a href='https://wandb.ai/bronsonschoen-personal-use/simple_regression/runs/nr2v8z0k' target=\"_blank\">autumn-sweep-15</a></strong> to <a href='https://wandb.ai/bronsonschoen-personal-use/simple_regression' target=\"_blank\">Weights & Biases</a> (<a href='https://wandb.me/run' target=\"_blank\">docs</a>)<br/>Sweep page: <a href='https://wandb.ai/bronsonschoen-personal-use/simple_regression/sweeps/m0p58ake' target=\"_blank\">https://wandb.ai/bronsonschoen-personal-use/simple_regression/sweeps/m0p58ake</a>"
      ],
      "text/plain": [
       "<IPython.core.display.HTML object>"
      ]
     },
     "metadata": {},
     "output_type": "display_data"
    },
    {
     "data": {
      "text/html": [
       " View project at <a href='https://wandb.ai/bronsonschoen-personal-use/simple_regression' target=\"_blank\">https://wandb.ai/bronsonschoen-personal-use/simple_regression</a>"
      ],
      "text/plain": [
       "<IPython.core.display.HTML object>"
      ]
     },
     "metadata": {},
     "output_type": "display_data"
    },
    {
     "data": {
      "text/html": [
       " View sweep at <a href='https://wandb.ai/bronsonschoen-personal-use/simple_regression/sweeps/m0p58ake' target=\"_blank\">https://wandb.ai/bronsonschoen-personal-use/simple_regression/sweeps/m0p58ake</a>"
      ],
      "text/plain": [
       "<IPython.core.display.HTML object>"
      ]
     },
     "metadata": {},
     "output_type": "display_data"
    },
    {
     "data": {
      "text/html": [
       " View run at <a href='https://wandb.ai/bronsonschoen-personal-use/simple_regression/runs/nr2v8z0k' target=\"_blank\">https://wandb.ai/bronsonschoen-personal-use/simple_regression/runs/nr2v8z0k</a>"
      ],
      "text/plain": [
       "<IPython.core.display.HTML object>"
      ]
     },
     "metadata": {},
     "output_type": "display_data"
    },
    {
     "name": "stdout",
     "output_type": "stream",
     "text": [
      "Using device: mps\n",
      "Epoch [1/1], Train Loss: 2.0593, Test Loss: 1.9257, Accuracy: 32.18%\n"
     ]
    },
    {
     "data": {
      "application/vnd.jupyter.widget-view+json": {
       "model_id": "c520718f50324a259663b65a8976313d",
       "version_major": 2,
       "version_minor": 0
      },
      "text/plain": [
       "VBox(children=(Label(value='0.001 MB of 0.048 MB uploaded\\r'), FloatProgress(value=0.0244513857111593, max=1.0…"
      ]
     },
     "metadata": {},
     "output_type": "display_data"
    },
    {
     "data": {
      "text/html": [
       "<style>\n",
       "    table.wandb td:nth-child(1) { padding: 0 10px; text-align: left ; width: auto;} td:nth-child(2) {text-align: left ; width: 100%}\n",
       "    .wandb-row { display: flex; flex-direction: row; flex-wrap: wrap; justify-content: flex-start; width: 100% }\n",
       "    .wandb-col { display: flex; flex-direction: column; flex-basis: 100%; flex: 1; padding: 10px; }\n",
       "    </style>\n",
       "<div class=\"wandb-row\"><div class=\"wandb-col\"><h3>Run history:</h3><br/><table class=\"wandb\"><tr><td>accuracy</td><td>▁</td></tr><tr><td>epoch</td><td>▁</td></tr><tr><td>test_loss</td><td>▁</td></tr><tr><td>train_loss</td><td>▁</td></tr></table><br/></div><div class=\"wandb-col\"><h3>Run summary:</h3><br/><table class=\"wandb\"><tr><td>accuracy</td><td>32.178</td></tr><tr><td>epoch</td><td>0</td></tr><tr><td>test_loss</td><td>1.92568</td></tr><tr><td>train_loss</td><td>2.05926</td></tr></table><br/></div></div>"
      ],
      "text/plain": [
       "<IPython.core.display.HTML object>"
      ]
     },
     "metadata": {},
     "output_type": "display_data"
    },
    {
     "data": {
      "text/html": [
       " View run <strong style=\"color:#cdcd00\">autumn-sweep-15</strong> at: <a href='https://wandb.ai/bronsonschoen-personal-use/simple_regression/runs/nr2v8z0k' target=\"_blank\">https://wandb.ai/bronsonschoen-personal-use/simple_regression/runs/nr2v8z0k</a><br/> View project at: <a href='https://wandb.ai/bronsonschoen-personal-use/simple_regression' target=\"_blank\">https://wandb.ai/bronsonschoen-personal-use/simple_regression</a><br/>Synced 5 W&B file(s), 0 media file(s), 0 artifact file(s) and 0 other file(s)"
      ],
      "text/plain": [
       "<IPython.core.display.HTML object>"
      ]
     },
     "metadata": {},
     "output_type": "display_data"
    },
    {
     "data": {
      "text/html": [
       "Find logs at: <code>./wandb/run-20240904_195403-nr2v8z0k/logs</code>"
      ],
      "text/plain": [
       "<IPython.core.display.HTML object>"
      ]
     },
     "metadata": {},
     "output_type": "display_data"
    },
    {
     "data": {
      "text/html": [
       "The new W&B backend becomes opt-out in version 0.18.0; try it out with `wandb.require(\"core\")`! See https://wandb.me/wandb-core for more information."
      ],
      "text/plain": [
       "<IPython.core.display.HTML object>"
      ]
     },
     "metadata": {},
     "output_type": "display_data"
    },
    {
     "name": "stdout",
     "output_type": "stream",
     "text": [
      "Training completed!\n"
     ]
    },
    {
     "name": "stderr",
     "output_type": "stream",
     "text": [
      "\u001b[34m\u001b[1mwandb\u001b[0m: Agent Starting Run: j70pm4p7 with config:\n",
      "\u001b[34m\u001b[1mwandb\u001b[0m: \tbatch_size: 64\n",
      "\u001b[34m\u001b[1mwandb\u001b[0m: \td_model: 128\n",
      "\u001b[34m\u001b[1mwandb\u001b[0m: \tn_layers: 4\n",
      "\u001b[34m\u001b[1mwandb\u001b[0m: \tnum_epochs: 1\n",
      "\u001b[34m\u001b[1mwandb\u001b[0m: \tnum_samples: 100000\n",
      "\u001b[34m\u001b[1mwandb\u001b[0m: \ttest_interval: 100000000000000000000\n",
      "Failed to detect the name of this notebook, you can set it manually with the WANDB_NOTEBOOK_NAME environment variable to enable code saving.\n",
      "\u001b[34m\u001b[1mwandb\u001b[0m: \u001b[33mWARNING\u001b[0m Ignored wandb.init() arg project when running a sweep.\n"
     ]
    },
    {
     "data": {
      "text/html": [
       "wandb version 0.17.8 is available!  To upgrade, please run:\n",
       " $ pip install wandb --upgrade"
      ],
      "text/plain": [
       "<IPython.core.display.HTML object>"
      ]
     },
     "metadata": {},
     "output_type": "display_data"
    },
    {
     "data": {
      "text/html": [
       "Tracking run with wandb version 0.17.7"
      ],
      "text/plain": [
       "<IPython.core.display.HTML object>"
      ]
     },
     "metadata": {},
     "output_type": "display_data"
    },
    {
     "data": {
      "text/html": [
       "Run data is saved locally in <code>/Users/bronsonschoen/gpt_from_scratch/wandb/run-20240904_195429-j70pm4p7</code>"
      ],
      "text/plain": [
       "<IPython.core.display.HTML object>"
      ]
     },
     "metadata": {},
     "output_type": "display_data"
    },
    {
     "data": {
      "text/html": [
       "Syncing run <strong><a href='https://wandb.ai/bronsonschoen-personal-use/simple_regression/runs/j70pm4p7' target=\"_blank\">grateful-sweep-16</a></strong> to <a href='https://wandb.ai/bronsonschoen-personal-use/simple_regression' target=\"_blank\">Weights & Biases</a> (<a href='https://wandb.me/run' target=\"_blank\">docs</a>)<br/>Sweep page: <a href='https://wandb.ai/bronsonschoen-personal-use/simple_regression/sweeps/m0p58ake' target=\"_blank\">https://wandb.ai/bronsonschoen-personal-use/simple_regression/sweeps/m0p58ake</a>"
      ],
      "text/plain": [
       "<IPython.core.display.HTML object>"
      ]
     },
     "metadata": {},
     "output_type": "display_data"
    },
    {
     "data": {
      "text/html": [
       " View project at <a href='https://wandb.ai/bronsonschoen-personal-use/simple_regression' target=\"_blank\">https://wandb.ai/bronsonschoen-personal-use/simple_regression</a>"
      ],
      "text/plain": [
       "<IPython.core.display.HTML object>"
      ]
     },
     "metadata": {},
     "output_type": "display_data"
    },
    {
     "data": {
      "text/html": [
       " View sweep at <a href='https://wandb.ai/bronsonschoen-personal-use/simple_regression/sweeps/m0p58ake' target=\"_blank\">https://wandb.ai/bronsonschoen-personal-use/simple_regression/sweeps/m0p58ake</a>"
      ],
      "text/plain": [
       "<IPython.core.display.HTML object>"
      ]
     },
     "metadata": {},
     "output_type": "display_data"
    },
    {
     "data": {
      "text/html": [
       " View run at <a href='https://wandb.ai/bronsonschoen-personal-use/simple_regression/runs/j70pm4p7' target=\"_blank\">https://wandb.ai/bronsonschoen-personal-use/simple_regression/runs/j70pm4p7</a>"
      ],
      "text/plain": [
       "<IPython.core.display.HTML object>"
      ]
     },
     "metadata": {},
     "output_type": "display_data"
    },
    {
     "name": "stdout",
     "output_type": "stream",
     "text": [
      "Using device: mps\n",
      "Epoch [1/1], Train Loss: 1.5571, Test Loss: 1.4040, Accuracy: 52.95%\n"
     ]
    },
    {
     "data": {
      "application/vnd.jupyter.widget-view+json": {
       "model_id": "b99b7d1d9709465bbe3b30f5793290ea",
       "version_major": 2,
       "version_minor": 0
      },
      "text/plain": [
       "VBox(children=(Label(value='0.001 MB of 0.049 MB uploaded\\r'), FloatProgress(value=0.023924469534747906, max=1…"
      ]
     },
     "metadata": {},
     "output_type": "display_data"
    },
    {
     "data": {
      "text/html": [
       "<style>\n",
       "    table.wandb td:nth-child(1) { padding: 0 10px; text-align: left ; width: auto;} td:nth-child(2) {text-align: left ; width: 100%}\n",
       "    .wandb-row { display: flex; flex-direction: row; flex-wrap: wrap; justify-content: flex-start; width: 100% }\n",
       "    .wandb-col { display: flex; flex-direction: column; flex-basis: 100%; flex: 1; padding: 10px; }\n",
       "    </style>\n",
       "<div class=\"wandb-row\"><div class=\"wandb-col\"><h3>Run history:</h3><br/><table class=\"wandb\"><tr><td>accuracy</td><td>▁</td></tr><tr><td>epoch</td><td>▁</td></tr><tr><td>test_loss</td><td>▁</td></tr><tr><td>train_loss</td><td>▁</td></tr></table><br/></div><div class=\"wandb-col\"><h3>Run summary:</h3><br/><table class=\"wandb\"><tr><td>accuracy</td><td>52.949</td></tr><tr><td>epoch</td><td>0</td></tr><tr><td>test_loss</td><td>1.40405</td></tr><tr><td>train_loss</td><td>1.5571</td></tr></table><br/></div></div>"
      ],
      "text/plain": [
       "<IPython.core.display.HTML object>"
      ]
     },
     "metadata": {},
     "output_type": "display_data"
    },
    {
     "data": {
      "text/html": [
       " View run <strong style=\"color:#cdcd00\">grateful-sweep-16</strong> at: <a href='https://wandb.ai/bronsonschoen-personal-use/simple_regression/runs/j70pm4p7' target=\"_blank\">https://wandb.ai/bronsonschoen-personal-use/simple_regression/runs/j70pm4p7</a><br/> View project at: <a href='https://wandb.ai/bronsonschoen-personal-use/simple_regression' target=\"_blank\">https://wandb.ai/bronsonschoen-personal-use/simple_regression</a><br/>Synced 5 W&B file(s), 0 media file(s), 0 artifact file(s) and 0 other file(s)"
      ],
      "text/plain": [
       "<IPython.core.display.HTML object>"
      ]
     },
     "metadata": {},
     "output_type": "display_data"
    },
    {
     "data": {
      "text/html": [
       "Find logs at: <code>./wandb/run-20240904_195429-j70pm4p7/logs</code>"
      ],
      "text/plain": [
       "<IPython.core.display.HTML object>"
      ]
     },
     "metadata": {},
     "output_type": "display_data"
    },
    {
     "data": {
      "text/html": [
       "The new W&B backend becomes opt-out in version 0.18.0; try it out with `wandb.require(\"core\")`! See https://wandb.me/wandb-core for more information."
      ],
      "text/plain": [
       "<IPython.core.display.HTML object>"
      ]
     },
     "metadata": {},
     "output_type": "display_data"
    },
    {
     "name": "stdout",
     "output_type": "stream",
     "text": [
      "Training completed!\n"
     ]
    },
    {
     "name": "stderr",
     "output_type": "stream",
     "text": [
      "\u001b[34m\u001b[1mwandb\u001b[0m: Agent Starting Run: 07htcqeu with config:\n",
      "\u001b[34m\u001b[1mwandb\u001b[0m: \tbatch_size: 64\n",
      "\u001b[34m\u001b[1mwandb\u001b[0m: \td_model: 4096\n",
      "\u001b[34m\u001b[1mwandb\u001b[0m: \tn_layers: 4\n",
      "\u001b[34m\u001b[1mwandb\u001b[0m: \tnum_epochs: 1\n",
      "\u001b[34m\u001b[1mwandb\u001b[0m: \tnum_samples: 100000\n",
      "\u001b[34m\u001b[1mwandb\u001b[0m: \ttest_interval: 100000000000000000000\n",
      "Failed to detect the name of this notebook, you can set it manually with the WANDB_NOTEBOOK_NAME environment variable to enable code saving.\n",
      "\u001b[34m\u001b[1mwandb\u001b[0m: \u001b[33mWARNING\u001b[0m Ignored wandb.init() arg project when running a sweep.\n"
     ]
    },
    {
     "data": {
      "text/html": [
       "wandb version 0.17.8 is available!  To upgrade, please run:\n",
       " $ pip install wandb --upgrade"
      ],
      "text/plain": [
       "<IPython.core.display.HTML object>"
      ]
     },
     "metadata": {},
     "output_type": "display_data"
    },
    {
     "data": {
      "text/html": [
       "Tracking run with wandb version 0.17.7"
      ],
      "text/plain": [
       "<IPython.core.display.HTML object>"
      ]
     },
     "metadata": {},
     "output_type": "display_data"
    },
    {
     "data": {
      "text/html": [
       "Run data is saved locally in <code>/Users/bronsonschoen/gpt_from_scratch/wandb/run-20240904_195455-07htcqeu</code>"
      ],
      "text/plain": [
       "<IPython.core.display.HTML object>"
      ]
     },
     "metadata": {},
     "output_type": "display_data"
    },
    {
     "data": {
      "text/html": [
       "Syncing run <strong><a href='https://wandb.ai/bronsonschoen-personal-use/simple_regression/runs/07htcqeu' target=\"_blank\">ethereal-sweep-17</a></strong> to <a href='https://wandb.ai/bronsonschoen-personal-use/simple_regression' target=\"_blank\">Weights & Biases</a> (<a href='https://wandb.me/run' target=\"_blank\">docs</a>)<br/>Sweep page: <a href='https://wandb.ai/bronsonschoen-personal-use/simple_regression/sweeps/m0p58ake' target=\"_blank\">https://wandb.ai/bronsonschoen-personal-use/simple_regression/sweeps/m0p58ake</a>"
      ],
      "text/plain": [
       "<IPython.core.display.HTML object>"
      ]
     },
     "metadata": {},
     "output_type": "display_data"
    },
    {
     "data": {
      "text/html": [
       " View project at <a href='https://wandb.ai/bronsonschoen-personal-use/simple_regression' target=\"_blank\">https://wandb.ai/bronsonschoen-personal-use/simple_regression</a>"
      ],
      "text/plain": [
       "<IPython.core.display.HTML object>"
      ]
     },
     "metadata": {},
     "output_type": "display_data"
    },
    {
     "data": {
      "text/html": [
       " View sweep at <a href='https://wandb.ai/bronsonschoen-personal-use/simple_regression/sweeps/m0p58ake' target=\"_blank\">https://wandb.ai/bronsonschoen-personal-use/simple_regression/sweeps/m0p58ake</a>"
      ],
      "text/plain": [
       "<IPython.core.display.HTML object>"
      ]
     },
     "metadata": {},
     "output_type": "display_data"
    },
    {
     "data": {
      "text/html": [
       " View run at <a href='https://wandb.ai/bronsonschoen-personal-use/simple_regression/runs/07htcqeu' target=\"_blank\">https://wandb.ai/bronsonschoen-personal-use/simple_regression/runs/07htcqeu</a>"
      ],
      "text/plain": [
       "<IPython.core.display.HTML object>"
      ]
     },
     "metadata": {},
     "output_type": "display_data"
    },
    {
     "name": "stdout",
     "output_type": "stream",
     "text": [
      "Using device: mps\n"
     ]
    },
    {
     "name": "stderr",
     "output_type": "stream",
     "text": [
      "\u001b[34m\u001b[1mwandb\u001b[0m: Ctrl + C detected. Stopping sweep.\n"
     ]
    },
    {
     "data": {
      "application/vnd.jupyter.widget-view+json": {
       "model_id": "314d80a2ddfc46ba9fb6781e03121b99",
       "version_major": 2,
       "version_minor": 0
      },
      "text/plain": [
       "VBox(children=(Label(value='0.001 MB of 0.001 MB uploaded\\r'), FloatProgress(value=1.0, max=1.0)))"
      ]
     },
     "metadata": {},
     "output_type": "display_data"
    },
    {
     "data": {
      "text/html": [
       " View run <strong style=\"color:#cdcd00\">ethereal-sweep-17</strong> at: <a href='https://wandb.ai/bronsonschoen-personal-use/simple_regression/runs/07htcqeu' target=\"_blank\">https://wandb.ai/bronsonschoen-personal-use/simple_regression/runs/07htcqeu</a><br/> View project at: <a href='https://wandb.ai/bronsonschoen-personal-use/simple_regression' target=\"_blank\">https://wandb.ai/bronsonschoen-personal-use/simple_regression</a><br/>Synced 5 W&B file(s), 0 media file(s), 0 artifact file(s) and 0 other file(s)"
      ],
      "text/plain": [
       "<IPython.core.display.HTML object>"
      ]
     },
     "metadata": {},
     "output_type": "display_data"
    },
    {
     "data": {
      "text/html": [
       "Find logs at: <code>./wandb/run-20240904_195455-07htcqeu/logs</code>"
      ],
      "text/plain": [
       "<IPython.core.display.HTML object>"
      ]
     },
     "metadata": {},
     "output_type": "display_data"
    },
    {
     "data": {
      "text/html": [
       "The new W&B backend becomes opt-out in version 0.18.0; try it out with `wandb.require(\"core\")`! See https://wandb.me/wandb-core for more information."
      ],
      "text/plain": [
       "<IPython.core.display.HTML object>"
      ]
     },
     "metadata": {},
     "output_type": "display_data"
    }
   ],
   "source": [
    "sweep_id = wandb.sweep(\n",
    "    sweep=sweep_configuration,\n",
    "    project=WANDB_PROJECT_NAME,\n",
    ")\n",
    "\n",
    "num_trials = 100\n",
    "\n",
    "# Inu\n",
    "# TODO(bschoen): Use hyperband to abort sweep early [](https://www.jmlr.org/papers/volume18/16-558/16-558.pdf)\n",
    "# - popular to use\n",
    "#\n",
    "# note: Larger batch size increases GPU memory usage and doubling batch size often allows doubling learning rate, up to a point where this relationship breaks down.\n",
    "wandb.agent(\n",
    "    sweep_id=sweep_id,\n",
    "    function=train_wandb_scaling,\n",
    "    count=num_trials,\n",
    ")\n",
    "\n",
    "wandb.finish()"
   ]
  },
  {
   "cell_type": "code",
   "execution_count": null,
   "id": "bfe3f380",
   "metadata": {},
   "outputs": [],
   "source": []
  },
  {
   "cell_type": "code",
   "execution_count": null,
   "id": "e97c6be7",
   "metadata": {},
   "outputs": [],
   "source": []
  },
  {
   "cell_type": "code",
   "execution_count": null,
   "id": "468f9a8c",
   "metadata": {},
   "outputs": [],
   "source": []
  },
  {
   "cell_type": "code",
   "execution_count": null,
   "id": "6ca4a245",
   "metadata": {},
   "outputs": [],
   "source": [
    "# Evaluate the model (optional)\n",
    "model.eval()\n",
    "with torch.no_grad():\n",
    "\n",
    "    test_x = torch.randn(100, 10)  # Generate some test data\n",
    "    test_x.to(device)\n",
    "    test_y = model(test_x)\n",
    "\n",
    "    print(\"Sample predictions:\", test_y[:5].numpy())"
   ]
  },
  {
   "cell_type": "code",
   "execution_count": null,
   "id": "811531c2",
   "metadata": {},
   "outputs": [],
   "source": []
  },
  {
   "cell_type": "code",
   "execution_count": null,
   "id": "29bfa004",
   "metadata": {},
   "outputs": [],
   "source": []
  },
  {
   "cell_type": "code",
   "execution_count": null,
   "id": "44c518d4",
   "metadata": {},
   "outputs": [],
   "source": []
  },
  {
   "cell_type": "code",
   "execution_count": null,
   "id": "1f85b190",
   "metadata": {},
   "outputs": [],
   "source": []
  }
 ],
 "metadata": {
  "kernelspec": {
   "display_name": "Python 3 (ipykernel)",
   "language": "python",
   "name": "python3"
  },
  "language_info": {
   "codemirror_mode": {
    "name": "ipython",
    "version": 3
   },
   "file_extension": ".py",
   "mimetype": "text/x-python",
   "name": "python",
   "nbconvert_exporter": "python",
   "pygments_lexer": "ipython3",
   "version": "3.12.5"
  }
 },
 "nbformat": 4,
 "nbformat_minor": 5
}
