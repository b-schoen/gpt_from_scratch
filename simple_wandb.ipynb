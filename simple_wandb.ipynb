{
 "cells": [
  {
   "cell_type": "code",
   "execution_count": 37,
   "id": "8136c449-8445-45fd-8d23-358f6e639e67",
   "metadata": {},
   "outputs": [
    {
     "name": "stdout",
     "output_type": "stream",
     "text": [
      "The autoreload extension is already loaded. To reload it, use:\n",
      "  %reload_ext autoreload\n",
      "The jaxtyping extension is already loaded. To reload it, use:\n",
      "  %reload_ext jaxtyping\n"
     ]
    }
   ],
   "source": [
    "# Autoimport on changes\n",
    "%load_ext autoreload\n",
    "%autoreload 2\n",
    "\n",
    "# Import commonly used libraries\n",
    "import numpy as np\n",
    "import pandas as pd\n",
    "\n",
    "import torch\n",
    "import torch.nn as nn\n",
    "import torch.optim as optim\n",
    "import torch.nn.functional as F\n",
    "\n",
    "# graphics\n",
    "import matplotlib.pyplot as plt\n",
    "import plotly.express as px\n",
    "import plotly.graph_objects as go\n",
    "\n",
    "# type annotation\n",
    "import jaxtyping\n",
    "from jaxtyping import Float32, Int64, jaxtyped\n",
    "from typeguard import typechecked as typechecker\n",
    "\n",
    "# more itertools\n",
    "import more_itertools as mi\n",
    "\n",
    "# itertools\n",
    "import itertools\n",
    "import collections\n",
    "\n",
    "# tensor manipulation\n",
    "from einops import rearrange, reduce, repeat\n",
    "\n",
    "# automatically apply jaxtyping\n",
    "%load_ext jaxtyping\n",
    "%jaxtyping.typechecker typeguard.typechecked"
   ]
  },
  {
   "cell_type": "code",
   "execution_count": 57,
   "id": "b4cd595f",
   "metadata": {},
   "outputs": [],
   "source": [
    "import torch\n",
    "from torch.utils.data import Dataset\n",
    "import numpy as np\n",
    "from sklearn.datasets import make_moons, make_circles, make_blobs\n",
    "from typing import Literal, Tuple\n",
    "from jaxtyping import Float, Int64\n",
    "\n",
    "\n",
    "class GeometricDataset(Dataset):\n",
    "    def __init__(self, num_samples: int = 1000, noise: float = 0.01):\n",
    "        \"\"\"\n",
    "        Initialize the GeometricDataset with multiple 2D patterns combined into a higher-dimensional space.\n",
    "\n",
    "        :param num_samples: Total number of samples to generate\n",
    "        :param noise: Noise level for the patterns\n",
    "        \"\"\"\n",
    "        self.num_samples = num_samples\n",
    "        self.noise = noise\n",
    "\n",
    "        # Generate data for each pattern\n",
    "        X_moons, y_moons = make_moons(\n",
    "            n_samples=num_samples,\n",
    "            noise=noise,\n",
    "            random_state=42,\n",
    "        )\n",
    "        X_circles, y_circles = make_circles(\n",
    "            n_samples=num_samples,\n",
    "            noise=noise,\n",
    "            factor=0.5,\n",
    "            random_state=42,\n",
    "        )\n",
    "        X_spirals, y_spirals = self._make_spirals(\n",
    "            n_samples=num_samples,\n",
    "            noise=noise,\n",
    "        )\n",
    "        X_blobs, y_blobs = make_blobs(\n",
    "            n_samples=num_samples,\n",
    "            centers=[[0, 0], [1, 1], [-1, 1], [1, -1]],\n",
    "            cluster_std=0.3,\n",
    "            random_state=42,\n",
    "        )\n",
    "\n",
    "        # Combine all data into a single 8-dimensional dataset\n",
    "        self.X = np.hstack((X_moons, X_circles, X_spirals, X_blobs))\n",
    "\n",
    "        # Store original labels\n",
    "        self.y_original = np.stack([y_moons, y_circles, y_spirals, y_blobs], axis=1)\n",
    "\n",
    "        # Create a mapping for unique combinations\n",
    "        self.label_mapping = self._create_label_mapping(self.y_original)\n",
    "\n",
    "        # Combine labels using the mapping\n",
    "        self.y = self._encode_labels(self.y_original)\n",
    "\n",
    "        # Convert to PyTorch tensors\n",
    "        self.X = torch.tensor(self.X, dtype=torch.float32)\n",
    "        self.y = torch.tensor(self.y, dtype=torch.long)\n",
    "        self.y_original = torch.tensor(self.y_original, dtype=torch.long)\n",
    "\n",
    "    def _make_spirals(\n",
    "        self,\n",
    "        n_samples: int,\n",
    "        noise: float,\n",
    "    ) -> tuple[np.ndarray, np.ndarray]:\n",
    "        \"\"\"Generate two intertwining spirals.\"\"\"\n",
    "        n = np.sqrt(np.random.rand(n_samples // 2, 1)) * 780 * (2 * np.pi) / 360\n",
    "        d1x = -np.cos(n) * n + np.random.randn(n_samples // 2, 1) * noise\n",
    "        d1y = np.sin(n) * n + np.random.randn(n_samples // 2, 1) * noise\n",
    "        d2x = np.cos(n) * n + np.random.randn(n_samples // 2, 1) * noise\n",
    "        d2y = -np.sin(n) * n + np.random.randn(n_samples // 2, 1) * noise\n",
    "\n",
    "        X = np.vstack((np.hstack((d1x, d1y)), np.hstack((d2x, d2y))))\n",
    "        y = np.hstack((np.zeros(n_samples // 2), np.ones(n_samples // 2)))\n",
    "\n",
    "        # Shuffle the points\n",
    "        idx = np.random.permutation(n_samples)\n",
    "        return X[idx], y[idx]\n",
    "\n",
    "    def _create_label_mapping(self, labels: np.ndarray) -> dict:\n",
    "        \"\"\"\n",
    "        Create a mapping from unique label combinations to integers.\n",
    "        \"\"\"\n",
    "        unique_combinations = np.unique(labels, axis=0)\n",
    "        return {tuple(comb): i + 1 for i, comb in enumerate(unique_combinations)}\n",
    "\n",
    "    def _encode_labels(self, labels: np.ndarray) -> np.ndarray:\n",
    "        \"\"\"\n",
    "        Encode the original labels into a single integer value using the mapping.\n",
    "        \"\"\"\n",
    "        return np.array([self.label_mapping[tuple(label)] for label in labels])\n",
    "\n",
    "    def decode_labels(self, encoded_labels: torch.Tensor) -> torch.Tensor:\n",
    "        \"\"\"\n",
    "        Decode the encoded labels back to the original binary labels.\n",
    "        \"\"\"\n",
    "        inverse_mapping = {v: k for k, v in self.label_mapping.items()}\n",
    "        return torch.tensor([inverse_mapping[label.item()] for label in encoded_labels])\n",
    "\n",
    "    def __len__(self) -> int:\n",
    "        return self.num_samples\n",
    "\n",
    "    def __getitem__(\n",
    "        self,\n",
    "        idx: int,\n",
    "    ) -> tuple[Float[torch.Tensor, \"8\"], Int64[torch.Tensor, \"\"]]:\n",
    "        return self.X[idx], self.y[idx]\n",
    "\n",
    "    def visualize(self, sample_size: int = 1000) -> None:\n",
    "        \"\"\"\n",
    "        Visualize each 2D pattern in the dataset, coloring by the original labels.\n",
    "\n",
    "        :param sample_size: Number of points to plot (to avoid overcrowding)\n",
    "        \"\"\"\n",
    "        import matplotlib.pyplot as plt\n",
    "\n",
    "        # Sample a subset of points if necessary\n",
    "        if sample_size < len(self.X):\n",
    "            indices = np.random.choice(len(self.X), sample_size, replace=False)\n",
    "            X_sample = self.X[indices]\n",
    "            y_original_sample = self.y_original[indices]\n",
    "        else:\n",
    "            X_sample = self.X\n",
    "            y_original_sample = self.y_original\n",
    "\n",
    "        fig, axs = plt.subplots(2, 2, figsize=(15, 15))\n",
    "        patterns = [\"Moons\", \"Circles\", \"Spirals\", \"Blobs\"]\n",
    "\n",
    "        for i, ax in enumerate(axs.flat):\n",
    "            scatter = ax.scatter(\n",
    "                X_sample[:, 2 * i],\n",
    "                X_sample[:, 2 * i + 1],\n",
    "                c=y_original_sample[:, i],\n",
    "                cmap=\"viridis\",\n",
    "                alpha=0.6,\n",
    "                s=10,\n",
    "            )\n",
    "            ax.set_title(f\"{patterns[i]} Pattern\")\n",
    "            ax.set_xlabel(f\"Feature {2*i}\")\n",
    "            ax.set_ylabel(f\"Feature {2*i+1}\")\n",
    "            fig.colorbar(scatter, ax=ax, label=f\"{patterns[i]} Class\")\n",
    "\n",
    "        plt.tight_layout()\n",
    "        plt.show()\n",
    "\n",
    "    def get_class_distribution(self) -> dict[int, int]:\n",
    "        \"\"\"\n",
    "        Get the distribution of encoded classes in the dataset.\n",
    "\n",
    "        :return: A dictionary with encoded class labels as keys and their counts as values\n",
    "        \"\"\"\n",
    "        return {\n",
    "            i: (self.y == i).sum().item() for i in range(1, len(self.label_mapping) + 1)\n",
    "        }\n",
    "\n",
    "    def get_original_class_distributions(self) -> list[dict[int, int]]:\n",
    "        \"\"\"\n",
    "        Get the distribution of original classes for each pattern.\n",
    "\n",
    "        :return: A list of dictionaries, each with class labels as keys and their counts as values\n",
    "        \"\"\"\n",
    "        return [\n",
    "            {i: (self.y_original[:, j] == i).sum().item() for i in range(2)}\n",
    "            for j in range(4)\n",
    "        ]\n",
    "\n",
    "    def get_label_mapping(self) -> dict:\n",
    "        \"\"\"\n",
    "        Get the mapping from original label combinations to encoded labels.\n",
    "\n",
    "        :return: A dictionary with original label combinations as keys and encoded labels as values\n",
    "        \"\"\"\n",
    "        return {str(k): v for k, v in self.label_mapping.items()}"
   ]
  },
  {
   "cell_type": "code",
   "execution_count": 58,
   "id": "b3f1d1ff",
   "metadata": {},
   "outputs": [
    {
     "data": {
      "image/png": "[encoded data removed]",
      "text/plain": [
       "<Figure size 1500x1500 with 8 Axes>"
      ]
     },
     "metadata": {},
     "output_type": "display_data"
    },
    {
     "name": "stdout",
     "output_type": "stream",
     "text": [
      "{1: 62, 2: 61, 3: 59, 4: 64, 5: 59, 6: 67, 7: 64, 8: 64, 9: 63, 10: 62, 11: 69, 12: 60, 13: 66, 14: 60, 15: 58, 16: 62}\n"
     ]
    }
   ],
   "source": [
    "# Create the dataset\n",
    "dataset = GeometricDataset(num_samples=1000, noise=0.01)\n",
    "\n",
    "# Visualize the dataset\n",
    "dataset.visualize()\n",
    "\n",
    "# Print class distribution\n",
    "print(dataset.get_class_distribution())"
   ]
  },
  {
   "cell_type": "code",
   "execution_count": 59,
   "id": "074137dd",
   "metadata": {},
   "outputs": [
    {
     "data": {
      "text/plain": [
       "{(0.0, 0.0, 0.0, 0.0): 1,\n",
       " (0.0, 0.0, 0.0, 1.0): 2,\n",
       " (0.0, 0.0, 0.0, 2.0): 3,\n",
       " (0.0, 0.0, 0.0, 3.0): 4,\n",
       " (0.0, 0.0, 1.0, 0.0): 5,\n",
       " (0.0, 0.0, 1.0, 1.0): 6,\n",
       " (0.0, 0.0, 1.0, 2.0): 7,\n",
       " (0.0, 0.0, 1.0, 3.0): 8,\n",
       " (1.0, 1.0, 0.0, 0.0): 9,\n",
       " (1.0, 1.0, 0.0, 1.0): 10,\n",
       " (1.0, 1.0, 0.0, 2.0): 11,\n",
       " (1.0, 1.0, 0.0, 3.0): 12,\n",
       " (1.0, 1.0, 1.0, 0.0): 13,\n",
       " (1.0, 1.0, 1.0, 1.0): 14,\n",
       " (1.0, 1.0, 1.0, 2.0): 15,\n",
       " (1.0, 1.0, 1.0, 3.0): 16}"
      ]
     },
     "execution_count": 59,
     "metadata": {},
     "output_type": "execute_result"
    }
   ],
   "source": [
    "dataset.label_mapping"
   ]
  },
  {
   "cell_type": "code",
   "execution_count": 53,
   "id": "329e2894",
   "metadata": {},
   "outputs": [
    {
     "data": {
      "text/plain": [
       "torch.Size([1000])"
      ]
     },
     "execution_count": 53,
     "metadata": {},
     "output_type": "execute_result"
    }
   ],
   "source": [
    "dataset.y.shape"
   ]
  },
  {
   "cell_type": "code",
   "execution_count": 51,
   "id": "7e1a709a",
   "metadata": {},
   "outputs": [
    {
     "ename": "AttributeError",
     "evalue": "'GeometricDataset' object has no attribute 'Y'",
     "output_type": "error",
     "traceback": [
      "\u001b[0;31m---------------------------------------------------------------------------\u001b[0m",
      "\u001b[0;31mAttributeError\u001b[0m                            Traceback (most recent call last)",
      "Cell \u001b[0;32mIn[51], line 1\u001b[0m\n\u001b[0;32m----> 1\u001b[0m \u001b[43mdataset\u001b[49m\u001b[38;5;241;43m.\u001b[39;49m\u001b[43mY\u001b[49m\u001b[38;5;241m.\u001b[39mshape\n",
      "\u001b[0;31mAttributeError\u001b[0m: 'GeometricDataset' object has no attribute 'Y'"
     ]
    }
   ],
   "source": []
  },
  {
   "cell_type": "code",
   "execution_count": 60,
   "id": "d91f8447",
   "metadata": {},
   "outputs": [],
   "source": [
    "import torch\n",
    "import torch.nn as nn\n",
    "import torch.optim as optim\n",
    "from torch.utils.data import Dataset, DataLoader\n",
    "import numpy as np\n",
    "\n",
    "import dataclasses\n",
    "import pprint\n",
    "\n",
    "import wandb\n",
    "\n",
    "import tqdm\n",
    "\n",
    "WANDB_PROJECT_NAME = \"simple_regression\"\n",
    "\n",
    "\n",
    "# Define a simple dataset\n",
    "class SimpleDataset(Dataset):\n",
    "    def __init__(self, num_samples: int = 1000):\n",
    "        \"\"\"\n",
    "        Initialize the dataset with random samples.\n",
    "\n",
    "        :param num_samples: Number of samples to generate\n",
    "        \"\"\"\n",
    "        self.x = torch.randn(num_samples, 10)  # 10 input features\n",
    "        self.y = torch.sum(self.x[:, :5], dim=1) - torch.sum(\n",
    "            self.x[:, 5:], dim=1\n",
    "        )  # Target is sum of first 5 features minus sum of last 5\n",
    "        self.y += torch.randn(num_samples) * 0.1  # Add some noise\n",
    "\n",
    "    def __len__(self) -> int:\n",
    "        return len(self.x)\n",
    "\n",
    "    def __getitem__(\n",
    "        self, idx: int\n",
    "    ) -> tuple[Float32[torch.Tensor, \"features\"], Float32[torch.Tensor, \"\"]]:\n",
    "        return self.x[idx], self.y[idx]\n",
    "\n",
    "\n",
    "class QuadraticDataset(Dataset):\n",
    "    def __init__(self, num_samples: int = 1000):\n",
    "        \"\"\"\n",
    "        Initialize the dataset with a quadratic pattern.\n",
    "\n",
    "        :param num_samples: Number of samples to generate\n",
    "        \"\"\"\n",
    "        self.x = torch.randn(num_samples, 5)  # 5 input features\n",
    "        self.y = torch.sum(self.x**2, dim=1)  # Sum of squared features\n",
    "        self.y += torch.randn(num_samples) * 0.1  # Add some noise\n",
    "\n",
    "    def __len__(self) -> int:\n",
    "        return len(self.x)\n",
    "\n",
    "    def __getitem__(\n",
    "        self, idx: int\n",
    "    ) -> tuple[Float32[torch.Tensor, \"features\"], Float32[torch.Tensor, \"\"]]:\n",
    "        return self.x[idx], self.y[idx]\n",
    "\n",
    "\n",
    "class ExponentialDataset(Dataset):\n",
    "    def __init__(self, num_samples: int = 1000):\n",
    "        \"\"\"\n",
    "        Initialize the dataset with an exponential pattern.\n",
    "\n",
    "        :param num_samples: Number of samples to generate\n",
    "        \"\"\"\n",
    "        self.x = torch.randn(num_samples, 5)  # 5 input features\n",
    "        self.y = torch.sum(torch.exp(self.x * 0.5), dim=1)  # Sum of exponentials\n",
    "        self.y = (self.y - self.y.mean()) / self.y.std()  # Normalize\n",
    "        self.y += torch.randn(num_samples) * 0.1  # Add some noise\n",
    "\n",
    "    def __len__(self) -> int:\n",
    "        return len(self.x)\n",
    "\n",
    "    def __getitem__(\n",
    "        self, idx: int\n",
    "    ) -> tuple[Float32[torch.Tensor, \"features\"], Float32[torch.Tensor, \"\"]]:\n",
    "        return self.x[idx], self.y[idx]\n",
    "\n",
    "\n",
    "class SinusoidalDataset(Dataset):\n",
    "    def __init__(self, num_samples: int = 1000):\n",
    "        \"\"\"\n",
    "        Initialize the dataset with a sinusoidal pattern.\n",
    "\n",
    "        :param num_samples: Number of samples to generate\n",
    "        \"\"\"\n",
    "        self.x = torch.randn(num_samples, 5)  # 5 input features\n",
    "        self.y = torch.sum(torch.sin(self.x), dim=1)  # Sum of sines\n",
    "        self.y += torch.randn(num_samples) * 0.1  # Add some noise\n",
    "\n",
    "    def __len__(self) -> int:\n",
    "        return len(self.x)\n",
    "\n",
    "    def __getitem__(\n",
    "        self, idx: int\n",
    "    ) -> tuple[Float32[torch.Tensor, \"features\"], Float32[torch.Tensor, \"\"]]:\n",
    "        return self.x[idx], self.y[idx]\n",
    "\n",
    "\n",
    "class InteractionDataset(Dataset):\n",
    "    def __init__(self, num_samples: int = 1000):\n",
    "        \"\"\"\n",
    "        Initialize the dataset with feature interactions.\n",
    "\n",
    "        :param num_samples: Number of samples to generate\n",
    "        \"\"\"\n",
    "        self.x = torch.randn(num_samples, 5)  # 5 input features\n",
    "        self.y = (\n",
    "            self.x[:, 0] * self.x[:, 1] + self.x[:, 2] * self.x[:, 3] + self.x[:, 4]\n",
    "        )\n",
    "        self.y += torch.randn(num_samples) * 0.1  # Add some noise\n",
    "\n",
    "    def __len__(self) -> int:\n",
    "        return len(self.x)\n",
    "\n",
    "    def __getitem__(\n",
    "        self, idx: int\n",
    "    ) -> tuple[Float32[torch.Tensor, \"features\"], Float32[torch.Tensor, \"\"]]:\n",
    "        return self.x[idx], self.y[idx]\n",
    "\n",
    "\n",
    "class ComplexDataset(Dataset):\n",
    "    def __init__(self, num_samples: int = 1000):\n",
    "        \"\"\"\n",
    "        Initialize a complex dataset combining multiple patterns.\n",
    "\n",
    "        :param num_samples: Number of samples to generate\n",
    "        \"\"\"\n",
    "        self.x = torch.randn(num_samples, 10)  # 10 input features\n",
    "\n",
    "        # Combine different patterns for each group of features\n",
    "        self.y = torch.zeros(num_samples)\n",
    "\n",
    "        # Quadratic pattern for first two features\n",
    "        self.y += torch.sum(self.x[:, :2] ** 2, dim=1)\n",
    "\n",
    "        # Exponential pattern for next two features\n",
    "        self.y += torch.sum(torch.exp(self.x[:, 2:4] * 0.5), dim=1)\n",
    "\n",
    "        # Sinusoidal pattern for next two features\n",
    "        self.y += torch.sum(torch.sin(self.x[:, 4:6]), dim=1)\n",
    "\n",
    "        # Interaction between next two features\n",
    "        self.y += self.x[:, 6] * self.x[:, 7]\n",
    "\n",
    "        # Linear combination of last two features\n",
    "        self.y += 2 * self.x[:, 8] - 3 * self.x[:, 9]\n",
    "\n",
    "        # Add non-linear transformation\n",
    "        self.y = torch.tanh(self.y)\n",
    "\n",
    "        # Normalize\n",
    "        self.y = (self.y - self.y.mean()) / self.y.std()\n",
    "\n",
    "        # Add some noise\n",
    "        self.y += torch.randn(num_samples) * 0.05\n",
    "\n",
    "    def __len__(self) -> int:\n",
    "        return len(self.x)\n",
    "\n",
    "    def __getitem__(\n",
    "        self, idx: int\n",
    "    ) -> tuple[Float32[torch.Tensor, \"features\"], Float32[torch.Tensor, \"\"]]:\n",
    "        return self.x[idx], self.y[idx]\n",
    "\n",
    "\n",
    "class MultiClassDataset(Dataset):\n",
    "    def __init__(self, num_samples: int = 1000, num_classes: int = 10):\n",
    "        \"\"\"\n",
    "        Initialize a multi-class dataset for classification tasks.\n",
    "\n",
    "        :param num_samples: Number of samples to generate\n",
    "        :param num_classes: Number of classes for classification\n",
    "        \"\"\"\n",
    "        self.num_classes = num_classes\n",
    "        self.x = torch.randn(num_samples, 10)  # 10 input features\n",
    "\n",
    "        # Generate class probabilities\n",
    "        logits = torch.zeros(num_samples, num_classes)\n",
    "\n",
    "        # Create complex decision boundaries\n",
    "        for i in range(num_classes):\n",
    "            # Use different combinations of features for each class\n",
    "            # - The sinusoidal term adds periodic non-linearity.\n",
    "            # - The quadratic term adds parabolic curvature.\n",
    "            # - The exponential term adds rapid growth for positive values.\n",
    "            # - The interaction term captures pairwise feature interactions.\n",
    "\n",
    "            logits[:, i] = (\n",
    "                torch.sin(\n",
    "                    self.x[:, i] + self.x[:, (i + 1) % 10]\n",
    "                )  # Non-linear combination\n",
    "                + self.x[:, (i + 2) % 10] ** 2  # Quadratic term\n",
    "                + torch.exp(self.x[:, (i + 3) % 10] * 0.1)  # Exponential term\n",
    "                + self.x[:, (i + 4) % 10] * self.x[:, (i + 5) % 10]  # Interaction term\n",
    "            )\n",
    "\n",
    "        # Convert logits to probabilities\n",
    "        self.probs = F.softmax(logits, dim=1)\n",
    "\n",
    "        # Sample classes based on probabilities\n",
    "        self.y = torch.multinomial(self.probs, 1).squeeze()\n",
    "\n",
    "    def __len__(self) -> int:\n",
    "        return len(self.x)\n",
    "\n",
    "    def __getitem__(\n",
    "        self, idx: int\n",
    "    ) -> tuple[Float32[torch.Tensor, \"features\"], Int64[torch.Tensor, \"\"]]:\n",
    "        return self.x[idx], self.y[idx]\n",
    "\n",
    "    def get_class_probabilities(self, idx: int) -> Float32[torch.Tensor, \"num_classes\"]:\n",
    "        \"\"\"\n",
    "        Get the probability distribution over classes for a specific sample.\n",
    "\n",
    "        :param idx: Index of the sample\n",
    "        :return: Probability distribution over classes\n",
    "        \"\"\"\n",
    "        return self.probs[idx]\n",
    "\n",
    "\n",
    "class GeometricShapesDataset(torch.utils.data.Dataset):\n",
    "    \"\"\"\n",
    "    A dataset that generates samples representing geometric shapes in a 2D space.\n",
    "    Each sample is classified into one of several shape categories based on its features.\n",
    "\n",
    "    This dataset creates complex decision boundaries based on geometric properties.\n",
    "\n",
    "    Other potential ideas for multi-class datasets:\n",
    "    1. Weather Prediction: Features like temperature, humidity, pressure, wind speed\n",
    "       could be used to classify into weather types (sunny, rainy, snowy, etc.)\n",
    "    2. Music Genre Classification: Audio features like tempo, spectral centroid,\n",
    "       zero-crossing rate could be used to classify music into genres.\n",
    "    3. Stellar Classification: Features like temperature, luminosity, mass, and\n",
    "       chemical composition could be used to classify stars into types.\n",
    "\n",
    "    :param num_samples: Number of samples to generate\n",
    "    :param num_classes: Number of shape classes (default is 4: circle, square, triangle, ellipse)\n",
    "    \"\"\"\n",
    "\n",
    "    def __init__(self, num_samples: int):\n",
    "        self.num_samples = num_samples\n",
    "        self.num_classes = 4\n",
    "        self.x = torch.rand(\n",
    "            num_samples, 4\n",
    "        )  # 4 features: x, y, radius/side length, aspect ratio\n",
    "\n",
    "        # Generate shape properties\n",
    "        self.center_x = self.x[:, 0]\n",
    "        self.center_y = self.x[:, 1]\n",
    "        self.size = self.x[:, 2] * 0.5 + 0.5  # Ensure positive size\n",
    "        self.aspect_ratio = self.x[:, 3] * 2 + 0.5  # Range from 0.5 to 2.5\n",
    "\n",
    "        # Calculate probabilities for each class\n",
    "        self.probs = torch.zeros(num_samples, self.num_classes)\n",
    "\n",
    "        # Circle probability: higher when aspect ratio is close to 1\n",
    "        self.probs[:, 0] = torch.exp(-5 * torch.abs(self.aspect_ratio - 1))\n",
    "\n",
    "        # Square probability: higher when aspect ratio is close to 1 and center is close to origin\n",
    "        self.probs[:, 1] = torch.exp(-5 * torch.abs(self.aspect_ratio - 1)) * torch.exp(\n",
    "            -2 * (self.center_x**2 + self.center_y**2)\n",
    "        )\n",
    "\n",
    "        # Triangle probability: higher when size is inversely proportional to distance from origin\n",
    "        self.probs[:, 2] = torch.exp(\n",
    "            -2 * (self.size * (self.center_x**2 + self.center_y**2 + 1) - 1) ** 2\n",
    "        )\n",
    "\n",
    "        # Ellipse probability: higher for remaining cases (when other probabilities are low)\n",
    "        self.probs[:, 3] = torch.clamp(\n",
    "            1 - (self.probs[:, 0] + self.probs[:, 1] + self.probs[:, 2]), min=0\n",
    "        )\n",
    "\n",
    "        # Add a small epsilon to avoid zeros\n",
    "        epsilon = 1e-8\n",
    "        self.probs += epsilon\n",
    "\n",
    "        # Normalize probabilities\n",
    "        self.probs = F.normalize(self.probs, p=1, dim=1)\n",
    "\n",
    "        # Ensure no NaNs or infinities\n",
    "        self.probs = torch.nan_to_num(self.probs, nan=0.0, posinf=1.0, neginf=0.0)\n",
    "\n",
    "        # Sample classes based on probabilities\n",
    "        self.y = torch.multinomial(self.probs, 1).squeeze()\n",
    "\n",
    "    def __len__(self) -> int:\n",
    "        return self.num_samples\n",
    "\n",
    "    def __getitem__(\n",
    "        self, idx: int\n",
    "    ) -> tuple[Float32[torch.Tensor, \"features\"], Int64[torch.Tensor, \"\"]]:\n",
    "        return self.x[idx], self.y[idx]\n",
    "\n",
    "    def get_class_probabilities(self, idx: int) -> Float32[torch.Tensor, \"num_classes\"]:\n",
    "        \"\"\"\n",
    "        Get the probability distribution over classes for a specific sample.\n",
    "\n",
    "        :param idx: Index of the sample\n",
    "        :return: Probability distribution over classes\n",
    "        \"\"\"\n",
    "        return self.probs[idx]\n",
    "\n",
    "\n",
    "class SimpleClassificationDataset(Dataset):\n",
    "    def __init__(\n",
    "        self, num_samples: int = 1000, num_features: int = 4, num_classes: int = 4\n",
    "    ):\n",
    "        \"\"\"\n",
    "        Initialize a simple classification dataset.\n",
    "\n",
    "        :param num_samples: Number of samples in the dataset\n",
    "        :param num_features: Number of features for each sample\n",
    "        :param num_classes: Number of classes for classification\n",
    "        \"\"\"\n",
    "        self.num_samples = num_samples\n",
    "        self.num_features = num_features\n",
    "        self.num_classes = num_classes\n",
    "\n",
    "        # Generate random features\n",
    "        self.features: Float32[torch.Tensor, \"num_samples num_features\"] = torch.randn(\n",
    "            num_samples, num_features\n",
    "        )\n",
    "\n",
    "        # Generate labels based on a simple rule\n",
    "        self.labels: Int64[torch.Tensor, \"num_samples\"] = torch.zeros(\n",
    "            num_samples, dtype=torch.long\n",
    "        )\n",
    "\n",
    "        for i in range(num_samples):\n",
    "            # More complex classification rule: assign class based on feature interactions\n",
    "            f1, f2, f3, f4 = self.features[i]  # Unpack features\n",
    "\n",
    "            # Class 0: First feature dominates and is negative\n",
    "            if f1 < -0.5 and f1 < f2 and f1 < f3 and f1 < f4:\n",
    "                self.labels[i] = 0\n",
    "            # Class 1: Product of first two features is large positive\n",
    "            elif f1 * f2 > 0.5:\n",
    "                self.labels[i] = 1\n",
    "            # Class 2: Sum of last two features is close to zero\n",
    "            elif abs(f3 + f4) < 0.1:\n",
    "                self.labels[i] = 2\n",
    "            # Class 3: All other cases\n",
    "            else:\n",
    "                self.labels[i] = 3\n",
    "\n",
    "            # Add some noise to make it even harder\n",
    "            if torch.rand(1).item() < 0.05:  # 5% chance of random label\n",
    "                self.labels[i] = torch.randint(0, self.num_classes, (1,)).item()\n",
    "\n",
    "    def __len__(self) -> int:\n",
    "        return self.num_samples\n",
    "\n",
    "    def __getitem__(\n",
    "        self, idx: int\n",
    "    ) -> tuple[Float32[torch.Tensor, \"num_features\"], Int64[torch.Tensor, \"\"]]:\n",
    "        return self.features[idx], self.labels[idx]\n",
    "\n",
    "    def get_class_distribution(self) -> dict[int, int]:\n",
    "        \"\"\"\n",
    "        Get the distribution of classes in the dataset.\n",
    "\n",
    "        :return: A dictionary with class labels as keys and their counts as values\n",
    "        \"\"\"\n",
    "        return {i: (self.labels == i).sum().item() for i in range(self.num_classes)}\n",
    "\n",
    "\n",
    "@dataclasses.dataclass\n",
    "class SimpleNetConfig:\n",
    "    d_model: int\n",
    "    n_layers: int\n",
    "\n",
    "    dropout: float\n",
    "\n",
    "    d_input: int = 8\n",
    "    d_output: int = 1\n",
    "\n",
    "\n",
    "# Define a simple neural network\n",
    "\n",
    "\n",
    "class SimpleNet(nn.Module):\n",
    "    def __init__(self, cfg: SimpleNetConfig) -> None:\n",
    "        \"\"\"\n",
    "        Initialize the neural network with multiple hidden layers for multi-class classification.\n",
    "        \"\"\"\n",
    "        super(SimpleNet, self).__init__()\n",
    "\n",
    "        self.cfg = cfg\n",
    "\n",
    "        # Input layer: 10 features to d_model\n",
    "        self.input_layer = nn.Linear(self.cfg.d_input, self.cfg.d_model)\n",
    "        self.activation_fn = nn.ReLU()\n",
    "        self.dropout = nn.Dropout(p=self.cfg.dropout)\n",
    "\n",
    "        # Hidden layers with dropout\n",
    "        self.hidden_layers = nn.Sequential(\n",
    "            *[\n",
    "                nn.Sequential(\n",
    "                    nn.Linear(self.cfg.d_model, self.cfg.d_model),\n",
    "                    nn.ReLU(),\n",
    "                    nn.Dropout(p=self.cfg.dropout),\n",
    "                )\n",
    "                for _ in range(cfg.n_layers)\n",
    "            ]\n",
    "        )\n",
    "\n",
    "        # Output layer: d_model to num_classes (10 for MultiClassDataset)\n",
    "        self.output_layer = nn.Linear(self.cfg.d_model, self.cfg.d_output)\n",
    "\n",
    "    def forward(\n",
    "        self,\n",
    "        x: Float32[torch.Tensor, \"batch features\"],\n",
    "    ) -> Float32[torch.Tensor, \"batch num_classes\"]:\n",
    "        \"\"\"\n",
    "        Forward pass of the network for multi-class classification.\n",
    "\n",
    "        :param x: Input tensor\n",
    "        :return: Logits for each class\n",
    "        \"\"\"\n",
    "        # Apply activation_fn and dropout after input layer\n",
    "        x = self.dropout(self.activation_fn(self.input_layer(x)))\n",
    "\n",
    "        # Hidden layers already have activation_fn and dropout\n",
    "        x = self.hidden_layers(x)\n",
    "\n",
    "        # No activation_fn or dropout after output layer (logits)\n",
    "        x = self.output_layer(x)\n",
    "\n",
    "        return x  # Return logits for all classes\n",
    "\n",
    "\n",
    "from sklearn.datasets import make_moons\n",
    "from sklearn.model_selection import train_test_split\n",
    "import numpy as np\n",
    "\n",
    "import matplotlib.pyplot as plt\n",
    "\n",
    "\n",
    "class MoonsDataset(torch.utils.data.Dataset):\n",
    "    def __init__(self, num_samples: int, noise: float = 0.1, test_size: float = 0.2):\n",
    "        \"\"\"\n",
    "        Initialize the Moons dataset.\n",
    "\n",
    "        :param num_samples: Total number of samples to generate\n",
    "        :param noise: Standard deviation of Gaussian noise added to the data\n",
    "        :param test_size: Proportion of the dataset to include in the test split\n",
    "        \"\"\"\n",
    "        # Generate the moons data\n",
    "        X, y = make_moons(n_samples=num_samples, noise=noise, random_state=42)\n",
    "\n",
    "        # Split the data into training and testing sets\n",
    "        X_train, X_test, y_train, y_test = train_test_split(\n",
    "            X, y, test_size=test_size, random_state=42\n",
    "        )\n",
    "\n",
    "        # Store the training data\n",
    "        self.X = torch.tensor(X_train, dtype=torch.float32)\n",
    "        self.y = torch.tensor(y_train, dtype=torch.long)\n",
    "\n",
    "        # Store the test data separately\n",
    "        self.X_test = torch.tensor(X_test, dtype=torch.float32)\n",
    "        self.y_test = torch.tensor(y_test, dtype=torch.long)\n",
    "\n",
    "    def __len__(self) -> int:\n",
    "        return len(self.X)\n",
    "\n",
    "    def __getitem__(\n",
    "        self, idx: int\n",
    "    ) -> tuple[Float32[torch.Tensor, \"features\"], Int64[torch.Tensor, \"\"]]:\n",
    "        return self.X[idx], self.y[idx]\n",
    "\n",
    "    def get_test_data(\n",
    "        self,\n",
    "    ) -> tuple[\n",
    "        Float32[torch.Tensor, \"num_samples features\"],\n",
    "        Int64[torch.Tensor, \"num_samples\"],\n",
    "    ]:\n",
    "        \"\"\"\n",
    "        Return the test data.\n",
    "\n",
    "        :return: Tuple of test features and labels\n",
    "        \"\"\"\n",
    "        return self.X_test, self.y_test\n",
    "\n",
    "    def visualize(self) -> None:\n",
    "        \"\"\"\n",
    "        Visualize the Moons dataset.\n",
    "        \"\"\"\n",
    "        plt.figure(figsize=(10, 8))\n",
    "\n",
    "        # Plot training data\n",
    "        plt.scatter(\n",
    "            self.X[:, 0],\n",
    "            self.X[:, 1],\n",
    "            c=self.y,\n",
    "            cmap=\"coolwarm\",\n",
    "            alpha=0.7,\n",
    "            s=50,\n",
    "            edgecolors=\"black\",\n",
    "        )\n",
    "        plt.title(\"Moons Dataset Visualization\")\n",
    "        plt.xlabel(\"Feature 1\")\n",
    "        plt.ylabel(\"Feature 2\")\n",
    "\n",
    "        # Add a legend\n",
    "        plt.colorbar(label=\"Class\")\n",
    "\n",
    "        # Plot test data with different marker\n",
    "        plt.scatter(\n",
    "            self.X_test[:, 0],\n",
    "            self.X_test[:, 1],\n",
    "            c=self.y_test,\n",
    "            cmap=\"coolwarm\",\n",
    "            alpha=0.7,\n",
    "            s=50,\n",
    "            edgecolors=\"black\",\n",
    "            marker=\"s\",\n",
    "        )\n",
    "\n",
    "        # Add text to indicate train and test sets\n",
    "        plt.text(\n",
    "            0.05,\n",
    "            0.95,\n",
    "            \"Train: circles\\nTest: squares\",\n",
    "            transform=plt.gca().transAxes,\n",
    "            verticalalignment=\"top\",\n",
    "            bbox=dict(boxstyle=\"round\", facecolor=\"white\", alpha=0.7),\n",
    "        )\n",
    "\n",
    "        plt.tight_layout()\n",
    "        plt.show()\n",
    "\n",
    "\n",
    "@dataclasses.dataclass\n",
    "class TrainingConfig:\n",
    "    # model\n",
    "    model_cfg: SimpleNetConfig\n",
    "\n",
    "    # data\n",
    "    num_samples: int = 10000\n",
    "\n",
    "    # training\n",
    "    num_epochs: int = 1000\n",
    "    test_interval: int = 100\n",
    "\n",
    "    # optimizer\n",
    "    learning_rate: float = 0.001\n",
    "    batch_size: int = 32\n",
    "\n",
    "\n",
    "def train(cfg: TrainingConfig) -> None:\n",
    "\n",
    "    # Determine the device to use\n",
    "    device = (\n",
    "        torch.device(\"mps\")\n",
    "        if torch.backends.mps.is_available()\n",
    "        else torch.device(\"cpu\")\n",
    "    )\n",
    "    print(f\"Using device: {device}\")\n",
    "\n",
    "    # Create dataset and dataloader\n",
    "    dataset = GeometricDataset(num_samples=cfg.num_samples)\n",
    "    dataloader = DataLoader(dataset, batch_size=cfg.batch_size, shuffle=True)\n",
    "\n",
    "    # Initialize the model, loss function, and optimizer\n",
    "    model = SimpleNet(cfg=cfg.model_cfg)\n",
    "    model = model.to(device)\n",
    "    criterion = nn.CrossEntropyLoss()\n",
    "    optimizer = optim.AdamW(model.parameters(), lr=cfg.learning_rate)\n",
    "\n",
    "    # TODO(bschoen): Plot from optimizer\n",
    "    \"\"\"\n",
    "    params\n",
    "    lr\n",
    "    betas\n",
    "    eps\n",
    "    weight_decay\n",
    "    amsgrad\n",
    "    foreach\n",
    "    maximize\n",
    "    capturable\n",
    "    differentiable\n",
    "    fused\n",
    "    \"\"\"\n",
    "    # for param_group in optimizer.param_groups:\n",
    "    #    for key in param_group:\n",
    "    #        print(key)\n",
    "\n",
    "    # We'll use these in the next cell for training\n",
    "    # Initialize wandb\n",
    "    # wandb.init(\n",
    "    #     project=WANDB_PROJECT_NAME,\n",
    "    #    config=dataclasses.asdict(cfg),\n",
    "    # )\n",
    "\n",
    "    # watch model and criterion\n",
    "    wandb.watch(\n",
    "        [model],\n",
    "        criterion=criterion,\n",
    "        log_freq=100,\n",
    "        log=\"all\",\n",
    "    )\n",
    "\n",
    "    # Training loop\n",
    "    for epoch in range(cfg.num_epochs):\n",
    "        model.train()\n",
    "        epoch_loss = 0.0\n",
    "\n",
    "        # for batch_x, batch_y in tqdm.tqdm(\n",
    "        #    desc=\"Iterating batches...\",\n",
    "        #    iterable=dataloader,\n",
    "        # ):\n",
    "        for batch_x, batch_y in dataloader:\n",
    "\n",
    "            batch_x, batch_y = batch_x.to(device), batch_y.to(device)\n",
    "\n",
    "            # Forward pass\n",
    "            outputs = model(batch_x)\n",
    "\n",
    "            # No need to assert shape equality for multi-class classification\n",
    "            # as CrossEntropyLoss expects logits and class indices\n",
    "\n",
    "            loss = criterion(outputs, batch_y)\n",
    "\n",
    "            # Backward pass and optimization\n",
    "            loss.backward()\n",
    "            optimizer.step()\n",
    "\n",
    "            optimizer.zero_grad()\n",
    "\n",
    "            epoch_loss += loss.item()\n",
    "\n",
    "        # Calculate average loss for the epoch\n",
    "        avg_loss = epoch_loss / len(dataloader)\n",
    "\n",
    "        # Compute test loss every n epochs (or once at very end)\n",
    "        if ((epoch + 1) % cfg.test_interval == 0) or (epoch == cfg.num_epochs - 1):\n",
    "\n",
    "            # Compute test loss\n",
    "            model.eval()\n",
    "            test_loss = 0.0\n",
    "            correct = 0\n",
    "            total = 0\n",
    "            with torch.no_grad():\n",
    "                for batch_x, batch_y in dataloader:\n",
    "                    batch_x, batch_y = batch_x.to(device), batch_y.to(device)\n",
    "                    test_outputs = model(batch_x)\n",
    "                    test_loss += criterion(test_outputs, batch_y).item()\n",
    "                    _, predicted = torch.max(test_outputs.data, 1)\n",
    "                    total += batch_y.size(0)\n",
    "                    correct += (predicted == batch_y).sum().item()\n",
    "            avg_test_loss = test_loss / len(dataloader)\n",
    "            accuracy = 100 * correct / total\n",
    "            model.train()\n",
    "\n",
    "            # print progress\n",
    "            print(\n",
    "                f\"Epoch [{epoch+1}/{cfg.num_epochs}], \"\n",
    "                f\"Train Loss: {avg_loss:.4f}, Test Loss: {avg_test_loss:.4f}, \"\n",
    "                f\"Accuracy: {accuracy:.2f}%\"\n",
    "            )\n",
    "\n",
    "            # Log metrics to wandb\n",
    "            wandb.log(\n",
    "                {\n",
    "                    \"epoch\": epoch,\n",
    "                    \"train_loss\": avg_loss,\n",
    "                    \"test_loss\": avg_test_loss,\n",
    "                    \"accuracy\": accuracy,\n",
    "                }\n",
    "            )\n",
    "\n",
    "        # At least print test loss every 1/10 epochs\n",
    "        elif ((epoch + 1) % (cfg.num_epochs // 10)) == 0:\n",
    "            print(f\"Epoch [{epoch+1}/{cfg.num_epochs}] Train Loss: {avg_loss:.6f}\")\n",
    "\n",
    "    # Finish the wandb run\n",
    "    wandb.finish()\n",
    "\n",
    "    print(\"Training completed!\")"
   ]
  },
  {
   "cell_type": "code",
   "execution_count": 61,
   "id": "aff90f0a",
   "metadata": {},
   "outputs": [
    {
     "data": {
      "text/html": [
       "Finishing last run (ID:j4i60clk) before initializing another..."
      ],
      "text/plain": [
       "<IPython.core.display.HTML object>"
      ]
     },
     "metadata": {},
     "output_type": "display_data"
    },
    {
     "data": {
      "application/vnd.jupyter.widget-view+json": {
       "model_id": "f0230588a6e2431b9c5cfcba8d33a291",
       "version_major": 2,
       "version_minor": 0
      },
      "text/plain": [
       "VBox(children=(Label(value='0.006 MB of 0.006 MB uploaded\\r'), FloatProgress(value=1.0, max=1.0)))"
      ]
     },
     "metadata": {},
     "output_type": "display_data"
    },
    {
     "data": {
      "text/html": [
       " View run <strong style=\"color:#cdcd00\">feasible-plasma-221</strong> at: <a href='https://wandb.ai/bronsonschoen-personal-use/simple_regression/runs/j4i60clk' target=\"_blank\">https://wandb.ai/bronsonschoen-personal-use/simple_regression/runs/j4i60clk</a><br/> View project at: <a href='https://wandb.ai/bronsonschoen-personal-use/simple_regression' target=\"_blank\">https://wandb.ai/bronsonschoen-personal-use/simple_regression</a><br/>Synced 5 W&B file(s), 0 media file(s), 0 artifact file(s) and 0 other file(s)"
      ],
      "text/plain": [
       "<IPython.core.display.HTML object>"
      ]
     },
     "metadata": {},
     "output_type": "display_data"
    },
    {
     "data": {
      "text/html": [
       "Find logs at: <code>./wandb/run-20240904_211212-j4i60clk/logs</code>"
      ],
      "text/plain": [
       "<IPython.core.display.HTML object>"
      ]
     },
     "metadata": {},
     "output_type": "display_data"
    },
    {
     "data": {
      "text/html": [
       "The new W&B backend becomes opt-out in version 0.18.0; try it out with `wandb.require(\"core\")`! See https://wandb.me/wandb-core for more information."
      ],
      "text/plain": [
       "<IPython.core.display.HTML object>"
      ]
     },
     "metadata": {},
     "output_type": "display_data"
    },
    {
     "data": {
      "text/html": [
       "Successfully finished last run (ID:j4i60clk). Initializing new run:<br/>"
      ],
      "text/plain": [
       "<IPython.core.display.HTML object>"
      ]
     },
     "metadata": {},
     "output_type": "display_data"
    },
    {
     "data": {
      "application/vnd.jupyter.widget-view+json": {
       "model_id": "11c9d380f4ce4b35b59f08388f814895",
       "version_major": 2,
       "version_minor": 0
      },
      "text/plain": [
       "VBox(children=(Label(value='Waiting for wandb.init()...\\r'), FloatProgress(value=0.011167308333420401, max=1.0…"
      ]
     },
     "metadata": {},
     "output_type": "display_data"
    },
    {
     "data": {
      "text/html": [
       "wandb version 0.17.8 is available!  To upgrade, please run:\n",
       " $ pip install wandb --upgrade"
      ],
      "text/plain": [
       "<IPython.core.display.HTML object>"
      ]
     },
     "metadata": {},
     "output_type": "display_data"
    },
    {
     "data": {
      "text/html": [
       "Tracking run with wandb version 0.17.7"
      ],
      "text/plain": [
       "<IPython.core.display.HTML object>"
      ]
     },
     "metadata": {},
     "output_type": "display_data"
    },
    {
     "data": {
      "text/html": [
       "Run data is saved locally in <code>/Users/bronsonschoen/gpt_from_scratch/wandb/run-20240904_211311-986q3ovg</code>"
      ],
      "text/plain": [
       "<IPython.core.display.HTML object>"
      ]
     },
     "metadata": {},
     "output_type": "display_data"
    },
    {
     "data": {
      "text/html": [
       "Syncing run <strong><a href='https://wandb.ai/bronsonschoen-personal-use/simple_regression/runs/986q3ovg' target=\"_blank\">hopeful-lake-222</a></strong> to <a href='https://wandb.ai/bronsonschoen-personal-use/simple_regression' target=\"_blank\">Weights & Biases</a> (<a href='https://wandb.me/run' target=\"_blank\">docs</a>)<br/>"
      ],
      "text/plain": [
       "<IPython.core.display.HTML object>"
      ]
     },
     "metadata": {},
     "output_type": "display_data"
    },
    {
     "data": {
      "text/html": [
       " View project at <a href='https://wandb.ai/bronsonschoen-personal-use/simple_regression' target=\"_blank\">https://wandb.ai/bronsonschoen-personal-use/simple_regression</a>"
      ],
      "text/plain": [
       "<IPython.core.display.HTML object>"
      ]
     },
     "metadata": {},
     "output_type": "display_data"
    },
    {
     "data": {
      "text/html": [
       " View run at <a href='https://wandb.ai/bronsonschoen-personal-use/simple_regression/runs/986q3ovg' target=\"_blank\">https://wandb.ai/bronsonschoen-personal-use/simple_regression/runs/986q3ovg</a>"
      ],
      "text/plain": [
       "<IPython.core.display.HTML object>"
      ]
     },
     "metadata": {},
     "output_type": "display_data"
    },
    {
     "name": "stdout",
     "output_type": "stream",
     "text": [
      "Using device: mps\n",
      "Epoch [100/1000], Train Loss: 0.0000, Test Loss: 0.0000, Accuracy: 0.00%\n"
     ]
    },
    {
     "ename": "KeyboardInterrupt",
     "evalue": "",
     "output_type": "error",
     "traceback": [
      "\u001b[0;31m---------------------------------------------------------------------------\u001b[0m",
      "\u001b[0;31mKeyboardInterrupt\u001b[0m                         Traceback (most recent call last)",
      "Cell \u001b[0;32mIn[61], line 13\u001b[0m\n\u001b[1;32m      2\u001b[0m cfg \u001b[38;5;241m=\u001b[39m TrainingConfig(\n\u001b[1;32m      3\u001b[0m     model_cfg\u001b[38;5;241m=\u001b[39mSimpleNetConfig(d_model\u001b[38;5;241m=\u001b[39m\u001b[38;5;241m128\u001b[39m, n_layers\u001b[38;5;241m=\u001b[39m\u001b[38;5;241m4\u001b[39m, dropout\u001b[38;5;241m=\u001b[39m\u001b[38;5;241m0.5\u001b[39m),\n\u001b[1;32m      4\u001b[0m     num_samples\u001b[38;5;241m=\u001b[39m\u001b[38;5;241m1000\u001b[39m,\n\u001b[0;32m   (...)\u001b[0m\n\u001b[1;32m      8\u001b[0m     batch_size\u001b[38;5;241m=\u001b[39m\u001b[38;5;241m128\u001b[39m,  \u001b[38;5;66;03m# Increase batch size\u001b[39;00m\n\u001b[1;32m      9\u001b[0m )\n\u001b[1;32m     11\u001b[0m wandb\u001b[38;5;241m.\u001b[39minit(project\u001b[38;5;241m=\u001b[39mWANDB_PROJECT_NAME, config\u001b[38;5;241m=\u001b[39mdataclasses\u001b[38;5;241m.\u001b[39masdict(cfg))\n\u001b[0;32m---> 13\u001b[0m \u001b[43mtrain\u001b[49m\u001b[43m(\u001b[49m\u001b[43mcfg\u001b[49m\u001b[43m)\u001b[49m\n",
      "    \u001b[0;31m[... skipping hidden 1 frame]\u001b[0m\n",
      "File \u001b[0;32m~/gpt_from_scratch/venv/lib/python3.12/site-packages/jaxtyping/_decorator.py:449\u001b[0m, in \u001b[0;36mjaxtyped.<locals>.wrapped_fn_impl\u001b[0;34m(args, kwargs, bound, memos)\u001b[0m\n\u001b[1;32m    446\u001b[0m             \u001b[38;5;28;01mraise\u001b[39;00m TypeCheckError(msg) \u001b[38;5;28;01mfrom\u001b[39;00m \u001b[38;5;21;01me\u001b[39;00m\n\u001b[1;32m    448\u001b[0m \u001b[38;5;66;03m# Actually call the function.\u001b[39;00m\n\u001b[0;32m--> 449\u001b[0m out \u001b[38;5;241m=\u001b[39m \u001b[43mfn\u001b[49m\u001b[43m(\u001b[49m\u001b[38;5;241;43m*\u001b[39;49m\u001b[43margs\u001b[49m\u001b[43m,\u001b[49m\u001b[43m \u001b[49m\u001b[38;5;241;43m*\u001b[39;49m\u001b[38;5;241;43m*\u001b[39;49m\u001b[43mkwargs\u001b[49m\u001b[43m)\u001b[49m\n\u001b[1;32m    451\u001b[0m \u001b[38;5;28;01mif\u001b[39;00m full_signature\u001b[38;5;241m.\u001b[39mreturn_annotation \u001b[38;5;129;01mis\u001b[39;00m \u001b[38;5;129;01mnot\u001b[39;00m inspect\u001b[38;5;241m.\u001b[39mSignature\u001b[38;5;241m.\u001b[39mempty:\n\u001b[1;32m    452\u001b[0m     \u001b[38;5;66;03m# Now type-check the return value. We need to include the\u001b[39;00m\n\u001b[1;32m    453\u001b[0m     \u001b[38;5;66;03m# parameters in the type-checking here in case there are any\u001b[39;00m\n\u001b[0;32m   (...)\u001b[0m\n\u001b[1;32m    464\u001b[0m     \u001b[38;5;66;03m# checking of the parameters. Unfortunately there doesn't seem\u001b[39;00m\n\u001b[1;32m    465\u001b[0m     \u001b[38;5;66;03m# to be a way around that, so c'est la vie.\u001b[39;00m\n\u001b[1;32m    466\u001b[0m     kwargs[output_name] \u001b[38;5;241m=\u001b[39m out\n",
      "Cell \u001b[0;32mIn[60], line 616\u001b[0m, in \u001b[0;36mtrain\u001b[0;34m(cfg)\u001b[0m\n\u001b[1;32m    610\u001b[0m epoch_loss \u001b[38;5;241m=\u001b[39m \u001b[38;5;241m0.0\u001b[39m\n\u001b[1;32m    612\u001b[0m \u001b[38;5;66;03m# for batch_x, batch_y in tqdm.tqdm(\u001b[39;00m\n\u001b[1;32m    613\u001b[0m \u001b[38;5;66;03m#    desc=\"Iterating batches...\",\u001b[39;00m\n\u001b[1;32m    614\u001b[0m \u001b[38;5;66;03m#    iterable=dataloader,\u001b[39;00m\n\u001b[1;32m    615\u001b[0m \u001b[38;5;66;03m# ):\u001b[39;00m\n\u001b[0;32m--> 616\u001b[0m \u001b[38;5;28;01mfor\u001b[39;00m batch_x, batch_y \u001b[38;5;129;01min\u001b[39;00m dataloader:\n\u001b[1;32m    618\u001b[0m     batch_x, batch_y \u001b[38;5;241m=\u001b[39m batch_x\u001b[38;5;241m.\u001b[39mto(device), batch_y\u001b[38;5;241m.\u001b[39mto(device)\n\u001b[1;32m    620\u001b[0m     \u001b[38;5;66;03m# Forward pass\u001b[39;00m\n",
      "File \u001b[0;32m~/gpt_from_scratch/venv/lib/python3.12/site-packages/torch/utils/data/dataloader.py:630\u001b[0m, in \u001b[0;36m_BaseDataLoaderIter.__next__\u001b[0;34m(self)\u001b[0m\n\u001b[1;32m    627\u001b[0m \u001b[38;5;28;01mif\u001b[39;00m \u001b[38;5;28mself\u001b[39m\u001b[38;5;241m.\u001b[39m_sampler_iter \u001b[38;5;129;01mis\u001b[39;00m \u001b[38;5;28;01mNone\u001b[39;00m:\n\u001b[1;32m    628\u001b[0m     \u001b[38;5;66;03m# TODO(https://github.com/pytorch/pytorch/issues/76750)\u001b[39;00m\n\u001b[1;32m    629\u001b[0m     \u001b[38;5;28mself\u001b[39m\u001b[38;5;241m.\u001b[39m_reset()  \u001b[38;5;66;03m# type: ignore[call-arg]\u001b[39;00m\n\u001b[0;32m--> 630\u001b[0m data \u001b[38;5;241m=\u001b[39m \u001b[38;5;28;43mself\u001b[39;49m\u001b[38;5;241;43m.\u001b[39;49m\u001b[43m_next_data\u001b[49m\u001b[43m(\u001b[49m\u001b[43m)\u001b[49m\n\u001b[1;32m    631\u001b[0m \u001b[38;5;28mself\u001b[39m\u001b[38;5;241m.\u001b[39m_num_yielded \u001b[38;5;241m+\u001b[39m\u001b[38;5;241m=\u001b[39m \u001b[38;5;241m1\u001b[39m\n\u001b[1;32m    632\u001b[0m \u001b[38;5;28;01mif\u001b[39;00m \u001b[38;5;28mself\u001b[39m\u001b[38;5;241m.\u001b[39m_dataset_kind \u001b[38;5;241m==\u001b[39m _DatasetKind\u001b[38;5;241m.\u001b[39mIterable \u001b[38;5;129;01mand\u001b[39;00m \\\n\u001b[1;32m    633\u001b[0m         \u001b[38;5;28mself\u001b[39m\u001b[38;5;241m.\u001b[39m_IterableDataset_len_called \u001b[38;5;129;01mis\u001b[39;00m \u001b[38;5;129;01mnot\u001b[39;00m \u001b[38;5;28;01mNone\u001b[39;00m \u001b[38;5;129;01mand\u001b[39;00m \\\n\u001b[1;32m    634\u001b[0m         \u001b[38;5;28mself\u001b[39m\u001b[38;5;241m.\u001b[39m_num_yielded \u001b[38;5;241m>\u001b[39m \u001b[38;5;28mself\u001b[39m\u001b[38;5;241m.\u001b[39m_IterableDataset_len_called:\n",
      "File \u001b[0;32m~/gpt_from_scratch/venv/lib/python3.12/site-packages/torch/utils/data/dataloader.py:673\u001b[0m, in \u001b[0;36m_SingleProcessDataLoaderIter._next_data\u001b[0;34m(self)\u001b[0m\n\u001b[1;32m    671\u001b[0m \u001b[38;5;28;01mdef\u001b[39;00m \u001b[38;5;21m_next_data\u001b[39m(\u001b[38;5;28mself\u001b[39m):\n\u001b[1;32m    672\u001b[0m     index \u001b[38;5;241m=\u001b[39m \u001b[38;5;28mself\u001b[39m\u001b[38;5;241m.\u001b[39m_next_index()  \u001b[38;5;66;03m# may raise StopIteration\u001b[39;00m\n\u001b[0;32m--> 673\u001b[0m     data \u001b[38;5;241m=\u001b[39m \u001b[38;5;28;43mself\u001b[39;49m\u001b[38;5;241;43m.\u001b[39;49m\u001b[43m_dataset_fetcher\u001b[49m\u001b[38;5;241;43m.\u001b[39;49m\u001b[43mfetch\u001b[49m\u001b[43m(\u001b[49m\u001b[43mindex\u001b[49m\u001b[43m)\u001b[49m  \u001b[38;5;66;03m# may raise StopIteration\u001b[39;00m\n\u001b[1;32m    674\u001b[0m     \u001b[38;5;28;01mif\u001b[39;00m \u001b[38;5;28mself\u001b[39m\u001b[38;5;241m.\u001b[39m_pin_memory:\n\u001b[1;32m    675\u001b[0m         data \u001b[38;5;241m=\u001b[39m _utils\u001b[38;5;241m.\u001b[39mpin_memory\u001b[38;5;241m.\u001b[39mpin_memory(data, \u001b[38;5;28mself\u001b[39m\u001b[38;5;241m.\u001b[39m_pin_memory_device)\n",
      "File \u001b[0;32m~/gpt_from_scratch/venv/lib/python3.12/site-packages/torch/utils/data/_utils/fetch.py:52\u001b[0m, in \u001b[0;36m_MapDatasetFetcher.fetch\u001b[0;34m(self, possibly_batched_index)\u001b[0m\n\u001b[1;32m     50\u001b[0m         data \u001b[38;5;241m=\u001b[39m \u001b[38;5;28mself\u001b[39m\u001b[38;5;241m.\u001b[39mdataset\u001b[38;5;241m.\u001b[39m__getitems__(possibly_batched_index)\n\u001b[1;32m     51\u001b[0m     \u001b[38;5;28;01melse\u001b[39;00m:\n\u001b[0;32m---> 52\u001b[0m         data \u001b[38;5;241m=\u001b[39m [\u001b[38;5;28;43mself\u001b[39;49m\u001b[38;5;241;43m.\u001b[39;49m\u001b[43mdataset\u001b[49m\u001b[43m[\u001b[49m\u001b[43midx\u001b[49m\u001b[43m]\u001b[49m \u001b[38;5;28;01mfor\u001b[39;00m idx \u001b[38;5;129;01min\u001b[39;00m possibly_batched_index]\n\u001b[1;32m     53\u001b[0m \u001b[38;5;28;01melse\u001b[39;00m:\n\u001b[1;32m     54\u001b[0m     data \u001b[38;5;241m=\u001b[39m \u001b[38;5;28mself\u001b[39m\u001b[38;5;241m.\u001b[39mdataset[possibly_batched_index]\n",
      "    \u001b[0;31m[... skipping hidden 1 frame]\u001b[0m\n",
      "File \u001b[0;32m~/gpt_from_scratch/venv/lib/python3.12/site-packages/jaxtyping/_decorator.py:412\u001b[0m, in \u001b[0;36mjaxtyped.<locals>.wrapped_fn_impl\u001b[0;34m(args, kwargs, bound, memos)\u001b[0m\n\u001b[1;32m    408\u001b[0m \u001b[38;5;28;01mdef\u001b[39;00m \u001b[38;5;21mwrapped_fn_impl\u001b[39m(args, kwargs, bound, memos):\n\u001b[1;32m    409\u001b[0m     \u001b[38;5;66;03m# First type-check just the parameters before the function is\u001b[39;00m\n\u001b[1;32m    410\u001b[0m     \u001b[38;5;66;03m# called.\u001b[39;00m\n\u001b[1;32m    411\u001b[0m     \u001b[38;5;28;01mtry\u001b[39;00m:\n\u001b[0;32m--> 412\u001b[0m         \u001b[43mparam_fn\u001b[49m\u001b[43m(\u001b[49m\u001b[38;5;241;43m*\u001b[39;49m\u001b[43margs\u001b[49m\u001b[43m,\u001b[49m\u001b[43m \u001b[49m\u001b[38;5;241;43m*\u001b[39;49m\u001b[38;5;241;43m*\u001b[39;49m\u001b[43mkwargs\u001b[49m\u001b[43m)\u001b[49m\n\u001b[1;32m    413\u001b[0m     \u001b[38;5;28;01mexcept\u001b[39;00m AnnotationError:\n\u001b[1;32m    414\u001b[0m         \u001b[38;5;28;01mraise\u001b[39;00m\n",
      "File \u001b[0;32m~/gpt_from_scratch/venv/lib/python3.12/site-packages/typeguard/__init__.py:1031\u001b[0m, in \u001b[0;36mtypechecked.<locals>.wrapper\u001b[0;34m(*args, **kwargs)\u001b[0m\n\u001b[1;32m   1030\u001b[0m \u001b[38;5;28;01mdef\u001b[39;00m \u001b[38;5;21mwrapper\u001b[39m(\u001b[38;5;241m*\u001b[39margs, \u001b[38;5;241m*\u001b[39m\u001b[38;5;241m*\u001b[39mkwargs):\n\u001b[0;32m-> 1031\u001b[0m     memo \u001b[38;5;241m=\u001b[39m \u001b[43m_CallMemo\u001b[49m\u001b[43m(\u001b[49m\u001b[43mpython_func\u001b[49m\u001b[43m,\u001b[49m\u001b[43m \u001b[49m\u001b[43m_localns\u001b[49m\u001b[43m,\u001b[49m\u001b[43m \u001b[49m\u001b[43margs\u001b[49m\u001b[38;5;241;43m=\u001b[39;49m\u001b[43margs\u001b[49m\u001b[43m,\u001b[49m\u001b[43m \u001b[49m\u001b[43mkwargs\u001b[49m\u001b[38;5;241;43m=\u001b[39;49m\u001b[43mkwargs\u001b[49m\u001b[43m)\u001b[49m\n\u001b[1;32m   1032\u001b[0m     check_argument_types(memo)\n\u001b[1;32m   1033\u001b[0m     retval \u001b[38;5;241m=\u001b[39m func(\u001b[38;5;241m*\u001b[39margs, \u001b[38;5;241m*\u001b[39m\u001b[38;5;241m*\u001b[39mkwargs)\n",
      "File \u001b[0;32m~/gpt_from_scratch/venv/lib/python3.12/site-packages/typeguard/__init__.py:195\u001b[0m, in \u001b[0;36m_CallMemo.__init__\u001b[0;34m(self, func, frame_locals, args, kwargs, forward_refs_policy)\u001b[0m\n\u001b[1;32m    193\u001b[0m \u001b[38;5;28mself\u001b[39m\u001b[38;5;241m.\u001b[39mfunc_name \u001b[38;5;241m=\u001b[39m function_name(func)\n\u001b[1;32m    194\u001b[0m \u001b[38;5;28mself\u001b[39m\u001b[38;5;241m.\u001b[39mis_generator \u001b[38;5;241m=\u001b[39m isgeneratorfunction(func)\n\u001b[0;32m--> 195\u001b[0m signature \u001b[38;5;241m=\u001b[39m \u001b[43minspect\u001b[49m\u001b[38;5;241;43m.\u001b[39;49m\u001b[43msignature\u001b[49m\u001b[43m(\u001b[49m\u001b[43mfunc\u001b[49m\u001b[43m)\u001b[49m\n\u001b[1;32m    197\u001b[0m \u001b[38;5;28;01mif\u001b[39;00m args \u001b[38;5;129;01mis\u001b[39;00m \u001b[38;5;129;01mnot\u001b[39;00m \u001b[38;5;28;01mNone\u001b[39;00m \u001b[38;5;129;01mand\u001b[39;00m kwargs \u001b[38;5;129;01mis\u001b[39;00m \u001b[38;5;129;01mnot\u001b[39;00m \u001b[38;5;28;01mNone\u001b[39;00m:\n\u001b[1;32m    198\u001b[0m     \u001b[38;5;28mself\u001b[39m\u001b[38;5;241m.\u001b[39marguments \u001b[38;5;241m=\u001b[39m signature\u001b[38;5;241m.\u001b[39mbind(\u001b[38;5;241m*\u001b[39margs, \u001b[38;5;241m*\u001b[39m\u001b[38;5;241m*\u001b[39mkwargs)\u001b[38;5;241m.\u001b[39marguments\n",
      "File \u001b[0;32m~/.pyenv/versions/3.12.5/lib/python3.12/inspect.py:3341\u001b[0m, in \u001b[0;36msignature\u001b[0;34m(obj, follow_wrapped, globals, locals, eval_str)\u001b[0m\n\u001b[1;32m   3339\u001b[0m \u001b[38;5;28;01mdef\u001b[39;00m \u001b[38;5;21msignature\u001b[39m(obj, \u001b[38;5;241m*\u001b[39m, follow_wrapped\u001b[38;5;241m=\u001b[39m\u001b[38;5;28;01mTrue\u001b[39;00m, \u001b[38;5;28mglobals\u001b[39m\u001b[38;5;241m=\u001b[39m\u001b[38;5;28;01mNone\u001b[39;00m, \u001b[38;5;28mlocals\u001b[39m\u001b[38;5;241m=\u001b[39m\u001b[38;5;28;01mNone\u001b[39;00m, eval_str\u001b[38;5;241m=\u001b[39m\u001b[38;5;28;01mFalse\u001b[39;00m):\n\u001b[1;32m   3340\u001b[0m \u001b[38;5;250m    \u001b[39m\u001b[38;5;124;03m\"\"\"Get a signature object for the passed callable.\"\"\"\u001b[39;00m\n\u001b[0;32m-> 3341\u001b[0m     \u001b[38;5;28;01mreturn\u001b[39;00m \u001b[43mSignature\u001b[49m\u001b[38;5;241;43m.\u001b[39;49m\u001b[43mfrom_callable\u001b[49m\u001b[43m(\u001b[49m\u001b[43mobj\u001b[49m\u001b[43m,\u001b[49m\u001b[43m \u001b[49m\u001b[43mfollow_wrapped\u001b[49m\u001b[38;5;241;43m=\u001b[39;49m\u001b[43mfollow_wrapped\u001b[49m\u001b[43m,\u001b[49m\n\u001b[1;32m   3342\u001b[0m \u001b[43m                                   \u001b[49m\u001b[38;5;28;43mglobals\u001b[39;49m\u001b[38;5;241;43m=\u001b[39;49m\u001b[38;5;28;43mglobals\u001b[39;49m\u001b[43m,\u001b[49m\u001b[43m \u001b[49m\u001b[38;5;28;43mlocals\u001b[39;49m\u001b[38;5;241;43m=\u001b[39;49m\u001b[38;5;28;43mlocals\u001b[39;49m\u001b[43m,\u001b[49m\u001b[43m \u001b[49m\u001b[43meval_str\u001b[49m\u001b[38;5;241;43m=\u001b[39;49m\u001b[43meval_str\u001b[49m\u001b[43m)\u001b[49m\n",
      "File \u001b[0;32m~/.pyenv/versions/3.12.5/lib/python3.12/inspect.py:3081\u001b[0m, in \u001b[0;36mSignature.from_callable\u001b[0;34m(cls, obj, follow_wrapped, globals, locals, eval_str)\u001b[0m\n\u001b[1;32m   3077\u001b[0m \u001b[38;5;129m@classmethod\u001b[39m\n\u001b[1;32m   3078\u001b[0m \u001b[38;5;28;01mdef\u001b[39;00m \u001b[38;5;21mfrom_callable\u001b[39m(\u001b[38;5;28mcls\u001b[39m, obj, \u001b[38;5;241m*\u001b[39m,\n\u001b[1;32m   3079\u001b[0m                   follow_wrapped\u001b[38;5;241m=\u001b[39m\u001b[38;5;28;01mTrue\u001b[39;00m, \u001b[38;5;28mglobals\u001b[39m\u001b[38;5;241m=\u001b[39m\u001b[38;5;28;01mNone\u001b[39;00m, \u001b[38;5;28mlocals\u001b[39m\u001b[38;5;241m=\u001b[39m\u001b[38;5;28;01mNone\u001b[39;00m, eval_str\u001b[38;5;241m=\u001b[39m\u001b[38;5;28;01mFalse\u001b[39;00m):\n\u001b[1;32m   3080\u001b[0m \u001b[38;5;250m    \u001b[39m\u001b[38;5;124;03m\"\"\"Constructs Signature for the given callable object.\"\"\"\u001b[39;00m\n\u001b[0;32m-> 3081\u001b[0m     \u001b[38;5;28;01mreturn\u001b[39;00m \u001b[43m_signature_from_callable\u001b[49m\u001b[43m(\u001b[49m\u001b[43mobj\u001b[49m\u001b[43m,\u001b[49m\u001b[43m \u001b[49m\u001b[43msigcls\u001b[49m\u001b[38;5;241;43m=\u001b[39;49m\u001b[38;5;28;43mcls\u001b[39;49m\u001b[43m,\u001b[49m\n\u001b[1;32m   3082\u001b[0m \u001b[43m                                    \u001b[49m\u001b[43mfollow_wrapper_chains\u001b[49m\u001b[38;5;241;43m=\u001b[39;49m\u001b[43mfollow_wrapped\u001b[49m\u001b[43m,\u001b[49m\n\u001b[1;32m   3083\u001b[0m \u001b[43m                                    \u001b[49m\u001b[38;5;28;43mglobals\u001b[39;49m\u001b[38;5;241;43m=\u001b[39;49m\u001b[38;5;28;43mglobals\u001b[39;49m\u001b[43m,\u001b[49m\u001b[43m \u001b[49m\u001b[38;5;28;43mlocals\u001b[39;49m\u001b[38;5;241;43m=\u001b[39;49m\u001b[38;5;28;43mlocals\u001b[39;49m\u001b[43m,\u001b[49m\u001b[43m \u001b[49m\u001b[43meval_str\u001b[49m\u001b[38;5;241;43m=\u001b[39;49m\u001b[43meval_str\u001b[49m\u001b[43m)\u001b[49m\n",
      "File \u001b[0;32m~/.pyenv/versions/3.12.5/lib/python3.12/inspect.py:2509\u001b[0m, in \u001b[0;36m_signature_from_callable\u001b[0;34m(obj, follow_wrapper_chains, skip_bound_arg, globals, locals, eval_str, sigcls)\u001b[0m\n\u001b[1;32m   2497\u001b[0m \u001b[38;5;28;01mdef\u001b[39;00m \u001b[38;5;21m_signature_from_callable\u001b[39m(obj, \u001b[38;5;241m*\u001b[39m,\n\u001b[1;32m   2498\u001b[0m                              follow_wrapper_chains\u001b[38;5;241m=\u001b[39m\u001b[38;5;28;01mTrue\u001b[39;00m,\n\u001b[1;32m   2499\u001b[0m                              skip_bound_arg\u001b[38;5;241m=\u001b[39m\u001b[38;5;28;01mTrue\u001b[39;00m,\n\u001b[0;32m   (...)\u001b[0m\n\u001b[1;32m   2502\u001b[0m                              eval_str\u001b[38;5;241m=\u001b[39m\u001b[38;5;28;01mFalse\u001b[39;00m,\n\u001b[1;32m   2503\u001b[0m                              sigcls):\n\u001b[1;32m   2505\u001b[0m \u001b[38;5;250m    \u001b[39m\u001b[38;5;124;03m\"\"\"Private helper function to get signature for arbitrary\u001b[39;00m\n\u001b[1;32m   2506\u001b[0m \u001b[38;5;124;03m    callable objects.\u001b[39;00m\n\u001b[1;32m   2507\u001b[0m \u001b[38;5;124;03m    \"\"\"\u001b[39;00m\n\u001b[0;32m-> 2509\u001b[0m     _get_signature_of \u001b[38;5;241m=\u001b[39m \u001b[43mfunctools\u001b[49m\u001b[38;5;241;43m.\u001b[39;49m\u001b[43mpartial\u001b[49m\u001b[43m(\u001b[49m\u001b[43m_signature_from_callable\u001b[49m\u001b[43m,\u001b[49m\n\u001b[1;32m   2510\u001b[0m \u001b[43m                                \u001b[49m\u001b[43mfollow_wrapper_chains\u001b[49m\u001b[38;5;241;43m=\u001b[39;49m\u001b[43mfollow_wrapper_chains\u001b[49m\u001b[43m,\u001b[49m\n\u001b[1;32m   2511\u001b[0m \u001b[43m                                \u001b[49m\u001b[43mskip_bound_arg\u001b[49m\u001b[38;5;241;43m=\u001b[39;49m\u001b[43mskip_bound_arg\u001b[49m\u001b[43m,\u001b[49m\n\u001b[1;32m   2512\u001b[0m \u001b[43m                                \u001b[49m\u001b[38;5;28;43mglobals\u001b[39;49m\u001b[38;5;241;43m=\u001b[39;49m\u001b[38;5;28;43mglobals\u001b[39;49m\u001b[43m,\u001b[49m\n\u001b[1;32m   2513\u001b[0m \u001b[43m                                \u001b[49m\u001b[38;5;28;43mlocals\u001b[39;49m\u001b[38;5;241;43m=\u001b[39;49m\u001b[38;5;28;43mlocals\u001b[39;49m\u001b[43m,\u001b[49m\n\u001b[1;32m   2514\u001b[0m \u001b[43m                                \u001b[49m\u001b[43msigcls\u001b[49m\u001b[38;5;241;43m=\u001b[39;49m\u001b[43msigcls\u001b[49m\u001b[43m,\u001b[49m\n\u001b[1;32m   2515\u001b[0m \u001b[43m                                \u001b[49m\u001b[43meval_str\u001b[49m\u001b[38;5;241;43m=\u001b[39;49m\u001b[43meval_str\u001b[49m\u001b[43m)\u001b[49m\n\u001b[1;32m   2517\u001b[0m     \u001b[38;5;28;01mif\u001b[39;00m \u001b[38;5;129;01mnot\u001b[39;00m \u001b[38;5;28mcallable\u001b[39m(obj):\n\u001b[1;32m   2518\u001b[0m         \u001b[38;5;28;01mraise\u001b[39;00m \u001b[38;5;167;01mTypeError\u001b[39;00m(\u001b[38;5;124m'\u001b[39m\u001b[38;5;132;01m{!r}\u001b[39;00m\u001b[38;5;124m is not a callable object\u001b[39m\u001b[38;5;124m'\u001b[39m\u001b[38;5;241m.\u001b[39mformat(obj))\n",
      "\u001b[0;31mKeyboardInterrupt\u001b[0m: "
     ]
    }
   ],
   "source": [
    "# TODO(bschoen): Use wandb to plot adam\n",
    "cfg = TrainingConfig(\n",
    "    model_cfg=SimpleNetConfig(d_model=128, n_layers=4, dropout=0.5),\n",
    "    num_samples=1000,\n",
    "    num_epochs=1000,  # Train for longer\n",
    "    test_interval=100,\n",
    "    learning_rate=1e-3,  # Adjust learning rate\n",
    "    batch_size=128,  # Increase batch size\n",
    ")\n",
    "\n",
    "wandb.init(project=WANDB_PROJECT_NAME, config=dataclasses.asdict(cfg))\n",
    "\n",
    "train(cfg)"
   ]
  },
  {
   "cell_type": "code",
   "execution_count": 34,
   "id": "cec62fcf",
   "metadata": {},
   "outputs": [
    {
     "data": {
      "image/png": "[encoded data removed]",
      "text/plain": [
       "<Figure size 1000x800 with 2 Axes>"
      ]
     },
     "metadata": {},
     "output_type": "display_data"
    }
   ],
   "source": [
    "dataset = MoonsDataset(num_samples=100)\n",
    "\n",
    "dataset.visualize()"
   ]
  },
  {
   "cell_type": "code",
   "execution_count": 31,
   "id": "510734b2",
   "metadata": {},
   "outputs": [
    {
     "name": "stderr",
     "output_type": "stream",
     "text": [
      "/var/folders/g6/72q2lnk54yz_3sxkj9p0j6rc0000gn/T/ipykernel_28647/997235974.py:18: MatplotlibDeprecationWarning:\n",
      "\n",
      "The get_cmap function was deprecated in Matplotlib 3.7 and will be removed in 3.11. Use ``matplotlib.colormaps[name]`` or ``matplotlib.colormaps.get_cmap()`` or ``pyplot.get_cmap()`` instead.\n",
      "\n"
     ]
    },
    {
     "data": {
      "image/png": "[encoded data removed]",
      "text/plain": [
       "<Figure size 1000x800 with 2 Axes>"
      ]
     },
     "metadata": {},
     "output_type": "display_data"
    }
   ],
   "source": [
    "import matplotlib.pyplot as plt\n",
    "import numpy as np\n",
    "\n",
    "\n",
    "def visualize_geometric_shapes_single_plot(dataset, num_samples=1000):\n",
    "    # Get all samples\n",
    "    features = []\n",
    "    labels = []\n",
    "    for i in range(min(num_samples, len(dataset))):\n",
    "        feature, label = dataset[i]\n",
    "        features.append(feature)\n",
    "        labels.append(label)\n",
    "\n",
    "    features = torch.stack(features)\n",
    "    labels = torch.stack(labels)\n",
    "\n",
    "    # Create a color map\n",
    "    color_map = plt.cm.get_cmap(\n",
    "        \"viridis\"\n",
    "    )  # You can change 'viridis' to other colormaps\n",
    "\n",
    "    # Create the plot\n",
    "    plt.figure(figsize=(10, 8))\n",
    "    scatter = plt.scatter(\n",
    "        features[:, 0],  # x-coordinate\n",
    "        features[:, 1],  # y-coordinate\n",
    "        c=labels,  # color by class\n",
    "        s=features[:, 2] * 100,  # size\n",
    "        alpha=0.6,\n",
    "        cmap=color_map,\n",
    "    )\n",
    "\n",
    "    # Add a color bar\n",
    "    plt.colorbar(scatter, label=\"Class\")\n",
    "\n",
    "    plt.title(\"Samples from GeometricShapesDataset\")\n",
    "    plt.xlabel(\"X coordinate\")\n",
    "    plt.ylabel(\"Y coordinate\")\n",
    "\n",
    "    # Visualize aspect ratio using marker shape\n",
    "    aspect_ratios = features[:, 3] * 2 + 0.5  # Convert to actual aspect ratio\n",
    "\n",
    "    # Use different marker shapes based on aspect ratio\n",
    "    circle_mask = aspect_ratios < 1.2\n",
    "    square_mask = (aspect_ratios >= 1.2) & (aspect_ratios <= 1.8)\n",
    "    ellipse_mask = aspect_ratios > 1.8\n",
    "\n",
    "    plt.scatter(\n",
    "        features[circle_mask, 0],\n",
    "        features[circle_mask, 1],\n",
    "        s=features[circle_mask, 2] * 100,\n",
    "        c=labels[circle_mask],\n",
    "        marker=\"o\",\n",
    "        alpha=0.6,\n",
    "        cmap=color_map,\n",
    "    )\n",
    "    plt.scatter(\n",
    "        features[square_mask, 0],\n",
    "        features[square_mask, 1],\n",
    "        s=features[square_mask, 2] * 100,\n",
    "        c=labels[square_mask],\n",
    "        marker=\"s\",\n",
    "        alpha=0.6,\n",
    "        cmap=color_map,\n",
    "    )\n",
    "    plt.scatter(\n",
    "        features[ellipse_mask, 0],\n",
    "        features[ellipse_mask, 1],\n",
    "        s=features[ellipse_mask, 2] * 100,\n",
    "        c=labels[ellipse_mask],\n",
    "        marker=\"D\",\n",
    "        alpha=0.6,\n",
    "        cmap=color_map,\n",
    "    )\n",
    "\n",
    "    # Add a legend to explain the size and shape\n",
    "    sizes = [0.5, 0.75, 1.0]\n",
    "    size_labels = [\"Small\", \"Medium\", \"Large\"]\n",
    "    size_legend = [\n",
    "        plt.scatter([], [], s=size * 100, c=\"gray\", alpha=0.6, label=label)\n",
    "        for size, label in zip(sizes, size_labels)\n",
    "    ]\n",
    "\n",
    "    shape_legend = [\n",
    "        plt.scatter([], [], c=\"gray\", marker=\"o\", label=\"Aspect Ratio < 1.2\"),\n",
    "        plt.scatter([], [], c=\"gray\", marker=\"s\", label=\"1.2 <= Aspect Ratio <= 1.8\"),\n",
    "        plt.scatter([], [], c=\"gray\", marker=\"D\", label=\"Aspect Ratio > 1.8\"),\n",
    "    ]\n",
    "\n",
    "    plt.legend(\n",
    "        handles=size_legend + shape_legend,\n",
    "        title=\"Size and Aspect Ratio\",\n",
    "        loc=\"upper left\",\n",
    "    )\n",
    "\n",
    "    plt.tight_layout()\n",
    "    return plt.gcf()\n",
    "\n",
    "\n",
    "# Create the dataset and visualize\n",
    "dataset = GeometricShapesDataset(num_samples=128)\n",
    "fig = visualize_geometric_shapes_single_plot(dataset, num_samples=128)\n",
    "plt.show()"
   ]
  },
  {
   "cell_type": "code",
   "execution_count": 26,
   "id": "f5b966a2",
   "metadata": {},
   "outputs": [
    {
     "data": {
      "application/vnd.plotly.v1+json": {
       "config": {
        "plotlyServerURL": "https://plot.ly"
       },
       "data": [
        {
         "colorscale": [
          [
           0,
           "#440154"
          ],
          [
           0.1111111111111111,
           "#482878"
          ],
          [
           0.2222222222222222,
           "#3e4989"
          ],
          [
           0.3333333333333333,
           "#31688e"
          ],
          [
           0.4444444444444444,
           "#26828e"
          ],
          [
           0.5555555555555556,
           "#1f9e89"
          ],
          [
           0.6666666666666666,
           "#35b779"
          ],
          [
           0.7777777777777778,
           "#6ece58"
          ],
          [
           0.8888888888888888,
           "#b5de2b"
          ],
          [
           1,
           "#fde725"
          ]
         ],
         "showscale": false,
         "type": "heatmap",
         "xaxis": "x",
         "yaxis": "y",
         "z": [
          0.17548513,
          0.3373884,
          0.87116426,
          0.1987186
         ]
        },
        {
         "colorscale": [
          [
           0,
           "#440154"
          ],
          [
           0.1111111111111111,
           "#482878"
          ],
          [
           0.2222222222222222,
           "#3e4989"
          ],
          [
           0.3333333333333333,
           "#31688e"
          ],
          [
           0.4444444444444444,
           "#26828e"
          ],
          [
           0.5555555555555556,
           "#1f9e89"
          ],
          [
           0.6666666666666666,
           "#35b779"
          ],
          [
           0.7777777777777778,
           "#6ece58"
          ],
          [
           0.8888888888888888,
           "#b5de2b"
          ],
          [
           1,
           "#fde725"
          ]
         ],
         "showscale": false,
         "type": "heatmap",
         "xaxis": "x2",
         "yaxis": "y2",
         "z": [
          0.045051992,
          0.088241756,
          0.82323134,
          0.5805224
         ]
        },
        {
         "colorscale": [
          [
           0,
           "#440154"
          ],
          [
           0.1111111111111111,
           "#482878"
          ],
          [
           0.2222222222222222,
           "#3e4989"
          ],
          [
           0.3333333333333333,
           "#31688e"
          ],
          [
           0.4444444444444444,
           "#26828e"
          ],
          [
           0.5555555555555556,
           "#1f9e89"
          ],
          [
           0.6666666666666666,
           "#35b779"
          ],
          [
           0.7777777777777778,
           "#6ece58"
          ],
          [
           0.8888888888888888,
           "#b5de2b"
          ],
          [
           1,
           "#fde725"
          ]
         ],
         "showscale": false,
         "type": "heatmap",
         "xaxis": "x3",
         "yaxis": "y3",
         "z": [
          0.56150234,
          0.060565174,
          0.83788955,
          0.9105784
         ]
        },
        {
         "colorscale": [
          [
           0,
           "#440154"
          ],
          [
           0.1111111111111111,
           "#482878"
          ],
          [
           0.2222222222222222,
           "#3e4989"
          ],
          [
           0.3333333333333333,
           "#31688e"
          ],
          [
           0.4444444444444444,
           "#26828e"
          ],
          [
           0.5555555555555556,
           "#1f9e89"
          ],
          [
           0.6666666666666666,
           "#35b779"
          ],
          [
           0.7777777777777778,
           "#6ece58"
          ],
          [
           0.8888888888888888,
           "#b5de2b"
          ],
          [
           1,
           "#fde725"
          ]
         ],
         "showscale": false,
         "type": "heatmap",
         "xaxis": "x4",
         "yaxis": "y4",
         "z": [
          0.7507507,
          0.7364116,
          0.6281248,
          0.1778642
         ]
        },
        {
         "colorscale": [
          [
           0,
           "#440154"
          ],
          [
           0.1111111111111111,
           "#482878"
          ],
          [
           0.2222222222222222,
           "#3e4989"
          ],
          [
           0.3333333333333333,
           "#31688e"
          ],
          [
           0.4444444444444444,
           "#26828e"
          ],
          [
           0.5555555555555556,
           "#1f9e89"
          ],
          [
           0.6666666666666666,
           "#35b779"
          ],
          [
           0.7777777777777778,
           "#6ece58"
          ],
          [
           0.8888888888888888,
           "#b5de2b"
          ],
          [
           1,
           "#fde725"
          ]
         ],
         "showscale": false,
         "type": "heatmap",
         "xaxis": "x5",
         "yaxis": "y5",
         "z": [
          0.8811853,
          0.56922215,
          0.99524003,
          0.43478847
         ]
        },
        {
         "colorscale": [
          [
           0,
           "#440154"
          ],
          [
           0.1111111111111111,
           "#482878"
          ],
          [
           0.2222222222222222,
           "#3e4989"
          ],
          [
           0.3333333333333333,
           "#31688e"
          ],
          [
           0.4444444444444444,
           "#26828e"
          ],
          [
           0.5555555555555556,
           "#1f9e89"
          ],
          [
           0.6666666666666666,
           "#35b779"
          ],
          [
           0.7777777777777778,
           "#6ece58"
          ],
          [
           0.8888888888888888,
           "#b5de2b"
          ],
          [
           1,
           "#fde725"
          ]
         ],
         "showscale": false,
         "type": "heatmap",
         "xaxis": "x6",
         "yaxis": "y6",
         "z": [
          0.5617039,
          0.07770908,
          0.12532943,
          0.008964479
         ]
        },
        {
         "colorscale": [
          [
           0,
           "#440154"
          ],
          [
           0.1111111111111111,
           "#482878"
          ],
          [
           0.2222222222222222,
           "#3e4989"
          ],
          [
           0.3333333333333333,
           "#31688e"
          ],
          [
           0.4444444444444444,
           "#26828e"
          ],
          [
           0.5555555555555556,
           "#1f9e89"
          ],
          [
           0.6666666666666666,
           "#35b779"
          ],
          [
           0.7777777777777778,
           "#6ece58"
          ],
          [
           0.8888888888888888,
           "#b5de2b"
          ],
          [
           1,
           "#fde725"
          ]
         ],
         "showscale": false,
         "type": "heatmap",
         "xaxis": "x7",
         "yaxis": "y7",
         "z": [
          0.63094753,
          0.049695253,
          0.085007966,
          0.8243078
         ]
        },
        {
         "colorscale": [
          [
           0,
           "#440154"
          ],
          [
           0.1111111111111111,
           "#482878"
          ],
          [
           0.2222222222222222,
           "#3e4989"
          ],
          [
           0.3333333333333333,
           "#31688e"
          ],
          [
           0.4444444444444444,
           "#26828e"
          ],
          [
           0.5555555555555556,
           "#1f9e89"
          ],
          [
           0.6666666666666666,
           "#35b779"
          ],
          [
           0.7777777777777778,
           "#6ece58"
          ],
          [
           0.8888888888888888,
           "#b5de2b"
          ],
          [
           1,
           "#fde725"
          ]
         ],
         "showscale": false,
         "type": "heatmap",
         "xaxis": "x8",
         "yaxis": "y8",
         "z": [
          0.36807948,
          0.8768056,
          0.20279449,
          0.68909377
         ]
        },
        {
         "colorscale": [
          [
           0,
           "#440154"
          ],
          [
           0.1111111111111111,
           "#482878"
          ],
          [
           0.2222222222222222,
           "#3e4989"
          ],
          [
           0.3333333333333333,
           "#31688e"
          ],
          [
           0.4444444444444444,
           "#26828e"
          ],
          [
           0.5555555555555556,
           "#1f9e89"
          ],
          [
           0.6666666666666666,
           "#35b779"
          ],
          [
           0.7777777777777778,
           "#6ece58"
          ],
          [
           0.8888888888888888,
           "#b5de2b"
          ],
          [
           1,
           "#fde725"
          ]
         ],
         "showscale": false,
         "type": "heatmap",
         "xaxis": "x9",
         "yaxis": "y9",
         "z": [
          0.23191512,
          0.89709294,
          0.56563425,
          0.80005157
         ]
        }
       ],
       "layout": {
        "annotations": [
         {
          "font": {
           "size": 16
          },
          "showarrow": false,
          "text": "Sample 1",
          "x": 0.14444444444444446,
          "xanchor": "center",
          "xref": "paper",
          "y": 1,
          "yanchor": "bottom",
          "yref": "paper"
         },
         {
          "font": {
           "size": 16
          },
          "showarrow": false,
          "text": "Sample 2",
          "x": 0.5,
          "xanchor": "center",
          "xref": "paper",
          "y": 1,
          "yanchor": "bottom",
          "yref": "paper"
         },
         {
          "font": {
           "size": 16
          },
          "showarrow": false,
          "text": "Sample 3",
          "x": 0.8555555555555556,
          "xanchor": "center",
          "xref": "paper",
          "y": 1,
          "yanchor": "bottom",
          "yref": "paper"
         },
         {
          "font": {
           "size": 16
          },
          "showarrow": false,
          "text": "Sample 4",
          "x": 0.14444444444444446,
          "xanchor": "center",
          "xref": "paper",
          "y": 0.6111111111111112,
          "yanchor": "bottom",
          "yref": "paper"
         },
         {
          "font": {
           "size": 16
          },
          "showarrow": false,
          "text": "Sample 5",
          "x": 0.5,
          "xanchor": "center",
          "xref": "paper",
          "y": 0.6111111111111112,
          "yanchor": "bottom",
          "yref": "paper"
         },
         {
          "font": {
           "size": 16
          },
          "showarrow": false,
          "text": "Sample 6",
          "x": 0.8555555555555556,
          "xanchor": "center",
          "xref": "paper",
          "y": 0.6111111111111112,
          "yanchor": "bottom",
          "yref": "paper"
         },
         {
          "font": {
           "size": 16
          },
          "showarrow": false,
          "text": "Sample 7",
          "x": 0.14444444444444446,
          "xanchor": "center",
          "xref": "paper",
          "y": 0.22222222222222224,
          "yanchor": "bottom",
          "yref": "paper"
         },
         {
          "font": {
           "size": 16
          },
          "showarrow": false,
          "text": "Sample 8",
          "x": 0.5,
          "xanchor": "center",
          "xref": "paper",
          "y": 0.22222222222222224,
          "yanchor": "bottom",
          "yref": "paper"
         },
         {
          "font": {
           "size": 16
          },
          "showarrow": false,
          "text": "Sample 9",
          "x": 0.8555555555555556,
          "xanchor": "center",
          "xref": "paper",
          "y": 0.22222222222222224,
          "yanchor": "bottom",
          "yref": "paper"
         }
        ],
        "height": 800,
        "template": {
         "data": {
          "bar": [
           {
            "error_x": {
             "color": "#2a3f5f"
            },
            "error_y": {
             "color": "#2a3f5f"
            },
            "marker": {
             "line": {
              "color": "#E5ECF6",
              "width": 0.5
             },
             "pattern": {
              "fillmode": "overlay",
              "size": 10,
              "solidity": 0.2
             }
            },
            "type": "bar"
           }
          ],
          "barpolar": [
           {
            "marker": {
             "line": {
              "color": "#E5ECF6",
              "width": 0.5
             },
             "pattern": {
              "fillmode": "overlay",
              "size": 10,
              "solidity": 0.2
             }
            },
            "type": "barpolar"
           }
          ],
          "carpet": [
           {
            "aaxis": {
             "endlinecolor": "#2a3f5f",
             "gridcolor": "white",
             "linecolor": "white",
             "minorgridcolor": "white",
             "startlinecolor": "#2a3f5f"
            },
            "baxis": {
             "endlinecolor": "#2a3f5f",
             "gridcolor": "white",
             "linecolor": "white",
             "minorgridcolor": "white",
             "startlinecolor": "#2a3f5f"
            },
            "type": "carpet"
           }
          ],
          "choropleth": [
           {
            "colorbar": {
             "outlinewidth": 0,
             "ticks": ""
            },
            "type": "choropleth"
           }
          ],
          "contour": [
           {
            "colorbar": {
             "outlinewidth": 0,
             "ticks": ""
            },
            "colorscale": [
             [
              0,
              "#0d0887"
             ],
             [
              0.1111111111111111,
              "#46039f"
             ],
             [
              0.2222222222222222,
              "#7201a8"
             ],
             [
              0.3333333333333333,
              "#9c179e"
             ],
             [
              0.4444444444444444,
              "#bd3786"
             ],
             [
              0.5555555555555556,
              "#d8576b"
             ],
             [
              0.6666666666666666,
              "#ed7953"
             ],
             [
              0.7777777777777778,
              "#fb9f3a"
             ],
             [
              0.8888888888888888,
              "#fdca26"
             ],
             [
              1,
              "#f0f921"
             ]
            ],
            "type": "contour"
           }
          ],
          "contourcarpet": [
           {
            "colorbar": {
             "outlinewidth": 0,
             "ticks": ""
            },
            "type": "contourcarpet"
           }
          ],
          "heatmap": [
           {
            "colorbar": {
             "outlinewidth": 0,
             "ticks": ""
            },
            "colorscale": [
             [
              0,
              "#0d0887"
             ],
             [
              0.1111111111111111,
              "#46039f"
             ],
             [
              0.2222222222222222,
              "#7201a8"
             ],
             [
              0.3333333333333333,
              "#9c179e"
             ],
             [
              0.4444444444444444,
              "#bd3786"
             ],
             [
              0.5555555555555556,
              "#d8576b"
             ],
             [
              0.6666666666666666,
              "#ed7953"
             ],
             [
              0.7777777777777778,
              "#fb9f3a"
             ],
             [
              0.8888888888888888,
              "#fdca26"
             ],
             [
              1,
              "#f0f921"
             ]
            ],
            "type": "heatmap"
           }
          ],
          "heatmapgl": [
           {
            "colorbar": {
             "outlinewidth": 0,
             "ticks": ""
            },
            "colorscale": [
             [
              0,
              "#0d0887"
             ],
             [
              0.1111111111111111,
              "#46039f"
             ],
             [
              0.2222222222222222,
              "#7201a8"
             ],
             [
              0.3333333333333333,
              "#9c179e"
             ],
             [
              0.4444444444444444,
              "#bd3786"
             ],
             [
              0.5555555555555556,
              "#d8576b"
             ],
             [
              0.6666666666666666,
              "#ed7953"
             ],
             [
              0.7777777777777778,
              "#fb9f3a"
             ],
             [
              0.8888888888888888,
              "#fdca26"
             ],
             [
              1,
              "#f0f921"
             ]
            ],
            "type": "heatmapgl"
           }
          ],
          "histogram": [
           {
            "marker": {
             "pattern": {
              "fillmode": "overlay",
              "size": 10,
              "solidity": 0.2
             }
            },
            "type": "histogram"
           }
          ],
          "histogram2d": [
           {
            "colorbar": {
             "outlinewidth": 0,
             "ticks": ""
            },
            "colorscale": [
             [
              0,
              "#0d0887"
             ],
             [
              0.1111111111111111,
              "#46039f"
             ],
             [
              0.2222222222222222,
              "#7201a8"
             ],
             [
              0.3333333333333333,
              "#9c179e"
             ],
             [
              0.4444444444444444,
              "#bd3786"
             ],
             [
              0.5555555555555556,
              "#d8576b"
             ],
             [
              0.6666666666666666,
              "#ed7953"
             ],
             [
              0.7777777777777778,
              "#fb9f3a"
             ],
             [
              0.8888888888888888,
              "#fdca26"
             ],
             [
              1,
              "#f0f921"
             ]
            ],
            "type": "histogram2d"
           }
          ],
          "histogram2dcontour": [
           {
            "colorbar": {
             "outlinewidth": 0,
             "ticks": ""
            },
            "colorscale": [
             [
              0,
              "#0d0887"
             ],
             [
              0.1111111111111111,
              "#46039f"
             ],
             [
              0.2222222222222222,
              "#7201a8"
             ],
             [
              0.3333333333333333,
              "#9c179e"
             ],
             [
              0.4444444444444444,
              "#bd3786"
             ],
             [
              0.5555555555555556,
              "#d8576b"
             ],
             [
              0.6666666666666666,
              "#ed7953"
             ],
             [
              0.7777777777777778,
              "#fb9f3a"
             ],
             [
              0.8888888888888888,
              "#fdca26"
             ],
             [
              1,
              "#f0f921"
             ]
            ],
            "type": "histogram2dcontour"
           }
          ],
          "mesh3d": [
           {
            "colorbar": {
             "outlinewidth": 0,
             "ticks": ""
            },
            "type": "mesh3d"
           }
          ],
          "parcoords": [
           {
            "line": {
             "colorbar": {
              "outlinewidth": 0,
              "ticks": ""
             }
            },
            "type": "parcoords"
           }
          ],
          "pie": [
           {
            "automargin": true,
            "type": "pie"
           }
          ],
          "scatter": [
           {
            "fillpattern": {
             "fillmode": "overlay",
             "size": 10,
             "solidity": 0.2
            },
            "type": "scatter"
           }
          ],
          "scatter3d": [
           {
            "line": {
             "colorbar": {
              "outlinewidth": 0,
              "ticks": ""
             }
            },
            "marker": {
             "colorbar": {
              "outlinewidth": 0,
              "ticks": ""
             }
            },
            "type": "scatter3d"
           }
          ],
          "scattercarpet": [
           {
            "marker": {
             "colorbar": {
              "outlinewidth": 0,
              "ticks": ""
             }
            },
            "type": "scattercarpet"
           }
          ],
          "scattergeo": [
           {
            "marker": {
             "colorbar": {
              "outlinewidth": 0,
              "ticks": ""
             }
            },
            "type": "scattergeo"
           }
          ],
          "scattergl": [
           {
            "marker": {
             "colorbar": {
              "outlinewidth": 0,
              "ticks": ""
             }
            },
            "type": "scattergl"
           }
          ],
          "scattermapbox": [
           {
            "marker": {
             "colorbar": {
              "outlinewidth": 0,
              "ticks": ""
             }
            },
            "type": "scattermapbox"
           }
          ],
          "scatterpolar": [
           {
            "marker": {
             "colorbar": {
              "outlinewidth": 0,
              "ticks": ""
             }
            },
            "type": "scatterpolar"
           }
          ],
          "scatterpolargl": [
           {
            "marker": {
             "colorbar": {
              "outlinewidth": 0,
              "ticks": ""
             }
            },
            "type": "scatterpolargl"
           }
          ],
          "scatterternary": [
           {
            "marker": {
             "colorbar": {
              "outlinewidth": 0,
              "ticks": ""
             }
            },
            "type": "scatterternary"
           }
          ],
          "surface": [
           {
            "colorbar": {
             "outlinewidth": 0,
             "ticks": ""
            },
            "colorscale": [
             [
              0,
              "#0d0887"
             ],
             [
              0.1111111111111111,
              "#46039f"
             ],
             [
              0.2222222222222222,
              "#7201a8"
             ],
             [
              0.3333333333333333,
              "#9c179e"
             ],
             [
              0.4444444444444444,
              "#bd3786"
             ],
             [
              0.5555555555555556,
              "#d8576b"
             ],
             [
              0.6666666666666666,
              "#ed7953"
             ],
             [
              0.7777777777777778,
              "#fb9f3a"
             ],
             [
              0.8888888888888888,
              "#fdca26"
             ],
             [
              1,
              "#f0f921"
             ]
            ],
            "type": "surface"
           }
          ],
          "table": [
           {
            "cells": {
             "fill": {
              "color": "#EBF0F8"
             },
             "line": {
              "color": "white"
             }
            },
            "header": {
             "fill": {
              "color": "#C8D4E3"
             },
             "line": {
              "color": "white"
             }
            },
            "type": "table"
           }
          ]
         },
         "layout": {
          "annotationdefaults": {
           "arrowcolor": "#2a3f5f",
           "arrowhead": 0,
           "arrowwidth": 1
          },
          "autotypenumbers": "strict",
          "coloraxis": {
           "colorbar": {
            "outlinewidth": 0,
            "ticks": ""
           }
          },
          "colorscale": {
           "diverging": [
            [
             0,
             "#8e0152"
            ],
            [
             0.1,
             "#c51b7d"
            ],
            [
             0.2,
             "#de77ae"
            ],
            [
             0.3,
             "#f1b6da"
            ],
            [
             0.4,
             "#fde0ef"
            ],
            [
             0.5,
             "#f7f7f7"
            ],
            [
             0.6,
             "#e6f5d0"
            ],
            [
             0.7,
             "#b8e186"
            ],
            [
             0.8,
             "#7fbc41"
            ],
            [
             0.9,
             "#4d9221"
            ],
            [
             1,
             "#276419"
            ]
           ],
           "sequential": [
            [
             0,
             "#0d0887"
            ],
            [
             0.1111111111111111,
             "#46039f"
            ],
            [
             0.2222222222222222,
             "#7201a8"
            ],
            [
             0.3333333333333333,
             "#9c179e"
            ],
            [
             0.4444444444444444,
             "#bd3786"
            ],
            [
             0.5555555555555556,
             "#d8576b"
            ],
            [
             0.6666666666666666,
             "#ed7953"
            ],
            [
             0.7777777777777778,
             "#fb9f3a"
            ],
            [
             0.8888888888888888,
             "#fdca26"
            ],
            [
             1,
             "#f0f921"
            ]
           ],
           "sequentialminus": [
            [
             0,
             "#0d0887"
            ],
            [
             0.1111111111111111,
             "#46039f"
            ],
            [
             0.2222222222222222,
             "#7201a8"
            ],
            [
             0.3333333333333333,
             "#9c179e"
            ],
            [
             0.4444444444444444,
             "#bd3786"
            ],
            [
             0.5555555555555556,
             "#d8576b"
            ],
            [
             0.6666666666666666,
             "#ed7953"
            ],
            [
             0.7777777777777778,
             "#fb9f3a"
            ],
            [
             0.8888888888888888,
             "#fdca26"
            ],
            [
             1,
             "#f0f921"
            ]
           ]
          },
          "colorway": [
           "#636efa",
           "#EF553B",
           "#00cc96",
           "#ab63fa",
           "#FFA15A",
           "#19d3f3",
           "#FF6692",
           "#B6E880",
           "#FF97FF",
           "#FECB52"
          ],
          "font": {
           "color": "#2a3f5f"
          },
          "geo": {
           "bgcolor": "white",
           "lakecolor": "white",
           "landcolor": "#E5ECF6",
           "showlakes": true,
           "showland": true,
           "subunitcolor": "white"
          },
          "hoverlabel": {
           "align": "left"
          },
          "hovermode": "closest",
          "mapbox": {
           "style": "light"
          },
          "paper_bgcolor": "white",
          "plot_bgcolor": "#E5ECF6",
          "polar": {
           "angularaxis": {
            "gridcolor": "white",
            "linecolor": "white",
            "ticks": ""
           },
           "bgcolor": "#E5ECF6",
           "radialaxis": {
            "gridcolor": "white",
            "linecolor": "white",
            "ticks": ""
           }
          },
          "scene": {
           "xaxis": {
            "backgroundcolor": "#E5ECF6",
            "gridcolor": "white",
            "gridwidth": 2,
            "linecolor": "white",
            "showbackground": true,
            "ticks": "",
            "zerolinecolor": "white"
           },
           "yaxis": {
            "backgroundcolor": "#E5ECF6",
            "gridcolor": "white",
            "gridwidth": 2,
            "linecolor": "white",
            "showbackground": true,
            "ticks": "",
            "zerolinecolor": "white"
           },
           "zaxis": {
            "backgroundcolor": "#E5ECF6",
            "gridcolor": "white",
            "gridwidth": 2,
            "linecolor": "white",
            "showbackground": true,
            "ticks": "",
            "zerolinecolor": "white"
           }
          },
          "shapedefaults": {
           "line": {
            "color": "#2a3f5f"
           }
          },
          "ternary": {
           "aaxis": {
            "gridcolor": "white",
            "linecolor": "white",
            "ticks": ""
           },
           "baxis": {
            "gridcolor": "white",
            "linecolor": "white",
            "ticks": ""
           },
           "bgcolor": "#E5ECF6",
           "caxis": {
            "gridcolor": "white",
            "linecolor": "white",
            "ticks": ""
           }
          },
          "title": {
           "x": 0.05
          },
          "xaxis": {
           "automargin": true,
           "gridcolor": "white",
           "linecolor": "white",
           "ticks": "",
           "title": {
            "standoff": 15
           },
           "zerolinecolor": "white",
           "zerolinewidth": 2
          },
          "yaxis": {
           "automargin": true,
           "gridcolor": "white",
           "linecolor": "white",
           "ticks": "",
           "title": {
            "standoff": 15
           },
           "zerolinecolor": "white",
           "zerolinewidth": 2
          }
         }
        },
        "title": {
         "text": "Samples from GeometricShapesDataset"
        },
        "width": 800,
        "xaxis": {
         "anchor": "y",
         "domain": [
          0,
          0.2888888888888889
         ]
        },
        "xaxis2": {
         "anchor": "y2",
         "domain": [
          0.35555555555555557,
          0.6444444444444445
         ]
        },
        "xaxis3": {
         "anchor": "y3",
         "domain": [
          0.7111111111111111,
          1
         ]
        },
        "xaxis4": {
         "anchor": "y4",
         "domain": [
          0,
          0.2888888888888889
         ]
        },
        "xaxis5": {
         "anchor": "y5",
         "domain": [
          0.35555555555555557,
          0.6444444444444445
         ]
        },
        "xaxis6": {
         "anchor": "y6",
         "domain": [
          0.7111111111111111,
          1
         ]
        },
        "xaxis7": {
         "anchor": "y7",
         "domain": [
          0,
          0.2888888888888889
         ]
        },
        "xaxis8": {
         "anchor": "y8",
         "domain": [
          0.35555555555555557,
          0.6444444444444445
         ]
        },
        "xaxis9": {
         "anchor": "y9",
         "domain": [
          0.7111111111111111,
          1
         ]
        },
        "yaxis": {
         "anchor": "x",
         "domain": [
          0.7777777777777778,
          1
         ]
        },
        "yaxis2": {
         "anchor": "x2",
         "domain": [
          0.7777777777777778,
          1
         ]
        },
        "yaxis3": {
         "anchor": "x3",
         "domain": [
          0.7777777777777778,
          1
         ]
        },
        "yaxis4": {
         "anchor": "x4",
         "domain": [
          0.3888888888888889,
          0.6111111111111112
         ]
        },
        "yaxis5": {
         "anchor": "x5",
         "domain": [
          0.3888888888888889,
          0.6111111111111112
         ]
        },
        "yaxis6": {
         "anchor": "x6",
         "domain": [
          0.3888888888888889,
          0.6111111111111112
         ]
        },
        "yaxis7": {
         "anchor": "x7",
         "domain": [
          0,
          0.22222222222222224
         ]
        },
        "yaxis8": {
         "anchor": "x8",
         "domain": [
          0,
          0.22222222222222224
         ]
        },
        "yaxis9": {
         "anchor": "x9",
         "domain": [
          0,
          0.22222222222222224
         ]
        }
       }
      }
     },
     "metadata": {},
     "output_type": "display_data"
    }
   ],
   "source": [
    "# Import necessary libraries\n",
    "import plotly.graph_objects as go\n",
    "from plotly.subplots import make_subplots\n",
    "from typing import List, Any\n",
    "from jaxtyping import Float, Array\n",
    "\n",
    "\n",
    "def visualize_geometric_shapes(\n",
    "    dataset: GeometricShapesDataset,\n",
    "    num_samples: int = 9,\n",
    ") -> Any:\n",
    "    \"\"\"\n",
    "    Visualize samples from the GeometricShapesDataset using plotly.\n",
    "\n",
    "    Args:\n",
    "        dataset (GeometricShapesDataset): The dataset to visualize.\n",
    "        num_samples (int): Number of samples to display. Default is 9.\n",
    "    \"\"\"\n",
    "    assert num_samples == 9, \"need to adapt to rows / columns\"\n",
    "\n",
    "    # Create a grid of subplots\n",
    "    fig = make_subplots(\n",
    "        rows=3,\n",
    "        cols=3,\n",
    "        subplot_titles=[f\"Sample {i+1}\" for i in range(num_samples)],\n",
    "    )\n",
    "\n",
    "    for i in range(num_samples):\n",
    "        # Get a random sample from the dataset\n",
    "        sample: Float[Array, \"28 28\"] = dataset[i][0].squeeze().numpy()\n",
    "\n",
    "        # Add heatmap to the subplot\n",
    "        fig.add_trace(\n",
    "            go.Heatmap(z=sample, colorscale=\"Viridis\", showscale=False),\n",
    "            row=i // 3 + 1,\n",
    "            col=i % 3 + 1,\n",
    "        )\n",
    "\n",
    "    # Update layout for better visualization\n",
    "    fig.update_layout(\n",
    "        title_text=\"Samples from GeometricShapesDataset\",\n",
    "        height=800,\n",
    "        width=800,\n",
    "    )\n",
    "\n",
    "    # Return the figure instead of showing it\n",
    "    return fig\n",
    "\n",
    "\n",
    "# Create an instance of the dataset\n",
    "dataset = GeometricShapesDataset(num_samples=9)\n",
    "\n",
    "# Visualize the dataset and display the plot\n",
    "fig = visualize_geometric_shapes(dataset)\n",
    "fig.show()\n",
    "\n",
    "# Log the plot to wandb\n",
    "# wandb.log({\"geometric_shapes_samples\": wandb.Plotly(fig)})\n",
    "\n",
    "# Log the plot to wandb\n",
    "# wandb.log({\"geometric_shapes_samples\": wandb.Plotly(fig)})"
   ]
  },
  {
   "cell_type": "code",
   "execution_count": null,
   "id": "006b335a",
   "metadata": {},
   "outputs": [],
   "source": []
  },
  {
   "cell_type": "code",
   "execution_count": null,
   "id": "14efd92b",
   "metadata": {},
   "outputs": [],
   "source": []
  },
  {
   "cell_type": "markdown",
   "id": "723dde06",
   "metadata": {},
   "source": [
    "# Sweep Configuration For Hyperparameter Search"
   ]
  },
  {
   "cell_type": "code",
   "execution_count": null,
   "id": "244cca39",
   "metadata": {},
   "outputs": [],
   "source": [
    "sweep_configuration = {\n",
    "    \"name\": \"sweepdemo\",\n",
    "    \"method\": \"bayes\",\n",
    "    \"metric\": {\"goal\": \"minimize\", \"name\": \"test_loss\"},\n",
    "    \"parameters\": {\n",
    "        \"d_model\": {\"values\": [8, 16, 32, 64, 128]},\n",
    "        \"n_layers\": {\"min\": 1, \"max\": 16},\n",
    "        \"learning_rate\": {\n",
    "            # a flat distribution between 0 and 0.1\n",
    "            \"distribution\": \"uniform\",\n",
    "            \"min\": 0,\n",
    "            \"max\": 0.1,\n",
    "        },\n",
    "        \"batch_size\": {\n",
    "            \"distribution\": \"q_log_uniform_values\",\n",
    "            \"max\": 256,\n",
    "            \"min\": 32,\n",
    "            \"q\": 8,\n",
    "        },\n",
    "        \"num_epochs\": {\"value\": 100},\n",
    "        \"test_interval\": {\"value\": 1000},\n",
    "        # \"optimizer\": {\"values\": [\"adam\", \"sgd\", \"adamw\", \"rmsprop\"]},\n",
    "    },\n",
    "}"
   ]
  },
  {
   "cell_type": "code",
   "execution_count": null,
   "id": "83541ab3",
   "metadata": {},
   "outputs": [],
   "source": [
    "def train_wandb() -> None:\n",
    "\n",
    "    # construct training config from wandb\n",
    "\n",
    "    wandb.init(project=WANDB_PROJECT_NAME)\n",
    "\n",
    "    # TODO(bschoen): What's the usual way to init config from here so don't copy explicitly\n",
    "    # - usually will have this as completely flatten so can directly grab from\n",
    "    #\n",
    "    # `wandb.config` accesses current sweep params\n",
    "    cfg = TrainingConfig(\n",
    "        model_cfg=SimpleNetConfig(\n",
    "            d_model=wandb.config[\"d_model\"],\n",
    "            n_layers=wandb.config[\"n_layers\"],\n",
    "        ),  # Increase model capacity\n",
    "        num_samples=1000,\n",
    "        num_epochs=wandb.config[\"num_epochs\"],\n",
    "        test_interval=wandb.config[\"test_interval\"],\n",
    "        learning_rate=wandb.config[\"learning_rate\"],\n",
    "        batch_size=wandb.config[\"batch_size\"],\n",
    "    )\n",
    "\n",
    "    train(cfg)"
   ]
  },
  {
   "cell_type": "code",
   "execution_count": null,
   "id": "33b8a732",
   "metadata": {},
   "outputs": [],
   "source": [
    "wandb.agent?"
   ]
  },
  {
   "cell_type": "markdown",
   "id": "f5023732",
   "metadata": {},
   "source": [
    "## Intuition on Hyperparam Runs\n",
    "\n",
    "* Bad hyperparameters are usually clearly worse by the end of the **first 1-2 epochs.**\n",
    "\n",
    "* You can manually abort runs that don't look promising, or you can try to do it automatically\n",
    "  * **Hyperband** is a popular algorithm for this.\n",
    "\n",
    "* Starting with a smaller ResNet than the full ResNet34 is a good idea. \n",
    "  * Good hyperparameters on the small model tend to transfer over to the larger model because the architecture and the data are the same\n",
    "\n",
    "\n",
    "    * the main difference is the **larger model** may require **more regularization** to prevent overfitting."
   ]
  },
  {
   "cell_type": "code",
   "execution_count": null,
   "id": "ef6b4a21",
   "metadata": {},
   "outputs": [],
   "source": []
  },
  {
   "cell_type": "code",
   "execution_count": null,
   "id": "5f413205",
   "metadata": {},
   "outputs": [],
   "source": [
    "sweep_id = wandb.sweep(\n",
    "    sweep=sweep_configuration,\n",
    "    project=WANDB_PROJECT_NAME,\n",
    ")\n",
    "\n",
    "num_trials = 100\n",
    "\n",
    "# Inu\n",
    "# TODO(bschoen): Use hyperband to abort sweep early [](https://www.jmlr.org/papers/volume18/16-558/16-558.pdf)\n",
    "# - popular to use\n",
    "#\n",
    "# note: Larger batch size increases GPU memory usage and doubling batch size often allows doubling learning rate, up to a point where this relationship breaks down.\n",
    "wandb.agent(\n",
    "    sweep_id=sweep_id,\n",
    "    function=train_wandb,\n",
    "    count=num_trials,\n",
    ")\n",
    "\n",
    "wandb.finish()"
   ]
  },
  {
   "cell_type": "markdown",
   "id": "89bbae31",
   "metadata": {},
   "source": [
    "# Scaling Laws"
   ]
  },
  {
   "cell_type": "code",
   "execution_count": 10,
   "id": "1172e673",
   "metadata": {},
   "outputs": [],
   "source": [
    "# MSE - pretty clean scaling on model size: https://wandb.ai/bronsonschoen-personal-use/simple_regression/sweeps/c0ivdnhj?nw=nwuserbronsonschoen\n",
    "#\n",
    "# CrossEntropy\n",
    "# - https://wandb.ai/bronsonschoen-personal-use/simple_regression/sweeps/m0p58ake?nw=nwuserbronsonschoen\n",
    "#\n",
    "#\n",
    "sweep_configuration = {\n",
    "    \"name\": \"scaling_laws\",\n",
    "    # important that this is random, so it shows everything\n",
    "    \"method\": \"random\",\n",
    "    \"metric\": {\"goal\": \"minimize\", \"name\": \"test_loss\"},\n",
    "    \"parameters\": {\n",
    "        \"d_model\": {\n",
    "            \"values\": [1, 2, 4, 8, 16, 32, 64, 128, 256, 512, 1024, 2048, 4096]\n",
    "        },\n",
    "        # \"d_model\": {\"min\": 1, \"max\": 4096},\n",
    "        \"n_layers\": {\"value\": 4},\n",
    "        \"batch_size\": {\"value\": 64},\n",
    "        # \"num_samples\": { \"values\": [1e1, 1e2, 1e3, 1e4, 1e5, 1e6, 1e7, 1e8, 1e9, 1e10]},\n",
    "        \"num_samples\": {\"value\": 100000},\n",
    "        \"num_epochs\": {\"value\": 1},\n",
    "        \"test_interval\": {\"value\": 1e20},\n",
    "        # \"optimizer\": {\"values\": [\"adam\", \"sgd\", \"adamw\", \"rmsprop\"]},\n",
    "    },\n",
    "}"
   ]
  },
  {
   "cell_type": "code",
   "execution_count": 11,
   "id": "4f278a9f",
   "metadata": {},
   "outputs": [],
   "source": [
    "import math\n",
    "\n",
    "\n",
    "def train_wandb_scaling() -> None:\n",
    "\n",
    "    # construct training config from wandb\n",
    "\n",
    "    wandb.init(project=WANDB_PROJECT_NAME)\n",
    "\n",
    "    d_model = wandb.config[\"d_model\"]\n",
    "    num_samples = wandb.config[\"num_samples\"]\n",
    "\n",
    "    # learning rate scales at `1 / sqrt(d_model)`\n",
    "    base_learning_rate = 1e-2\n",
    "    learning_rate = base_learning_rate * (1 / math.sqrt(d_model))\n",
    "\n",
    "    # TODO(bschoen): What's the usual way to init config from here so don't copy explicitly\n",
    "    # - usually will have this as completely flatten so can directly grab from\n",
    "    #\n",
    "    # `wandb.config` accesses current sweep params\n",
    "    cfg = TrainingConfig(\n",
    "        model_cfg=SimpleNetConfig(\n",
    "            d_model=d_model,\n",
    "            n_layers=wandb.config[\"n_layers\"],\n",
    "        ),  # Increase model capacity\n",
    "        num_samples=num_samples,\n",
    "        num_epochs=wandb.config[\"num_epochs\"],\n",
    "        test_interval=wandb.config[\"test_interval\"],\n",
    "        learning_rate=learning_rate,\n",
    "        batch_size=wandb.config[\"batch_size\"],\n",
    "    )\n",
    "\n",
    "    train(cfg)"
   ]
  },
  {
   "cell_type": "code",
   "execution_count": 12,
   "id": "3b516ed2",
   "metadata": {},
   "outputs": [
    {
     "name": "stdout",
     "output_type": "stream",
     "text": [
      "Create sweep with ID: m0p58ake\n",
      "Sweep URL: https://wandb.ai/bronsonschoen-personal-use/simple_regression/sweeps/m0p58ake\n"
     ]
    },
    {
     "name": "stderr",
     "output_type": "stream",
     "text": [
      "\u001b[34m\u001b[1mwandb\u001b[0m: Agent Starting Run: tyc382v8 with config:\n",
      "\u001b[34m\u001b[1mwandb\u001b[0m: \tbatch_size: 64\n",
      "\u001b[34m\u001b[1mwandb\u001b[0m: \td_model: 64\n",
      "\u001b[34m\u001b[1mwandb\u001b[0m: \tn_layers: 4\n",
      "\u001b[34m\u001b[1mwandb\u001b[0m: \tnum_epochs: 1\n",
      "\u001b[34m\u001b[1mwandb\u001b[0m: \tnum_samples: 100000\n",
      "\u001b[34m\u001b[1mwandb\u001b[0m: \ttest_interval: 100000000000000000000\n",
      "Failed to detect the name of this notebook, you can set it manually with the WANDB_NOTEBOOK_NAME environment variable to enable code saving.\n",
      "\u001b[34m\u001b[1mwandb\u001b[0m: \u001b[33mWARNING\u001b[0m Ignored wandb.init() arg project when running a sweep.\n"
     ]
    },
    {
     "data": {
      "text/html": [
       "wandb version 0.17.8 is available!  To upgrade, please run:\n",
       " $ pip install wandb --upgrade"
      ],
      "text/plain": [
       "<IPython.core.display.HTML object>"
      ]
     },
     "metadata": {},
     "output_type": "display_data"
    },
    {
     "data": {
      "text/html": [
       "Tracking run with wandb version 0.17.7"
      ],
      "text/plain": [
       "<IPython.core.display.HTML object>"
      ]
     },
     "metadata": {},
     "output_type": "display_data"
    },
    {
     "data": {
      "text/html": [
       "Run data is saved locally in <code>/Users/bronsonschoen/gpt_from_scratch/wandb/run-20240904_194246-tyc382v8</code>"
      ],
      "text/plain": [
       "<IPython.core.display.HTML object>"
      ]
     },
     "metadata": {},
     "output_type": "display_data"
    },
    {
     "data": {
      "text/html": [
       "Syncing run <strong><a href='https://wandb.ai/bronsonschoen-personal-use/simple_regression/runs/tyc382v8' target=\"_blank\">kind-sweep-1</a></strong> to <a href='https://wandb.ai/bronsonschoen-personal-use/simple_regression' target=\"_blank\">Weights & Biases</a> (<a href='https://wandb.me/run' target=\"_blank\">docs</a>)<br/>Sweep page: <a href='https://wandb.ai/bronsonschoen-personal-use/simple_regression/sweeps/m0p58ake' target=\"_blank\">https://wandb.ai/bronsonschoen-personal-use/simple_regression/sweeps/m0p58ake</a>"
      ],
      "text/plain": [
       "<IPython.core.display.HTML object>"
      ]
     },
     "metadata": {},
     "output_type": "display_data"
    },
    {
     "data": {
      "text/html": [
       " View project at <a href='https://wandb.ai/bronsonschoen-personal-use/simple_regression' target=\"_blank\">https://wandb.ai/bronsonschoen-personal-use/simple_regression</a>"
      ],
      "text/plain": [
       "<IPython.core.display.HTML object>"
      ]
     },
     "metadata": {},
     "output_type": "display_data"
    },
    {
     "data": {
      "text/html": [
       " View sweep at <a href='https://wandb.ai/bronsonschoen-personal-use/simple_regression/sweeps/m0p58ake' target=\"_blank\">https://wandb.ai/bronsonschoen-personal-use/simple_regression/sweeps/m0p58ake</a>"
      ],
      "text/plain": [
       "<IPython.core.display.HTML object>"
      ]
     },
     "metadata": {},
     "output_type": "display_data"
    },
    {
     "data": {
      "text/html": [
       " View run at <a href='https://wandb.ai/bronsonschoen-personal-use/simple_regression/runs/tyc382v8' target=\"_blank\">https://wandb.ai/bronsonschoen-personal-use/simple_regression/runs/tyc382v8</a>"
      ],
      "text/plain": [
       "<IPython.core.display.HTML object>"
      ]
     },
     "metadata": {},
     "output_type": "display_data"
    },
    {
     "name": "stdout",
     "output_type": "stream",
     "text": [
      "Using device: mps\n",
      "Epoch [1/1], Train Loss: 1.6528, Test Loss: 1.4495, Accuracy: 51.53%\n"
     ]
    },
    {
     "data": {
      "application/vnd.jupyter.widget-view+json": {
       "model_id": "4132c8a2b65341febdcfd00f5905f2cc",
       "version_major": 2,
       "version_minor": 0
      },
      "text/plain": [
       "VBox(children=(Label(value='0.001 MB of 0.048 MB uploaded\\r'), FloatProgress(value=0.024220566788853416, max=1…"
      ]
     },
     "metadata": {},
     "output_type": "display_data"
    },
    {
     "data": {
      "text/html": [
       "<style>\n",
       "    table.wandb td:nth-child(1) { padding: 0 10px; text-align: left ; width: auto;} td:nth-child(2) {text-align: left ; width: 100%}\n",
       "    .wandb-row { display: flex; flex-direction: row; flex-wrap: wrap; justify-content: flex-start; width: 100% }\n",
       "    .wandb-col { display: flex; flex-direction: column; flex-basis: 100%; flex: 1; padding: 10px; }\n",
       "    </style>\n",
       "<div class=\"wandb-row\"><div class=\"wandb-col\"><h3>Run history:</h3><br/><table class=\"wandb\"><tr><td>accuracy</td><td>▁</td></tr><tr><td>epoch</td><td>▁</td></tr><tr><td>test_loss</td><td>▁</td></tr><tr><td>train_loss</td><td>▁</td></tr></table><br/></div><div class=\"wandb-col\"><h3>Run summary:</h3><br/><table class=\"wandb\"><tr><td>accuracy</td><td>51.532</td></tr><tr><td>epoch</td><td>0</td></tr><tr><td>test_loss</td><td>1.44953</td></tr><tr><td>train_loss</td><td>1.65282</td></tr></table><br/></div></div>"
      ],
      "text/plain": [
       "<IPython.core.display.HTML object>"
      ]
     },
     "metadata": {},
     "output_type": "display_data"
    },
    {
     "data": {
      "text/html": [
       " View run <strong style=\"color:#cdcd00\">kind-sweep-1</strong> at: <a href='https://wandb.ai/bronsonschoen-personal-use/simple_regression/runs/tyc382v8' target=\"_blank\">https://wandb.ai/bronsonschoen-personal-use/simple_regression/runs/tyc382v8</a><br/> View project at: <a href='https://wandb.ai/bronsonschoen-personal-use/simple_regression' target=\"_blank\">https://wandb.ai/bronsonschoen-personal-use/simple_regression</a><br/>Synced 5 W&B file(s), 0 media file(s), 0 artifact file(s) and 0 other file(s)"
      ],
      "text/plain": [
       "<IPython.core.display.HTML object>"
      ]
     },
     "metadata": {},
     "output_type": "display_data"
    },
    {
     "data": {
      "text/html": [
       "Find logs at: <code>./wandb/run-20240904_194246-tyc382v8/logs</code>"
      ],
      "text/plain": [
       "<IPython.core.display.HTML object>"
      ]
     },
     "metadata": {},
     "output_type": "display_data"
    },
    {
     "data": {
      "text/html": [
       "The new W&B backend becomes opt-out in version 0.18.0; try it out with `wandb.require(\"core\")`! See https://wandb.me/wandb-core for more information."
      ],
      "text/plain": [
       "<IPython.core.display.HTML object>"
      ]
     },
     "metadata": {},
     "output_type": "display_data"
    },
    {
     "name": "stdout",
     "output_type": "stream",
     "text": [
      "Training completed!\n"
     ]
    },
    {
     "name": "stderr",
     "output_type": "stream",
     "text": [
      "\u001b[34m\u001b[1mwandb\u001b[0m: Agent Starting Run: 4sdzqwbq with config:\n",
      "\u001b[34m\u001b[1mwandb\u001b[0m: \tbatch_size: 64\n",
      "\u001b[34m\u001b[1mwandb\u001b[0m: \td_model: 16\n",
      "\u001b[34m\u001b[1mwandb\u001b[0m: \tn_layers: 4\n",
      "\u001b[34m\u001b[1mwandb\u001b[0m: \tnum_epochs: 1\n",
      "\u001b[34m\u001b[1mwandb\u001b[0m: \tnum_samples: 100000\n",
      "\u001b[34m\u001b[1mwandb\u001b[0m: \ttest_interval: 100000000000000000000\n",
      "Failed to detect the name of this notebook, you can set it manually with the WANDB_NOTEBOOK_NAME environment variable to enable code saving.\n",
      "\u001b[34m\u001b[1mwandb\u001b[0m: \u001b[33mWARNING\u001b[0m Ignored wandb.init() arg project when running a sweep.\n"
     ]
    },
    {
     "data": {
      "text/html": [
       "wandb version 0.17.8 is available!  To upgrade, please run:\n",
       " $ pip install wandb --upgrade"
      ],
      "text/plain": [
       "<IPython.core.display.HTML object>"
      ]
     },
     "metadata": {},
     "output_type": "display_data"
    },
    {
     "data": {
      "text/html": [
       "Tracking run with wandb version 0.17.7"
      ],
      "text/plain": [
       "<IPython.core.display.HTML object>"
      ]
     },
     "metadata": {},
     "output_type": "display_data"
    },
    {
     "data": {
      "text/html": [
       "Run data is saved locally in <code>/Users/bronsonschoen/gpt_from_scratch/wandb/run-20240904_194311-4sdzqwbq</code>"
      ],
      "text/plain": [
       "<IPython.core.display.HTML object>"
      ]
     },
     "metadata": {},
     "output_type": "display_data"
    },
    {
     "data": {
      "text/html": [
       "Syncing run <strong><a href='https://wandb.ai/bronsonschoen-personal-use/simple_regression/runs/4sdzqwbq' target=\"_blank\">rare-sweep-2</a></strong> to <a href='https://wandb.ai/bronsonschoen-personal-use/simple_regression' target=\"_blank\">Weights & Biases</a> (<a href='https://wandb.me/run' target=\"_blank\">docs</a>)<br/>Sweep page: <a href='https://wandb.ai/bronsonschoen-personal-use/simple_regression/sweeps/m0p58ake' target=\"_blank\">https://wandb.ai/bronsonschoen-personal-use/simple_regression/sweeps/m0p58ake</a>"
      ],
      "text/plain": [
       "<IPython.core.display.HTML object>"
      ]
     },
     "metadata": {},
     "output_type": "display_data"
    },
    {
     "data": {
      "text/html": [
       " View project at <a href='https://wandb.ai/bronsonschoen-personal-use/simple_regression' target=\"_blank\">https://wandb.ai/bronsonschoen-personal-use/simple_regression</a>"
      ],
      "text/plain": [
       "<IPython.core.display.HTML object>"
      ]
     },
     "metadata": {},
     "output_type": "display_data"
    },
    {
     "data": {
      "text/html": [
       " View sweep at <a href='https://wandb.ai/bronsonschoen-personal-use/simple_regression/sweeps/m0p58ake' target=\"_blank\">https://wandb.ai/bronsonschoen-personal-use/simple_regression/sweeps/m0p58ake</a>"
      ],
      "text/plain": [
       "<IPython.core.display.HTML object>"
      ]
     },
     "metadata": {},
     "output_type": "display_data"
    },
    {
     "data": {
      "text/html": [
       " View run at <a href='https://wandb.ai/bronsonschoen-personal-use/simple_regression/runs/4sdzqwbq' target=\"_blank\">https://wandb.ai/bronsonschoen-personal-use/simple_regression/runs/4sdzqwbq</a>"
      ],
      "text/plain": [
       "<IPython.core.display.HTML object>"
      ]
     },
     "metadata": {},
     "output_type": "display_data"
    },
    {
     "name": "stdout",
     "output_type": "stream",
     "text": [
      "Using device: mps\n",
      "Epoch [1/1], Train Loss: 2.0726, Test Loss: 1.9536, Accuracy: 31.72%\n"
     ]
    },
    {
     "data": {
      "application/vnd.jupyter.widget-view+json": {
       "model_id": "5381c215e2704d95887da657adcb8591",
       "version_major": 2,
       "version_minor": 0
      },
      "text/plain": [
       "VBox(children=(Label(value='0.001 MB of 0.001 MB uploaded\\r'), FloatProgress(value=1.0, max=1.0)))"
      ]
     },
     "metadata": {},
     "output_type": "display_data"
    },
    {
     "data": {
      "text/html": [
       "<style>\n",
       "    table.wandb td:nth-child(1) { padding: 0 10px; text-align: left ; width: auto;} td:nth-child(2) {text-align: left ; width: 100%}\n",
       "    .wandb-row { display: flex; flex-direction: row; flex-wrap: wrap; justify-content: flex-start; width: 100% }\n",
       "    .wandb-col { display: flex; flex-direction: column; flex-basis: 100%; flex: 1; padding: 10px; }\n",
       "    </style>\n",
       "<div class=\"wandb-row\"><div class=\"wandb-col\"><h3>Run history:</h3><br/><table class=\"wandb\"><tr><td>accuracy</td><td>▁</td></tr><tr><td>epoch</td><td>▁</td></tr><tr><td>test_loss</td><td>▁</td></tr><tr><td>train_loss</td><td>▁</td></tr></table><br/></div><div class=\"wandb-col\"><h3>Run summary:</h3><br/><table class=\"wandb\"><tr><td>accuracy</td><td>31.719</td></tr><tr><td>epoch</td><td>0</td></tr><tr><td>test_loss</td><td>1.95359</td></tr><tr><td>train_loss</td><td>2.0726</td></tr></table><br/></div></div>"
      ],
      "text/plain": [
       "<IPython.core.display.HTML object>"
      ]
     },
     "metadata": {},
     "output_type": "display_data"
    },
    {
     "data": {
      "text/html": [
       " View run <strong style=\"color:#cdcd00\">rare-sweep-2</strong> at: <a href='https://wandb.ai/bronsonschoen-personal-use/simple_regression/runs/4sdzqwbq' target=\"_blank\">https://wandb.ai/bronsonschoen-personal-use/simple_regression/runs/4sdzqwbq</a><br/> View project at: <a href='https://wandb.ai/bronsonschoen-personal-use/simple_regression' target=\"_blank\">https://wandb.ai/bronsonschoen-personal-use/simple_regression</a><br/>Synced 5 W&B file(s), 0 media file(s), 0 artifact file(s) and 0 other file(s)"
      ],
      "text/plain": [
       "<IPython.core.display.HTML object>"
      ]
     },
     "metadata": {},
     "output_type": "display_data"
    },
    {
     "data": {
      "text/html": [
       "Find logs at: <code>./wandb/run-20240904_194311-4sdzqwbq/logs</code>"
      ],
      "text/plain": [
       "<IPython.core.display.HTML object>"
      ]
     },
     "metadata": {},
     "output_type": "display_data"
    },
    {
     "data": {
      "text/html": [
       "The new W&B backend becomes opt-out in version 0.18.0; try it out with `wandb.require(\"core\")`! See https://wandb.me/wandb-core for more information."
      ],
      "text/plain": [
       "<IPython.core.display.HTML object>"
      ]
     },
     "metadata": {},
     "output_type": "display_data"
    },
    {
     "name": "stdout",
     "output_type": "stream",
     "text": [
      "Training completed!\n"
     ]
    },
    {
     "name": "stderr",
     "output_type": "stream",
     "text": [
      "\u001b[34m\u001b[1mwandb\u001b[0m: Agent Starting Run: casz1zht with config:\n",
      "\u001b[34m\u001b[1mwandb\u001b[0m: \tbatch_size: 64\n",
      "\u001b[34m\u001b[1mwandb\u001b[0m: \td_model: 16\n",
      "\u001b[34m\u001b[1mwandb\u001b[0m: \tn_layers: 4\n",
      "\u001b[34m\u001b[1mwandb\u001b[0m: \tnum_epochs: 1\n",
      "\u001b[34m\u001b[1mwandb\u001b[0m: \tnum_samples: 100000\n",
      "\u001b[34m\u001b[1mwandb\u001b[0m: \ttest_interval: 100000000000000000000\n",
      "Failed to detect the name of this notebook, you can set it manually with the WANDB_NOTEBOOK_NAME environment variable to enable code saving.\n",
      "\u001b[34m\u001b[1mwandb\u001b[0m: \u001b[33mWARNING\u001b[0m Ignored wandb.init() arg project when running a sweep.\n"
     ]
    },
    {
     "data": {
      "text/html": [
       "wandb version 0.17.8 is available!  To upgrade, please run:\n",
       " $ pip install wandb --upgrade"
      ],
      "text/plain": [
       "<IPython.core.display.HTML object>"
      ]
     },
     "metadata": {},
     "output_type": "display_data"
    },
    {
     "data": {
      "text/html": [
       "Tracking run with wandb version 0.17.7"
      ],
      "text/plain": [
       "<IPython.core.display.HTML object>"
      ]
     },
     "metadata": {},
     "output_type": "display_data"
    },
    {
     "data": {
      "text/html": [
       "Run data is saved locally in <code>/Users/bronsonschoen/gpt_from_scratch/wandb/run-20240904_194338-casz1zht</code>"
      ],
      "text/plain": [
       "<IPython.core.display.HTML object>"
      ]
     },
     "metadata": {},
     "output_type": "display_data"
    },
    {
     "data": {
      "text/html": [
       "Syncing run <strong><a href='https://wandb.ai/bronsonschoen-personal-use/simple_regression/runs/casz1zht' target=\"_blank\">vivid-sweep-3</a></strong> to <a href='https://wandb.ai/bronsonschoen-personal-use/simple_regression' target=\"_blank\">Weights & Biases</a> (<a href='https://wandb.me/run' target=\"_blank\">docs</a>)<br/>Sweep page: <a href='https://wandb.ai/bronsonschoen-personal-use/simple_regression/sweeps/m0p58ake' target=\"_blank\">https://wandb.ai/bronsonschoen-personal-use/simple_regression/sweeps/m0p58ake</a>"
      ],
      "text/plain": [
       "<IPython.core.display.HTML object>"
      ]
     },
     "metadata": {},
     "output_type": "display_data"
    },
    {
     "data": {
      "text/html": [
       " View project at <a href='https://wandb.ai/bronsonschoen-personal-use/simple_regression' target=\"_blank\">https://wandb.ai/bronsonschoen-personal-use/simple_regression</a>"
      ],
      "text/plain": [
       "<IPython.core.display.HTML object>"
      ]
     },
     "metadata": {},
     "output_type": "display_data"
    },
    {
     "data": {
      "text/html": [
       " View sweep at <a href='https://wandb.ai/bronsonschoen-personal-use/simple_regression/sweeps/m0p58ake' target=\"_blank\">https://wandb.ai/bronsonschoen-personal-use/simple_regression/sweeps/m0p58ake</a>"
      ],
      "text/plain": [
       "<IPython.core.display.HTML object>"
      ]
     },
     "metadata": {},
     "output_type": "display_data"
    },
    {
     "data": {
      "text/html": [
       " View run at <a href='https://wandb.ai/bronsonschoen-personal-use/simple_regression/runs/casz1zht' target=\"_blank\">https://wandb.ai/bronsonschoen-personal-use/simple_regression/runs/casz1zht</a>"
      ],
      "text/plain": [
       "<IPython.core.display.HTML object>"
      ]
     },
     "metadata": {},
     "output_type": "display_data"
    },
    {
     "name": "stdout",
     "output_type": "stream",
     "text": [
      "Using device: mps\n",
      "Epoch [1/1], Train Loss: 2.0522, Test Loss: 1.8908, Accuracy: 34.17%\n"
     ]
    },
    {
     "data": {
      "application/vnd.jupyter.widget-view+json": {
       "model_id": "b8557df1680b4e08b5c5f4344b0ee8ee",
       "version_major": 2,
       "version_minor": 0
      },
      "text/plain": [
       "VBox(children=(Label(value='0.001 MB of 0.001 MB uploaded\\r'), FloatProgress(value=1.0, max=1.0)))"
      ]
     },
     "metadata": {},
     "output_type": "display_data"
    },
    {
     "data": {
      "text/html": [
       "<style>\n",
       "    table.wandb td:nth-child(1) { padding: 0 10px; text-align: left ; width: auto;} td:nth-child(2) {text-align: left ; width: 100%}\n",
       "    .wandb-row { display: flex; flex-direction: row; flex-wrap: wrap; justify-content: flex-start; width: 100% }\n",
       "    .wandb-col { display: flex; flex-direction: column; flex-basis: 100%; flex: 1; padding: 10px; }\n",
       "    </style>\n",
       "<div class=\"wandb-row\"><div class=\"wandb-col\"><h3>Run history:</h3><br/><table class=\"wandb\"><tr><td>accuracy</td><td>▁</td></tr><tr><td>epoch</td><td>▁</td></tr><tr><td>test_loss</td><td>▁</td></tr><tr><td>train_loss</td><td>▁</td></tr></table><br/></div><div class=\"wandb-col\"><h3>Run summary:</h3><br/><table class=\"wandb\"><tr><td>accuracy</td><td>34.168</td></tr><tr><td>epoch</td><td>0</td></tr><tr><td>test_loss</td><td>1.89084</td></tr><tr><td>train_loss</td><td>2.05221</td></tr></table><br/></div></div>"
      ],
      "text/plain": [
       "<IPython.core.display.HTML object>"
      ]
     },
     "metadata": {},
     "output_type": "display_data"
    },
    {
     "data": {
      "text/html": [
       " View run <strong style=\"color:#cdcd00\">vivid-sweep-3</strong> at: <a href='https://wandb.ai/bronsonschoen-personal-use/simple_regression/runs/casz1zht' target=\"_blank\">https://wandb.ai/bronsonschoen-personal-use/simple_regression/runs/casz1zht</a><br/> View project at: <a href='https://wandb.ai/bronsonschoen-personal-use/simple_regression' target=\"_blank\">https://wandb.ai/bronsonschoen-personal-use/simple_regression</a><br/>Synced 5 W&B file(s), 0 media file(s), 0 artifact file(s) and 0 other file(s)"
      ],
      "text/plain": [
       "<IPython.core.display.HTML object>"
      ]
     },
     "metadata": {},
     "output_type": "display_data"
    },
    {
     "data": {
      "text/html": [
       "Find logs at: <code>./wandb/run-20240904_194338-casz1zht/logs</code>"
      ],
      "text/plain": [
       "<IPython.core.display.HTML object>"
      ]
     },
     "metadata": {},
     "output_type": "display_data"
    },
    {
     "data": {
      "text/html": [
       "The new W&B backend becomes opt-out in version 0.18.0; try it out with `wandb.require(\"core\")`! See https://wandb.me/wandb-core for more information."
      ],
      "text/plain": [
       "<IPython.core.display.HTML object>"
      ]
     },
     "metadata": {},
     "output_type": "display_data"
    },
    {
     "name": "stdout",
     "output_type": "stream",
     "text": [
      "Training completed!\n"
     ]
    },
    {
     "name": "stderr",
     "output_type": "stream",
     "text": [
      "\u001b[34m\u001b[1mwandb\u001b[0m: Sweep Agent: Waiting for job.\n",
      "\u001b[34m\u001b[1mwandb\u001b[0m: Job received.\n",
      "\u001b[34m\u001b[1mwandb\u001b[0m: Agent Starting Run: m8kw0hkk with config:\n",
      "\u001b[34m\u001b[1mwandb\u001b[0m: \tbatch_size: 64\n",
      "\u001b[34m\u001b[1mwandb\u001b[0m: \td_model: 32\n",
      "\u001b[34m\u001b[1mwandb\u001b[0m: \tn_layers: 4\n",
      "\u001b[34m\u001b[1mwandb\u001b[0m: \tnum_epochs: 1\n",
      "\u001b[34m\u001b[1mwandb\u001b[0m: \tnum_samples: 100000\n",
      "\u001b[34m\u001b[1mwandb\u001b[0m: \ttest_interval: 100000000000000000000\n",
      "Failed to detect the name of this notebook, you can set it manually with the WANDB_NOTEBOOK_NAME environment variable to enable code saving.\n",
      "\u001b[34m\u001b[1mwandb\u001b[0m: \u001b[33mWARNING\u001b[0m Ignored wandb.init() arg project when running a sweep.\n"
     ]
    },
    {
     "data": {
      "text/html": [
       "wandb version 0.17.8 is available!  To upgrade, please run:\n",
       " $ pip install wandb --upgrade"
      ],
      "text/plain": [
       "<IPython.core.display.HTML object>"
      ]
     },
     "metadata": {},
     "output_type": "display_data"
    },
    {
     "data": {
      "text/html": [
       "Tracking run with wandb version 0.17.7"
      ],
      "text/plain": [
       "<IPython.core.display.HTML object>"
      ]
     },
     "metadata": {},
     "output_type": "display_data"
    },
    {
     "data": {
      "text/html": [
       "Run data is saved locally in <code>/Users/bronsonschoen/gpt_from_scratch/wandb/run-20240904_194408-m8kw0hkk</code>"
      ],
      "text/plain": [
       "<IPython.core.display.HTML object>"
      ]
     },
     "metadata": {},
     "output_type": "display_data"
    },
    {
     "data": {
      "text/html": [
       "Syncing run <strong><a href='https://wandb.ai/bronsonschoen-personal-use/simple_regression/runs/m8kw0hkk' target=\"_blank\">revived-sweep-4</a></strong> to <a href='https://wandb.ai/bronsonschoen-personal-use/simple_regression' target=\"_blank\">Weights & Biases</a> (<a href='https://wandb.me/run' target=\"_blank\">docs</a>)<br/>Sweep page: <a href='https://wandb.ai/bronsonschoen-personal-use/simple_regression/sweeps/m0p58ake' target=\"_blank\">https://wandb.ai/bronsonschoen-personal-use/simple_regression/sweeps/m0p58ake</a>"
      ],
      "text/plain": [
       "<IPython.core.display.HTML object>"
      ]
     },
     "metadata": {},
     "output_type": "display_data"
    },
    {
     "data": {
      "text/html": [
       " View project at <a href='https://wandb.ai/bronsonschoen-personal-use/simple_regression' target=\"_blank\">https://wandb.ai/bronsonschoen-personal-use/simple_regression</a>"
      ],
      "text/plain": [
       "<IPython.core.display.HTML object>"
      ]
     },
     "metadata": {},
     "output_type": "display_data"
    },
    {
     "data": {
      "text/html": [
       " View sweep at <a href='https://wandb.ai/bronsonschoen-personal-use/simple_regression/sweeps/m0p58ake' target=\"_blank\">https://wandb.ai/bronsonschoen-personal-use/simple_regression/sweeps/m0p58ake</a>"
      ],
      "text/plain": [
       "<IPython.core.display.HTML object>"
      ]
     },
     "metadata": {},
     "output_type": "display_data"
    },
    {
     "data": {
      "text/html": [
       " View run at <a href='https://wandb.ai/bronsonschoen-personal-use/simple_regression/runs/m8kw0hkk' target=\"_blank\">https://wandb.ai/bronsonschoen-personal-use/simple_regression/runs/m8kw0hkk</a>"
      ],
      "text/plain": [
       "<IPython.core.display.HTML object>"
      ]
     },
     "metadata": {},
     "output_type": "display_data"
    },
    {
     "name": "stdout",
     "output_type": "stream",
     "text": [
      "Using device: mps\n",
      "Epoch [1/1], Train Loss: 1.8502, Test Loss: 1.6162, Accuracy: 46.76%\n"
     ]
    },
    {
     "data": {
      "application/vnd.jupyter.widget-view+json": {
       "model_id": "880048a6946d4ab58b7da3348c63f9c0",
       "version_major": 2,
       "version_minor": 0
      },
      "text/plain": [
       "VBox(children=(Label(value='0.001 MB of 0.048 MB uploaded\\r'), FloatProgress(value=0.024446035724231215, max=1…"
      ]
     },
     "metadata": {},
     "output_type": "display_data"
    },
    {
     "data": {
      "text/html": [
       "<style>\n",
       "    table.wandb td:nth-child(1) { padding: 0 10px; text-align: left ; width: auto;} td:nth-child(2) {text-align: left ; width: 100%}\n",
       "    .wandb-row { display: flex; flex-direction: row; flex-wrap: wrap; justify-content: flex-start; width: 100% }\n",
       "    .wandb-col { display: flex; flex-direction: column; flex-basis: 100%; flex: 1; padding: 10px; }\n",
       "    </style>\n",
       "<div class=\"wandb-row\"><div class=\"wandb-col\"><h3>Run history:</h3><br/><table class=\"wandb\"><tr><td>accuracy</td><td>▁</td></tr><tr><td>epoch</td><td>▁</td></tr><tr><td>test_loss</td><td>▁</td></tr><tr><td>train_loss</td><td>▁</td></tr></table><br/></div><div class=\"wandb-col\"><h3>Run summary:</h3><br/><table class=\"wandb\"><tr><td>accuracy</td><td>46.763</td></tr><tr><td>epoch</td><td>0</td></tr><tr><td>test_loss</td><td>1.61621</td></tr><tr><td>train_loss</td><td>1.85024</td></tr></table><br/></div></div>"
      ],
      "text/plain": [
       "<IPython.core.display.HTML object>"
      ]
     },
     "metadata": {},
     "output_type": "display_data"
    },
    {
     "data": {
      "text/html": [
       " View run <strong style=\"color:#cdcd00\">revived-sweep-4</strong> at: <a href='https://wandb.ai/bronsonschoen-personal-use/simple_regression/runs/m8kw0hkk' target=\"_blank\">https://wandb.ai/bronsonschoen-personal-use/simple_regression/runs/m8kw0hkk</a><br/> View project at: <a href='https://wandb.ai/bronsonschoen-personal-use/simple_regression' target=\"_blank\">https://wandb.ai/bronsonschoen-personal-use/simple_regression</a><br/>Synced 5 W&B file(s), 0 media file(s), 0 artifact file(s) and 0 other file(s)"
      ],
      "text/plain": [
       "<IPython.core.display.HTML object>"
      ]
     },
     "metadata": {},
     "output_type": "display_data"
    },
    {
     "data": {
      "text/html": [
       "Find logs at: <code>./wandb/run-20240904_194408-m8kw0hkk/logs</code>"
      ],
      "text/plain": [
       "<IPython.core.display.HTML object>"
      ]
     },
     "metadata": {},
     "output_type": "display_data"
    },
    {
     "data": {
      "text/html": [
       "The new W&B backend becomes opt-out in version 0.18.0; try it out with `wandb.require(\"core\")`! See https://wandb.me/wandb-core for more information."
      ],
      "text/plain": [
       "<IPython.core.display.HTML object>"
      ]
     },
     "metadata": {},
     "output_type": "display_data"
    },
    {
     "name": "stdout",
     "output_type": "stream",
     "text": [
      "Training completed!\n"
     ]
    },
    {
     "name": "stderr",
     "output_type": "stream",
     "text": [
      "\u001b[34m\u001b[1mwandb\u001b[0m: Agent Starting Run: fnad28g9 with config:\n",
      "\u001b[34m\u001b[1mwandb\u001b[0m: \tbatch_size: 64\n",
      "\u001b[34m\u001b[1mwandb\u001b[0m: \td_model: 128\n",
      "\u001b[34m\u001b[1mwandb\u001b[0m: \tn_layers: 4\n",
      "\u001b[34m\u001b[1mwandb\u001b[0m: \tnum_epochs: 1\n",
      "\u001b[34m\u001b[1mwandb\u001b[0m: \tnum_samples: 100000\n",
      "\u001b[34m\u001b[1mwandb\u001b[0m: \ttest_interval: 100000000000000000000\n",
      "Failed to detect the name of this notebook, you can set it manually with the WANDB_NOTEBOOK_NAME environment variable to enable code saving.\n",
      "\u001b[34m\u001b[1mwandb\u001b[0m: \u001b[33mWARNING\u001b[0m Ignored wandb.init() arg project when running a sweep.\n"
     ]
    },
    {
     "data": {
      "application/vnd.jupyter.widget-view+json": {
       "model_id": "0e6cd9cfb86545329481f3d477072113",
       "version_major": 2,
       "version_minor": 0
      },
      "text/plain": [
       "VBox(children=(Label(value='Waiting for wandb.init()...\\r'), FloatProgress(value=0.011169237500063092, max=1.0…"
      ]
     },
     "metadata": {},
     "output_type": "display_data"
    },
    {
     "data": {
      "text/html": [
       "wandb version 0.17.8 is available!  To upgrade, please run:\n",
       " $ pip install wandb --upgrade"
      ],
      "text/plain": [
       "<IPython.core.display.HTML object>"
      ]
     },
     "metadata": {},
     "output_type": "display_data"
    },
    {
     "data": {
      "text/html": [
       "Tracking run with wandb version 0.17.7"
      ],
      "text/plain": [
       "<IPython.core.display.HTML object>"
      ]
     },
     "metadata": {},
     "output_type": "display_data"
    },
    {
     "data": {
      "text/html": [
       "Run data is saved locally in <code>/Users/bronsonschoen/gpt_from_scratch/wandb/run-20240904_194430-fnad28g9</code>"
      ],
      "text/plain": [
       "<IPython.core.display.HTML object>"
      ]
     },
     "metadata": {},
     "output_type": "display_data"
    },
    {
     "data": {
      "text/html": [
       "Syncing run <strong><a href='https://wandb.ai/bronsonschoen-personal-use/simple_regression/runs/fnad28g9' target=\"_blank\">wise-sweep-5</a></strong> to <a href='https://wandb.ai/bronsonschoen-personal-use/simple_regression' target=\"_blank\">Weights & Biases</a> (<a href='https://wandb.me/run' target=\"_blank\">docs</a>)<br/>Sweep page: <a href='https://wandb.ai/bronsonschoen-personal-use/simple_regression/sweeps/m0p58ake' target=\"_blank\">https://wandb.ai/bronsonschoen-personal-use/simple_regression/sweeps/m0p58ake</a>"
      ],
      "text/plain": [
       "<IPython.core.display.HTML object>"
      ]
     },
     "metadata": {},
     "output_type": "display_data"
    },
    {
     "data": {
      "text/html": [
       " View project at <a href='https://wandb.ai/bronsonschoen-personal-use/simple_regression' target=\"_blank\">https://wandb.ai/bronsonschoen-personal-use/simple_regression</a>"
      ],
      "text/plain": [
       "<IPython.core.display.HTML object>"
      ]
     },
     "metadata": {},
     "output_type": "display_data"
    },
    {
     "data": {
      "text/html": [
       " View sweep at <a href='https://wandb.ai/bronsonschoen-personal-use/simple_regression/sweeps/m0p58ake' target=\"_blank\">https://wandb.ai/bronsonschoen-personal-use/simple_regression/sweeps/m0p58ake</a>"
      ],
      "text/plain": [
       "<IPython.core.display.HTML object>"
      ]
     },
     "metadata": {},
     "output_type": "display_data"
    },
    {
     "data": {
      "text/html": [
       " View run at <a href='https://wandb.ai/bronsonschoen-personal-use/simple_regression/runs/fnad28g9' target=\"_blank\">https://wandb.ai/bronsonschoen-personal-use/simple_regression/runs/fnad28g9</a>"
      ],
      "text/plain": [
       "<IPython.core.display.HTML object>"
      ]
     },
     "metadata": {},
     "output_type": "display_data"
    },
    {
     "name": "stdout",
     "output_type": "stream",
     "text": [
      "Using device: mps\n",
      "Epoch [1/1], Train Loss: 1.5403, Test Loss: 1.3884, Accuracy: 53.42%\n"
     ]
    },
    {
     "data": {
      "application/vnd.jupyter.widget-view+json": {
       "model_id": "966b629ae65441b9ba4265f412d191d5",
       "version_major": 2,
       "version_minor": 0
      },
      "text/plain": [
       "VBox(children=(Label(value='0.001 MB of 0.049 MB uploaded\\r'), FloatProgress(value=0.023994533385396328, max=1…"
      ]
     },
     "metadata": {},
     "output_type": "display_data"
    },
    {
     "data": {
      "text/html": [
       "<style>\n",
       "    table.wandb td:nth-child(1) { padding: 0 10px; text-align: left ; width: auto;} td:nth-child(2) {text-align: left ; width: 100%}\n",
       "    .wandb-row { display: flex; flex-direction: row; flex-wrap: wrap; justify-content: flex-start; width: 100% }\n",
       "    .wandb-col { display: flex; flex-direction: column; flex-basis: 100%; flex: 1; padding: 10px; }\n",
       "    </style>\n",
       "<div class=\"wandb-row\"><div class=\"wandb-col\"><h3>Run history:</h3><br/><table class=\"wandb\"><tr><td>accuracy</td><td>▁</td></tr><tr><td>epoch</td><td>▁</td></tr><tr><td>test_loss</td><td>▁</td></tr><tr><td>train_loss</td><td>▁</td></tr></table><br/></div><div class=\"wandb-col\"><h3>Run summary:</h3><br/><table class=\"wandb\"><tr><td>accuracy</td><td>53.418</td></tr><tr><td>epoch</td><td>0</td></tr><tr><td>test_loss</td><td>1.38841</td></tr><tr><td>train_loss</td><td>1.54028</td></tr></table><br/></div></div>"
      ],
      "text/plain": [
       "<IPython.core.display.HTML object>"
      ]
     },
     "metadata": {},
     "output_type": "display_data"
    },
    {
     "data": {
      "text/html": [
       " View run <strong style=\"color:#cdcd00\">wise-sweep-5</strong> at: <a href='https://wandb.ai/bronsonschoen-personal-use/simple_regression/runs/fnad28g9' target=\"_blank\">https://wandb.ai/bronsonschoen-personal-use/simple_regression/runs/fnad28g9</a><br/> View project at: <a href='https://wandb.ai/bronsonschoen-personal-use/simple_regression' target=\"_blank\">https://wandb.ai/bronsonschoen-personal-use/simple_regression</a><br/>Synced 5 W&B file(s), 0 media file(s), 0 artifact file(s) and 0 other file(s)"
      ],
      "text/plain": [
       "<IPython.core.display.HTML object>"
      ]
     },
     "metadata": {},
     "output_type": "display_data"
    },
    {
     "data": {
      "text/html": [
       "Find logs at: <code>./wandb/run-20240904_194430-fnad28g9/logs</code>"
      ],
      "text/plain": [
       "<IPython.core.display.HTML object>"
      ]
     },
     "metadata": {},
     "output_type": "display_data"
    },
    {
     "data": {
      "text/html": [
       "The new W&B backend becomes opt-out in version 0.18.0; try it out with `wandb.require(\"core\")`! See https://wandb.me/wandb-core for more information."
      ],
      "text/plain": [
       "<IPython.core.display.HTML object>"
      ]
     },
     "metadata": {},
     "output_type": "display_data"
    },
    {
     "name": "stdout",
     "output_type": "stream",
     "text": [
      "Training completed!\n"
     ]
    },
    {
     "name": "stderr",
     "output_type": "stream",
     "text": [
      "\u001b[34m\u001b[1mwandb\u001b[0m: Agent Starting Run: 81kghk8n with config:\n",
      "\u001b[34m\u001b[1mwandb\u001b[0m: \tbatch_size: 64\n",
      "\u001b[34m\u001b[1mwandb\u001b[0m: \td_model: 128\n",
      "\u001b[34m\u001b[1mwandb\u001b[0m: \tn_layers: 4\n",
      "\u001b[34m\u001b[1mwandb\u001b[0m: \tnum_epochs: 1\n",
      "\u001b[34m\u001b[1mwandb\u001b[0m: \tnum_samples: 100000\n",
      "\u001b[34m\u001b[1mwandb\u001b[0m: \ttest_interval: 100000000000000000000\n",
      "Failed to detect the name of this notebook, you can set it manually with the WANDB_NOTEBOOK_NAME environment variable to enable code saving.\n",
      "\u001b[34m\u001b[1mwandb\u001b[0m: \u001b[33mWARNING\u001b[0m Ignored wandb.init() arg project when running a sweep.\n"
     ]
    },
    {
     "data": {
      "text/html": [
       "wandb version 0.17.8 is available!  To upgrade, please run:\n",
       " $ pip install wandb --upgrade"
      ],
      "text/plain": [
       "<IPython.core.display.HTML object>"
      ]
     },
     "metadata": {},
     "output_type": "display_data"
    },
    {
     "data": {
      "text/html": [
       "Tracking run with wandb version 0.17.7"
      ],
      "text/plain": [
       "<IPython.core.display.HTML object>"
      ]
     },
     "metadata": {},
     "output_type": "display_data"
    },
    {
     "data": {
      "text/html": [
       "Run data is saved locally in <code>/Users/bronsonschoen/gpt_from_scratch/wandb/run-20240904_194457-81kghk8n</code>"
      ],
      "text/plain": [
       "<IPython.core.display.HTML object>"
      ]
     },
     "metadata": {},
     "output_type": "display_data"
    },
    {
     "data": {
      "text/html": [
       "Syncing run <strong><a href='https://wandb.ai/bronsonschoen-personal-use/simple_regression/runs/81kghk8n' target=\"_blank\">wise-sweep-6</a></strong> to <a href='https://wandb.ai/bronsonschoen-personal-use/simple_regression' target=\"_blank\">Weights & Biases</a> (<a href='https://wandb.me/run' target=\"_blank\">docs</a>)<br/>Sweep page: <a href='https://wandb.ai/bronsonschoen-personal-use/simple_regression/sweeps/m0p58ake' target=\"_blank\">https://wandb.ai/bronsonschoen-personal-use/simple_regression/sweeps/m0p58ake</a>"
      ],
      "text/plain": [
       "<IPython.core.display.HTML object>"
      ]
     },
     "metadata": {},
     "output_type": "display_data"
    },
    {
     "data": {
      "text/html": [
       " View project at <a href='https://wandb.ai/bronsonschoen-personal-use/simple_regression' target=\"_blank\">https://wandb.ai/bronsonschoen-personal-use/simple_regression</a>"
      ],
      "text/plain": [
       "<IPython.core.display.HTML object>"
      ]
     },
     "metadata": {},
     "output_type": "display_data"
    },
    {
     "data": {
      "text/html": [
       " View sweep at <a href='https://wandb.ai/bronsonschoen-personal-use/simple_regression/sweeps/m0p58ake' target=\"_blank\">https://wandb.ai/bronsonschoen-personal-use/simple_regression/sweeps/m0p58ake</a>"
      ],
      "text/plain": [
       "<IPython.core.display.HTML object>"
      ]
     },
     "metadata": {},
     "output_type": "display_data"
    },
    {
     "data": {
      "text/html": [
       " View run at <a href='https://wandb.ai/bronsonschoen-personal-use/simple_regression/runs/81kghk8n' target=\"_blank\">https://wandb.ai/bronsonschoen-personal-use/simple_regression/runs/81kghk8n</a>"
      ],
      "text/plain": [
       "<IPython.core.display.HTML object>"
      ]
     },
     "metadata": {},
     "output_type": "display_data"
    },
    {
     "name": "stdout",
     "output_type": "stream",
     "text": [
      "Using device: mps\n",
      "Epoch [1/1], Train Loss: 1.5525, Test Loss: 1.4399, Accuracy: 51.83%\n"
     ]
    },
    {
     "data": {
      "application/vnd.jupyter.widget-view+json": {
       "model_id": "83dfc431c58a4f349d6037f82c2b9efc",
       "version_major": 2,
       "version_minor": 0
      },
      "text/plain": [
       "VBox(children=(Label(value='0.048 MB of 0.049 MB uploaded\\r'), FloatProgress(value=0.9863392770145182, max=1.0…"
      ]
     },
     "metadata": {},
     "output_type": "display_data"
    },
    {
     "data": {
      "text/html": [
       "<style>\n",
       "    table.wandb td:nth-child(1) { padding: 0 10px; text-align: left ; width: auto;} td:nth-child(2) {text-align: left ; width: 100%}\n",
       "    .wandb-row { display: flex; flex-direction: row; flex-wrap: wrap; justify-content: flex-start; width: 100% }\n",
       "    .wandb-col { display: flex; flex-direction: column; flex-basis: 100%; flex: 1; padding: 10px; }\n",
       "    </style>\n",
       "<div class=\"wandb-row\"><div class=\"wandb-col\"><h3>Run history:</h3><br/><table class=\"wandb\"><tr><td>accuracy</td><td>▁</td></tr><tr><td>epoch</td><td>▁</td></tr><tr><td>test_loss</td><td>▁</td></tr><tr><td>train_loss</td><td>▁</td></tr></table><br/></div><div class=\"wandb-col\"><h3>Run summary:</h3><br/><table class=\"wandb\"><tr><td>accuracy</td><td>51.825</td></tr><tr><td>epoch</td><td>0</td></tr><tr><td>test_loss</td><td>1.43991</td></tr><tr><td>train_loss</td><td>1.55253</td></tr></table><br/></div></div>"
      ],
      "text/plain": [
       "<IPython.core.display.HTML object>"
      ]
     },
     "metadata": {},
     "output_type": "display_data"
    },
    {
     "data": {
      "text/html": [
       " View run <strong style=\"color:#cdcd00\">wise-sweep-6</strong> at: <a href='https://wandb.ai/bronsonschoen-personal-use/simple_regression/runs/81kghk8n' target=\"_blank\">https://wandb.ai/bronsonschoen-personal-use/simple_regression/runs/81kghk8n</a><br/> View project at: <a href='https://wandb.ai/bronsonschoen-personal-use/simple_regression' target=\"_blank\">https://wandb.ai/bronsonschoen-personal-use/simple_regression</a><br/>Synced 5 W&B file(s), 0 media file(s), 0 artifact file(s) and 0 other file(s)"
      ],
      "text/plain": [
       "<IPython.core.display.HTML object>"
      ]
     },
     "metadata": {},
     "output_type": "display_data"
    },
    {
     "data": {
      "text/html": [
       "Find logs at: <code>./wandb/run-20240904_194457-81kghk8n/logs</code>"
      ],
      "text/plain": [
       "<IPython.core.display.HTML object>"
      ]
     },
     "metadata": {},
     "output_type": "display_data"
    },
    {
     "data": {
      "text/html": [
       "The new W&B backend becomes opt-out in version 0.18.0; try it out with `wandb.require(\"core\")`! See https://wandb.me/wandb-core for more information."
      ],
      "text/plain": [
       "<IPython.core.display.HTML object>"
      ]
     },
     "metadata": {},
     "output_type": "display_data"
    },
    {
     "name": "stdout",
     "output_type": "stream",
     "text": [
      "Training completed!\n"
     ]
    },
    {
     "name": "stderr",
     "output_type": "stream",
     "text": [
      "\u001b[34m\u001b[1mwandb\u001b[0m: Agent Starting Run: htl4w523 with config:\n",
      "\u001b[34m\u001b[1mwandb\u001b[0m: \tbatch_size: 64\n",
      "\u001b[34m\u001b[1mwandb\u001b[0m: \td_model: 8\n",
      "\u001b[34m\u001b[1mwandb\u001b[0m: \tn_layers: 4\n",
      "\u001b[34m\u001b[1mwandb\u001b[0m: \tnum_epochs: 1\n",
      "\u001b[34m\u001b[1mwandb\u001b[0m: \tnum_samples: 100000\n",
      "\u001b[34m\u001b[1mwandb\u001b[0m: \ttest_interval: 100000000000000000000\n",
      "Failed to detect the name of this notebook, you can set it manually with the WANDB_NOTEBOOK_NAME environment variable to enable code saving.\n",
      "\u001b[34m\u001b[1mwandb\u001b[0m: \u001b[33mWARNING\u001b[0m Ignored wandb.init() arg project when running a sweep.\n"
     ]
    },
    {
     "data": {
      "text/html": [
       "wandb version 0.17.8 is available!  To upgrade, please run:\n",
       " $ pip install wandb --upgrade"
      ],
      "text/plain": [
       "<IPython.core.display.HTML object>"
      ]
     },
     "metadata": {},
     "output_type": "display_data"
    },
    {
     "data": {
      "text/html": [
       "Tracking run with wandb version 0.17.7"
      ],
      "text/plain": [
       "<IPython.core.display.HTML object>"
      ]
     },
     "metadata": {},
     "output_type": "display_data"
    },
    {
     "data": {
      "text/html": [
       "Run data is saved locally in <code>/Users/bronsonschoen/gpt_from_scratch/wandb/run-20240904_194522-htl4w523</code>"
      ],
      "text/plain": [
       "<IPython.core.display.HTML object>"
      ]
     },
     "metadata": {},
     "output_type": "display_data"
    },
    {
     "data": {
      "text/html": [
       "Syncing run <strong><a href='https://wandb.ai/bronsonschoen-personal-use/simple_regression/runs/htl4w523' target=\"_blank\">super-sweep-7</a></strong> to <a href='https://wandb.ai/bronsonschoen-personal-use/simple_regression' target=\"_blank\">Weights & Biases</a> (<a href='https://wandb.me/run' target=\"_blank\">docs</a>)<br/>Sweep page: <a href='https://wandb.ai/bronsonschoen-personal-use/simple_regression/sweeps/m0p58ake' target=\"_blank\">https://wandb.ai/bronsonschoen-personal-use/simple_regression/sweeps/m0p58ake</a>"
      ],
      "text/plain": [
       "<IPython.core.display.HTML object>"
      ]
     },
     "metadata": {},
     "output_type": "display_data"
    },
    {
     "data": {
      "text/html": [
       " View project at <a href='https://wandb.ai/bronsonschoen-personal-use/simple_regression' target=\"_blank\">https://wandb.ai/bronsonschoen-personal-use/simple_regression</a>"
      ],
      "text/plain": [
       "<IPython.core.display.HTML object>"
      ]
     },
     "metadata": {},
     "output_type": "display_data"
    },
    {
     "data": {
      "text/html": [
       " View sweep at <a href='https://wandb.ai/bronsonschoen-personal-use/simple_regression/sweeps/m0p58ake' target=\"_blank\">https://wandb.ai/bronsonschoen-personal-use/simple_regression/sweeps/m0p58ake</a>"
      ],
      "text/plain": [
       "<IPython.core.display.HTML object>"
      ]
     },
     "metadata": {},
     "output_type": "display_data"
    },
    {
     "data": {
      "text/html": [
       " View run at <a href='https://wandb.ai/bronsonschoen-personal-use/simple_regression/runs/htl4w523' target=\"_blank\">https://wandb.ai/bronsonschoen-personal-use/simple_regression/runs/htl4w523</a>"
      ],
      "text/plain": [
       "<IPython.core.display.HTML object>"
      ]
     },
     "metadata": {},
     "output_type": "display_data"
    },
    {
     "name": "stdout",
     "output_type": "stream",
     "text": [
      "Using device: mps\n",
      "Epoch [1/1], Train Loss: 2.1625, Test Loss: 2.0967, Accuracy: 23.77%\n"
     ]
    },
    {
     "data": {
      "application/vnd.jupyter.widget-view+json": {
       "model_id": "b499a4cee7a74477b1f78daebaae0d77",
       "version_major": 2,
       "version_minor": 0
      },
      "text/plain": [
       "VBox(children=(Label(value='0.001 MB of 0.005 MB uploaded\\r'), FloatProgress(value=0.21399965174995647, max=1.…"
      ]
     },
     "metadata": {},
     "output_type": "display_data"
    },
    {
     "data": {
      "text/html": [
       "<style>\n",
       "    table.wandb td:nth-child(1) { padding: 0 10px; text-align: left ; width: auto;} td:nth-child(2) {text-align: left ; width: 100%}\n",
       "    .wandb-row { display: flex; flex-direction: row; flex-wrap: wrap; justify-content: flex-start; width: 100% }\n",
       "    .wandb-col { display: flex; flex-direction: column; flex-basis: 100%; flex: 1; padding: 10px; }\n",
       "    </style>\n",
       "<div class=\"wandb-row\"><div class=\"wandb-col\"><h3>Run history:</h3><br/><table class=\"wandb\"><tr><td>accuracy</td><td>▁</td></tr><tr><td>epoch</td><td>▁</td></tr><tr><td>test_loss</td><td>▁</td></tr><tr><td>train_loss</td><td>▁</td></tr></table><br/></div><div class=\"wandb-col\"><h3>Run summary:</h3><br/><table class=\"wandb\"><tr><td>accuracy</td><td>23.771</td></tr><tr><td>epoch</td><td>0</td></tr><tr><td>test_loss</td><td>2.09671</td></tr><tr><td>train_loss</td><td>2.16246</td></tr></table><br/></div></div>"
      ],
      "text/plain": [
       "<IPython.core.display.HTML object>"
      ]
     },
     "metadata": {},
     "output_type": "display_data"
    },
    {
     "data": {
      "text/html": [
       " View run <strong style=\"color:#cdcd00\">super-sweep-7</strong> at: <a href='https://wandb.ai/bronsonschoen-personal-use/simple_regression/runs/htl4w523' target=\"_blank\">https://wandb.ai/bronsonschoen-personal-use/simple_regression/runs/htl4w523</a><br/> View project at: <a href='https://wandb.ai/bronsonschoen-personal-use/simple_regression' target=\"_blank\">https://wandb.ai/bronsonschoen-personal-use/simple_regression</a><br/>Synced 5 W&B file(s), 0 media file(s), 0 artifact file(s) and 0 other file(s)"
      ],
      "text/plain": [
       "<IPython.core.display.HTML object>"
      ]
     },
     "metadata": {},
     "output_type": "display_data"
    },
    {
     "data": {
      "text/html": [
       "Find logs at: <code>./wandb/run-20240904_194522-htl4w523/logs</code>"
      ],
      "text/plain": [
       "<IPython.core.display.HTML object>"
      ]
     },
     "metadata": {},
     "output_type": "display_data"
    },
    {
     "data": {
      "text/html": [
       "The new W&B backend becomes opt-out in version 0.18.0; try it out with `wandb.require(\"core\")`! See https://wandb.me/wandb-core for more information."
      ],
      "text/plain": [
       "<IPython.core.display.HTML object>"
      ]
     },
     "metadata": {},
     "output_type": "display_data"
    },
    {
     "name": "stdout",
     "output_type": "stream",
     "text": [
      "Training completed!\n"
     ]
    },
    {
     "name": "stderr",
     "output_type": "stream",
     "text": [
      "\u001b[34m\u001b[1mwandb\u001b[0m: Agent Starting Run: ee5cteho with config:\n",
      "\u001b[34m\u001b[1mwandb\u001b[0m: \tbatch_size: 64\n",
      "\u001b[34m\u001b[1mwandb\u001b[0m: \td_model: 1024\n",
      "\u001b[34m\u001b[1mwandb\u001b[0m: \tn_layers: 4\n",
      "\u001b[34m\u001b[1mwandb\u001b[0m: \tnum_epochs: 1\n",
      "\u001b[34m\u001b[1mwandb\u001b[0m: \tnum_samples: 100000\n",
      "\u001b[34m\u001b[1mwandb\u001b[0m: \ttest_interval: 100000000000000000000\n",
      "Failed to detect the name of this notebook, you can set it manually with the WANDB_NOTEBOOK_NAME environment variable to enable code saving.\n",
      "\u001b[34m\u001b[1mwandb\u001b[0m: \u001b[33mWARNING\u001b[0m Ignored wandb.init() arg project when running a sweep.\n"
     ]
    },
    {
     "data": {
      "text/html": [
       "wandb version 0.17.8 is available!  To upgrade, please run:\n",
       " $ pip install wandb --upgrade"
      ],
      "text/plain": [
       "<IPython.core.display.HTML object>"
      ]
     },
     "metadata": {},
     "output_type": "display_data"
    },
    {
     "data": {
      "text/html": [
       "Tracking run with wandb version 0.17.7"
      ],
      "text/plain": [
       "<IPython.core.display.HTML object>"
      ]
     },
     "metadata": {},
     "output_type": "display_data"
    },
    {
     "data": {
      "text/html": [
       "Run data is saved locally in <code>/Users/bronsonschoen/gpt_from_scratch/wandb/run-20240904_194548-ee5cteho</code>"
      ],
      "text/plain": [
       "<IPython.core.display.HTML object>"
      ]
     },
     "metadata": {},
     "output_type": "display_data"
    },
    {
     "data": {
      "text/html": [
       "Syncing run <strong><a href='https://wandb.ai/bronsonschoen-personal-use/simple_regression/runs/ee5cteho' target=\"_blank\">young-sweep-8</a></strong> to <a href='https://wandb.ai/bronsonschoen-personal-use/simple_regression' target=\"_blank\">Weights & Biases</a> (<a href='https://wandb.me/run' target=\"_blank\">docs</a>)<br/>Sweep page: <a href='https://wandb.ai/bronsonschoen-personal-use/simple_regression/sweeps/m0p58ake' target=\"_blank\">https://wandb.ai/bronsonschoen-personal-use/simple_regression/sweeps/m0p58ake</a>"
      ],
      "text/plain": [
       "<IPython.core.display.HTML object>"
      ]
     },
     "metadata": {},
     "output_type": "display_data"
    },
    {
     "data": {
      "text/html": [
       " View project at <a href='https://wandb.ai/bronsonschoen-personal-use/simple_regression' target=\"_blank\">https://wandb.ai/bronsonschoen-personal-use/simple_regression</a>"
      ],
      "text/plain": [
       "<IPython.core.display.HTML object>"
      ]
     },
     "metadata": {},
     "output_type": "display_data"
    },
    {
     "data": {
      "text/html": [
       " View sweep at <a href='https://wandb.ai/bronsonschoen-personal-use/simple_regression/sweeps/m0p58ake' target=\"_blank\">https://wandb.ai/bronsonschoen-personal-use/simple_regression/sweeps/m0p58ake</a>"
      ],
      "text/plain": [
       "<IPython.core.display.HTML object>"
      ]
     },
     "metadata": {},
     "output_type": "display_data"
    },
    {
     "data": {
      "text/html": [
       " View run at <a href='https://wandb.ai/bronsonschoen-personal-use/simple_regression/runs/ee5cteho' target=\"_blank\">https://wandb.ai/bronsonschoen-personal-use/simple_regression/runs/ee5cteho</a>"
      ],
      "text/plain": [
       "<IPython.core.display.HTML object>"
      ]
     },
     "metadata": {},
     "output_type": "display_data"
    },
    {
     "name": "stdout",
     "output_type": "stream",
     "text": [
      "Using device: mps\n",
      "Epoch [1/1], Train Loss: 1.4957, Test Loss: 1.3817, Accuracy: 53.48%\n"
     ]
    },
    {
     "data": {
      "application/vnd.jupyter.widget-view+json": {
       "model_id": "6ad8902dc0ee4c07b89c7d0c37b4c160",
       "version_major": 2,
       "version_minor": 0
      },
      "text/plain": [
       "VBox(children=(Label(value='0.001 MB of 0.001 MB uploaded\\r'), FloatProgress(value=1.0, max=1.0)))"
      ]
     },
     "metadata": {},
     "output_type": "display_data"
    },
    {
     "data": {
      "text/html": [
       "<style>\n",
       "    table.wandb td:nth-child(1) { padding: 0 10px; text-align: left ; width: auto;} td:nth-child(2) {text-align: left ; width: 100%}\n",
       "    .wandb-row { display: flex; flex-direction: row; flex-wrap: wrap; justify-content: flex-start; width: 100% }\n",
       "    .wandb-col { display: flex; flex-direction: column; flex-basis: 100%; flex: 1; padding: 10px; }\n",
       "    </style>\n",
       "<div class=\"wandb-row\"><div class=\"wandb-col\"><h3>Run history:</h3><br/><table class=\"wandb\"><tr><td>accuracy</td><td>▁</td></tr><tr><td>epoch</td><td>▁</td></tr><tr><td>test_loss</td><td>▁</td></tr><tr><td>train_loss</td><td>▁</td></tr></table><br/></div><div class=\"wandb-col\"><h3>Run summary:</h3><br/><table class=\"wandb\"><tr><td>accuracy</td><td>53.483</td></tr><tr><td>epoch</td><td>0</td></tr><tr><td>test_loss</td><td>1.38168</td></tr><tr><td>train_loss</td><td>1.49574</td></tr></table><br/></div></div>"
      ],
      "text/plain": [
       "<IPython.core.display.HTML object>"
      ]
     },
     "metadata": {},
     "output_type": "display_data"
    },
    {
     "data": {
      "text/html": [
       " View run <strong style=\"color:#cdcd00\">young-sweep-8</strong> at: <a href='https://wandb.ai/bronsonschoen-personal-use/simple_regression/runs/ee5cteho' target=\"_blank\">https://wandb.ai/bronsonschoen-personal-use/simple_regression/runs/ee5cteho</a><br/> View project at: <a href='https://wandb.ai/bronsonschoen-personal-use/simple_regression' target=\"_blank\">https://wandb.ai/bronsonschoen-personal-use/simple_regression</a><br/>Synced 5 W&B file(s), 0 media file(s), 0 artifact file(s) and 0 other file(s)"
      ],
      "text/plain": [
       "<IPython.core.display.HTML object>"
      ]
     },
     "metadata": {},
     "output_type": "display_data"
    },
    {
     "data": {
      "text/html": [
       "Find logs at: <code>./wandb/run-20240904_194548-ee5cteho/logs</code>"
      ],
      "text/plain": [
       "<IPython.core.display.HTML object>"
      ]
     },
     "metadata": {},
     "output_type": "display_data"
    },
    {
     "data": {
      "text/html": [
       "The new W&B backend becomes opt-out in version 0.18.0; try it out with `wandb.require(\"core\")`! See https://wandb.me/wandb-core for more information."
      ],
      "text/plain": [
       "<IPython.core.display.HTML object>"
      ]
     },
     "metadata": {},
     "output_type": "display_data"
    },
    {
     "name": "stdout",
     "output_type": "stream",
     "text": [
      "Training completed!\n"
     ]
    },
    {
     "name": "stderr",
     "output_type": "stream",
     "text": [
      "\u001b[34m\u001b[1mwandb\u001b[0m: Agent Starting Run: pvd5nwbe with config:\n",
      "\u001b[34m\u001b[1mwandb\u001b[0m: \tbatch_size: 64\n",
      "\u001b[34m\u001b[1mwandb\u001b[0m: \td_model: 512\n",
      "\u001b[34m\u001b[1mwandb\u001b[0m: \tn_layers: 4\n",
      "\u001b[34m\u001b[1mwandb\u001b[0m: \tnum_epochs: 1\n",
      "\u001b[34m\u001b[1mwandb\u001b[0m: \tnum_samples: 100000\n",
      "\u001b[34m\u001b[1mwandb\u001b[0m: \ttest_interval: 100000000000000000000\n",
      "Failed to detect the name of this notebook, you can set it manually with the WANDB_NOTEBOOK_NAME environment variable to enable code saving.\n",
      "\u001b[34m\u001b[1mwandb\u001b[0m: \u001b[33mWARNING\u001b[0m Ignored wandb.init() arg project when running a sweep.\n"
     ]
    },
    {
     "data": {
      "text/html": [
       "wandb version 0.17.8 is available!  To upgrade, please run:\n",
       " $ pip install wandb --upgrade"
      ],
      "text/plain": [
       "<IPython.core.display.HTML object>"
      ]
     },
     "metadata": {},
     "output_type": "display_data"
    },
    {
     "data": {
      "text/html": [
       "Tracking run with wandb version 0.17.7"
      ],
      "text/plain": [
       "<IPython.core.display.HTML object>"
      ]
     },
     "metadata": {},
     "output_type": "display_data"
    },
    {
     "data": {
      "text/html": [
       "Run data is saved locally in <code>/Users/bronsonschoen/gpt_from_scratch/wandb/run-20240904_194622-pvd5nwbe</code>"
      ],
      "text/plain": [
       "<IPython.core.display.HTML object>"
      ]
     },
     "metadata": {},
     "output_type": "display_data"
    },
    {
     "data": {
      "text/html": [
       "Syncing run <strong><a href='https://wandb.ai/bronsonschoen-personal-use/simple_regression/runs/pvd5nwbe' target=\"_blank\">blooming-sweep-9</a></strong> to <a href='https://wandb.ai/bronsonschoen-personal-use/simple_regression' target=\"_blank\">Weights & Biases</a> (<a href='https://wandb.me/run' target=\"_blank\">docs</a>)<br/>Sweep page: <a href='https://wandb.ai/bronsonschoen-personal-use/simple_regression/sweeps/m0p58ake' target=\"_blank\">https://wandb.ai/bronsonschoen-personal-use/simple_regression/sweeps/m0p58ake</a>"
      ],
      "text/plain": [
       "<IPython.core.display.HTML object>"
      ]
     },
     "metadata": {},
     "output_type": "display_data"
    },
    {
     "data": {
      "text/html": [
       " View project at <a href='https://wandb.ai/bronsonschoen-personal-use/simple_regression' target=\"_blank\">https://wandb.ai/bronsonschoen-personal-use/simple_regression</a>"
      ],
      "text/plain": [
       "<IPython.core.display.HTML object>"
      ]
     },
     "metadata": {},
     "output_type": "display_data"
    },
    {
     "data": {
      "text/html": [
       " View sweep at <a href='https://wandb.ai/bronsonschoen-personal-use/simple_regression/sweeps/m0p58ake' target=\"_blank\">https://wandb.ai/bronsonschoen-personal-use/simple_regression/sweeps/m0p58ake</a>"
      ],
      "text/plain": [
       "<IPython.core.display.HTML object>"
      ]
     },
     "metadata": {},
     "output_type": "display_data"
    },
    {
     "data": {
      "text/html": [
       " View run at <a href='https://wandb.ai/bronsonschoen-personal-use/simple_regression/runs/pvd5nwbe' target=\"_blank\">https://wandb.ai/bronsonschoen-personal-use/simple_regression/runs/pvd5nwbe</a>"
      ],
      "text/plain": [
       "<IPython.core.display.HTML object>"
      ]
     },
     "metadata": {},
     "output_type": "display_data"
    },
    {
     "name": "stdout",
     "output_type": "stream",
     "text": [
      "Using device: mps\n",
      "Epoch [1/1], Train Loss: 1.5005, Test Loss: 1.3861, Accuracy: 53.44%\n"
     ]
    },
    {
     "data": {
      "application/vnd.jupyter.widget-view+json": {
       "model_id": "2c6c3fd6bcb24177a5629a333358e230",
       "version_major": 2,
       "version_minor": 0
      },
      "text/plain": [
       "VBox(children=(Label(value='0.001 MB of 0.001 MB uploaded\\r'), FloatProgress(value=1.0, max=1.0)))"
      ]
     },
     "metadata": {},
     "output_type": "display_data"
    },
    {
     "data": {
      "text/html": [
       "<style>\n",
       "    table.wandb td:nth-child(1) { padding: 0 10px; text-align: left ; width: auto;} td:nth-child(2) {text-align: left ; width: 100%}\n",
       "    .wandb-row { display: flex; flex-direction: row; flex-wrap: wrap; justify-content: flex-start; width: 100% }\n",
       "    .wandb-col { display: flex; flex-direction: column; flex-basis: 100%; flex: 1; padding: 10px; }\n",
       "    </style>\n",
       "<div class=\"wandb-row\"><div class=\"wandb-col\"><h3>Run history:</h3><br/><table class=\"wandb\"><tr><td>accuracy</td><td>▁</td></tr><tr><td>epoch</td><td>▁</td></tr><tr><td>test_loss</td><td>▁</td></tr><tr><td>train_loss</td><td>▁</td></tr></table><br/></div><div class=\"wandb-col\"><h3>Run summary:</h3><br/><table class=\"wandb\"><tr><td>accuracy</td><td>53.438</td></tr><tr><td>epoch</td><td>0</td></tr><tr><td>test_loss</td><td>1.3861</td></tr><tr><td>train_loss</td><td>1.50054</td></tr></table><br/></div></div>"
      ],
      "text/plain": [
       "<IPython.core.display.HTML object>"
      ]
     },
     "metadata": {},
     "output_type": "display_data"
    },
    {
     "data": {
      "text/html": [
       " View run <strong style=\"color:#cdcd00\">blooming-sweep-9</strong> at: <a href='https://wandb.ai/bronsonschoen-personal-use/simple_regression/runs/pvd5nwbe' target=\"_blank\">https://wandb.ai/bronsonschoen-personal-use/simple_regression/runs/pvd5nwbe</a><br/> View project at: <a href='https://wandb.ai/bronsonschoen-personal-use/simple_regression' target=\"_blank\">https://wandb.ai/bronsonschoen-personal-use/simple_regression</a><br/>Synced 5 W&B file(s), 0 media file(s), 0 artifact file(s) and 0 other file(s)"
      ],
      "text/plain": [
       "<IPython.core.display.HTML object>"
      ]
     },
     "metadata": {},
     "output_type": "display_data"
    },
    {
     "data": {
      "text/html": [
       "Find logs at: <code>./wandb/run-20240904_194622-pvd5nwbe/logs</code>"
      ],
      "text/plain": [
       "<IPython.core.display.HTML object>"
      ]
     },
     "metadata": {},
     "output_type": "display_data"
    },
    {
     "data": {
      "text/html": [
       "The new W&B backend becomes opt-out in version 0.18.0; try it out with `wandb.require(\"core\")`! See https://wandb.me/wandb-core for more information."
      ],
      "text/plain": [
       "<IPython.core.display.HTML object>"
      ]
     },
     "metadata": {},
     "output_type": "display_data"
    },
    {
     "name": "stdout",
     "output_type": "stream",
     "text": [
      "Training completed!\n"
     ]
    },
    {
     "name": "stderr",
     "output_type": "stream",
     "text": [
      "\u001b[34m\u001b[1mwandb\u001b[0m: Agent Starting Run: 3fd8cv43 with config:\n",
      "\u001b[34m\u001b[1mwandb\u001b[0m: \tbatch_size: 64\n",
      "\u001b[34m\u001b[1mwandb\u001b[0m: \td_model: 4096\n",
      "\u001b[34m\u001b[1mwandb\u001b[0m: \tn_layers: 4\n",
      "\u001b[34m\u001b[1mwandb\u001b[0m: \tnum_epochs: 1\n",
      "\u001b[34m\u001b[1mwandb\u001b[0m: \tnum_samples: 100000\n",
      "\u001b[34m\u001b[1mwandb\u001b[0m: \ttest_interval: 100000000000000000000\n",
      "Failed to detect the name of this notebook, you can set it manually with the WANDB_NOTEBOOK_NAME environment variable to enable code saving.\n",
      "\u001b[34m\u001b[1mwandb\u001b[0m: \u001b[33mWARNING\u001b[0m Ignored wandb.init() arg project when running a sweep.\n"
     ]
    },
    {
     "data": {
      "text/html": [
       "wandb version 0.17.8 is available!  To upgrade, please run:\n",
       " $ pip install wandb --upgrade"
      ],
      "text/plain": [
       "<IPython.core.display.HTML object>"
      ]
     },
     "metadata": {},
     "output_type": "display_data"
    },
    {
     "data": {
      "text/html": [
       "Tracking run with wandb version 0.17.7"
      ],
      "text/plain": [
       "<IPython.core.display.HTML object>"
      ]
     },
     "metadata": {},
     "output_type": "display_data"
    },
    {
     "data": {
      "text/html": [
       "Run data is saved locally in <code>/Users/bronsonschoen/gpt_from_scratch/wandb/run-20240904_194647-3fd8cv43</code>"
      ],
      "text/plain": [
       "<IPython.core.display.HTML object>"
      ]
     },
     "metadata": {},
     "output_type": "display_data"
    },
    {
     "data": {
      "text/html": [
       "Syncing run <strong><a href='https://wandb.ai/bronsonschoen-personal-use/simple_regression/runs/3fd8cv43' target=\"_blank\">worldly-sweep-10</a></strong> to <a href='https://wandb.ai/bronsonschoen-personal-use/simple_regression' target=\"_blank\">Weights & Biases</a> (<a href='https://wandb.me/run' target=\"_blank\">docs</a>)<br/>Sweep page: <a href='https://wandb.ai/bronsonschoen-personal-use/simple_regression/sweeps/m0p58ake' target=\"_blank\">https://wandb.ai/bronsonschoen-personal-use/simple_regression/sweeps/m0p58ake</a>"
      ],
      "text/plain": [
       "<IPython.core.display.HTML object>"
      ]
     },
     "metadata": {},
     "output_type": "display_data"
    },
    {
     "data": {
      "text/html": [
       " View project at <a href='https://wandb.ai/bronsonschoen-personal-use/simple_regression' target=\"_blank\">https://wandb.ai/bronsonschoen-personal-use/simple_regression</a>"
      ],
      "text/plain": [
       "<IPython.core.display.HTML object>"
      ]
     },
     "metadata": {},
     "output_type": "display_data"
    },
    {
     "data": {
      "text/html": [
       " View sweep at <a href='https://wandb.ai/bronsonschoen-personal-use/simple_regression/sweeps/m0p58ake' target=\"_blank\">https://wandb.ai/bronsonschoen-personal-use/simple_regression/sweeps/m0p58ake</a>"
      ],
      "text/plain": [
       "<IPython.core.display.HTML object>"
      ]
     },
     "metadata": {},
     "output_type": "display_data"
    },
    {
     "data": {
      "text/html": [
       " View run at <a href='https://wandb.ai/bronsonschoen-personal-use/simple_regression/runs/3fd8cv43' target=\"_blank\">https://wandb.ai/bronsonschoen-personal-use/simple_regression/runs/3fd8cv43</a>"
      ],
      "text/plain": [
       "<IPython.core.display.HTML object>"
      ]
     },
     "metadata": {},
     "output_type": "display_data"
    },
    {
     "name": "stdout",
     "output_type": "stream",
     "text": [
      "Using device: mps\n",
      "Epoch [1/1], Train Loss: 1.5091, Test Loss: 1.4128, Accuracy: 52.73%\n"
     ]
    },
    {
     "data": {
      "application/vnd.jupyter.widget-view+json": {
       "model_id": "9037d78f4d7549b5aee178b9d48dcec1",
       "version_major": 2,
       "version_minor": 0
      },
      "text/plain": [
       "VBox(children=(Label(value='0.001 MB of 0.001 MB uploaded\\r'), FloatProgress(value=1.0, max=1.0)))"
      ]
     },
     "metadata": {},
     "output_type": "display_data"
    },
    {
     "data": {
      "text/html": [
       "<style>\n",
       "    table.wandb td:nth-child(1) { padding: 0 10px; text-align: left ; width: auto;} td:nth-child(2) {text-align: left ; width: 100%}\n",
       "    .wandb-row { display: flex; flex-direction: row; flex-wrap: wrap; justify-content: flex-start; width: 100% }\n",
       "    .wandb-col { display: flex; flex-direction: column; flex-basis: 100%; flex: 1; padding: 10px; }\n",
       "    </style>\n",
       "<div class=\"wandb-row\"><div class=\"wandb-col\"><h3>Run history:</h3><br/><table class=\"wandb\"><tr><td>accuracy</td><td>▁</td></tr><tr><td>epoch</td><td>▁</td></tr><tr><td>test_loss</td><td>▁</td></tr><tr><td>train_loss</td><td>▁</td></tr></table><br/></div><div class=\"wandb-col\"><h3>Run summary:</h3><br/><table class=\"wandb\"><tr><td>accuracy</td><td>52.734</td></tr><tr><td>epoch</td><td>0</td></tr><tr><td>test_loss</td><td>1.41276</td></tr><tr><td>train_loss</td><td>1.50914</td></tr></table><br/></div></div>"
      ],
      "text/plain": [
       "<IPython.core.display.HTML object>"
      ]
     },
     "metadata": {},
     "output_type": "display_data"
    },
    {
     "data": {
      "text/html": [
       " View run <strong style=\"color:#cdcd00\">worldly-sweep-10</strong> at: <a href='https://wandb.ai/bronsonschoen-personal-use/simple_regression/runs/3fd8cv43' target=\"_blank\">https://wandb.ai/bronsonschoen-personal-use/simple_regression/runs/3fd8cv43</a><br/> View project at: <a href='https://wandb.ai/bronsonschoen-personal-use/simple_regression' target=\"_blank\">https://wandb.ai/bronsonschoen-personal-use/simple_regression</a><br/>Synced 5 W&B file(s), 0 media file(s), 0 artifact file(s) and 0 other file(s)"
      ],
      "text/plain": [
       "<IPython.core.display.HTML object>"
      ]
     },
     "metadata": {},
     "output_type": "display_data"
    },
    {
     "data": {
      "text/html": [
       "Find logs at: <code>./wandb/run-20240904_194647-3fd8cv43/logs</code>"
      ],
      "text/plain": [
       "<IPython.core.display.HTML object>"
      ]
     },
     "metadata": {},
     "output_type": "display_data"
    },
    {
     "data": {
      "text/html": [
       "The new W&B backend becomes opt-out in version 0.18.0; try it out with `wandb.require(\"core\")`! See https://wandb.me/wandb-core for more information."
      ],
      "text/plain": [
       "<IPython.core.display.HTML object>"
      ]
     },
     "metadata": {},
     "output_type": "display_data"
    },
    {
     "name": "stdout",
     "output_type": "stream",
     "text": [
      "Training completed!\n"
     ]
    },
    {
     "name": "stderr",
     "output_type": "stream",
     "text": [
      "\u001b[34m\u001b[1mwandb\u001b[0m: Agent Starting Run: uvonzaay with config:\n",
      "\u001b[34m\u001b[1mwandb\u001b[0m: \tbatch_size: 64\n",
      "\u001b[34m\u001b[1mwandb\u001b[0m: \td_model: 2\n",
      "\u001b[34m\u001b[1mwandb\u001b[0m: \tn_layers: 4\n",
      "\u001b[34m\u001b[1mwandb\u001b[0m: \tnum_epochs: 1\n",
      "\u001b[34m\u001b[1mwandb\u001b[0m: \tnum_samples: 100000\n",
      "\u001b[34m\u001b[1mwandb\u001b[0m: \ttest_interval: 100000000000000000000\n",
      "Failed to detect the name of this notebook, you can set it manually with the WANDB_NOTEBOOK_NAME environment variable to enable code saving.\n",
      "\u001b[34m\u001b[1mwandb\u001b[0m: \u001b[33mWARNING\u001b[0m Ignored wandb.init() arg project when running a sweep.\n"
     ]
    },
    {
     "data": {
      "text/html": [
       "wandb version 0.17.8 is available!  To upgrade, please run:\n",
       " $ pip install wandb --upgrade"
      ],
      "text/plain": [
       "<IPython.core.display.HTML object>"
      ]
     },
     "metadata": {},
     "output_type": "display_data"
    },
    {
     "data": {
      "text/html": [
       "Tracking run with wandb version 0.17.7"
      ],
      "text/plain": [
       "<IPython.core.display.HTML object>"
      ]
     },
     "metadata": {},
     "output_type": "display_data"
    },
    {
     "data": {
      "text/html": [
       "Run data is saved locally in <code>/Users/bronsonschoen/gpt_from_scratch/wandb/run-20240904_194924-uvonzaay</code>"
      ],
      "text/plain": [
       "<IPython.core.display.HTML object>"
      ]
     },
     "metadata": {},
     "output_type": "display_data"
    },
    {
     "data": {
      "text/html": [
       "Syncing run <strong><a href='https://wandb.ai/bronsonschoen-personal-use/simple_regression/runs/uvonzaay' target=\"_blank\">sage-sweep-11</a></strong> to <a href='https://wandb.ai/bronsonschoen-personal-use/simple_regression' target=\"_blank\">Weights & Biases</a> (<a href='https://wandb.me/run' target=\"_blank\">docs</a>)<br/>Sweep page: <a href='https://wandb.ai/bronsonschoen-personal-use/simple_regression/sweeps/m0p58ake' target=\"_blank\">https://wandb.ai/bronsonschoen-personal-use/simple_regression/sweeps/m0p58ake</a>"
      ],
      "text/plain": [
       "<IPython.core.display.HTML object>"
      ]
     },
     "metadata": {},
     "output_type": "display_data"
    },
    {
     "data": {
      "text/html": [
       " View project at <a href='https://wandb.ai/bronsonschoen-personal-use/simple_regression' target=\"_blank\">https://wandb.ai/bronsonschoen-personal-use/simple_regression</a>"
      ],
      "text/plain": [
       "<IPython.core.display.HTML object>"
      ]
     },
     "metadata": {},
     "output_type": "display_data"
    },
    {
     "data": {
      "text/html": [
       " View sweep at <a href='https://wandb.ai/bronsonschoen-personal-use/simple_regression/sweeps/m0p58ake' target=\"_blank\">https://wandb.ai/bronsonschoen-personal-use/simple_regression/sweeps/m0p58ake</a>"
      ],
      "text/plain": [
       "<IPython.core.display.HTML object>"
      ]
     },
     "metadata": {},
     "output_type": "display_data"
    },
    {
     "data": {
      "text/html": [
       " View run at <a href='https://wandb.ai/bronsonschoen-personal-use/simple_regression/runs/uvonzaay' target=\"_blank\">https://wandb.ai/bronsonschoen-personal-use/simple_regression/runs/uvonzaay</a>"
      ],
      "text/plain": [
       "<IPython.core.display.HTML object>"
      ]
     },
     "metadata": {},
     "output_type": "display_data"
    },
    {
     "name": "stdout",
     "output_type": "stream",
     "text": [
      "Using device: mps\n",
      "Epoch [1/1], Train Loss: 2.3052, Test Loss: 2.3029, Accuracy: 10.14%\n"
     ]
    },
    {
     "data": {
      "application/vnd.jupyter.widget-view+json": {
       "model_id": "2a7c60129e9f4b7484d59ec0c8165e64",
       "version_major": 2,
       "version_minor": 0
      },
      "text/plain": [
       "VBox(children=(Label(value='0.001 MB of 0.001 MB uploaded\\r'), FloatProgress(value=1.0, max=1.0)))"
      ]
     },
     "metadata": {},
     "output_type": "display_data"
    },
    {
     "data": {
      "text/html": [
       "<style>\n",
       "    table.wandb td:nth-child(1) { padding: 0 10px; text-align: left ; width: auto;} td:nth-child(2) {text-align: left ; width: 100%}\n",
       "    .wandb-row { display: flex; flex-direction: row; flex-wrap: wrap; justify-content: flex-start; width: 100% }\n",
       "    .wandb-col { display: flex; flex-direction: column; flex-basis: 100%; flex: 1; padding: 10px; }\n",
       "    </style>\n",
       "<div class=\"wandb-row\"><div class=\"wandb-col\"><h3>Run history:</h3><br/><table class=\"wandb\"><tr><td>accuracy</td><td>▁</td></tr><tr><td>epoch</td><td>▁</td></tr><tr><td>test_loss</td><td>▁</td></tr><tr><td>train_loss</td><td>▁</td></tr></table><br/></div><div class=\"wandb-col\"><h3>Run summary:</h3><br/><table class=\"wandb\"><tr><td>accuracy</td><td>10.144</td></tr><tr><td>epoch</td><td>0</td></tr><tr><td>test_loss</td><td>2.30285</td></tr><tr><td>train_loss</td><td>2.30521</td></tr></table><br/></div></div>"
      ],
      "text/plain": [
       "<IPython.core.display.HTML object>"
      ]
     },
     "metadata": {},
     "output_type": "display_data"
    },
    {
     "data": {
      "text/html": [
       " View run <strong style=\"color:#cdcd00\">sage-sweep-11</strong> at: <a href='https://wandb.ai/bronsonschoen-personal-use/simple_regression/runs/uvonzaay' target=\"_blank\">https://wandb.ai/bronsonschoen-personal-use/simple_regression/runs/uvonzaay</a><br/> View project at: <a href='https://wandb.ai/bronsonschoen-personal-use/simple_regression' target=\"_blank\">https://wandb.ai/bronsonschoen-personal-use/simple_regression</a><br/>Synced 5 W&B file(s), 0 media file(s), 0 artifact file(s) and 0 other file(s)"
      ],
      "text/plain": [
       "<IPython.core.display.HTML object>"
      ]
     },
     "metadata": {},
     "output_type": "display_data"
    },
    {
     "data": {
      "text/html": [
       "Find logs at: <code>./wandb/run-20240904_194924-uvonzaay/logs</code>"
      ],
      "text/plain": [
       "<IPython.core.display.HTML object>"
      ]
     },
     "metadata": {},
     "output_type": "display_data"
    },
    {
     "data": {
      "text/html": [
       "The new W&B backend becomes opt-out in version 0.18.0; try it out with `wandb.require(\"core\")`! See https://wandb.me/wandb-core for more information."
      ],
      "text/plain": [
       "<IPython.core.display.HTML object>"
      ]
     },
     "metadata": {},
     "output_type": "display_data"
    },
    {
     "name": "stdout",
     "output_type": "stream",
     "text": [
      "Training completed!\n"
     ]
    },
    {
     "name": "stderr",
     "output_type": "stream",
     "text": [
      "\u001b[34m\u001b[1mwandb\u001b[0m: Sweep Agent: Waiting for job.\n",
      "\u001b[34m\u001b[1mwandb\u001b[0m: Job received.\n",
      "\u001b[34m\u001b[1mwandb\u001b[0m: Agent Starting Run: egeosc1j with config:\n",
      "\u001b[34m\u001b[1mwandb\u001b[0m: \tbatch_size: 64\n",
      "\u001b[34m\u001b[1mwandb\u001b[0m: \td_model: 4096\n",
      "\u001b[34m\u001b[1mwandb\u001b[0m: \tn_layers: 4\n",
      "\u001b[34m\u001b[1mwandb\u001b[0m: \tnum_epochs: 1\n",
      "\u001b[34m\u001b[1mwandb\u001b[0m: \tnum_samples: 100000\n",
      "\u001b[34m\u001b[1mwandb\u001b[0m: \ttest_interval: 100000000000000000000\n",
      "Failed to detect the name of this notebook, you can set it manually with the WANDB_NOTEBOOK_NAME environment variable to enable code saving.\n",
      "\u001b[34m\u001b[1mwandb\u001b[0m: \u001b[33mWARNING\u001b[0m Ignored wandb.init() arg project when running a sweep.\n"
     ]
    },
    {
     "data": {
      "text/html": [
       "wandb version 0.17.8 is available!  To upgrade, please run:\n",
       " $ pip install wandb --upgrade"
      ],
      "text/plain": [
       "<IPython.core.display.HTML object>"
      ]
     },
     "metadata": {},
     "output_type": "display_data"
    },
    {
     "data": {
      "text/html": [
       "Tracking run with wandb version 0.17.7"
      ],
      "text/plain": [
       "<IPython.core.display.HTML object>"
      ]
     },
     "metadata": {},
     "output_type": "display_data"
    },
    {
     "data": {
      "text/html": [
       "Run data is saved locally in <code>/Users/bronsonschoen/gpt_from_scratch/wandb/run-20240904_194956-egeosc1j</code>"
      ],
      "text/plain": [
       "<IPython.core.display.HTML object>"
      ]
     },
     "metadata": {},
     "output_type": "display_data"
    },
    {
     "data": {
      "text/html": [
       "Syncing run <strong><a href='https://wandb.ai/bronsonschoen-personal-use/simple_regression/runs/egeosc1j' target=\"_blank\">dashing-sweep-12</a></strong> to <a href='https://wandb.ai/bronsonschoen-personal-use/simple_regression' target=\"_blank\">Weights & Biases</a> (<a href='https://wandb.me/run' target=\"_blank\">docs</a>)<br/>Sweep page: <a href='https://wandb.ai/bronsonschoen-personal-use/simple_regression/sweeps/m0p58ake' target=\"_blank\">https://wandb.ai/bronsonschoen-personal-use/simple_regression/sweeps/m0p58ake</a>"
      ],
      "text/plain": [
       "<IPython.core.display.HTML object>"
      ]
     },
     "metadata": {},
     "output_type": "display_data"
    },
    {
     "data": {
      "text/html": [
       " View project at <a href='https://wandb.ai/bronsonschoen-personal-use/simple_regression' target=\"_blank\">https://wandb.ai/bronsonschoen-personal-use/simple_regression</a>"
      ],
      "text/plain": [
       "<IPython.core.display.HTML object>"
      ]
     },
     "metadata": {},
     "output_type": "display_data"
    },
    {
     "data": {
      "text/html": [
       " View sweep at <a href='https://wandb.ai/bronsonschoen-personal-use/simple_regression/sweeps/m0p58ake' target=\"_blank\">https://wandb.ai/bronsonschoen-personal-use/simple_regression/sweeps/m0p58ake</a>"
      ],
      "text/plain": [
       "<IPython.core.display.HTML object>"
      ]
     },
     "metadata": {},
     "output_type": "display_data"
    },
    {
     "data": {
      "text/html": [
       " View run at <a href='https://wandb.ai/bronsonschoen-personal-use/simple_regression/runs/egeosc1j' target=\"_blank\">https://wandb.ai/bronsonschoen-personal-use/simple_regression/runs/egeosc1j</a>"
      ],
      "text/plain": [
       "<IPython.core.display.HTML object>"
      ]
     },
     "metadata": {},
     "output_type": "display_data"
    },
    {
     "name": "stdout",
     "output_type": "stream",
     "text": [
      "Using device: mps\n",
      "Epoch [1/1], Train Loss: 1.5060, Test Loss: 1.3887, Accuracy: 53.79%\n"
     ]
    },
    {
     "data": {
      "application/vnd.jupyter.widget-view+json": {
       "model_id": "5763b4874c224eefa3980954716e60c1",
       "version_major": 2,
       "version_minor": 0
      },
      "text/plain": [
       "VBox(children=(Label(value='0.001 MB of 0.052 MB uploaded\\r'), FloatProgress(value=0.022695375978726548, max=1…"
      ]
     },
     "metadata": {},
     "output_type": "display_data"
    },
    {
     "data": {
      "text/html": [
       "<style>\n",
       "    table.wandb td:nth-child(1) { padding: 0 10px; text-align: left ; width: auto;} td:nth-child(2) {text-align: left ; width: 100%}\n",
       "    .wandb-row { display: flex; flex-direction: row; flex-wrap: wrap; justify-content: flex-start; width: 100% }\n",
       "    .wandb-col { display: flex; flex-direction: column; flex-basis: 100%; flex: 1; padding: 10px; }\n",
       "    </style>\n",
       "<div class=\"wandb-row\"><div class=\"wandb-col\"><h3>Run history:</h3><br/><table class=\"wandb\"><tr><td>accuracy</td><td>▁</td></tr><tr><td>epoch</td><td>▁</td></tr><tr><td>test_loss</td><td>▁</td></tr><tr><td>train_loss</td><td>▁</td></tr></table><br/></div><div class=\"wandb-col\"><h3>Run summary:</h3><br/><table class=\"wandb\"><tr><td>accuracy</td><td>53.793</td></tr><tr><td>epoch</td><td>0</td></tr><tr><td>test_loss</td><td>1.38865</td></tr><tr><td>train_loss</td><td>1.50601</td></tr></table><br/></div></div>"
      ],
      "text/plain": [
       "<IPython.core.display.HTML object>"
      ]
     },
     "metadata": {},
     "output_type": "display_data"
    },
    {
     "data": {
      "text/html": [
       " View run <strong style=\"color:#cdcd00\">dashing-sweep-12</strong> at: <a href='https://wandb.ai/bronsonschoen-personal-use/simple_regression/runs/egeosc1j' target=\"_blank\">https://wandb.ai/bronsonschoen-personal-use/simple_regression/runs/egeosc1j</a><br/> View project at: <a href='https://wandb.ai/bronsonschoen-personal-use/simple_regression' target=\"_blank\">https://wandb.ai/bronsonschoen-personal-use/simple_regression</a><br/>Synced 5 W&B file(s), 0 media file(s), 0 artifact file(s) and 0 other file(s)"
      ],
      "text/plain": [
       "<IPython.core.display.HTML object>"
      ]
     },
     "metadata": {},
     "output_type": "display_data"
    },
    {
     "data": {
      "text/html": [
       "Find logs at: <code>./wandb/run-20240904_194956-egeosc1j/logs</code>"
      ],
      "text/plain": [
       "<IPython.core.display.HTML object>"
      ]
     },
     "metadata": {},
     "output_type": "display_data"
    },
    {
     "data": {
      "text/html": [
       "The new W&B backend becomes opt-out in version 0.18.0; try it out with `wandb.require(\"core\")`! See https://wandb.me/wandb-core for more information."
      ],
      "text/plain": [
       "<IPython.core.display.HTML object>"
      ]
     },
     "metadata": {},
     "output_type": "display_data"
    },
    {
     "name": "stdout",
     "output_type": "stream",
     "text": [
      "Training completed!\n"
     ]
    },
    {
     "name": "stderr",
     "output_type": "stream",
     "text": [
      "\u001b[34m\u001b[1mwandb\u001b[0m: Agent Starting Run: 6c0ljo2d with config:\n",
      "\u001b[34m\u001b[1mwandb\u001b[0m: \tbatch_size: 64\n",
      "\u001b[34m\u001b[1mwandb\u001b[0m: \td_model: 2\n",
      "\u001b[34m\u001b[1mwandb\u001b[0m: \tn_layers: 4\n",
      "\u001b[34m\u001b[1mwandb\u001b[0m: \tnum_epochs: 1\n",
      "\u001b[34m\u001b[1mwandb\u001b[0m: \tnum_samples: 100000\n",
      "\u001b[34m\u001b[1mwandb\u001b[0m: \ttest_interval: 100000000000000000000\n",
      "Failed to detect the name of this notebook, you can set it manually with the WANDB_NOTEBOOK_NAME environment variable to enable code saving.\n",
      "\u001b[34m\u001b[1mwandb\u001b[0m: \u001b[33mWARNING\u001b[0m Ignored wandb.init() arg project when running a sweep.\n"
     ]
    },
    {
     "data": {
      "text/html": [
       "wandb version 0.17.8 is available!  To upgrade, please run:\n",
       " $ pip install wandb --upgrade"
      ],
      "text/plain": [
       "<IPython.core.display.HTML object>"
      ]
     },
     "metadata": {},
     "output_type": "display_data"
    },
    {
     "data": {
      "text/html": [
       "Tracking run with wandb version 0.17.7"
      ],
      "text/plain": [
       "<IPython.core.display.HTML object>"
      ]
     },
     "metadata": {},
     "output_type": "display_data"
    },
    {
     "data": {
      "text/html": [
       "Run data is saved locally in <code>/Users/bronsonschoen/gpt_from_scratch/wandb/run-20240904_195241-6c0ljo2d</code>"
      ],
      "text/plain": [
       "<IPython.core.display.HTML object>"
      ]
     },
     "metadata": {},
     "output_type": "display_data"
    },
    {
     "data": {
      "text/html": [
       "Syncing run <strong><a href='https://wandb.ai/bronsonschoen-personal-use/simple_regression/runs/6c0ljo2d' target=\"_blank\">quiet-sweep-13</a></strong> to <a href='https://wandb.ai/bronsonschoen-personal-use/simple_regression' target=\"_blank\">Weights & Biases</a> (<a href='https://wandb.me/run' target=\"_blank\">docs</a>)<br/>Sweep page: <a href='https://wandb.ai/bronsonschoen-personal-use/simple_regression/sweeps/m0p58ake' target=\"_blank\">https://wandb.ai/bronsonschoen-personal-use/simple_regression/sweeps/m0p58ake</a>"
      ],
      "text/plain": [
       "<IPython.core.display.HTML object>"
      ]
     },
     "metadata": {},
     "output_type": "display_data"
    },
    {
     "data": {
      "text/html": [
       " View project at <a href='https://wandb.ai/bronsonschoen-personal-use/simple_regression' target=\"_blank\">https://wandb.ai/bronsonschoen-personal-use/simple_regression</a>"
      ],
      "text/plain": [
       "<IPython.core.display.HTML object>"
      ]
     },
     "metadata": {},
     "output_type": "display_data"
    },
    {
     "data": {
      "text/html": [
       " View sweep at <a href='https://wandb.ai/bronsonschoen-personal-use/simple_regression/sweeps/m0p58ake' target=\"_blank\">https://wandb.ai/bronsonschoen-personal-use/simple_regression/sweeps/m0p58ake</a>"
      ],
      "text/plain": [
       "<IPython.core.display.HTML object>"
      ]
     },
     "metadata": {},
     "output_type": "display_data"
    },
    {
     "data": {
      "text/html": [
       " View run at <a href='https://wandb.ai/bronsonschoen-personal-use/simple_regression/runs/6c0ljo2d' target=\"_blank\">https://wandb.ai/bronsonschoen-personal-use/simple_regression/runs/6c0ljo2d</a>"
      ],
      "text/plain": [
       "<IPython.core.display.HTML object>"
      ]
     },
     "metadata": {},
     "output_type": "display_data"
    },
    {
     "name": "stdout",
     "output_type": "stream",
     "text": [
      "Using device: mps\n",
      "Epoch [1/1], Train Loss: 2.2714, Test Loss: 2.2379, Accuracy: 14.81%\n"
     ]
    },
    {
     "data": {
      "application/vnd.jupyter.widget-view+json": {
       "model_id": "e52b3d180a4b4dc4b863aaf895a878d8",
       "version_major": 2,
       "version_minor": 0
      },
      "text/plain": [
       "VBox(children=(Label(value='0.001 MB of 0.048 MB uploaded\\r'), FloatProgress(value=0.024667817430050983, max=1…"
      ]
     },
     "metadata": {},
     "output_type": "display_data"
    },
    {
     "data": {
      "text/html": [
       "<style>\n",
       "    table.wandb td:nth-child(1) { padding: 0 10px; text-align: left ; width: auto;} td:nth-child(2) {text-align: left ; width: 100%}\n",
       "    .wandb-row { display: flex; flex-direction: row; flex-wrap: wrap; justify-content: flex-start; width: 100% }\n",
       "    .wandb-col { display: flex; flex-direction: column; flex-basis: 100%; flex: 1; padding: 10px; }\n",
       "    </style>\n",
       "<div class=\"wandb-row\"><div class=\"wandb-col\"><h3>Run history:</h3><br/><table class=\"wandb\"><tr><td>accuracy</td><td>▁</td></tr><tr><td>epoch</td><td>▁</td></tr><tr><td>test_loss</td><td>▁</td></tr><tr><td>train_loss</td><td>▁</td></tr></table><br/></div><div class=\"wandb-col\"><h3>Run summary:</h3><br/><table class=\"wandb\"><tr><td>accuracy</td><td>14.81</td></tr><tr><td>epoch</td><td>0</td></tr><tr><td>test_loss</td><td>2.23786</td></tr><tr><td>train_loss</td><td>2.27144</td></tr></table><br/></div></div>"
      ],
      "text/plain": [
       "<IPython.core.display.HTML object>"
      ]
     },
     "metadata": {},
     "output_type": "display_data"
    },
    {
     "data": {
      "text/html": [
       " View run <strong style=\"color:#cdcd00\">quiet-sweep-13</strong> at: <a href='https://wandb.ai/bronsonschoen-personal-use/simple_regression/runs/6c0ljo2d' target=\"_blank\">https://wandb.ai/bronsonschoen-personal-use/simple_regression/runs/6c0ljo2d</a><br/> View project at: <a href='https://wandb.ai/bronsonschoen-personal-use/simple_regression' target=\"_blank\">https://wandb.ai/bronsonschoen-personal-use/simple_regression</a><br/>Synced 5 W&B file(s), 0 media file(s), 0 artifact file(s) and 0 other file(s)"
      ],
      "text/plain": [
       "<IPython.core.display.HTML object>"
      ]
     },
     "metadata": {},
     "output_type": "display_data"
    },
    {
     "data": {
      "text/html": [
       "Find logs at: <code>./wandb/run-20240904_195241-6c0ljo2d/logs</code>"
      ],
      "text/plain": [
       "<IPython.core.display.HTML object>"
      ]
     },
     "metadata": {},
     "output_type": "display_data"
    },
    {
     "data": {
      "text/html": [
       "The new W&B backend becomes opt-out in version 0.18.0; try it out with `wandb.require(\"core\")`! See https://wandb.me/wandb-core for more information."
      ],
      "text/plain": [
       "<IPython.core.display.HTML object>"
      ]
     },
     "metadata": {},
     "output_type": "display_data"
    },
    {
     "name": "stdout",
     "output_type": "stream",
     "text": [
      "Training completed!\n"
     ]
    },
    {
     "name": "stderr",
     "output_type": "stream",
     "text": [
      "\u001b[34m\u001b[1mwandb\u001b[0m: Agent Starting Run: qg8aacq5 with config:\n",
      "\u001b[34m\u001b[1mwandb\u001b[0m: \tbatch_size: 64\n",
      "\u001b[34m\u001b[1mwandb\u001b[0m: \td_model: 2048\n",
      "\u001b[34m\u001b[1mwandb\u001b[0m: \tn_layers: 4\n",
      "\u001b[34m\u001b[1mwandb\u001b[0m: \tnum_epochs: 1\n",
      "\u001b[34m\u001b[1mwandb\u001b[0m: \tnum_samples: 100000\n",
      "\u001b[34m\u001b[1mwandb\u001b[0m: \ttest_interval: 100000000000000000000\n",
      "Failed to detect the name of this notebook, you can set it manually with the WANDB_NOTEBOOK_NAME environment variable to enable code saving.\n",
      "\u001b[34m\u001b[1mwandb\u001b[0m: \u001b[33mWARNING\u001b[0m Ignored wandb.init() arg project when running a sweep.\n"
     ]
    },
    {
     "data": {
      "text/html": [
       "wandb version 0.17.8 is available!  To upgrade, please run:\n",
       " $ pip install wandb --upgrade"
      ],
      "text/plain": [
       "<IPython.core.display.HTML object>"
      ]
     },
     "metadata": {},
     "output_type": "display_data"
    },
    {
     "data": {
      "text/html": [
       "Tracking run with wandb version 0.17.7"
      ],
      "text/plain": [
       "<IPython.core.display.HTML object>"
      ]
     },
     "metadata": {},
     "output_type": "display_data"
    },
    {
     "data": {
      "text/html": [
       "Run data is saved locally in <code>/Users/bronsonschoen/gpt_from_scratch/wandb/run-20240904_195307-qg8aacq5</code>"
      ],
      "text/plain": [
       "<IPython.core.display.HTML object>"
      ]
     },
     "metadata": {},
     "output_type": "display_data"
    },
    {
     "data": {
      "text/html": [
       "Syncing run <strong><a href='https://wandb.ai/bronsonschoen-personal-use/simple_regression/runs/qg8aacq5' target=\"_blank\">firm-sweep-14</a></strong> to <a href='https://wandb.ai/bronsonschoen-personal-use/simple_regression' target=\"_blank\">Weights & Biases</a> (<a href='https://wandb.me/run' target=\"_blank\">docs</a>)<br/>Sweep page: <a href='https://wandb.ai/bronsonschoen-personal-use/simple_regression/sweeps/m0p58ake' target=\"_blank\">https://wandb.ai/bronsonschoen-personal-use/simple_regression/sweeps/m0p58ake</a>"
      ],
      "text/plain": [
       "<IPython.core.display.HTML object>"
      ]
     },
     "metadata": {},
     "output_type": "display_data"
    },
    {
     "data": {
      "text/html": [
       " View project at <a href='https://wandb.ai/bronsonschoen-personal-use/simple_regression' target=\"_blank\">https://wandb.ai/bronsonschoen-personal-use/simple_regression</a>"
      ],
      "text/plain": [
       "<IPython.core.display.HTML object>"
      ]
     },
     "metadata": {},
     "output_type": "display_data"
    },
    {
     "data": {
      "text/html": [
       " View sweep at <a href='https://wandb.ai/bronsonschoen-personal-use/simple_regression/sweeps/m0p58ake' target=\"_blank\">https://wandb.ai/bronsonschoen-personal-use/simple_regression/sweeps/m0p58ake</a>"
      ],
      "text/plain": [
       "<IPython.core.display.HTML object>"
      ]
     },
     "metadata": {},
     "output_type": "display_data"
    },
    {
     "data": {
      "text/html": [
       " View run at <a href='https://wandb.ai/bronsonschoen-personal-use/simple_regression/runs/qg8aacq5' target=\"_blank\">https://wandb.ai/bronsonschoen-personal-use/simple_regression/runs/qg8aacq5</a>"
      ],
      "text/plain": [
       "<IPython.core.display.HTML object>"
      ]
     },
     "metadata": {},
     "output_type": "display_data"
    },
    {
     "name": "stdout",
     "output_type": "stream",
     "text": [
      "Using device: mps\n",
      "Epoch [1/1], Train Loss: 1.5091, Test Loss: 1.3976, Accuracy: 53.33%\n"
     ]
    },
    {
     "data": {
      "application/vnd.jupyter.widget-view+json": {
       "model_id": "66386efcfd0d4e6fbb860f004cfce677",
       "version_major": 2,
       "version_minor": 0
      },
      "text/plain": [
       "VBox(children=(Label(value='0.001 MB of 0.001 MB uploaded\\r'), FloatProgress(value=1.0, max=1.0)))"
      ]
     },
     "metadata": {},
     "output_type": "display_data"
    },
    {
     "data": {
      "text/html": [
       "<style>\n",
       "    table.wandb td:nth-child(1) { padding: 0 10px; text-align: left ; width: auto;} td:nth-child(2) {text-align: left ; width: 100%}\n",
       "    .wandb-row { display: flex; flex-direction: row; flex-wrap: wrap; justify-content: flex-start; width: 100% }\n",
       "    .wandb-col { display: flex; flex-direction: column; flex-basis: 100%; flex: 1; padding: 10px; }\n",
       "    </style>\n",
       "<div class=\"wandb-row\"><div class=\"wandb-col\"><h3>Run history:</h3><br/><table class=\"wandb\"><tr><td>accuracy</td><td>▁</td></tr><tr><td>epoch</td><td>▁</td></tr><tr><td>test_loss</td><td>▁</td></tr><tr><td>train_loss</td><td>▁</td></tr></table><br/></div><div class=\"wandb-col\"><h3>Run summary:</h3><br/><table class=\"wandb\"><tr><td>accuracy</td><td>53.327</td></tr><tr><td>epoch</td><td>0</td></tr><tr><td>test_loss</td><td>1.39763</td></tr><tr><td>train_loss</td><td>1.50912</td></tr></table><br/></div></div>"
      ],
      "text/plain": [
       "<IPython.core.display.HTML object>"
      ]
     },
     "metadata": {},
     "output_type": "display_data"
    },
    {
     "data": {
      "text/html": [
       " View run <strong style=\"color:#cdcd00\">firm-sweep-14</strong> at: <a href='https://wandb.ai/bronsonschoen-personal-use/simple_regression/runs/qg8aacq5' target=\"_blank\">https://wandb.ai/bronsonschoen-personal-use/simple_regression/runs/qg8aacq5</a><br/> View project at: <a href='https://wandb.ai/bronsonschoen-personal-use/simple_regression' target=\"_blank\">https://wandb.ai/bronsonschoen-personal-use/simple_regression</a><br/>Synced 5 W&B file(s), 0 media file(s), 0 artifact file(s) and 0 other file(s)"
      ],
      "text/plain": [
       "<IPython.core.display.HTML object>"
      ]
     },
     "metadata": {},
     "output_type": "display_data"
    },
    {
     "data": {
      "text/html": [
       "Find logs at: <code>./wandb/run-20240904_195307-qg8aacq5/logs</code>"
      ],
      "text/plain": [
       "<IPython.core.display.HTML object>"
      ]
     },
     "metadata": {},
     "output_type": "display_data"
    },
    {
     "data": {
      "text/html": [
       "The new W&B backend becomes opt-out in version 0.18.0; try it out with `wandb.require(\"core\")`! See https://wandb.me/wandb-core for more information."
      ],
      "text/plain": [
       "<IPython.core.display.HTML object>"
      ]
     },
     "metadata": {},
     "output_type": "display_data"
    },
    {
     "name": "stdout",
     "output_type": "stream",
     "text": [
      "Training completed!\n"
     ]
    },
    {
     "name": "stderr",
     "output_type": "stream",
     "text": [
      "\u001b[34m\u001b[1mwandb\u001b[0m: Agent Starting Run: nr2v8z0k with config:\n",
      "\u001b[34m\u001b[1mwandb\u001b[0m: \tbatch_size: 64\n",
      "\u001b[34m\u001b[1mwandb\u001b[0m: \td_model: 16\n",
      "\u001b[34m\u001b[1mwandb\u001b[0m: \tn_layers: 4\n",
      "\u001b[34m\u001b[1mwandb\u001b[0m: \tnum_epochs: 1\n",
      "\u001b[34m\u001b[1mwandb\u001b[0m: \tnum_samples: 100000\n",
      "\u001b[34m\u001b[1mwandb\u001b[0m: \ttest_interval: 100000000000000000000\n",
      "Failed to detect the name of this notebook, you can set it manually with the WANDB_NOTEBOOK_NAME environment variable to enable code saving.\n",
      "\u001b[34m\u001b[1mwandb\u001b[0m: \u001b[33mWARNING\u001b[0m Ignored wandb.init() arg project when running a sweep.\n"
     ]
    },
    {
     "data": {
      "text/html": [
       "wandb version 0.17.8 is available!  To upgrade, please run:\n",
       " $ pip install wandb --upgrade"
      ],
      "text/plain": [
       "<IPython.core.display.HTML object>"
      ]
     },
     "metadata": {},
     "output_type": "display_data"
    },
    {
     "data": {
      "text/html": [
       "Tracking run with wandb version 0.17.7"
      ],
      "text/plain": [
       "<IPython.core.display.HTML object>"
      ]
     },
     "metadata": {},
     "output_type": "display_data"
    },
    {
     "data": {
      "text/html": [
       "Run data is saved locally in <code>/Users/bronsonschoen/gpt_from_scratch/wandb/run-20240904_195403-nr2v8z0k</code>"
      ],
      "text/plain": [
       "<IPython.core.display.HTML object>"
      ]
     },
     "metadata": {},
     "output_type": "display_data"
    },
    {
     "data": {
      "text/html": [
       "Syncing run <strong><a href='https://wandb.ai/bronsonschoen-personal-use/simple_regression/runs/nr2v8z0k' target=\"_blank\">autumn-sweep-15</a></strong> to <a href='https://wandb.ai/bronsonschoen-personal-use/simple_regression' target=\"_blank\">Weights & Biases</a> (<a href='https://wandb.me/run' target=\"_blank\">docs</a>)<br/>Sweep page: <a href='https://wandb.ai/bronsonschoen-personal-use/simple_regression/sweeps/m0p58ake' target=\"_blank\">https://wandb.ai/bronsonschoen-personal-use/simple_regression/sweeps/m0p58ake</a>"
      ],
      "text/plain": [
       "<IPython.core.display.HTML object>"
      ]
     },
     "metadata": {},
     "output_type": "display_data"
    },
    {
     "data": {
      "text/html": [
       " View project at <a href='https://wandb.ai/bronsonschoen-personal-use/simple_regression' target=\"_blank\">https://wandb.ai/bronsonschoen-personal-use/simple_regression</a>"
      ],
      "text/plain": [
       "<IPython.core.display.HTML object>"
      ]
     },
     "metadata": {},
     "output_type": "display_data"
    },
    {
     "data": {
      "text/html": [
       " View sweep at <a href='https://wandb.ai/bronsonschoen-personal-use/simple_regression/sweeps/m0p58ake' target=\"_blank\">https://wandb.ai/bronsonschoen-personal-use/simple_regression/sweeps/m0p58ake</a>"
      ],
      "text/plain": [
       "<IPython.core.display.HTML object>"
      ]
     },
     "metadata": {},
     "output_type": "display_data"
    },
    {
     "data": {
      "text/html": [
       " View run at <a href='https://wandb.ai/bronsonschoen-personal-use/simple_regression/runs/nr2v8z0k' target=\"_blank\">https://wandb.ai/bronsonschoen-personal-use/simple_regression/runs/nr2v8z0k</a>"
      ],
      "text/plain": [
       "<IPython.core.display.HTML object>"
      ]
     },
     "metadata": {},
     "output_type": "display_data"
    },
    {
     "name": "stdout",
     "output_type": "stream",
     "text": [
      "Using device: mps\n",
      "Epoch [1/1], Train Loss: 2.0593, Test Loss: 1.9257, Accuracy: 32.18%\n"
     ]
    },
    {
     "data": {
      "application/vnd.jupyter.widget-view+json": {
       "model_id": "c520718f50324a259663b65a8976313d",
       "version_major": 2,
       "version_minor": 0
      },
      "text/plain": [
       "VBox(children=(Label(value='0.001 MB of 0.048 MB uploaded\\r'), FloatProgress(value=0.0244513857111593, max=1.0…"
      ]
     },
     "metadata": {},
     "output_type": "display_data"
    },
    {
     "data": {
      "text/html": [
       "<style>\n",
       "    table.wandb td:nth-child(1) { padding: 0 10px; text-align: left ; width: auto;} td:nth-child(2) {text-align: left ; width: 100%}\n",
       "    .wandb-row { display: flex; flex-direction: row; flex-wrap: wrap; justify-content: flex-start; width: 100% }\n",
       "    .wandb-col { display: flex; flex-direction: column; flex-basis: 100%; flex: 1; padding: 10px; }\n",
       "    </style>\n",
       "<div class=\"wandb-row\"><div class=\"wandb-col\"><h3>Run history:</h3><br/><table class=\"wandb\"><tr><td>accuracy</td><td>▁</td></tr><tr><td>epoch</td><td>▁</td></tr><tr><td>test_loss</td><td>▁</td></tr><tr><td>train_loss</td><td>▁</td></tr></table><br/></div><div class=\"wandb-col\"><h3>Run summary:</h3><br/><table class=\"wandb\"><tr><td>accuracy</td><td>32.178</td></tr><tr><td>epoch</td><td>0</td></tr><tr><td>test_loss</td><td>1.92568</td></tr><tr><td>train_loss</td><td>2.05926</td></tr></table><br/></div></div>"
      ],
      "text/plain": [
       "<IPython.core.display.HTML object>"
      ]
     },
     "metadata": {},
     "output_type": "display_data"
    },
    {
     "data": {
      "text/html": [
       " View run <strong style=\"color:#cdcd00\">autumn-sweep-15</strong> at: <a href='https://wandb.ai/bronsonschoen-personal-use/simple_regression/runs/nr2v8z0k' target=\"_blank\">https://wandb.ai/bronsonschoen-personal-use/simple_regression/runs/nr2v8z0k</a><br/> View project at: <a href='https://wandb.ai/bronsonschoen-personal-use/simple_regression' target=\"_blank\">https://wandb.ai/bronsonschoen-personal-use/simple_regression</a><br/>Synced 5 W&B file(s), 0 media file(s), 0 artifact file(s) and 0 other file(s)"
      ],
      "text/plain": [
       "<IPython.core.display.HTML object>"
      ]
     },
     "metadata": {},
     "output_type": "display_data"
    },
    {
     "data": {
      "text/html": [
       "Find logs at: <code>./wandb/run-20240904_195403-nr2v8z0k/logs</code>"
      ],
      "text/plain": [
       "<IPython.core.display.HTML object>"
      ]
     },
     "metadata": {},
     "output_type": "display_data"
    },
    {
     "data": {
      "text/html": [
       "The new W&B backend becomes opt-out in version 0.18.0; try it out with `wandb.require(\"core\")`! See https://wandb.me/wandb-core for more information."
      ],
      "text/plain": [
       "<IPython.core.display.HTML object>"
      ]
     },
     "metadata": {},
     "output_type": "display_data"
    },
    {
     "name": "stdout",
     "output_type": "stream",
     "text": [
      "Training completed!\n"
     ]
    },
    {
     "name": "stderr",
     "output_type": "stream",
     "text": [
      "\u001b[34m\u001b[1mwandb\u001b[0m: Agent Starting Run: j70pm4p7 with config:\n",
      "\u001b[34m\u001b[1mwandb\u001b[0m: \tbatch_size: 64\n",
      "\u001b[34m\u001b[1mwandb\u001b[0m: \td_model: 128\n",
      "\u001b[34m\u001b[1mwandb\u001b[0m: \tn_layers: 4\n",
      "\u001b[34m\u001b[1mwandb\u001b[0m: \tnum_epochs: 1\n",
      "\u001b[34m\u001b[1mwandb\u001b[0m: \tnum_samples: 100000\n",
      "\u001b[34m\u001b[1mwandb\u001b[0m: \ttest_interval: 100000000000000000000\n",
      "Failed to detect the name of this notebook, you can set it manually with the WANDB_NOTEBOOK_NAME environment variable to enable code saving.\n",
      "\u001b[34m\u001b[1mwandb\u001b[0m: \u001b[33mWARNING\u001b[0m Ignored wandb.init() arg project when running a sweep.\n"
     ]
    },
    {
     "data": {
      "text/html": [
       "wandb version 0.17.8 is available!  To upgrade, please run:\n",
       " $ pip install wandb --upgrade"
      ],
      "text/plain": [
       "<IPython.core.display.HTML object>"
      ]
     },
     "metadata": {},
     "output_type": "display_data"
    },
    {
     "data": {
      "text/html": [
       "Tracking run with wandb version 0.17.7"
      ],
      "text/plain": [
       "<IPython.core.display.HTML object>"
      ]
     },
     "metadata": {},
     "output_type": "display_data"
    },
    {
     "data": {
      "text/html": [
       "Run data is saved locally in <code>/Users/bronsonschoen/gpt_from_scratch/wandb/run-20240904_195429-j70pm4p7</code>"
      ],
      "text/plain": [
       "<IPython.core.display.HTML object>"
      ]
     },
     "metadata": {},
     "output_type": "display_data"
    },
    {
     "data": {
      "text/html": [
       "Syncing run <strong><a href='https://wandb.ai/bronsonschoen-personal-use/simple_regression/runs/j70pm4p7' target=\"_blank\">grateful-sweep-16</a></strong> to <a href='https://wandb.ai/bronsonschoen-personal-use/simple_regression' target=\"_blank\">Weights & Biases</a> (<a href='https://wandb.me/run' target=\"_blank\">docs</a>)<br/>Sweep page: <a href='https://wandb.ai/bronsonschoen-personal-use/simple_regression/sweeps/m0p58ake' target=\"_blank\">https://wandb.ai/bronsonschoen-personal-use/simple_regression/sweeps/m0p58ake</a>"
      ],
      "text/plain": [
       "<IPython.core.display.HTML object>"
      ]
     },
     "metadata": {},
     "output_type": "display_data"
    },
    {
     "data": {
      "text/html": [
       " View project at <a href='https://wandb.ai/bronsonschoen-personal-use/simple_regression' target=\"_blank\">https://wandb.ai/bronsonschoen-personal-use/simple_regression</a>"
      ],
      "text/plain": [
       "<IPython.core.display.HTML object>"
      ]
     },
     "metadata": {},
     "output_type": "display_data"
    },
    {
     "data": {
      "text/html": [
       " View sweep at <a href='https://wandb.ai/bronsonschoen-personal-use/simple_regression/sweeps/m0p58ake' target=\"_blank\">https://wandb.ai/bronsonschoen-personal-use/simple_regression/sweeps/m0p58ake</a>"
      ],
      "text/plain": [
       "<IPython.core.display.HTML object>"
      ]
     },
     "metadata": {},
     "output_type": "display_data"
    },
    {
     "data": {
      "text/html": [
       " View run at <a href='https://wandb.ai/bronsonschoen-personal-use/simple_regression/runs/j70pm4p7' target=\"_blank\">https://wandb.ai/bronsonschoen-personal-use/simple_regression/runs/j70pm4p7</a>"
      ],
      "text/plain": [
       "<IPython.core.display.HTML object>"
      ]
     },
     "metadata": {},
     "output_type": "display_data"
    },
    {
     "name": "stdout",
     "output_type": "stream",
     "text": [
      "Using device: mps\n",
      "Epoch [1/1], Train Loss: 1.5571, Test Loss: 1.4040, Accuracy: 52.95%\n"
     ]
    },
    {
     "data": {
      "application/vnd.jupyter.widget-view+json": {
       "model_id": "b99b7d1d9709465bbe3b30f5793290ea",
       "version_major": 2,
       "version_minor": 0
      },
      "text/plain": [
       "VBox(children=(Label(value='0.001 MB of 0.049 MB uploaded\\r'), FloatProgress(value=0.023924469534747906, max=1…"
      ]
     },
     "metadata": {},
     "output_type": "display_data"
    },
    {
     "data": {
      "text/html": [
       "<style>\n",
       "    table.wandb td:nth-child(1) { padding: 0 10px; text-align: left ; width: auto;} td:nth-child(2) {text-align: left ; width: 100%}\n",
       "    .wandb-row { display: flex; flex-direction: row; flex-wrap: wrap; justify-content: flex-start; width: 100% }\n",
       "    .wandb-col { display: flex; flex-direction: column; flex-basis: 100%; flex: 1; padding: 10px; }\n",
       "    </style>\n",
       "<div class=\"wandb-row\"><div class=\"wandb-col\"><h3>Run history:</h3><br/><table class=\"wandb\"><tr><td>accuracy</td><td>▁</td></tr><tr><td>epoch</td><td>▁</td></tr><tr><td>test_loss</td><td>▁</td></tr><tr><td>train_loss</td><td>▁</td></tr></table><br/></div><div class=\"wandb-col\"><h3>Run summary:</h3><br/><table class=\"wandb\"><tr><td>accuracy</td><td>52.949</td></tr><tr><td>epoch</td><td>0</td></tr><tr><td>test_loss</td><td>1.40405</td></tr><tr><td>train_loss</td><td>1.5571</td></tr></table><br/></div></div>"
      ],
      "text/plain": [
       "<IPython.core.display.HTML object>"
      ]
     },
     "metadata": {},
     "output_type": "display_data"
    },
    {
     "data": {
      "text/html": [
       " View run <strong style=\"color:#cdcd00\">grateful-sweep-16</strong> at: <a href='https://wandb.ai/bronsonschoen-personal-use/simple_regression/runs/j70pm4p7' target=\"_blank\">https://wandb.ai/bronsonschoen-personal-use/simple_regression/runs/j70pm4p7</a><br/> View project at: <a href='https://wandb.ai/bronsonschoen-personal-use/simple_regression' target=\"_blank\">https://wandb.ai/bronsonschoen-personal-use/simple_regression</a><br/>Synced 5 W&B file(s), 0 media file(s), 0 artifact file(s) and 0 other file(s)"
      ],
      "text/plain": [
       "<IPython.core.display.HTML object>"
      ]
     },
     "metadata": {},
     "output_type": "display_data"
    },
    {
     "data": {
      "text/html": [
       "Find logs at: <code>./wandb/run-20240904_195429-j70pm4p7/logs</code>"
      ],
      "text/plain": [
       "<IPython.core.display.HTML object>"
      ]
     },
     "metadata": {},
     "output_type": "display_data"
    },
    {
     "data": {
      "text/html": [
       "The new W&B backend becomes opt-out in version 0.18.0; try it out with `wandb.require(\"core\")`! See https://wandb.me/wandb-core for more information."
      ],
      "text/plain": [
       "<IPython.core.display.HTML object>"
      ]
     },
     "metadata": {},
     "output_type": "display_data"
    },
    {
     "name": "stdout",
     "output_type": "stream",
     "text": [
      "Training completed!\n"
     ]
    },
    {
     "name": "stderr",
     "output_type": "stream",
     "text": [
      "\u001b[34m\u001b[1mwandb\u001b[0m: Agent Starting Run: 07htcqeu with config:\n",
      "\u001b[34m\u001b[1mwandb\u001b[0m: \tbatch_size: 64\n",
      "\u001b[34m\u001b[1mwandb\u001b[0m: \td_model: 4096\n",
      "\u001b[34m\u001b[1mwandb\u001b[0m: \tn_layers: 4\n",
      "\u001b[34m\u001b[1mwandb\u001b[0m: \tnum_epochs: 1\n",
      "\u001b[34m\u001b[1mwandb\u001b[0m: \tnum_samples: 100000\n",
      "\u001b[34m\u001b[1mwandb\u001b[0m: \ttest_interval: 100000000000000000000\n",
      "Failed to detect the name of this notebook, you can set it manually with the WANDB_NOTEBOOK_NAME environment variable to enable code saving.\n",
      "\u001b[34m\u001b[1mwandb\u001b[0m: \u001b[33mWARNING\u001b[0m Ignored wandb.init() arg project when running a sweep.\n"
     ]
    },
    {
     "data": {
      "text/html": [
       "wandb version 0.17.8 is available!  To upgrade, please run:\n",
       " $ pip install wandb --upgrade"
      ],
      "text/plain": [
       "<IPython.core.display.HTML object>"
      ]
     },
     "metadata": {},
     "output_type": "display_data"
    },
    {
     "data": {
      "text/html": [
       "Tracking run with wandb version 0.17.7"
      ],
      "text/plain": [
       "<IPython.core.display.HTML object>"
      ]
     },
     "metadata": {},
     "output_type": "display_data"
    },
    {
     "data": {
      "text/html": [
       "Run data is saved locally in <code>/Users/bronsonschoen/gpt_from_scratch/wandb/run-20240904_195455-07htcqeu</code>"
      ],
      "text/plain": [
       "<IPython.core.display.HTML object>"
      ]
     },
     "metadata": {},
     "output_type": "display_data"
    },
    {
     "data": {
      "text/html": [
       "Syncing run <strong><a href='https://wandb.ai/bronsonschoen-personal-use/simple_regression/runs/07htcqeu' target=\"_blank\">ethereal-sweep-17</a></strong> to <a href='https://wandb.ai/bronsonschoen-personal-use/simple_regression' target=\"_blank\">Weights & Biases</a> (<a href='https://wandb.me/run' target=\"_blank\">docs</a>)<br/>Sweep page: <a href='https://wandb.ai/bronsonschoen-personal-use/simple_regression/sweeps/m0p58ake' target=\"_blank\">https://wandb.ai/bronsonschoen-personal-use/simple_regression/sweeps/m0p58ake</a>"
      ],
      "text/plain": [
       "<IPython.core.display.HTML object>"
      ]
     },
     "metadata": {},
     "output_type": "display_data"
    },
    {
     "data": {
      "text/html": [
       " View project at <a href='https://wandb.ai/bronsonschoen-personal-use/simple_regression' target=\"_blank\">https://wandb.ai/bronsonschoen-personal-use/simple_regression</a>"
      ],
      "text/plain": [
       "<IPython.core.display.HTML object>"
      ]
     },
     "metadata": {},
     "output_type": "display_data"
    },
    {
     "data": {
      "text/html": [
       " View sweep at <a href='https://wandb.ai/bronsonschoen-personal-use/simple_regression/sweeps/m0p58ake' target=\"_blank\">https://wandb.ai/bronsonschoen-personal-use/simple_regression/sweeps/m0p58ake</a>"
      ],
      "text/plain": [
       "<IPython.core.display.HTML object>"
      ]
     },
     "metadata": {},
     "output_type": "display_data"
    },
    {
     "data": {
      "text/html": [
       " View run at <a href='https://wandb.ai/bronsonschoen-personal-use/simple_regression/runs/07htcqeu' target=\"_blank\">https://wandb.ai/bronsonschoen-personal-use/simple_regression/runs/07htcqeu</a>"
      ],
      "text/plain": [
       "<IPython.core.display.HTML object>"
      ]
     },
     "metadata": {},
     "output_type": "display_data"
    },
    {
     "name": "stdout",
     "output_type": "stream",
     "text": [
      "Using device: mps\n"
     ]
    },
    {
     "name": "stderr",
     "output_type": "stream",
     "text": [
      "\u001b[34m\u001b[1mwandb\u001b[0m: Ctrl + C detected. Stopping sweep.\n"
     ]
    },
    {
     "data": {
      "application/vnd.jupyter.widget-view+json": {
       "model_id": "314d80a2ddfc46ba9fb6781e03121b99",
       "version_major": 2,
       "version_minor": 0
      },
      "text/plain": [
       "VBox(children=(Label(value='0.001 MB of 0.001 MB uploaded\\r'), FloatProgress(value=1.0, max=1.0)))"
      ]
     },
     "metadata": {},
     "output_type": "display_data"
    },
    {
     "data": {
      "text/html": [
       " View run <strong style=\"color:#cdcd00\">ethereal-sweep-17</strong> at: <a href='https://wandb.ai/bronsonschoen-personal-use/simple_regression/runs/07htcqeu' target=\"_blank\">https://wandb.ai/bronsonschoen-personal-use/simple_regression/runs/07htcqeu</a><br/> View project at: <a href='https://wandb.ai/bronsonschoen-personal-use/simple_regression' target=\"_blank\">https://wandb.ai/bronsonschoen-personal-use/simple_regression</a><br/>Synced 5 W&B file(s), 0 media file(s), 0 artifact file(s) and 0 other file(s)"
      ],
      "text/plain": [
       "<IPython.core.display.HTML object>"
      ]
     },
     "metadata": {},
     "output_type": "display_data"
    },
    {
     "data": {
      "text/html": [
       "Find logs at: <code>./wandb/run-20240904_195455-07htcqeu/logs</code>"
      ],
      "text/plain": [
       "<IPython.core.display.HTML object>"
      ]
     },
     "metadata": {},
     "output_type": "display_data"
    },
    {
     "data": {
      "text/html": [
       "The new W&B backend becomes opt-out in version 0.18.0; try it out with `wandb.require(\"core\")`! See https://wandb.me/wandb-core for more information."
      ],
      "text/plain": [
       "<IPython.core.display.HTML object>"
      ]
     },
     "metadata": {},
     "output_type": "display_data"
    }
   ],
   "source": [
    "sweep_id = wandb.sweep(\n",
    "    sweep=sweep_configuration,\n",
    "    project=WANDB_PROJECT_NAME,\n",
    ")\n",
    "\n",
    "num_trials = 100\n",
    "\n",
    "# Inu\n",
    "# TODO(bschoen): Use hyperband to abort sweep early [](https://www.jmlr.org/papers/volume18/16-558/16-558.pdf)\n",
    "# - popular to use\n",
    "#\n",
    "# note: Larger batch size increases GPU memory usage and doubling batch size often allows doubling learning rate, up to a point where this relationship breaks down.\n",
    "wandb.agent(\n",
    "    sweep_id=sweep_id,\n",
    "    function=train_wandb_scaling,\n",
    "    count=num_trials,\n",
    ")\n",
    "\n",
    "wandb.finish()"
   ]
  },
  {
   "cell_type": "code",
   "execution_count": null,
   "id": "bfe3f380",
   "metadata": {},
   "outputs": [],
   "source": []
  },
  {
   "cell_type": "code",
   "execution_count": null,
   "id": "e97c6be7",
   "metadata": {},
   "outputs": [],
   "source": []
  },
  {
   "cell_type": "code",
   "execution_count": null,
   "id": "468f9a8c",
   "metadata": {},
   "outputs": [],
   "source": []
  },
  {
   "cell_type": "code",
   "execution_count": null,
   "id": "6ca4a245",
   "metadata": {},
   "outputs": [],
   "source": [
    "# Evaluate the model (optional)\n",
    "model.eval()\n",
    "with torch.no_grad():\n",
    "\n",
    "    test_x = torch.randn(100, 10)  # Generate some test data\n",
    "    test_x.to(device)\n",
    "    test_y = model(test_x)\n",
    "\n",
    "    print(\"Sample predictions:\", test_y[:5].numpy())"
   ]
  },
  {
   "cell_type": "code",
   "execution_count": null,
   "id": "811531c2",
   "metadata": {},
   "outputs": [],
   "source": []
  },
  {
   "cell_type": "code",
   "execution_count": null,
   "id": "29bfa004",
   "metadata": {},
   "outputs": [],
   "source": []
  },
  {
   "cell_type": "code",
   "execution_count": null,
   "id": "44c518d4",
   "metadata": {},
   "outputs": [],
   "source": []
  },
  {
   "cell_type": "code",
   "execution_count": null,
   "id": "1f85b190",
   "metadata": {},
   "outputs": [],
   "source": []
  }
 ],
 "metadata": {
  "kernelspec": {
   "display_name": "Python 3 (ipykernel)",
   "language": "python",
   "name": "python3"
  },
  "language_info": {
   "codemirror_mode": {
    "name": "ipython",
    "version": 3
   },
   "file_extension": ".py",
   "mimetype": "text/x-python",
   "name": "python",
   "nbconvert_exporter": "python",
   "pygments_lexer": "ipython3",
   "version": "3.12.5"
  }
 },
 "nbformat": 4,
 "nbformat_minor": 5
}
