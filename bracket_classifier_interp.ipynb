{
 "cells": [
  {
   "cell_type": "code",
   "execution_count": 21,
   "id": "8136c449-8445-45fd-8d23-358f6e639e67",
   "metadata": {},
   "outputs": [
    {
     "name": "stdout",
     "output_type": "stream",
     "text": [
      "The autoreload extension is already loaded. To reload it, use:\n",
      "  %reload_ext autoreload\n"
     ]
    }
   ],
   "source": [
    "# note: same thing for REPL\n",
    "# note: we use this instead of magic because `black` will otherwise fail to format\n",
    "#\n",
    "# Enable autoreload to automatically reload modules when they change\n",
    "\n",
    "from IPython import get_ipython\n",
    "\n",
    "# do this so that formatter not messed up\n",
    "ipython = get_ipython()\n",
    "ipython.run_line_magic(\"load_ext\", \"autoreload\")\n",
    "ipython.run_line_magic(\"autoreload\", \"2\")\n",
    "\n",
    "# Import commonly used libraries\n",
    "import numpy as np\n",
    "import pandas as pd\n",
    "\n",
    "import torch\n",
    "import torch.nn as nn\n",
    "import torch.optim as optim\n",
    "import torch.nn.functional as F\n",
    "\n",
    "# graphics\n",
    "import matplotlib.pyplot as plt\n",
    "import plotly.express as px\n",
    "import plotly.graph_objects as go\n",
    "\n",
    "# type annotation\n",
    "import jaxtyping\n",
    "from jaxtyping import Float, Int, jaxtyped\n",
    "from typeguard import typechecked as typechecker\n",
    "\n",
    "# more itertools\n",
    "import more_itertools as mi\n",
    "\n",
    "# itertools\n",
    "import itertools\n",
    "import collections\n",
    "\n",
    "# tensor manipulation\n",
    "import einops\n",
    "\n",
    "import transformer_lens\n",
    "\n",
    "# automatically apply jaxtyping\n",
    "# %load_ext jaxtyping\n",
    "# %jaxtyping.typechecker typeguard.typechecked"
   ]
  },
  {
   "cell_type": "code",
   "execution_count": 22,
   "id": "e35a2253",
   "metadata": {},
   "outputs": [],
   "source": [
    "# From:\n",
    "#\n",
    "# https://arena3-chapter1-transformer-interp.streamlit.app/[1.5.1]_Balanced_Bracket_Classifier"
   ]
  },
  {
   "cell_type": "code",
   "execution_count": null,
   "id": "df09180b",
   "metadata": {},
   "outputs": [],
   "source": []
  },
  {
   "cell_type": "markdown",
   "id": "c1245d76",
   "metadata": {},
   "source": [
    "# What's the main difference from GPT-2 style architecture?\n",
    "\n",
    "Choice of attention:\n",
    "\n",
    "- GPT uses **`causal attention`**, where attention scores are **masked** if the source token comes after the destination token.\n",
    "- This means **information can only flow forwards** in a GPT model, never backwards.\n",
    "- The forward-only flow allows **parallel training** of GPT models.\n",
    "- GPT's output is a series of **distributions over the next token**, each using only information from previous tokens.\n",
    "- This model uses **`bidirectional attention`**, where attention scores **aren't masked** based on token positions.\n",
    "- In this model, **information can flow in both directions**.\n",
    "- This allows the model to use **information from the future** to predict the past."
   ]
  },
  {
   "cell_type": "markdown",
   "id": "fb0260e0",
   "metadata": {},
   "source": [
    "# What are we predicting?\n",
    "\n",
    "* GPT is trained via gradient descent on the cross-entropy loss between its predictions for the next token and the actual next tokens. \n",
    "* Models designed to perform classification are trained in a very similar way, but instead of outputting probability distributions over the next token, they output a distribution over class labels. \n",
    "* We do this by:\n",
    "  * having an unembedding matrix of size `[d_model, num_classifications]`\n",
    "  * only using a single sequence position (usually the 0th position) to represent our classification probabilities\n",
    "\n",
    "* For each bracket sequence, our (important) output is a vector of two values: `(l0, l1)`\n",
    "  * representing the model's logit distribution over (unbalanced, balanced). \n",
    "  * Our model was trained by minimizing the cross-entropy loss between these logits and the true labels.\n",
    "  \n",
    "Interestingly, since **logits** are **translation invariant**\n",
    "* the only value we actually care about is the **difference between our logits**, `l0 - l1`. \n",
    "* This is the model's log likelihood ratio of the sequence being unbalanced vs balanced. \n",
    "* Later on, we'll be able to use this logit_diff to perform logit attribution in our model.\n",
    "  "
   ]
  },
  {
   "cell_type": "markdown",
   "id": "45e7c8d3",
   "metadata": {},
   "source": [
    "# How do we deal with varying lengths?\n",
    "\n",
    "* After all, during training we need to have all sequences be of the same length so we can batch them together\n",
    "* The model manages this via two new tokens: the `end` token and the `padding` token.\n",
    "  * The `end` token goes at the end of every bracket sequence\n",
    "  * then we add `padding` tokens to the end until the sequence is up to some fixed length.\n",
    "* The model learns to ignore these `padding` tokens when making predictions.\n",
    "\n",
    "For instance:\n",
    "* this model was trained on bracket sequences of up to length 40\n",
    "* so if we wanted to classify the bracket string `(())` then we would pad it to the length-42 sequence:\n",
    "```\n",
    "[start] + ( + ( + ) + ) + [end] + [pad] + [pad] + ... + [pad]\n",
    "```\n",
    "\n",
    "* When we calculate the attention scores, **we mask them at all (`query`, `key`) positions where the `key` is a `padding` token**.\n",
    "* This makes sure that information doesn't flow from `padding` tokens to other tokens in the sequence (just like how GPT's causal masking makes sure that information doesn't flow from future tokens to past tokens)\n",
    "\n",
    "TODO(bschoen): Why wouldn't we let the model store information in those positions?\n",
    "\n",
    "* Note that the attention scores aren't masked when the `query` is a ``padding`` token and the key isn't.\n",
    "  * In theory, this means that information can be stored in the ``padding`` token positions.\n",
    "  * However, because the ``padding`` token key positions are always masked, this information can't flow back into the rest of the sequence\n",
    "    * so it never affects the final output.\n",
    "* (Also, note that if we masked `query` positions as well, we'd get numerical errors, since we'd be taking softmax across a row where every element is minus infinity, which is not well-defined!)\n",
    "\n",
    "> note: this is how BERT works\n"
   ]
  },
  {
   "cell_type": "markdown",
   "id": "a88118a0",
   "metadata": {},
   "source": [
    "# Architecture\n",
    "\n",
    "* Positional embeddings are sinusoidal (non-learned).\n",
    "* It has hidden_size (aka `d_model`, aka `embed_dim`) of 56.\n",
    "* It has bidirectional attention, like BERT.\n",
    "* It has 3 attention layers and 3 MLPs.\n",
    "* Each attention layer has two heads, and each head has headsize (aka `d_head`) of `hidden_size / num_heads = 28`.\n",
    "* The MLP hidden layer has 56 neurons (i.e. its linear layers are square matrices).\n",
    "* The input of each attention layer and each MLP is first layernormed, like in GPT.\n",
    "* There's a LayerNorm on the residual stream after all the attention layers and MLPs have been added into it (this is also like GPT).\n",
    "* Our embedding matrix `W_E` has five rows: one for each of the tokens `[start]`, `[pad]`, `[end]`, `(`, and `)` (in that order).\n",
    "* Our unembedding matrix `W_U` has two columns: one for each of the classes unbalanced and balanced (in that order).\n",
    "* When running our model, we get output of shape `[batch, seq_len, 2]`, and we then take the `[:, 0, :]` slice to get the output for the `[start]` token (i.e. the classification logits).\n",
    "* We can then softmax to get our classification probabilities.\n",
    "* Activation function is ReLU.\n",
    "* To refer to attention heads, we'll again use the shorthand `layer.head` where both layer and head are zero-indexed\n",
    "  * So `2.1` is the second attention head (index 1) in the third layer (index 2)."
   ]
  },
  {
   "cell_type": "code",
   "execution_count": 23,
   "id": "6537dcaf",
   "metadata": {},
   "outputs": [],
   "source": [
    "VOCAB = \"()\"\n",
    "\n",
    "device = transformer_lens.utils.get_device()\n",
    "\n",
    "\n",
    "def make_model_config() -> transformer_lens.HookedTransformerConfig:\n",
    "\n",
    "    cfg = transformer_lens.HookedTransformerConfig(\n",
    "        n_ctx=42,\n",
    "        d_model=56,\n",
    "        d_head=28,\n",
    "        n_heads=2,\n",
    "        d_mlp=56,\n",
    "        n_layers=3,\n",
    "        attention_dir=\"bidirectional\",  # defaults to \"causal\"\n",
    "        act_fn=\"relu\",\n",
    "        d_vocab=len(VOCAB) + 3,  # plus 3 because of end and pad and start token\n",
    "        d_vocab_out=2,  # 2 because we're doing binary classification\n",
    "        use_attn_result=True,\n",
    "        device=device,\n",
    "        use_hook_tokens=True,\n",
    "    )\n",
    "\n",
    "    return cfg"
   ]
  },
  {
   "cell_type": "markdown",
   "id": "d5ab0bfa",
   "metadata": {},
   "source": [
    "## Collate"
   ]
  },
  {
   "cell_type": "code",
   "execution_count": 24,
   "id": "b8d8f5f3",
   "metadata": {},
   "outputs": [],
   "source": [
    "def add_perma_hooks_to_mask_pad_tokens(\n",
    "    model: transformer_lens.HookedTransformer,\n",
    "    pad_token: int,\n",
    ") -> transformer_lens.HookedTransformer:\n",
    "\n",
    "    # Hook which operates on the tokens, and stores a mask where tokens equal [pad]\n",
    "    def cache_padding_tokens_mask(\n",
    "        tokens: Float[torch.Tensor, \"batch seq\"],\n",
    "        hook: transformer_lens.hook_points.HookPoint,\n",
    "    ) -> None:\n",
    "        hook.ctx[\"padding_tokens_mask\"] = einops.rearrange(tokens == pad_token, \"b sK -> b 1 1 sK\")\n",
    "\n",
    "    # Apply masking, by referencing the mask stored in the `hook_tokens` hook context\n",
    "    def apply_padding_tokens_mask(\n",
    "        attn_scores: Float[torch.Tensor, \"batch head seq_Q seq_K\"],\n",
    "        hook: transformer_lens.hook_points.HookPoint,\n",
    "    ) -> None:\n",
    "        attn_scores.masked_fill_(model.hook_dict[\"hook_tokens\"].ctx[\"padding_tokens_mask\"], -1e5)\n",
    "        if hook.layer() == model.cfg.n_layers - 1:\n",
    "            del model.hook_dict[\"hook_tokens\"].ctx[\"padding_tokens_mask\"]\n",
    "\n",
    "    # Add these hooks as permanent hooks (i.e. they aren't removed after functions like run_with_hooks)\n",
    "    for name, hook in model.hook_dict.items():\n",
    "        if name == \"hook_tokens\":\n",
    "            hook.add_perma_hook(cache_padding_tokens_mask)\n",
    "        elif name.endswith(\"attn_scores\"):\n",
    "            hook.add_perma_hook(apply_padding_tokens_mask)\n",
    "\n",
    "    return model"
   ]
  },
  {
   "cell_type": "markdown",
   "id": "431640bc",
   "metadata": {},
   "source": [
    "## Tokenizer"
   ]
  },
  {
   "cell_type": "code",
   "execution_count": 25,
   "id": "2645d4cb",
   "metadata": {},
   "outputs": [],
   "source": [
    "from jaxtyping import Int\n",
    "\n",
    "\n",
    "class SimpleTokenizer:\n",
    "    \"\"\"\n",
    "    Here we copy from ARENA_3.0/chapter1_transformer_interp/exercises/part51_balanced_bracket_classifier/brackets_datasets.py\n",
    "\n",
    "    Note:\n",
    "        We leave this unchanged to minimize troubleshooting the tokenizer\n",
    "    \"\"\"\n",
    "\n",
    "    START_TOKEN = 0\n",
    "    PAD_TOKEN = 1\n",
    "    END_TOKEN = 2\n",
    "    base_d = {\"[start]\": START_TOKEN, \"[pad]\": PAD_TOKEN, \"[end]\": END_TOKEN}\n",
    "\n",
    "    def __init__(self, alphabet: str) -> None:\n",
    "        self.alphabet = alphabet\n",
    "        # the 3 is because there are 3 special tokens (defined just above)\n",
    "        self.t_to_i = {**{c: i + 3 for i, c in enumerate(alphabet)}, **self.base_d}\n",
    "        self.i_to_t = {i: c for c, i in self.t_to_i.items()}\n",
    "\n",
    "    def tokenize(\n",
    "        self,\n",
    "        strs: list[str] | str,\n",
    "        max_len: int | None = None,\n",
    "    ) -> Int[torch.Tensor, \"batch seq\"]:\n",
    "        def c_to_int(c: str) -> int:\n",
    "            if c in self.t_to_i:\n",
    "                return self.t_to_i[c]\n",
    "            else:\n",
    "                raise ValueError(c)\n",
    "\n",
    "        if isinstance(strs, str):\n",
    "            strs = [strs]\n",
    "\n",
    "        if max_len is None:\n",
    "            max_len = max((max(len(s) for s in strs), 1))\n",
    "\n",
    "        ints = [\n",
    "            [self.START_TOKEN]\n",
    "            + [c_to_int(c) for c in s]\n",
    "            + [self.END_TOKEN]\n",
    "            + [self.PAD_TOKEN] * (max_len - len(s))\n",
    "            for s in strs\n",
    "        ]\n",
    "        return torch.tensor(ints)\n",
    "\n",
    "    def decode(self, tokens: Int[torch.Tensor, \"batch seq\"]) -> list[str]:\n",
    "        assert tokens.ndim >= 2, \"Need to have a batch dimension\"\n",
    "\n",
    "        def int_to_c(c: int) -> str:\n",
    "            if c < len(self.i_to_t):\n",
    "                return self.i_to_t[c]\n",
    "            else:\n",
    "                raise ValueError(c)\n",
    "\n",
    "        return [\n",
    "            \"\".join(\n",
    "                int_to_c(i.item()) for i in seq[1:] if i != self.PAD_TOKEN and i != self.END_TOKEN\n",
    "            )\n",
    "            for seq in tokens\n",
    "        ]\n",
    "\n",
    "    def __repr__(self) -> str:\n",
    "        return f\"SimpleTokenizer({self.alphabet!r})\""
   ]
  },
  {
   "cell_type": "code",
   "execution_count": 26,
   "id": "a3c32a30",
   "metadata": {},
   "outputs": [
    {
     "name": "stdout",
     "output_type": "stream",
     "text": [
      "tensor([[0, 3, 4, 2]])\n",
      "tensor([[0, 3, 4, 2, 1, 1],\n",
      "        [0, 3, 4, 3, 4, 2]])\n",
      "{3: '(', 4: ')', 0: '[start]', 1: '[pad]', 2: '[end]'}\n",
      "{'(': 3, ')': 4, '[start]': 0, '[pad]': 1, '[end]': 2}\n",
      "['()']\n"
     ]
    }
   ],
   "source": [
    "tokenizer = SimpleTokenizer(\"()\")\n",
    "\n",
    "# Examples of tokenization\n",
    "# (the second one applies padding, since the sequences are of different lengths)\n",
    "print(tokenizer.tokenize(\"()\"))\n",
    "print(tokenizer.tokenize([\"()\", \"()()\"]))\n",
    "\n",
    "# Dictionaries mapping indices to tokens and vice versa\n",
    "print(tokenizer.i_to_t)\n",
    "print(tokenizer.t_to_i)\n",
    "\n",
    "# Examples of decoding (all padding tokens are removed)\n",
    "print(tokenizer.decode(torch.tensor([[0, 3, 4, 2, 1, 1]])))"
   ]
  },
  {
   "cell_type": "code",
   "execution_count": null,
   "id": "273dec33",
   "metadata": {},
   "outputs": [],
   "source": []
  },
  {
   "cell_type": "markdown",
   "id": "ce1a5bf6",
   "metadata": {},
   "source": [
    "## Make Model"
   ]
  },
  {
   "cell_type": "code",
   "execution_count": 27,
   "id": "68900735",
   "metadata": {},
   "outputs": [],
   "source": [
    "def create_model(\n",
    "    cfg: transformer_lens.HookedTransformerConfig, tokenizer: SimpleTokenizer\n",
    ") -> transformer_lens.HookedTransformer:\n",
    "\n",
    "    # create model\n",
    "    model = transformer_lens.HookedTransformer(cfg)\n",
    "\n",
    "    # add hooks for dealing with padding horror\n",
    "    model.reset_hooks(including_permanent=True)\n",
    "    model = add_perma_hooks_to_mask_pad_tokens(model, tokenizer.PAD_TOKEN)\n",
    "\n",
    "    # move to device\n",
    "    model = model.to(device)\n",
    "\n",
    "    return model"
   ]
  },
  {
   "cell_type": "code",
   "execution_count": null,
   "id": "076ba846",
   "metadata": {},
   "outputs": [],
   "source": []
  },
  {
   "cell_type": "markdown",
   "id": "cbb46e08",
   "metadata": {},
   "source": [
    "# Sample Generation"
   ]
  },
  {
   "cell_type": "code",
   "execution_count": 28,
   "id": "1dcae766",
   "metadata": {},
   "outputs": [],
   "source": [
    "import dataclasses\n",
    "from typing import Iterator, Optional, List\n",
    "import random\n",
    "\n",
    "\n",
    "@dataclasses.dataclass(frozen=True)\n",
    "class Sample:\n",
    "    string: str  # Example: '(', '()))((', '((()' etc.\n",
    "    is_balanced: bool  # True if the parentheses are balanced, False otherwise\n",
    "\n",
    "\n",
    "def _is_balanced_parentheses(s: str) -> bool:\n",
    "    \"\"\"\n",
    "    Check if the parentheses in the string are balanced.\n",
    "\n",
    "    Args:\n",
    "        s (str): The string containing parentheses.\n",
    "\n",
    "    Returns:\n",
    "        bool: True if balanced, False otherwise.\n",
    "    \"\"\"\n",
    "    balance = 0\n",
    "    for char in s:\n",
    "        if char == \"(\":\n",
    "            balance += 1\n",
    "        elif char == \")\":\n",
    "            balance -= 1\n",
    "            if balance < 0:\n",
    "                return False  # A closing parenthesis without a matching opening\n",
    "    return balance == 0\n",
    "\n",
    "\n",
    "def generate_parenthesis_samples(max_length: int) -> Iterator[Sample]:\n",
    "    \"\"\"\n",
    "    Generate random strings of '(' and ')' up to max_length in random order.\n",
    "    For each string, determine if it is balanced.\n",
    "\n",
    "    Args:\n",
    "        max_length (int): The maximum length of the parentheses strings to generate.\n",
    "\n",
    "    Returns:\n",
    "        Iterator[Sample]: An iterator of Sample instances containing the string and its balance status.\n",
    "    \"\"\"\n",
    "    if max_length < 0:\n",
    "        raise ValueError(\"max_length must be a non-negative integer.\")\n",
    "\n",
    "    while True:\n",
    "        # Generate random length up to max_length\n",
    "        length = random.randint(1, max_length)\n",
    "\n",
    "        # Create a binary string, setting '(' or ')' accordingly\n",
    "        parenthesis_str = \"\".join(random.choice([\"(\", \")\"]) for _ in range(length))\n",
    "\n",
    "        # Check if the string is balanced\n",
    "        balanced = _is_balanced_parentheses(parenthesis_str)\n",
    "\n",
    "        yield Sample(string=parenthesis_str, is_balanced=balanced)\n",
    "\n",
    "\n",
    "def random_balanced_parentheses(k: int) -> str:\n",
    "    \"\"\"\n",
    "    Generate a single random balanced parentheses string with k pairs.\n",
    "\n",
    "    Args:\n",
    "        k (int): Number of pairs of parentheses.\n",
    "\n",
    "    Returns:\n",
    "        str: A balanced parentheses string with k pairs.\n",
    "    \"\"\"\n",
    "    s = []\n",
    "    balance = 0\n",
    "    left_rem = k\n",
    "    right_rem = k\n",
    "\n",
    "    for _ in range(2 * k):\n",
    "        options = []\n",
    "        if left_rem > 0:\n",
    "            options.append(\"(\")\n",
    "        if right_rem > left_rem:\n",
    "            options.append(\")\")\n",
    "        if not options:\n",
    "            raise ValueError(\"No valid options to place a parenthesis.\")\n",
    "\n",
    "        c = random.choice(options)\n",
    "        s.append(c)\n",
    "        if c == \"(\":\n",
    "            left_rem -= 1\n",
    "        else:\n",
    "            right_rem -= 1\n",
    "\n",
    "    return \"\".join(s)\n",
    "\n",
    "\n",
    "def generate_balanced_parentheses(n: int) -> Iterator[str]:\n",
    "    \"\"\"\n",
    "    Generate balanced parentheses strings of even length up to `n`.\n",
    "    This generator produces one balanced string at a time with a randomly selected number of pairs.\n",
    "\n",
    "    Args:\n",
    "        n (int): The maximum length of the parentheses strings (must be even).\n",
    "\n",
    "    Yields:\n",
    "        str: A balanced parentheses string of even length up to `n`.\n",
    "    \"\"\"\n",
    "    if n < 0:\n",
    "        return\n",
    "    while True:\n",
    "        max_pairs = random.randint(0, n // 2)\n",
    "        yield random_balanced_parentheses(max_pairs)\n",
    "\n",
    "\n",
    "def generate_unbalanced_parentheses(n: int) -> Iterator[str]:\n",
    "    \"\"\"\n",
    "    Generate unbalanced parentheses strings of length up to `n`.\n",
    "    Ensures that the generated strings are unbalanced by construction.\n",
    "\n",
    "    Args:\n",
    "        n (int): The maximum length of the parentheses strings.\n",
    "\n",
    "    Yields:\n",
    "        str: An unbalanced parentheses string of length up to `n`.\n",
    "    \"\"\"\n",
    "    while True:\n",
    "        length = random.randint(0, n)\n",
    "        if length == 0:\n",
    "            yield \"\"\n",
    "            continue\n",
    "        if length % 2 == 1:\n",
    "            # Any string of odd length is unbalanced\n",
    "            s = \"\".join(random.choice(\"()\") for _ in range(length))\n",
    "            yield s\n",
    "        else:\n",
    "            # For even lengths, ensure imbalance by violating the balance at some point\n",
    "            s = generate_unbalanced_even_length(length)\n",
    "            yield s\n",
    "\n",
    "\n",
    "def generate_unbalanced_even_length(length: int) -> str:\n",
    "    \"\"\"\n",
    "    Generate an unbalanced parentheses string of even length by ensuring imbalance.\n",
    "\n",
    "    Args:\n",
    "        length (int): The desired length of the string (must be even).\n",
    "\n",
    "    Returns:\n",
    "        str: An unbalanced parentheses string of the specified even length.\n",
    "    \"\"\"\n",
    "    # Start with a balanced string and introduce an imbalance\n",
    "    # Alternatively, build the string ensuring imbalance\n",
    "    s = []\n",
    "    balance = 0\n",
    "    for i in range(length):\n",
    "        if i == 0:\n",
    "            # To introduce imbalance early, start with a ')' if possible\n",
    "            if random.random() < 0.5:\n",
    "                s.append(\")\")\n",
    "                balance -= 1\n",
    "            else:\n",
    "                s.append(\"(\")\n",
    "                balance += 1\n",
    "        else:\n",
    "            if balance <= 0:\n",
    "                # Must place '(', since placing ')' would increase imbalance\n",
    "                s.append(\"(\")\n",
    "                balance += 1\n",
    "            else:\n",
    "                # Can place either '(' or ')', but ensure that by the end, balance != 0\n",
    "                if i < length - 1:\n",
    "                    c = random.choice([\"(\", \")\"])\n",
    "                else:\n",
    "                    # On the last character, force imbalance\n",
    "                    if balance > 1:\n",
    "                        c = \")\"\n",
    "                        balance -= 1\n",
    "                    else:\n",
    "                        c = \"(\"\n",
    "                        balance += 1\n",
    "                s.append(c)\n",
    "                if c == \"(\":\n",
    "                    balance += 1\n",
    "                else:\n",
    "                    balance -= 1\n",
    "    # After building, ensure that the string is unbalanced\n",
    "    if balance == 0:\n",
    "        # Introduce imbalance by flipping the last parenthesis\n",
    "        last = s.pop()\n",
    "        s.append(\")\" if last == \"(\" else \"(\")\n",
    "    return \"\".join(s)\n",
    "\n",
    "\n",
    "def generate_parenthesis_samples_with_ratio(\n",
    "    max_length: int,\n",
    "    balance_ratio: float = 0.5,\n",
    "    random_seed: Optional[int] = None,\n",
    ") -> Iterator[Sample]:\n",
    "    \"\"\"\n",
    "    Generate Sample instances containing parentheses strings and their balance status.\n",
    "    The dataset is balanced based on the specified `balance_ratio`.\n",
    "\n",
    "    Args:\n",
    "        max_length (int): The maximum length of the parentheses strings to generate.\n",
    "        balance_ratio (float): The proportion of balanced samples (between 0 and 1).\n",
    "        random_seed (int, optional): Seed for reproducibility.\n",
    "\n",
    "    Yields:\n",
    "        Sample: A Sample instance.\n",
    "    \"\"\"\n",
    "    if max_length < 0:\n",
    "        raise ValueError(\"max_length must be a non-negative integer.\")\n",
    "    if not (0 <= balance_ratio <= 1):\n",
    "        raise ValueError(\"balance_ratio must be between 0 and 1.\")\n",
    "    if random_seed is not None:\n",
    "        random.seed(random_seed)\n",
    "\n",
    "    balanced_gen = generate_balanced_parentheses(max_length)\n",
    "    unbalanced_gen = generate_unbalanced_parentheses(max_length)\n",
    "\n",
    "    while True:\n",
    "        if random.random() < balance_ratio:\n",
    "            # Generate a balanced string\n",
    "            s = next(balanced_gen)\n",
    "            yield Sample(string=s, is_balanced=True)\n",
    "        else:\n",
    "            # Generate an unbalanced string\n",
    "            s = next(unbalanced_gen)\n",
    "            yield Sample(string=s, is_balanced=False)"
   ]
  },
  {
   "cell_type": "code",
   "execution_count": 59,
   "id": "d053c8c1",
   "metadata": {},
   "outputs": [],
   "source": [
    "cfg = make_model_config()\n",
    "\n",
    "\n",
    "class Constants:\n",
    "    # we pick a power of 2 for faster training, and smaller than 40 to show that it generalizes\n",
    "    MAX_SAMPLE_SIZE_TRAIN = 16\n",
    "    MAX_SAMPLE_SIZE_TEST = 40\n",
    "\n",
    "    BATCH_SIZE = 64  # TODO(bschoen): This can probably be way bigger"
   ]
  },
  {
   "cell_type": "code",
   "execution_count": 60,
   "id": "d20cf716",
   "metadata": {},
   "outputs": [
    {
     "data": {
      "text/plain": [
       "[Sample(string='())(', is_balanced=False),\n",
       " Sample(string=')()()(((((', is_balanced=False),\n",
       " Sample(string=')()((())', is_balanced=False),\n",
       " Sample(string=')(())(', is_balanced=False),\n",
       " Sample(string=')())((())', is_balanced=False),\n",
       " Sample(string='((', is_balanced=False),\n",
       " Sample(string='(((', is_balanced=False),\n",
       " Sample(string=')(((())(', is_balanced=False),\n",
       " Sample(string='()(', is_balanced=False),\n",
       " Sample(string=')(', is_balanced=False)]"
      ]
     },
     "execution_count": 60,
     "metadata": {},
     "output_type": "execute_result"
    }
   ],
   "source": [
    "mi.take(\n",
    "    10,\n",
    "    generate_parenthesis_samples(\n",
    "        max_length=Constants.MAX_SAMPLE_SIZE_TRAIN,\n",
    "    ),\n",
    ")"
   ]
  },
  {
   "cell_type": "code",
   "execution_count": 61,
   "id": "df9b15ce",
   "metadata": {},
   "outputs": [
    {
     "data": {
      "text/plain": [
       "[Sample(string=')', is_balanced=False),\n",
       " Sample(string='(()(()))', is_balanced=True),\n",
       " Sample(string='(', is_balanced=False),\n",
       " Sample(string=')(()()((()))((()(()()))()()())((()', is_balanced=False),\n",
       " Sample(string='(((())))()(())', is_balanced=True),\n",
       " Sample(string='((()))(()(', is_balanced=False),\n",
       " Sample(string='(()', is_balanced=False),\n",
       " Sample(string='()()', is_balanced=True),\n",
       " Sample(string='(()(()))((()((((()())))(())())()()(())))', is_balanced=True),\n",
       " Sample(string='(())((())((((()((()())(()))))(((()', is_balanced=False)]"
      ]
     },
     "execution_count": 61,
     "metadata": {},
     "output_type": "execute_result"
    }
   ],
   "source": [
    "mi.take(\n",
    "    10,\n",
    "    generate_parenthesis_samples_with_ratio(\n",
    "        max_length=Constants.MAX_SAMPLE_SIZE_TEST,\n",
    "        balance_ratio=0.5,\n",
    "        random_seed=42,\n",
    "    ),\n",
    ")"
   ]
  },
  {
   "cell_type": "markdown",
   "id": "1cf44562",
   "metadata": {},
   "source": [
    "# Dataset"
   ]
  },
  {
   "cell_type": "code",
   "execution_count": 48,
   "id": "9f912032",
   "metadata": {},
   "outputs": [],
   "source": [
    "from typing import Self\n",
    "\n",
    "\n",
    "class BracketsDataset(torch.utils.data.Dataset):\n",
    "    \"\"\"\n",
    "    A dataset containing sequences of brackets, labels indicating whether each sequence is balanced,\n",
    "    and tokenized versions of the sequences.\n",
    "\n",
    "    Based on ARENA_3.0/chapter1_transformer_interp/exercises/part51_balanced_bracket_classifier/brackets_datasets.py\n",
    "\n",
    "    Attributes:\n",
    "        strs (List[str]): List of bracket sequences.\n",
    "        isbal (torch.Tensor): Tensor of boolean labels indicating if the sequence is balanced.\n",
    "        toks (torch.Tensor): Tensor of tokenized sequences.\n",
    "        open_proportion (torch.Tensor): Tensor indicating the proportion of '(' in each sequence.\n",
    "        starts_open (torch.Tensor): Tensor indicating if each sequence starts with '('.\n",
    "\n",
    "    \"\"\"\n",
    "\n",
    "    @classmethod\n",
    "    def from_samples(cls, samples: list[Sample]) -> \"BracketsDataset\":\n",
    "        return cls([dataclasses.astuple(x) for x in samples])\n",
    "\n",
    "    def __init__(self, data_tuples: list[tuple[str, bool]]) -> None:\n",
    "        \"\"\"\n",
    "        Initializes the BracketsDataset.\n",
    "\n",
    "        Args:\n",
    "            data_tuples (List[Tuple[str, bool]]): List of tuples where each tuple contains\n",
    "                                                 a bracket sequence and a boolean label.\n",
    "        \"\"\"\n",
    "        super().__init__()\n",
    "        self.tokenizer = SimpleTokenizer(\"()\")\n",
    "        self.strs = [x[0] for x in data_tuples]\n",
    "        self.isbal = torch.tensor([x[1] for x in data_tuples], dtype=torch.bool)\n",
    "        self.toks = self.tokenizer.tokenize(self.strs)\n",
    "        self.open_proportion = torch.tensor(\n",
    "            [s.count(\"(\") / len(s) if len(s) > 0 else 0.0 for s in self.strs], dtype=torch.float\n",
    "        )\n",
    "        self.starts_open = torch.tensor(\n",
    "            [s[0] == \"(\" if len(s) > 0 else False for s in self.strs], dtype=torch.bool\n",
    "        )\n",
    "\n",
    "    def __len__(self) -> int:\n",
    "        \"\"\"\n",
    "        Returns the number of samples in the dataset.\n",
    "\n",
    "        Returns:\n",
    "            int: Number of samples.\n",
    "        \"\"\"\n",
    "        return len(self.strs)\n",
    "\n",
    "    def __getitem__(\n",
    "        self,\n",
    "        idx: int | slice,\n",
    "    ) -> tuple[str, torch.Tensor, torch.Tensor] | Self:\n",
    "        \"\"\"\n",
    "        Retrieves a single sample or a subset of samples.\n",
    "\n",
    "        Args:\n",
    "            idx (int or slice): Index or slice of the dataset.\n",
    "\n",
    "        Returns:\n",
    "            Tuple[str, torch.Tensor, torch.Tensor] or BracketsDataset:\n",
    "                - If idx is an integer, returns a tuple containing the sequence, label, and tokens.\n",
    "                - If idx is a slice, returns a new BracketsDataset instance with the sliced data.\n",
    "        \"\"\"\n",
    "        if isinstance(idx, slice):\n",
    "            sliced_data = list(zip(self.strs[idx], self.isbal[idx].tolist()))\n",
    "            return self.__class__(sliced_data)\n",
    "        elif isinstance(idx, int):\n",
    "            return (self.strs[idx], self.isbal[idx], self.toks[idx])\n",
    "        else:\n",
    "            raise TypeError(\"Index must be an integer or a slice.\")\n",
    "\n",
    "    def to_device(self, device: torch.device) -> \"BracketsDataset\":\n",
    "        \"\"\"\n",
    "        Moves all tensor data to the specified device.\n",
    "\n",
    "        Args:\n",
    "            device (torch.device): The device to move data to.\n",
    "\n",
    "        Returns:\n",
    "            BracketsDataset: The dataset instance with tensors moved to the device.\n",
    "        \"\"\"\n",
    "        self.isbal = self.isbal.to(device)\n",
    "        self.toks = self.toks.to(device)\n",
    "        self.open_proportion = self.open_proportion.to(device)\n",
    "        self.starts_open = self.starts_open.to(device)\n",
    "        return self\n",
    "\n",
    "    @property\n",
    "    def seq_length(self) -> int:\n",
    "        return self.toks.size(-1)\n",
    "\n",
    "    @classmethod\n",
    "    def with_length(\n",
    "        cls,\n",
    "        data_tuples: list[tuple[str, bool]],\n",
    "        selected_len: int,\n",
    "    ) -> \"BracketsDataset\":\n",
    "        return cls([(s, b) for (s, b) in data_tuples if len(s) == selected_len])\n",
    "\n",
    "    @classmethod\n",
    "    def with_start_char(\n",
    "        cls,\n",
    "        data_tuples: list[tuple[str, bool]],\n",
    "        start_char: str,\n",
    "    ) -> \"BracketsDataset\":\n",
    "        return cls([(s, b) for (s, b) in data_tuples if s[0] == start_char])"
   ]
  },
  {
   "cell_type": "code",
   "execution_count": 49,
   "id": "9d7205dc",
   "metadata": {},
   "outputs": [],
   "source": [
    "import seaborn as sns\n",
    "\n",
    "\n",
    "def plot_sequence_length_distribution(\n",
    "    dataset: \"BracketsDataset\",\n",
    "    bins: int | list[int] | None = None,\n",
    ") -> None:\n",
    "    \"\"\"\n",
    "    Plots the distribution of sequence lengths in the dataset.\n",
    "\n",
    "    Args:\n",
    "        dataset (BracketsDataset): The dataset containing bracket sequences.\n",
    "        bins (int or list, optional): Number of bins or bin edges for the histogram.\n",
    "                                      If None, it defaults to the number of unique lengths.\n",
    "    \"\"\"\n",
    "    # Extract lengths from the dataset\n",
    "    lengths = torch.tensor([len(s) for s in dataset.strs]).numpy()\n",
    "\n",
    "    # Define bins if not provided\n",
    "    if bins is None:\n",
    "        unique_lengths = len(set(lengths))\n",
    "        bins = unique_lengths\n",
    "\n",
    "    plt.figure(figsize=(5, 3))\n",
    "    sns.histplot(lengths, bins=bins, kde=False, color=\"skyblue\", edgecolor=\"black\")\n",
    "    plt.title(\"Distribution of Sequence Lengths\")\n",
    "    plt.xlabel(\"Sequence Length\")\n",
    "    plt.ylabel(\"Frequency\")\n",
    "    plt.tight_layout()\n",
    "    plt.show()\n",
    "\n",
    "\n",
    "def plot_sequence_length_vs_balance(dataset: BracketsDataset) -> None:\n",
    "    \"\"\"\n",
    "    Plots the relationship between sequence lengths and their balance status.\n",
    "\n",
    "    Args:\n",
    "        dataset (BracketsDataset): The dataset containing bracket sequences.\n",
    "    \"\"\"\n",
    "    # Create a DataFrame for easier manipulation\n",
    "    df = pd.DataFrame(\n",
    "        {\"length\": [len(s) for s in dataset.strs], \"is_balanced\": dataset.isbal.numpy()}\n",
    "    )\n",
    "\n",
    "    # Calculate counts for each length and balance status\n",
    "    count_df = df.groupby([\"length\", \"is_balanced\"]).size().reset_index(name=\"count\")\n",
    "\n",
    "    # Pivot the DataFrame to have balance statuses as separate columns\n",
    "    pivot_df = count_df.pivot(index=\"length\", columns=\"is_balanced\", values=\"count\").fillna(0)\n",
    "\n",
    "    # Rename columns for clarity\n",
    "    pivot_df = pivot_df.rename(columns={False: \"Unbalanced\", True: \"Balanced\"})\n",
    "\n",
    "    # Plotting\n",
    "    pivot_df.plot(kind=\"bar\", stacked=False, figsize=(5, 3), color=[\"salmon\", \"seagreen\"])\n",
    "\n",
    "    plt.title(\"Sequence Length vs. Balance Status\")\n",
    "    plt.xlabel(\"Sequence Length\")\n",
    "    plt.ylabel(\"Number of Sequences\")\n",
    "    plt.legend(title=\"Balance Status\")\n",
    "    plt.tight_layout()\n",
    "    plt.show()\n",
    "\n",
    "\n",
    "def visualize_bracket_dataset(dataset: BracketsDataset) -> None:\n",
    "\n",
    "    plot_sequence_length_distribution(dataset)\n",
    "    plot_sequence_length_vs_balance(dataset)\n",
    "\n",
    "    # TODO(bschoen): Recomputing these blows up, which is likely why it's stored in dataset\n",
    "    return\n",
    "\n",
    "    # Print some statistics\n",
    "    print(f\"Total sequences: {len(lengths)}\")\n",
    "    print(f\"Balanced sequences: {sum(is_balanced)} ({balanced_percentage:.2f}%)\")\n",
    "    print(\n",
    "        f\"Unbalanced sequences: {len(is_balanced) - sum(is_balanced)} ({100 - balanced_percentage:.2f}%)\"\n",
    "    )\n",
    "    print(f\"Average length: {np.mean(lengths):.2f}\")\n",
    "    print(f\"Median length: {np.median(lengths):.2f}\")\n",
    "    print(f\"Min length: {min(lengths)}\")\n",
    "    print(f\"Max length: {max(lengths)}\")"
   ]
  },
  {
   "cell_type": "markdown",
   "id": "54b023a5",
   "metadata": {},
   "source": [
    "## Create Train Dataset"
   ]
  },
  {
   "cell_type": "code",
   "execution_count": 102,
   "id": "0e6daf63",
   "metadata": {},
   "outputs": [
    {
     "name": "stdout",
     "output_type": "stream",
     "text": [
      "Generating 100000 training samples\n",
      "Generated 66931 unique samples\n",
      "Selecting 6024 validation samples\n",
      "Number of validation samples generated: 6694\n",
      "Sample of validation data: [Sample(string=')(()(())((((()((())))(((((()', is_balanced=False), Sample(string='()()()(()((()))())))())((())()))(((', is_balanced=False), Sample(string=')))))))((', is_balanced=False), Sample(string=')(()()(((()))()(()((()))))()((((()', is_balanced=False), Sample(string='()()()()()()()(())((())((())())(', is_balanced=False)]\n",
      "Training set size: 60237\n",
      "Validation set size: 6694\n"
     ]
    }
   ],
   "source": [
    "# Split samples into train and validation sets\n",
    "torch_random_generator = torch.Generator().manual_seed(42)\n",
    "\n",
    "num_samples_train = 100000\n",
    "\n",
    "print(f\"Generating {num_samples_train} training samples\")\n",
    "all_samples = list(\n",
    "    mi.unique_everseen(\n",
    "        mi.take(\n",
    "            num_samples_train,\n",
    "            generate_parenthesis_samples_with_ratio(\n",
    "                max_length=Constants.MAX_SAMPLE_SIZE_TEST,\n",
    "                balance_ratio=0.2,\n",
    "                random_seed=42,\n",
    "            ),\n",
    "        )\n",
    "    )\n",
    ")\n",
    "print(f\"Generated {len(all_samples)} unique samples\")\n",
    "\n",
    "# Create our validation set with longer ones, so we can tell\n",
    "train_val_split = 0.9\n",
    "num_samples_train = int(len(all_samples) * train_val_split)\n",
    "num_samples_val = int(num_samples_train * (1 - train_val_split)) + 1\n",
    "\n",
    "random.shuffle(all_samples)\n",
    "\n",
    "samples_train = all_samples[:num_samples_train]\n",
    "samples_val = all_samples[num_samples_train:]\n",
    "\n",
    "print(f\"Selecting {num_samples_val} validation samples\")\n",
    "\n",
    "# TODO(bschoen): In general would want to split them perfectly, but doesn't matter here\n",
    "\n",
    "# note: in general can construct val dataset such that is more even split, but nicer to break down by metrics, can do later\n",
    "\"\"\"\n",
    "samples_val: list[Sample] = mi.take(\n",
    "    num_samples_val,\n",
    "    generate_parenthesis_samples_with_ratio(\n",
    "        max_length=Constants.MAX_SAMPLE_SIZE_TEST,\n",
    "        balance_ratio=0.5,\n",
    "        random_seed=42,\n",
    "    ),\n",
    ")\"\"\"\n",
    "\n",
    "dataset_train = BracketsDataset.from_samples(samples_train)\n",
    "dataset_val = BracketsDataset.from_samples(samples_val)\n",
    "\n",
    "# Print some information about the generated samples\n",
    "print(f\"Number of validation samples generated: {len(samples_val)}\")\n",
    "print(f\"Sample of validation data: {samples_val[:5]}\")\n",
    "\n",
    "# Print dataset sizes for verification\n",
    "print(f\"Training set size: {len(dataset_train)}\")\n",
    "print(f\"Validation set size: {len(dataset_val)}\")"
   ]
  },
  {
   "cell_type": "code",
   "execution_count": 103,
   "id": "0b8af750",
   "metadata": {},
   "outputs": [
    {
     "name": "stdout",
     "output_type": "stream",
     "text": [
      "Number of training batches: 942\n",
      "Number of validation batches: 105\n"
     ]
    }
   ],
   "source": [
    "# === Define DataLoaders ===\n",
    "dataloader_train = torch.utils.data.DataLoader(\n",
    "    dataset_train,\n",
    "    batch_size=Constants.BATCH_SIZE,\n",
    "    shuffle=True,\n",
    ")\n",
    "dataloader_val = torch.utils.data.DataLoader(\n",
    "    dataset_val,\n",
    "    batch_size=Constants.BATCH_SIZE,\n",
    "    shuffle=False,\n",
    ")\n",
    "\n",
    "# Calculate and print number of batches\n",
    "num_batches_train = len(dataloader_train)\n",
    "num_batches_val = len(dataloader_val)\n",
    "print(f\"Number of training batches: {num_batches_train}\")\n",
    "print(f\"Number of validation batches: {num_batches_val}\")"
   ]
  },
  {
   "cell_type": "code",
   "execution_count": 104,
   "id": "5dba1fd5",
   "metadata": {},
   "outputs": [
    {
     "name": "stdout",
     "output_type": "stream",
     "text": [
      "Moving model to device:  mps\n",
      "<class 'str'>\n",
      "Labels shape: torch.Size([64])\n",
      "Tokens shape: torch.Size([64, 42])\n",
      "Outputs shape: torch.Size([64, 42, 2])\n",
      "Logits shape: torch.Size([64, 2])\n"
     ]
    }
   ],
   "source": [
    "# try model on single batch\n",
    "cfg = make_model_config()\n",
    "model = create_model(cfg=cfg, tokenizer=tokenizer)\n",
    "\n",
    "# Labels shape: torch.Size([64])\n",
    "# Tokens shape: torch.Size([64, 16])\n",
    "# Outputs shape: torch.Size([64, 16, 2])\n",
    "# Logits shape: torch.Size([64, 2])\n",
    "with torch.no_grad():\n",
    "    for batch in dataloader_train:\n",
    "        strings, labels, tokens = batch\n",
    "\n",
    "        print(type(strings[1]))\n",
    "\n",
    "        labels = labels.to(device)\n",
    "        tokens = tokens.to(device)\n",
    "\n",
    "        print(f\"Labels shape: {labels.shape}\")  # Print shape of labels\n",
    "        print(f\"Tokens shape: {tokens.shape}\")  # Print shape of tokens\n",
    "\n",
    "        outputs = model(tokens)\n",
    "        print(f\"Outputs shape: {outputs.shape}\")  # Print shape of outputs\n",
    "\n",
    "        logits = outputs[:, 0]\n",
    "\n",
    "        print(f\"Logits shape: {logits.shape}\")  # Print shape of logits\n",
    "\n",
    "        break"
   ]
  },
  {
   "cell_type": "code",
   "execution_count": 105,
   "id": "0810809a",
   "metadata": {},
   "outputs": [
    {
     "data": {
      "image/png": "[encoded data removed]",
      "text/plain": [
       "<Figure size 500x300 with 1 Axes>"
      ]
     },
     "metadata": {},
     "output_type": "display_data"
    },
    {
     "data": {
      "image/png": "[encoded data removed]",
      "text/plain": [
       "<Figure size 500x300 with 1 Axes>"
      ]
     },
     "metadata": {},
     "output_type": "display_data"
    }
   ],
   "source": [
    "visualize_bracket_dataset(dataset_train)"
   ]
  },
  {
   "cell_type": "code",
   "execution_count": 106,
   "id": "a5d92e34",
   "metadata": {},
   "outputs": [
    {
     "data": {
      "image/png": "[encoded data removed]",
      "text/plain": [
       "<Figure size 500x300 with 1 Axes>"
      ]
     },
     "metadata": {},
     "output_type": "display_data"
    },
    {
     "data": {
      "image/png": "[encoded data removed]",
      "text/plain": [
       "<Figure size 500x300 with 1 Axes>"
      ]
     },
     "metadata": {},
     "output_type": "display_data"
    }
   ],
   "source": [
    "visualize_bracket_dataset(dataset_val)"
   ]
  },
  {
   "cell_type": "markdown",
   "id": "cd9474c9",
   "metadata": {},
   "source": [
    "# Training"
   ]
  },
  {
   "cell_type": "code",
   "execution_count": null,
   "id": "6dcff1a9",
   "metadata": {},
   "outputs": [],
   "source": []
  },
  {
   "cell_type": "code",
   "execution_count": 107,
   "id": "0185edd2",
   "metadata": {},
   "outputs": [],
   "source": [
    "import tqdm\n",
    "\n",
    "\n",
    "def calculate_accuracy(\n",
    "    preds: Float[torch.Tensor, \"batch num_classes=2\"],\n",
    "    labels: Int[torch.Tensor, \"batch\"],\n",
    ") -> float:\n",
    "    \"\"\"\n",
    "    Calculate the overall accuracy of predictions.\n",
    "\n",
    "    Args:\n",
    "        preds (torch.Tensor): Predicted logits or probabilities, shape (batch_size, num_classes).\n",
    "        labels (torch.Tensor): True labels, shape (batch_size).\n",
    "\n",
    "    Returns:\n",
    "        float: Overall accuracy.\n",
    "    \"\"\"\n",
    "    _, pred_classes = torch.max(preds, dim=1)\n",
    "    correct = pred_classes == labels\n",
    "    return correct.float().mean().item()\n",
    "\n",
    "\n",
    "def train_one_epoch(\n",
    "    model: transformer_lens.HookedTransformer,\n",
    "    dataloader: torch.utils.data.DataLoader,\n",
    "    criterion: nn.Module,\n",
    "    optimizer: optim.Optimizer,\n",
    "    device: torch.device,\n",
    "    max_batches: int | None = None,\n",
    ") -> tuple[float, float]:\n",
    "    \"\"\"\n",
    "    Train the model for one epoch.\n",
    "\n",
    "    Args:\n",
    "        model (transformer_lens.HookedTransformer): The model to train.\n",
    "        dataloader (DataLoader): DataLoader for training data.\n",
    "        criterion (nn.Module): Loss function.\n",
    "        optimizer (optim.Optimizer): Optimizer.\n",
    "        device (torch.device): Device to run the training on.\n",
    "        max_batches (int | None): Maximum number of batches to process.\n",
    "\n",
    "    Returns:\n",
    "        tuple[float, float]: Average training loss and accuracy.\n",
    "    \"\"\"\n",
    "    model.train()\n",
    "\n",
    "    running_loss = 0.0\n",
    "    running_acc = 0.0\n",
    "    total_samples = 0\n",
    "\n",
    "    for batch_index, batch in tqdm.tqdm(enumerate(dataloader), desc=\"Training\", leave=False):\n",
    "\n",
    "        if max_batches is not None and batch_index >= max_batches:\n",
    "            break\n",
    "\n",
    "        _, labels, inputs = batch  # batch is (strs, isbal, toks)\n",
    "        inputs = inputs.to(device)\n",
    "        labels = labels.to(device)\n",
    "\n",
    "        optimizer.zero_grad()\n",
    "\n",
    "        outputs: Float[torch.Tensor, \"batch seq num_classes=2\"] = model(inputs)\n",
    "\n",
    "        # note: this is because we throw away everything but the first position\n",
    "        logits: Float[torch.Tensor, \"batch num_classes=2\"] = outputs[:, 0]\n",
    "\n",
    "        loss = criterion(logits, labels)\n",
    "\n",
    "        loss.backward()\n",
    "\n",
    "        optimizer.step()\n",
    "\n",
    "        batch_size = inputs.size(0)\n",
    "        total_samples += batch_size\n",
    "        running_loss += loss.item() * batch_size\n",
    "\n",
    "        # Calculate accuracy for this batch\n",
    "        batch_acc = calculate_accuracy(logits, labels)\n",
    "        running_acc += batch_acc * batch_size\n",
    "\n",
    "    epoch_loss = running_loss / total_samples\n",
    "    epoch_acc = running_acc / total_samples\n",
    "\n",
    "    return epoch_loss, epoch_acc\n",
    "\n",
    "\n",
    "def evaluate(\n",
    "    model: transformer_lens.HookedTransformer,\n",
    "    dataloader: torch.utils.data.DataLoader,\n",
    "    criterion: nn.Module,\n",
    "    device: torch.device,\n",
    ") -> tuple[float, float]:\n",
    "    \"\"\"\n",
    "    Evaluate the model on the validation set.\n",
    "\n",
    "    Args:\n",
    "        model (transformer_lens.HookedTransformer): The model to evaluate.\n",
    "        dataloader (DataLoader): DataLoader for validation data.\n",
    "        criterion (nn.Module): Loss function.\n",
    "        device (torch.device): Device to run the evaluation on.\n",
    "\n",
    "    Returns:\n",
    "        tuple[float, float]: Average validation loss and accuracy\n",
    "    \"\"\"\n",
    "    model.eval()\n",
    "    running_loss = 0.0\n",
    "    running_acc = 0.0\n",
    "    total_samples = 0\n",
    "\n",
    "    with torch.no_grad():\n",
    "        for batch in tqdm.tqdm(dataloader, desc=\"Evaluating\", leave=False):\n",
    "\n",
    "            _, labels, inputs = batch\n",
    "            inputs = inputs.to(device)\n",
    "            labels = labels.to(device)\n",
    "\n",
    "            outputs: Float[torch.Tensor, \"batch seq num_classes=2\"] = model(inputs)\n",
    "\n",
    "            # note: this is because we throw away everything but the first position\n",
    "            logits: Float[torch.Tensor, \"batch num_classes=2\"] = outputs[:, 0]\n",
    "            loss = criterion(logits, labels)\n",
    "            acc = calculate_accuracy(logits, labels)\n",
    "\n",
    "            batch_size = inputs.size(0)\n",
    "            total_samples += batch_size\n",
    "            running_loss += loss.item() * batch_size\n",
    "            running_acc += acc * batch_size\n",
    "\n",
    "    # Calculate epoch metrics\n",
    "    epoch_loss = running_loss / total_samples\n",
    "    epoch_acc = running_acc / total_samples\n",
    "\n",
    "    return epoch_loss, epoch_acc"
   ]
  },
  {
   "cell_type": "code",
   "execution_count": 108,
   "id": "4f04c02a",
   "metadata": {},
   "outputs": [],
   "source": [
    "import wandb\n",
    "\n",
    "\n",
    "# === Helper Functions for Logging and Printing ===\n",
    "def print_accuracy_metrics(acc: float, prefix: str = \"\"):\n",
    "    \"\"\"Print accuracy metrics for a given dataset.\"\"\"\n",
    "    print(f\"{prefix}Overall Acc: {acc*100:.2f}%\")\n",
    "    # Note: Detailed per-class and per-length metrics are no longer available\n",
    "\n",
    "\n",
    "def log_metrics_to_wandb(\n",
    "    train_loss: float,\n",
    "    train_acc: float,\n",
    "    val_loss: float,\n",
    "    val_acc: float,\n",
    "    epoch: int,\n",
    ") -> None:\n",
    "    \"\"\"Log metrics to wandb.\"\"\"\n",
    "    log_dict = {\n",
    "        \"train_loss\": train_loss,\n",
    "        \"train_acc\": train_acc,\n",
    "        \"val_loss\": val_loss,\n",
    "        \"val_acc\": val_acc,\n",
    "        \"epoch\": epoch,\n",
    "    }\n",
    "\n",
    "    # Note: Per-class and per-length accuracies are no longer available\n",
    "\n",
    "    wandb.log(log_dict)"
   ]
  },
  {
   "cell_type": "markdown",
   "id": "f6867408",
   "metadata": {},
   "source": [
    "## Overfit on small batch first"
   ]
  },
  {
   "cell_type": "code",
   "execution_count": 109,
   "id": "91809a83",
   "metadata": {},
   "outputs": [
    {
     "data": {
      "text/html": [
       "wandb version 0.18.1 is available!  To upgrade, please run:\n",
       " $ pip install wandb --upgrade"
      ],
      "text/plain": [
       "<IPython.core.display.HTML object>"
      ]
     },
     "metadata": {},
     "output_type": "display_data"
    },
    {
     "data": {
      "text/html": [
       "Tracking run with wandb version 0.17.7"
      ],
      "text/plain": [
       "<IPython.core.display.HTML object>"
      ]
     },
     "metadata": {},
     "output_type": "display_data"
    },
    {
     "data": {
      "text/html": [
       "Run data is saved locally in <code>/Users/bronsonschoen/gpt_from_scratch/wandb/run-20240920_193026-4oxl20aw</code>"
      ],
      "text/plain": [
       "<IPython.core.display.HTML object>"
      ]
     },
     "metadata": {},
     "output_type": "display_data"
    },
    {
     "data": {
      "text/html": [
       "Syncing run <strong><a href='https://wandb.ai/bronsonschoen-personal-use/balanced_brackets_classification_v2/runs/4oxl20aw' target=\"_blank\">frosty-wave-17</a></strong> to <a href='https://wandb.ai/bronsonschoen-personal-use/balanced_brackets_classification_v2' target=\"_blank\">Weights & Biases</a> (<a href='https://wandb.me/run' target=\"_blank\">docs</a>)<br/>"
      ],
      "text/plain": [
       "<IPython.core.display.HTML object>"
      ]
     },
     "metadata": {},
     "output_type": "display_data"
    },
    {
     "data": {
      "text/html": [
       " View project at <a href='https://wandb.ai/bronsonschoen-personal-use/balanced_brackets_classification_v2' target=\"_blank\">https://wandb.ai/bronsonschoen-personal-use/balanced_brackets_classification_v2</a>"
      ],
      "text/plain": [
       "<IPython.core.display.HTML object>"
      ]
     },
     "metadata": {},
     "output_type": "display_data"
    },
    {
     "data": {
      "text/html": [
       " View run at <a href='https://wandb.ai/bronsonschoen-personal-use/balanced_brackets_classification_v2/runs/4oxl20aw' target=\"_blank\">https://wandb.ai/bronsonschoen-personal-use/balanced_brackets_classification_v2/runs/4oxl20aw</a>"
      ],
      "text/plain": [
       "<IPython.core.display.HTML object>"
      ]
     },
     "metadata": {},
     "output_type": "display_data"
    },
    {
     "name": "stdout",
     "output_type": "stream",
     "text": [
      "Moving model to device:  mps\n"
     ]
    },
    {
     "name": "stderr",
     "output_type": "stream",
     "text": [
      "                                 \r"
     ]
    },
    {
     "name": "stdout",
     "output_type": "stream",
     "text": [
      "[Epoch 1/10] Train Loss: 0.452351, Train Acc: 0.820781\n"
     ]
    },
    {
     "name": "stderr",
     "output_type": "stream",
     "text": [
      "                                                             \r"
     ]
    },
    {
     "name": "stdout",
     "output_type": "stream",
     "text": [
      "[Epoch 1/10] Val Loss: 0.405536, Val Acc: 0.820884\n"
     ]
    },
    {
     "name": "stderr",
     "output_type": "stream",
     "text": [
      "                                 \r"
     ]
    },
    {
     "name": "stdout",
     "output_type": "stream",
     "text": [
      "[Epoch 2/10] Train Loss: 0.265366, Train Acc: 0.877812\n"
     ]
    },
    {
     "name": "stderr",
     "output_type": "stream",
     "text": [
      "                                                             \r"
     ]
    },
    {
     "name": "stdout",
     "output_type": "stream",
     "text": [
      "[Epoch 2/10] Val Loss: 0.135534, Val Acc: 0.947266\n"
     ]
    },
    {
     "name": "stderr",
     "output_type": "stream",
     "text": [
      "                                  \r"
     ]
    },
    {
     "name": "stdout",
     "output_type": "stream",
     "text": [
      "[Epoch 3/10] Train Loss: 0.119904, Train Acc: 0.953125\n"
     ]
    },
    {
     "name": "stderr",
     "output_type": "stream",
     "text": [
      "                                                              \r"
     ]
    },
    {
     "name": "stdout",
     "output_type": "stream",
     "text": [
      "[Epoch 3/10] Val Loss: 0.107472, Val Acc: 0.956379\n"
     ]
    },
    {
     "name": "stderr",
     "output_type": "stream",
     "text": [
      "                                 \r"
     ]
    },
    {
     "name": "stdout",
     "output_type": "stream",
     "text": [
      "[Epoch 4/10] Train Loss: 0.069949, Train Acc: 0.972812\n"
     ]
    },
    {
     "name": "stderr",
     "output_type": "stream",
     "text": [
      "                                                              \r"
     ]
    },
    {
     "name": "stdout",
     "output_type": "stream",
     "text": [
      "[Epoch 4/10] Val Loss: 0.056954, Val Acc: 0.978936\n"
     ]
    },
    {
     "name": "stderr",
     "output_type": "stream",
     "text": [
      "                                  \r"
     ]
    },
    {
     "name": "stdout",
     "output_type": "stream",
     "text": [
      "[Epoch 5/10] Train Loss: 0.031429, Train Acc: 0.989844\n"
     ]
    },
    {
     "name": "stderr",
     "output_type": "stream",
     "text": [
      "                                                             \r"
     ]
    },
    {
     "name": "stdout",
     "output_type": "stream",
     "text": [
      "[Epoch 5/10] Val Loss: 0.023611, Val Acc: 0.992082\n"
     ]
    },
    {
     "name": "stderr",
     "output_type": "stream",
     "text": [
      "                                  \r"
     ]
    },
    {
     "name": "stdout",
     "output_type": "stream",
     "text": [
      "[Epoch 6/10] Train Loss: 0.018962, Train Acc: 0.994062\n"
     ]
    },
    {
     "name": "stderr",
     "output_type": "stream",
     "text": [
      "                                                             \r"
     ]
    },
    {
     "name": "stdout",
     "output_type": "stream",
     "text": [
      "[Epoch 6/10] Val Loss: 0.017113, Val Acc: 0.994174\n"
     ]
    },
    {
     "name": "stderr",
     "output_type": "stream",
     "text": [
      "                                  \r"
     ]
    },
    {
     "name": "stdout",
     "output_type": "stream",
     "text": [
      "[Epoch 7/10] Train Loss: 0.007834, Train Acc: 0.998750\n"
     ]
    },
    {
     "name": "stderr",
     "output_type": "stream",
     "text": [
      "                                                              \r"
     ]
    },
    {
     "name": "stdout",
     "output_type": "stream",
     "text": [
      "[Epoch 7/10] Val Loss: 0.008816, Val Acc: 0.997759\n"
     ]
    },
    {
     "name": "stderr",
     "output_type": "stream",
     "text": [
      "                                  \r"
     ]
    },
    {
     "name": "stdout",
     "output_type": "stream",
     "text": [
      "[Epoch 8/10] Train Loss: 0.008624, Train Acc: 0.998437\n"
     ]
    },
    {
     "name": "stderr",
     "output_type": "stream",
     "text": [
      "                                                             \r"
     ]
    },
    {
     "name": "stdout",
     "output_type": "stream",
     "text": [
      "[Epoch 8/10] Val Loss: 0.031368, Val Acc: 0.988049\n"
     ]
    },
    {
     "name": "stderr",
     "output_type": "stream",
     "text": [
      "                                  \r"
     ]
    },
    {
     "name": "stdout",
     "output_type": "stream",
     "text": [
      "[Epoch 9/10] Train Loss: 0.046240, Train Acc: 0.983750\n"
     ]
    },
    {
     "name": "stderr",
     "output_type": "stream",
     "text": [
      "                                                              \r"
     ]
    },
    {
     "name": "stdout",
     "output_type": "stream",
     "text": [
      "[Epoch 9/10] Val Loss: 0.111568, Val Acc: 0.954736\n"
     ]
    },
    {
     "name": "stderr",
     "output_type": "stream",
     "text": [
      "                                  \r"
     ]
    },
    {
     "name": "stdout",
     "output_type": "stream",
     "text": [
      "[Epoch 10/10] Train Loss: 0.021948, Train Acc: 0.992656\n"
     ]
    },
    {
     "name": "stderr",
     "output_type": "stream",
     "text": [
      "                                                             \r"
     ]
    },
    {
     "name": "stdout",
     "output_type": "stream",
     "text": [
      "[Epoch 10/10] Val Loss: 0.011743, Val Acc: 0.996415\n"
     ]
    }
   ],
   "source": [
    "from dataclasses import dataclass\n",
    "\n",
    "\n",
    "# note: you can directly use the wandb config!\n",
    "@dataclass\n",
    "class TrainConfig:\n",
    "    num_epochs: int = 10\n",
    "    batch_size: int = Constants.BATCH_SIZE\n",
    "    learning_rate: float = 1e-4\n",
    "    max_length: int = Constants.MAX_SAMPLE_SIZE_TRAIN\n",
    "    eval_every_n_epochs: int = 1\n",
    "    random_seed: int = 42\n",
    "    max_batches_train: int | None = 100\n",
    "\n",
    "\n",
    "train_cfg = TrainConfig()\n",
    "\n",
    "# Initialize wandb\n",
    "wandb.init(project=\"balanced_brackets_classification_v2\", config=dataclasses.asdict(train_cfg))\n",
    "\n",
    "model_cfg = make_model_config()\n",
    "model = create_model(cfg=model_cfg, tokenizer=tokenizer)\n",
    "\n",
    "# === Define Loss Function and Optimizer ===\n",
    "criterion = nn.CrossEntropyLoss()\n",
    "optimizer = optim.AdamW(model.parameters(), lr=train_cfg.learning_rate, weight_decay=0.1)\n",
    "\n",
    "# === Training Loop ===\n",
    "for epoch in range(1, train_cfg.num_epochs + 1):\n",
    "\n",
    "    train_loss, train_acc = train_one_epoch(\n",
    "        model, dataloader_train, criterion, optimizer, device, train_cfg.max_batches_train\n",
    "    )\n",
    "\n",
    "    # Print training metrics\n",
    "    print(\n",
    "        f\"[Epoch {epoch}/{train_cfg.num_epochs}] Train Loss: {train_loss:.6f}, Train Acc: {train_acc:.6f}\"\n",
    "    )\n",
    "\n",
    "    # Log every `eval_every_n_epochs` or at the end\n",
    "    if (epoch % train_cfg.eval_every_n_epochs) == 0 or epoch == train_cfg.num_epochs:\n",
    "\n",
    "        val_loss, val_acc = evaluate(model, dataloader_val, criterion, device)\n",
    "\n",
    "        # Log metrics to wandb\n",
    "        log_metrics_to_wandb(train_loss, train_acc, val_loss, val_acc, epoch)\n",
    "\n",
    "        # Print validation metrics\n",
    "        print(\n",
    "            f\"[Epoch {epoch}/{train_cfg.num_epochs}] Val Loss: {val_loss:.6f}, Val Acc: {val_acc:.6f}\"\n",
    "        )\n",
    "\n",
    "# Finish the wandb run\n",
    "wandb.finish()"
   ]
  },
  {
   "cell_type": "code",
   "execution_count": null,
   "id": "1bd05c93",
   "metadata": {},
   "outputs": [],
   "source": [
    "transformer_lens.utils."
   ]
  },
  {
   "cell_type": "code",
   "execution_count": null,
   "id": "9414e5e4",
   "metadata": {},
   "outputs": [],
   "source": []
  },
  {
   "cell_type": "code",
   "execution_count": null,
   "id": "ebfa2f6b",
   "metadata": {},
   "outputs": [],
   "source": []
  },
  {
   "cell_type": "code",
   "execution_count": null,
   "id": "a8becf99",
   "metadata": {},
   "outputs": [],
   "source": []
  },
  {
   "cell_type": "markdown",
   "id": "03816c33",
   "metadata": {},
   "source": [
    "## Load Test Dataset"
   ]
  },
  {
   "cell_type": "code",
   "execution_count": null,
   "id": "af312a55",
   "metadata": {},
   "outputs": [
    {
     "name": "stdout",
     "output_type": "stream",
     "text": [
      "loaded 100000 examples\n"
     ]
    }
   ],
   "source": [
    "\"\"\"\n",
    "Each training example consists of [start], up to 40 parens, [end], and then as many [pad] as necessary.\n",
    "\n",
    "In the dataset we're using, half the sequences are balanced, and half are unbalanced. Having an equal distribution is on purpose to make it easier for the model.\n",
    "\"\"\"\n",
    "\n",
    "import pathlib\n",
    "import json\n",
    "\n",
    "bracket_data_filepath = pathlib.Path(\n",
    "    \"gpt_from_scratch/ARENA_3.0/\"\n",
    "    \"chapter1_transformer_interp/exercises/\"\n",
    "    \"part51_balanced_bracket_classifier/brackets_data.json\"\n",
    ").resolve()\n",
    "\n",
    "assert bracket_data_filepath.exists()\n",
    "\n",
    "N_SAMPLES = 5000\n",
    "with open(bracket_data_filepath, \"rt\") as file:\n",
    "    data_tuples: tuple[str, bool] = json.load(file)\n",
    "    print(f\"loaded {len(data_tuples)} examples\")\n",
    "\n",
    "assert isinstance(data_tuples, list)\n",
    "\n",
    "data_tuples = data_tuples[:N_SAMPLES]\n",
    "data = BracketsDataset(data_tuples).to(device)\n",
    "data_mini = BracketsDataset(data_tuples[:100]).to(device)"
   ]
  },
  {
   "cell_type": "code",
   "execution_count": null,
   "id": "6bfb3be6",
   "metadata": {},
   "outputs": [
    {
     "data": {
      "image/png": "[encoded data removed]",
      "text/plain": [
       "<Figure size 1000x600 with 1 Axes>"
      ]
     },
     "metadata": {},
     "output_type": "display_data"
    },
    {
     "data": {
      "image/png": "[encoded data removed]",
      "text/plain": [
       "<Figure size 1000x600 with 2 Axes>"
      ]
     },
     "metadata": {},
     "output_type": "display_data"
    },
    {
     "name": "stdout",
     "output_type": "stream",
     "text": [
      "Total sequences: 5000\n",
      "Balanced sequences: 2284 (45.68%)\n",
      "Unbalanced sequences: 2716 (54.32%)\n",
      "Average length: 16.01\n",
      "Median length: 14.00\n",
      "Min length: 2\n",
      "Max length: 40\n"
     ]
    }
   ],
   "source": []
  },
  {
   "cell_type": "code",
   "execution_count": null,
   "id": "6e169907",
   "metadata": {},
   "outputs": [
    {
     "data": {
      "text/plain": [
       "('(()(()()())())',\n",
       " tensor(True, device='mps:0'),\n",
       " tensor([0, 3, 3, 4, 3, 3, 4, 3, 4, 3, 4, 4, 3, 4, 4, 2, 1, 1, 1, 1, 1, 1, 1, 1,\n",
       "         1, 1, 1, 1, 1, 1, 1, 1, 1, 1, 1, 1, 1, 1, 1, 1, 1, 1], device='mps:0'))"
      ]
     },
     "execution_count": 14,
     "metadata": {},
     "output_type": "execute_result"
    }
   ],
   "source": [
    "data_mini[5]"
   ]
  },
  {
   "cell_type": "code",
   "execution_count": null,
   "id": "351551f9",
   "metadata": {},
   "outputs": [],
   "source": []
  }
 ],
 "metadata": {
  "kernelspec": {
   "display_name": "Python 3 (ipykernel)",
   "language": "python",
   "name": "python3"
  },
  "language_info": {
   "codemirror_mode": {
    "name": "ipython",
    "version": 3
   },
   "file_extension": ".py",
   "mimetype": "text/x-python",
   "name": "python",
   "nbconvert_exporter": "python",
   "pygments_lexer": "ipython3",
   "version": "3.12.5"
  }
 },
 "nbformat": 4,
 "nbformat_minor": 5
}
