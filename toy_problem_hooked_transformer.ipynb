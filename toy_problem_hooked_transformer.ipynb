{
 "cells": [
  {
   "cell_type": "code",
   "execution_count": 1,
   "id": "ad3674b7-cdcf-411d-80c5-ca44b425ae36",
   "metadata": {},
   "outputs": [],
   "source": [
    "%load_ext autoreload\n",
    "%autoreload 2\n"
   ]
  },
  {
   "cell_type": "markdown",
   "id": "baaaf1cc",
   "metadata": {},
   "source": [
    "# HookedTransformer\n",
    "\n",
    "* [TransformerLens - Tutorial - Trains HookedTransformer from Scratch](https://colab.research.google.com/github/TransformerLensOrg/TransformerLens/blob/main/demos/No_Position_Experiment.ipynb)\n",
    "\n",
    "```python\n",
    "import transformers\n",
    "\n",
    "class HookedTransformer:\n",
    "    cfg: HookedTransformerConfig\n",
    "    \n",
    "    # note: unlike EasyTransformer, HookedTransformer\n",
    "    #       does not allow passing in a tokenizer other than by name,\n",
    "    #       it needs to be set here\n",
    "    #\n",
    "    # note: it's probably easier to just operate on tokens outside of the model,\n",
    "    #       that'll also make it clearer where tokenizer is used\n",
    "    def set_tokenizer(self, tokenizer: transformers.PreTrainedTokenizer) -> None:\n",
    "        self.tokenizer = tokenizer\n",
    "```"
   ]
  },
  {
   "cell_type": "code",
   "execution_count": 2,
   "id": "76467a9d",
   "metadata": {},
   "outputs": [],
   "source": [
    "import transformer_lens"
   ]
  },
  {
   "cell_type": "code",
   "execution_count": 3,
   "id": "5605e578",
   "metadata": {},
   "outputs": [
    {
     "name": "stdout",
     "output_type": "stream",
     "text": [
      "Using device: mps\n"
     ]
    }
   ],
   "source": [
    "device = transformer_lens.utils.get_device()\n",
    "\n",
    "print(f'Using device: {device}')"
   ]
  },
  {
   "cell_type": "code",
   "execution_count": null,
   "id": "ae1e9839",
   "metadata": {},
   "outputs": [],
   "source": [
    "cfg = transformer_lens.HookedTransformerConfig(\n",
    "    n_layers=2,\n",
    "    d_model=64,\n",
    "    d_head=64,\n",
    "    n_heads=1,\n",
    "    d_mlp=256,\n",
    "    d_vocab=300,\n",
    "    n_ctx=50,\n",
    "    act_fn=\"relu\",\n",
    "    normalization_type=\"LN\",\n",
    "    device=device,\n",
    ")\n",
    "model =transformer_lens.HookedTransformer(cfg)"
   ]
  },
  {
   "cell_type": "code",
   "execution_count": null,
   "id": "ed6655e2",
   "metadata": {},
   "outputs": [],
   "source": [
    "# make a naive tokenizer that just maps each unique char as a token\n",
    "import dataclasses\n",
    "\n",
    "# note: just used for visualization\n",
    "from gpt_from_scratch import tokenizer_utils\n",
    "\n",
    "TokenInt = int\n",
    "Byte = int\n",
    "\n",
    "@dataclasses.dataclass(frozen=True)\n",
    "class NaiveTokenizer:\n",
    "    \"\"\"\n",
    "    Naive tokenizer that maps each unique byte to a unique token\n",
    "    \"\"\"\n",
    "\n",
    "    # note: store both for fast lookup during both encoding and decoding\n",
    "    byte_to_token_dict: dict[Byte, TokenInt]\n",
    "    token_to_byte_dict: dict[TokenInt, Byte]\n",
    "\n",
    "    @classmethod\n",
    "    def from_text(cls, text: str) -> 'NaiveTokenizer':\n",
    "\n",
    "        byte_to_token_dict: dict[Byte, TokenInt] = {}\n",
    "        token_to_byte_dict: dict[TokenInt, Byte] = {}\n",
    "        \n",
    "        text_as_bytes = text.encode('utf-8')\n",
    "\n",
    "        unique_bytes = set(text_as_bytes)\n",
    "\n",
    "        for index, unique_byte in enumerate(unique_bytes):\n",
    "            byte_to_token_dict[unique_byte] = index\n",
    "            token_to_byte_dict[index] = unique_byte\n",
    "\n",
    "        return cls(\n",
    "            byte_to_token_dict=byte_to_token_dict,\n",
    "            token_to_byte_dict=token_to_byte_dict,\n",
    "        )\n",
    "\n",
    "    def decode(self, encoded_bytes: list[int]) -> str:\n",
    "\n",
    "        return ''.join(self.token_to_byte_dict[token] for token in encoded_bytes)\n",
    "\n",
    "    def encode(self, text: str) -> list[int]:\n",
    "\n",
    "        text_as_bytes = text.encode('utf-8')\n",
    "\n",
    "        return [self.byte_to_token_dict[byte] for byte in text_as_bytes]\n",
    "\n",
    "    def decode(self, encoded_bytes: list[TokenInt]) -> str:\n",
    "\n",
    "        # given ids (list of integers), return Python string\n",
    "        vocab_byte_string = b\"\".join(\n",
    "            self.token_to_byte_dict[encoded_byte] for encoded_byte in encoded_bytes\n",
    "        )\n",
    "\n",
    "        # replace with special marker (�) for any bytes that can't be decoded\n",
    "        # UTF-8 requires special start tokens for multi-byte\n",
    "        # standard practice is to use `errors=\"replace\"`\n",
    "        text = vocab_byte_string.decode(\"utf-8\", errors=\"replace\")\n",
    "\n",
    "        return text\n",
    "\n",
    "    # for compatibility with tiktoken\n",
    "    def decode_single_token_bytes(self, encoded_byte: TokenInt) -> bytes:\n",
    "\n",
    "        return self.token_to_byte_dict[encoded_byte]"
   ]
  },
  {
   "cell_type": "code",
   "execution_count": null,
   "id": "63ff3e7f",
   "metadata": {},
   "outputs": [],
   "source": []
  }
 ],
 "metadata": {
  "kernelspec": {
   "display_name": "Python 3 (ipykernel)",
   "language": "python",
   "name": "python3"
  },
  "language_info": {
   "codemirror_mode": {
    "name": "ipython",
    "version": 3
   },
   "file_extension": ".py",
   "mimetype": "text/x-python",
   "name": "python",
   "nbconvert_exporter": "python",
   "pygments_lexer": "ipython3",
   "version": "3.12.5"
  }
 },
 "nbformat": 4,
 "nbformat_minor": 5
}
