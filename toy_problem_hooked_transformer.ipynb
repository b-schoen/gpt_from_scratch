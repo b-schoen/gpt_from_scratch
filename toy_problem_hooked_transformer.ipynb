{
 "cells": [
  {
   "cell_type": "code",
   "execution_count": 1,
   "id": "ad3674b7-cdcf-411d-80c5-ca44b425ae36",
   "metadata": {},
   "outputs": [],
   "source": [
    "%load_ext autoreload\n",
    "%autoreload 2\n"
   ]
  },
  {
   "cell_type": "code",
   "execution_count": 2,
   "id": "1c7d994a",
   "metadata": {},
   "outputs": [],
   "source": [
    "from typing import Iterable"
   ]
  },
  {
   "cell_type": "markdown",
   "id": "baaaf1cc",
   "metadata": {},
   "source": [
    "# HookedTransformer\n",
    "\n",
    "* [TransformerLens - Tutorial - Trains HookedTransformer from Scratch](https://colab.research.google.com/github/TransformerLensOrg/TransformerLens/blob/main/demos/No_Position_Experiment.ipynb)\n",
    "\n",
    "```python\n",
    "import transformers\n",
    "\n",
    "# note: it's probably easier to just operate on tokens outside of the model,\n",
    "#       that'll also make it clearer where tokenizer is used\n",
    "#\n",
    "# okay wrapping a pretrained tokenizer *can* be done:\n",
    "# - https://huggingface.co/learn/nlp-course/chapter6/8#building-a-bpe-tokenizer-from-scratch\n",
    "# - but none of the models support just naive encoding\n",
    "#   - https://huggingface.co/docs/tokenizers/api/models#tokenizers.models.BPE\n",
    "class HookedTransformer:\n",
    "    cfg: HookedTransformerConfig\n",
    "\n",
    "    # note: actually does an `isinstance` check in the constructor\n",
    "    tokenizer: transformers.PreTrainedTokenizerBase | None\n",
    "```"
   ]
  },
  {
   "cell_type": "code",
   "execution_count": 3,
   "id": "76467a9d",
   "metadata": {},
   "outputs": [],
   "source": [
    "import transformer_lens\n",
    "\n",
    "from jaxtyping import Int64, Float32\n",
    "\n",
    "import numpy as np\n",
    "import plotly.express as px\n",
    "import plotly.io as pio\n",
    "\n",
    "import torch\n",
    "import torch.utils.data"
   ]
  },
  {
   "cell_type": "code",
   "execution_count": 4,
   "id": "cbd75509",
   "metadata": {},
   "outputs": [],
   "source": [
    "# plotting code copied over from transformer_lens tutorial notebook\n",
    "\n",
    "\n",
    "def line(tensor: torch.Tensor, line_labels=None, yaxis=\"\", xaxis=\"\", **kwargs):\n",
    "    tensor = transformer_lens.utils.to_numpy(tensor)\n",
    "    labels = {\"y\": yaxis, \"x\": xaxis}\n",
    "    fig = px.line(tensor, labels=labels, **kwargs)\n",
    "    if line_labels:\n",
    "        for c, label in enumerate(line_labels):\n",
    "            fig.data[c].name = label\n",
    "    fig.show()\n",
    "\n",
    "\n",
    "def imshow(tensor: torch.Tensor, yaxis=\"\", xaxis=\"\", **kwargs):\n",
    "    tensor = transformer_lens.utils.to_numpy(tensor)\n",
    "    plot_kwargs = {\n",
    "        \"color_continuous_scale\": \"RdBu\",\n",
    "        \"color_continuous_midpoint\": 0.0,\n",
    "        \"labels\": {\"x\": xaxis, \"y\": yaxis},\n",
    "    }\n",
    "    plot_kwargs.update(kwargs)\n",
    "    px.imshow(tensor, **plot_kwargs).show()"
   ]
  },
  {
   "cell_type": "code",
   "execution_count": 5,
   "id": "5605e578",
   "metadata": {},
   "outputs": [
    {
     "name": "stdout",
     "output_type": "stream",
     "text": [
      "Using device: mps\n"
     ]
    }
   ],
   "source": [
    "device = transformer_lens.utils.get_device()\n",
    "\n",
    "print(f\"Using device: {device}\")"
   ]
  },
  {
   "cell_type": "markdown",
   "id": "ae1e9839",
   "metadata": {},
   "source": [
    "### Setup Sample Generator"
   ]
  },
  {
   "cell_type": "code",
   "execution_count": 144,
   "id": "70bd2cbf",
   "metadata": {},
   "outputs": [
    {
     "data": {
      "text/plain": [
       "['<aaaa|aaaa|aaaa>>>>>>>>>>',\n",
       " '<aaab|baaa|aaab>>>>>>>>>>',\n",
       " '<aaac|caaa|aaac>>>>>>>>>>',\n",
       " '<aaad|daaa|aaad>>>>>>>>>>',\n",
       " '<aaae|eaaa|aaae>>>>>>>>>>',\n",
       " '<aaaf|faaa|aaaf>>>>>>>>>>',\n",
       " '<aaag|gaaa|aaag>>>>>>>>>>',\n",
       " '<aaah|haaa|aaah>>>>>>>>>>',\n",
       " '<aaai|iaaa|aaai>>>>>>>>>>',\n",
       " '<aaaj|jaaa|aaaj>>>>>>>>>>']"
      ]
     },
     "execution_count": 144,
     "metadata": {},
     "output_type": "execute_result"
    }
   ],
   "source": [
    "import string\n",
    "import itertools\n",
    "import more_itertools\n",
    "\n",
    "\n",
    "class SpecialToken:\n",
    "    # note: as assume a BOS token because transformerlens expects it\n",
    "    BOS = \"<\"\n",
    "    # we use a EOS token for convenience\n",
    "    EOS = \">\"\n",
    "\n",
    "\n",
    "# note: without length, the model doesn't need to learn induction heads, just directly copies\n",
    "\n",
    "\n",
    "# TODO(bschoen): Allow this to generalize in the future\n",
    "def generate_sample() -> Iterable[str]:\n",
    "    \"\"\"Generate palindrom samples like `<abc|cba|abc>`.\"\"\"\n",
    "\n",
    "    # Generate all combinations of lowercase letters\n",
    "    characters = string.ascii_lowercase\n",
    "\n",
    "    # note: chosen arbitrarily\n",
    "    lengths = [4, 5, 6, 7]\n",
    "\n",
    "    # pad to max length\n",
    "    max_length = 1 + max(lengths) + 1 + max(lengths) + 1 + max(lengths) + 1\n",
    "\n",
    "    # set max number to take of each length\n",
    "    max_combinations_per_length = 10000\n",
    "\n",
    "    for length in lengths:\n",
    "\n",
    "        for combination_index, combination in enumerate(\n",
    "            itertools.product(characters, repeat=length)\n",
    "        ):\n",
    "\n",
    "            if combination_index > max_combinations_per_length:\n",
    "                break\n",
    "\n",
    "            combination_str = \"\".join(combination)\n",
    "            reversed_str = \"\".join(reversed(combination_str))\n",
    "\n",
    "            sample = (\n",
    "                SpecialToken.BOS\n",
    "                + combination_str\n",
    "                + \"|\"\n",
    "                + reversed_str\n",
    "                + \"|\"\n",
    "                + combination_str\n",
    "                + SpecialToken.EOS\n",
    "            )\n",
    "\n",
    "            # Pad the sample to max_length with EOS tokens\n",
    "            padded_sample = sample.ljust(max_length, SpecialToken.EOS)\n",
    "\n",
    "            yield padded_sample  # Return the padded sample\n",
    "\n",
    "\n",
    "# show a few examples\n",
    "[x for x in more_itertools.take(10, generate_sample())]"
   ]
  },
  {
   "cell_type": "markdown",
   "id": "8a75a15d",
   "metadata": {},
   "source": [
    "### Setup Tokenizer"
   ]
  },
  {
   "cell_type": "code",
   "execution_count": 54,
   "id": "09afecc1",
   "metadata": {},
   "outputs": [],
   "source": [
    "from gpt_from_scratch.naive_tokenizer import NaiveTokenizer\n",
    "\n",
    "vocab = string.ascii_lowercase + \"|\" + SpecialToken.BOS + SpecialToken.EOS\n",
    "\n",
    "tokenizer = NaiveTokenizer.from_text(vocab)"
   ]
  },
  {
   "cell_type": "code",
   "execution_count": 64,
   "id": "e0f6b6f4",
   "metadata": {},
   "outputs": [
    {
     "name": "stdout",
     "output_type": "stream",
     "text": [
      "Input:\t\t<abc|cba|abc><bd|db|bd>>>>\n",
      "Tokenized:\t\u001b[43m\u001b[97m<\u001b[0m\u001b[41m\u001b[97ma\u001b[0m\u001b[42m\u001b[97mb\u001b[0m\u001b[44m\u001b[97mc\u001b[0m\u001b[46m\u001b[97m|\u001b[0m\u001b[45m\u001b[97mc\u001b[0m\u001b[43m\u001b[97mb\u001b[0m\u001b[41m\u001b[97ma\u001b[0m\u001b[42m\u001b[97m|\u001b[0m\u001b[44m\u001b[97ma\u001b[0m\u001b[46m\u001b[97mb\u001b[0m\u001b[45m\u001b[97mc\u001b[0m\u001b[43m\u001b[97m>\u001b[0m\u001b[41m\u001b[97m<\u001b[0m\u001b[42m\u001b[97mb\u001b[0m\u001b[44m\u001b[97md\u001b[0m\u001b[46m\u001b[97m|\u001b[0m\u001b[45m\u001b[97md\u001b[0m\u001b[43m\u001b[97mb\u001b[0m\u001b[41m\u001b[97m|\u001b[0m\u001b[42m\u001b[97mb\u001b[0m\u001b[44m\u001b[97md\u001b[0m\u001b[46m\u001b[97m>\u001b[0m\u001b[45m\u001b[97m>\u001b[0m\u001b[43m\u001b[97m>\u001b[0m\u001b[41m\u001b[97m>\u001b[0m\n",
      "Token ID | Token Bytes | Token String\n",
      "---------+-------------+--------------\n",
      "       0 | \u001b[38;5;2m3C\u001b[0m | '<'\n",
      "          \u001b[48;5;1m\u001b[38;5;15m<\u001b[0mabc|cba|abc><bd|db|bd>>>>\n",
      "          U+003C LESS-THAN SIGN (1 bytes: \u001b[38;5;2m3C\u001b[0m)\n",
      "       2 | \u001b[38;5;2m61\u001b[0m | 'a'\n",
      "          <\u001b[48;5;1m\u001b[38;5;15ma\u001b[0mbc|cba|abc><bd|db|bd>>>>\n",
      "          U+0061 LATIN SMALL LETTER A (1 bytes: \u001b[38;5;2m61\u001b[0m)\n",
      "       3 | \u001b[38;5;2m62\u001b[0m | 'b'\n",
      "          <a\u001b[48;5;1m\u001b[38;5;15mb\u001b[0mc|cba|abc><bd|db|bd>>>>\n",
      "          U+0062 LATIN SMALL LETTER B (1 bytes: \u001b[38;5;2m62\u001b[0m)\n",
      "       4 | \u001b[38;5;2m63\u001b[0m | 'c'\n",
      "          <ab\u001b[48;5;1m\u001b[38;5;15mc\u001b[0m|cba|abc><bd|db|bd>>>>\n",
      "          U+0063 LATIN SMALL LETTER C (1 bytes: \u001b[38;5;2m63\u001b[0m)\n",
      "      28 | \u001b[38;5;2m7C\u001b[0m | '|'\n",
      "          <abc\u001b[48;5;1m\u001b[38;5;15m|\u001b[0mcba|abc><bd|db|bd>>>>\n",
      "          U+007C VERTICAL LINE (1 bytes: \u001b[38;5;2m7C\u001b[0m)\n",
      "       4 | \u001b[38;5;2m63\u001b[0m | 'c'\n",
      "          <abc|\u001b[48;5;1m\u001b[38;5;15mc\u001b[0mba|abc><bd|db|bd>>>>\n",
      "          U+0063 LATIN SMALL LETTER C (1 bytes: \u001b[38;5;2m63\u001b[0m)\n",
      "       3 | \u001b[38;5;2m62\u001b[0m | 'b'\n",
      "          <abc|c\u001b[48;5;1m\u001b[38;5;15mb\u001b[0ma|abc><bd|db|bd>>>>\n",
      "          U+0062 LATIN SMALL LETTER B (1 bytes: \u001b[38;5;2m62\u001b[0m)\n",
      "       2 | \u001b[38;5;2m61\u001b[0m | 'a'\n",
      "          <abc|cb\u001b[48;5;1m\u001b[38;5;15ma\u001b[0m|abc><bd|db|bd>>>>\n",
      "          U+0061 LATIN SMALL LETTER A (1 bytes: \u001b[38;5;2m61\u001b[0m)\n",
      "      28 | \u001b[38;5;2m7C\u001b[0m | '|'\n",
      "          <abc|cba\u001b[48;5;1m\u001b[38;5;15m|\u001b[0mabc><bd|db|bd>>>>\n",
      "          U+007C VERTICAL LINE (1 bytes: \u001b[38;5;2m7C\u001b[0m)\n",
      "       2 | \u001b[38;5;2m61\u001b[0m | 'a'\n",
      "          <abc|cba|\u001b[48;5;1m\u001b[38;5;15ma\u001b[0mbc><bd|db|bd>>>>\n",
      "          U+0061 LATIN SMALL LETTER A (1 bytes: \u001b[38;5;2m61\u001b[0m)\n",
      "       3 | \u001b[38;5;2m62\u001b[0m | 'b'\n",
      "          <abc|cba|a\u001b[48;5;1m\u001b[38;5;15mb\u001b[0mc><bd|db|bd>>>>\n",
      "          U+0062 LATIN SMALL LETTER B (1 bytes: \u001b[38;5;2m62\u001b[0m)\n",
      "       4 | \u001b[38;5;2m63\u001b[0m | 'c'\n",
      "          <abc|cba|ab\u001b[48;5;1m\u001b[38;5;15mc\u001b[0m><bd|db|bd>>>>\n",
      "          U+0063 LATIN SMALL LETTER C (1 bytes: \u001b[38;5;2m63\u001b[0m)\n",
      "       1 | \u001b[38;5;2m3E\u001b[0m | '>'\n",
      "          <abc|cba|abc\u001b[48;5;1m\u001b[38;5;15m>\u001b[0m<bd|db|bd>>>>\n",
      "          U+003E GREATER-THAN SIGN (1 bytes: \u001b[38;5;2m3E\u001b[0m)\n",
      "       0 | \u001b[38;5;2m3C\u001b[0m | '<'\n",
      "          <abc|cba|abc>\u001b[48;5;1m\u001b[38;5;15m<\u001b[0mbd|db|bd>>>>\n",
      "          U+003C LESS-THAN SIGN (1 bytes: \u001b[38;5;2m3C\u001b[0m)\n",
      "       3 | \u001b[38;5;2m62\u001b[0m | 'b'\n",
      "          <abc|cba|abc><\u001b[48;5;1m\u001b[38;5;15mb\u001b[0md|db|bd>>>>\n",
      "          U+0062 LATIN SMALL LETTER B (1 bytes: \u001b[38;5;2m62\u001b[0m)\n",
      "       5 | \u001b[38;5;2m64\u001b[0m | 'd'\n",
      "          <abc|cba|abc><b\u001b[48;5;1m\u001b[38;5;15md\u001b[0m|db|bd>>>>\n",
      "          U+0064 LATIN SMALL LETTER D (1 bytes: \u001b[38;5;2m64\u001b[0m)\n",
      "      28 | \u001b[38;5;2m7C\u001b[0m | '|'\n",
      "          <abc|cba|abc><bd\u001b[48;5;1m\u001b[38;5;15m|\u001b[0mdb|bd>>>>\n",
      "          U+007C VERTICAL LINE (1 bytes: \u001b[38;5;2m7C\u001b[0m)\n",
      "       5 | \u001b[38;5;2m64\u001b[0m | 'd'\n",
      "          <abc|cba|abc><bd|\u001b[48;5;1m\u001b[38;5;15md\u001b[0mb|bd>>>>\n",
      "          U+0064 LATIN SMALL LETTER D (1 bytes: \u001b[38;5;2m64\u001b[0m)\n",
      "       3 | \u001b[38;5;2m62\u001b[0m | 'b'\n",
      "          <abc|cba|abc><bd|d\u001b[48;5;1m\u001b[38;5;15mb\u001b[0m|bd>>>>\n",
      "          U+0062 LATIN SMALL LETTER B (1 bytes: \u001b[38;5;2m62\u001b[0m)\n",
      "      28 | \u001b[38;5;2m7C\u001b[0m | '|'\n",
      "          <abc|cba|abc><bd|db\u001b[48;5;1m\u001b[38;5;15m|\u001b[0mbd>>>>\n",
      "          U+007C VERTICAL LINE (1 bytes: \u001b[38;5;2m7C\u001b[0m)\n",
      "       3 | \u001b[38;5;2m62\u001b[0m | 'b'\n",
      "          <abc|cba|abc><bd|db|\u001b[48;5;1m\u001b[38;5;15mb\u001b[0md>>>>\n",
      "          U+0062 LATIN SMALL LETTER B (1 bytes: \u001b[38;5;2m62\u001b[0m)\n",
      "       5 | \u001b[38;5;2m64\u001b[0m | 'd'\n",
      "          <abc|cba|abc><bd|db|b\u001b[48;5;1m\u001b[38;5;15md\u001b[0m>>>>\n",
      "          U+0064 LATIN SMALL LETTER D (1 bytes: \u001b[38;5;2m64\u001b[0m)\n",
      "       1 | \u001b[38;5;2m3E\u001b[0m | '>'\n",
      "          <abc|cba|abc><bd|db|bd\u001b[48;5;1m\u001b[38;5;15m>\u001b[0m>>>\n",
      "          U+003E GREATER-THAN SIGN (1 bytes: \u001b[38;5;2m3E\u001b[0m)\n",
      "       1 | \u001b[38;5;2m3E\u001b[0m | '>'\n",
      "          <abc|cba|abc><bd|db|bd>\u001b[48;5;1m\u001b[38;5;15m>\u001b[0m>>\n",
      "          U+003E GREATER-THAN SIGN (1 bytes: \u001b[38;5;2m3E\u001b[0m)\n",
      "       1 | \u001b[38;5;2m3E\u001b[0m | '>'\n",
      "          <abc|cba|abc><bd|db|bd>>\u001b[48;5;1m\u001b[38;5;15m>\u001b[0m>\n",
      "          U+003E GREATER-THAN SIGN (1 bytes: \u001b[38;5;2m3E\u001b[0m)\n",
      "       1 | \u001b[38;5;2m3E\u001b[0m | '>'\n",
      "          <abc|cba|abc><bd|db|bd>>>\u001b[48;5;1m\u001b[38;5;15m>\u001b[0m\n",
      "          U+003E GREATER-THAN SIGN (1 bytes: \u001b[38;5;2m3E\u001b[0m)\n"
     ]
    }
   ],
   "source": [
    "from gpt_from_scratch import tokenizer_utils\n",
    "\n",
    "# test tokenizer\n",
    "input_text = \"<abc|cba|abc><bd|db|bd>>>>\"\n",
    "tokenizer_utils.show_token_mapping(tokenizer, input_text)"
   ]
  },
  {
   "cell_type": "markdown",
   "id": "6152a119",
   "metadata": {},
   "source": [
    "### Setup Loss Function"
   ]
  },
  {
   "cell_type": "code",
   "execution_count": 65,
   "id": "268db8eb",
   "metadata": {},
   "outputs": [],
   "source": [
    "def loss_fn(logits, target):\n",
    "    # standard cross entropy loss\n",
    "    return torch.nn.functional.cross_entropy(\n",
    "        logits.view(-1, logits.size(-1)),\n",
    "        target.view(-1),\n",
    "    )"
   ]
  },
  {
   "cell_type": "markdown",
   "id": "89f67052",
   "metadata": {},
   "source": [
    "### Evaluate On Test"
   ]
  },
  {
   "cell_type": "code",
   "execution_count": 125,
   "id": "e610984a",
   "metadata": {},
   "outputs": [],
   "source": [
    "def evaluate_loss_on_test_batches(\n",
    "    model: transformer_lens.HookedTransformer,\n",
    "    data_loader: torch.utils.data.DataLoader,\n",
    "    max_batches: int,\n",
    ") -> float:\n",
    "\n",
    "    # Set the model to evaluation mode\n",
    "    model.eval()\n",
    "\n",
    "    losses = []\n",
    "\n",
    "    with torch.no_grad():  # Disable gradient computation\n",
    "\n",
    "        for batch_index, batch in enumerate(data_loader):\n",
    "\n",
    "            # if batch_index > max_batches:\n",
    "            #    break\n",
    "\n",
    "            x, y = batch\n",
    "\n",
    "            x, y = x.to(device), y.to(device)\n",
    "\n",
    "            logits = model(x)\n",
    "\n",
    "            loss = loss_fn(logits, y)\n",
    "\n",
    "            losses.append(loss.item())\n",
    "\n",
    "    # Set the model back to training mode\n",
    "    model.train()\n",
    "\n",
    "    return sum(losses) / len(losses)"
   ]
  },
  {
   "cell_type": "markdown",
   "id": "084c7b6f",
   "metadata": {},
   "source": [
    "### Setup Data Loaders"
   ]
  },
  {
   "cell_type": "code",
   "execution_count": 139,
   "id": "43250038",
   "metadata": {},
   "outputs": [],
   "source": [
    "class AutoregressiveDataset(torch.utils.data.Dataset):\n",
    "    def __init__(self, samples: list[str], tokenizer: NaiveTokenizer) -> None:\n",
    "        self.samples = samples\n",
    "        self.tokenizer = tokenizer  # Assuming tokenizer is defined in the global scope\n",
    "\n",
    "    def __len__(self):\n",
    "        return len(self.samples)\n",
    "\n",
    "    def __getitem__(self, idx):\n",
    "        sample = self.samples[idx]\n",
    "        tokens = self.tokenizer.encode(sample)\n",
    "\n",
    "        # Convert to tensor and add batch dimension\n",
    "        x = torch.tensor(tokens[:-1], dtype=torch.long)\n",
    "        y = torch.tensor(tokens[1:], dtype=torch.long)\n",
    "\n",
    "        return x, y\n",
    "\n",
    "\n",
    "def make_batch_dataloader(\n",
    "    samples: list[str],\n",
    "    tokenizer: NaiveTokenizer,\n",
    "    batch_size: int,\n",
    ") -> tuple[torch.utils.data.Dataset, torch.utils.data.DataLoader]:\n",
    "\n",
    "    dataset = AutoregressiveDataset(samples=samples, tokenizer=tokenizer)\n",
    "\n",
    "    # Create DataLoader\n",
    "    dataloader = torch.utils.data.DataLoader(\n",
    "        dataset,\n",
    "        batch_size=batch_size,\n",
    "        shuffle=True,\n",
    "        # drop the last batch if it's incomplete\n",
    "        drop_last=True,\n",
    "    )\n",
    "\n",
    "    return dataset, dataloader\n",
    "\n",
    "\n",
    "# Example usage:\n",
    "# batch_generator = make_batch_generator(tokenizer, batch_size=4)\n",
    "# for x, y in batch_generator:\n",
    "#     # x is input, y is target (x shifted by 1)\n",
    "#     pass"
   ]
  },
  {
   "cell_type": "code",
   "execution_count": 150,
   "id": "b7cdd9eb",
   "metadata": {},
   "outputs": [
    {
     "name": "stdout",
     "output_type": "stream",
     "text": [
      "40004 samples\n",
      "len(train_samples)=36004\n",
      "len(test_samples)=4000\n"
     ]
    }
   ],
   "source": [
    "import random\n",
    "\n",
    "# split into test and train\n",
    "all_samples = list(generate_sample())\n",
    "\n",
    "# note: 4394 batches = (26 * 26 * 26) / 4\n",
    "print(f\"{len(all_samples)} samples\")\n",
    "\n",
    "# Randomly shuffle all_samples\n",
    "random.shuffle(all_samples)  # In-place shuffling of the list\n",
    "\n",
    "# Inline comment explaining the motivation\n",
    "# We shuffle the samples to ensure a random distribution of data points\n",
    "# between the training and test sets, reducing potential bias\n",
    "\n",
    "\n",
    "# max_samples = 10\n",
    "# print(f'Capping at {max_samples} batches first to make sure we can overfit')\n",
    "# all_samples = all_samples[:max_samples]\n",
    "\n",
    "test_train_ratio = 0.1\n",
    "\n",
    "test_size = int(test_train_ratio * len(all_samples))\n",
    "\n",
    "# put remaining ones into train\n",
    "train_size = len(all_samples) - test_size\n",
    "\n",
    "train_samples = all_samples[:train_size]\n",
    "test_samples = all_samples[train_size:]\n",
    "\n",
    "print(f\"{len(train_samples)=}\")\n",
    "print(f\"{len(test_samples)=}\")\n",
    "\n",
    "# now we can finally construct dataloaders\n",
    "batch_size = 32\n",
    "\n",
    "train_dataset, train_loader = make_batch_dataloader(\n",
    "    samples=train_samples,\n",
    "    tokenizer=tokenizer,\n",
    "    batch_size=batch_size,\n",
    ")\n",
    "# Split test_samples based on the number of '>' characters\n",
    "test_samples_by_difficulty = {}\n",
    "for sample in test_samples:\n",
    "    num_gt = sample.count(\">\")\n",
    "    if num_gt not in test_samples_by_difficulty:\n",
    "        test_samples_by_difficulty[num_gt] = []\n",
    "    test_samples_by_difficulty[num_gt].append(sample)\n",
    "\n",
    "# Create dataloaders for each difficulty level\n",
    "test_datasets = {}\n",
    "test_loaders = {}\n",
    "for difficulty, samples in test_samples_by_difficulty.items():\n",
    "    test_datasets[difficulty], test_loaders[difficulty] = make_batch_dataloader(\n",
    "        samples=samples,\n",
    "        tokenizer=tokenizer,\n",
    "        batch_size=batch_size,\n",
    "    )\n",
    "\n",
    "# Inline comment explaining the motivation\n",
    "# We split the test samples based on the number of '>' characters to create\n",
    "# separate datasets for different difficulty levels. This allows us to evaluate\n",
    "# the model's performance across varying complexities of input sequences."
   ]
  },
  {
   "cell_type": "markdown",
   "id": "6b30d6dc",
   "metadata": {},
   "source": [
    "### Setup Optuna"
   ]
  },
  {
   "cell_type": "code",
   "execution_count": null,
   "id": "2c20e464",
   "metadata": {},
   "outputs": [],
   "source": [
    "import optuna"
   ]
  },
  {
   "cell_type": "code",
   "execution_count": null,
   "id": "c9710123",
   "metadata": {},
   "outputs": [],
   "source": []
  },
  {
   "cell_type": "code",
   "execution_count": null,
   "id": "b8d34312",
   "metadata": {},
   "outputs": [],
   "source": [
    "# we want an optuna usage pattern that we can easily adapt to our training loop when experimenting\n",
    "\n",
    "optuna.Trial"
   ]
  },
  {
   "cell_type": "markdown",
   "id": "1cf7e574",
   "metadata": {},
   "source": [
    "### Setup Model"
   ]
  },
  {
   "cell_type": "code",
   "execution_count": 146,
   "id": "19115680",
   "metadata": {},
   "outputs": [],
   "source": [
    "# now we know our vocab size from our sample generation\n",
    "def make_hooked_transformer_config(\n",
    "    n_layers: int,\n",
    "    d_model: int,\n",
    "    n_heads: int,\n",
    ") -> transformer_lens.HookedTransformerConfig:\n",
    "\n",
    "    for sample in generate_sample():\n",
    "        n_ctx = len(sample)\n",
    "        break\n",
    "\n",
    "    cfg = transformer_lens.HookedTransformerConfig(\n",
    "        n_layers=n_layers,\n",
    "        d_model=d_model,\n",
    "        d_head=d_model // n_heads,\n",
    "        # The number of attention heads.\n",
    "        # If not specified, will be set to d_in // d_head.\n",
    "        # (This is represented by a default value of -1)\n",
    "        n_heads=n_heads,\n",
    "        # The dimensionality of the feedforward mlp network.\n",
    "        # Defaults to 4 * d_in, and in an attn-only model is None.\n",
    "        # TODO(bschoen): Need to try out also setting `attn_only`\n",
    "        # d_mlp=None,\n",
    "        # note: transformerlens does the same thing if this is not set\n",
    "        d_vocab=len(tokenizer.byte_to_token_dict),\n",
    "        # length of the longest sample is our context length\n",
    "        n_ctx=n_ctx,\n",
    "        act_fn=\"relu\",\n",
    "        normalization_type=\"LN\",\n",
    "        # note: must be set, otherwise tries to default to cuda / cpu (not mps)\n",
    "        device=device.type,\n",
    "    )\n",
    "\n",
    "    print(f\"Num params: {cfg.n_params}\")\n",
    "\n",
    "    return cfg"
   ]
  },
  {
   "cell_type": "markdown",
   "id": "9f5081e3",
   "metadata": {},
   "source": [
    "### Training"
   ]
  },
  {
   "cell_type": "code",
   "execution_count": 159,
   "id": "ac160424",
   "metadata": {},
   "outputs": [
    {
     "name": "stdout",
     "output_type": "stream",
     "text": [
      "Num params: 3456\n"
     ]
    },
    {
     "data": {
      "text/html": [
       "wandb version 0.17.9 is available!  To upgrade, please run:\n",
       " $ pip install wandb --upgrade"
      ],
      "text/plain": [
       "<IPython.core.display.HTML object>"
      ]
     },
     "metadata": {},
     "output_type": "display_data"
    },
    {
     "data": {
      "text/html": [
       "Tracking run with wandb version 0.17.7"
      ],
      "text/plain": [
       "<IPython.core.display.HTML object>"
      ]
     },
     "metadata": {},
     "output_type": "display_data"
    },
    {
     "data": {
      "text/html": [
       "Run data is saved locally in <code>/Users/bronsonschoen/gpt_from_scratch/wandb/run-20240910_220132-f4vte6k5</code>"
      ],
      "text/plain": [
       "<IPython.core.display.HTML object>"
      ]
     },
     "metadata": {},
     "output_type": "display_data"
    },
    {
     "data": {
      "text/html": [
       "Syncing run <strong><a href='https://wandb.ai/bronsonschoen-personal-use/toy-problem-hooked-transformer-v2/runs/f4vte6k5' target=\"_blank\">smart-river-14</a></strong> to <a href='https://wandb.ai/bronsonschoen-personal-use/toy-problem-hooked-transformer-v2' target=\"_blank\">Weights & Biases</a> (<a href='https://wandb.me/run' target=\"_blank\">docs</a>)<br/>"
      ],
      "text/plain": [
       "<IPython.core.display.HTML object>"
      ]
     },
     "metadata": {},
     "output_type": "display_data"
    },
    {
     "data": {
      "text/html": [
       " View project at <a href='https://wandb.ai/bronsonschoen-personal-use/toy-problem-hooked-transformer-v2' target=\"_blank\">https://wandb.ai/bronsonschoen-personal-use/toy-problem-hooked-transformer-v2</a>"
      ],
      "text/plain": [
       "<IPython.core.display.HTML object>"
      ]
     },
     "metadata": {},
     "output_type": "display_data"
    },
    {
     "data": {
      "text/html": [
       " View run at <a href='https://wandb.ai/bronsonschoen-personal-use/toy-problem-hooked-transformer-v2/runs/f4vte6k5' target=\"_blank\">https://wandb.ai/bronsonschoen-personal-use/toy-problem-hooked-transformer-v2/runs/f4vte6k5</a>"
      ],
      "text/plain": [
       "<IPython.core.display.HTML object>"
      ]
     },
     "metadata": {},
     "output_type": "display_data"
    },
    {
     "name": "stderr",
     "output_type": "stream",
     "text": [
      "100it [00:02, 47.77it/s]"
     ]
    },
    {
     "name": "stdout",
     "output_type": "stream",
     "text": [
      "Evaluating test loss...\n"
     ]
    },
    {
     "name": "stderr",
     "output_type": "stream",
     "text": [
      "200it [00:04, 48.14it/s]"
     ]
    },
    {
     "name": "stdout",
     "output_type": "stream",
     "text": [
      "Evaluating test loss...\n"
     ]
    },
    {
     "name": "stderr",
     "output_type": "stream",
     "text": [
      "297it [00:07, 49.34it/s]"
     ]
    },
    {
     "name": "stdout",
     "output_type": "stream",
     "text": [
      "Evaluating test loss...\n"
     ]
    },
    {
     "name": "stderr",
     "output_type": "stream",
     "text": [
      "395it [00:10, 50.76it/s]"
     ]
    },
    {
     "name": "stdout",
     "output_type": "stream",
     "text": [
      "Evaluating test loss...\n"
     ]
    },
    {
     "name": "stderr",
     "output_type": "stream",
     "text": [
      "465it [00:12, 45.53it/s]"
     ]
    }
   ],
   "source": [
    "import tqdm\n",
    "\n",
    "import torch.optim\n",
    "\n",
    "import wandb\n",
    "\n",
    "import dataclasses\n",
    "import json\n",
    "\n",
    "LossValue = float\n",
    "\n",
    "\n",
    "def print_json(value):\n",
    "    print(json.dumps(value, indent=2))\n",
    "\n",
    "\n",
    "# everything customizable via optuna\n",
    "@dataclasses.dataclass(frozen=True)\n",
    "class ModelAndTrainingConfig:\n",
    "\n",
    "    # input\n",
    "    train_loader: torch.utils.data.DataLoader\n",
    "    test_loaders: dict[int, torch.utils.data.DataLoader]\n",
    "\n",
    "    # training\n",
    "    num_epochs: int = 10000\n",
    "    eval_test_every_n: int = 500\n",
    "\n",
    "    # model\n",
    "    n_layers: int = 2\n",
    "    d_model: int = 12\n",
    "    n_heads: int = 4\n",
    "\n",
    "    # optimizers\n",
    "    betas: tuple[float, float] = (0.9, 0.999)\n",
    "    learning_rate: float = 1e-4\n",
    "    max_grad_norm: float = 1.0\n",
    "    weight_decay: float = 0.1\n",
    "\n",
    "    def get_hooked_transformer_config(self) -> transformer_lens.HookedTransformerConfig:\n",
    "        return make_hooked_transformer_config(\n",
    "            n_layers=self.n_layers,\n",
    "            d_model=self.d_model,\n",
    "            n_heads=self.n_heads,\n",
    "        )\n",
    "\n",
    "    def to_dict(self) -> dict[str, str | int]:\n",
    "        dict_repr = dataclasses.asdict(self)\n",
    "        dict_repr.pop(\"train_loader\")\n",
    "        dict_repr.pop(\"test_loaders\")\n",
    "        return dict_repr\n",
    "\n",
    "\n",
    "@dataclasses.dataclass(frozen=True)\n",
    "class TrainModelResult:\n",
    "    model: transformer_lens.HookedTransformer\n",
    "\n",
    "    # returned because optuna needs it\n",
    "    # TODO(bschoen): Is this usually val loss?\n",
    "    train_loss: LossValue\n",
    "\n",
    "\n",
    "def train_model(cfg: ModelAndTrainingConfig) -> TrainModelResult:\n",
    "\n",
    "    # create new model instance\n",
    "    ht_cfg = cfg.get_hooked_transformer_config()\n",
    "    model = transformer_lens.HookedTransformer(ht_cfg)\n",
    "\n",
    "    # setup optimizers\n",
    "    optimizer = torch.optim.AdamW(\n",
    "        model.parameters(),\n",
    "        lr=cfg.learning_rate,\n",
    "        betas=cfg.betas,\n",
    "        weight_decay=cfg.weight_decay,\n",
    "    )\n",
    "    # scheduler = torch.optim.lr_scheduler.LambdaLR(\n",
    "    #    optimizer, lambda i: min(i / 100, 1.0)\n",
    "    # )\n",
    "\n",
    "    num_epochs = cfg.num_epochs\n",
    "\n",
    "    # setup wandb\n",
    "    wandb.init(project=\"toy-problem-hooked-transformer-v2\", config=cfg.to_dict())\n",
    "\n",
    "    losses = []\n",
    "\n",
    "    for epoch, batch in tqdm.tqdm(\n",
    "        zip(\n",
    "            range(num_epochs),\n",
    "            itertools.cycle(train_loader),\n",
    "        )\n",
    "    ):\n",
    "\n",
    "        tokens, target = batch\n",
    "\n",
    "        tokens, target = tokens.to(device), target.to(device)\n",
    "\n",
    "        # ex: torch.Size([4, 9, 29])\n",
    "        logits: Float32[torch.Tensor, \"b t c\"] = model(tokens)\n",
    "\n",
    "        # print(f\"Logits:\\n{logits.shape}\")\n",
    "        loss = loss_fn(logits, target)\n",
    "\n",
    "        loss.backward()\n",
    "\n",
    "        if cfg.max_grad_norm is not None:\n",
    "            torch.nn.utils.clip_grad_norm_(model.parameters(), cfg.max_grad_norm)\n",
    "\n",
    "        optimizer.step()\n",
    "\n",
    "        optimizer.zero_grad()\n",
    "\n",
    "        # scheduler.step()\n",
    "\n",
    "        losses.append(loss.item())\n",
    "\n",
    "        # more frequently than eval, print out train loss\n",
    "        # if (epoch % (cfg.eval_test_every_n // 10)) == 0:\n",
    "        #\n",
    "        #    print(f\"Epoch {epoch}, \" f\"Train loss: {loss.item():.6f}\")\n",
    "\n",
    "        # TODO(bschoen): Shouldn't you actually divide loss by batch size?\n",
    "        # TODO(bschoen): Do we want like an `is trial` (for example logging last one)\n",
    "        if (epoch % cfg.eval_test_every_n) == 0:\n",
    "\n",
    "            # skip evaluating test loss if we just started training\n",
    "            if epoch == 0:\n",
    "                continue\n",
    "\n",
    "            print(\"Evaluating test loss...\")\n",
    "\n",
    "            # compute loss at each difficulty\n",
    "            test_loss_by_difficulty = {}\n",
    "\n",
    "            for difficulty, test_loader in cfg.test_loaders.items():\n",
    "\n",
    "                test_loss = evaluate_loss_on_test_batches(\n",
    "                    model,\n",
    "                    test_loader,\n",
    "                    max_batches=100,\n",
    "                )\n",
    "\n",
    "                test_loss_by_difficulty[difficulty] = test_loss\n",
    "\n",
    "            wandb_log_dict = {\"epoch\": epoch, \"train_loss\": loss.item()}\n",
    "\n",
    "            for difficulty, test_loss in test_loss_by_difficulty.items():\n",
    "\n",
    "                wandb_log_dict[f\"train_loss_difficulty_{difficulty}\"] = test_loss\n",
    "\n",
    "            # print_json(wandb_log_dict)\n",
    "\n",
    "            # Log metrics\n",
    "            wandb.log(wandb_log_dict)\n",
    "\n",
    "    wandb.finish()\n",
    "\n",
    "    # log locally to sanity check\n",
    "    # px.line(losses, labels={\"x\": \"Epoch\", \"y\": \"Train Loss\"})\n",
    "\n",
    "    print(f\"Final train loss: {loss.item():.6f}\")\n",
    "\n",
    "    # take model out of train\n",
    "    model.eval()\n",
    "\n",
    "    return TrainModelResult(model=model, train_loss=loss.item())\n",
    "\n",
    "\n",
    "# train brief run to test code\n",
    "training_config = ModelAndTrainingConfig(\n",
    "    num_epochs=30000,\n",
    "    eval_test_every_n=100,\n",
    "    weight_decay=0.2,\n",
    "    train_loader=train_loader,\n",
    "    test_loaders=test_loaders,\n",
    ")\n",
    "\n",
    "result = train_model(training_config)\n",
    "\n",
    "# for compatibility with code later\n",
    "model = result.model\n",
    "cfg = training_config.get_hooked_transformer_config()"
   ]
  },
  {
   "cell_type": "code",
   "execution_count": null,
   "id": "6b840556",
   "metadata": {},
   "outputs": [],
   "source": []
  },
  {
   "cell_type": "markdown",
   "id": "705bcb63",
   "metadata": {},
   "source": [
    "## Optuna Study"
   ]
  },
  {
   "cell_type": "code",
   "execution_count": null,
   "id": "df666bb3",
   "metadata": {},
   "outputs": [],
   "source": [
    "# TODO(bschoen): Do need to use lightning if want to do this generally\n",
    "# note: generally do want to iterate on this part itself, i.e. once find promising learning rate, searching other hyperparameters\n",
    "def objective(trial: optuna.Trial) -> float:\n",
    "\n",
    "    # TODO(bschoen): up to one per position, eh might as well try it\n",
    "\n",
    "    d_model = trial.suggest_categorical(\"d_model\", [8, 16, 32, 64, 128])\n",
    "    n_heads = trial.suggest_int(\"n_heads\", 1, 8)\n",
    "\n",
    "    cfg = ModelAndTrainingConfig(\n",
    "        num_epochs=1000,\n",
    "        eval_test_every_n=10000,  # not worth evaluating test loss for study\n",
    "        n_layers=1,  # trial.suggest_int(\"n_layers\", 1, 2),\n",
    "        d_model=d_model,\n",
    "        n_heads=n_heads,\n",
    "        learning_rate=5e-4,\n",
    "    )\n",
    "\n",
    "    # sanity check `d_heads`\n",
    "    if (cfg.d_model % cfg.n_heads) != 0:\n",
    "        print(f\"Pruning trial for {cfg.d_model=} {cfg.n_heads=}\")\n",
    "        raise optuna.exceptions.TrialPruned()\n",
    "\n",
    "    result = train_model(cfg)\n",
    "\n",
    "    return result.train_loss\n",
    "\n",
    "\n",
    "study_storage_url = \"sqlite:///toy-problem-hooked-transformer.db\"\n",
    "\n",
    "study = optuna.create_study(\n",
    "    directions=[optuna.study.StudyDirection.MINIMIZE],\n",
    "    storage=study_storage_url,\n",
    ")\n",
    "\n",
    "study.optimize(objective, n_trials=10)\n",
    "\n",
    "print(\"View by launching optuna dashboard from the command line:\")\n",
    "print(f\"optuna-dashboard {study_storage_url}\")"
   ]
  },
  {
   "cell_type": "code",
   "execution_count": null,
   "id": "6be78484",
   "metadata": {},
   "outputs": [],
   "source": [
    "# now let's do a real run\n",
    "training_config = ModelAndTrainingConfig(\n",
    "    num_epochs=10000,\n",
    "    eval_test_every_n=1000,\n",
    "    n_layers=1,\n",
    "    d_model=16,\n",
    "    n_heads=1,\n",
    ")\n",
    "\n",
    "result = train_model(cfg=training_config)\n",
    "\n",
    "# for compatibility with code later\n",
    "model = result.model\n",
    "cfg = training_config.get_hooked_transformer_config()"
   ]
  },
  {
   "cell_type": "code",
   "execution_count": 158,
   "id": "e450e6b3",
   "metadata": {},
   "outputs": [
    {
     "name": "stdout",
     "output_type": "stream",
     "text": [
      "1\n",
      "Using tensor([ 0,  2,  2,  2,  2,  9, 15, 25, 28, 25, 15,  9,  2,  2,  2,  2, 28,  2,\n",
      "         2,  2,  2,  9, 15, 25], device='mps:0') from tensor([ 0,  2,  2,  2,  2,  9, 15, 25, 28, 25, 15,  9,  2,  2,  2,  2, 28,  2,\n",
      "         2,  2,  2,  9, 15, 25]) (from test set)\n",
      "Layer:  0\n"
     ]
    },
    {
     "data": {
      "text/html": [
       "<div id=\"circuits-vis-8949d811-b6fe\" style=\"margin: 15px 0;\"/>\n",
       "    <script crossorigin type=\"module\">\n",
       "    import { render, AttentionPatterns } from \"https://unpkg.com/circuitsvis@1.43.2/dist/cdn/esm.js\";\n",
       "    render(\n",
       "      \"circuits-vis-8949d811-b6fe\",\n",
       "      AttentionPatterns,\n",
       "      {\"tokens\": [\"<\", \"a\", \"a\", \"a\", \"a\", \"h\", \"n\", \"x\", \"|\", \"x\", \"n\", \"h\", \"a\", \"a\", \"a\", \"a\", \"|\", \"a\", \"a\", \"a\", \"a\", \"h\", \"n\", \"x\"], \"attention\": [[[1.0, 0.0, 0.0, 0.0, 0.0, 0.0, 0.0, 0.0, 0.0, 0.0, 0.0, 0.0, 0.0, 0.0, 0.0, 0.0, 0.0, 0.0, 0.0, 0.0, 0.0, 0.0, 0.0, 0.0], [0.6491082906723022, 0.35089176893234253, 0.0, 0.0, 0.0, 0.0, 0.0, 0.0, 0.0, 0.0, 0.0, 0.0, 0.0, 0.0, 0.0, 0.0, 0.0, 0.0, 0.0, 0.0, 0.0, 0.0, 0.0, 0.0], [0.5340894460678101, 0.29553335905075073, 0.1703772246837616, 0.0, 0.0, 0.0, 0.0, 0.0, 0.0, 0.0, 0.0, 0.0, 0.0, 0.0, 0.0, 0.0, 0.0, 0.0, 0.0, 0.0, 0.0, 0.0, 0.0, 0.0], [0.04840580374002457, 0.2297009527683258, 0.3334676921367645, 0.3884255588054657, 0.0, 0.0, 0.0, 0.0, 0.0, 0.0, 0.0, 0.0, 0.0, 0.0, 0.0, 0.0, 0.0, 0.0, 0.0, 0.0, 0.0, 0.0, 0.0, 0.0], [0.06593238562345505, 0.19426488876342773, 0.22376807034015656, 0.2664235234260559, 0.24961119890213013, 0.0, 0.0, 0.0, 0.0, 0.0, 0.0, 0.0, 0.0, 0.0, 0.0, 0.0, 0.0, 0.0, 0.0, 0.0, 0.0, 0.0, 0.0, 0.0], [0.416987806558609, 0.12175481021404266, 0.11898434162139893, 0.12283246964216232, 0.08910448104143143, 0.13033613562583923, 0.0, 0.0, 0.0, 0.0, 0.0, 0.0, 0.0, 0.0, 0.0, 0.0, 0.0, 0.0, 0.0, 0.0, 0.0, 0.0, 0.0, 0.0], [0.3895086646080017, 0.07526496797800064, 0.051474351435899734, 0.035409893840551376, 0.05136562138795853, 0.10019302368164062, 0.296783447265625, 0.0, 0.0, 0.0, 0.0, 0.0, 0.0, 0.0, 0.0, 0.0, 0.0, 0.0, 0.0, 0.0, 0.0, 0.0, 0.0, 0.0], [0.410128116607666, 0.08323468267917633, 0.07276586443185806, 0.07779233902692795, 0.05450885742902756, 0.05711048096418381, 0.11074448376893997, 0.13371515274047852, 0.0, 0.0, 0.0, 0.0, 0.0, 0.0, 0.0, 0.0, 0.0, 0.0, 0.0, 0.0, 0.0, 0.0, 0.0, 0.0], [0.051137253642082214, 0.16415075957775116, 0.08662999421358109, 0.0657348483800888, 0.21204611659049988, 0.033671192824840546, 0.018706565722823143, 0.31376218795776367, 0.05416109785437584, 0.0, 0.0, 0.0, 0.0, 0.0, 0.0, 0.0, 0.0, 0.0, 0.0, 0.0, 0.0, 0.0, 0.0, 0.0], [0.16221106052398682, 0.07686308771371841, 0.09070415049791336, 0.10305425524711609, 0.0637723058462143, 0.10474111884832382, 0.14300653338432312, 0.06636081635951996, 0.07545225322246552, 0.11383440345525742, 0.0, 0.0, 0.0, 0.0, 0.0, 0.0, 0.0, 0.0, 0.0, 0.0, 0.0, 0.0, 0.0, 0.0], [0.04200311377644539, 0.061363767832517624, 0.05212046205997467, 0.03734517842531204, 0.07034379988908768, 0.1004721000790596, 0.11332929134368896, 0.13020539283752441, 0.18055233359336853, 0.16587652266025543, 0.046388041228055954, 0.0, 0.0, 0.0, 0.0, 0.0, 0.0, 0.0, 0.0, 0.0, 0.0, 0.0, 0.0, 0.0], [0.1139436811208725, 0.09785827994346619, 0.05663339048624039, 0.04028698801994324, 0.09368016570806503, 0.04632694646716118, 0.05684492364525795, 0.32232487201690674, 0.06248357892036438, 0.05548456311225891, 0.02486269548535347, 0.029269903898239136, 0.0, 0.0, 0.0, 0.0, 0.0, 0.0, 0.0, 0.0, 0.0, 0.0, 0.0, 0.0], [0.03650404512882233, 0.09552764892578125, 0.06770319491624832, 0.056548330932855606, 0.11976931244134903, 0.042279865592718124, 0.026990698650479317, 0.12999407947063446, 0.06254275143146515, 0.03357917442917824, 0.039664626121520996, 0.045840125530958176, 0.24305613338947296, 0.0, 0.0, 0.0, 0.0, 0.0, 0.0, 0.0, 0.0, 0.0, 0.0, 0.0], [0.16121995449066162, 0.08155358582735062, 0.055471569299697876, 0.048660486936569214, 0.06721939146518707, 0.03722628206014633, 0.05057218298316002, 0.17820696532726288, 0.03316837176680565, 0.03757770359516144, 0.029197759926319122, 0.02434525452554226, 0.09220491349697113, 0.10337560623884201, 0.0, 0.0, 0.0, 0.0, 0.0, 0.0, 0.0, 0.0, 0.0, 0.0], [0.011128569021821022, 0.06207150220870972, 0.07128015905618668, 0.08993536233901978, 0.09223263710737228, 0.03152995556592941, 0.010727519169449806, 0.01834975555539131, 0.034563660621643066, 0.014013753272593021, 0.08128087967634201, 0.06846431642770767, 0.2889399826526642, 0.02006496489048004, 0.10541699081659317, 0.0, 0.0, 0.0, 0.0, 0.0, 0.0, 0.0, 0.0, 0.0], [0.21347422897815704, 0.04555893316864967, 0.033591482788324356, 0.027253976091742516, 0.031163206323981285, 0.04380767419934273, 0.1053815707564354, 0.15261013805866241, 0.037284333258867264, 0.07281804829835892, 0.021386394277215004, 0.020810846239328384, 0.018290270119905472, 0.10974430292844772, 0.0477633960545063, 0.01906127668917179, 0.0, 0.0, 0.0, 0.0, 0.0, 0.0, 0.0, 0.0], [0.004792444873601198, 0.04668926075100899, 0.02454100176692009, 0.01940302737057209, 0.07858647406101227, 0.006461568642407656, 0.0019422409823164344, 0.0555824376642704, 0.012732542119920254, 0.0029293617699295282, 0.008555148728191853, 0.009502741508185863, 0.5120648145675659, 0.009576383046805859, 0.16042140126228333, 0.030983956530690193, 0.015235195867717266, 0.0, 0.0, 0.0, 0.0, 0.0, 0.0, 0.0], [0.016068071126937866, 0.03721753880381584, 0.06525158882141113, 0.10030592232942581, 0.045339424163103104, 0.05243036523461342, 0.027306709438562393, 0.00717924302443862, 0.039858222007751465, 0.03036513365805149, 0.14555718004703522, 0.1116487979888916, 0.06204395741224289, 0.022775130346417427, 0.034109000116586685, 0.10330141335725784, 0.049915388226509094, 0.04932691529393196, 0.0, 0.0, 0.0, 0.0, 0.0, 0.0], [0.010104452259838581, 0.04835737124085426, 0.026910118758678436, 0.021534789353609085, 0.06868896633386612, 0.009161711670458317, 0.004008033312857151, 0.06886361539363861, 0.015214476734399796, 0.005160627420991659, 0.01033759769052267, 0.010964303277432919, 0.29817304015159607, 0.015503587201237679, 0.13896794617176056, 0.029016954824328423, 0.01822931505739689, 0.08350945264101028, 0.11729365587234497, 0.0, 0.0, 0.0, 0.0, 0.0], [0.05752745643258095, 0.05635852739214897, 0.0492604561150074, 0.04874885827302933, 0.05519455671310425, 0.03618476912379265, 0.034583210945129395, 0.06329146772623062, 0.034546609967947006, 0.03162012994289398, 0.03862645477056503, 0.0344129279255867, 0.0762738287448883, 0.05207359418272972, 0.080241359770298, 0.04406263306736946, 0.04146284610033035, 0.06048331782221794, 0.060883402824401855, 0.04416364058852196, 0.0, 0.0, 0.0, 0.0], [0.015310030430555344, 0.04650961607694626, 0.043972197920084, 0.04556325450539589, 0.06026410683989525, 0.02652674727141857, 0.014064707793295383, 0.030312133952975273, 0.03207142651081085, 0.01727800816297531, 0.038971468806266785, 0.03853359818458557, 0.12566663324832916, 0.022484632208943367, 0.06735941022634506, 0.05609961226582527, 0.03523184731602669, 0.06606359779834747, 0.07773249596357346, 0.06174745038151741, 0.07823697477579117, 0.0, 0.0, 0.0], [0.05409146845340729, 0.041853584349155426, 0.044685766100883484, 0.045622650533914566, 0.03947615996003151, 0.05202849954366684, 0.0597684420645237, 0.04177502170205116, 0.04852032661437988, 0.057168908417224884, 0.04983066767454147, 0.04950268194079399, 0.03193270042538643, 0.05005074664950371, 0.03644246980547905, 0.043414365500211716, 0.04732922837138176, 0.0384160652756691, 0.03657124191522598, 0.04294060170650482, 0.03404286503791809, 0.054535526782274246, 0.0, 0.0], [0.04538624361157417, 0.04949161037802696, 0.03220938518643379, 0.026616321876645088, 0.049566056579351425, 0.020156702026724815, 0.01946447417140007, 0.0983009859919548, 0.02356100082397461, 0.01837664470076561, 0.01617930270731449, 0.015953943133354187, 0.08536982536315918, 0.04107142984867096, 0.08998876810073853, 0.025710783898830414, 0.02719927206635475, 0.05503465607762337, 0.06047080084681511, 0.024159064516425133, 0.12002735584974289, 0.03502888232469559, 0.02067648619413376, 0.0], [0.024615095928311348, 0.015801485627889633, 0.022809598594903946, 0.022138861939311028, 0.014962045475840569, 0.07205932587385178, 0.11256012320518494, 0.0156572163105011, 0.07977016270160675, 0.13536423444747925, 0.04566780850291252, 0.06715065240859985, 0.00411248067393899, 0.02779773250222206, 0.004748571664094925, 0.027788113802671432, 0.043108727782964706, 0.010843765921890736, 0.010045413859188557, 0.025932539254426956, 0.0035044888500124216, 0.04949599876999855, 0.12621426582336426, 0.03785131499171257]], [[1.0, 0.0, 0.0, 0.0, 0.0, 0.0, 0.0, 0.0, 0.0, 0.0, 0.0, 0.0, 0.0, 0.0, 0.0, 0.0, 0.0, 0.0, 0.0, 0.0, 0.0, 0.0, 0.0, 0.0], [0.5338062047958374, 0.4661937952041626, 0.0, 0.0, 0.0, 0.0, 0.0, 0.0, 0.0, 0.0, 0.0, 0.0, 0.0, 0.0, 0.0, 0.0, 0.0, 0.0, 0.0, 0.0, 0.0, 0.0, 0.0, 0.0], [0.443545937538147, 0.18582676351070404, 0.3706272840499878, 0.0, 0.0, 0.0, 0.0, 0.0, 0.0, 0.0, 0.0, 0.0, 0.0, 0.0, 0.0, 0.0, 0.0, 0.0, 0.0, 0.0, 0.0, 0.0, 0.0, 0.0], [0.2869427502155304, 0.21751902997493744, 0.41079193353652954, 0.08474627137184143, 0.0, 0.0, 0.0, 0.0, 0.0, 0.0, 0.0, 0.0, 0.0, 0.0, 0.0, 0.0, 0.0, 0.0, 0.0, 0.0, 0.0, 0.0, 0.0, 0.0], [0.11314496397972107, 0.2570478022098541, 0.37700188159942627, 0.12795808911323547, 0.12484721839427948, 0.0, 0.0, 0.0, 0.0, 0.0, 0.0, 0.0, 0.0, 0.0, 0.0, 0.0, 0.0, 0.0, 0.0, 0.0, 0.0, 0.0, 0.0, 0.0], [0.26008981466293335, 0.10282808542251587, 0.141538605093956, 0.2572292685508728, 0.10072323679924011, 0.13759095966815948, 0.0, 0.0, 0.0, 0.0, 0.0, 0.0, 0.0, 0.0, 0.0, 0.0, 0.0, 0.0, 0.0, 0.0, 0.0, 0.0, 0.0, 0.0], [0.1722777634859085, 0.06866016238927841, 0.0632680132985115, 0.33869779109954834, 0.12874500453472137, 0.0940723568201065, 0.13427887856960297, 0.0, 0.0, 0.0, 0.0, 0.0, 0.0, 0.0, 0.0, 0.0, 0.0, 0.0, 0.0, 0.0, 0.0, 0.0, 0.0, 0.0], [0.026574164628982544, 0.07948360592126846, 0.1018889993429184, 0.20736107230186462, 0.06881818175315857, 0.09048143029212952, 0.2519417107105255, 0.17345088720321655, 0.0, 0.0, 0.0, 0.0, 0.0, 0.0, 0.0, 0.0, 0.0, 0.0, 0.0, 0.0, 0.0, 0.0, 0.0, 0.0], [0.08390410989522934, 0.09621991217136383, 0.16350345313549042, 0.11625934392213821, 0.054001592099666595, 0.110318623483181, 0.10822403430938721, 0.036928366869688034, 0.23064057528972626, 0.0, 0.0, 0.0, 0.0, 0.0, 0.0, 0.0, 0.0, 0.0, 0.0, 0.0, 0.0, 0.0, 0.0, 0.0], [0.0784437283873558, 0.08168226480484009, 0.09039823710918427, 0.12416214495897293, 0.08105599880218506, 0.08921092748641968, 0.10955503582954407, 0.08265099674463272, 0.16392222046852112, 0.09891841560602188, 0.0, 0.0, 0.0, 0.0, 0.0, 0.0, 0.0, 0.0, 0.0, 0.0, 0.0, 0.0, 0.0, 0.0], [0.28785210847854614, 0.05723525583744049, 0.10034826397895813, 0.1063571348786354, 0.04204925522208214, 0.08098158985376358, 0.037047747522592545, 0.006361669860780239, 0.04492214694619179, 0.02464883029460907, 0.2121959775686264, 0.0, 0.0, 0.0, 0.0, 0.0, 0.0, 0.0, 0.0, 0.0, 0.0, 0.0, 0.0, 0.0], [0.07043000310659409, 0.05934350937604904, 0.10864842683076859, 0.10713174194097519, 0.035228464752435684, 0.07563427835702896, 0.07507023960351944, 0.018421364948153496, 0.19309306144714355, 0.03692106530070305, 0.13826927542686462, 0.08180852979421616, 0.0, 0.0, 0.0, 0.0, 0.0, 0.0, 0.0, 0.0, 0.0, 0.0, 0.0, 0.0], [0.03959657996892929, 0.08328874409198761, 0.12181112915277481, 0.05344158411026001, 0.043855149298906326, 0.07951963692903519, 0.08290859311819077, 0.0527140349149704, 0.13482768833637238, 0.042770665138959885, 0.09431391209363937, 0.09509196132421494, 0.07586031407117844, 0.0, 0.0, 0.0, 0.0, 0.0, 0.0, 0.0, 0.0, 0.0, 0.0, 0.0], [0.09043365716934204, 0.05203859880566597, 0.1014895960688591, 0.09758014231920242, 0.030221886932849884, 0.06964859366416931, 0.055696677416563034, 0.010619966313242912, 0.12971273064613342, 0.026981743052601814, 0.150186687707901, 0.06491647660732269, 0.04380413889884949, 0.0766691118478775, 0.0, 0.0, 0.0, 0.0, 0.0, 0.0, 0.0, 0.0, 0.0, 0.0], [0.07688788324594498, 0.0966285839676857, 0.12604621052742004, 0.02400808036327362, 0.04740380123257637, 0.08000006526708603, 0.03963403403759003, 0.03319327533245087, 0.023641694337129593, 0.023797491565346718, 0.10152970999479294, 0.05975402891635895, 0.13290436565876007, 0.07296250015497208, 0.06160830706357956, 0.0, 0.0, 0.0, 0.0, 0.0, 0.0, 0.0, 0.0, 0.0], [0.04306519031524658, 0.03921285644173622, 0.08350058645009995, 0.08812537789344788, 0.02056940831243992, 0.053242359310388565, 0.05857012793421745, 0.010338692925870419, 0.2123662531375885, 0.023793885484337807, 0.10916097462177277, 0.06294959038496017, 0.027888506650924683, 0.055529579520225525, 0.08869720250368118, 0.022989394143223763, 0.0, 0.0, 0.0, 0.0, 0.0, 0.0, 0.0, 0.0], [0.05208413302898407, 0.0670648068189621, 0.13434340059757233, 0.027293220162391663, 0.02283378876745701, 0.06603110581636429, 0.03670642897486687, 0.011678320355713367, 0.04834883287549019, 0.013086801394820213, 0.12311925739049911, 0.05652835965156555, 0.07399260997772217, 0.061132948845624924, 0.0659196525812149, 0.0668376013636589, 0.07299871742725372, 0.0, 0.0, 0.0, 0.0, 0.0, 0.0, 0.0], [0.050734855234622955, 0.07208392024040222, 0.1080537661910057, 0.02839456871151924, 0.03368278220295906, 0.06576596200466156, 0.04223954305052757, 0.02512579783797264, 0.04203829541802406, 0.02158072404563427, 0.0906117856502533, 0.05846485495567322, 0.08234523981809616, 0.060130003839731216, 0.05524533614516258, 0.08101750910282135, 0.04587717354297638, 0.036607880145311356, 0.0, 0.0, 0.0, 0.0, 0.0, 0.0], [0.02684415690600872, 0.05726546421647072, 0.11823001503944397, 0.024259978905320168, 0.018029432743787766, 0.05499348044395447, 0.040923960506916046, 0.014156137593090534, 0.07363548874855042, 0.012929443269968033, 0.09155762940645218, 0.058633171021938324, 0.05560978874564171, 0.04767419397830963, 0.04414822533726692, 0.05523112043738365, 0.09465872496366501, 0.019999437034130096, 0.09122012555599213, 0.0, 0.0, 0.0, 0.0, 0.0], [0.028066463768482208, 0.04388212412595749, 0.11840038746595383, 0.022732114419341087, 0.011065627448260784, 0.047284822911024094, 0.029803358018398285, 0.005220659542828798, 0.06958914548158646, 0.007117332890629768, 0.10999909043312073, 0.04658185690641403, 0.04117276147007942, 0.043015558272600174, 0.0510050505399704, 0.0361231192946434, 0.13562718033790588, 0.014398878440260887, 0.09861071407794952, 0.04030382260680199, 0.0, 0.0, 0.0, 0.0], [0.025872232392430305, 0.05864532291889191, 0.09365715831518173, 0.024104444310069084, 0.024500155821442604, 0.052737005054950714, 0.043914731591939926, 0.026236506178975105, 0.06077894568443298, 0.019164184108376503, 0.06766244024038315, 0.057481370866298676, 0.05909794941544533, 0.04537109658122063, 0.03678126633167267, 0.06297288835048676, 0.05920387804508209, 0.02450709603726864, 0.07024576514959335, 0.04574759304523468, 0.04131796211004257, 0.0, 0.0, 0.0], [0.06910363584756851, 0.02611859329044819, 0.040317267179489136, 0.06915925443172455, 0.022861573845148087, 0.036295950412750244, 0.029996709898114204, 0.007527290377765894, 0.055331192910671234, 0.02183797024190426, 0.06956937909126282, 0.03138792887330055, 0.02260974422097206, 0.04295600950717926, 0.08264388889074326, 0.016771063208580017, 0.14656893908977509, 0.03245532885193825, 0.059293635189533234, 0.04016784951090813, 0.040451448410749435, 0.03657541051506996, 0.0, 0.0], [0.05031472072005272, 0.03520456701517105, 0.04186422750353813, 0.05464457720518112, 0.03373691439628601, 0.040389202535152435, 0.03912356123328209, 0.022504054009914398, 0.05246930569410324, 0.03444427624344826, 0.05181831493973732, 0.039152540266513824, 0.03251343220472336, 0.04311349615454674, 0.05580737814307213, 0.029034748673439026, 0.07716633379459381, 0.03849061578512192, 0.050440698862075806, 0.04289967194199562, 0.04253461956977844, 0.04254768416285515, 0.049785029143095016, 0.0], [0.08383791893720627, 0.034804243594408035, 0.02322619967162609, 0.049681518226861954, 0.06735267490148544, 0.036107562482357025, 0.03093503788113594, 0.0499684102833271, 0.016347549855709076, 0.06283735483884811, 0.030986933037638664, 0.027881616726517677, 0.04056214168667793, 0.04133492708206177, 0.04945025593042374, 0.03715553507208824, 0.016613226383924484, 0.07057441025972366, 0.02323608472943306, 0.035239338874816895, 0.0415845550596714, 0.04477173835039139, 0.03731728717684746, 0.04819347336888313]], [[1.0, 0.0, 0.0, 0.0, 0.0, 0.0, 0.0, 0.0, 0.0, 0.0, 0.0, 0.0, 0.0, 0.0, 0.0, 0.0, 0.0, 0.0, 0.0, 0.0, 0.0, 0.0, 0.0, 0.0], [0.6941601037979126, 0.305839866399765, 0.0, 0.0, 0.0, 0.0, 0.0, 0.0, 0.0, 0.0, 0.0, 0.0, 0.0, 0.0, 0.0, 0.0, 0.0, 0.0, 0.0, 0.0, 0.0, 0.0, 0.0, 0.0], [0.3055115044116974, 0.37802085280418396, 0.31646767258644104, 0.0, 0.0, 0.0, 0.0, 0.0, 0.0, 0.0, 0.0, 0.0, 0.0, 0.0, 0.0, 0.0, 0.0, 0.0, 0.0, 0.0, 0.0, 0.0, 0.0, 0.0], [0.3323742747306824, 0.19465777277946472, 0.15131928026676178, 0.3216487169265747, 0.0, 0.0, 0.0, 0.0, 0.0, 0.0, 0.0, 0.0, 0.0, 0.0, 0.0, 0.0, 0.0, 0.0, 0.0, 0.0, 0.0, 0.0, 0.0, 0.0], [0.5904244780540466, 0.1335928738117218, 0.1253567636013031, 0.030105343088507652, 0.12052062153816223, 0.0, 0.0, 0.0, 0.0, 0.0, 0.0, 0.0, 0.0, 0.0, 0.0, 0.0, 0.0, 0.0, 0.0, 0.0, 0.0, 0.0, 0.0, 0.0], [0.16727139055728912, 0.18149390816688538, 0.1642010658979416, 0.12703248858451843, 0.16193756461143494, 0.19806355237960815, 0.0, 0.0, 0.0, 0.0, 0.0, 0.0, 0.0, 0.0, 0.0, 0.0, 0.0, 0.0, 0.0, 0.0, 0.0, 0.0, 0.0, 0.0], [0.03178715333342552, 0.08288267254829407, 0.06810858100652695, 0.4775753915309906, 0.13668425381183624, 0.12928970158100128, 0.07367226481437683, 0.0, 0.0, 0.0, 0.0, 0.0, 0.0, 0.0, 0.0, 0.0, 0.0, 0.0, 0.0, 0.0, 0.0, 0.0, 0.0, 0.0], [0.15254604816436768, 0.10067170113325119, 0.06386595219373703, 0.30126187205314636, 0.2224581092596054, 0.06003063544631004, 0.03328100964426994, 0.06588470190763474, 0.0, 0.0, 0.0, 0.0, 0.0, 0.0, 0.0, 0.0, 0.0, 0.0, 0.0, 0.0, 0.0, 0.0, 0.0, 0.0], [0.12021388858556747, 0.0980791226029396, 0.07871869206428528, 0.21589964628219604, 0.15949495136737823, 0.07380398362874985, 0.057234425097703934, 0.0746510699391365, 0.12190424650907516, 0.0, 0.0, 0.0, 0.0, 0.0, 0.0, 0.0, 0.0, 0.0, 0.0, 0.0, 0.0, 0.0, 0.0, 0.0], [0.2106490433216095, 0.11296576261520386, 0.10079300403594971, 0.08054327964782715, 0.12670308351516724, 0.0734572559595108, 0.07267533987760544, 0.0871639996767044, 0.048354990780353546, 0.08669421076774597, 0.0, 0.0, 0.0, 0.0, 0.0, 0.0, 0.0, 0.0, 0.0, 0.0, 0.0, 0.0, 0.0, 0.0], [0.08056668192148209, 0.07786582410335541, 0.05403799191117287, 0.1872689127922058, 0.13421371579170227, 0.06396476924419403, 0.035338032990694046, 0.0663054957985878, 0.11840961873531342, 0.08964715898036957, 0.09238187223672867, 0.0, 0.0, 0.0, 0.0, 0.0, 0.0, 0.0, 0.0, 0.0, 0.0, 0.0, 0.0, 0.0], [0.11401695758104324, 0.08839951455593109, 0.09550099819898605, 0.05891404673457146, 0.07821517437696457, 0.07830362766981125, 0.09610185027122498, 0.08275531977415085, 0.05453309044241905, 0.07614308595657349, 0.07327232509851456, 0.10384400188922882, 0.0, 0.0, 0.0, 0.0, 0.0, 0.0, 0.0, 0.0, 0.0, 0.0, 0.0, 0.0], [0.13844306766986847, 0.083695188164711, 0.07672460377216339, 0.06242380291223526, 0.09086225926876068, 0.059319935739040375, 0.05926075577735901, 0.06814870238304138, 0.04172128811478615, 0.06728961318731308, 0.060653891414403915, 0.08562000840902328, 0.105836883187294, 0.0, 0.0, 0.0, 0.0, 0.0, 0.0, 0.0, 0.0, 0.0, 0.0, 0.0], [0.10871364921331406, 0.0749557614326477, 0.0759630873799324, 0.04871075227856636, 0.07032522559165955, 0.060496699064970016, 0.06855139881372452, 0.06682367622852325, 0.0400417186319828, 0.06130804494023323, 0.05565046891570091, 0.08358272165060043, 0.08488639444112778, 0.09999040514230728, 0.0, 0.0, 0.0, 0.0, 0.0, 0.0, 0.0, 0.0, 0.0, 0.0], [0.10298551619052887, 0.07351192086935043, 0.08500495553016663, 0.02659256011247635, 0.05061308294534683, 0.0669686570763588, 0.09035724401473999, 0.07541029155254364, 0.029537921771407127, 0.05295070633292198, 0.040258653461933136, 0.09329929947853088, 0.0762200579047203, 0.08982466161251068, 0.04646442458033562, 0.0, 0.0, 0.0, 0.0, 0.0, 0.0, 0.0, 0.0, 0.0], [0.09605396538972855, 0.06484387814998627, 0.05821764096617699, 0.044506341218948364, 0.066587895154953, 0.050150126218795776, 0.045608289539813995, 0.05789192020893097, 0.0343543216586113, 0.051661986857652664, 0.04137152433395386, 0.06179717928171158, 0.08046751469373703, 0.08977247029542923, 0.07940664142370224, 0.07730826735496521, 0.0, 0.0, 0.0, 0.0, 0.0, 0.0, 0.0, 0.0], [0.1150590181350708, 0.06006328761577606, 0.07662837952375412, 0.020916951820254326, 0.04259556531906128, 0.044509533792734146, 0.08196073770523071, 0.050443559885025024, 0.01742502860724926, 0.04140034690499306, 0.0395427830517292, 0.09648732841014862, 0.06439351290464401, 0.09467890113592148, 0.030212657526135445, 0.09846571087837219, 0.025216704234480858, 0.0, 0.0, 0.0, 0.0, 0.0, 0.0, 0.0], [0.1643855720758438, 0.054309360682964325, 0.04334455728530884, 0.02059539407491684, 0.05827432498335838, 0.026368282735347748, 0.023728881031274796, 0.037846628576517105, 0.009670491330325603, 0.030154483392834663, 0.018928270787000656, 0.053203437477350235, 0.09414605796337128, 0.13540945947170258, 0.08124611526727676, 0.08918925374746323, 0.02840135619044304, 0.03079811856150627, 0.0, 0.0, 0.0, 0.0, 0.0, 0.0], [0.13811972737312317, 0.05519628897309303, 0.05876210704445839, 0.020218703895807266, 0.0475396066904068, 0.03245396167039871, 0.04710474982857704, 0.04067542776465416, 0.012219086289405823, 0.034542497247457504, 0.0293254517018795, 0.07556384056806564, 0.07333354651927948, 0.11242299526929855, 0.042394813150167465, 0.0927758663892746, 0.02512550726532936, 0.021115174517035484, 0.041110653430223465, 0.0, 0.0, 0.0, 0.0, 0.0], [0.12845301628112793, 0.053952619433403015, 0.06078105792403221, 0.01562713086605072, 0.040525004267692566, 0.03420272096991539, 0.05286051332950592, 0.04293409362435341, 0.011057950556278229, 0.03236041218042374, 0.02537778578698635, 0.07728341221809387, 0.06820463389158249, 0.1028156504034996, 0.035327423363924026, 0.09536232054233551, 0.020861051976680756, 0.017450369894504547, 0.03387582674622536, 0.050686974078416824, 0.0, 0.0, 0.0, 0.0], [0.12579244375228882, 0.04724010452628136, 0.04346530884504318, 0.02017105743288994, 0.04748152196407318, 0.02540794387459755, 0.02900497056543827, 0.033358506858348846, 0.010493683628737926, 0.029186062514781952, 0.022740324959158897, 0.054514385759830475, 0.07073791325092316, 0.10449829697608948, 0.05171431601047516, 0.07538797706365585, 0.025181325152516365, 0.023742148652672768, 0.046920303255319595, 0.06510016322135925, 0.047861240804195404, 0.0, 0.0, 0.0], [0.014583469368517399, 0.015520869754254818, 0.008123868145048618, 0.1537407487630844, 0.05249624326825142, 0.01091696135699749, 0.00395199004560709, 0.010397600941359997, 0.05674799159169197, 0.02549602836370468, 0.039638321846723557, 0.007310712244361639, 0.022556809708476067, 0.01875361241400242, 0.09137218445539474, 0.007816924713551998, 0.08760754019021988, 0.12095803767442703, 0.08879455924034119, 0.053621672093868256, 0.05475375056266785, 0.0548400804400444, 0.0, 0.0], [0.029159411787986755, 0.03578054904937744, 0.03755544498562813, 0.06919726729393005, 0.04253749921917915, 0.03853924944996834, 0.04206562414765358, 0.03376501053571701, 0.06512564420700073, 0.04618019238114357, 0.06736541539430618, 0.03752630949020386, 0.03172535449266434, 0.031242676079273224, 0.03473580628633499, 0.029460325837135315, 0.05375193431973457, 0.04815298318862915, 0.039757221937179565, 0.034374117851257324, 0.03844219446182251, 0.0705842673778534, 0.042975544929504395, 0.0], [0.010958947241306305, 0.019892437383532524, 0.014278818853199482, 0.11557670682668686, 0.039393626153469086, 0.023276379331946373, 0.01180689875036478, 0.019539151340723038, 0.09643735736608505, 0.03430469334125519, 0.04917355999350548, 0.011734841391444206, 0.019699212163686752, 0.01404830627143383, 0.05288606137037277, 0.010346819646656513, 0.075286865234375, 0.09525585174560547, 0.0542483851313591, 0.03388223424553871, 0.0406612865626812, 0.07714865356683731, 0.02750399522483349, 0.05265891179442406]], [[1.0, 0.0, 0.0, 0.0, 0.0, 0.0, 0.0, 0.0, 0.0, 0.0, 0.0, 0.0, 0.0, 0.0, 0.0, 0.0, 0.0, 0.0, 0.0, 0.0, 0.0, 0.0, 0.0, 0.0], [0.2131311446428299, 0.7868688106536865, 0.0, 0.0, 0.0, 0.0, 0.0, 0.0, 0.0, 0.0, 0.0, 0.0, 0.0, 0.0, 0.0, 0.0, 0.0, 0.0, 0.0, 0.0, 0.0, 0.0, 0.0, 0.0], [0.17057250440120697, 0.2984716296195984, 0.5309558510780334, 0.0, 0.0, 0.0, 0.0, 0.0, 0.0, 0.0, 0.0, 0.0, 0.0, 0.0, 0.0, 0.0, 0.0, 0.0, 0.0, 0.0, 0.0, 0.0, 0.0, 0.0], [0.23990043997764587, 0.21282967925071716, 0.1923419088125229, 0.3549279272556305, 0.0, 0.0, 0.0, 0.0, 0.0, 0.0, 0.0, 0.0, 0.0, 0.0, 0.0, 0.0, 0.0, 0.0, 0.0, 0.0, 0.0, 0.0, 0.0, 0.0], [0.17313994467258453, 0.27238765358924866, 0.301449179649353, 0.08933712542057037, 0.16368602216243744, 0.0, 0.0, 0.0, 0.0, 0.0, 0.0, 0.0, 0.0, 0.0, 0.0, 0.0, 0.0, 0.0, 0.0, 0.0, 0.0, 0.0, 0.0, 0.0], [0.17611369490623474, 0.18173880875110626, 0.2059469074010849, 0.14066775143146515, 0.13109111785888672, 0.16444173455238342, 0.0, 0.0, 0.0, 0.0, 0.0, 0.0, 0.0, 0.0, 0.0, 0.0, 0.0, 0.0, 0.0, 0.0, 0.0, 0.0, 0.0, 0.0], [0.23158681392669678, 0.114900141954422, 0.0689760372042656, 0.20293432474136353, 0.223638653755188, 0.06108805164694786, 0.09687595069408417, 0.0, 0.0, 0.0, 0.0, 0.0, 0.0, 0.0, 0.0, 0.0, 0.0, 0.0, 0.0, 0.0, 0.0, 0.0, 0.0, 0.0], [0.0578521266579628, 0.11439939588308334, 0.27908772230148315, 0.018922045826911926, 0.015414336696267128, 0.11682423204183578, 0.282595157623291, 0.11490492522716522, 0.0, 0.0, 0.0, 0.0, 0.0, 0.0, 0.0, 0.0, 0.0, 0.0, 0.0, 0.0, 0.0, 0.0, 0.0, 0.0], [0.0777810588479042, 0.08653536438941956, 0.1317843645811081, 0.009053130634129047, 0.012699794955551624, 0.04223673418164253, 0.2355099469423294, 0.3739255964756012, 0.030474061146378517, 0.0, 0.0, 0.0, 0.0, 0.0, 0.0, 0.0, 0.0, 0.0, 0.0, 0.0, 0.0, 0.0, 0.0, 0.0], [0.12087205797433853, 0.09017722308635712, 0.05352344736456871, 0.03419383242726326, 0.09526042640209198, 0.06056775525212288, 0.09220798313617706, 0.28059208393096924, 0.0670524388551712, 0.10555268824100494, 0.0, 0.0, 0.0, 0.0, 0.0, 0.0, 0.0, 0.0, 0.0, 0.0, 0.0, 0.0, 0.0, 0.0], [0.06340041756629944, 0.07205942273139954, 0.05736859142780304, 0.136997252702713, 0.16426792740821838, 0.12178342044353485, 0.044280678033828735, 0.03153374791145325, 0.10023874789476395, 0.12628379464149475, 0.08178594708442688, 0.0, 0.0, 0.0, 0.0, 0.0, 0.0, 0.0, 0.0, 0.0, 0.0, 0.0, 0.0, 0.0], [0.1148773655295372, 0.08213523775339127, 0.054941534996032715, 0.044864848256111145, 0.0865277498960495, 0.05279811844229698, 0.08598192781209946, 0.23040790855884552, 0.06905810534954071, 0.09165678173303604, 0.04503832012414932, 0.04171201214194298, 0.0, 0.0, 0.0, 0.0, 0.0, 0.0, 0.0, 0.0, 0.0, 0.0, 0.0, 0.0], [0.0446694940328598, 0.06302641332149506, 0.08115293085575104, 0.11288696527481079, 0.07519551366567612, 0.10870573669672012, 0.05269060283899307, 0.02106279879808426, 0.07699830085039139, 0.06761211156845093, 0.09931178390979767, 0.13286320865154266, 0.06382417678833008, 0.0, 0.0, 0.0, 0.0, 0.0, 0.0, 0.0, 0.0, 0.0, 0.0, 0.0], [0.02042248286306858, 0.08133796602487564, 0.18206219375133514, 0.0024358464870601892, 0.007376391906291246, 0.167077898979187, 0.19793030619621277, 0.05016016960144043, 0.016375072300434113, 0.019945792853832245, 0.015397505834698677, 0.1830318570137024, 0.023850170895457268, 0.03259625658392906, 0.0, 0.0, 0.0, 0.0, 0.0, 0.0, 0.0, 0.0, 0.0, 0.0], [0.03532542288303375, 0.06864632666110992, 0.13474196195602417, 0.04536259546875954, 0.029087305068969727, 0.1144721657037735, 0.09218737483024597, 0.025541845709085464, 0.05062315613031387, 0.037531591951847076, 0.08149127662181854, 0.14772236347198486, 0.05161570385098457, 0.049252938479185104, 0.03639794513583183, 0.0, 0.0, 0.0, 0.0, 0.0, 0.0, 0.0, 0.0, 0.0], [0.04553587734699249, 0.05709123611450195, 0.05198698490858078, 0.07408273220062256, 0.08987634629011154, 0.09321697056293488, 0.04172120988368988, 0.02725715935230255, 0.06580652296543121, 0.0788470059633255, 0.05715768784284592, 0.09878002852201462, 0.05448513105511665, 0.03646281361579895, 0.06705005466938019, 0.06064220517873764, 0.0, 0.0, 0.0, 0.0, 0.0, 0.0, 0.0, 0.0], [0.0401628352701664, 0.0701456069946289, 0.11701682955026627, 0.0033186112996190786, 0.007583141792565584, 0.053199153393507004, 0.1962871551513672, 0.19017964601516724, 0.01767868362367153, 0.01839361898601055, 0.01675289124250412, 0.04782809689640999, 0.030737105756998062, 0.06934810429811478, 0.007784696761518717, 0.1048884466290474, 0.008695353753864765, 0.0, 0.0, 0.0, 0.0, 0.0, 0.0, 0.0], [0.03282027319073677, 0.05243296176195145, 0.07724963128566742, 0.05930178239941597, 0.041977278888225555, 0.08912540972232819, 0.05249538645148277, 0.018981661647558212, 0.05142831802368164, 0.04378660395741463, 0.06925545632839203, 0.10960110276937485, 0.046421803534030914, 0.036537766456604004, 0.04495447874069214, 0.07233535498380661, 0.05721581354737282, 0.044078946113586426, 0.0, 0.0, 0.0, 0.0, 0.0, 0.0], [0.022732986137270927, 0.06601510941982269, 0.1339847445487976, 0.00868343934416771, 0.01347337942570448, 0.13107627630233765, 0.11504001170396805, 0.02959551475942135, 0.02496814914047718, 0.025162801146507263, 0.0289347805082798, 0.15497438609600067, 0.02991728112101555, 0.03253591060638428, 0.01178529392927885, 0.12966559827327728, 0.019201241433620453, 0.009940750896930695, 0.0123123275116086, 0.0, 0.0, 0.0, 0.0, 0.0], [0.03850637376308441, 0.05456574633717537, 0.05171879753470421, 0.03502928093075752, 0.05790926143527031, 0.08699186891317368, 0.047327540814876556, 0.032251324504613876, 0.046613119542598724, 0.06066995859146118, 0.03672456368803978, 0.0882236659526825, 0.042788051068782806, 0.032719939947128296, 0.039828695356845856, 0.061786241829395294, 0.05170659348368645, 0.049561530351638794, 0.03345643728971481, 0.05162092670798302, 0.0, 0.0, 0.0, 0.0], [0.016243331134319305, 0.048532288521528244, 0.11744274199008942, 0.02315313182771206, 0.016320303082466125, 0.128252312541008, 0.06544686108827591, 0.009048782289028168, 0.03028012625873089, 0.023247120901942253, 0.0510270856320858, 0.1840309500694275, 0.02922261878848076, 0.023082824423909187, 0.017989110201597214, 0.10225076973438263, 0.030220897868275642, 0.015478098765015602, 0.012698584236204624, 0.04754519462585449, 0.008486846461892128, 0.0, 0.0, 0.0], [0.03157779574394226, 0.06352429836988449, 0.1381145417690277, 0.006467293482273817, 0.007806537672877312, 0.06281688064336777, 0.1623735874891281, 0.08163660764694214, 0.020871708169579506, 0.0167751032859087, 0.028382305055856705, 0.06758606433868408, 0.03189215064048767, 0.05902448669075966, 0.010013248771429062, 0.10998210310935974, 0.01190513651818037, 0.006086181383579969, 0.01614692434668541, 0.02303827926516533, 0.01818898133933544, 0.025789812207221985, 0.0, 0.0], [0.05251342058181763, 0.05341888964176178, 0.04574152082204819, 0.0035201827995479107, 0.013947391882538795, 0.028773246333003044, 0.10592353343963623, 0.3101172149181366, 0.017699535936117172, 0.026400968432426453, 0.009968613274395466, 0.020442597568035126, 0.02910039760172367, 0.06230371072888374, 0.01036608126014471, 0.05114305391907692, 0.009624621830880642, 0.008658243343234062, 0.02417290024459362, 0.01307331956923008, 0.043761737644672394, 0.03149118646979332, 0.02783765271306038, 0.0], [0.030011093243956566, 0.019626636058092117, 0.01447369996458292, 0.11930649727582932, 0.0688328742980957, 0.019906597211956978, 0.011349481530487537, 0.013542909175157547, 0.04418022185564041, 0.041258711367845535, 0.04695052653551102, 0.020752444863319397, 0.03322942554950714, 0.022696156054735184, 0.07326914370059967, 0.014874259009957314, 0.06387048959732056, 0.09011302888393402, 0.050866033881902695, 0.043983835726976395, 0.042679451406002045, 0.044113077223300934, 0.03821403533220291, 0.03189932927489281]]]}\n",
       "    )\n",
       "    </script>"
      ],
      "text/plain": [
       "<circuitsvis.utils.render.RenderedHTML at 0x4cbe9db20>"
      ]
     },
     "metadata": {},
     "output_type": "display_data"
    },
    {
     "name": "stdout",
     "output_type": "stream",
     "text": [
      "Layer:  1\n"
     ]
    },
    {
     "data": {
      "text/html": [
       "<div id=\"circuits-vis-8bf3bffa-2d48\" style=\"margin: 15px 0;\"/>\n",
       "    <script crossorigin type=\"module\">\n",
       "    import { render, AttentionPatterns } from \"https://unpkg.com/circuitsvis@1.43.2/dist/cdn/esm.js\";\n",
       "    render(\n",
       "      \"circuits-vis-8bf3bffa-2d48\",\n",
       "      AttentionPatterns,\n",
       "      {\"tokens\": [\"<\", \"a\", \"a\", \"a\", \"a\", \"h\", \"n\", \"x\", \"|\", \"x\", \"n\", \"h\", \"a\", \"a\", \"a\", \"a\", \"|\", \"a\", \"a\", \"a\", \"a\", \"h\", \"n\", \"x\"], \"attention\": [[[1.0, 0.0, 0.0, 0.0, 0.0, 0.0, 0.0, 0.0, 0.0, 0.0, 0.0, 0.0, 0.0, 0.0, 0.0, 0.0, 0.0, 0.0, 0.0, 0.0, 0.0, 0.0, 0.0, 0.0], [0.5037322044372559, 0.49626776576042175, 0.0, 0.0, 0.0, 0.0, 0.0, 0.0, 0.0, 0.0, 0.0, 0.0, 0.0, 0.0, 0.0, 0.0, 0.0, 0.0, 0.0, 0.0, 0.0, 0.0, 0.0, 0.0], [0.3216771185398102, 0.3235931396484375, 0.35472971200942993, 0.0, 0.0, 0.0, 0.0, 0.0, 0.0, 0.0, 0.0, 0.0, 0.0, 0.0, 0.0, 0.0, 0.0, 0.0, 0.0, 0.0, 0.0, 0.0, 0.0, 0.0], [0.2466060370206833, 0.26135942339897156, 0.3786645233631134, 0.11336996406316757, 0.0, 0.0, 0.0, 0.0, 0.0, 0.0, 0.0, 0.0, 0.0, 0.0, 0.0, 0.0, 0.0, 0.0, 0.0, 0.0, 0.0, 0.0, 0.0, 0.0], [0.24837984144687653, 0.2726497948169708, 0.1443789005279541, 0.27396512031555176, 0.060626350343227386, 0.0, 0.0, 0.0, 0.0, 0.0, 0.0, 0.0, 0.0, 0.0, 0.0, 0.0, 0.0, 0.0, 0.0, 0.0, 0.0, 0.0, 0.0, 0.0], [0.21207277476787567, 0.23517918586730957, 0.17250852286815643, 0.17211855947971344, 0.08897923678159714, 0.11914169043302536, 0.0, 0.0, 0.0, 0.0, 0.0, 0.0, 0.0, 0.0, 0.0, 0.0, 0.0, 0.0, 0.0, 0.0, 0.0, 0.0, 0.0, 0.0], [0.10152105987071991, 0.14271971583366394, 0.0912746787071228, 0.07057777047157288, 0.2571788430213928, 0.2827841639518738, 0.0539436899125576, 0.0, 0.0, 0.0, 0.0, 0.0, 0.0, 0.0, 0.0, 0.0, 0.0, 0.0, 0.0, 0.0, 0.0, 0.0, 0.0, 0.0], [0.1552700251340866, 0.20687709748744965, 0.06537194550037384, 0.2669451832771301, 0.1928471028804779, 0.08589043468236923, 0.018939390778541565, 0.00785885937511921, 0.0, 0.0, 0.0, 0.0, 0.0, 0.0, 0.0, 0.0, 0.0, 0.0, 0.0, 0.0, 0.0, 0.0, 0.0, 0.0], [0.017579955980181694, 0.017954347655177116, 0.03337383642792702, 0.011894287541508675, 0.0997142344713211, 0.12219636142253876, 0.11731380969285965, 0.467425674200058, 0.11254744231700897, 0.0, 0.0, 0.0, 0.0, 0.0, 0.0, 0.0, 0.0, 0.0, 0.0, 0.0, 0.0, 0.0, 0.0, 0.0], [0.08989010751247406, 0.07584057748317719, 0.10496077686548233, 0.09037650376558304, 0.04845288395881653, 0.057593632489442825, 0.13455843925476074, 0.13369454443454742, 0.061892736703157425, 0.20273981988430023, 0.0, 0.0, 0.0, 0.0, 0.0, 0.0, 0.0, 0.0, 0.0, 0.0, 0.0, 0.0, 0.0, 0.0], [0.07478035986423492, 0.11350949108600616, 0.06645642220973969, 0.04642193764448166, 0.2212260663509369, 0.2593592405319214, 0.034193310886621475, 0.03336403891444206, 0.09991200268268585, 0.011716524139046669, 0.039060648530721664, 0.0, 0.0, 0.0, 0.0, 0.0, 0.0, 0.0, 0.0, 0.0, 0.0, 0.0, 0.0, 0.0], [0.17148122191429138, 0.20602843165397644, 0.13778400421142578, 0.1040174588561058, 0.04581168666481972, 0.08652959018945694, 0.03635561466217041, 0.012056957930326462, 0.022566678002476692, 0.051785893738269806, 0.023379916325211525, 0.10220252722501755, 0.0, 0.0, 0.0, 0.0, 0.0, 0.0, 0.0, 0.0, 0.0, 0.0, 0.0, 0.0], [0.1576720029115677, 0.18938274681568146, 0.09157094359397888, 0.17231877148151398, 0.0758829116821289, 0.06797999888658524, 0.02659478597342968, 0.009546181187033653, 0.04812564328312874, 0.04022284224629402, 0.03389289975166321, 0.04458918422460556, 0.042221102863550186, 0.0, 0.0, 0.0, 0.0, 0.0, 0.0, 0.0, 0.0, 0.0, 0.0, 0.0], [0.07290808856487274, 0.07601960003376007, 0.06522310525178909, 0.08194301277399063, 0.09204872697591782, 0.07632167637348175, 0.061031341552734375, 0.060511860996484756, 0.09064661711454391, 0.057029057294130325, 0.07456555962562561, 0.05535050109028816, 0.07194644957780838, 0.06445437669754028, 0.0, 0.0, 0.0, 0.0, 0.0, 0.0, 0.0, 0.0, 0.0, 0.0], [0.15359200537204742, 0.1570962518453598, 0.08666376024484634, 0.20686717331409454, 0.037825461477041245, 0.032013650983572006, 0.027180997654795647, 0.008137400262057781, 0.031543903052806854, 0.07286964356899261, 0.0328930988907814, 0.04487137123942375, 0.026943018659949303, 0.03728700429201126, 0.04421530291438103, 0.0, 0.0, 0.0, 0.0, 0.0, 0.0, 0.0, 0.0, 0.0], [0.12227211147546768, 0.1338370442390442, 0.0839538499712944, 0.1335688680410385, 0.060707952827215195, 0.057162005454301834, 0.035676997154951096, 0.01655089668929577, 0.04656685143709183, 0.05464300885796547, 0.04062683880329132, 0.0522441640496254, 0.04377797991037369, 0.04309011250734329, 0.05185684934258461, 0.023464463651180267, 0.0, 0.0, 0.0, 0.0, 0.0, 0.0, 0.0, 0.0], [0.06849317252635956, 0.08002012968063354, 0.09835802018642426, 0.023013262078166008, 0.02619490958750248, 0.09381641447544098, 0.04917919263243675, 0.03143780305981636, 0.01228021364659071, 0.03886600583791733, 0.017031097784638405, 0.14855985343456268, 0.05499435216188431, 0.03804941102862358, 0.06129473075270653, 0.10236687958240509, 0.05604453757405281, 0.0, 0.0, 0.0, 0.0, 0.0, 0.0, 0.0], [0.0745377242565155, 0.055655337870121, 0.04253716394305229, 0.21660470962524414, 0.02417527325451374, 0.00987226702272892, 0.036917731165885925, 0.019185209646821022, 0.048654478043317795, 0.15701992809772491, 0.07002496719360352, 0.025393232703208923, 0.018306488171219826, 0.054830946028232574, 0.03878239169716835, 0.006839278619736433, 0.05864492058753967, 0.04201802238821983, 0.0, 0.0, 0.0, 0.0, 0.0, 0.0], [0.0213105920702219, 0.020725814625620842, 0.03675452992320061, 0.012638159096240997, 0.03302275389432907, 0.057338520884513855, 0.07088252156972885, 0.13887998461723328, 0.032404009252786636, 0.039352674037218094, 0.04138052463531494, 0.07141739130020142, 0.0612093061208725, 0.05225834250450134, 0.05168500170111656, 0.1526338756084442, 0.024938974529504776, 0.059267107397317886, 0.02189994789659977, 0.0, 0.0, 0.0, 0.0, 0.0], [0.006380037870258093, 0.005148868542164564, 0.01196152064949274, 0.006784068886190653, 0.02608218975365162, 0.022861992940306664, 0.06736262887716293, 0.299376904964447, 0.05065279081463814, 0.033897798508405685, 0.06409408897161484, 0.026935944333672523, 0.04285399243235588, 0.050044022500514984, 0.03201569989323616, 0.12075185775756836, 0.00964362919330597, 0.07676246017217636, 0.015683840960264206, 0.030705640092492104, 0.0, 0.0, 0.0, 0.0], [0.031374648213386536, 0.037045300006866455, 0.024895591661334038, 0.04096533730626106, 0.10420694202184677, 0.05974460393190384, 0.025266068056225777, 0.03307883068919182, 0.09692561626434326, 0.014476309530436993, 0.04684237390756607, 0.016629941761493683, 0.04784616455435753, 0.02782280556857586, 0.02744944766163826, 0.03336852043867111, 0.03826667368412018, 0.037917256355285645, 0.05675794556736946, 0.08252867311239243, 0.11659101396799088, 0.0, 0.0, 0.0], [0.006790321320295334, 0.005852062720805407, 0.0067703635431826115, 0.015209166333079338, 0.035767171531915665, 0.012528975494205952, 0.024106379598379135, 0.07107116281986237, 0.07765240222215652, 0.016919299960136414, 0.056108251214027405, 0.006757447961717844, 0.022134726867079735, 0.025382889434695244, 0.015085107646882534, 0.021825509145855904, 0.01000193227082491, 0.041416607797145844, 0.02455759607255459, 0.06911367923021317, 0.22523178160190582, 0.20971713960170746, 0.0, 0.0], [0.012101739645004272, 0.010396633297204971, 0.023074427619576454, 0.008338216692209244, 0.01889227330684662, 0.029680335894227028, 0.06710757315158844, 0.16604258120059967, 0.024769622832536697, 0.04272230714559555, 0.03936385363340378, 0.053550634533166885, 0.04227745905518532, 0.04826908931136131, 0.040422193706035614, 0.12282942235469818, 0.014711230993270874, 0.05596669763326645, 0.0145776541903615, 0.016228022053837776, 0.04472304508090019, 0.05146687477827072, 0.05248808488249779, 0.0], [0.06600523740053177, 0.06837313622236252, 0.03556998074054718, 0.12569156289100647, 0.049630485475063324, 0.024296563118696213, 0.01865643635392189, 0.009708010591566563, 0.05275394767522812, 0.03334270790219307, 0.03727645054459572, 0.016581041738390923, 0.02297309786081314, 0.02637012116611004, 0.025849750265479088, 0.008162841200828552, 0.05774597451090813, 0.024243555963039398, 0.07255952805280685, 0.08567389845848083, 0.04000794515013695, 0.04315939173102379, 0.02422279119491577, 0.031145546585321426]], [[1.0, 0.0, 0.0, 0.0, 0.0, 0.0, 0.0, 0.0, 0.0, 0.0, 0.0, 0.0, 0.0, 0.0, 0.0, 0.0, 0.0, 0.0, 0.0, 0.0, 0.0, 0.0, 0.0, 0.0], [0.5562552213668823, 0.4437447786331177, 0.0, 0.0, 0.0, 0.0, 0.0, 0.0, 0.0, 0.0, 0.0, 0.0, 0.0, 0.0, 0.0, 0.0, 0.0, 0.0, 0.0, 0.0, 0.0, 0.0, 0.0, 0.0], [0.3702297508716583, 0.39149168133735657, 0.23827852308750153, 0.0, 0.0, 0.0, 0.0, 0.0, 0.0, 0.0, 0.0, 0.0, 0.0, 0.0, 0.0, 0.0, 0.0, 0.0, 0.0, 0.0, 0.0, 0.0, 0.0, 0.0], [0.2625276446342468, 0.3604775369167328, 0.29158222675323486, 0.08541254699230194, 0.0, 0.0, 0.0, 0.0, 0.0, 0.0, 0.0, 0.0, 0.0, 0.0, 0.0, 0.0, 0.0, 0.0, 0.0, 0.0, 0.0, 0.0, 0.0, 0.0], [0.24907000362873077, 0.2563558518886566, 0.3113310933113098, 0.05134819820523262, 0.13189490139484406, 0.0, 0.0, 0.0, 0.0, 0.0, 0.0, 0.0, 0.0, 0.0, 0.0, 0.0, 0.0, 0.0, 0.0, 0.0, 0.0, 0.0, 0.0, 0.0], [0.09379029273986816, 0.08362627029418945, 0.07204905897378922, 0.6004142761230469, 0.14778433740139008, 0.002335743512958288, 0.0, 0.0, 0.0, 0.0, 0.0, 0.0, 0.0, 0.0, 0.0, 0.0, 0.0, 0.0, 0.0, 0.0, 0.0, 0.0, 0.0, 0.0], [0.16789233684539795, 0.21631307899951935, 0.08839243650436401, 0.2323889434337616, 0.137077197432518, 0.10276668518781662, 0.05516934022307396, 0.0, 0.0, 0.0, 0.0, 0.0, 0.0, 0.0, 0.0, 0.0, 0.0, 0.0, 0.0, 0.0, 0.0, 0.0, 0.0, 0.0], [0.1490262746810913, 0.1533147692680359, 0.06577835977077484, 0.29632601141929626, 0.04932378605008125, 0.09002747386693954, 0.10918506979942322, 0.0870182141661644, 0.0, 0.0, 0.0, 0.0, 0.0, 0.0, 0.0, 0.0, 0.0, 0.0, 0.0, 0.0, 0.0, 0.0, 0.0, 0.0], [0.08927614241838455, 0.13427621126174927, 0.08696766197681427, 0.07457707822322845, 0.3179242014884949, 0.049127865582704544, 0.01520541962236166, 0.20761136710643768, 0.025034090504050255, 0.0, 0.0, 0.0, 0.0, 0.0, 0.0, 0.0, 0.0, 0.0, 0.0, 0.0, 0.0, 0.0, 0.0, 0.0], [0.08847465366125107, 0.06778280436992645, 0.0776989758014679, 0.25484707951545715, 0.05821247026324272, 0.017645854502916336, 0.09358949214220047, 0.05863199383020401, 0.07697343081235886, 0.20614321529865265, 0.0, 0.0, 0.0, 0.0, 0.0, 0.0, 0.0, 0.0, 0.0, 0.0, 0.0, 0.0, 0.0, 0.0], [0.012984069995582104, 0.021280713379383087, 0.014428498223423958, 0.0011978643015027046, 0.015324832871556282, 0.8477786779403687, 0.022895317524671555, 0.021433357149362564, 0.03854833170771599, 0.0008194660767912865, 0.0033088824711740017, 0.0, 0.0, 0.0, 0.0, 0.0, 0.0, 0.0, 0.0, 0.0, 0.0, 0.0, 0.0, 0.0], [0.07638397812843323, 0.06386515498161316, 0.0512443408370018, 0.15165847539901733, 0.02918153442442417, 0.04315418004989624, 0.10822268575429916, 0.042208295315504074, 0.13289161026477814, 0.06840939074754715, 0.12997807562351227, 0.10280220210552216, 0.0, 0.0, 0.0, 0.0, 0.0, 0.0, 0.0, 0.0, 0.0, 0.0, 0.0, 0.0], [0.08139558881521225, 0.10818514972925186, 0.017560960724949837, 0.1250704526901245, 0.012128053233027458, 0.13142557442188263, 0.04426529258489609, 0.03862334415316582, 0.31516405940055847, 0.03552893549203873, 0.03905194252729416, 0.04587562754750252, 0.00572503637522459, 0.0, 0.0, 0.0, 0.0, 0.0, 0.0, 0.0, 0.0, 0.0, 0.0, 0.0], [0.056420426815748215, 0.04701719060540199, 0.07733623683452606, 0.0535995177924633, 0.0550728514790535, 0.06461178511381149, 0.11273697763681412, 0.05024459585547447, 0.06532067805528641, 0.04127388820052147, 0.09440640360116959, 0.09004230797290802, 0.0919729471206665, 0.09994421154260635, 0.0, 0.0, 0.0, 0.0, 0.0, 0.0, 0.0, 0.0, 0.0, 0.0], [0.07821587473154068, 0.09079395234584808, 0.013936053030192852, 0.2596878111362457, 0.008633766323328018, 0.03859315812587738, 0.03609748184680939, 0.02853713370859623, 0.26447752118110657, 0.06803540885448456, 0.05502798408269882, 0.04647181183099747, 0.004976597148925066, 0.0025410796515643597, 0.0039743464440107346, 0.0, 0.0, 0.0, 0.0, 0.0, 0.0, 0.0, 0.0, 0.0], [0.05075379088521004, 0.04019570350646973, 0.0292697474360466, 0.27223485708236694, 0.02483990602195263, 0.003956364933401346, 0.029368722811341286, 0.028855808079242706, 0.03872499614953995, 0.23185215890407562, 0.09843314439058304, 0.049458108842372894, 0.03254944831132889, 0.012233365327119827, 0.0417872779071331, 0.015486582182347775, 0.0, 0.0, 0.0, 0.0, 0.0, 0.0, 0.0, 0.0], [0.02275696210563183, 0.022289449349045753, 0.05493450164794922, 0.004756016656756401, 0.0411904975771904, 0.2665650546550751, 0.08912748098373413, 0.0323573462665081, 0.0353197418153286, 0.0038980720564723015, 0.024060659110546112, 0.04200815409421921, 0.06170277297496796, 0.16439317166805267, 0.02679423987865448, 0.0957605391740799, 0.012085345573723316, 0.0, 0.0, 0.0, 0.0, 0.0, 0.0, 0.0], [0.028745440766215324, 0.018001960590481758, 0.014972488395869732, 0.29926225543022156, 0.008126539178192616, 0.0010017970344051719, 0.024575117975473404, 0.010613780468702316, 0.02712772786617279, 0.15729095041751862, 0.1093042716383934, 0.04085571691393852, 0.017831815406680107, 0.004812879022210836, 0.015171131119132042, 0.0064595723524689674, 0.21252456307411194, 0.0033220062032341957, 0.0, 0.0, 0.0, 0.0, 0.0, 0.0], [0.033093664795160294, 0.039590634405612946, 0.043477512896060944, 0.008830084465444088, 0.04072057083249092, 0.31417226791381836, 0.05992788076400757, 0.04361318424344063, 0.057008661329746246, 0.007136534433811903, 0.020156655460596085, 0.036056604236364365, 0.03414199501276016, 0.07553163170814514, 0.021896952763199806, 0.08005978167057037, 0.020722370594739914, 0.039543259888887405, 0.024319740012288094, 0.0, 0.0, 0.0, 0.0, 0.0], [0.015802588313817978, 0.011521982029080391, 0.05622443929314613, 0.012593630701303482, 0.06316830217838287, 0.009676906280219555, 0.032986391335725784, 0.02537621185183525, 0.0059071690775454044, 0.028826534748077393, 0.03659813478589058, 0.030133569613099098, 0.1437939703464508, 0.16541795432567596, 0.14741337299346924, 0.037501368671655655, 0.005232625175267458, 0.03341111168265343, 0.11275026947259903, 0.025663521140813828, 0.0, 0.0, 0.0, 0.0], [0.010728860273957253, 0.016430871561169624, 0.010041854344308376, 0.0011433388572186232, 0.007704892195761204, 0.7633705735206604, 0.025579608976840973, 0.013383937068283558, 0.047751616686582565, 0.00048371771117672324, 0.0033661832567304373, 0.01025265920907259, 0.004290938377380371, 0.016681155189871788, 0.0016988947754725814, 0.036083098500967026, 0.008722880855202675, 0.008345694281160831, 0.0028784763999283314, 0.00738226342946291, 0.0036785018164664507, 0.0, 0.0, 0.0], [0.037576477974653244, 0.03504533693194389, 0.0515168122947216, 0.024429554119706154, 0.04106402024626732, 0.07849633693695068, 0.07045198976993561, 0.038500286638736725, 0.046929024159908295, 0.019996995106339455, 0.04582107067108154, 0.05255582928657532, 0.05495671182870865, 0.07354677468538284, 0.03582295402884483, 0.060450442135334015, 0.037192948162555695, 0.02591325156390667, 0.059376586228609085, 0.045862436294555664, 0.03234659880399704, 0.03214755654335022, 0.0, 0.0], [0.03275689482688904, 0.031059274449944496, 0.023457448929548264, 0.11398106068372726, 0.03471684455871582, 0.0032384509686380625, 0.011250181123614311, 0.03043382428586483, 0.014612115919589996, 0.202897846698761, 0.0373765230178833, 0.021919703111052513, 0.02933216094970703, 0.013222903944551945, 0.06922091543674469, 0.012540514580905437, 0.03326281160116196, 0.060761306434869766, 0.0294417142868042, 0.028833458200097084, 0.0570613332092762, 0.06210591644048691, 0.0465167798101902, 0.0], [0.04195210337638855, 0.04583638906478882, 0.013453030027449131, 0.1490795612335205, 0.013661499135196209, 0.008784262463450432, 0.01417817547917366, 0.02438913844525814, 0.05138157308101654, 0.10410631448030472, 0.03357198089361191, 0.023710351437330246, 0.008467716164886951, 0.003917551599442959, 0.012782017700374126, 0.010673854500055313, 0.12851133942604065, 0.023554865270853043, 0.012828033417463303, 0.03209168091416359, 0.043563999235630035, 0.02436782978475094, 0.02818956971168518, 0.14694710075855255]], [[1.0, 0.0, 0.0, 0.0, 0.0, 0.0, 0.0, 0.0, 0.0, 0.0, 0.0, 0.0, 0.0, 0.0, 0.0, 0.0, 0.0, 0.0, 0.0, 0.0, 0.0, 0.0, 0.0, 0.0], [0.6497098803520203, 0.35029008984565735, 0.0, 0.0, 0.0, 0.0, 0.0, 0.0, 0.0, 0.0, 0.0, 0.0, 0.0, 0.0, 0.0, 0.0, 0.0, 0.0, 0.0, 0.0, 0.0, 0.0, 0.0, 0.0], [0.338336706161499, 0.30068546533584595, 0.36097779870033264, 0.0, 0.0, 0.0, 0.0, 0.0, 0.0, 0.0, 0.0, 0.0, 0.0, 0.0, 0.0, 0.0, 0.0, 0.0, 0.0, 0.0, 0.0, 0.0, 0.0, 0.0], [0.15842442214488983, 0.2657691240310669, 0.4861159920692444, 0.0896904468536377, 0.0, 0.0, 0.0, 0.0, 0.0, 0.0, 0.0, 0.0, 0.0, 0.0, 0.0, 0.0, 0.0, 0.0, 0.0, 0.0, 0.0, 0.0, 0.0, 0.0], [0.20025621354579926, 0.15449725091457367, 0.14505240321159363, 0.3857126235961914, 0.11448145657777786, 0.0, 0.0, 0.0, 0.0, 0.0, 0.0, 0.0, 0.0, 0.0, 0.0, 0.0, 0.0, 0.0, 0.0, 0.0, 0.0, 0.0, 0.0, 0.0], [0.1623721569776535, 0.1230565533041954, 0.09146839380264282, 0.3287906050682068, 0.07099985331296921, 0.22331245243549347, 0.0, 0.0, 0.0, 0.0, 0.0, 0.0, 0.0, 0.0, 0.0, 0.0, 0.0, 0.0, 0.0, 0.0, 0.0, 0.0, 0.0, 0.0], [0.03084772452712059, 0.08987414091825485, 0.15722914040088654, 0.16820383071899414, 0.4137268364429474, 0.1120697408914566, 0.028048614040017128, 0.0, 0.0, 0.0, 0.0, 0.0, 0.0, 0.0, 0.0, 0.0, 0.0, 0.0, 0.0, 0.0, 0.0, 0.0, 0.0, 0.0], [0.07709016650915146, 0.15830785036087036, 0.1571391373872757, 0.1720258891582489, 0.3013349771499634, 0.10991764068603516, 0.008200319483876228, 0.01598403975367546, 0.0, 0.0, 0.0, 0.0, 0.0, 0.0, 0.0, 0.0, 0.0, 0.0, 0.0, 0.0, 0.0, 0.0, 0.0, 0.0], [0.10458560287952423, 0.15853962302207947, 0.1768592745065689, 0.04646272584795952, 0.2583806812763214, 0.05952949821949005, 0.03298316150903702, 0.1269587129354477, 0.035700730979442596, 0.0, 0.0, 0.0, 0.0, 0.0, 0.0, 0.0, 0.0, 0.0, 0.0, 0.0, 0.0, 0.0, 0.0, 0.0], [0.016842830926179886, 0.057363010942935944, 0.14612127840518951, 0.10083962231874466, 0.4431728422641754, 0.08300348371267319, 0.06883849948644638, 0.018184620887041092, 0.03724127635359764, 0.028392532840371132, 0.0, 0.0, 0.0, 0.0, 0.0, 0.0, 0.0, 0.0, 0.0, 0.0, 0.0, 0.0, 0.0, 0.0], [0.05267865210771561, 0.11969690769910812, 0.17543505132198334, 0.03920586034655571, 0.3697754144668579, 0.04701203852891922, 0.021238699555397034, 0.061160847544670105, 0.022019777446985245, 0.049935050308704376, 0.04184175282716751, 0.0, 0.0, 0.0, 0.0, 0.0, 0.0, 0.0, 0.0, 0.0, 0.0, 0.0, 0.0, 0.0], [0.021815065294504166, 0.03111240267753601, 0.0493466816842556, 0.1615898311138153, 0.06787648797035217, 0.10777239501476288, 0.15628743171691895, 0.017167430371046066, 0.11342667043209076, 0.036038588732481, 0.15160377323627472, 0.0859631672501564, 0.0, 0.0, 0.0, 0.0, 0.0, 0.0, 0.0, 0.0, 0.0, 0.0, 0.0, 0.0], [0.06005619838833809, 0.04161246120929718, 0.03872496262192726, 0.0931529700756073, 0.02773628570139408, 0.083554208278656, 0.1712404191493988, 0.06427958607673645, 0.11566369235515594, 0.07003097981214523, 0.11471568048000336, 0.07069345563650131, 0.04853913560509682, 0.0, 0.0, 0.0, 0.0, 0.0, 0.0, 0.0, 0.0, 0.0, 0.0, 0.0], [0.013813937082886696, 0.038320574909448624, 0.06978439539670944, 0.2659969925880432, 0.17521846294403076, 0.12176800519227982, 0.02927304059267044, 0.0035485278349369764, 0.12922696769237518, 0.021213985979557037, 0.055657174438238144, 0.03075895830988884, 0.009143880568444729, 0.03627508878707886, 0.0, 0.0, 0.0, 0.0, 0.0, 0.0, 0.0, 0.0, 0.0, 0.0], [0.040663037449121475, 0.039974138140678406, 0.04527169466018677, 0.11877260357141495, 0.04449102655053139, 0.09181920439004898, 0.12425258010625839, 0.033132560551166534, 0.11492960900068283, 0.0521511472761631, 0.1056739017367363, 0.06441372632980347, 0.03189852461218834, 0.07103967666625977, 0.021516596898436546, 0.0, 0.0, 0.0, 0.0, 0.0, 0.0, 0.0, 0.0, 0.0], [0.037234485149383545, 0.04424671083688736, 0.04838675633072853, 0.18989591300487518, 0.05641253665089607, 0.11351818591356277, 0.05994081869721413, 0.014753641560673714, 0.1721048355102539, 0.044974930584430695, 0.06554946303367615, 0.03279951959848404, 0.024247311055660248, 0.03907547891139984, 0.01931360363960266, 0.03754586726427078, 0.0, 0.0, 0.0, 0.0, 0.0, 0.0, 0.0, 0.0], [0.0285958144813776, 0.02685692347586155, 0.03531983494758606, 0.020113864913582802, 0.033403415232896805, 0.028158672153949738, 0.13529302179813385, 0.09188981354236603, 0.01812913827598095, 0.03681773692369461, 0.09867832809686661, 0.13335804641246796, 0.038813523948192596, 0.11728665977716446, 0.025637425482273102, 0.05843989923596382, 0.07320790737867355, 0.0, 0.0, 0.0, 0.0, 0.0, 0.0, 0.0], [0.05957160145044327, 0.05821572244167328, 0.04624737426638603, 0.15955376625061035, 0.04518822953104973, 0.09753520786762238, 0.027007171884179115, 0.016748547554016113, 0.18254810571670532, 0.053978998214006424, 0.0314767062664032, 0.016349291428923607, 0.03702133148908615, 0.019916074350476265, 0.04263836890459061, 0.03479503467679024, 0.036598704755306244, 0.03460976481437683, 0.0, 0.0, 0.0, 0.0, 0.0, 0.0], [0.006551896221935749, 0.011770162731409073, 0.026166951283812523, 0.03872291371226311, 0.044417694211006165, 0.033838722854852676, 0.11820676177740097, 0.012116547673940659, 0.02070172131061554, 0.013085316866636276, 0.11314703524112701, 0.10007614642381668, 0.007037451025098562, 0.09646136313676834, 0.0030306228436529636, 0.023216690868139267, 0.2012157440185547, 0.0007964945398271084, 0.12943978607654572, 0.0, 0.0, 0.0, 0.0, 0.0], [0.00938489381223917, 0.023252394050359726, 0.04959437623620033, 0.052058037370443344, 0.11269460618495941, 0.041617222130298615, 0.043475013226270676, 0.009738465771079063, 0.024302173405885696, 0.01536740642040968, 0.0644112154841423, 0.06946628540754318, 0.010186024941504002, 0.06676521897315979, 0.006769324652850628, 0.021904869005084038, 0.20399940013885498, 0.0026208506897091866, 0.12459121644496918, 0.04780101031064987, 0.0, 0.0, 0.0, 0.0], [0.044742461293935776, 0.07008261978626251, 0.0706995353102684, 0.027542807161808014, 0.10631773620843887, 0.029150579124689102, 0.00828592386096716, 0.03108428418636322, 0.021953348070383072, 0.034563709050416946, 0.01450797263532877, 0.024410387501120567, 0.05391136556863785, 0.02264336869120598, 0.09599405527114868, 0.029445823282003403, 0.03057771734893322, 0.18374617397785187, 0.023226996883749962, 0.013462850823998451, 0.06365026533603668, 0.0, 0.0, 0.0], [0.01510893926024437, 0.05475207045674324, 0.09075075387954712, 0.07851091772317886, 0.2910586893558502, 0.048382990062236786, 0.004745921120047569, 0.004135515540838242, 0.034342724829912186, 0.01611364632844925, 0.014156530611217022, 0.017112644389271736, 0.014266262762248516, 0.017482224851846695, 0.021374119445681572, 0.013332303613424301, 0.10107481479644775, 0.016885096207261086, 0.07283111661672592, 0.018476497381925583, 0.04237315058708191, 0.012733080424368382, 0.0, 0.0], [0.004517531022429466, 0.014525426551699638, 0.03944147750735283, 0.04084513336420059, 0.11345960944890976, 0.031207280233502388, 0.0368838757276535, 0.005120530724525452, 0.015148975886404514, 0.008716977201402187, 0.059880368411540985, 0.06702181696891785, 0.0051139891147613525, 0.06318642944097519, 0.0029188948683440685, 0.014230036176741123, 0.26006266474723816, 0.0008360768551938236, 0.1341252326965332, 0.038990166038274765, 0.021487511694431305, 0.007711229380220175, 0.014568804763257504, 0.0], [0.037569254636764526, 0.029928850010037422, 0.017795853316783905, 0.00724957138299942, 0.01451428234577179, 0.008959127590060234, 0.0028059608303010464, 0.026574742048978806, 0.010043143294751644, 0.02107694372534752, 0.003537782933562994, 0.005405418574810028, 0.04216450825333595, 0.00518354307860136, 0.09455426782369614, 0.014274617657065392, 0.003102506510913372, 0.3312164545059204, 0.0033981006126850843, 0.004045733250677586, 0.022696122527122498, 0.02806105650961399, 0.008637201972305775, 0.25720489025115967]], [[1.0, 0.0, 0.0, 0.0, 0.0, 0.0, 0.0, 0.0, 0.0, 0.0, 0.0, 0.0, 0.0, 0.0, 0.0, 0.0, 0.0, 0.0, 0.0, 0.0, 0.0, 0.0, 0.0, 0.0], [0.506334125995636, 0.49366581439971924, 0.0, 0.0, 0.0, 0.0, 0.0, 0.0, 0.0, 0.0, 0.0, 0.0, 0.0, 0.0, 0.0, 0.0, 0.0, 0.0, 0.0, 0.0, 0.0, 0.0, 0.0, 0.0], [0.38549405336380005, 0.367999404668808, 0.24650658667087555, 0.0, 0.0, 0.0, 0.0, 0.0, 0.0, 0.0, 0.0, 0.0, 0.0, 0.0, 0.0, 0.0, 0.0, 0.0, 0.0, 0.0, 0.0, 0.0, 0.0, 0.0], [0.2727862596511841, 0.2954460382461548, 0.2643425464630127, 0.16742511093616486, 0.0, 0.0, 0.0, 0.0, 0.0, 0.0, 0.0, 0.0, 0.0, 0.0, 0.0, 0.0, 0.0, 0.0, 0.0, 0.0, 0.0, 0.0, 0.0, 0.0], [0.20551139116287231, 0.20840412378311157, 0.19609466195106506, 0.1842605620622635, 0.20572932064533234, 0.0, 0.0, 0.0, 0.0, 0.0, 0.0, 0.0, 0.0, 0.0, 0.0, 0.0, 0.0, 0.0, 0.0, 0.0, 0.0, 0.0, 0.0, 0.0], [0.18151050806045532, 0.1662110537290573, 0.17716996371746063, 0.22862893342971802, 0.1545804738998413, 0.09189900010824203, 0.0, 0.0, 0.0, 0.0, 0.0, 0.0, 0.0, 0.0, 0.0, 0.0, 0.0, 0.0, 0.0, 0.0, 0.0, 0.0, 0.0, 0.0], [0.2408958077430725, 0.2536260783672333, 0.20393383502960205, 0.07056234776973724, 0.12382858246564865, 0.06699224561452866, 0.0401611365377903, 0.0, 0.0, 0.0, 0.0, 0.0, 0.0, 0.0, 0.0, 0.0, 0.0, 0.0, 0.0, 0.0, 0.0, 0.0, 0.0, 0.0], [0.20096445083618164, 0.17551210522651672, 0.15476518869400024, 0.16227997839450836, 0.11535242944955826, 0.030494803562760353, 0.09474089741706848, 0.06589023023843765, 0.0, 0.0, 0.0, 0.0, 0.0, 0.0, 0.0, 0.0, 0.0, 0.0, 0.0, 0.0, 0.0, 0.0, 0.0, 0.0], [0.061889808624982834, 0.0628323182463646, 0.08618022501468658, 0.11415474861860275, 0.08640668541193008, 0.1785793900489807, 0.1455002874135971, 0.11546693742275238, 0.14898964762687683, 0.0, 0.0, 0.0, 0.0, 0.0, 0.0, 0.0, 0.0, 0.0, 0.0, 0.0, 0.0, 0.0, 0.0, 0.0], [0.17516587674617767, 0.14597339928150177, 0.08531486988067627, 0.1292078197002411, 0.10472796112298965, 0.014854149892926216, 0.08581294864416122, 0.10583371669054031, 0.06678039580583572, 0.08632886409759521, 0.0, 0.0, 0.0, 0.0, 0.0, 0.0, 0.0, 0.0, 0.0, 0.0, 0.0, 0.0, 0.0, 0.0], [0.12621533870697021, 0.15353259444236755, 0.14154763519763947, 0.04035532474517822, 0.10455396771430969, 0.20993313193321228, 0.03652225434780121, 0.04786498472094536, 0.045790430158376694, 0.07544815540313721, 0.018236193805933, 0.0, 0.0, 0.0, 0.0, 0.0, 0.0, 0.0, 0.0, 0.0, 0.0, 0.0, 0.0, 0.0], [0.19907043874263763, 0.21117429435253143, 0.14908690750598907, 0.037375133484601974, 0.08007564395666122, 0.03099578060209751, 0.017441870644688606, 0.01754595711827278, 0.011004924774169922, 0.05875732749700546, 0.01801495999097824, 0.16945677995681763, 0.0, 0.0, 0.0, 0.0, 0.0, 0.0, 0.0, 0.0, 0.0, 0.0, 0.0, 0.0], [0.18457140028476715, 0.21214154362678528, 0.14097799360752106, 0.02520829439163208, 0.0788976177573204, 0.045066192746162415, 0.012968438677489758, 0.016602199524641037, 0.010669141076505184, 0.048684991896152496, 0.010742239654064178, 0.13903860747814178, 0.07443132251501083, 0.0, 0.0, 0.0, 0.0, 0.0, 0.0, 0.0, 0.0, 0.0, 0.0, 0.0], [0.07164796441793442, 0.06476139277219772, 0.038397081196308136, 0.06290606409311295, 0.06461244821548462, 0.020579272881150246, 0.06312229484319687, 0.11153767257928848, 0.08494290709495544, 0.04621969908475876, 0.17961376905441284, 0.07302521169185638, 0.07746867090463638, 0.041165564209222794, 0.0, 0.0, 0.0, 0.0, 0.0, 0.0, 0.0, 0.0, 0.0, 0.0], [0.1234445795416832, 0.1096043735742569, 0.06106733903288841, 0.058049965649843216, 0.06598872691392899, 0.010917906649410725, 0.035751018673181534, 0.0480639673769474, 0.029073256999254227, 0.048233892768621445, 0.10605604946613312, 0.12692159414291382, 0.09697270393371582, 0.03462747484445572, 0.04522715136408806, 0.0, 0.0, 0.0, 0.0, 0.0, 0.0, 0.0, 0.0, 0.0], [0.15335965156555176, 0.15501180291175842, 0.1147700771689415, 0.035095494240522385, 0.05932552367448807, 0.018335962668061256, 0.01536478754132986, 0.013126818463206291, 0.008140966296195984, 0.048834364861249924, 0.01785811223089695, 0.14087286591529846, 0.07667092978954315, 0.03469645231962204, 0.06600139290094376, 0.04253480210900307, 0.0, 0.0, 0.0, 0.0, 0.0, 0.0, 0.0, 0.0], [0.06818462163209915, 0.08417190611362457, 0.09791979938745499, 0.026946742087602615, 0.0603204183280468, 0.1769900768995285, 0.02458762377500534, 0.02429480478167534, 0.026194583624601364, 0.052569735795259476, 0.008705453015863895, 0.05299703776836395, 0.0412231907248497, 0.061139654368162155, 0.07635504007339478, 0.09421610832214355, 0.023183301091194153, 0.0, 0.0, 0.0, 0.0, 0.0, 0.0, 0.0], [0.015537392348051071, 0.010546698234975338, 0.007833687588572502, 0.0683046206831932, 0.01642397604882717, 0.001888392143882811, 0.06908666342496872, 0.06504254043102264, 0.05266245827078819, 0.02115151286125183, 0.46160614490509033, 0.024580102413892746, 0.03491927310824394, 0.01502133160829544, 0.011293889954686165, 0.006840383168309927, 0.11139270663261414, 0.005868232809007168, 0.0, 0.0, 0.0, 0.0, 0.0, 0.0], [0.07810033112764359, 0.0938112735748291, 0.06778909265995026, 0.01979990489780903, 0.06048139929771423, 0.08286290615797043, 0.01780647039413452, 0.03152306005358696, 0.026643572375178337, 0.035672836005687714, 0.012611995451152325, 0.05657024309039116, 0.04315483570098877, 0.039164021611213684, 0.04705518111586571, 0.07680948078632355, 0.053872399032115936, 0.1268586367368698, 0.029412323608994484, 0.0, 0.0, 0.0, 0.0, 0.0], [0.06410286575555801, 0.07192231714725494, 0.06676687300205231, 0.030961843207478523, 0.055762071162462234, 0.07944345474243164, 0.0286007821559906, 0.034231625497341156, 0.032647550106048584, 0.04504724591970444, 0.01956755295395851, 0.05390511453151703, 0.04551121965050697, 0.047895073890686035, 0.054767679423093796, 0.06716058403253555, 0.043002255260944366, 0.08141259849071503, 0.03866318613290787, 0.03862810879945755, 0.0, 0.0, 0.0, 0.0], [0.03084227629005909, 0.030773324891924858, 0.03895481675863266, 0.05542013421654701, 0.04190472140908241, 0.07122503966093063, 0.06987650692462921, 0.05991598218679428, 0.0737825483083725, 0.050670184195041656, 0.05538740009069443, 0.03265152871608734, 0.039135973900556564, 0.056316815316677094, 0.04752537980675697, 0.04827805981040001, 0.024495244026184082, 0.03928930312395096, 0.043611761182546616, 0.04231728985905647, 0.04762570932507515, 0.0, 0.0, 0.0], [0.011615972965955734, 0.009182403795421124, 0.00805991142988205, 0.045348748564720154, 0.016876542940735817, 0.006633693818002939, 0.062339890748262405, 0.0696270540356636, 0.07116073369979858, 0.019893359392881393, 0.19846895337104797, 0.015532707795500755, 0.02396995574235916, 0.018378345295786858, 0.012111571617424488, 0.011118064634501934, 0.03889530524611473, 0.009898556396365166, 0.0277381781488657, 0.04741010442376137, 0.18764130771160126, 0.08809871226549149, 0.0, 0.0], [0.0787147730588913, 0.07600180804729462, 0.043265338987112045, 0.026466507464647293, 0.04227115586400032, 0.01084909774363041, 0.016699284315109253, 0.024505775421857834, 0.015358888544142246, 0.028062013909220695, 0.03483019024133682, 0.07258383929729462, 0.052199188619852066, 0.021872706711292267, 0.029663780704140663, 0.028593378141522408, 0.16493286192417145, 0.045036643743515015, 0.04164281487464905, 0.049876462668180466, 0.04925871640443802, 0.02747848816215992, 0.01983625441789627, 0.0], [0.028930233791470528, 0.02371840551495552, 0.029137389734387398, 0.0768248662352562, 0.027900127694010735, 0.012594207189977169, 0.06634816527366638, 0.03620515763759613, 0.036399245262145996, 0.044597525149583817, 0.10917028784751892, 0.03966841846704483, 0.04384499788284302, 0.03595568984746933, 0.0359213650226593, 0.01894615963101387, 0.04877682030200958, 0.01236847322434187, 0.06323897838592529, 0.04150004684925079, 0.05662699043750763, 0.041057538241147995, 0.043578267097473145, 0.02669062465429306]]]}\n",
       "    )\n",
       "    </script>"
      ],
      "text/plain": [
       "<circuitsvis.utils.render.RenderedHTML at 0x4cbe9ef90>"
      ]
     },
     "metadata": {},
     "output_type": "display_data"
    },
    {
     "name": "stdout",
     "output_type": "stream",
     "text": [
      "7\n",
      "Using tensor([ 0,  2,  2, 13, 21,  7, 28,  7, 21, 13,  2,  2, 28,  2,  2, 13, 21,  7,\n",
      "         1,  1,  1,  1,  1,  1], device='mps:0') from tensor([ 0,  2,  2, 13, 21,  7, 28,  7, 21, 13,  2,  2, 28,  2,  2, 13, 21,  7,\n",
      "         1,  1,  1,  1,  1,  1]) (from test set)\n",
      "Layer:  0\n"
     ]
    },
    {
     "data": {
      "text/html": [
       "<div id=\"circuits-vis-7de7593e-8383\" style=\"margin: 15px 0;\"/>\n",
       "    <script crossorigin type=\"module\">\n",
       "    import { render, AttentionPatterns } from \"https://unpkg.com/circuitsvis@1.43.2/dist/cdn/esm.js\";\n",
       "    render(\n",
       "      \"circuits-vis-7de7593e-8383\",\n",
       "      AttentionPatterns,\n",
       "      {\"tokens\": [\"<\", \"a\", \"a\", \"l\", \"t\", \"f\", \"|\", \"f\", \"t\", \"l\", \"a\", \"a\", \"|\", \"a\", \"a\", \"l\", \"t\", \"f\", \">\", \">\", \">\", \">\", \">\", \">\"], \"attention\": [[[1.0, 0.0, 0.0, 0.0, 0.0, 0.0, 0.0, 0.0, 0.0, 0.0, 0.0, 0.0, 0.0, 0.0, 0.0, 0.0, 0.0, 0.0, 0.0, 0.0, 0.0, 0.0, 0.0, 0.0], [0.6491082906723022, 0.35089176893234253, 0.0, 0.0, 0.0, 0.0, 0.0, 0.0, 0.0, 0.0, 0.0, 0.0, 0.0, 0.0, 0.0, 0.0, 0.0, 0.0, 0.0, 0.0, 0.0, 0.0, 0.0, 0.0], [0.5340894460678101, 0.29553335905075073, 0.1703772246837616, 0.0, 0.0, 0.0, 0.0, 0.0, 0.0, 0.0, 0.0, 0.0, 0.0, 0.0, 0.0, 0.0, 0.0, 0.0, 0.0, 0.0, 0.0, 0.0, 0.0, 0.0], [0.08942738175392151, 0.181903675198555, 0.24588774144649506, 0.48278123140335083, 0.0, 0.0, 0.0, 0.0, 0.0, 0.0, 0.0, 0.0, 0.0, 0.0, 0.0, 0.0, 0.0, 0.0, 0.0, 0.0, 0.0, 0.0, 0.0, 0.0], [0.10701987147331238, 0.16613557934761047, 0.2147800624370575, 0.29281139373779297, 0.2192530781030655, 0.0, 0.0, 0.0, 0.0, 0.0, 0.0, 0.0, 0.0, 0.0, 0.0, 0.0, 0.0, 0.0, 0.0, 0.0, 0.0, 0.0, 0.0, 0.0], [0.396428644657135, 0.10699979960918427, 0.10619018971920013, 0.1631554663181305, 0.10936363786458969, 0.1178622767329216, 0.0, 0.0, 0.0, 0.0, 0.0, 0.0, 0.0, 0.0, 0.0, 0.0, 0.0, 0.0, 0.0, 0.0, 0.0, 0.0, 0.0, 0.0], [0.16235579550266266, 0.3350942134857178, 0.15528598427772522, 0.03140024095773697, 0.14335255324840546, 0.07229514420032501, 0.10021605342626572, 0.0, 0.0, 0.0, 0.0, 0.0, 0.0, 0.0, 0.0, 0.0, 0.0, 0.0, 0.0, 0.0, 0.0, 0.0, 0.0, 0.0], [0.426850289106369, 0.08482540398836136, 0.06730751693248749, 0.0694456547498703, 0.05876126512885094, 0.05381288751959801, 0.04670201987028122, 0.19229499995708466, 0.0, 0.0, 0.0, 0.0, 0.0, 0.0, 0.0, 0.0, 0.0, 0.0, 0.0, 0.0, 0.0, 0.0, 0.0, 0.0], [0.192785382270813, 0.09207910299301147, 0.06642767786979675, 0.06044771522283554, 0.09131334722042084, 0.0721970647573471, 0.08030596375465393, 0.24695508182048798, 0.09748857468366623, 0.0, 0.0, 0.0, 0.0, 0.0, 0.0, 0.0, 0.0, 0.0, 0.0, 0.0, 0.0, 0.0, 0.0, 0.0], [0.1615787297487259, 0.07270073145627975, 0.08258113265037537, 0.1346287727355957, 0.08432888239622116, 0.09853459149599075, 0.08647561818361282, 0.076380655169487, 0.08570477366447449, 0.11708617210388184, 0.0, 0.0, 0.0, 0.0, 0.0, 0.0, 0.0, 0.0, 0.0, 0.0, 0.0, 0.0, 0.0, 0.0], [0.053387414664030075, 0.10178858041763306, 0.0925704836845398, 0.06650204211473465, 0.09780292212963104, 0.08664868026971817, 0.09777858853340149, 0.10091862082481384, 0.10164808481931686, 0.07900936156511307, 0.12194517999887466, 0.0, 0.0, 0.0, 0.0, 0.0, 0.0, 0.0, 0.0, 0.0, 0.0, 0.0, 0.0, 0.0], [0.10169897228479385, 0.12511375546455383, 0.07600928097963333, 0.02591351605951786, 0.06041724607348442, 0.039610203355550766, 0.045405007898807526, 0.2364533692598343, 0.04403112456202507, 0.03126908466219902, 0.14416393637657166, 0.06991451233625412, 0.0, 0.0, 0.0, 0.0, 0.0, 0.0, 0.0, 0.0, 0.0, 0.0, 0.0, 0.0], [0.002609450602903962, 0.048491016030311584, 0.02342582866549492, 0.0018232734873890877, 0.013751694932579994, 0.006336458493024111, 0.009959041140973568, 0.04741239547729492, 0.008690337650477886, 0.0024473832454532385, 0.19866208732128143, 0.06880819797515869, 0.5675827860832214, 0.0, 0.0, 0.0, 0.0, 0.0, 0.0, 0.0, 0.0, 0.0, 0.0, 0.0], [0.1695457547903061, 0.08576521277427673, 0.05833625793457031, 0.03377935662865639, 0.04988192021846771, 0.03791295364499092, 0.03843372315168381, 0.1855030357837677, 0.03790871053934097, 0.03733166679739952, 0.06744063645601273, 0.03710922971367836, 0.05233735218644142, 0.10871417820453644, 0.0, 0.0, 0.0, 0.0, 0.0, 0.0, 0.0, 0.0, 0.0, 0.0], [0.009631602093577385, 0.05372190847992897, 0.061691854149103165, 0.026296840980648994, 0.028811395168304443, 0.02965729683637619, 0.028479352593421936, 0.015328645706176758, 0.019702350720763206, 0.013458522036671638, 0.212055504322052, 0.13713786005973816, 0.2554242014884949, 0.017365913838148117, 0.09123674780130386, 0.0, 0.0, 0.0, 0.0, 0.0, 0.0, 0.0, 0.0, 0.0], [0.19397269189357758, 0.029008394107222557, 0.02259981818497181, 0.05230894684791565, 0.057210199534893036, 0.05099181830883026, 0.056343723088502884, 0.14439357817173004, 0.08937424421310425, 0.12790557742118835, 0.00574162183329463, 0.009090155363082886, 0.005063333082944155, 0.10113448649644852, 0.016557568684220314, 0.03830389305949211, 0.0, 0.0, 0.0, 0.0, 0.0, 0.0, 0.0, 0.0], [0.011147560551762581, 0.06536488980054855, 0.033456020057201385, 0.004884252790361643, 0.024638034403324127, 0.012724689207971096, 0.018170833587646484, 0.09614631533622742, 0.017442548647522926, 0.007063537836074829, 0.1419939547777176, 0.059533167630434036, 0.2891721725463867, 0.019106322899460793, 0.17798852920532227, 0.00654561398550868, 0.014621509239077568, 0.0, 0.0, 0.0, 0.0, 0.0, 0.0, 0.0], [0.013714662753045559, 0.023481866344809532, 0.048873353749513626, 0.12934450805187225, 0.0423227921128273, 0.07571189105510712, 0.06047016754746437, 0.005220422986894846, 0.050776075571775436, 0.06740904599428177, 0.04026718810200691, 0.07945150136947632, 0.03703928738832474, 0.020099090412259102, 0.011517161503434181, 0.16978856921195984, 0.07262718677520752, 0.05188519507646561, 0.0, 0.0, 0.0, 0.0, 0.0, 0.0], [0.046951599419116974, 0.05100095644593239, 0.06686469167470932, 0.07421282678842545, 0.041793469339609146, 0.05279860645532608, 0.04316722974181175, 0.023391956463456154, 0.0334702730178833, 0.039511457085609436, 0.08520327508449554, 0.07413724809885025, 0.061457280069589615, 0.04567748308181763, 0.059223782271146774, 0.06840159744024277, 0.052747175097465515, 0.0575384758412838, 0.022450637072324753, 0.0, 0.0, 0.0, 0.0, 0.0], [0.06329836696386337, 0.036026205867528915, 0.05774346739053726, 0.11812960356473923, 0.039391014724969864, 0.06112249195575714, 0.04426248371601105, 0.015224245376884937, 0.0346769317984581, 0.055586542934179306, 0.045732833445072174, 0.0510435551404953, 0.025386711582541466, 0.04968753457069397, 0.031231679022312164, 0.09609214961528778, 0.058337338268756866, 0.051603157073259354, 0.027158347889780998, 0.038265276700258255, 0.0, 0.0, 0.0, 0.0], [0.04396553337574005, 0.03943532705307007, 0.05975505709648132, 0.09728176146745682, 0.04156346246600151, 0.059781886637210846, 0.0467400886118412, 0.016070032492280006, 0.0372442789375782, 0.050368864089250565, 0.05798757076263428, 0.06402808427810669, 0.03964577242732048, 0.04193871468305588, 0.0351998507976532, 0.0905405804514885, 0.05825065076351166, 0.05433819442987442, 0.019810859113931656, 0.02602219209074974, 0.020031288266181946, 0.0, 0.0, 0.0], [0.05299437791109085, 0.0367223359644413, 0.057700809091329575, 0.10496431589126587, 0.038244713097810745, 0.05769963935017586, 0.0427250936627388, 0.014813370071351528, 0.03313032537698746, 0.049589067697525024, 0.05136159062385559, 0.05540340393781662, 0.03047402761876583, 0.04483907297253609, 0.033269595354795456, 0.08941521495580673, 0.055635225027799606, 0.051211703568696976, 0.02235535904765129, 0.030522193759679794, 0.02288200706243515, 0.024046527221798897, 0.0, 0.0], [0.05792512372136116, 0.04213618114590645, 0.05632808059453964, 0.07538868486881256, 0.0364818274974823, 0.04798557609319687, 0.03754287585616112, 0.021702604368329048, 0.029505763202905655, 0.039614055305719376, 0.05859949067234993, 0.05233423784375191, 0.0366198793053627, 0.04780520498752594, 0.04686257615685463, 0.06245660036802292, 0.047091975808143616, 0.04856329783797264, 0.02878454700112343, 0.03464997559785843, 0.030764097347855568, 0.030615583062171936, 0.030241742730140686, 0.0], [0.043155789375305176, 0.03016514517366886, 0.04707930237054825, 0.10072437673807144, 0.04011940956115723, 0.05973699316382408, 0.04727957770228386, 0.014362634159624577, 0.04115140065550804, 0.06021379679441452, 0.03401782736182213, 0.045908451080322266, 0.0235910527408123, 0.03926696628332138, 0.021518273279070854, 0.09383666515350342, 0.05701133981347084, 0.04621180146932602, 0.022914720699191093, 0.03205167502164841, 0.0218338705599308, 0.02439982071518898, 0.027398860082030296, 0.02605018950998783]], [[1.0, 0.0, 0.0, 0.0, 0.0, 0.0, 0.0, 0.0, 0.0, 0.0, 0.0, 0.0, 0.0, 0.0, 0.0, 0.0, 0.0, 0.0, 0.0, 0.0, 0.0, 0.0, 0.0, 0.0], [0.5338062047958374, 0.4661937952041626, 0.0, 0.0, 0.0, 0.0, 0.0, 0.0, 0.0, 0.0, 0.0, 0.0, 0.0, 0.0, 0.0, 0.0, 0.0, 0.0, 0.0, 0.0, 0.0, 0.0, 0.0, 0.0], [0.443545937538147, 0.18582676351070404, 0.3706272840499878, 0.0, 0.0, 0.0, 0.0, 0.0, 0.0, 0.0, 0.0, 0.0, 0.0, 0.0, 0.0, 0.0, 0.0, 0.0, 0.0, 0.0, 0.0, 0.0, 0.0, 0.0], [0.400628924369812, 0.21649107336997986, 0.2750791609287262, 0.10780085623264313, 0.0, 0.0, 0.0, 0.0, 0.0, 0.0, 0.0, 0.0, 0.0, 0.0, 0.0, 0.0, 0.0, 0.0, 0.0, 0.0, 0.0, 0.0, 0.0, 0.0], [0.1112692803144455, 0.22964109480381012, 0.22058895230293274, 0.18391723930835724, 0.2545834183692932, 0.0, 0.0, 0.0, 0.0, 0.0, 0.0, 0.0, 0.0, 0.0, 0.0, 0.0, 0.0, 0.0, 0.0, 0.0, 0.0, 0.0, 0.0, 0.0], [0.24741730093955994, 0.10388818383216858, 0.1435854285955429, 0.27137500047683716, 0.10273555666208267, 0.13099852204322815, 0.0, 0.0, 0.0, 0.0, 0.0, 0.0, 0.0, 0.0, 0.0, 0.0, 0.0, 0.0, 0.0, 0.0, 0.0, 0.0, 0.0, 0.0], [0.08193357288837433, 0.10149544477462769, 0.1633315533399582, 0.13830165565013885, 0.06784278899431229, 0.11082606762647629, 0.33626890182495117, 0.0, 0.0, 0.0, 0.0, 0.0, 0.0, 0.0, 0.0, 0.0, 0.0, 0.0, 0.0, 0.0, 0.0, 0.0, 0.0, 0.0], [0.010837665759027004, 0.025201354175806046, 0.0346391387283802, 0.15630346536636353, 0.07803186029195786, 0.029675986617803574, 0.6245448589324951, 0.04076569527387619, 0.0, 0.0, 0.0, 0.0, 0.0, 0.0, 0.0, 0.0, 0.0, 0.0, 0.0, 0.0, 0.0, 0.0, 0.0, 0.0], [0.045609816908836365, 0.045390475541353226, 0.05232691392302513, 0.2099977284669876, 0.11447615921497345, 0.054521095007658005, 0.3126670718193054, 0.05409308895468712, 0.11091767996549606, 0.0, 0.0, 0.0, 0.0, 0.0, 0.0, 0.0, 0.0, 0.0, 0.0, 0.0, 0.0, 0.0, 0.0, 0.0], [0.07014628499746323, 0.07817800343036652, 0.09083349257707596, 0.1297152042388916, 0.09428190439939499, 0.08357395976781845, 0.18736140429973602, 0.07280965149402618, 0.10632842779159546, 0.08677161484956741, 0.0, 0.0, 0.0, 0.0, 0.0, 0.0, 0.0, 0.0, 0.0, 0.0, 0.0, 0.0, 0.0, 0.0], [0.11442001909017563, 0.09955984354019165, 0.21394436061382294, 0.05825776606798172, 0.021092645823955536, 0.10762396454811096, 0.14237959682941437, 0.017253423109650612, 0.036923062056303024, 0.0250671599060297, 0.16347818076610565, 0.0, 0.0, 0.0, 0.0, 0.0, 0.0, 0.0, 0.0, 0.0, 0.0, 0.0, 0.0, 0.0], [0.0428055115044117, 0.06590068340301514, 0.14640934765338898, 0.07069697231054306, 0.024553408846259117, 0.07238904386758804, 0.31410130858421326, 0.01872064173221588, 0.05489100143313408, 0.024726618081331253, 0.08595176041126251, 0.07885368168354034, 0.0, 0.0, 0.0, 0.0, 0.0, 0.0, 0.0, 0.0, 0.0, 0.0, 0.0, 0.0], [0.031241988763213158, 0.09370487928390503, 0.17154687643051147, 0.024028701707720757, 0.019451715052127838, 0.08080466091632843, 0.11673078685998917, 0.039494775235652924, 0.0587671659886837, 0.022474458441138268, 0.10412672162055969, 0.10108717530965805, 0.13654004037380219, 0.0, 0.0, 0.0, 0.0, 0.0, 0.0, 0.0, 0.0, 0.0, 0.0, 0.0], [0.08588526397943497, 0.0494212843477726, 0.09638512879610062, 0.09397149085998535, 0.02561074122786522, 0.06183312088251114, 0.16624364256858826, 0.0111961979418993, 0.030753955245018005, 0.02613787353038788, 0.07768817245960236, 0.05367160215973854, 0.14838846027851105, 0.0728129968047142, 0.0, 0.0, 0.0, 0.0, 0.0, 0.0, 0.0, 0.0, 0.0, 0.0], [0.08355601131916046, 0.10500875115394592, 0.13697762787342072, 0.016594696789979935, 0.019432172179222107, 0.08840461075305939, 0.022872982546687126, 0.04181533306837082, 0.031261641532182693, 0.026206571608781815, 0.13632793724536896, 0.08904969692230225, 0.05625051632523537, 0.07929020375013351, 0.06695131212472916, 0.0, 0.0, 0.0, 0.0, 0.0, 0.0, 0.0, 0.0, 0.0], [0.05702069774270058, 0.03480067849159241, 0.05145711451768875, 0.12858952581882477, 0.04490531235933304, 0.0444318950176239, 0.17636363208293915, 0.01720758154988289, 0.042392127215862274, 0.039810191839933395, 0.0433565154671669, 0.04004291072487831, 0.10696661472320557, 0.05257152393460274, 0.08591288328170776, 0.034170765429735184, 0.0, 0.0, 0.0, 0.0, 0.0, 0.0, 0.0, 0.0], [0.0468602292239666, 0.06633127480745316, 0.12664999067783356, 0.02690485119819641, 0.014645264483988285, 0.06475038081407547, 0.07925818860530853, 0.017940429970622063, 0.030588842928409576, 0.01724788174033165, 0.09120544791221619, 0.06787316501140594, 0.10558187961578369, 0.06120910122990608, 0.06453000754117966, 0.046153005212545395, 0.07227003574371338, 0.0, 0.0, 0.0, 0.0, 0.0, 0.0, 0.0], [0.08931934088468552, 0.07066133618354797, 0.0872582495212555, 0.03266815468668938, 0.02743443474173546, 0.0688682347536087, 0.03275595232844353, 0.03176038712263107, 0.030815105885267258, 0.032641198486089706, 0.0922103077173233, 0.06347541511058807, 0.05629228055477142, 0.06980016082525253, 0.07664770632982254, 0.05360238254070282, 0.03575289249420166, 0.048036474734544754, 0.0, 0.0, 0.0, 0.0, 0.0, 0.0], [0.06667020171880722, 0.0508711077272892, 0.028914138674736023, 0.040001656860113144, 0.08974789828062057, 0.04650941491127014, 0.013974012807011604, 0.11984819918870926, 0.05253060534596443, 0.09175634384155273, 0.042542219161987305, 0.04396766796708107, 0.019033966585993767, 0.04621151089668274, 0.0390070341527462, 0.058128781616687775, 0.014165669679641724, 0.09149239957332611, 0.044627148658037186, 0.0, 0.0, 0.0, 0.0, 0.0], [0.07277161628007889, 0.04772428795695305, 0.028625382110476494, 0.0408066026866436, 0.07928629219532013, 0.04501848295331001, 0.013722706586122513, 0.09382137656211853, 0.044616103172302246, 0.081818126142025, 0.04268639534711838, 0.041005734354257584, 0.019229581579566002, 0.04617006704211235, 0.04255342110991478, 0.05255061760544777, 0.014986323192715645, 0.08845146745443344, 0.04657101258635521, 0.05758444219827652, 0.0, 0.0, 0.0, 0.0], [0.05729442834854126, 0.044287655502557755, 0.024768205359578133, 0.03682532161474228, 0.08368666470050812, 0.040574993938207626, 0.012803136371076107, 0.11046043783426285, 0.048446256667375565, 0.08452384173870087, 0.03635931387543678, 0.038547489792108536, 0.01680445857346058, 0.040299005806446075, 0.033823162317276, 0.05160636454820633, 0.012916122563183308, 0.08210473507642746, 0.040744733065366745, 0.05143760144710541, 0.05168609321117401, 0.0, 0.0, 0.0], [0.06298425793647766, 0.036691587418317795, 0.022629765793681145, 0.043826039880514145, 0.07244507968425751, 0.03639812394976616, 0.014525712467730045, 0.0697639212012291, 0.038179099559783936, 0.07196066528558731, 0.033365439623594284, 0.032413333654403687, 0.017916010692715645, 0.03873562067747116, 0.039129722863435745, 0.04148917645215988, 0.01701487973332405, 0.07732769101858139, 0.0494861863553524, 0.06077190861105919, 0.05953167751431465, 0.06341412663459778, 0.0, 0.0], [0.05088018625974655, 0.03513577580451965, 0.019966665655374527, 0.03846423327922821, 0.07696501910686493, 0.03356203809380531, 0.012921301648020744, 0.08555534482002258, 0.0416872575879097, 0.07542639225721359, 0.02927958220243454, 0.03118574433028698, 0.01539716124534607, 0.03443122282624245, 0.031245319172739983, 0.04183695837855339, 0.013881432823836803, 0.0733213946223259, 0.0423429049551487, 0.05332745984196663, 0.05245569720864296, 0.05715623125433922, 0.053574707359075546, 0.0], [0.057243023067712784, 0.03326016664505005, 0.017834292724728584, 0.034361254423856735, 0.07227692753076553, 0.03179223835468292, 0.009152119979262352, 0.07954869419336319, 0.0346672497689724, 0.07264293730258942, 0.02860487997531891, 0.028314363211393356, 0.01236503291875124, 0.0332973450422287, 0.03120802529156208, 0.03876039758324623, 0.010430125519633293, 0.07690919190645218, 0.03965860605239868, 0.05140913277864456, 0.050812482833862305, 0.05531033128499985, 0.05106678605079651, 0.049074362963438034]], [[1.0, 0.0, 0.0, 0.0, 0.0, 0.0, 0.0, 0.0, 0.0, 0.0, 0.0, 0.0, 0.0, 0.0, 0.0, 0.0, 0.0, 0.0, 0.0, 0.0, 0.0, 0.0, 0.0, 0.0], [0.6941601037979126, 0.305839866399765, 0.0, 0.0, 0.0, 0.0, 0.0, 0.0, 0.0, 0.0, 0.0, 0.0, 0.0, 0.0, 0.0, 0.0, 0.0, 0.0, 0.0, 0.0, 0.0, 0.0, 0.0, 0.0], [0.3055115044116974, 0.37802085280418396, 0.31646767258644104, 0.0, 0.0, 0.0, 0.0, 0.0, 0.0, 0.0, 0.0, 0.0, 0.0, 0.0, 0.0, 0.0, 0.0, 0.0, 0.0, 0.0, 0.0, 0.0, 0.0, 0.0], [0.2135191559791565, 0.1976810246706009, 0.16109472513198853, 0.4277050495147705, 0.0, 0.0, 0.0, 0.0, 0.0, 0.0, 0.0, 0.0, 0.0, 0.0, 0.0, 0.0, 0.0, 0.0, 0.0, 0.0, 0.0, 0.0, 0.0, 0.0], [0.4493735134601593, 0.18675589561462402, 0.1593831479549408, 0.10338693112134933, 0.10110042989253998, 0.0, 0.0, 0.0, 0.0, 0.0, 0.0, 0.0, 0.0, 0.0, 0.0, 0.0, 0.0, 0.0, 0.0, 0.0, 0.0, 0.0, 0.0, 0.0], [0.1791221648454666, 0.1878482699394226, 0.16878657042980194, 0.11389031261205673, 0.1488337516784668, 0.20151890814304352, 0.0, 0.0, 0.0, 0.0, 0.0, 0.0, 0.0, 0.0, 0.0, 0.0, 0.0, 0.0, 0.0, 0.0, 0.0, 0.0, 0.0, 0.0], [0.10663099586963654, 0.12222854793071747, 0.12548798322677612, 0.19891533255577087, 0.1630595326423645, 0.12791627645492554, 0.15576134622097015, 0.0, 0.0, 0.0, 0.0, 0.0, 0.0, 0.0, 0.0, 0.0, 0.0, 0.0, 0.0, 0.0, 0.0, 0.0, 0.0, 0.0], [0.1835734248161316, 0.12277020514011383, 0.07429439574480057, 0.2495255023241043, 0.1460317075252533, 0.07076220959424973, 0.07988207042217255, 0.07316059619188309, 0.0, 0.0, 0.0, 0.0, 0.0, 0.0, 0.0, 0.0, 0.0, 0.0, 0.0, 0.0, 0.0, 0.0, 0.0, 0.0], [0.05171632766723633, 0.06877890229225159, 0.041149310767650604, 0.3524687588214874, 0.1644774079322815, 0.05854454264044762, 0.1003645658493042, 0.04718480631709099, 0.11531539261341095, 0.0, 0.0, 0.0, 0.0, 0.0, 0.0, 0.0, 0.0, 0.0, 0.0, 0.0, 0.0, 0.0, 0.0, 0.0], [0.23938167095184326, 0.12311560660600662, 0.11353130638599396, 0.06840337067842484, 0.07240453362464905, 0.07878991216421127, 0.05785033106803894, 0.09804126620292664, 0.04661237448453903, 0.1018696278333664, 0.0, 0.0, 0.0, 0.0, 0.0, 0.0, 0.0, 0.0, 0.0, 0.0, 0.0, 0.0, 0.0, 0.0], [0.2111438363790512, 0.11150120198726654, 0.08861255645751953, 0.06211850047111511, 0.06575313955545425, 0.06953825801610947, 0.05002626031637192, 0.08374680578708649, 0.039574794471263885, 0.09267674386501312, 0.12530790269374847, 0.0, 0.0, 0.0, 0.0, 0.0, 0.0, 0.0, 0.0, 0.0, 0.0, 0.0, 0.0, 0.0], [0.17465966939926147, 0.09689612686634064, 0.11089824140071869, 0.03576464578509331, 0.04853958263993263, 0.07406844198703766, 0.049118269234895706, 0.09402763843536377, 0.04003904387354851, 0.07086266577243805, 0.0661168098449707, 0.13900887966156006, 0.0, 0.0, 0.0, 0.0, 0.0, 0.0, 0.0, 0.0, 0.0, 0.0, 0.0, 0.0], [0.20575504004955292, 0.09016155451536179, 0.0988020971417427, 0.03846365213394165, 0.04441417008638382, 0.055855896323919296, 0.037607308477163315, 0.07579048722982407, 0.029329562559723854, 0.0684666782617569, 0.07022762298583984, 0.13550116121768951, 0.04962482303380966, 0.0, 0.0, 0.0, 0.0, 0.0, 0.0, 0.0, 0.0, 0.0, 0.0, 0.0], [0.1132088229060173, 0.07805508375167847, 0.07910406589508057, 0.04896778613328934, 0.05441504344344139, 0.06306513398885727, 0.05098918080329895, 0.07218318432569504, 0.04501044377684593, 0.06732761859893799, 0.06953700631856918, 0.09437020123004913, 0.05964154377579689, 0.10412488132715225, 0.0, 0.0, 0.0, 0.0, 0.0, 0.0, 0.0, 0.0, 0.0, 0.0], [0.10893107950687408, 0.07775591313838959, 0.08991245925426483, 0.03117104433476925, 0.04443573206663132, 0.07128465920686722, 0.05035766214132309, 0.08330626785755157, 0.043793655931949615, 0.05864010378718376, 0.05185365676879883, 0.10183250904083252, 0.042567960917949677, 0.0950104221701622, 0.04914690926671028, 0.0, 0.0, 0.0, 0.0, 0.0, 0.0, 0.0, 0.0, 0.0], [0.05936877056956291, 0.06011000648140907, 0.05455973371863365, 0.07120949029922485, 0.06523653119802475, 0.05758478119969368, 0.06032484397292137, 0.056230995804071426, 0.06053708866238594, 0.0633460283279419, 0.06980928033590317, 0.057294588536024094, 0.07245507091283798, 0.061352670192718506, 0.07765292376279831, 0.052927255630493164, 0.0, 0.0, 0.0, 0.0, 0.0, 0.0, 0.0, 0.0], [0.11476048827171326, 0.06391074508428574, 0.08389518409967422, 0.032998789101839066, 0.03804797679185867, 0.048839494585990906, 0.03740934655070305, 0.06279247254133224, 0.03226345032453537, 0.051481764763593674, 0.043145034462213516, 0.08970179408788681, 0.03190944716334343, 0.09613309055566788, 0.030770137906074524, 0.10090058296918869, 0.04104028642177582, 0.0, 0.0, 0.0, 0.0, 0.0, 0.0, 0.0], [0.1563536524772644, 0.05637729912996292, 0.03917167708277702, 0.021177111193537712, 0.023730449378490448, 0.026699276641011238, 0.01553268637508154, 0.03598908707499504, 0.010640192776918411, 0.041404735296964645, 0.06668172031641006, 0.08382013440132141, 0.04916785657405853, 0.1375628411769867, 0.12359988689422607, 0.04050009325146675, 0.04645821824669838, 0.025133099406957626, 0.0, 0.0, 0.0, 0.0, 0.0, 0.0], [0.04217788204550743, 0.053263112902641296, 0.05834486335515976, 0.04461304098367691, 0.05340474843978882, 0.0668463483452797, 0.0655713602900505, 0.0631239041686058, 0.06881590187549591, 0.05075307562947273, 0.04411482810974121, 0.05161844566464424, 0.046274684369564056, 0.04217227175831795, 0.04156654700636864, 0.057236917316913605, 0.044362280517816544, 0.046754706650972366, 0.05898510664701462, 0.0, 0.0, 0.0, 0.0, 0.0], [0.037431590259075165, 0.05007430911064148, 0.05619850754737854, 0.04025749862194061, 0.05031351000070572, 0.06648215651512146, 0.06498854607343674, 0.06191084533929825, 0.0690615251660347, 0.04718613997101784, 0.039561327546834946, 0.04815119132399559, 0.041978415101766586, 0.03741949051618576, 0.036613378673791885, 0.05490987002849579, 0.039885953068733215, 0.042559266090393066, 0.05679955333471298, 0.05821691453456879, 0.0, 0.0, 0.0, 0.0], [0.038084063678979874, 0.046811606734991074, 0.047815147787332535, 0.041890691965818405, 0.047822605818510056, 0.05585553124547005, 0.055274344980716705, 0.0525321327149868, 0.057384591549634933, 0.045520391315221786, 0.042595818638801575, 0.044693898409605026, 0.045210592448711395, 0.03865929692983627, 0.04367600381374359, 0.04611613228917122, 0.042264070361852646, 0.046557456254959106, 0.053701337426900864, 0.0539487786591053, 0.05358550325036049, 0.0, 0.0, 0.0], [0.025160830467939377, 0.036378126591444016, 0.0321035198867321, 0.0560566782951355, 0.05095760524272919, 0.043612509965896606, 0.05228755623102188, 0.037492986768484116, 0.05792505294084549, 0.041845545172691345, 0.04485321789979935, 0.029591895639896393, 0.05364792048931122, 0.02790008671581745, 0.05160512030124664, 0.029066216200590134, 0.04723658412694931, 0.07153598219156265, 0.05391167104244232, 0.05055845156311989, 0.051040153950452805, 0.05523229390382767, 0.0, 0.0], [0.02487628534436226, 0.037642523646354675, 0.04059344530105591, 0.04667741805315018, 0.04874200001358986, 0.05111292004585266, 0.05892494320869446, 0.04495012015104294, 0.06668884307146072, 0.04048585519194603, 0.03528306633234024, 0.03241904079914093, 0.04030255228281021, 0.026253588497638702, 0.03190860524773598, 0.038789018988609314, 0.03836435824632645, 0.049844492226839066, 0.04915501922369003, 0.04828855022788048, 0.04920060560107231, 0.05273804813623428, 0.04675871878862381, 0.0], [0.020655006170272827, 0.0330645851790905, 0.03173103928565979, 0.04824130982160568, 0.04699890688061714, 0.044228002429008484, 0.05340275540947914, 0.03732706606388092, 0.06099490448832512, 0.03745848685503006, 0.036311402916908264, 0.026680689305067062, 0.043903592973947525, 0.022736040875315666, 0.037924282252788544, 0.028957460075616837, 0.03913804888725281, 0.05910725146532059, 0.04957727715373039, 0.04714708775281906, 0.04785267263650894, 0.05224491283297539, 0.04464799910783768, 0.04966925084590912]], [[1.0, 0.0, 0.0, 0.0, 0.0, 0.0, 0.0, 0.0, 0.0, 0.0, 0.0, 0.0, 0.0, 0.0, 0.0, 0.0, 0.0, 0.0, 0.0, 0.0, 0.0, 0.0, 0.0, 0.0], [0.2131311446428299, 0.7868688106536865, 0.0, 0.0, 0.0, 0.0, 0.0, 0.0, 0.0, 0.0, 0.0, 0.0, 0.0, 0.0, 0.0, 0.0, 0.0, 0.0, 0.0, 0.0, 0.0, 0.0, 0.0, 0.0], [0.17057250440120697, 0.2984716296195984, 0.5309558510780334, 0.0, 0.0, 0.0, 0.0, 0.0, 0.0, 0.0, 0.0, 0.0, 0.0, 0.0, 0.0, 0.0, 0.0, 0.0, 0.0, 0.0, 0.0, 0.0, 0.0, 0.0], [0.32099249958992004, 0.13278168439865112, 0.051849909126758575, 0.4943758547306061, 0.0, 0.0, 0.0, 0.0, 0.0, 0.0, 0.0, 0.0, 0.0, 0.0, 0.0, 0.0, 0.0, 0.0, 0.0, 0.0, 0.0, 0.0, 0.0, 0.0], [0.2433740347623825, 0.12373825907707214, 0.06277193129062653, 0.2351294904947281, 0.33498620986938477, 0.0, 0.0, 0.0, 0.0, 0.0, 0.0, 0.0, 0.0, 0.0, 0.0, 0.0, 0.0, 0.0, 0.0, 0.0, 0.0, 0.0, 0.0, 0.0], [0.1720932275056839, 0.170266255736351, 0.18231751024723053, 0.16715028882026672, 0.14921236038208008, 0.15896029770374298, 0.0, 0.0, 0.0, 0.0, 0.0, 0.0, 0.0, 0.0, 0.0, 0.0, 0.0, 0.0, 0.0, 0.0, 0.0, 0.0, 0.0, 0.0], [0.24637553095817566, 0.18899545073509216, 0.23005767166614532, 0.073851078748703, 0.06505642831325531, 0.07827035337686539, 0.11739350855350494, 0.0, 0.0, 0.0, 0.0, 0.0, 0.0, 0.0, 0.0, 0.0, 0.0, 0.0, 0.0, 0.0, 0.0, 0.0, 0.0, 0.0], [0.05754121020436287, 0.13286906480789185, 0.3458687961101532, 0.022587653249502182, 0.01811986230313778, 0.15493367612361908, 0.12425022572278976, 0.14382947981357574, 0.0, 0.0, 0.0, 0.0, 0.0, 0.0, 0.0, 0.0, 0.0, 0.0, 0.0, 0.0, 0.0, 0.0, 0.0, 0.0], [0.14594216644763947, 0.08164598047733307, 0.06686701625585556, 0.09278181195259094, 0.0796208381652832, 0.03734897822141647, 0.058118127286434174, 0.31497427821159363, 0.12270084768533707, 0.0, 0.0, 0.0, 0.0, 0.0, 0.0, 0.0, 0.0, 0.0, 0.0, 0.0, 0.0, 0.0, 0.0, 0.0], [0.1168932169675827, 0.08596387505531311, 0.046127624809741974, 0.048430025577545166, 0.1378597617149353, 0.06433011591434479, 0.06810125708580017, 0.22342528402805328, 0.09079767763614655, 0.11807119846343994, 0.0, 0.0, 0.0, 0.0, 0.0, 0.0, 0.0, 0.0, 0.0, 0.0, 0.0, 0.0, 0.0, 0.0], [0.04138696566224098, 0.08492592722177505, 0.1365155726671219, 0.09407410025596619, 0.06985655426979065, 0.2101411372423172, 0.131652370095253, 0.014673341065645218, 0.05509002506732941, 0.07335076481103897, 0.08833325654268265, 0.0, 0.0, 0.0, 0.0, 0.0, 0.0, 0.0, 0.0, 0.0, 0.0, 0.0, 0.0, 0.0], [0.08435360342264175, 0.09406638890504837, 0.10157205164432526, 0.048270147293806076, 0.06101639196276665, 0.08551742881536484, 0.08416759222745895, 0.1398978978395462, 0.08969052881002426, 0.06975214183330536, 0.06502613425254822, 0.07666967064142227, 0.0, 0.0, 0.0, 0.0, 0.0, 0.0, 0.0, 0.0, 0.0, 0.0, 0.0, 0.0], [0.07168781012296677, 0.09296275675296783, 0.13949374854564667, 0.04081955924630165, 0.03570433333516121, 0.08282921463251114, 0.0828525722026825, 0.13430100679397583, 0.08789676427841187, 0.04829506576061249, 0.06475289911031723, 0.07736766338348389, 0.041036590933799744, 0.0, 0.0, 0.0, 0.0, 0.0, 0.0, 0.0, 0.0, 0.0, 0.0, 0.0], [0.02338472194969654, 0.09313587844371796, 0.2084699422121048, 0.004811014048755169, 0.012257279828190804, 0.19714181125164032, 0.09778762608766556, 0.062367070466279984, 0.042148180305957794, 0.02251579612493515, 0.016751030460000038, 0.16862168908119202, 0.01328366994857788, 0.03732427954673767, 0.0, 0.0, 0.0, 0.0, 0.0, 0.0, 0.0, 0.0, 0.0, 0.0], [0.037060078233480453, 0.07201720029115677, 0.14135846495628357, 0.04605085775256157, 0.029722794890403748, 0.11878757923841476, 0.08916392922401428, 0.02851274609565735, 0.05299518257379532, 0.03903808817267418, 0.06118631362915039, 0.1407725065946579, 0.053477510809898376, 0.05167149752378464, 0.03818526491522789, 0.0, 0.0, 0.0, 0.0, 0.0, 0.0, 0.0, 0.0, 0.0], [0.05845886096358299, 0.03127790987491608, 0.011700035072863102, 0.10191942006349564, 0.19914695620536804, 0.03170084208250046, 0.033604249358177185, 0.02779976651072502, 0.03640216961503029, 0.11087316274642944, 0.047876808792352676, 0.031162923201918602, 0.10970894992351532, 0.02788199484348297, 0.12134828418493271, 0.019137680530548096, 0.0, 0.0, 0.0, 0.0, 0.0, 0.0, 0.0, 0.0], [0.05948209390044212, 0.07214011251926422, 0.07717414200305939, 0.010117133148014545, 0.023862628266215324, 0.04898989573121071, 0.04911164194345474, 0.2952473759651184, 0.06600305438041687, 0.033570241183042526, 0.0236457921564579, 0.03363247215747833, 0.014160153456032276, 0.07725762575864792, 0.014162915758788586, 0.08271414041519165, 0.018728546798229218, 0.0, 0.0, 0.0, 0.0, 0.0, 0.0, 0.0], [0.04119839146733284, 0.0406455472111702, 0.03402002155780792, 0.07468549907207489, 0.07687552273273468, 0.054820410907268524, 0.048981621861457825, 0.02057942934334278, 0.03812185674905777, 0.06267083436250687, 0.05296739563345909, 0.06170422211289406, 0.08039283752441406, 0.032247502356767654, 0.07163774967193604, 0.03740896284580231, 0.06988802552223206, 0.10115419328212738, 0.0, 0.0, 0.0, 0.0, 0.0, 0.0], [0.05226605013012886, 0.06886224448680878, 0.10755374282598495, 0.024041129276156425, 0.02192775160074234, 0.056794460862874985, 0.05799148604273796, 0.12231623381376266, 0.06550563126802444, 0.031471896916627884, 0.042775027453899384, 0.050798650830984116, 0.024306289851665497, 0.07942644506692886, 0.024442236870527267, 0.08760713040828705, 0.029350345954298973, 0.014378702268004417, 0.03818458691239357, 0.0, 0.0, 0.0, 0.0, 0.0], [0.05842520669102669, 0.05742765590548515, 0.06701651215553284, 0.03383847698569298, 0.03231354057788849, 0.04222140088677406, 0.047828592360019684, 0.11248389631509781, 0.06217923387885094, 0.03888918459415436, 0.04601700231432915, 0.037739697843790054, 0.030836250633001328, 0.07334859669208527, 0.03509248048067093, 0.06134386360645294, 0.03517405688762665, 0.025389255955815315, 0.05333197861909866, 0.04910306632518768, 0.0, 0.0, 0.0, 0.0], [0.04799769073724747, 0.0596277229487896, 0.09114814549684525, 0.03362280875444412, 0.02486541122198105, 0.05319424718618393, 0.054754581302404404, 0.07729554921388626, 0.058426421135663986, 0.03284785524010658, 0.048696745187044144, 0.05193408951163292, 0.031080348417162895, 0.06853005290031433, 0.03155358135700226, 0.07306987047195435, 0.03515308350324631, 0.0207035131752491, 0.03437916561961174, 0.03516010940074921, 0.035958997905254364, 0.0, 0.0, 0.0], [0.04639413580298424, 0.060967180877923965, 0.10827194154262543, 0.02228000946342945, 0.016079820692539215, 0.04672945290803909, 0.050422366708517075, 0.1146755963563919, 0.06065444275736809, 0.024576157331466675, 0.0410461463034153, 0.04265032336115837, 0.020087167620658875, 0.07863584905862808, 0.021340010687708855, 0.080637127161026, 0.024843083694577217, 0.011110803112387657, 0.030139243230223656, 0.029959941282868385, 0.03250030428171158, 0.035998888313770294, 0.0, 0.0], [0.04950516298413277, 0.05290815606713295, 0.06950414180755615, 0.017415637150406837, 0.018579265102744102, 0.0339619517326355, 0.03922072425484657, 0.15708042681217194, 0.05645306035876274, 0.025927986949682236, 0.03150377422571182, 0.02761419303715229, 0.016585158184170723, 0.07235073298215866, 0.01918603852391243, 0.061079226434230804, 0.020851721987128258, 0.011163294315338135, 0.04264272749423981, 0.038327671587467194, 0.046028509736061096, 0.04733488708734512, 0.044775549322366714, 0.0], [0.04581444337964058, 0.04676080867648125, 0.06200521066784859, 0.03840012103319168, 0.026529593393206596, 0.037603959441185, 0.04239925369620323, 0.06570929288864136, 0.05086196959018707, 0.031921662390232086, 0.04697807878255844, 0.037068795412778854, 0.031584952026605606, 0.060127776116132736, 0.03558765724301338, 0.05179225280880928, 0.03468106687068939, 0.025566069409251213, 0.03627023845911026, 0.03486126288771629, 0.03734654188156128, 0.040782298892736435, 0.038258496671915054, 0.041088152676820755]]]}\n",
       "    )\n",
       "    </script>"
      ],
      "text/plain": [
       "<circuitsvis.utils.render.RenderedHTML at 0x42e67c440>"
      ]
     },
     "metadata": {},
     "output_type": "display_data"
    },
    {
     "name": "stdout",
     "output_type": "stream",
     "text": [
      "Layer:  1\n"
     ]
    },
    {
     "data": {
      "text/html": [
       "<div id=\"circuits-vis-2f7ecde0-30c4\" style=\"margin: 15px 0;\"/>\n",
       "    <script crossorigin type=\"module\">\n",
       "    import { render, AttentionPatterns } from \"https://unpkg.com/circuitsvis@1.43.2/dist/cdn/esm.js\";\n",
       "    render(\n",
       "      \"circuits-vis-2f7ecde0-30c4\",\n",
       "      AttentionPatterns,\n",
       "      {\"tokens\": [\"<\", \"a\", \"a\", \"l\", \"t\", \"f\", \"|\", \"f\", \"t\", \"l\", \"a\", \"a\", \"|\", \"a\", \"a\", \"l\", \"t\", \"f\", \">\", \">\", \">\", \">\", \">\", \">\"], \"attention\": [[[1.0, 0.0, 0.0, 0.0, 0.0, 0.0, 0.0, 0.0, 0.0, 0.0, 0.0, 0.0, 0.0, 0.0, 0.0, 0.0, 0.0, 0.0, 0.0, 0.0, 0.0, 0.0, 0.0, 0.0], [0.5037322044372559, 0.49626776576042175, 0.0, 0.0, 0.0, 0.0, 0.0, 0.0, 0.0, 0.0, 0.0, 0.0, 0.0, 0.0, 0.0, 0.0, 0.0, 0.0, 0.0, 0.0, 0.0, 0.0, 0.0, 0.0], [0.3216771185398102, 0.3235931396484375, 0.35472971200942993, 0.0, 0.0, 0.0, 0.0, 0.0, 0.0, 0.0, 0.0, 0.0, 0.0, 0.0, 0.0, 0.0, 0.0, 0.0, 0.0, 0.0, 0.0, 0.0, 0.0, 0.0], [0.239302858710289, 0.2950720489025116, 0.26094722747802734, 0.20467786490917206, 0.0, 0.0, 0.0, 0.0, 0.0, 0.0, 0.0, 0.0, 0.0, 0.0, 0.0, 0.0, 0.0, 0.0, 0.0, 0.0, 0.0, 0.0, 0.0, 0.0], [0.31489771604537964, 0.33097484707832336, 0.1712413728237152, 0.10331261157989502, 0.07957340776920319, 0.0, 0.0, 0.0, 0.0, 0.0, 0.0, 0.0, 0.0, 0.0, 0.0, 0.0, 0.0, 0.0, 0.0, 0.0, 0.0, 0.0, 0.0, 0.0], [0.29018786549568176, 0.35448750853538513, 0.17245742678642273, 0.0756487250328064, 0.03539888933300972, 0.0718194916844368, 0.0, 0.0, 0.0, 0.0, 0.0, 0.0, 0.0, 0.0, 0.0, 0.0, 0.0, 0.0, 0.0, 0.0, 0.0, 0.0, 0.0, 0.0], [0.03333038091659546, 0.039436664432287216, 0.04970500245690346, 0.20416952669620514, 0.08123594522476196, 0.36825716495513916, 0.22386534512043, 0.0, 0.0, 0.0, 0.0, 0.0, 0.0, 0.0, 0.0, 0.0, 0.0, 0.0, 0.0, 0.0, 0.0, 0.0, 0.0, 0.0], [0.07727790623903275, 0.07811329513788223, 0.0541774146258831, 0.1347702145576477, 0.09122756123542786, 0.07135912030935287, 0.34425726532936096, 0.14881719648838043, 0.0, 0.0, 0.0, 0.0, 0.0, 0.0, 0.0, 0.0, 0.0, 0.0, 0.0, 0.0, 0.0, 0.0, 0.0, 0.0], [0.051168374717235565, 0.049761004745960236, 0.038579728454351425, 0.11269129812717438, 0.08753237873315811, 0.058114584535360336, 0.2926011383533478, 0.1592952460050583, 0.1502561718225479, 0.0, 0.0, 0.0, 0.0, 0.0, 0.0, 0.0, 0.0, 0.0, 0.0, 0.0, 0.0, 0.0, 0.0, 0.0], [0.058607399463653564, 0.04915301874279976, 0.07065651565790176, 0.07085095345973969, 0.15298007428646088, 0.06097835674881935, 0.06300166249275208, 0.14155727624893188, 0.15440866351127625, 0.17780610918998718, 0.0, 0.0, 0.0, 0.0, 0.0, 0.0, 0.0, 0.0, 0.0, 0.0, 0.0, 0.0, 0.0, 0.0], [0.03672310337424278, 0.032736364752054214, 0.042394623160362244, 0.082579106092453, 0.11572917550802231, 0.0666598379611969, 0.10535044968128204, 0.17705224454402924, 0.16248293220996857, 0.09358293563127518, 0.08470922708511353, 0.0, 0.0, 0.0, 0.0, 0.0, 0.0, 0.0, 0.0, 0.0, 0.0, 0.0, 0.0, 0.0], [0.2846682369709015, 0.36142805218696594, 0.13189758360385895, 0.02724127471446991, 0.012258647009730339, 0.02400186099112034, 0.027621032670140266, 0.0035841045901179314, 0.005515094380825758, 0.019986363127827644, 0.06951993703842163, 0.03227783367037773, 0.0, 0.0, 0.0, 0.0, 0.0, 0.0, 0.0, 0.0, 0.0, 0.0, 0.0, 0.0], [0.14167870581150055, 0.17499461770057678, 0.14804750680923462, 0.04964422434568405, 0.02840323932468891, 0.1067582294344902, 0.022672750055789948, 0.01638699136674404, 0.01624465547502041, 0.04054732993245125, 0.024757707491517067, 0.11118590086698532, 0.11867808550596237, 0.0, 0.0, 0.0, 0.0, 0.0, 0.0, 0.0, 0.0, 0.0, 0.0, 0.0], [0.01781141199171543, 0.01595163717865944, 0.022869044914841652, 0.07175654917955399, 0.090184286236763, 0.06061906740069389, 0.10182477533817291, 0.2030467838048935, 0.16067595779895782, 0.05864068865776062, 0.05153721943497658, 0.048530545085668564, 0.01986747793853283, 0.07668451219797134, 0.0, 0.0, 0.0, 0.0, 0.0, 0.0, 0.0, 0.0, 0.0, 0.0], [0.11525888741016388, 0.11601249128580093, 0.07026604562997818, 0.04417279362678528, 0.041564494371414185, 0.026021789759397507, 0.066164530813694, 0.02417749911546707, 0.033011578023433685, 0.04918093606829643, 0.1302187591791153, 0.03210882470011711, 0.1354922354221344, 0.06459514051675797, 0.05175398662686348, 0.0, 0.0, 0.0, 0.0, 0.0, 0.0, 0.0, 0.0, 0.0], [0.03197064250707626, 0.02839948982000351, 0.04103093966841698, 0.05382806435227394, 0.08761075884103775, 0.0539083369076252, 0.04867561161518097, 0.10619327425956726, 0.10085360705852509, 0.08636992424726486, 0.05031481757760048, 0.054472703486680984, 0.02669733203947544, 0.06787638366222382, 0.07102464884519577, 0.09077347815036774, 0.0, 0.0, 0.0, 0.0, 0.0, 0.0, 0.0, 0.0], [0.0336989127099514, 0.03927016258239746, 0.06181774660944939, 0.06951700150966644, 0.04387953132390976, 0.21013368666172028, 0.02974926494061947, 0.07214479148387909, 0.04602944105863571, 0.039026983082294464, 0.010516921989619732, 0.1529078632593155, 0.02788478322327137, 0.025670554488897324, 0.039400119334459305, 0.07477075606584549, 0.023581519722938538, 0.0, 0.0, 0.0, 0.0, 0.0, 0.0, 0.0], [0.0605812668800354, 0.04929305240511894, 0.03846946731209755, 0.025093883275985718, 0.05603160709142685, 0.009616321884095669, 0.04237082228064537, 0.027953604236245155, 0.04581516981124878, 0.07696706056594849, 0.16615982353687286, 0.014714410528540611, 0.05727086216211319, 0.07845177501440048, 0.057282838970422745, 0.04240438714623451, 0.08033817261457443, 0.07118551433086395, 0.0, 0.0, 0.0, 0.0, 0.0, 0.0], [0.05734405294060707, 0.05078689008951187, 0.04134252667427063, 0.033284153789281845, 0.051959794014692307, 0.017372876405715942, 0.04992511495947838, 0.034415677189826965, 0.04697837680578232, 0.061291277408599854, 0.1131121888756752, 0.02238365262746811, 0.058213070034980774, 0.06743178516626358, 0.0537433959543705, 0.04120498523116112, 0.06965570896863937, 0.06638607382774353, 0.06316841393709183, 0.0, 0.0, 0.0, 0.0, 0.0], [0.04458102583885193, 0.03795042261481285, 0.03992146998643875, 0.032304953783750534, 0.06326059252023697, 0.0204452034085989, 0.03757762908935547, 0.04467911645770073, 0.057391103357076645, 0.07826005667448044, 0.08412238210439682, 0.026315703988075256, 0.038170699030160904, 0.0655210092663765, 0.058264315128326416, 0.05928340554237366, 0.05601939931511879, 0.05579137057065964, 0.05002189427614212, 0.050118282437324524, 0.0, 0.0, 0.0, 0.0], [0.05878232419490814, 0.051523350179195404, 0.03890072926878929, 0.026006028056144714, 0.0432521253824234, 0.012351213954389095, 0.039913441985845566, 0.02396561950445175, 0.03566116467118263, 0.05568753182888031, 0.11500923335552216, 0.01717107743024826, 0.058655716478824615, 0.059699274599552155, 0.04628932103514671, 0.03462408483028412, 0.06791602075099945, 0.05726549029350281, 0.05615238845348358, 0.056253522634506226, 0.044920407235622406, 0.0, 0.0, 0.0], [0.04854947328567505, 0.044019315391778946, 0.03308868408203125, 0.02977692522108555, 0.04035589471459389, 0.014860001392662525, 0.05012891814112663, 0.028801217675209045, 0.03854752331972122, 0.04414481669664383, 0.09955506771802902, 0.018338153138756752, 0.05410446971654892, 0.05642067268490791, 0.04322625324130058, 0.029228340834379196, 0.06009681895375252, 0.060544710606336594, 0.05811655521392822, 0.05534150451421738, 0.04801373928785324, 0.04474097490310669, 0.0, 0.0], [0.033914536237716675, 0.029739288613200188, 0.02924215793609619, 0.032010581344366074, 0.050810378044843674, 0.019299473613500595, 0.044880203902721405, 0.044824887067079544, 0.053565602749586105, 0.05312734469771385, 0.07326646149158478, 0.022421326488256454, 0.03372287005186081, 0.05690767988562584, 0.04786546528339386, 0.04048946127295494, 0.04675643891096115, 0.055967457592487335, 0.049188826233148575, 0.04631934314966202, 0.04359167441725731, 0.04494529590010643, 0.04714321345090866, 0.0], [0.044676389545202255, 0.03924930840730667, 0.033281534910202026, 0.026156865060329437, 0.04289092496037483, 0.014065602794289589, 0.03732473403215408, 0.028135081753134727, 0.038322556763887405, 0.05164064094424248, 0.08671241998672485, 0.01827765442430973, 0.04375983029603958, 0.0536234974861145, 0.04357578232884407, 0.035260654985904694, 0.05413151904940605, 0.051135867834091187, 0.0483313612639904, 0.047676365822553635, 0.04048871621489525, 0.038655709475278854, 0.044951144605875015, 0.03767593204975128]], [[1.0, 0.0, 0.0, 0.0, 0.0, 0.0, 0.0, 0.0, 0.0, 0.0, 0.0, 0.0, 0.0, 0.0, 0.0, 0.0, 0.0, 0.0, 0.0, 0.0, 0.0, 0.0, 0.0, 0.0], [0.5562552213668823, 0.4437447786331177, 0.0, 0.0, 0.0, 0.0, 0.0, 0.0, 0.0, 0.0, 0.0, 0.0, 0.0, 0.0, 0.0, 0.0, 0.0, 0.0, 0.0, 0.0, 0.0, 0.0, 0.0, 0.0], [0.3702297508716583, 0.39149168133735657, 0.23827852308750153, 0.0, 0.0, 0.0, 0.0, 0.0, 0.0, 0.0, 0.0, 0.0, 0.0, 0.0, 0.0, 0.0, 0.0, 0.0, 0.0, 0.0, 0.0, 0.0, 0.0, 0.0], [0.21759307384490967, 0.2052045613527298, 0.5032116770744324, 0.07399076968431473, 0.0, 0.0, 0.0, 0.0, 0.0, 0.0, 0.0, 0.0, 0.0, 0.0, 0.0, 0.0, 0.0, 0.0, 0.0, 0.0, 0.0, 0.0, 0.0, 0.0], [0.0717892199754715, 0.07516119629144669, 0.020573291927576065, 0.8272973299026489, 0.005178896710276604, 0.0, 0.0, 0.0, 0.0, 0.0, 0.0, 0.0, 0.0, 0.0, 0.0, 0.0, 0.0, 0.0, 0.0, 0.0, 0.0, 0.0, 0.0, 0.0], [0.05733569338917732, 0.05659620836377144, 0.031172068789601326, 0.08287419378757477, 0.7677525281906128, 0.004269298166036606, 0.0, 0.0, 0.0, 0.0, 0.0, 0.0, 0.0, 0.0, 0.0, 0.0, 0.0, 0.0, 0.0, 0.0, 0.0, 0.0, 0.0, 0.0], [0.04598764702677727, 0.08032244443893433, 0.05736098438501358, 0.010817115195095539, 0.006844778545200825, 0.7515023946762085, 0.047164663672447205, 0.0, 0.0, 0.0, 0.0, 0.0, 0.0, 0.0, 0.0, 0.0, 0.0, 0.0, 0.0, 0.0, 0.0, 0.0, 0.0, 0.0], [0.11270371824502945, 0.10718024522066116, 0.09311341494321823, 0.13447542488574982, 0.3377145826816559, 0.03807028755545616, 0.07229948043823242, 0.10444281250238419, 0.0, 0.0, 0.0, 0.0, 0.0, 0.0, 0.0, 0.0, 0.0, 0.0, 0.0, 0.0, 0.0, 0.0, 0.0, 0.0], [0.12026708573102951, 0.1547781378030777, 0.036797259002923965, 0.43850094079971313, 0.06334459036588669, 0.03842015936970711, 0.07307891547679901, 0.05533839762210846, 0.019474521279335022, 0.0, 0.0, 0.0, 0.0, 0.0, 0.0, 0.0, 0.0, 0.0, 0.0, 0.0, 0.0, 0.0, 0.0, 0.0], [0.08025485277175903, 0.06783760339021683, 0.04802878201007843, 0.21496672928333282, 0.2643820643424988, 0.010984794236719608, 0.05322789028286934, 0.03920374810695648, 0.04153810441493988, 0.17957542836666107, 0.0, 0.0, 0.0, 0.0, 0.0, 0.0, 0.0, 0.0, 0.0, 0.0, 0.0, 0.0, 0.0, 0.0], [0.09865698963403702, 0.13843028247356415, 0.04079550504684448, 0.2875807285308838, 0.006717844400554895, 0.2126387059688568, 0.13620363175868988, 0.04835433512926102, 0.01182825118303299, 0.01274877693504095, 0.006044936366379261, 0.0, 0.0, 0.0, 0.0, 0.0, 0.0, 0.0, 0.0, 0.0, 0.0, 0.0, 0.0, 0.0], [0.07991181313991547, 0.05615022033452988, 0.07563570141792297, 0.2791188061237335, 0.037446022033691406, 0.04881097003817558, 0.18332460522651672, 0.024620968848466873, 0.023618165403604507, 0.04923829808831215, 0.05287754163146019, 0.08924689143896103, 0.0, 0.0, 0.0, 0.0, 0.0, 0.0, 0.0, 0.0, 0.0, 0.0, 0.0, 0.0], [0.025233019143342972, 0.026595279574394226, 0.04395538568496704, 0.021186338737607002, 0.0007493611774407327, 0.5726482272148132, 0.12100021541118622, 0.022714627906680107, 0.013081262819468975, 0.0022488704416900873, 0.0032973228953778744, 0.09184041619300842, 0.05544969066977501, 0.0, 0.0, 0.0, 0.0, 0.0, 0.0, 0.0, 0.0, 0.0, 0.0, 0.0], [0.03374538943171501, 0.026840150356292725, 0.07568813115358353, 0.013733708299696445, 0.10918931663036346, 0.042161520570516586, 0.03798127919435501, 0.05888348072767258, 0.14860467612743378, 0.08778468519449234, 0.16923964023590088, 0.04879336431622505, 0.05559989809989929, 0.09175477921962738, 0.0, 0.0, 0.0, 0.0, 0.0, 0.0, 0.0, 0.0, 0.0, 0.0], [0.057684484869241714, 0.08336326479911804, 0.008697287179529667, 0.6975129842758179, 0.0052016801200807095, 0.018942182883620262, 0.048803579062223434, 0.01090498361736536, 0.0014827231643721461, 0.008039381355047226, 0.0018222491489723325, 0.022160490974783897, 0.028449423611164093, 0.004787716083228588, 0.002147574443370104, 0.0, 0.0, 0.0, 0.0, 0.0, 0.0, 0.0, 0.0, 0.0], [0.042755089700222015, 0.039761804044246674, 0.016934940591454506, 0.13785170018672943, 0.314426988363266, 0.0022237070370465517, 0.015359943732619286, 0.02083013951778412, 0.019739292562007904, 0.15803742408752441, 0.08289986848831177, 0.012407672591507435, 0.030224788933992386, 0.009849424473941326, 0.06308647245168686, 0.033610749989748, 0.0, 0.0, 0.0, 0.0, 0.0, 0.0, 0.0, 0.0], [0.013583655469119549, 0.012640813365578651, 0.06339273601770401, 0.0021774873603135347, 0.0028851849492639303, 0.4284447133541107, 0.0476708859205246, 0.04134213924407959, 0.07769721746444702, 0.005526002962142229, 0.017190556973218918, 0.06902281939983368, 0.028656749054789543, 0.1300380676984787, 0.019563527777791023, 0.03691275417804718, 0.0032547556329518557, 0.0, 0.0, 0.0, 0.0, 0.0, 0.0, 0.0], [0.03609803318977356, 0.023706728592514992, 0.04373564571142197, 0.07303223758935928, 0.07364246994256973, 0.01255550142377615, 0.05380566045641899, 0.017354149371385574, 0.02912469208240509, 0.0651184618473053, 0.08545173704624176, 0.03467950224876404, 0.12102902680635452, 0.03342018648982048, 0.03390251845121384, 0.06913349032402039, 0.18394172191619873, 0.010268211364746094, 0.0, 0.0, 0.0, 0.0, 0.0, 0.0], [0.01282522827386856, 0.017137641087174416, 0.0020628881175071, 0.0648597702383995, 0.07408292591571808, 0.00036289141280576587, 0.0022007685620337725, 0.005769121460616589, 0.002404371276497841, 0.034024421125650406, 0.00830007903277874, 0.0019289483316242695, 0.0027583977207541466, 0.0010469842236489058, 0.01172560267150402, 0.003322696778923273, 0.026369992643594742, 0.5192147493362427, 0.209602490067482, 0.0, 0.0, 0.0, 0.0, 0.0], [0.005872655659914017, 0.007383265066891909, 0.0011340428609400988, 0.01869061030447483, 0.14672811329364777, 8.609182987129316e-05, 0.0006365840672515333, 0.0039059200789779425, 0.0027202575001865625, 0.045020345598459244, 0.01278546079993248, 0.0007223031134344637, 0.0010638550156727433, 0.0005885452846996486, 0.018555818125605583, 0.0027399645186960697, 0.009328107349574566, 0.39102867245674133, 0.21091073751449585, 0.12009859085083008, 0.0, 0.0, 0.0, 0.0], [0.00753056863322854, 0.010055894032120705, 0.001017959788441658, 0.04626503959298134, 0.06041555479168892, 0.00012947423965670168, 0.0010659415274858475, 0.0030290649738162756, 0.001227180939167738, 0.024670787155628204, 0.005309878848493099, 0.0009085249621421099, 0.0014719065511599183, 0.0004720558354165405, 0.007329436019062996, 0.0018257865449413657, 0.018388457596302032, 0.43139421939849854, 0.16655482351779938, 0.11483822017908096, 0.09609925746917725, 0.0, 0.0, 0.0], [0.007350931875407696, 0.010160325095057487, 0.0011537744430825114, 0.033366475254297256, 0.05281597748398781, 0.00019029383838642389, 0.001085777534171939, 0.003711544442921877, 0.0015802995767444372, 0.022552641108632088, 0.005348343402147293, 0.0010313942329958081, 0.0013335793046280742, 0.000593858421780169, 0.008311554789543152, 0.0019277875544503331, 0.0126772066578269, 0.39146506786346436, 0.15518121421337128, 0.10912887006998062, 0.09731096029281616, 0.08172213286161423, 0.0, 0.0], [0.0042719668708741665, 0.005758172366768122, 0.0006424419698305428, 0.018312351778149605, 0.0693567618727684, 6.0587528423639014e-05, 0.00046004840987734497, 0.0023451796732842922, 0.0012066005729138851, 0.023233067244291306, 0.0053867315873503685, 0.00047628043103031814, 0.0006776702357456088, 0.0003140406624879688, 0.008333825506269932, 0.0013602552935481071, 0.007445666007697582, 0.35170066356658936, 0.15217038989067078, 0.09307552129030228, 0.09338334947824478, 0.07693123817443848, 0.08309715241193771, 0.0], [0.0036449534818530083, 0.005388687830418348, 0.0004241148999426514, 0.019868172705173492, 0.03912129998207092, 5.164506001165137e-05, 0.00037331029307097197, 0.0017491246107965708, 0.0006571401609107852, 0.014172740280628204, 0.002651083515956998, 0.0003654769097920507, 0.0004674251249525696, 0.0001983933470910415, 0.004623880609869957, 0.0007786452770233154, 0.006275308784097433, 0.40929368138313293, 0.13907216489315033, 0.09108778089284897, 0.081889808177948, 0.06661424040794373, 0.07190092653036118, 0.039329953491687775]], [[1.0, 0.0, 0.0, 0.0, 0.0, 0.0, 0.0, 0.0, 0.0, 0.0, 0.0, 0.0, 0.0, 0.0, 0.0, 0.0, 0.0, 0.0, 0.0, 0.0, 0.0, 0.0, 0.0, 0.0], [0.6497098803520203, 0.35029008984565735, 0.0, 0.0, 0.0, 0.0, 0.0, 0.0, 0.0, 0.0, 0.0, 0.0, 0.0, 0.0, 0.0, 0.0, 0.0, 0.0, 0.0, 0.0, 0.0, 0.0, 0.0, 0.0], [0.338336706161499, 0.30068546533584595, 0.36097779870033264, 0.0, 0.0, 0.0, 0.0, 0.0, 0.0, 0.0, 0.0, 0.0, 0.0, 0.0, 0.0, 0.0, 0.0, 0.0, 0.0, 0.0, 0.0, 0.0, 0.0, 0.0], [0.2295476347208023, 0.277195543050766, 0.3321608901023865, 0.16109596192836761, 0.0, 0.0, 0.0, 0.0, 0.0, 0.0, 0.0, 0.0, 0.0, 0.0, 0.0, 0.0, 0.0, 0.0, 0.0, 0.0, 0.0, 0.0, 0.0, 0.0], [0.07735849916934967, 0.1834837645292282, 0.3506160378456116, 0.3312402367591858, 0.05730145424604416, 0.0, 0.0, 0.0, 0.0, 0.0, 0.0, 0.0, 0.0, 0.0, 0.0, 0.0, 0.0, 0.0, 0.0, 0.0, 0.0, 0.0, 0.0, 0.0], [0.21739964187145233, 0.1619836390018463, 0.11040319502353668, 0.18536967039108276, 0.125815287232399, 0.19902855157852173, 0.0, 0.0, 0.0, 0.0, 0.0, 0.0, 0.0, 0.0, 0.0, 0.0, 0.0, 0.0, 0.0, 0.0, 0.0, 0.0, 0.0, 0.0], [0.12370683252811432, 0.1917818933725357, 0.22531245648860931, 0.08803673088550568, 0.1337222158908844, 0.11819123476743698, 0.11924862116575241, 0.0, 0.0, 0.0, 0.0, 0.0, 0.0, 0.0, 0.0, 0.0, 0.0, 0.0, 0.0, 0.0, 0.0, 0.0, 0.0, 0.0], [0.06739205121994019, 0.1981697380542755, 0.2643848955631256, 0.07854698598384857, 0.03269096091389656, 0.09497597813606262, 0.2145068496465683, 0.04933256655931473, 0.0, 0.0, 0.0, 0.0, 0.0, 0.0, 0.0, 0.0, 0.0, 0.0, 0.0, 0.0, 0.0, 0.0, 0.0, 0.0], [0.043917786329984665, 0.1368710845708847, 0.22018000483512878, 0.1220744401216507, 0.018871892243623734, 0.08913561701774597, 0.3001573085784912, 0.038486842066049576, 0.030305029824376106, 0.0, 0.0, 0.0, 0.0, 0.0, 0.0, 0.0, 0.0, 0.0, 0.0, 0.0, 0.0, 0.0, 0.0, 0.0], [0.01918998546898365, 0.07461043447256088, 0.20258139073848724, 0.2050231397151947, 0.01079416461288929, 0.06828311085700989, 0.36274412274360657, 0.02356857992708683, 0.014096526429057121, 0.0191086083650589, 0.0, 0.0, 0.0, 0.0, 0.0, 0.0, 0.0, 0.0, 0.0, 0.0, 0.0, 0.0, 0.0, 0.0], [0.05836072564125061, 0.09602408856153488, 0.15418027341365814, 0.1450400948524475, 0.06139565631747246, 0.09279408305883408, 0.15380534529685974, 0.0667480006814003, 0.058012571185827255, 0.06271256506443024, 0.0509265661239624, 0.0, 0.0, 0.0, 0.0, 0.0, 0.0, 0.0, 0.0, 0.0, 0.0, 0.0, 0.0, 0.0], [0.06029944121837616, 0.0516171008348465, 0.05025969073176384, 0.22379155457019806, 0.030034774914383888, 0.10283445566892624, 0.21740733087062836, 0.07547511905431747, 0.04272327944636345, 0.07033251225948334, 0.03703584894537926, 0.038188934326171875, 0.0, 0.0, 0.0, 0.0, 0.0, 0.0, 0.0, 0.0, 0.0, 0.0, 0.0, 0.0], [0.030957641080021858, 0.026274453848600388, 0.03660016879439354, 0.18606702983379364, 0.03009907528758049, 0.06086743623018265, 0.11200256645679474, 0.049493856728076935, 0.028411712497472763, 0.04735464230179787, 0.018034949898719788, 0.14403080940246582, 0.22980563342571259, 0.0, 0.0, 0.0, 0.0, 0.0, 0.0, 0.0, 0.0, 0.0, 0.0, 0.0], [0.014214443042874336, 0.05530225858092308, 0.11433716118335724, 0.1020774319767952, 0.004936396609991789, 0.044706378132104874, 0.25719019770622253, 0.014471537433564663, 0.008680678904056549, 0.011534230783581734, 0.009738541208207607, 0.02890711836516857, 0.2917337417602539, 0.04216992110013962, 0.0, 0.0, 0.0, 0.0, 0.0, 0.0, 0.0, 0.0, 0.0, 0.0], [0.05471532791852951, 0.07454586029052734, 0.08764870464801788, 0.07871416211128235, 0.044964734464883804, 0.06845841556787491, 0.09677276015281677, 0.05424604192376137, 0.04998649284243584, 0.051789239048957825, 0.05169423669576645, 0.06554222851991653, 0.10342634469270706, 0.06743837147951126, 0.05005711689591408, 0.0, 0.0, 0.0, 0.0, 0.0, 0.0, 0.0, 0.0, 0.0], [0.007441463880240917, 0.024831853806972504, 0.06086573377251625, 0.11970125883817673, 0.00299584842287004, 0.03083336353302002, 0.2098499983549118, 0.009793441742658615, 0.004667208530008793, 0.007773422636091709, 0.004007422365248203, 0.04063357785344124, 0.4130648970603943, 0.052416831254959106, 0.0020362066570669413, 0.009087484329938889, 0.0, 0.0, 0.0, 0.0, 0.0, 0.0, 0.0, 0.0], [0.0059220874682068825, 0.017059125006198883, 0.045120302587747574, 0.0429241880774498, 0.005854698363691568, 0.016292108222842216, 0.05127427354454994, 0.00779360206797719, 0.005554438102990389, 0.006767739541828632, 0.004311739932745695, 0.10209411382675171, 0.3062422573566437, 0.04428601637482643, 0.003382180817425251, 0.009682725183665752, 0.32543835043907166, 0.0, 0.0, 0.0, 0.0, 0.0, 0.0, 0.0], [0.0626584067940712, 0.05717097222805023, 0.042480286210775375, 0.015489674173295498, 0.07675927877426147, 0.0348496288061142, 0.018278248608112335, 0.04696980491280556, 0.07194098830223083, 0.04997176676988602, 0.09296940267086029, 0.023543180897831917, 0.012218037620186806, 0.02017395570874214, 0.1585833579301834, 0.03947122022509575, 0.005495901685208082, 0.17097583413124084, 0.0, 0.0, 0.0, 0.0, 0.0, 0.0], [0.0506160743534565, 0.041731953620910645, 0.03457913175225258, 0.012760709971189499, 0.09362245351076126, 0.026974018663167953, 0.011296465992927551, 0.04200161620974541, 0.06879124045372009, 0.046138662844896317, 0.07687222212553024, 0.045509688556194305, 0.014836079441010952, 0.02387353777885437, 0.135891392827034, 0.04393266141414642, 0.006052187643945217, 0.14142699539661407, 0.08309292048215866, 0.0, 0.0, 0.0, 0.0, 0.0], [0.04931642487645149, 0.047708090394735336, 0.04425830766558647, 0.018190942704677582, 0.07895898818969727, 0.03193964809179306, 0.017520427703857422, 0.04238136485219002, 0.06235702708363533, 0.04506967216730118, 0.06856037676334381, 0.053234536200761795, 0.0242670476436615, 0.02982032485306263, 0.10969427973031998, 0.04350610077381134, 0.011248952709138393, 0.1135304868221283, 0.061969831585884094, 0.0464671328663826, 0.0, 0.0, 0.0, 0.0], [0.04429639130830765, 0.033250126987695694, 0.025646483525633812, 0.011171543039381504, 0.07633743435144424, 0.023251773789525032, 0.009705796837806702, 0.03696640953421593, 0.058357175439596176, 0.04072093963623047, 0.06529238820075989, 0.031163690611720085, 0.010435373522341251, 0.019283391535282135, 0.10851143300533295, 0.03799773380160332, 0.004849955905228853, 0.11274393647909164, 0.0911349281668663, 0.06408300250768661, 0.09480006992816925, 0.0, 0.0, 0.0], [0.03578794002532959, 0.032197076827287674, 0.02556891366839409, 0.007073548156768084, 0.0614774227142334, 0.017741171643137932, 0.0072750551626086235, 0.027111520990729332, 0.0476994663476944, 0.029674358665943146, 0.05876944959163666, 0.023161746561527252, 0.007919847033917904, 0.012740438804030418, 0.1169850304722786, 0.025644619017839432, 0.002680310280993581, 0.12511314451694489, 0.0900854542851448, 0.060285139828920364, 0.09818555414676666, 0.08682279288768768, 0.0, 0.0], [0.04303398355841637, 0.04502828046679497, 0.04549229145050049, 0.01853473111987114, 0.07095940411090851, 0.030075864866375923, 0.01776213012635708, 0.038032177835702896, 0.05482403561472893, 0.04008704423904419, 0.05852390453219414, 0.06198340281844139, 0.02978784777224064, 0.031300466507673264, 0.09230738133192062, 0.0403214655816555, 0.0137200728058815, 0.0948517695069313, 0.03921029344201088, 0.029730206355452538, 0.038797151297330856, 0.03658105060458183, 0.029055088758468628, 0.0], [0.034347712993621826, 0.02620394341647625, 0.020094139501452446, 0.008062250912189484, 0.05970239266753197, 0.017575444653630257, 0.007161339744925499, 0.02811528369784355, 0.045555129647254944, 0.031017066910862923, 0.05189527943730354, 0.02331264689564705, 0.0076393489725887775, 0.014130552299320698, 0.0895165279507637, 0.028512999415397644, 0.003340078517794609, 0.09351120889186859, 0.07521528005599976, 0.052110061049461365, 0.07896078377962112, 0.07264696061611176, 0.05795570835471153, 0.07341784983873367]], [[1.0, 0.0, 0.0, 0.0, 0.0, 0.0, 0.0, 0.0, 0.0, 0.0, 0.0, 0.0, 0.0, 0.0, 0.0, 0.0, 0.0, 0.0, 0.0, 0.0, 0.0, 0.0, 0.0, 0.0], [0.506334125995636, 0.49366581439971924, 0.0, 0.0, 0.0, 0.0, 0.0, 0.0, 0.0, 0.0, 0.0, 0.0, 0.0, 0.0, 0.0, 0.0, 0.0, 0.0, 0.0, 0.0, 0.0, 0.0, 0.0, 0.0], [0.38549405336380005, 0.367999404668808, 0.24650658667087555, 0.0, 0.0, 0.0, 0.0, 0.0, 0.0, 0.0, 0.0, 0.0, 0.0, 0.0, 0.0, 0.0, 0.0, 0.0, 0.0, 0.0, 0.0, 0.0, 0.0, 0.0], [0.24324776232242584, 0.3213783800601959, 0.41974344849586487, 0.01563037745654583, 0.0, 0.0, 0.0, 0.0, 0.0, 0.0, 0.0, 0.0, 0.0, 0.0, 0.0, 0.0, 0.0, 0.0, 0.0, 0.0, 0.0, 0.0, 0.0, 0.0], [0.3122245967388153, 0.30007752776145935, 0.17675389349460602, 0.10815905034542084, 0.1027849018573761, 0.0, 0.0, 0.0, 0.0, 0.0, 0.0, 0.0, 0.0, 0.0, 0.0, 0.0, 0.0, 0.0, 0.0, 0.0, 0.0, 0.0, 0.0, 0.0], [0.21620415151119232, 0.20862962305545807, 0.18881332874298096, 0.14349819719791412, 0.16462290287017822, 0.07823178917169571, 0.0, 0.0, 0.0, 0.0, 0.0, 0.0, 0.0, 0.0, 0.0, 0.0, 0.0, 0.0, 0.0, 0.0, 0.0, 0.0, 0.0, 0.0], [0.08266834169626236, 0.09130652993917465, 0.12477167695760727, 0.07290828973054886, 0.08421861380338669, 0.3799505829811096, 0.16417600214481354, 0.0, 0.0, 0.0, 0.0, 0.0, 0.0, 0.0, 0.0, 0.0, 0.0, 0.0, 0.0, 0.0, 0.0, 0.0, 0.0, 0.0], [0.11822164058685303, 0.09681320190429688, 0.07966931909322739, 0.23696964979171753, 0.23498135805130005, 0.028869561851024628, 0.14929279685020447, 0.055182427167892456, 0.0, 0.0, 0.0, 0.0, 0.0, 0.0, 0.0, 0.0, 0.0, 0.0, 0.0, 0.0, 0.0, 0.0, 0.0, 0.0], [0.08479166030883789, 0.0663658007979393, 0.04287378862500191, 0.32150253653526306, 0.21477416157722473, 0.014989998191595078, 0.1620413362979889, 0.04246009513735771, 0.05020061880350113, 0.0, 0.0, 0.0, 0.0, 0.0, 0.0, 0.0, 0.0, 0.0, 0.0, 0.0, 0.0, 0.0, 0.0, 0.0], [0.16241726279258728, 0.13630415499210358, 0.06928345561027527, 0.2947317659854889, 0.1732713282108307, 0.011867327615618706, 0.06810084730386734, 0.017057163640856743, 0.020525362342596054, 0.046441420912742615, 0.0, 0.0, 0.0, 0.0, 0.0, 0.0, 0.0, 0.0, 0.0, 0.0, 0.0, 0.0, 0.0, 0.0], [0.07536449283361435, 0.07252344489097595, 0.044297028332948685, 0.22327978909015656, 0.09568595141172409, 0.04813733324408531, 0.14170536398887634, 0.0868021547794342, 0.06252900511026382, 0.04710092768073082, 0.10257450491189957, 0.0, 0.0, 0.0, 0.0, 0.0, 0.0, 0.0, 0.0, 0.0, 0.0, 0.0, 0.0, 0.0], [0.20327097177505493, 0.22776302695274353, 0.19353730976581573, 0.029759859666228294, 0.04053983464837074, 0.040240414440631866, 0.008641863241791725, 0.008954474702477455, 0.012106779031455517, 0.05424843728542328, 0.043639350682497025, 0.13729767501354218, 0.0, 0.0, 0.0, 0.0, 0.0, 0.0, 0.0, 0.0, 0.0, 0.0, 0.0, 0.0], [0.12713882327079773, 0.17107713222503662, 0.16397130489349365, 0.02267417497932911, 0.021197032183408737, 0.19673585891723633, 0.01482345536351204, 0.04147627577185631, 0.03227787837386131, 0.057310182601213455, 0.018736207857728004, 0.09697748720645905, 0.03560420870780945, 0.0, 0.0, 0.0, 0.0, 0.0, 0.0, 0.0, 0.0, 0.0, 0.0, 0.0], [0.0324578732252121, 0.027446050196886063, 0.018965817987918854, 0.18528269231319427, 0.09468439221382141, 0.02048097364604473, 0.16607022285461426, 0.07107680290937424, 0.0598636232316494, 0.033988576382398605, 0.10527069121599197, 0.05230416730046272, 0.08216989785432816, 0.049938250333070755, 0.0, 0.0, 0.0, 0.0, 0.0, 0.0, 0.0, 0.0, 0.0, 0.0], [0.05239372327923775, 0.04246870055794716, 0.02588588558137417, 0.16535684466362, 0.1028689593076706, 0.00863596796989441, 0.07183995097875595, 0.020212408155202866, 0.02286922186613083, 0.029105251654982567, 0.12713201344013214, 0.07318980246782303, 0.1895204335451126, 0.026310283690690994, 0.042210496962070465, 0.0, 0.0, 0.0, 0.0, 0.0, 0.0, 0.0, 0.0, 0.0], [0.08644069731235504, 0.07470771670341492, 0.03810246288776398, 0.11908327043056488, 0.07299985736608505, 0.0059962524101138115, 0.025141097605228424, 0.0069038416258990765, 0.00840047374367714, 0.021889736875891685, 0.0942329466342926, 0.10631047189235687, 0.28030768036842346, 0.01427957508713007, 0.028928428888320923, 0.016275489702820778, 0.0, 0.0, 0.0, 0.0, 0.0, 0.0, 0.0, 0.0], [0.107972651720047, 0.1403619796037674, 0.1436614990234375, 0.01856745406985283, 0.020432941615581512, 0.14405275881290436, 0.012523313984274864, 0.03176547586917877, 0.027783989906311035, 0.05319025740027428, 0.018369732424616814, 0.07835344225168228, 0.034328531473875046, 0.04270948842167854, 0.03793634846806526, 0.07268369197845459, 0.01530644204467535, 0.0, 0.0, 0.0, 0.0, 0.0, 0.0, 0.0], [0.024998929351568222, 0.01981273479759693, 0.023630604147911072, 0.06698117405176163, 0.09446191042661667, 0.017456289380788803, 0.10068024694919586, 0.04884853586554527, 0.06854917854070663, 0.05150850862264633, 0.1033015325665474, 0.026855040341615677, 0.06330161541700363, 0.04800233989953995, 0.05953307822346687, 0.0411527045071125, 0.11065340042114258, 0.030272144824266434, 0.0, 0.0, 0.0, 0.0, 0.0, 0.0], [0.05480639263987541, 0.046503957360982895, 0.04308237507939339, 0.0637819841504097, 0.0813734233379364, 0.01355708297342062, 0.0401868112385273, 0.017977125942707062, 0.02657703310251236, 0.0440058633685112, 0.09424008429050446, 0.05309007689356804, 0.12869299948215485, 0.02925257757306099, 0.04733520373702049, 0.03643049672245979, 0.10711903870105743, 0.042506199330091476, 0.029481276869773865, 0.0, 0.0, 0.0, 0.0, 0.0], [0.04160003364086151, 0.0335787795484066, 0.030715806409716606, 0.07249254733324051, 0.08767164498567581, 0.010275582782924175, 0.05046002194285393, 0.018967919051647186, 0.028082484379410744, 0.03902669623494148, 0.10331391543149948, 0.043729376047849655, 0.12141299992799759, 0.028037013486027718, 0.04539376497268677, 0.030349884182214737, 0.12213185429573059, 0.04297439008951187, 0.029559576883912086, 0.020225657150149345, 0.0, 0.0, 0.0, 0.0], [0.051578253507614136, 0.042751532047986984, 0.036974187940359116, 0.06680293381214142, 0.08035270124673843, 0.009827394969761372, 0.036809008568525314, 0.014050720259547234, 0.021167272701859474, 0.03724425286054611, 0.09571745991706848, 0.05178571492433548, 0.14144785702228546, 0.024102922528982162, 0.04178265482187271, 0.029605915769934654, 0.11374403536319733, 0.0444076731801033, 0.02493717335164547, 0.017142077907919884, 0.017768310382962227, 0.0, 0.0, 0.0], [0.04785315692424774, 0.03971859812736511, 0.0341484472155571, 0.06893650442361832, 0.07882606983184814, 0.010207333602011204, 0.04016944020986557, 0.015615036711096764, 0.02260017953813076, 0.03625982999801636, 0.09322343021631241, 0.04954741150140762, 0.12956325709819794, 0.02495376393198967, 0.041466981172561646, 0.02876695618033409, 0.1111380085349083, 0.04647123068571091, 0.026213031262159348, 0.017999740317463875, 0.018683839589357376, 0.01763773150742054, 0.0, 0.0], [0.06733547896146774, 0.05905800685286522, 0.04968411475419998, 0.054593417793512344, 0.06705767661333084, 0.011329996399581432, 0.024454886093735695, 0.010875632055103779, 0.01631808467209339, 0.03705962374806404, 0.07914002984762192, 0.06224420294165611, 0.1489662081003189, 0.021573947742581367, 0.0384678915143013, 0.03135471045970917, 0.09159509092569351, 0.042994022369384766, 0.021400384604930878, 0.015733499079942703, 0.016278482973575592, 0.01397769246250391, 0.01850697211921215, 0.0], [0.042879413813352585, 0.03514021262526512, 0.029106784611940384, 0.07250114530324936, 0.07718632370233536, 0.008885446935892105, 0.04180861636996269, 0.0151686891913414, 0.02144014835357666, 0.03247809782624245, 0.09203583002090454, 0.04650827497243881, 0.1250692754983902, 0.023314470425248146, 0.038647059351205826, 0.02515259012579918, 0.1125561073422432, 0.04902288317680359, 0.025165535509586334, 0.016574876382946968, 0.0173342265188694, 0.016620896756649017, 0.021469328552484512, 0.013933788985013962]]]}\n",
       "    )\n",
       "    </script>"
      ],
      "text/plain": [
       "<circuitsvis.utils.render.RenderedHTML at 0x42e67e990>"
      ]
     },
     "metadata": {},
     "output_type": "display_data"
    },
    {
     "name": "stdout",
     "output_type": "stream",
     "text": [
      "10\n",
      "Using tensor([ 0,  2,  5, 11,  6, 28,  6, 11,  5,  2, 28,  2,  5, 11,  6,  1,  1,  1,\n",
      "         1,  1,  1,  1,  1,  1], device='mps:0') from tensor([ 0,  2,  5, 11,  6, 28,  6, 11,  5,  2, 28,  2,  5, 11,  6,  1,  1,  1,\n",
      "         1,  1,  1,  1,  1,  1]) (from test set)\n",
      "Layer:  0\n"
     ]
    },
    {
     "data": {
      "text/html": [
       "<div id=\"circuits-vis-da6f8e15-310e\" style=\"margin: 15px 0;\"/>\n",
       "    <script crossorigin type=\"module\">\n",
       "    import { render, AttentionPatterns } from \"https://unpkg.com/circuitsvis@1.43.2/dist/cdn/esm.js\";\n",
       "    render(\n",
       "      \"circuits-vis-da6f8e15-310e\",\n",
       "      AttentionPatterns,\n",
       "      {\"tokens\": [\"<\", \"a\", \"d\", \"j\", \"e\", \"|\", \"e\", \"j\", \"d\", \"a\", \"|\", \"a\", \"d\", \"j\", \"e\", \">\", \">\", \">\", \">\", \">\", \">\", \">\", \">\", \">\"], \"attention\": [[[1.0, 0.0, 0.0, 0.0, 0.0, 0.0, 0.0, 0.0, 0.0, 0.0, 0.0, 0.0, 0.0, 0.0, 0.0, 0.0, 0.0, 0.0, 0.0, 0.0, 0.0, 0.0, 0.0, 0.0], [0.6491082906723022, 0.35089176893234253, 0.0, 0.0, 0.0, 0.0, 0.0, 0.0, 0.0, 0.0, 0.0, 0.0, 0.0, 0.0, 0.0, 0.0, 0.0, 0.0, 0.0, 0.0, 0.0, 0.0, 0.0, 0.0], [0.5540308952331543, 0.22442664206027985, 0.22154249250888824, 0.0, 0.0, 0.0, 0.0, 0.0, 0.0, 0.0, 0.0, 0.0, 0.0, 0.0, 0.0, 0.0, 0.0, 0.0, 0.0, 0.0, 0.0, 0.0, 0.0, 0.0], [0.07428033649921417, 0.1651940643787384, 0.39239582419395447, 0.36812978982925415, 0.0, 0.0, 0.0, 0.0, 0.0, 0.0, 0.0, 0.0, 0.0, 0.0, 0.0, 0.0, 0.0, 0.0, 0.0, 0.0, 0.0, 0.0, 0.0, 0.0], [0.11796369403600693, 0.16223810613155365, 0.24492952227592468, 0.2229582518339157, 0.25191041827201843, 0.0, 0.0, 0.0, 0.0, 0.0, 0.0, 0.0, 0.0, 0.0, 0.0, 0.0, 0.0, 0.0, 0.0, 0.0, 0.0, 0.0, 0.0, 0.0], [0.18610961735248566, 0.3888826072216034, 0.06811119616031647, 0.0813622698187828, 0.08226475864648819, 0.1932694911956787, 0.0, 0.0, 0.0, 0.0, 0.0, 0.0, 0.0, 0.0, 0.0, 0.0, 0.0, 0.0, 0.0, 0.0, 0.0, 0.0, 0.0, 0.0], [0.3004845380783081, 0.05566061660647392, 0.1344877928495407, 0.08427215367555618, 0.15776629745960236, 0.04980548471212387, 0.2175230085849762, 0.0, 0.0, 0.0, 0.0, 0.0, 0.0, 0.0, 0.0, 0.0, 0.0, 0.0, 0.0, 0.0, 0.0, 0.0, 0.0, 0.0], [0.3970138430595398, 0.08241032063961029, 0.07202322036027908, 0.06834030151367188, 0.07069007307291031, 0.03598656505346298, 0.09978490322828293, 0.17375075817108154, 0.0, 0.0, 0.0, 0.0, 0.0, 0.0, 0.0, 0.0, 0.0, 0.0, 0.0, 0.0, 0.0, 0.0, 0.0, 0.0], [0.1716904640197754, 0.08863674849271774, 0.06402699649333954, 0.049254607409238815, 0.08203931152820587, 0.06054113060235977, 0.09736617654561996, 0.2948911786079407, 0.09155337512493134, 0.0, 0.0, 0.0, 0.0, 0.0, 0.0, 0.0, 0.0, 0.0, 0.0, 0.0, 0.0, 0.0, 0.0, 0.0], [0.18250761926174164, 0.11597660183906555, 0.10496337711811066, 0.12782615423202515, 0.08771372586488724, 0.07953578233718872, 0.09644722193479538, 0.07227131724357605, 0.05950853228569031, 0.07324965298175812, 0.0, 0.0, 0.0, 0.0, 0.0, 0.0, 0.0, 0.0, 0.0, 0.0, 0.0, 0.0, 0.0, 0.0], [0.017420252785086632, 0.19087004661560059, 0.015012368559837341, 0.016311300918459892, 0.024820176884531975, 0.14412006735801697, 0.0174545980989933, 0.14788618683815002, 0.027722084894776344, 0.09255261719226837, 0.30583029985427856, 0.0, 0.0, 0.0, 0.0, 0.0, 0.0, 0.0, 0.0, 0.0, 0.0, 0.0, 0.0, 0.0], [0.11464130878448486, 0.14103586971759796, 0.029304469004273415, 0.02761191688477993, 0.041011564433574677, 0.06666163355112076, 0.04342491552233696, 0.2670324146747589, 0.03622698411345482, 0.07540853321552277, 0.07882842421531677, 0.07881191372871399, 0.0, 0.0, 0.0, 0.0, 0.0, 0.0, 0.0, 0.0, 0.0, 0.0, 0.0, 0.0], [0.03624548390507698, 0.0945015624165535, 0.027322638779878616, 0.02152598462998867, 0.044000305235385895, 0.08514101058244705, 0.03917204588651657, 0.22701147198677063, 0.06283695995807648, 0.09446283429861069, 0.07802284508943558, 0.07496403902769089, 0.11479286849498749, 0.0, 0.0, 0.0, 0.0, 0.0, 0.0, 0.0, 0.0, 0.0, 0.0, 0.0], [0.1551772505044937, 0.05650528147816658, 0.05440162867307663, 0.04189585521817207, 0.06497327238321304, 0.03812197595834732, 0.08155917376279831, 0.19183707237243652, 0.06920864433050156, 0.062046118080616, 0.0231283251196146, 0.02198639139533043, 0.02813563495874405, 0.11102341115474701, 0.0, 0.0, 0.0, 0.0, 0.0, 0.0, 0.0, 0.0, 0.0, 0.0], [0.006802564952522516, 0.06070517376065254, 0.022399622946977615, 0.03002403862774372, 0.02331884205341339, 0.08888282626867294, 0.015414574183523655, 0.015152968466281891, 0.02422458864748478, 0.04362444207072258, 0.2023879736661911, 0.21556518971920013, 0.2128303200006485, 0.0079840999096632, 0.030682720243930817, 0.0, 0.0, 0.0, 0.0, 0.0, 0.0, 0.0, 0.0, 0.0], [0.08883252739906311, 0.03301934897899628, 0.1097351685166359, 0.12450974434614182, 0.07551945745944977, 0.03728087246417999, 0.08598729968070984, 0.02045506425201893, 0.06016426160931587, 0.03786551579833031, 0.034274060279130936, 0.03488898649811745, 0.0239803995937109, 0.11440744251012802, 0.0493268147110939, 0.06975302845239639, 0.0, 0.0, 0.0, 0.0, 0.0, 0.0, 0.0, 0.0], [0.057339757680892944, 0.063553586602211, 0.0648055225610733, 0.0805153176188469, 0.05377427488565445, 0.06078406050801277, 0.05210103839635849, 0.029578112065792084, 0.041961923241615295, 0.04797382280230522, 0.08580224215984344, 0.08960506319999695, 0.08256947249174118, 0.04984382167458534, 0.0780797153711319, 0.031178757548332214, 0.030533457174897194, 0.0, 0.0, 0.0, 0.0, 0.0, 0.0, 0.0], [0.04169943556189537, 0.03790895640850067, 0.10928411781787872, 0.1513175666332245, 0.06813875585794449, 0.05582067370414734, 0.06422576308250427, 0.009378137066960335, 0.05198785662651062, 0.03849068284034729, 0.07804803550243378, 0.08266700804233551, 0.04956431686878204, 0.06509026885032654, 0.04360649734735489, 0.018831223249435425, 0.01707758940756321, 0.016863102093338966, 0.0, 0.0, 0.0, 0.0, 0.0, 0.0], [0.05360857769846916, 0.05823206156492233, 0.06401791423559189, 0.08031678199768066, 0.05192960053682327, 0.05724220350384712, 0.05027195066213608, 0.025775108486413956, 0.04029564559459686, 0.04471437633037567, 0.08094141632318497, 0.08464872092008591, 0.07564569264650345, 0.04836975783109665, 0.07163605093955994, 0.028599807992577553, 0.02785894088447094, 0.030261550098657608, 0.02563377283513546, 0.0, 0.0, 0.0, 0.0, 0.0], [0.0622597262263298, 0.03543506935238838, 0.09371868520975113, 0.11807996779680252, 0.062731072306633, 0.04129154607653618, 0.06591570377349854, 0.014448897913098335, 0.047097545117139816, 0.03493668511509895, 0.0482407808303833, 0.050206005573272705, 0.03448238968849182, 0.07688923180103302, 0.049792103469371796, 0.03581058979034424, 0.03381584957242012, 0.030498044565320015, 0.026712719351053238, 0.03763740509748459, 0.0, 0.0, 0.0, 0.0], [0.047743286937475204, 0.04282382130622864, 0.08243810385465622, 0.10339085757732391, 0.06004762649536133, 0.05242933705449104, 0.0584486722946167, 0.016874536871910095, 0.04854292422533035, 0.041110217571258545, 0.06675592809915543, 0.06952973455190659, 0.050737880170345306, 0.05968250706791878, 0.04974497854709625, 0.02714570052921772, 0.025589410215616226, 0.025440717115998268, 0.021513115614652634, 0.028258156031370163, 0.021752487868070602, 0.0, 0.0, 0.0], [0.054759878665208817, 0.03794573247432709, 0.08478228747844696, 0.10799729824066162, 0.058520328253507614, 0.044107601046562195, 0.059575702995061874, 0.014749690890312195, 0.04439280927181244, 0.03573688492178917, 0.05483339726924896, 0.05724915862083435, 0.040754012763500214, 0.06553105264902115, 0.05041508004069328, 0.030095847323536873, 0.028445804491639137, 0.026976320892572403, 0.023100124672055244, 0.031539034098386765, 0.02364431880414486, 0.02484763413667679, 0.0, 0.0], [0.05954299122095108, 0.04331305995583534, 0.062128111720085144, 0.07633054256439209, 0.04792293161153793, 0.0409422405064106, 0.04972245544195175, 0.021573808044195175, 0.03589267656207085, 0.03508029133081436, 0.05172932893037796, 0.0537959448993206, 0.04614243656396866, 0.05388275906443596, 0.061312902718782425, 0.034386198967695236, 0.03363477811217308, 0.03327987343072891, 0.02958850748836994, 0.035617757588624954, 0.031623344868421555, 0.031470686197280884, 0.031086405739188194, 0.0], [0.043228358030319214, 0.03021586872637272, 0.08788705617189407, 0.10328187048435211, 0.06219106912612915, 0.04254624620079994, 0.06235257536172867, 0.014068078249692917, 0.054723482578992844, 0.03652637451887131, 0.04485722631216049, 0.04598565399646759, 0.029916150495409966, 0.06893164664506912, 0.03315561264753342, 0.030844219028949738, 0.028678646311163902, 0.025700654834508896, 0.022953253239393234, 0.032105568796396255, 0.021870585158467293, 0.02444084919989109, 0.027444934472441673, 0.026093995198607445]], [[1.0, 0.0, 0.0, 0.0, 0.0, 0.0, 0.0, 0.0, 0.0, 0.0, 0.0, 0.0, 0.0, 0.0, 0.0, 0.0, 0.0, 0.0, 0.0, 0.0, 0.0, 0.0, 0.0, 0.0], [0.5338062047958374, 0.4661937952041626, 0.0, 0.0, 0.0, 0.0, 0.0, 0.0, 0.0, 0.0, 0.0, 0.0, 0.0, 0.0, 0.0, 0.0, 0.0, 0.0, 0.0, 0.0, 0.0, 0.0, 0.0, 0.0], [0.5775004029273987, 0.1300639510154724, 0.2924357056617737, 0.0, 0.0, 0.0, 0.0, 0.0, 0.0, 0.0, 0.0, 0.0, 0.0, 0.0, 0.0, 0.0, 0.0, 0.0, 0.0, 0.0, 0.0, 0.0, 0.0, 0.0], [0.47660031914711, 0.20275430381298065, 0.1909007430076599, 0.12974460422992706, 0.0, 0.0, 0.0, 0.0, 0.0, 0.0, 0.0, 0.0, 0.0, 0.0, 0.0, 0.0, 0.0, 0.0, 0.0, 0.0, 0.0, 0.0, 0.0, 0.0], [0.24150024354457855, 0.1408790498971939, 0.17219121754169464, 0.25222212076187134, 0.19320730865001678, 0.0, 0.0, 0.0, 0.0, 0.0, 0.0, 0.0, 0.0, 0.0, 0.0, 0.0, 0.0, 0.0, 0.0, 0.0, 0.0, 0.0, 0.0, 0.0], [0.15827853977680206, 0.16046077013015747, 0.24782849848270416, 0.10859929770231247, 0.08029905706644058, 0.24453388154506683, 0.0, 0.0, 0.0, 0.0, 0.0, 0.0, 0.0, 0.0, 0.0, 0.0, 0.0, 0.0, 0.0, 0.0, 0.0, 0.0, 0.0, 0.0], [0.1231008991599083, 0.0450064018368721, 0.09959366917610168, 0.36880311369895935, 0.1453818380832672, 0.14111602306365967, 0.07699804753065109, 0.0, 0.0, 0.0, 0.0, 0.0, 0.0, 0.0, 0.0, 0.0, 0.0, 0.0, 0.0, 0.0, 0.0, 0.0, 0.0, 0.0], [0.017676260322332382, 0.04601241648197174, 0.14781950414180756, 0.25058430433273315, 0.09191615879535675, 0.23469558358192444, 0.12594309449195862, 0.08535262942314148, 0.0, 0.0, 0.0, 0.0, 0.0, 0.0, 0.0, 0.0, 0.0, 0.0, 0.0, 0.0, 0.0, 0.0, 0.0, 0.0], [0.09946528822183609, 0.05231969431042671, 0.11134777963161469, 0.25476643443107605, 0.11286529153585434, 0.14843371510505676, 0.07963533699512482, 0.044388432055711746, 0.0967780202627182, 0.0, 0.0, 0.0, 0.0, 0.0, 0.0, 0.0, 0.0, 0.0, 0.0, 0.0, 0.0, 0.0, 0.0, 0.0], [0.051535725593566895, 0.08729303628206253, 0.15989962220191956, 0.11144755035638809, 0.07083377987146378, 0.1842184066772461, 0.10834556072950363, 0.05652580410242081, 0.12226523458957672, 0.04763529449701309, 0.0, 0.0, 0.0, 0.0, 0.0, 0.0, 0.0, 0.0, 0.0, 0.0, 0.0, 0.0, 0.0, 0.0], [0.10665098577737808, 0.1232960969209671, 0.17246168851852417, 0.03591866046190262, 0.03164680302143097, 0.14870204031467438, 0.06626921892166138, 0.015615679323673248, 0.054094523191452026, 0.02195120044052601, 0.22339311242103577, 0.0, 0.0, 0.0, 0.0, 0.0, 0.0, 0.0, 0.0, 0.0, 0.0, 0.0, 0.0, 0.0], [0.03552323579788208, 0.05468936264514923, 0.1365123987197876, 0.0634760782122612, 0.031638819724321365, 0.15916623175144196, 0.059178996831178665, 0.015429590828716755, 0.064742311835289, 0.01611114665865898, 0.2980930805206299, 0.06543873250484467, 0.0, 0.0, 0.0, 0.0, 0.0, 0.0, 0.0, 0.0, 0.0, 0.0, 0.0, 0.0], [0.05326339229941368, 0.07275217771530151, 0.08291058242321014, 0.07702077925205231, 0.0710928738117218, 0.08673936873674393, 0.08230158686637878, 0.0799359381198883, 0.08700069785118103, 0.06727191060781479, 0.09299255907535553, 0.07762882858514786, 0.06908930093050003, 0.0, 0.0, 0.0, 0.0, 0.0, 0.0, 0.0, 0.0, 0.0, 0.0, 0.0], [0.11842890828847885, 0.04026962071657181, 0.0847490131855011, 0.13431735336780548, 0.05991624295711517, 0.10308082401752472, 0.04311865568161011, 0.014645269140601158, 0.04592619463801384, 0.030715618282556534, 0.16150310635566711, 0.04112367704510689, 0.037428177893161774, 0.08477731049060822, 0.0, 0.0, 0.0, 0.0, 0.0, 0.0, 0.0, 0.0, 0.0, 0.0], [0.237430140376091, 0.10062777996063232, 0.04118664935231209, 0.017285335808992386, 0.038582075387239456, 0.026629136875271797, 0.035190779715776443, 0.031468212604522705, 0.022559400647878647, 0.06032247096300125, 0.018477652221918106, 0.06995347887277603, 0.14725901186466217, 0.046769872307777405, 0.10625793039798737, 0.0, 0.0, 0.0, 0.0, 0.0, 0.0, 0.0, 0.0, 0.0], [0.08352889865636826, 0.04624888300895691, 0.02884865552186966, 0.06974060833454132, 0.09191927313804626, 0.02805224061012268, 0.04933907836675644, 0.11543533951044083, 0.04879550263285637, 0.12866254150867462, 0.01941469870507717, 0.04148368164896965, 0.04835006967186928, 0.05261174961924553, 0.04354344680905342, 0.10402534157037735, 0.0, 0.0, 0.0, 0.0, 0.0, 0.0, 0.0, 0.0], [0.09486310929059982, 0.05859249830245972, 0.030193597078323364, 0.04576057195663452, 0.07568369060754776, 0.026114150881767273, 0.04842796176671982, 0.10561752319335938, 0.043172214180231094, 0.11880292743444443, 0.017064277082681656, 0.049657728523015976, 0.06657885015010834, 0.04906844720244408, 0.04293426498770714, 0.07629251480102539, 0.05117572471499443, 0.0, 0.0, 0.0, 0.0, 0.0, 0.0, 0.0], [0.07997488975524902, 0.05708048492670059, 0.027001960203051567, 0.038102611899375916, 0.06940878182649612, 0.022799957543611526, 0.046737879514694214, 0.11514130979776382, 0.04134845733642578, 0.11782610416412354, 0.01416688971221447, 0.04833546280860901, 0.06540723890066147, 0.043465081602334976, 0.032960306853055954, 0.06602739542722702, 0.04157191514968872, 0.07264324277639389, 0.0, 0.0, 0.0, 0.0, 0.0, 0.0], [0.06731405854225159, 0.05136238411068916, 0.024811331182718277, 0.03818733990192413, 0.06810066103935242, 0.02145933359861374, 0.04535302892327309, 0.12065934389829636, 0.04131444916129112, 0.1159062311053276, 0.013289411552250385, 0.04439227655529976, 0.057519085705280304, 0.040634773671627045, 0.027858836576342583, 0.06473273783922195, 0.04087216034531593, 0.07117439806461334, 0.045058123767375946, 0.0, 0.0, 0.0, 0.0, 0.0], [0.07220239192247391, 0.047350991517305374, 0.024717943742871284, 0.038697388023138046, 0.0634126365184784, 0.021653451025485992, 0.04085804149508476, 0.09294760972261429, 0.0370454341173172, 0.09979429841041565, 0.014144993387162685, 0.04068498685956001, 0.05307629704475403, 0.040183424949645996, 0.032844770699739456, 0.06348422169685364, 0.04263455048203468, 0.07092584669589996, 0.04620673134922981, 0.05713401362299919, 0.0, 0.0, 0.0, 0.0], [0.057719193398952484, 0.044615987688302994, 0.02174551784992218, 0.0349876694381237, 0.06169842928647995, 0.019002612680196762, 0.040596771985292435, 0.11126378178596497, 0.03741190955042839, 0.1049494668841362, 0.011750403791666031, 0.038833264261484146, 0.049520350992679596, 0.0360439270734787, 0.023923201486468315, 0.05887473747134209, 0.03725488856434822, 0.0648728758096695, 0.04104679822921753, 0.05181894451379776, 0.052069276571273804, 0.0, 0.0, 0.0], [0.0608275830745697, 0.035435210913419724, 0.021792124956846237, 0.04068230837583542, 0.05599718168377876, 0.020337553694844246, 0.033698905259370804, 0.06812655180692673, 0.031950611621141434, 0.07797445356845856, 0.014413390308618546, 0.03130344673991203, 0.038174331188201904, 0.03596465662121773, 0.032546188682317734, 0.0607541985809803, 0.045327939093112946, 0.0694747194647789, 0.047791704535484314, 0.058690983802080154, 0.05749322846531868, 0.06124272570014, 0.0, 0.0], [0.05021375045180321, 0.034675564616918564, 0.019169343635439873, 0.03595554828643799, 0.05524076893925667, 0.01760982908308506, 0.03403059393167496, 0.08530144393444061, 0.03246137872338295, 0.08538904041051865, 0.011579516343772411, 0.03077726997435093, 0.03733896091580391, 0.032450899481773376, 0.023535054177045822, 0.056451696902513504, 0.0387679748237133, 0.06358487904071808, 0.041788291186094284, 0.05262897163629532, 0.051768627017736435, 0.05640759691596031, 0.05287298187613487, 0.0], [0.056265827268362045, 0.032692380249500275, 0.016278477385640144, 0.031961314380168915, 0.05279524624347687, 0.01447125244885683, 0.02972428873181343, 0.07876519858837128, 0.02735866792500019, 0.08619354665279388, 0.008974662981927395, 0.027831008657813072, 0.03642253577709198, 0.029855670407414436, 0.023498520255088806, 0.05506293848156929, 0.035848699510097504, 0.06374379992485046, 0.038981594145298004, 0.050531525164842606, 0.04994506016373634, 0.05436612665653229, 0.05019502341747284, 0.04823660850524902]], [[1.0, 0.0, 0.0, 0.0, 0.0, 0.0, 0.0, 0.0, 0.0, 0.0, 0.0, 0.0, 0.0, 0.0, 0.0, 0.0, 0.0, 0.0, 0.0, 0.0, 0.0, 0.0, 0.0, 0.0], [0.6941601037979126, 0.305839866399765, 0.0, 0.0, 0.0, 0.0, 0.0, 0.0, 0.0, 0.0, 0.0, 0.0, 0.0, 0.0, 0.0, 0.0, 0.0, 0.0, 0.0, 0.0, 0.0, 0.0, 0.0, 0.0], [0.19244548678398132, 0.39053571224212646, 0.4170187711715698, 0.0, 0.0, 0.0, 0.0, 0.0, 0.0, 0.0, 0.0, 0.0, 0.0, 0.0, 0.0, 0.0, 0.0, 0.0, 0.0, 0.0, 0.0, 0.0, 0.0, 0.0], [0.1961219608783722, 0.19012311100959778, 0.14998272061347961, 0.4637722074985504, 0.0, 0.0, 0.0, 0.0, 0.0, 0.0, 0.0, 0.0, 0.0, 0.0, 0.0, 0.0, 0.0, 0.0, 0.0, 0.0, 0.0, 0.0, 0.0, 0.0], [0.3671647906303406, 0.20273500680923462, 0.11759952455759048, 0.16154050827026367, 0.15096011757850647, 0.0, 0.0, 0.0, 0.0, 0.0, 0.0, 0.0, 0.0, 0.0, 0.0, 0.0, 0.0, 0.0, 0.0, 0.0, 0.0, 0.0, 0.0, 0.0], [0.33369356393814087, 0.21005818247795105, 0.1771644800901413, 0.06272174417972565, 0.10782873630523682, 0.10853327065706253, 0.0, 0.0, 0.0, 0.0, 0.0, 0.0, 0.0, 0.0, 0.0, 0.0, 0.0, 0.0, 0.0, 0.0, 0.0, 0.0, 0.0, 0.0], [0.027040190994739532, 0.06616882979869843, 0.06454426795244217, 0.39247480034828186, 0.14322008192539215, 0.25951188802719116, 0.047040000557899475, 0.0, 0.0, 0.0, 0.0, 0.0, 0.0, 0.0, 0.0, 0.0, 0.0, 0.0, 0.0, 0.0, 0.0, 0.0, 0.0, 0.0], [0.1905701458454132, 0.12614654004573822, 0.06028444692492485, 0.22590109705924988, 0.1270434558391571, 0.14703355729579926, 0.038961660116910934, 0.08405918627977371, 0.0, 0.0, 0.0, 0.0, 0.0, 0.0, 0.0, 0.0, 0.0, 0.0, 0.0, 0.0, 0.0, 0.0, 0.0, 0.0], [0.042630698531866074, 0.06699886173009872, 0.04931173846125603, 0.32148444652557373, 0.12201516330242157, 0.18668216466903687, 0.032451022416353226, 0.05440085381269455, 0.12402506917715073, 0.0, 0.0, 0.0, 0.0, 0.0, 0.0, 0.0, 0.0, 0.0, 0.0, 0.0, 0.0, 0.0, 0.0, 0.0], [0.3779202997684479, 0.1221998855471611, 0.06618941575288773, 0.030017053708434105, 0.05131206288933754, 0.03929612785577774, 0.06563343852758408, 0.09620244801044464, 0.03238055109977722, 0.11884869635105133, 0.0, 0.0, 0.0, 0.0, 0.0, 0.0, 0.0, 0.0, 0.0, 0.0, 0.0, 0.0, 0.0, 0.0], [0.2613591253757477, 0.1143518015742302, 0.08116660267114639, 0.04841100051999092, 0.07079486548900604, 0.04852301999926567, 0.0797620415687561, 0.09389329701662064, 0.0471712127327919, 0.11055204272270203, 0.044014979153871536, 0.0, 0.0, 0.0, 0.0, 0.0, 0.0, 0.0, 0.0, 0.0, 0.0, 0.0, 0.0, 0.0], [0.1746458113193512, 0.09688843041658401, 0.09206150472164154, 0.03506678342819214, 0.061222441494464874, 0.04256574809551239, 0.10678308457136154, 0.09472109377384186, 0.04932020977139473, 0.07867366820573807, 0.02905336208641529, 0.13899783790111542, 0.0, 0.0, 0.0, 0.0, 0.0, 0.0, 0.0, 0.0, 0.0, 0.0, 0.0, 0.0], [0.07937571406364441, 0.0737365186214447, 0.06836570799350739, 0.09419900923967361, 0.08255872130393982, 0.07561258226633072, 0.06203775480389595, 0.06701097637414932, 0.07344906032085419, 0.08076854050159454, 0.09430314600467682, 0.07194076478481293, 0.07664156705141068, 0.0, 0.0, 0.0, 0.0, 0.0, 0.0, 0.0, 0.0, 0.0, 0.0, 0.0], [0.06427603214979172, 0.06674499809741974, 0.0689333900809288, 0.08857370167970657, 0.07903683185577393, 0.07265520840883255, 0.06514760851860046, 0.06394835561513901, 0.07494692504405975, 0.07005009055137634, 0.0860748365521431, 0.06315299868583679, 0.06694930791854858, 0.06950972229242325, 0.0, 0.0, 0.0, 0.0, 0.0, 0.0, 0.0, 0.0, 0.0, 0.0], [0.05616321414709091, 0.06831339001655579, 0.08243890851736069, 0.05392545461654663, 0.06345245987176895, 0.07084564119577408, 0.09562882781028748, 0.08017631620168686, 0.07730131596326828, 0.059235893189907074, 0.052528150379657745, 0.06802443414926529, 0.06300331652164459, 0.060528915375471115, 0.04843377321958542, 0.0, 0.0, 0.0, 0.0, 0.0, 0.0, 0.0, 0.0, 0.0], [0.03727202117443085, 0.05849229171872139, 0.06509526073932648, 0.062397945672273636, 0.057767461985349655, 0.08935341984033585, 0.07114068418741226, 0.07042684406042099, 0.08204580843448639, 0.05654727667570114, 0.07235007733106613, 0.0503251887857914, 0.046956438571214676, 0.04365306720137596, 0.054891832172870636, 0.08128444850444794, 0.0, 0.0, 0.0, 0.0, 0.0, 0.0, 0.0, 0.0], [0.04207389056682587, 0.05693836882710457, 0.07448317110538483, 0.049083348363637924, 0.056710921227931976, 0.06415990740060806, 0.08805522322654724, 0.0692640021443367, 0.07272680848836899, 0.04847310110926628, 0.04711441695690155, 0.054437097162008286, 0.0506618395447731, 0.0488748736679554, 0.03954870253801346, 0.07403658330440521, 0.06335778534412384, 0.0, 0.0, 0.0, 0.0, 0.0, 0.0, 0.0], [0.057224340736866, 0.05960310995578766, 0.05063847452402115, 0.04092511534690857, 0.043471600860357285, 0.06308376789093018, 0.05344574898481369, 0.06434619426727295, 0.051738619804382324, 0.059276726096868515, 0.04905082285404205, 0.06127765029668808, 0.05505514517426491, 0.05005795881152153, 0.054340045899152756, 0.06388706713914871, 0.06098306551575661, 0.06159454584121704, 0.0, 0.0, 0.0, 0.0, 0.0, 0.0], [0.04107837378978729, 0.05187463015317917, 0.06030804291367531, 0.04344845935702324, 0.048324063420295715, 0.05804815515875816, 0.06856020539999008, 0.0606851689517498, 0.06027879938483238, 0.046427372843027115, 0.04425055906176567, 0.05027284100651741, 0.04666277766227722, 0.04447724297642708, 0.039690740406513214, 0.06379815936088562, 0.05672185495495796, 0.05764508619904518, 0.057447463274002075, 0.0, 0.0, 0.0, 0.0, 0.0], [0.036293741315603256, 0.048552148044109344, 0.05882139503955841, 0.039053648710250854, 0.044630229473114014, 0.055765483528375626, 0.06904657930135727, 0.059033334255218506, 0.058692239224910736, 0.04222872108221054, 0.03981698304414749, 0.04668749123811722, 0.04259152710437775, 0.04016999900341034, 0.034712135791778564, 0.0628335103392601, 0.054239559918642044, 0.05531102418899536, 0.055072955787181854, 0.056447237730026245, 0.0, 0.0, 0.0, 0.0], [0.03767819330096245, 0.04631272330880165, 0.04781004786491394, 0.04105144739151001, 0.04189133271574974, 0.0548974946141243, 0.051476556807756424, 0.0520048551261425, 0.05148464813828468, 0.044453419744968414, 0.04507634416222572, 0.044217586517333984, 0.041358232498168945, 0.03903042525053024, 0.041364073753356934, 0.05490352213382721, 0.05164441093802452, 0.05382745712995529, 0.053129032254219055, 0.05337383598089218, 0.05301443487405777, 0.0, 0.0, 0.0], [0.025454498827457428, 0.03680272027850151, 0.03351783752441406, 0.056195687502622604, 0.04048261046409607, 0.0633411556482315, 0.03106515482068062, 0.03842724487185478, 0.050475090742111206, 0.04246515408158302, 0.07103592902421951, 0.02993728220462799, 0.030239000916481018, 0.028922613710165024, 0.05349811166524887, 0.0451308935880661, 0.05008728429675102, 0.059719402343034744, 0.05454091355204582, 0.05114854872226715, 0.051635876297950745, 0.0558769516646862, 0.0, 0.0], [0.02444387786090374, 0.03698820620775223, 0.04688951000571251, 0.04666346311569214, 0.0436556339263916, 0.05216372758150101, 0.05074121803045273, 0.04307800158858299, 0.05580354109406471, 0.03485850244760513, 0.04722617194056511, 0.03185552358627319, 0.031456589698791504, 0.031000150367617607, 0.03419056907296181, 0.04938957095146179, 0.04658932611346245, 0.051143892109394073, 0.04830059036612511, 0.04744918271899223, 0.04834538325667381, 0.05182133987545967, 0.045945942401885986, 0.0], [0.02062433771789074, 0.03301549330353737, 0.035120051354169846, 0.04825153574347496, 0.037771619856357574, 0.05692029371857643, 0.03505542874336243, 0.037121597677469254, 0.05044148117303848, 0.03502072021365166, 0.0571172721683979, 0.02664106898009777, 0.026455285027623177, 0.025352928787469864, 0.03999888524413109, 0.04441049322485924, 0.0458509624004364, 0.054123591631650925, 0.049503665417432785, 0.047077082097530365, 0.04778162017464638, 0.05216733738780022, 0.04458170384168625, 0.04959550127387047]], [[1.0, 0.0, 0.0, 0.0, 0.0, 0.0, 0.0, 0.0, 0.0, 0.0, 0.0, 0.0, 0.0, 0.0, 0.0, 0.0, 0.0, 0.0, 0.0, 0.0, 0.0, 0.0, 0.0, 0.0], [0.2131311446428299, 0.7868688106536865, 0.0, 0.0, 0.0, 0.0, 0.0, 0.0, 0.0, 0.0, 0.0, 0.0, 0.0, 0.0, 0.0, 0.0, 0.0, 0.0, 0.0, 0.0, 0.0, 0.0, 0.0, 0.0], [0.40205448865890503, 0.32712429761886597, 0.270821213722229, 0.0, 0.0, 0.0, 0.0, 0.0, 0.0, 0.0, 0.0, 0.0, 0.0, 0.0, 0.0, 0.0, 0.0, 0.0, 0.0, 0.0, 0.0, 0.0, 0.0, 0.0], [0.36219051480293274, 0.17200115323066711, 0.08622570335865021, 0.37958264350891113, 0.0, 0.0, 0.0, 0.0, 0.0, 0.0, 0.0, 0.0, 0.0, 0.0, 0.0, 0.0, 0.0, 0.0, 0.0, 0.0, 0.0, 0.0, 0.0, 0.0], [0.27673688530921936, 0.214839905500412, 0.1316683441400528, 0.13056650757789612, 0.24618838727474213, 0.0, 0.0, 0.0, 0.0, 0.0, 0.0, 0.0, 0.0, 0.0, 0.0, 0.0, 0.0, 0.0, 0.0, 0.0, 0.0, 0.0, 0.0, 0.0], [0.16685156524181366, 0.23313726484775543, 0.3847792446613312, 0.06438176333904266, 0.07575784623622894, 0.07509230822324753, 0.0, 0.0, 0.0, 0.0, 0.0, 0.0, 0.0, 0.0, 0.0, 0.0, 0.0, 0.0, 0.0, 0.0, 0.0, 0.0, 0.0, 0.0], [0.207902193069458, 0.11435622721910477, 0.07977890968322754, 0.22035689651966095, 0.19182893633842468, 0.09314405918121338, 0.09263280034065247, 0.0, 0.0, 0.0, 0.0, 0.0, 0.0, 0.0, 0.0, 0.0, 0.0, 0.0, 0.0, 0.0, 0.0, 0.0, 0.0, 0.0], [0.05118769034743309, 0.1165182963013649, 0.2560379207134247, 0.018362415954470634, 0.024665992707014084, 0.04395970702171326, 0.35990363359451294, 0.12936429679393768, 0.0, 0.0, 0.0, 0.0, 0.0, 0.0, 0.0, 0.0, 0.0, 0.0, 0.0, 0.0, 0.0, 0.0, 0.0, 0.0], [0.12220735102891922, 0.08714626729488373, 0.07165170460939407, 0.046268705278635025, 0.06569864600896835, 0.03277716785669327, 0.12814922630786896, 0.34475988149642944, 0.10134101659059525, 0.0, 0.0, 0.0, 0.0, 0.0, 0.0, 0.0, 0.0, 0.0, 0.0, 0.0, 0.0, 0.0, 0.0, 0.0], [0.07816129177808762, 0.1194557249546051, 0.12718753516674042, 0.02176985703408718, 0.050435956567525864, 0.06566508859395981, 0.19951382279396057, 0.1956537812948227, 0.08070411533117294, 0.061452824622392654, 0.0, 0.0, 0.0, 0.0, 0.0, 0.0, 0.0, 0.0, 0.0, 0.0, 0.0, 0.0, 0.0, 0.0], [0.06761821359395981, 0.11105959117412567, 0.17253105342388153, 0.03566235676407814, 0.04459633678197861, 0.06393984705209732, 0.21209140121936798, 0.11748603731393814, 0.09238024801015854, 0.04538239911198616, 0.037252482026815414, 0.0, 0.0, 0.0, 0.0, 0.0, 0.0, 0.0, 0.0, 0.0, 0.0, 0.0, 0.0, 0.0], [0.08502795547246933, 0.09481838345527649, 0.09965785592794418, 0.04828375577926636, 0.06413150578737259, 0.06308987736701965, 0.12693637609481812, 0.1383628100156784, 0.08703416585922241, 0.06699293106794357, 0.04838182404637337, 0.07728260010480881, 0.0, 0.0, 0.0, 0.0, 0.0, 0.0, 0.0, 0.0, 0.0, 0.0, 0.0, 0.0], [0.06734014302492142, 0.0467182882130146, 0.030474020168185234, 0.1392938792705536, 0.11777093261480331, 0.10231167823076248, 0.022435104474425316, 0.03247057646512985, 0.05034170672297478, 0.12103351950645447, 0.14959782361984253, 0.056818436831235886, 0.06339386850595474, 0.0, 0.0, 0.0, 0.0, 0.0, 0.0, 0.0, 0.0, 0.0, 0.0, 0.0], [0.054012130945920944, 0.10101475566625595, 0.0997215062379837, 0.011037386022508144, 0.03742372989654541, 0.06344323605298996, 0.16249537467956543, 0.14518071711063385, 0.05324860289692879, 0.05213083699345589, 0.01656588353216648, 0.09931035339832306, 0.04582665115594864, 0.05858888849616051, 0.0, 0.0, 0.0, 0.0, 0.0, 0.0, 0.0, 0.0, 0.0, 0.0], [0.04766529053449631, 0.07294923812150955, 0.10942116379737854, 0.054031603038311005, 0.04739918187260628, 0.07694412022829056, 0.09442418068647385, 0.04134340584278107, 0.06484179943799973, 0.046220581978559494, 0.05881220102310181, 0.10788595676422119, 0.06738364696502686, 0.06083707511425018, 0.04984055459499359, 0.0, 0.0, 0.0, 0.0, 0.0, 0.0, 0.0, 0.0, 0.0], [0.0692075565457344, 0.06473705917596817, 0.07242774963378906, 0.04753705859184265, 0.04708060994744301, 0.03605595603585243, 0.09271778166294098, 0.11380010098218918, 0.07339935004711151, 0.04397948458790779, 0.03961285576224327, 0.04398203641176224, 0.06112020090222359, 0.08500085026025772, 0.04488600790500641, 0.0644553154706955, 0.0, 0.0, 0.0, 0.0, 0.0, 0.0, 0.0, 0.0], [0.05492408573627472, 0.06852103024721146, 0.09431981295347214, 0.01930190995335579, 0.02608572132885456, 0.023208098486065865, 0.1556115299463272, 0.15896157920360565, 0.06693620979785919, 0.025505218654870987, 0.01660112291574478, 0.04125853255391121, 0.04799824580550194, 0.08577508479356766, 0.0166791919618845, 0.057683054357767105, 0.040629565715789795, 0.0, 0.0, 0.0, 0.0, 0.0, 0.0, 0.0], [0.057159848511219025, 0.06143135577440262, 0.07929088920354843, 0.045851100236177444, 0.040936779230833054, 0.037711434066295624, 0.09171251207590103, 0.08121047914028168, 0.06775470077991486, 0.03755992650985718, 0.03941740095615387, 0.05025037005543709, 0.058656081557273865, 0.07520097494125366, 0.04238042235374451, 0.049954451620578766, 0.04485283046960831, 0.03866847604513168, 0.0, 0.0, 0.0, 0.0, 0.0, 0.0], [0.05041712895035744, 0.06642622500658035, 0.09590891003608704, 0.023400967940688133, 0.027867529541254044, 0.02846433036029339, 0.13630138337612152, 0.11143588274717331, 0.06427024304866791, 0.02693558670580387, 0.020961007103323936, 0.04900163784623146, 0.04984387382864952, 0.07698999345302582, 0.02039637602865696, 0.050053492188453674, 0.03687187656760216, 0.0276197399944067, 0.03683380037546158, 0.0, 0.0, 0.0, 0.0, 0.0], [0.05561511963605881, 0.054665546864271164, 0.06172366067767143, 0.03225567191839218, 0.035477109253406525, 0.027837717905640602, 0.08414267003536224, 0.10387624055147171, 0.05924100801348686, 0.033909913152456284, 0.02742251567542553, 0.0359245240688324, 0.04795027896761894, 0.07002775371074677, 0.030092600733041763, 0.0546102449297905, 0.04737934097647667, 0.04033983126282692, 0.05076685920357704, 0.04674134775996208, 0.0, 0.0, 0.0, 0.0], [0.047661226242780685, 0.05920974165201187, 0.08499719947576523, 0.03394751995801926, 0.03215653449296951, 0.033932995051145554, 0.1003633514046669, 0.07331600785255432, 0.06109475716948509, 0.029900329187512398, 0.03026886284351349, 0.051570042967796326, 0.052021417766809464, 0.06804244220256805, 0.030442943796515465, 0.04249686002731323, 0.03519706428050995, 0.02862195484340191, 0.03413817286491394, 0.03491363674402237, 0.03570692241191864, 0.0, 0.0, 0.0], [0.044709328562021255, 0.05875314772129059, 0.09517936408519745, 0.02187507040798664, 0.02250414714217186, 0.021898290142416954, 0.13621115684509277, 0.10312868654727936, 0.061680834740400314, 0.02049391344189644, 0.01801503449678421, 0.041101474314928055, 0.04600243642926216, 0.07594887167215347, 0.018568329513072968, 0.03978127986192703, 0.029199296608567238, 0.02102101780474186, 0.029044732451438904, 0.028871944174170494, 0.031320054084062576, 0.03469158336520195, 0.0, 0.0], [0.046172529458999634, 0.0493464358150959, 0.060898516327142715, 0.016215987503528595, 0.02164996601641178, 0.0160380806773901, 0.10477973520755768, 0.1389782875776291, 0.05169951543211937, 0.020929768681526184, 0.013198649510741234, 0.02575523406267166, 0.03637207671999931, 0.06798845529556274, 0.014331088401377201, 0.04836972802877426, 0.036011360585689545, 0.02690546028316021, 0.03977205976843834, 0.03574749454855919, 0.042929913848638535, 0.04414835572242737, 0.041761308908462524, 0.0], [0.04514094814658165, 0.04607339948415756, 0.05883936583995819, 0.03843079134821892, 0.03240209445357323, 0.028178459033370018, 0.06749433279037476, 0.06266701221466064, 0.053029753267765045, 0.02917606197297573, 0.03200184553861618, 0.03652386739850044, 0.04582616314291954, 0.05909401923418045, 0.03569461405277252, 0.03814975917339325, 0.03525681793689728, 0.030774326995015144, 0.035737045109272, 0.034348778426647186, 0.036797527223825455, 0.040182773023843765, 0.037696078419685364, 0.04048413410782814]]]}\n",
       "    )\n",
       "    </script>"
      ],
      "text/plain": [
       "<circuitsvis.utils.render.RenderedHTML at 0x4cbe9d970>"
      ]
     },
     "metadata": {},
     "output_type": "display_data"
    },
    {
     "name": "stdout",
     "output_type": "stream",
     "text": [
      "Layer:  1\n"
     ]
    },
    {
     "data": {
      "text/html": [
       "<div id=\"circuits-vis-7ff5abc9-485a\" style=\"margin: 15px 0;\"/>\n",
       "    <script crossorigin type=\"module\">\n",
       "    import { render, AttentionPatterns } from \"https://unpkg.com/circuitsvis@1.43.2/dist/cdn/esm.js\";\n",
       "    render(\n",
       "      \"circuits-vis-7ff5abc9-485a\",\n",
       "      AttentionPatterns,\n",
       "      {\"tokens\": [\"<\", \"a\", \"d\", \"j\", \"e\", \"|\", \"e\", \"j\", \"d\", \"a\", \"|\", \"a\", \"d\", \"j\", \"e\", \">\", \">\", \">\", \">\", \">\", \">\", \">\", \">\", \">\"], \"attention\": [[[1.0, 0.0, 0.0, 0.0, 0.0, 0.0, 0.0, 0.0, 0.0, 0.0, 0.0, 0.0, 0.0, 0.0, 0.0, 0.0, 0.0, 0.0, 0.0, 0.0, 0.0, 0.0, 0.0, 0.0], [0.5037322044372559, 0.49626776576042175, 0.0, 0.0, 0.0, 0.0, 0.0, 0.0, 0.0, 0.0, 0.0, 0.0, 0.0, 0.0, 0.0, 0.0, 0.0, 0.0, 0.0, 0.0, 0.0, 0.0, 0.0, 0.0], [0.2565666735172272, 0.36184489727020264, 0.38158848881721497, 0.0, 0.0, 0.0, 0.0, 0.0, 0.0, 0.0, 0.0, 0.0, 0.0, 0.0, 0.0, 0.0, 0.0, 0.0, 0.0, 0.0, 0.0, 0.0, 0.0, 0.0], [0.30782070755958557, 0.3578140437602997, 0.16560673713684082, 0.1687585711479187, 0.0, 0.0, 0.0, 0.0, 0.0, 0.0, 0.0, 0.0, 0.0, 0.0, 0.0, 0.0, 0.0, 0.0, 0.0, 0.0, 0.0, 0.0, 0.0, 0.0], [0.40363574028015137, 0.48932334780693054, 0.04613104090094566, 0.03881273791193962, 0.02209707908332348, 0.0, 0.0, 0.0, 0.0, 0.0, 0.0, 0.0, 0.0, 0.0, 0.0, 0.0, 0.0, 0.0, 0.0, 0.0, 0.0, 0.0, 0.0, 0.0], [0.08366232365369797, 0.0654502660036087, 0.21528930962085724, 0.1795208603143692, 0.3950851857662201, 0.060992032289505005, 0.0, 0.0, 0.0, 0.0, 0.0, 0.0, 0.0, 0.0, 0.0, 0.0, 0.0, 0.0, 0.0, 0.0, 0.0, 0.0, 0.0, 0.0], [0.11849875003099442, 0.15523286163806915, 0.0692036971449852, 0.10808529704809189, 0.027252886444330215, 0.4963701665401459, 0.025356410071253777, 0.0, 0.0, 0.0, 0.0, 0.0, 0.0, 0.0, 0.0, 0.0, 0.0, 0.0, 0.0, 0.0, 0.0, 0.0, 0.0, 0.0], [0.08394037187099457, 0.09612523764371872, 0.04587778076529503, 0.06959458440542221, 0.013416780158877373, 0.6584365367889404, 0.013052220456302166, 0.019556479528546333, 0.0, 0.0, 0.0, 0.0, 0.0, 0.0, 0.0, 0.0, 0.0, 0.0, 0.0, 0.0, 0.0, 0.0, 0.0, 0.0], [0.04666448011994362, 0.04790413752198219, 0.09428860992193222, 0.14036665856838226, 0.060331810265779495, 0.2505926191806793, 0.079802967607975, 0.1743726283311844, 0.10567616671323776, 0.0, 0.0, 0.0, 0.0, 0.0, 0.0, 0.0, 0.0, 0.0, 0.0, 0.0, 0.0, 0.0, 0.0, 0.0], [0.2254871428012848, 0.21731293201446533, 0.07381188124418259, 0.061355914920568466, 0.04685867950320244, 0.20195284485816956, 0.03564964234828949, 0.025279982015490532, 0.07674186676740646, 0.03554907813668251, 0.0, 0.0, 0.0, 0.0, 0.0, 0.0, 0.0, 0.0, 0.0, 0.0, 0.0, 0.0, 0.0, 0.0], [0.07970410585403442, 0.07324571162462234, 0.08360894024372101, 0.06150542199611664, 0.15856418013572693, 0.020958155393600464, 0.1484193205833435, 0.10241235792636871, 0.10398855805397034, 0.1445324867963791, 0.023060809820890427, 0.0, 0.0, 0.0, 0.0, 0.0, 0.0, 0.0, 0.0, 0.0, 0.0, 0.0, 0.0, 0.0], [0.13681578636169434, 0.16362202167510986, 0.01827031932771206, 0.015657104551792145, 0.009087301790714264, 0.08006317168474197, 0.005245321895927191, 0.0019563480746001005, 0.007101818919181824, 0.0054833898320794106, 0.5413021445274353, 0.01539524644613266, 0.0, 0.0, 0.0, 0.0, 0.0, 0.0, 0.0, 0.0, 0.0, 0.0, 0.0, 0.0], [0.11240854859352112, 0.13258711993694305, 0.052761223167181015, 0.060255035758018494, 0.031110698357224464, 0.1603628695011139, 0.025914324447512627, 0.019722342491149902, 0.02632569707930088, 0.02699383720755577, 0.25079330801963806, 0.05483938753604889, 0.045925650745630264, 0.0, 0.0, 0.0, 0.0, 0.0, 0.0, 0.0, 0.0, 0.0, 0.0, 0.0], [0.015135832130908966, 0.013383214361965656, 0.05616029351949692, 0.06867806613445282, 0.06685986369848251, 0.039844077080488205, 0.09976652264595032, 0.23744508624076843, 0.11301979422569275, 0.09717371314764023, 0.012404452078044415, 0.051749564707279205, 0.05385161191225052, 0.07452799379825592, 0.0, 0.0, 0.0, 0.0, 0.0, 0.0, 0.0, 0.0, 0.0, 0.0], [0.08975353091955185, 0.11330253630876541, 0.010067122988402843, 0.009735778905451298, 0.0036340034566819668, 0.08786691725254059, 0.002065554726868868, 0.0008290819241665304, 0.0032553630881011486, 0.0021931149531155825, 0.6499454379081726, 0.007898885756731033, 0.008157500997185707, 0.005421925336122513, 0.005873268470168114, 0.0, 0.0, 0.0, 0.0, 0.0, 0.0, 0.0, 0.0, 0.0], [0.0796462744474411, 0.0763193666934967, 0.052069421857595444, 0.0485149547457695, 0.04092411696910858, 0.08942688256502151, 0.03742000088095665, 0.03572634980082512, 0.06014605984091759, 0.037192925810813904, 0.17798466980457306, 0.037971995770931244, 0.04906715825200081, 0.06080411747097969, 0.045053865760564804, 0.07173188775777817, 0.0, 0.0, 0.0, 0.0, 0.0, 0.0, 0.0, 0.0], [0.07494530826807022, 0.06520885229110718, 0.04948543757200241, 0.03801813721656799, 0.051580630242824554, 0.04696105420589447, 0.04607975482940674, 0.039600033313035965, 0.07975432276725769, 0.04471105709671974, 0.12016022205352783, 0.033056795597076416, 0.05184772238135338, 0.08020999282598495, 0.042650770395994186, 0.06952714174985886, 0.06620281934738159, 0.0, 0.0, 0.0, 0.0, 0.0, 0.0, 0.0], [0.0764399915933609, 0.06280799955129623, 0.040231216698884964, 0.027904024347662926, 0.04021209850907326, 0.042537055909633636, 0.03399898484349251, 0.027694731950759888, 0.07906081527471542, 0.032606907188892365, 0.17311865091323853, 0.021801955997943878, 0.0421922504901886, 0.07957769930362701, 0.031973693519830704, 0.06825368106365204, 0.06432584673166275, 0.05526243895292282, 0.0, 0.0, 0.0, 0.0, 0.0, 0.0], [0.06128571927547455, 0.05242053419351578, 0.039779182523489, 0.031483836472034454, 0.036323100328445435, 0.05076118931174278, 0.03300241008400917, 0.031671103090047836, 0.07035839557647705, 0.0319669134914875, 0.1439860314130783, 0.023295188322663307, 0.039642225950956345, 0.0674465000629425, 0.033405229449272156, 0.06394682079553604, 0.061507709324359894, 0.056546807289123535, 0.0711711123585701, 0.0, 0.0, 0.0, 0.0, 0.0], [0.04955875501036644, 0.04060516133904457, 0.04230576008558273, 0.030914798378944397, 0.0529380664229393, 0.027353627607226372, 0.0503276027739048, 0.047541819512844086, 0.08769559860229492, 0.04811784625053406, 0.060897041112184525, 0.027642514556646347, 0.04651986435055733, 0.08222648501396179, 0.038616858422756195, 0.05804767832159996, 0.05202632024884224, 0.04445026069879532, 0.056282371282577515, 0.05593155696988106, 0.0, 0.0, 0.0, 0.0], [0.06355101615190506, 0.05418042838573456, 0.03312501683831215, 0.02454790472984314, 0.030181540176272392, 0.042478613555431366, 0.025641050189733505, 0.021402843296527863, 0.057068951427936554, 0.024812985211610794, 0.1576492190361023, 0.018730316311120987, 0.03357410058379173, 0.05790381133556366, 0.026375286281108856, 0.055213820189237595, 0.05353735387325287, 0.047834087163209915, 0.06171542406082153, 0.06168827414512634, 0.048788003623485565, 0.0, 0.0, 0.0], [0.05044140666723251, 0.04460999369621277, 0.03178555890917778, 0.027198977768421173, 0.025049136951565742, 0.0555393248796463, 0.022924629971385002, 0.023304473608732224, 0.050371356308460236, 0.022405847907066345, 0.1504070907831192, 0.018547525629401207, 0.03001989983022213, 0.048035088926553726, 0.026414209976792336, 0.0527300089597702, 0.05251024663448334, 0.050829898566007614, 0.06222429871559143, 0.058952998369932175, 0.049957919865846634, 0.04574010148644447, 0.0, 0.0], [0.03642045333981514, 0.03110351972281933, 0.036027129739522934, 0.030876977369189262, 0.03665609285235405, 0.0363052599132061, 0.03736105188727379, 0.04361587017774582, 0.0677163228392601, 0.03614265099167824, 0.06177114322781563, 0.02356928400695324, 0.03617304190993309, 0.05956054478883743, 0.033806465566158295, 0.05110274255275726, 0.04759598895907402, 0.04470134153962135, 0.0538131445646286, 0.05025060474872589, 0.046404965221881866, 0.04766206815838814, 0.05136333778500557, 0.0], [0.048543620854616165, 0.04171191155910492, 0.032319504767656326, 0.025232015177607536, 0.03153613582253456, 0.03559539094567299, 0.02857798896729946, 0.026355542242527008, 0.05561666563153267, 0.027682863175868988, 0.09525730460882187, 0.02003510668873787, 0.03297903388738632, 0.054173510521650314, 0.027562113478779793, 0.048905957490205765, 0.04668779671192169, 0.04229595884680748, 0.052615437656641006, 0.051805660128593445, 0.04358648508787155, 0.04124269261956215, 0.04920598864555359, 0.040475308895111084]], [[1.0, 0.0, 0.0, 0.0, 0.0, 0.0, 0.0, 0.0, 0.0, 0.0, 0.0, 0.0, 0.0, 0.0, 0.0, 0.0, 0.0, 0.0, 0.0, 0.0, 0.0, 0.0, 0.0, 0.0], [0.5562552213668823, 0.4437447786331177, 0.0, 0.0, 0.0, 0.0, 0.0, 0.0, 0.0, 0.0, 0.0, 0.0, 0.0, 0.0, 0.0, 0.0, 0.0, 0.0, 0.0, 0.0, 0.0, 0.0, 0.0, 0.0], [0.37993118166923523, 0.516965389251709, 0.10310341417789459, 0.0, 0.0, 0.0, 0.0, 0.0, 0.0, 0.0, 0.0, 0.0, 0.0, 0.0, 0.0, 0.0, 0.0, 0.0, 0.0, 0.0, 0.0, 0.0, 0.0, 0.0], [0.3053656816482544, 0.26466095447540283, 0.3237995207309723, 0.10617391020059586, 0.0, 0.0, 0.0, 0.0, 0.0, 0.0, 0.0, 0.0, 0.0, 0.0, 0.0, 0.0, 0.0, 0.0, 0.0, 0.0, 0.0, 0.0, 0.0, 0.0], [0.07693812251091003, 0.07479097694158554, 0.3081433176994324, 0.5068742632865906, 0.033253323286771774, 0.0, 0.0, 0.0, 0.0, 0.0, 0.0, 0.0, 0.0, 0.0, 0.0, 0.0, 0.0, 0.0, 0.0, 0.0, 0.0, 0.0, 0.0, 0.0], [0.11731303483247757, 0.11716616898775101, 0.030632153153419495, 0.034196630120277405, 0.6406539082527161, 0.06003816798329353, 0.0, 0.0, 0.0, 0.0, 0.0, 0.0, 0.0, 0.0, 0.0, 0.0, 0.0, 0.0, 0.0, 0.0, 0.0, 0.0, 0.0, 0.0], [0.0465354286134243, 0.08683788776397705, 0.025334710255265236, 0.6928344368934631, 0.024416005238890648, 0.12278656661510468, 0.0012549266684800386, 0.0, 0.0, 0.0, 0.0, 0.0, 0.0, 0.0, 0.0, 0.0, 0.0, 0.0, 0.0, 0.0, 0.0, 0.0, 0.0, 0.0], [0.09772227704524994, 0.083317331969738, 0.40766364336013794, 0.1716398149728775, 0.025574002414941788, 0.12341488897800446, 0.05478604882955551, 0.03588198870420456, 0.0, 0.0, 0.0, 0.0, 0.0, 0.0, 0.0, 0.0, 0.0, 0.0, 0.0, 0.0, 0.0, 0.0, 0.0, 0.0], [0.08100538700819016, 0.11903016269207001, 0.06858161836862564, 0.3477906584739685, 0.0268637053668499, 0.31671884655952454, 0.008893899619579315, 0.025760071352124214, 0.005355630535632372, 0.0, 0.0, 0.0, 0.0, 0.0, 0.0, 0.0, 0.0, 0.0, 0.0, 0.0, 0.0, 0.0, 0.0, 0.0], [0.060404811054468155, 0.03838302940130234, 0.47709551453590393, 0.1833871752023697, 0.07227356731891632, 0.004813964478671551, 0.047639939934015274, 0.02191982790827751, 0.06607659161090851, 0.02800564281642437, 0.0, 0.0, 0.0, 0.0, 0.0, 0.0, 0.0, 0.0, 0.0, 0.0, 0.0, 0.0, 0.0, 0.0], [0.023937631398439407, 0.016575543209910393, 0.04426220431923866, 0.001357131521217525, 0.00473786611109972, 0.18791510164737701, 0.39741063117980957, 0.0724034532904625, 0.1518639177083969, 0.051548071205616, 0.04798836633563042, 0.0, 0.0, 0.0, 0.0, 0.0, 0.0, 0.0, 0.0, 0.0, 0.0, 0.0, 0.0, 0.0], [0.052057504653930664, 0.032184768468141556, 0.5219843983650208, 0.07469654828310013, 0.01967768743634224, 0.017286887392401695, 0.06424164026975632, 0.020127564668655396, 0.04763318598270416, 0.01989254541695118, 0.07513175904750824, 0.05508553981781006, 0.0, 0.0, 0.0, 0.0, 0.0, 0.0, 0.0, 0.0, 0.0, 0.0, 0.0, 0.0], [0.030335023999214172, 0.056805066764354706, 0.023544080555438995, 0.7536633610725403, 0.01218455284833908, 0.07256465405225754, 0.000478875997941941, 0.0036769243888556957, 0.0003501208557281643, 0.002909721340984106, 0.03568462282419205, 0.007490473799407482, 0.00031255086651071906, 0.0, 0.0, 0.0, 0.0, 0.0, 0.0, 0.0, 0.0, 0.0, 0.0, 0.0], [0.04660537838935852, 0.04645866900682449, 0.025564085692167282, 0.0659264549612999, 0.27495595812797546, 0.007598078344017267, 0.05241319164633751, 0.07132167369127274, 0.12880472838878632, 0.10332277417182922, 0.024691075086593628, 0.019220085814595222, 0.07132328301668167, 0.061794575303792953, 0.0, 0.0, 0.0, 0.0, 0.0, 0.0, 0.0, 0.0, 0.0, 0.0], [0.06740039587020874, 0.06714524328708649, 0.14592725038528442, 0.2894884943962097, 0.060296230018138885, 0.027362661436200142, 0.01754913665354252, 0.023680441081523895, 0.019180381670594215, 0.02494024857878685, 0.06671606004238129, 0.029874835163354874, 0.017942287027835846, 0.027653241530060768, 0.11484306305646896, 0.0, 0.0, 0.0, 0.0, 0.0, 0.0, 0.0, 0.0, 0.0], [0.020473811775445938, 0.030501721426844597, 0.007359642535448074, 0.22506099939346313, 0.12073683738708496, 0.0035013912711292505, 0.0018714482430368662, 0.01014625933021307, 0.0049972510896623135, 0.014202105812728405, 0.009806071408092976, 0.0027667393442243338, 0.0021361729595810175, 0.004647844471037388, 0.33198341727256775, 0.2098083198070526, 0.0, 0.0, 0.0, 0.0, 0.0, 0.0, 0.0, 0.0], [0.013408662751317024, 0.016850870102643967, 0.006503709591925144, 0.1273469775915146, 0.13375036418437958, 0.0008666766807436943, 0.0020886289421468973, 0.007943138480186462, 0.007461677771061659, 0.012980281375348568, 0.005437074229121208, 0.0015547017101198435, 0.002858545631170273, 0.004829911515116692, 0.1775333285331726, 0.17065665125846863, 0.3079288601875305, 0.0, 0.0, 0.0, 0.0, 0.0, 0.0, 0.0], [0.016351832076907158, 0.01744563691318035, 0.01126065943390131, 0.09505965560674667, 0.15936559438705444, 0.000837926403619349, 0.0051488992758095264, 0.01199580729007721, 0.018181854858994484, 0.020130474120378494, 0.00688445009291172, 0.0024620897602289915, 0.007609856314957142, 0.009789950214326382, 0.11915893852710724, 0.15576046705245972, 0.2261386513710022, 0.11641734093427658, 0.0, 0.0, 0.0, 0.0, 0.0, 0.0], [0.013530180789530277, 0.016514353454113007, 0.009099310263991356, 0.12877118587493896, 0.0813831239938736, 0.001230061985552311, 0.0019516429165378213, 0.0064857760444283485, 0.005497343372553587, 0.009682843461632729, 0.006567991338670254, 0.0018906311597675085, 0.0024957393761724234, 0.004412547219544649, 0.13070976734161377, 0.10428372770547867, 0.1896592080593109, 0.09314615279436111, 0.19268840551376343, 0.0, 0.0, 0.0, 0.0, 0.0], [0.006081226281821728, 0.00700686639174819, 0.002506462624296546, 0.03948536515235901, 0.11589151620864868, 0.00021048045891802758, 0.001798679819330573, 0.005612601060420275, 0.008703663945198059, 0.010539934039115906, 0.002003202447667718, 0.0006745604914613068, 0.0028543274383991957, 0.0036863682325929403, 0.07712610810995102, 0.11991555243730545, 0.18124347925186157, 0.09649534523487091, 0.20709499716758728, 0.1110692173242569, 0.0, 0.0, 0.0, 0.0], [0.008403864689171314, 0.010407623834908009, 0.005360937677323818, 0.09935241937637329, 0.0644756406545639, 0.0005604808102361858, 0.0010310309007763863, 0.003841493045911193, 0.0033253896981477737, 0.006054361816495657, 0.0037133977748453617, 0.0009447003831155598, 0.0013697468675673008, 0.002524268114939332, 0.10340942442417145, 0.0834803357720375, 0.15984895825386047, 0.07288962602615356, 0.16343317925930023, 0.10981553047895432, 0.09575759619474411, 0.0, 0.0, 0.0], [0.008205397985875607, 0.010527343489229679, 0.0043423413299024105, 0.07726173102855682, 0.05630578473210335, 0.0007992594037204981, 0.001138654537498951, 0.00431131711229682, 0.0033672554418444633, 0.006492595188319683, 0.0037896360736340284, 0.0011089021572843194, 0.0014462507097050548, 0.0026083483826369047, 0.09464860707521439, 0.07668127864599228, 0.14224553108215332, 0.07403665035963058, 0.1484759896993637, 0.10321283340454102, 0.09307746589183807, 0.08591688424348831, 0.0, 0.0], [0.0048202225007116795, 0.006053107790648937, 0.0020508160814642906, 0.04374174028635025, 0.061958130449056625, 0.00025614257901906967, 0.0008328661206178367, 0.0032385974191129208, 0.003352358238771558, 0.005554331932216883, 0.0017908052541315556, 0.000520695757586509, 0.0011883728438988328, 0.0019134951289743185, 0.07079009711742401, 0.07692557573318481, 0.13550107181072235, 0.06950683891773224, 0.1489456444978714, 0.08936593681573868, 0.09239853173494339, 0.08504388481378555, 0.09425065666437149, 0.0], [0.0040580290369689465, 0.005649141035974026, 0.001529937842860818, 0.05166316404938698, 0.043602969497442245, 0.00029028631979599595, 0.00041827670065686107, 0.002171351108700037, 0.0015476660337299109, 0.003529241308569908, 0.0015745791606605053, 0.0003937099245376885, 0.0005509189213626087, 0.0010904627852141857, 0.07989568263292313, 0.06530068069696426, 0.13411839306354523, 0.06729685515165329, 0.14517487585544586, 0.09325966238975525, 0.08665457367897034, 0.07863052189350128, 0.0863303542137146, 0.045268602669239044]], [[1.0, 0.0, 0.0, 0.0, 0.0, 0.0, 0.0, 0.0, 0.0, 0.0, 0.0, 0.0, 0.0, 0.0, 0.0, 0.0, 0.0, 0.0, 0.0, 0.0, 0.0, 0.0, 0.0, 0.0], [0.6497098803520203, 0.35029008984565735, 0.0, 0.0, 0.0, 0.0, 0.0, 0.0, 0.0, 0.0, 0.0, 0.0, 0.0, 0.0, 0.0, 0.0, 0.0, 0.0, 0.0, 0.0, 0.0, 0.0, 0.0, 0.0], [0.16847960650920868, 0.3782616853713989, 0.4532587230205536, 0.0, 0.0, 0.0, 0.0, 0.0, 0.0, 0.0, 0.0, 0.0, 0.0, 0.0, 0.0, 0.0, 0.0, 0.0, 0.0, 0.0, 0.0, 0.0, 0.0, 0.0], [0.3839816153049469, 0.3441726863384247, 0.08723612129688263, 0.1846095770597458, 0.0, 0.0, 0.0, 0.0, 0.0, 0.0, 0.0, 0.0, 0.0, 0.0, 0.0, 0.0, 0.0, 0.0, 0.0, 0.0, 0.0, 0.0, 0.0, 0.0], [0.11143098026514053, 0.23069238662719727, 0.33274364471435547, 0.2162318378686905, 0.10890118032693863, 0.0, 0.0, 0.0, 0.0, 0.0, 0.0, 0.0, 0.0, 0.0, 0.0, 0.0, 0.0, 0.0, 0.0, 0.0, 0.0, 0.0, 0.0, 0.0], [0.3252670466899872, 0.12203216552734375, 0.03761216253042221, 0.11078225076198578, 0.28271907567977905, 0.12158729135990143, 0.0, 0.0, 0.0, 0.0, 0.0, 0.0, 0.0, 0.0, 0.0, 0.0, 0.0, 0.0, 0.0, 0.0, 0.0, 0.0, 0.0, 0.0], [0.06050524488091469, 0.14752759039402008, 0.19325245916843414, 0.13652145862579346, 0.05181324481964111, 0.36174440383911133, 0.04863559827208519, 0.0, 0.0, 0.0, 0.0, 0.0, 0.0, 0.0, 0.0, 0.0, 0.0, 0.0, 0.0, 0.0, 0.0, 0.0, 0.0, 0.0], [0.044915951788425446, 0.11374645680189133, 0.0477147214114666, 0.07557769864797592, 0.029534947127103806, 0.6476439237594604, 0.026323556900024414, 0.014542723074555397, 0.0, 0.0, 0.0, 0.0, 0.0, 0.0, 0.0, 0.0, 0.0, 0.0, 0.0, 0.0, 0.0, 0.0, 0.0, 0.0], [0.029404781758785248, 0.12188781797885895, 0.3013402223587036, 0.12010467797517776, 0.026666156947612762, 0.3179645538330078, 0.024457722902297974, 0.029879320412874222, 0.02829468436539173, 0.0, 0.0, 0.0, 0.0, 0.0, 0.0, 0.0, 0.0, 0.0, 0.0, 0.0, 0.0, 0.0, 0.0, 0.0], [0.03768986091017723, 0.07693656533956528, 0.39578911662101746, 0.13790622353553772, 0.03078898787498474, 0.21016870439052582, 0.03277335688471794, 0.020370904356241226, 0.03988305851817131, 0.0176931694149971, 0.0, 0.0, 0.0, 0.0, 0.0, 0.0, 0.0, 0.0, 0.0, 0.0, 0.0, 0.0, 0.0, 0.0], [0.053853344172239304, 0.04614317789673805, 0.29850825667381287, 0.09528438001871109, 0.06457938998937607, 0.02509547770023346, 0.07346490770578384, 0.08476336300373077, 0.07239312678575516, 0.07070791721343994, 0.11520666629076004, 0.0, 0.0, 0.0, 0.0, 0.0, 0.0, 0.0, 0.0, 0.0, 0.0, 0.0, 0.0, 0.0], [0.03910472244024277, 0.039081111550331116, 0.41297587752342224, 0.11984461545944214, 0.031655341386795044, 0.08190849423408508, 0.038606081157922745, 0.015690021216869354, 0.04717884212732315, 0.017814679071307182, 0.13688527047634125, 0.01925497315824032, 0.0, 0.0, 0.0, 0.0, 0.0, 0.0, 0.0, 0.0, 0.0, 0.0, 0.0, 0.0], [0.04385123401880264, 0.05344400182366371, 0.21038174629211426, 0.08416171371936798, 0.048358697444200516, 0.04390937089920044, 0.05151484161615372, 0.05929011106491089, 0.052528057247400284, 0.04749385267496109, 0.15965966880321503, 0.10936788469552994, 0.03603878617286682, 0.0, 0.0, 0.0, 0.0, 0.0, 0.0, 0.0, 0.0, 0.0, 0.0, 0.0], [0.0101854857057333, 0.03910266235470772, 0.15368172526359558, 0.04745153710246086, 0.009411917068064213, 0.09388953447341919, 0.008984126150608063, 0.010442804545164108, 0.01046972256153822, 0.0063101751729846, 0.5447643995285034, 0.05201845243573189, 0.006721286568790674, 0.006566144991666079, 0.0, 0.0, 0.0, 0.0, 0.0, 0.0, 0.0, 0.0, 0.0, 0.0], [0.08840277045965195, 0.0708654597401619, 0.004285330418497324, 0.02547919936478138, 0.0765700414776802, 0.09562449157238007, 0.06536275893449783, 0.06141694635152817, 0.06161157041788101, 0.0850432738661766, 0.00998182874172926, 0.022924037650227547, 0.12514428794384003, 0.04488053172826767, 0.1624075174331665, 0.0, 0.0, 0.0, 0.0, 0.0, 0.0, 0.0, 0.0, 0.0], [0.0631488636136055, 0.07572078704833984, 0.01819707080721855, 0.037554509937763214, 0.06780502945184708, 0.06291574239730835, 0.0593281164765358, 0.09494979679584503, 0.0544159822165966, 0.08651085942983627, 0.04474181681871414, 0.09460125863552094, 0.0682794377207756, 0.03298329561948776, 0.09464699774980545, 0.04420040547847748, 0.0, 0.0, 0.0, 0.0, 0.0, 0.0, 0.0, 0.0], [0.06190939620137215, 0.04771861433982849, 0.010246790014207363, 0.025191310793161392, 0.07002847641706467, 0.02755088172852993, 0.06353224813938141, 0.0987168401479721, 0.05551043525338173, 0.10224620252847672, 0.014520357362926006, 0.06423966586589813, 0.0738917887210846, 0.041038356721401215, 0.10501596331596375, 0.06054119020700455, 0.07810143381357193, 0.0, 0.0, 0.0, 0.0, 0.0, 0.0, 0.0], [0.055102985352277756, 0.037858348339796066, 0.00841034296900034, 0.02209208346903324, 0.05747883394360542, 0.02703094482421875, 0.0535469613969326, 0.06375687569379807, 0.04846535250544548, 0.07476607710123062, 0.00967672560364008, 0.03332396224141121, 0.0685080960392952, 0.042325083166360855, 0.08733632415533066, 0.08935210108757019, 0.11597747355699539, 0.10499144345521927, 0.0, 0.0, 0.0, 0.0, 0.0, 0.0], [0.049090173095464706, 0.03483785316348076, 0.005443950183689594, 0.016904108226299286, 0.053459085524082184, 0.021765654906630516, 0.048094742000103, 0.06842784583568573, 0.04207340255379677, 0.07685863226652145, 0.0077637601643800735, 0.036434728652238846, 0.06204104796051979, 0.03184779733419418, 0.08806700259447098, 0.06598404794931412, 0.09013406932353973, 0.08040212094783783, 0.12036989629268646, 0.0, 0.0, 0.0, 0.0, 0.0], [0.0489322654902935, 0.0404234379529953, 0.009302807971835136, 0.022207584232091904, 0.05242712423205376, 0.028713449835777283, 0.04776117578148842, 0.06553629785776138, 0.04308028519153595, 0.0694868415594101, 0.013800935819745064, 0.043433040380477905, 0.057815372943878174, 0.032797377556562424, 0.07712508738040924, 0.055522944778203964, 0.07065606862306595, 0.06567633897066116, 0.089064821600914, 0.066236712038517, 0.0, 0.0, 0.0, 0.0], [0.03872441127896309, 0.026072058826684952, 0.004568594973534346, 0.013726714998483658, 0.04103296995162964, 0.017438385635614395, 0.03758608177304268, 0.04787735268473625, 0.03339951112866402, 0.05618777871131897, 0.005696527659893036, 0.023819347843527794, 0.049291543662548065, 0.02759050950407982, 0.06624684482812881, 0.06195446103811264, 0.08352943509817123, 0.07471767067909241, 0.10798054933547974, 0.07667727023363113, 0.10588196665048599, 0.0, 0.0, 0.0], [0.030996158719062805, 0.024926243349909782, 0.002314978512004018, 0.009798182174563408, 0.031163940206170082, 0.021021971479058266, 0.026895465329289436, 0.035219430923461914, 0.02404157817363739, 0.041450679302215576, 0.004773750901222229, 0.017409050837159157, 0.04072495922446251, 0.01635858602821827, 0.0582895390689373, 0.05480344220995903, 0.08074977248907089, 0.07774825394153595, 0.11047877371311188, 0.07420746982097626, 0.11287852376699448, 0.10374923795461655, 0.0, 0.0], [0.04422183334827423, 0.04060959070920944, 0.010772649198770523, 0.022290432825684547, 0.04952419176697731, 0.026274632662534714, 0.04476427286863327, 0.07064449787139893, 0.0399494394659996, 0.06842745095491409, 0.017745375633239746, 0.05706247687339783, 0.0498402900993824, 0.02798602357506752, 0.06911619007587433, 0.0352930873632431, 0.04351601004600525, 0.040375612676143646, 0.05538669973611832, 0.04103963449597359, 0.05275285616517067, 0.05101242661476135, 0.041394270956516266, 0.0], [0.02934066578745842, 0.02033269964158535, 0.0029628712218254805, 0.009838328696787357, 0.030965855345129967, 0.013888666406273842, 0.02791013941168785, 0.036571428179740906, 0.024686602875590324, 0.04286780580878258, 0.004159858450293541, 0.017983797937631607, 0.0377916656434536, 0.019320331513881683, 0.052243053913116455, 0.047258250415325165, 0.06545761972665787, 0.05913490056991577, 0.08655916899442673, 0.05992400273680687, 0.08531531691551208, 0.08130966126918793, 0.06596961617469788, 0.07820765674114227]], [[1.0, 0.0, 0.0, 0.0, 0.0, 0.0, 0.0, 0.0, 0.0, 0.0, 0.0, 0.0, 0.0, 0.0, 0.0, 0.0, 0.0, 0.0, 0.0, 0.0, 0.0, 0.0, 0.0, 0.0], [0.506334125995636, 0.49366581439971924, 0.0, 0.0, 0.0, 0.0, 0.0, 0.0, 0.0, 0.0, 0.0, 0.0, 0.0, 0.0, 0.0, 0.0, 0.0, 0.0, 0.0, 0.0, 0.0, 0.0, 0.0, 0.0], [0.41084611415863037, 0.5623328685760498, 0.026821067556738853, 0.0, 0.0, 0.0, 0.0, 0.0, 0.0, 0.0, 0.0, 0.0, 0.0, 0.0, 0.0, 0.0, 0.0, 0.0, 0.0, 0.0, 0.0, 0.0, 0.0, 0.0], [0.41064873337745667, 0.5073897838592529, 0.04271049425005913, 0.03925095498561859, 0.0, 0.0, 0.0, 0.0, 0.0, 0.0, 0.0, 0.0, 0.0, 0.0, 0.0, 0.0, 0.0, 0.0, 0.0, 0.0, 0.0, 0.0, 0.0, 0.0], [0.3894087076187134, 0.3641384541988373, 0.062135279178619385, 0.13369090855121613, 0.050626710057258606, 0.0, 0.0, 0.0, 0.0, 0.0, 0.0, 0.0, 0.0, 0.0, 0.0, 0.0, 0.0, 0.0, 0.0, 0.0, 0.0, 0.0, 0.0, 0.0], [0.0214292760938406, 0.0188165120780468, 0.45233380794525146, 0.12214101850986481, 0.26736798882484436, 0.1179114580154419, 0.0, 0.0, 0.0, 0.0, 0.0, 0.0, 0.0, 0.0, 0.0, 0.0, 0.0, 0.0, 0.0, 0.0, 0.0, 0.0, 0.0, 0.0], [0.25381654500961304, 0.23396636545658112, 0.10916240513324738, 0.2407953143119812, 0.06336338818073273, 0.07343616336584091, 0.02545980177819729, 0.0, 0.0, 0.0, 0.0, 0.0, 0.0, 0.0, 0.0, 0.0, 0.0, 0.0, 0.0, 0.0, 0.0, 0.0, 0.0, 0.0], [0.2160210907459259, 0.19672459363937378, 0.13292115926742554, 0.16150407493114471, 0.0957392007112503, 0.06094548478722572, 0.05672337859869003, 0.0794210210442543, 0.0, 0.0, 0.0, 0.0, 0.0, 0.0, 0.0, 0.0, 0.0, 0.0, 0.0, 0.0, 0.0, 0.0, 0.0, 0.0], [0.1384257972240448, 0.1234230250120163, 0.13158023357391357, 0.3029324412345886, 0.05301076918840408, 0.07800602167844772, 0.026159511879086494, 0.109072744846344, 0.037389498203992844, 0.0, 0.0, 0.0, 0.0, 0.0, 0.0, 0.0, 0.0, 0.0, 0.0, 0.0, 0.0, 0.0, 0.0, 0.0], [0.2781979441642761, 0.2535229027271271, 0.0717039406299591, 0.161978080868721, 0.04525803402066231, 0.04056556522846222, 0.014279563911259174, 0.03865775465965271, 0.019326524809002876, 0.07650966197252274, 0.0, 0.0, 0.0, 0.0, 0.0, 0.0, 0.0, 0.0, 0.0, 0.0, 0.0, 0.0, 0.0, 0.0], [0.029824718832969666, 0.033833760768175125, 0.06211348623037338, 0.05778420716524124, 0.08436911553144455, 0.20076827704906464, 0.16121721267700195, 0.1380237191915512, 0.13142257928848267, 0.07680539041757584, 0.023837480694055557, 0.0, 0.0, 0.0, 0.0, 0.0, 0.0, 0.0, 0.0, 0.0, 0.0, 0.0, 0.0, 0.0], [0.20173871517181396, 0.21556852757930756, 0.0287273358553648, 0.04450186342000961, 0.04804158955812454, 0.04673689231276512, 0.021606696769595146, 0.020854327827692032, 0.020862547680735588, 0.07469066232442856, 0.1390170007944107, 0.13765379786491394, 0.0, 0.0, 0.0, 0.0, 0.0, 0.0, 0.0, 0.0, 0.0, 0.0, 0.0, 0.0], [0.15223011374473572, 0.15653519332408905, 0.029075531288981438, 0.09334059059619904, 0.025140030309557915, 0.05412454903125763, 0.008170868270099163, 0.02663203701376915, 0.00982323382049799, 0.05317365750670433, 0.20804354548454285, 0.16122032701969147, 0.02249031700193882, 0.0, 0.0, 0.0, 0.0, 0.0, 0.0, 0.0, 0.0, 0.0, 0.0, 0.0], [0.08536210656166077, 0.07690019905567169, 0.07462944835424423, 0.17062726616859436, 0.032086558640003204, 0.047485798597335815, 0.015787318348884583, 0.06237103044986725, 0.022145988419651985, 0.0474303662776947, 0.19627730548381805, 0.12098976969718933, 0.028667869046330452, 0.019238952547311783, 0.0, 0.0, 0.0, 0.0, 0.0, 0.0, 0.0, 0.0, 0.0, 0.0], [0.12445226311683655, 0.11555067449808121, 0.061066385358572006, 0.04129980504512787, 0.07146140933036804, 0.022783935070037842, 0.0535673052072525, 0.0289290938526392, 0.054888807237148285, 0.0633661150932312, 0.09817393124103546, 0.08208756893873215, 0.0957333967089653, 0.05178769305348396, 0.03485161066055298, 0.0, 0.0, 0.0, 0.0, 0.0, 0.0, 0.0, 0.0, 0.0], [0.09497521817684174, 0.08079833537340164, 0.08974812924861908, 0.08566657453775406, 0.05173848569393158, 0.021451888605952263, 0.03406800329685211, 0.043353017419576645, 0.04344897344708443, 0.04942259192466736, 0.14336524903774261, 0.08981264382600784, 0.06205415353178978, 0.032711420208215714, 0.05376231670379639, 0.023622974753379822, 0.0, 0.0, 0.0, 0.0, 0.0, 0.0, 0.0, 0.0], [0.08985069394111633, 0.07765332609415054, 0.08475702255964279, 0.06601710617542267, 0.05853629484772682, 0.020662469789385796, 0.0441218838095665, 0.040464144200086594, 0.05256687104701996, 0.050899188965559006, 0.11268310248851776, 0.0770765095949173, 0.07327323406934738, 0.04042419418692589, 0.04728115722537041, 0.02978605590760708, 0.03394670411944389, 0.0, 0.0, 0.0, 0.0, 0.0, 0.0, 0.0], [0.07006071507930756, 0.059003785252571106, 0.0982731357216835, 0.07546748220920563, 0.055836763232946396, 0.020352987572550774, 0.0463121272623539, 0.048898614943027496, 0.057572945952415466, 0.04589246213436127, 0.10336937755346298, 0.06728118658065796, 0.0678202286362648, 0.0402168445289135, 0.053760237991809845, 0.031579144299030304, 0.03480078652501106, 0.023501146584749222, 0.0, 0.0, 0.0, 0.0, 0.0, 0.0], [0.06917709112167358, 0.05903996527194977, 0.08916433155536652, 0.06382203847169876, 0.05679849162697792, 0.019611159339547157, 0.04874137416481972, 0.04419543221592903, 0.058396100997924805, 0.045685961842536926, 0.09167955815792084, 0.06263776123523712, 0.07035835087299347, 0.04211091995239258, 0.048039864748716354, 0.03299635276198387, 0.0347733348608017, 0.02438119240105152, 0.038390763103961945, 0.0, 0.0, 0.0, 0.0, 0.0], [0.05231937766075134, 0.042329318821430206, 0.11052596569061279, 0.07061585038900375, 0.05410362035036087, 0.015642007812857628, 0.05178795009851456, 0.05079641565680504, 0.06626777350902557, 0.03860042989253998, 0.08437840640544891, 0.0519385039806366, 0.0677548497915268, 0.040678512305021286, 0.05165223032236099, 0.03299175575375557, 0.03288868069648743, 0.021004093810915947, 0.03789599984884262, 0.025828273966908455, 0.0, 0.0, 0.0, 0.0], [0.06736360490322113, 0.05604922026395798, 0.09202089160680771, 0.07084545493125916, 0.0502941831946373, 0.017113324254751205, 0.039964813739061356, 0.04307803884148598, 0.05064709857106209, 0.04141784459352493, 0.10236174613237381, 0.06416760385036469, 0.062027063220739365, 0.034737568348646164, 0.04843592643737793, 0.026458092033863068, 0.02995261549949646, 0.0195615254342556, 0.03474961593747139, 0.023795250803232193, 0.024958515539765358, 0.0, 0.0, 0.0], [0.06266333162784576, 0.05226543918251991, 0.09039440751075745, 0.07062791287899017, 0.04867728427052498, 0.017475714907050133, 0.039492152631282806, 0.04393588751554489, 0.05004805698990822, 0.04014050215482712, 0.09684084355831146, 0.061151355504989624, 0.059149064123630524, 0.034261658787727356, 0.04876476153731346, 0.02664615958929062, 0.02997986041009426, 0.019737571477890015, 0.034864313900470734, 0.02390594780445099, 0.025082768872380257, 0.023895032703876495, 0.0, 0.0], [0.0872625932097435, 0.07701017707586288, 0.0637807548046112, 0.059276238083839417, 0.04587113484740257, 0.01971377059817314, 0.03039570152759552, 0.032201118767261505, 0.03627266734838486, 0.04483851417899132, 0.10931974649429321, 0.07553112506866455, 0.0555712953209877, 0.030078448355197906, 0.04019216448068619, 0.02161421813070774, 0.02727890945971012, 0.019496146589517593, 0.030638068914413452, 0.022780396044254303, 0.0235896036028862, 0.02046981081366539, 0.02681739814579487, 0.0], [0.05414643883705139, 0.04455815255641937, 0.09250166267156601, 0.07461682707071304, 0.04440341889858246, 0.016693631187081337, 0.03663340583443642, 0.045954346656799316, 0.047840189188718796, 0.0363846980035305, 0.09269510209560394, 0.05645911768078804, 0.05282014235854149, 0.03134136274456978, 0.050222817808389664, 0.024972958490252495, 0.028372222557663918, 0.01816522143781185, 0.03392300009727478, 0.02224075421690941, 0.023501981049776077, 0.02296268753707409, 0.029474198818206787, 0.019115669652819633]]]}\n",
       "    )\n",
       "    </script>"
      ],
      "text/plain": [
       "<circuitsvis.utils.render.RenderedHTML at 0x4cbe9ea80>"
      ]
     },
     "metadata": {},
     "output_type": "display_data"
    },
    {
     "name": "stdout",
     "output_type": "stream",
     "text": [
      "4\n",
      "Using tensor([ 0,  2,  2,  2,  5,  9, 15, 28, 15,  9,  5,  2,  2,  2, 28,  2,  2,  2,\n",
      "         5,  9, 15,  1,  1,  1], device='mps:0') from tensor([ 0,  2,  2,  2,  5,  9, 15, 28, 15,  9,  5,  2,  2,  2, 28,  2,  2,  2,\n",
      "         5,  9, 15,  1,  1,  1]) (from test set)\n",
      "Layer:  0\n"
     ]
    },
    {
     "data": {
      "text/html": [
       "<div id=\"circuits-vis-1966fbc3-10a7\" style=\"margin: 15px 0;\"/>\n",
       "    <script crossorigin type=\"module\">\n",
       "    import { render, AttentionPatterns } from \"https://unpkg.com/circuitsvis@1.43.2/dist/cdn/esm.js\";\n",
       "    render(\n",
       "      \"circuits-vis-1966fbc3-10a7\",\n",
       "      AttentionPatterns,\n",
       "      {\"tokens\": [\"<\", \"a\", \"a\", \"a\", \"d\", \"h\", \"n\", \"|\", \"n\", \"h\", \"d\", \"a\", \"a\", \"a\", \"|\", \"a\", \"a\", \"a\", \"d\", \"h\", \"n\", \">\", \">\", \">\"], \"attention\": [[[1.0, 0.0, 0.0, 0.0, 0.0, 0.0, 0.0, 0.0, 0.0, 0.0, 0.0, 0.0, 0.0, 0.0, 0.0, 0.0, 0.0, 0.0, 0.0, 0.0, 0.0, 0.0, 0.0, 0.0], [0.6491082906723022, 0.35089176893234253, 0.0, 0.0, 0.0, 0.0, 0.0, 0.0, 0.0, 0.0, 0.0, 0.0, 0.0, 0.0, 0.0, 0.0, 0.0, 0.0, 0.0, 0.0, 0.0, 0.0, 0.0, 0.0], [0.5340894460678101, 0.29553335905075073, 0.1703772246837616, 0.0, 0.0, 0.0, 0.0, 0.0, 0.0, 0.0, 0.0, 0.0, 0.0, 0.0, 0.0, 0.0, 0.0, 0.0, 0.0, 0.0, 0.0, 0.0, 0.0, 0.0], [0.04840580374002457, 0.2297009527683258, 0.3334676921367645, 0.3884255588054657, 0.0, 0.0, 0.0, 0.0, 0.0, 0.0, 0.0, 0.0, 0.0, 0.0, 0.0, 0.0, 0.0, 0.0, 0.0, 0.0, 0.0, 0.0, 0.0, 0.0], [0.12725459039211273, 0.19862478971481323, 0.216692715883255, 0.21471740305423737, 0.24271047115325928, 0.0, 0.0, 0.0, 0.0, 0.0, 0.0, 0.0, 0.0, 0.0, 0.0, 0.0, 0.0, 0.0, 0.0, 0.0, 0.0, 0.0, 0.0, 0.0], [0.38592708110809326, 0.11268549412488937, 0.11012139171361923, 0.11368288099765778, 0.15695562958717346, 0.12062761187553406, 0.0, 0.0, 0.0, 0.0, 0.0, 0.0, 0.0, 0.0, 0.0, 0.0, 0.0, 0.0, 0.0, 0.0, 0.0, 0.0, 0.0, 0.0], [0.3418811857700348, 0.06606188416481018, 0.04518028348684311, 0.03108012117445469, 0.16736066341400146, 0.08794184774160385, 0.26049402356147766, 0.0, 0.0, 0.0, 0.0, 0.0, 0.0, 0.0, 0.0, 0.0, 0.0, 0.0, 0.0, 0.0, 0.0, 0.0, 0.0, 0.0], [0.11800113320350647, 0.22509066760540009, 0.14139202237129211, 0.14267587661743164, 0.022517185658216476, 0.0357547365128994, 0.02014705166220665, 0.29442131519317627, 0.0, 0.0, 0.0, 0.0, 0.0, 0.0, 0.0, 0.0, 0.0, 0.0, 0.0, 0.0, 0.0, 0.0, 0.0, 0.0], [0.18331579864025116, 0.09964843094348907, 0.06509710103273392, 0.04803000018000603, 0.09220235049724579, 0.07076578587293625, 0.11150556802749634, 0.22438137233257294, 0.10505361109972, 0.0, 0.0, 0.0, 0.0, 0.0, 0.0, 0.0, 0.0, 0.0, 0.0, 0.0, 0.0, 0.0, 0.0, 0.0], [0.15472783148288727, 0.07316569238901138, 0.0784175768494606, 0.08259925246238708, 0.10906226187944412, 0.09185352921485901, 0.13081087172031403, 0.06264892220497131, 0.10331286489963531, 0.11340119689702988, 0.0, 0.0, 0.0, 0.0, 0.0, 0.0, 0.0, 0.0, 0.0, 0.0, 0.0, 0.0, 0.0, 0.0], [0.03879261389374733, 0.054654620587825775, 0.04748689755797386, 0.03412524238228798, 0.1215585246682167, 0.09684375673532486, 0.11215843260288239, 0.11180097609758377, 0.17852987349033356, 0.16026729345321655, 0.043781764805316925, 0.0, 0.0, 0.0, 0.0, 0.0, 0.0, 0.0, 0.0, 0.0, 0.0, 0.0, 0.0, 0.0], [0.11499480158090591, 0.1414707452058792, 0.08594650775194168, 0.07058332115411758, 0.03974561393260956, 0.044809453189373016, 0.03959908336400986, 0.27614182233810425, 0.03826176002621651, 0.034667111933231354, 0.03472480550408363, 0.07905492931604385, 0.0, 0.0, 0.0, 0.0, 0.0, 0.0, 0.0, 0.0, 0.0, 0.0, 0.0, 0.0], [0.0376744419336319, 0.09859046339988708, 0.06987389922142029, 0.05836138874292374, 0.03433816879987717, 0.043635446578264236, 0.027856076136231422, 0.17314422130584717, 0.03660150244832039, 0.031144658103585243, 0.04133058711886406, 0.09660016000270844, 0.25084900856018066, 0.0, 0.0, 0.0, 0.0, 0.0, 0.0, 0.0, 0.0, 0.0, 0.0, 0.0], [0.17216023802757263, 0.08708775788545609, 0.0592358335852623, 0.05196255445480347, 0.04382435977458954, 0.03975243121385574, 0.05400398001074791, 0.13776375353336334, 0.04011218994855881, 0.04072684794664383, 0.026836145669221878, 0.03768147528171539, 0.09846188127994537, 0.11039060354232788, 0.0, 0.0, 0.0, 0.0, 0.0, 0.0, 0.0, 0.0, 0.0, 0.0], [0.0018214851152151823, 0.03827356919646263, 0.03284567594528198, 0.03687296062707901, 0.0027980345766991377, 0.00773164676502347, 0.001330132712610066, 0.03590738773345947, 0.002396691357716918, 0.0017610426293686032, 0.029990531504154205, 0.12047779560089111, 0.6182993650436401, 0.005132306832820177, 0.06436130404472351, 0.0, 0.0, 0.0, 0.0, 0.0, 0.0, 0.0, 0.0, 0.0], [0.21586234867572784, 0.046068597584962845, 0.0339672714471817, 0.027558865025639534, 0.07042042911052704, 0.044297751039266586, 0.10656047612428665, 0.07911241054534912, 0.07350674271583557, 0.08101779222488403, 0.017477847635746002, 0.015325410291552544, 0.018494881689548492, 0.11097200959920883, 0.04008258506655693, 0.0192745141685009, 0.0, 0.0, 0.0, 0.0, 0.0, 0.0, 0.0, 0.0], [0.00988167617470026, 0.05780209228396416, 0.029569709673523903, 0.023277195170521736, 0.004623707849532366, 0.008211677893996239, 0.0031705519650131464, 0.139814093708992, 0.004463249817490578, 0.003363831900060177, 0.00992141105234623, 0.05180612578988075, 0.47954490780830383, 0.015720168128609657, 0.08831163495779037, 0.031738441437482834, 0.03877953067421913, 0.0, 0.0, 0.0, 0.0, 0.0, 0.0, 0.0], [0.015614953823387623, 0.03616800904273987, 0.06341151148080826, 0.09747730195522308, 0.03437734395265579, 0.05095183849334717, 0.026536663994193077, 0.011746758595108986, 0.02782464399933815, 0.028893230482935905, 0.17423030734062195, 0.10921131819486618, 0.06029433384537697, 0.0221328753978014, 0.03939434140920639, 0.10038833320140839, 0.053410258144140244, 0.04793590307235718, 0.0, 0.0, 0.0, 0.0, 0.0, 0.0], [0.014062050729990005, 0.0605483204126358, 0.029880566522479057, 0.02024807408452034, 0.009717807173728943, 0.013592950999736786, 0.007192033343017101, 0.19737395644187927, 0.011188098229467869, 0.008443961851298809, 0.009798425249755383, 0.04612697288393974, 0.2748168706893921, 0.02221493609249592, 0.08062867820262909, 0.031078806146979332, 0.040118493139743805, 0.09310916811227798, 0.029859786853194237, 0.0, 0.0, 0.0, 0.0, 0.0], [0.0773891881108284, 0.04513886570930481, 0.03739985078573227, 0.030574679374694824, 0.0678703784942627, 0.05192282423377037, 0.07882674783468246, 0.07294898480176926, 0.07825819402933121, 0.07854363322257996, 0.02683193050324917, 0.02802411839365959, 0.026553932577371597, 0.0654601901769638, 0.0406336672604084, 0.030815569683909416, 0.03961004689335823, 0.03634557127952576, 0.05012627691030502, 0.03672536835074425, 0.0, 0.0, 0.0, 0.0], [0.013001465238630772, 0.04993118718266487, 0.04486388713121414, 0.038745295256376266, 0.03369927778840065, 0.04254066199064255, 0.024223078042268753, 0.07225321978330612, 0.04047778621315956, 0.03395415097475052, 0.04416653886437416, 0.08134050667285919, 0.09840930998325348, 0.024228375405073166, 0.054375503212213516, 0.06486295908689499, 0.05005153641104698, 0.06477612257003784, 0.056678738445043564, 0.04088231548666954, 0.026538129895925522, 0.0, 0.0, 0.0], [0.04643692821264267, 0.0321783684194088, 0.05056099221110344, 0.07254627346992493, 0.04696507751941681, 0.050227273255586624, 0.04955192282795906, 0.012368839234113693, 0.037410423159599304, 0.04310104250907898, 0.1025213822722435, 0.04854786768555641, 0.02570590004324913, 0.03929074853658676, 0.03131237253546715, 0.054251279681921005, 0.0419965498149395, 0.031523458659648895, 0.036427706480026245, 0.09897812455892563, 0.027026396244764328, 0.021071046590805054, 0.0, 0.0], [0.05280817300081253, 0.03841397911310196, 0.05135220289230347, 0.06816001236438751, 0.0400259867310524, 0.043541692197322845, 0.042360033839941025, 0.018828563392162323, 0.032096974551677704, 0.03579215332865715, 0.07806236296892166, 0.047711167484521866, 0.03730642423033714, 0.043582215905189514, 0.03911317512392998, 0.051022499799728394, 0.044979121536016464, 0.03908252343535423, 0.03598259016871452, 0.0666976124048233, 0.03759912773966789, 0.027911081910133362, 0.027570268139243126, 0.0], [0.039061348885297775, 0.02730320394039154, 0.04261261969804764, 0.056700222194194794, 0.054975252598524094, 0.05398598313331604, 0.057790596038103104, 0.012157264165580273, 0.04847639799118042, 0.05500176176428795, 0.08880042284727097, 0.04155285283923149, 0.017398525029420853, 0.035541485995054245, 0.025028958916664124, 0.0475417822599411, 0.03597407042980194, 0.024965427815914154, 0.0376804880797863, 0.10556109994649887, 0.02142726629972458, 0.02208486758172512, 0.024799371138215065, 0.02357865683734417]], [[1.0, 0.0, 0.0, 0.0, 0.0, 0.0, 0.0, 0.0, 0.0, 0.0, 0.0, 0.0, 0.0, 0.0, 0.0, 0.0, 0.0, 0.0, 0.0, 0.0, 0.0, 0.0, 0.0, 0.0], [0.5338062047958374, 0.4661937952041626, 0.0, 0.0, 0.0, 0.0, 0.0, 0.0, 0.0, 0.0, 0.0, 0.0, 0.0, 0.0, 0.0, 0.0, 0.0, 0.0, 0.0, 0.0, 0.0, 0.0, 0.0, 0.0], [0.443545937538147, 0.18582676351070404, 0.3706272840499878, 0.0, 0.0, 0.0, 0.0, 0.0, 0.0, 0.0, 0.0, 0.0, 0.0, 0.0, 0.0, 0.0, 0.0, 0.0, 0.0, 0.0, 0.0, 0.0, 0.0, 0.0], [0.2869427502155304, 0.21751902997493744, 0.41079193353652954, 0.08474627137184143, 0.0, 0.0, 0.0, 0.0, 0.0, 0.0, 0.0, 0.0, 0.0, 0.0, 0.0, 0.0, 0.0, 0.0, 0.0, 0.0, 0.0, 0.0, 0.0, 0.0], [0.22435268759727478, 0.1922817826271057, 0.1813754439353943, 0.1993631273508072, 0.20262692868709564, 0.0, 0.0, 0.0, 0.0, 0.0, 0.0, 0.0, 0.0, 0.0, 0.0, 0.0, 0.0, 0.0, 0.0, 0.0, 0.0, 0.0, 0.0, 0.0], [0.24539482593536377, 0.09701833128929138, 0.13354173302650452, 0.2426959127187729, 0.15153200924396515, 0.12981711328029633, 0.0, 0.0, 0.0, 0.0, 0.0, 0.0, 0.0, 0.0, 0.0, 0.0, 0.0, 0.0, 0.0, 0.0, 0.0, 0.0, 0.0, 0.0], [0.14979569613933563, 0.05970008298754692, 0.055011600255966187, 0.294498085975647, 0.24244290590286255, 0.08179601281881332, 0.11675561964511871, 0.0, 0.0, 0.0, 0.0, 0.0, 0.0, 0.0, 0.0, 0.0, 0.0, 0.0, 0.0, 0.0, 0.0, 0.0, 0.0, 0.0], [0.0231639314442873, 0.09793440252542496, 0.18943780660629272, 0.08396653085947037, 0.06524251401424408, 0.09890130162239075, 0.15995453298091888, 0.2813989818096161, 0.0, 0.0, 0.0, 0.0, 0.0, 0.0, 0.0, 0.0, 0.0, 0.0, 0.0, 0.0, 0.0, 0.0, 0.0, 0.0], [0.11896252632141113, 0.05597268044948578, 0.06415697932243347, 0.21733415126800537, 0.15746578574180603, 0.07635824382305145, 0.09729723632335663, 0.11158523708581924, 0.10086717456579208, 0.0, 0.0, 0.0, 0.0, 0.0, 0.0, 0.0, 0.0, 0.0, 0.0, 0.0, 0.0, 0.0, 0.0, 0.0], [0.09057214111089706, 0.07236561179161072, 0.08502281457185745, 0.141590416431427, 0.1151682510972023, 0.08516860008239746, 0.10078605264425278, 0.11430172622203827, 0.10489916801452637, 0.09012522548437119, 0.0, 0.0, 0.0, 0.0, 0.0, 0.0, 0.0, 0.0, 0.0, 0.0, 0.0, 0.0, 0.0, 0.0], [0.2639780342578888, 0.06416062265634537, 0.1146019846200943, 0.0951613038778305, 0.04579007998108864, 0.08649973571300507, 0.03904806822538376, 0.017670363187789917, 0.035140637308359146, 0.027492571622133255, 0.21045657992362976, 0.0, 0.0, 0.0, 0.0, 0.0, 0.0, 0.0, 0.0, 0.0, 0.0, 0.0, 0.0, 0.0], [0.04691304638981819, 0.07222438603639603, 0.160458505153656, 0.07331418991088867, 0.042243268340826035, 0.08343812823295593, 0.07976295053958893, 0.08189461380243301, 0.08736812323331833, 0.02969496324658394, 0.15626753866672516, 0.08642031997442245, 0.0, 0.0, 0.0, 0.0, 0.0, 0.0, 0.0, 0.0, 0.0, 0.0, 0.0, 0.0], [0.03971550613641739, 0.08353889733552933, 0.12217696756124496, 0.05360208824276924, 0.04660690203309059, 0.07975845783948898, 0.08315759897232056, 0.09354690462350845, 0.08898506313562393, 0.04578441381454468, 0.09377305209636688, 0.09326590597629547, 0.07608815282583237, 0.0, 0.0, 0.0, 0.0, 0.0, 0.0, 0.0, 0.0, 0.0, 0.0, 0.0], [0.09282802790403366, 0.05341639369726181, 0.10417667031288147, 0.10016372054815292, 0.05172682926058769, 0.07149262726306915, 0.057171326130628586, 0.045740000903606415, 0.05842764675617218, 0.030821800231933594, 0.15236176550388336, 0.0580102913081646, 0.04496391490101814, 0.07869902998209, 0.0, 0.0, 0.0, 0.0, 0.0, 0.0, 0.0, 0.0, 0.0, 0.0], [0.06975142657756805, 0.1062171682715416, 0.1606348603963852, 0.017048899084329605, 0.014799516648054123, 0.08329444378614426, 0.03457322344183922, 0.017291471362113953, 0.03157962113618851, 0.018629971891641617, 0.10852756351232529, 0.08818668127059937, 0.1556214839220047, 0.0725976750254631, 0.021245943382382393, 0.0, 0.0, 0.0, 0.0, 0.0, 0.0, 0.0, 0.0, 0.0], [0.03486749157309532, 0.031748466193675995, 0.06760579347610474, 0.07135022431612015, 0.03692125156521797, 0.04310738295316696, 0.04742098227143288, 0.05208275839686394, 0.05221813917160034, 0.02121639996767044, 0.08894192427396774, 0.039223186671733856, 0.022579777985811234, 0.04495922103524208, 0.32714375853538513, 0.018613236024975777, 0.0, 0.0, 0.0, 0.0, 0.0, 0.0, 0.0, 0.0], [0.04751751944422722, 0.05642154440283775, 0.1329430639743805, 0.02665865607559681, 0.014653385616838932, 0.0593557208776474, 0.032134220004081726, 0.01990988664329052, 0.03200533986091614, 0.011486072093248367, 0.12460581958293915, 0.05672081187367439, 0.0590645968914032, 0.05584424361586571, 0.09514302760362625, 0.050565190613269806, 0.12497083842754364, 0.0, 0.0, 0.0, 0.0, 0.0, 0.0, 0.0], [0.05005268752574921, 0.07111469656229019, 0.10660089552402496, 0.028012782335281372, 0.022930381819605827, 0.06488168984651566, 0.04167160019278526, 0.029964948073029518, 0.040826909244060516, 0.02375832572579384, 0.08579018712043762, 0.0679437667131424, 0.0812380462884903, 0.059321507811546326, 0.044134363532066345, 0.07992815971374512, 0.06571338325738907, 0.03611565753817558, 0.0, 0.0, 0.0, 0.0, 0.0, 0.0], [0.045838721096515656, 0.055415865033864975, 0.08928470313549042, 0.03436433523893356, 0.02513773739337921, 0.05603426322340965, 0.04065585136413574, 0.031985633075237274, 0.04080367460846901, 0.022447632625699043, 0.08266714960336685, 0.055995870381593704, 0.05668933689594269, 0.053350213915109634, 0.06898336112499237, 0.05300553888082504, 0.08299043029546738, 0.03140254691243172, 0.07294704020023346, 0.0, 0.0, 0.0, 0.0, 0.0], [0.05012998357415199, 0.034371644258499146, 0.07361599057912827, 0.037720851600170135, 0.019275369122624397, 0.04241817444562912, 0.027268091216683388, 0.018488354980945587, 0.027270209044218063, 0.012517878785729408, 0.09401486068964005, 0.03558436036109924, 0.03213049843907356, 0.04454999044537544, 0.1400575190782547, 0.025061743333935738, 0.12365973740816116, 0.021567299962043762, 0.0985766276717186, 0.041720855981111526, 0.0, 0.0, 0.0, 0.0], [0.05659056827425957, 0.055940303951501846, 0.06271280348300934, 0.03734736889600754, 0.03489606827497482, 0.053704842925071716, 0.04137212038040161, 0.03323838859796524, 0.040097251534461975, 0.035929206758737564, 0.05968543887138367, 0.052776068449020386, 0.06204628199338913, 0.052820783108472824, 0.04051423445343971, 0.060436587780714035, 0.0477883443236351, 0.04625196382403374, 0.04330122843384743, 0.04123782366514206, 0.041312288492918015, 0.0, 0.0, 0.0], [0.07258444279432297, 0.04228418692946434, 0.02607903629541397, 0.05216958373785019, 0.06840830296278, 0.041029129177331924, 0.04048958048224449, 0.03748619928956032, 0.037787649780511856, 0.07858651131391525, 0.0301247239112854, 0.03735382854938507, 0.04837175831198692, 0.04463977739214897, 0.023306651040911674, 0.04832788556814194, 0.02120395191013813, 0.07873166352510452, 0.02099503204226494, 0.03729237616062164, 0.03966795280575752, 0.07307981699705124, 0.0, 0.0], [0.05964304134249687, 0.04118704795837402, 0.02340543270111084, 0.04579779878258705, 0.06642524152994156, 0.03809521719813347, 0.04033437371253967, 0.0401931032538414, 0.037912167608737946, 0.08261504024267197, 0.02484670840203762, 0.03655671700835228, 0.047428254038095474, 0.040361154824495316, 0.01744542084634304, 0.0499778650701046, 0.016911981627345085, 0.07543766498565674, 0.017444564029574394, 0.034164488315582275, 0.03401510789990425, 0.06699997931718826, 0.06280163675546646, 0.0], [0.0668230876326561, 0.03882651403546333, 0.02081899903714657, 0.042677924036979675, 0.06286953389644623, 0.03585660085082054, 0.03500865399837494, 0.0319812148809433, 0.03211551159620285, 0.07928071916103363, 0.023142468184232712, 0.03305298835039139, 0.04703587666153908, 0.038869913667440414, 0.014504102058708668, 0.04850124567747116, 0.014012796804308891, 0.07867995649576187, 0.013943838886916637, 0.029823049902915955, 0.030707508325576782, 0.06456694006919861, 0.05961320176720619, 0.05728733912110329]], [[1.0, 0.0, 0.0, 0.0, 0.0, 0.0, 0.0, 0.0, 0.0, 0.0, 0.0, 0.0, 0.0, 0.0, 0.0, 0.0, 0.0, 0.0, 0.0, 0.0, 0.0, 0.0, 0.0, 0.0], [0.6941601037979126, 0.305839866399765, 0.0, 0.0, 0.0, 0.0, 0.0, 0.0, 0.0, 0.0, 0.0, 0.0, 0.0, 0.0, 0.0, 0.0, 0.0, 0.0, 0.0, 0.0, 0.0, 0.0, 0.0, 0.0], [0.3055115044116974, 0.37802085280418396, 0.31646767258644104, 0.0, 0.0, 0.0, 0.0, 0.0, 0.0, 0.0, 0.0, 0.0, 0.0, 0.0, 0.0, 0.0, 0.0, 0.0, 0.0, 0.0, 0.0, 0.0, 0.0, 0.0], [0.3323742747306824, 0.19465777277946472, 0.15131928026676178, 0.3216487169265747, 0.0, 0.0, 0.0, 0.0, 0.0, 0.0, 0.0, 0.0, 0.0, 0.0, 0.0, 0.0, 0.0, 0.0, 0.0, 0.0, 0.0, 0.0, 0.0, 0.0], [0.3480055332183838, 0.1896878480911255, 0.18160465359687805, 0.12978358566761017, 0.15091831982135773, 0.0, 0.0, 0.0, 0.0, 0.0, 0.0, 0.0, 0.0, 0.0, 0.0, 0.0, 0.0, 0.0, 0.0, 0.0, 0.0, 0.0, 0.0, 0.0], [0.17272721230983734, 0.18741361796855927, 0.16955673694610596, 0.13117584586143494, 0.13460290431976318, 0.2045237123966217, 0.0, 0.0, 0.0, 0.0, 0.0, 0.0, 0.0, 0.0, 0.0, 0.0, 0.0, 0.0, 0.0, 0.0, 0.0, 0.0, 0.0, 0.0], [0.03032480925321579, 0.07906971871852875, 0.06497529149055481, 0.4556048810482025, 0.17640039324760437, 0.12334181368350983, 0.07028302550315857, 0.0, 0.0, 0.0, 0.0, 0.0, 0.0, 0.0, 0.0, 0.0, 0.0, 0.0, 0.0, 0.0, 0.0, 0.0, 0.0, 0.0], [0.31562095880508423, 0.13016578555107117, 0.10600843280553818, 0.12824225425720215, 0.11255357414484024, 0.06610208749771118, 0.06315773725509644, 0.07814911007881165, 0.0, 0.0, 0.0, 0.0, 0.0, 0.0, 0.0, 0.0, 0.0, 0.0, 0.0, 0.0, 0.0, 0.0, 0.0, 0.0], [0.036055903881788254, 0.0573783814907074, 0.037838876247406006, 0.40780043601989746, 0.12122847139835358, 0.05863642320036888, 0.027222763746976852, 0.14960184693336487, 0.10423688590526581, 0.0, 0.0, 0.0, 0.0, 0.0, 0.0, 0.0, 0.0, 0.0, 0.0, 0.0, 0.0, 0.0, 0.0, 0.0], [0.2095893770456314, 0.11603739112615585, 0.09928726404905319, 0.09974578768014908, 0.09462016820907593, 0.07490205764770508, 0.06892753392457962, 0.0834038257598877, 0.0589846670627594, 0.09450192004442215, 0.0, 0.0, 0.0, 0.0, 0.0, 0.0, 0.0, 0.0, 0.0, 0.0, 0.0, 0.0, 0.0, 0.0], [0.09601183980703354, 0.08660561591386795, 0.06409557908773422, 0.16638948023319244, 0.09608858823776245, 0.07035289704799652, 0.04410374164581299, 0.11457861214876175, 0.07125824689865112, 0.08729566633701324, 0.10321979224681854, 0.0, 0.0, 0.0, 0.0, 0.0, 0.0, 0.0, 0.0, 0.0, 0.0, 0.0, 0.0, 0.0], [0.17170751094818115, 0.09525834769010544, 0.1090237945318222, 0.03303052484989166, 0.059668686240911484, 0.07248923927545547, 0.10551688075065613, 0.04731157422065735, 0.048582710325717926, 0.06897109746932983, 0.051780376583337784, 0.13665929436683655, 0.0, 0.0, 0.0, 0.0, 0.0, 0.0, 0.0, 0.0, 0.0, 0.0, 0.0, 0.0], [0.13926535844802856, 0.08419230580329895, 0.07718031853437424, 0.06279457360506058, 0.06698919832706451, 0.059672269970178604, 0.05961273983120918, 0.05986753851175308, 0.04690520837903023, 0.06882377713918686, 0.06438399106264114, 0.10384726524353027, 0.10646551102399826, 0.0, 0.0, 0.0, 0.0, 0.0, 0.0, 0.0, 0.0, 0.0, 0.0, 0.0], [0.10924819856882095, 0.07532431930303574, 0.07633659988641739, 0.04895026236772537, 0.06033262610435486, 0.0607941634953022, 0.06888846307992935, 0.053130824118852615, 0.049505800008773804, 0.06357035785913467, 0.05706396698951721, 0.09106864780187607, 0.08530378341674805, 0.10048205405473709, 0.0, 0.0, 0.0, 0.0, 0.0, 0.0, 0.0, 0.0, 0.0, 0.0], [0.12577882409095764, 0.07354727387428284, 0.09602067619562149, 0.019703514873981476, 0.04475473612546921, 0.06141636520624161, 0.10967818647623062, 0.03258043900132179, 0.04154996946454048, 0.05364786833524704, 0.03785809874534607, 0.10825829952955246, 0.07531148195266724, 0.10290762782096863, 0.016986627131700516, 0.0, 0.0, 0.0, 0.0, 0.0, 0.0, 0.0, 0.0, 0.0], [0.09893613308668137, 0.06678956001996994, 0.05996450409293175, 0.04584178701043129, 0.04894515126943588, 0.05165491998195648, 0.04697679728269577, 0.0528583824634552, 0.037630412727594376, 0.0522625632584095, 0.04521813616156578, 0.0802638828754425, 0.08288199454545975, 0.09246616065502167, 0.05768164247274399, 0.07962795346975327, 0.0, 0.0, 0.0, 0.0, 0.0, 0.0, 0.0, 0.0], [0.12584266066551208, 0.060355424880981445, 0.07936632633209229, 0.015613114461302757, 0.03681787848472595, 0.04387371987104416, 0.0856480747461319, 0.0224944856017828, 0.029642311856150627, 0.043332088738679886, 0.03167974203824997, 0.09552687406539917, 0.06566772609949112, 0.09983669221401215, 0.012284155935049057, 0.1092187836766243, 0.0427999347448349, 0.0, 0.0, 0.0, 0.0, 0.0, 0.0, 0.0], [0.16384223103523254, 0.05412985384464264, 0.04320129007101059, 0.020527319982647896, 0.025848625227808952, 0.02628112956881523, 0.023650450631976128, 0.025921598076820374, 0.012414266355335712, 0.029867950826883316, 0.02167471870779991, 0.08995528519153595, 0.09383487701416016, 0.13496188819408417, 0.03178580477833748, 0.08889446407556534, 0.08251199126243591, 0.03069632314145565, 0.0, 0.0, 0.0, 0.0, 0.0, 0.0], [0.09525065124034882, 0.05562724173069, 0.06220809742808342, 0.032869067043066025, 0.047137703746557236, 0.040937166661024094, 0.05933075025677681, 0.030636167153716087, 0.03579823672771454, 0.04859541729092598, 0.04586400091648102, 0.07244853675365448, 0.06218216195702553, 0.08400779217481613, 0.026275634765625, 0.07586950063705444, 0.05534670501947403, 0.028774121776223183, 0.040841009467840195, 0.0, 0.0, 0.0, 0.0, 0.0], [0.08160606771707535, 0.05253603681921959, 0.05494117736816406, 0.035787183791399, 0.04500889033079147, 0.040311362594366074, 0.0501614511013031, 0.03398764133453369, 0.035082560032606125, 0.04614748805761337, 0.043841976672410965, 0.0646478459239006, 0.05942005664110184, 0.07430631667375565, 0.03209460526704788, 0.06623958051204681, 0.05540565028786659, 0.03370846062898636, 0.04300045222043991, 0.05176521837711334, 0.0, 0.0, 0.0, 0.0], [0.09556377679109573, 0.04629943519830704, 0.040221765637397766, 0.0380035936832428, 0.037689123302698135, 0.027347136288881302, 0.02719058468937874, 0.029255587607622147, 0.021508486941456795, 0.0372878834605217, 0.037381500005722046, 0.0605553537607193, 0.06521224230527878, 0.08674817532300949, 0.03999197110533714, 0.05835048854351044, 0.07123652845621109, 0.03800223022699356, 0.04813540726900101, 0.051451947540044785, 0.04256671294569969, 0.0, 0.0, 0.0], [0.02634713053703308, 0.03809330612421036, 0.033617157489061356, 0.06402623653411865, 0.04479608312249184, 0.045702576637268066, 0.03286098688840866, 0.061018433421850204, 0.05168412625789642, 0.04274171590805054, 0.04668141528964043, 0.03098711185157299, 0.03636077046394348, 0.029215537011623383, 0.07625272870063782, 0.02937883697450161, 0.04223645105957985, 0.06924887001514435, 0.052986934781074524, 0.04105793684720993, 0.046869270503520966, 0.05783642455935478, 0.0, 0.0], [0.027022764086723328, 0.04089054837822914, 0.044096097350120544, 0.04446877911686897, 0.04494542255997658, 0.055404528975486755, 0.05487246811389923, 0.053334541618824005, 0.06217862665653229, 0.04558703675866127, 0.044771939516067505, 0.03521635755896568, 0.033766862004995346, 0.028518909588456154, 0.04428675398230553, 0.036005716770887375, 0.03175945207476616, 0.04558650031685829, 0.039433546364307404, 0.037918902933597565, 0.04185226187109947, 0.057288605719804764, 0.050793346017599106, 0.0], [0.022285737097263336, 0.03567506745457649, 0.03423623368144035, 0.051322322338819504, 0.04116963595151901, 0.04767382889986038, 0.038030803203582764, 0.05623059347271919, 0.05431802198290825, 0.04046527296304703, 0.0419619120657444, 0.02878715470433235, 0.031171703711152077, 0.02453107386827469, 0.05820624902844429, 0.028181442990899086, 0.03294457495212555, 0.055592119693756104, 0.04285825788974762, 0.03554774820804596, 0.040676821023225784, 0.05636969581246376, 0.048173002898693085, 0.05359068885445595]], [[1.0, 0.0, 0.0, 0.0, 0.0, 0.0, 0.0, 0.0, 0.0, 0.0, 0.0, 0.0, 0.0, 0.0, 0.0, 0.0, 0.0, 0.0, 0.0, 0.0, 0.0, 0.0, 0.0, 0.0], [0.2131311446428299, 0.7868688106536865, 0.0, 0.0, 0.0, 0.0, 0.0, 0.0, 0.0, 0.0, 0.0, 0.0, 0.0, 0.0, 0.0, 0.0, 0.0, 0.0, 0.0, 0.0, 0.0, 0.0, 0.0, 0.0], [0.17057250440120697, 0.2984716296195984, 0.5309558510780334, 0.0, 0.0, 0.0, 0.0, 0.0, 0.0, 0.0, 0.0, 0.0, 0.0, 0.0, 0.0, 0.0, 0.0, 0.0, 0.0, 0.0, 0.0, 0.0, 0.0, 0.0], [0.23990043997764587, 0.21282967925071716, 0.1923419088125229, 0.3549279272556305, 0.0, 0.0, 0.0, 0.0, 0.0, 0.0, 0.0, 0.0, 0.0, 0.0, 0.0, 0.0, 0.0, 0.0, 0.0, 0.0, 0.0, 0.0, 0.0, 0.0], [0.30135872960090637, 0.19696135818958282, 0.09625338762998581, 0.11075378209352493, 0.29467281699180603, 0.0, 0.0, 0.0, 0.0, 0.0, 0.0, 0.0, 0.0, 0.0, 0.0, 0.0, 0.0, 0.0, 0.0, 0.0, 0.0, 0.0, 0.0, 0.0], [0.1748172789812088, 0.18040096759796143, 0.20443086326122284, 0.13963225483894348, 0.13748735189437866, 0.16323122382164001, 0.0, 0.0, 0.0, 0.0, 0.0, 0.0, 0.0, 0.0, 0.0, 0.0, 0.0, 0.0, 0.0, 0.0, 0.0, 0.0, 0.0, 0.0], [0.23561570048332214, 0.1168990507721901, 0.07017600536346436, 0.2064647525548935, 0.2101323902606964, 0.06215079501271248, 0.09856129437685013, 0.0, 0.0, 0.0, 0.0, 0.0, 0.0, 0.0, 0.0, 0.0, 0.0, 0.0, 0.0, 0.0, 0.0, 0.0, 0.0, 0.0], [0.029299799352884293, 0.08491220325231552, 0.34551262855529785, 0.002530832774937153, 0.004136629868298769, 0.07179918885231018, 0.4369785487651825, 0.024830101057887077, 0.0, 0.0, 0.0, 0.0, 0.0, 0.0, 0.0, 0.0, 0.0, 0.0, 0.0, 0.0, 0.0, 0.0, 0.0, 0.0], [0.14591291546821594, 0.11331691592931747, 0.10264497995376587, 0.039477236568927765, 0.06654274463653564, 0.06052001193165779, 0.16937927901744843, 0.17389936745166779, 0.128306582570076, 0.0, 0.0, 0.0, 0.0, 0.0, 0.0, 0.0, 0.0, 0.0, 0.0, 0.0, 0.0, 0.0, 0.0, 0.0], [0.12523220479488373, 0.11182847619056702, 0.07453716546297073, 0.025312861427664757, 0.08326896280050278, 0.08056953549385071, 0.13206230103969574, 0.17442628741264343, 0.08991914987564087, 0.1028430312871933, 0.0, 0.0, 0.0, 0.0, 0.0, 0.0, 0.0, 0.0, 0.0, 0.0, 0.0, 0.0, 0.0, 0.0], [0.06269994378089905, 0.06096966937184334, 0.03894989565014839, 0.18859261274337769, 0.18719781935214996, 0.10575410723686218, 0.029342597350478172, 0.0648580938577652, 0.048968903720378876, 0.12740953266620636, 0.08525687456130981, 0.0, 0.0, 0.0, 0.0, 0.0, 0.0, 0.0, 0.0, 0.0, 0.0, 0.0, 0.0, 0.0], [0.08709831535816193, 0.09712713956832886, 0.1048770323395729, 0.04180965572595596, 0.06075572222471237, 0.0872928723692894, 0.12545791268348694, 0.09291882812976837, 0.08939036726951599, 0.07342587411403656, 0.060681819915771484, 0.07916437834501266, 0.0, 0.0, 0.0, 0.0, 0.0, 0.0, 0.0, 0.0, 0.0, 0.0, 0.0, 0.0], [0.045017629861831665, 0.06351760029792786, 0.08178538829088211, 0.11376673728227615, 0.07342612743377686, 0.10955292731523514, 0.05310123786330223, 0.03752831742167473, 0.05595666542649269, 0.06622816622257233, 0.10192615538835526, 0.13387145102024078, 0.06432158499956131, 0.0, 0.0, 0.0, 0.0, 0.0, 0.0, 0.0, 0.0, 0.0, 0.0, 0.0], [0.021377820521593094, 0.08514285087585449, 0.19057883322238922, 0.0025497921742498875, 0.010326557792723179, 0.1748935878276825, 0.20718923211097717, 0.02215956151485443, 0.03545994684100151, 0.022721288725733757, 0.014363190159201622, 0.15415038168430328, 0.02496585063636303, 0.0341210663318634, 0.0, 0.0, 0.0, 0.0, 0.0, 0.0, 0.0, 0.0, 0.0, 0.0], [0.04802345484495163, 0.08118749409914017, 0.16736328601837158, 0.01519033219665289, 0.018097344785928726, 0.07444342225790024, 0.1840655356645584, 0.043460238724946976, 0.0751807913184166, 0.030090685933828354, 0.04651658236980438, 0.06924856454133987, 0.04956265911459923, 0.086642786860466, 0.010926884599030018, 0.0, 0.0, 0.0, 0.0, 0.0, 0.0, 0.0, 0.0, 0.0], [0.044810954481363297, 0.05618235096335411, 0.05115935578942299, 0.0729033499956131, 0.08059538900852203, 0.09173297137022018, 0.04105701670050621, 0.04439597949385643, 0.04349805414676666, 0.07113910466432571, 0.058158084750175476, 0.10079718381166458, 0.05361774191260338, 0.03588233143091202, 0.09439331293106079, 0.05967678874731064, 0.0, 0.0, 0.0, 0.0, 0.0, 0.0, 0.0, 0.0], [0.026589782908558846, 0.07603683322668076, 0.15537720918655396, 0.002745506353676319, 0.009662141092121601, 0.10295432060956955, 0.2003326565027237, 0.028424739837646484, 0.040659576654434204, 0.020960267633199692, 0.01436365582048893, 0.08503200858831406, 0.026299195364117622, 0.0448555089533329, 0.003185326000675559, 0.1488940417766571, 0.013627284206449986, 0.0, 0.0, 0.0, 0.0, 0.0, 0.0, 0.0], [0.03262697532773018, 0.05212414637207985, 0.07679464668035507, 0.058952514082193375, 0.042839787900447845, 0.08860047906637192, 0.05218620225787163, 0.02712465077638626, 0.04393297806382179, 0.04366663098335266, 0.06860752403736115, 0.10511237382888794, 0.0461483933031559, 0.036322567611932755, 0.05404214933514595, 0.07190931588411331, 0.05518936738371849, 0.043819330632686615, 0.0, 0.0, 0.0, 0.0, 0.0, 0.0], [0.04609650745987892, 0.07937466353178024, 0.0881536453962326, 0.009596072137355804, 0.03122757375240326, 0.09865793585777283, 0.11657210439443588, 0.05511735379695892, 0.04764195904135704, 0.0466381311416626, 0.021505434066057205, 0.08245047926902771, 0.040896233171224594, 0.04995296150445938, 0.014147683046758175, 0.10278061032295227, 0.02745075337588787, 0.018708664923906326, 0.023031191900372505, 0.0, 0.0, 0.0, 0.0, 0.0], [0.05703754350543022, 0.044398028403520584, 0.021339615806937218, 0.040055736899375916, 0.09385579079389572, 0.04627494141459465, 0.027978966012597084, 0.07675905525684357, 0.03459542244672775, 0.07908082753419876, 0.024881858378648758, 0.040463224053382874, 0.04435344785451889, 0.03384416177868843, 0.07509701699018478, 0.031300414353609085, 0.04503805190324783, 0.09187699854373932, 0.05508612468838692, 0.036682844161987305, 0.0, 0.0, 0.0, 0.0], [0.023465700447559357, 0.05878858268260956, 0.1027495488524437, 0.01734234392642975, 0.024640029296278954, 0.1267135739326477, 0.07704269140958786, 0.020906444638967514, 0.03483821079134941, 0.03293666988611221, 0.03575626015663147, 0.1388881355524063, 0.03309514373540878, 0.028702395036816597, 0.01959587261080742, 0.10331299901008606, 0.031564854085445404, 0.018167221918702126, 0.015244956128299236, 0.048129331320524216, 0.008119030855596066, 0.0, 0.0, 0.0], [0.04431925714015961, 0.05824054405093193, 0.10342969745397568, 0.016708720475435257, 0.017180627211928368, 0.0442558154463768, 0.11959882825613022, 0.04088824614882469, 0.0626477301120758, 0.025889167562127113, 0.040562085807323456, 0.04074287787079811, 0.04247695952653885, 0.0751190185546875, 0.01151968538761139, 0.07910982519388199, 0.029090486466884613, 0.012706208042800426, 0.02996147610247135, 0.036405548453330994, 0.03475834056735039, 0.034388910979032516, 0.0, 0.0], [0.05221661552786827, 0.0558059960603714, 0.0733109638094902, 0.013265849091112614, 0.019778737798333168, 0.03515966236591339, 0.10612458735704422, 0.05571327358484268, 0.05918227136135101, 0.02917301654815674, 0.02869490534067154, 0.02912665344774723, 0.04113471508026123, 0.07631346583366394, 0.011048137210309505, 0.06293935328722, 0.02576601691544056, 0.014026341959834099, 0.03351522237062454, 0.028816649690270424, 0.051732178777456284, 0.049927469342947006, 0.04722795635461807, 0.0], [0.043959349393844604, 0.04486739635467529, 0.05949452891945839, 0.034751590341329575, 0.02790793403983116, 0.036095526069402695, 0.061709292232990265, 0.040776047855615616, 0.05231345817446709, 0.03219399228692055, 0.04774194210767746, 0.03556782379746437, 0.04345889016985893, 0.05769311636686325, 0.02615535259246826, 0.04977754130959511, 0.03803534805774689, 0.02625429257750511, 0.04087899997830391, 0.04055299237370491, 0.04454987123608589, 0.03913096338510513, 0.03670934960246086, 0.03942443057894707]]]}\n",
       "    )\n",
       "    </script>"
      ],
      "text/plain": [
       "<circuitsvis.utils.render.RenderedHTML at 0x42e67f8f0>"
      ]
     },
     "metadata": {},
     "output_type": "display_data"
    },
    {
     "name": "stdout",
     "output_type": "stream",
     "text": [
      "Layer:  1\n"
     ]
    },
    {
     "data": {
      "text/html": [
       "<div id=\"circuits-vis-4c0f1df3-435d\" style=\"margin: 15px 0;\"/>\n",
       "    <script crossorigin type=\"module\">\n",
       "    import { render, AttentionPatterns } from \"https://unpkg.com/circuitsvis@1.43.2/dist/cdn/esm.js\";\n",
       "    render(\n",
       "      \"circuits-vis-4c0f1df3-435d\",\n",
       "      AttentionPatterns,\n",
       "      {\"tokens\": [\"<\", \"a\", \"a\", \"a\", \"d\", \"h\", \"n\", \"|\", \"n\", \"h\", \"d\", \"a\", \"a\", \"a\", \"|\", \"a\", \"a\", \"a\", \"d\", \"h\", \"n\", \">\", \">\", \">\"], \"attention\": [[[1.0, 0.0, 0.0, 0.0, 0.0, 0.0, 0.0, 0.0, 0.0, 0.0, 0.0, 0.0, 0.0, 0.0, 0.0, 0.0, 0.0, 0.0, 0.0, 0.0, 0.0, 0.0, 0.0, 0.0], [0.5037322044372559, 0.49626776576042175, 0.0, 0.0, 0.0, 0.0, 0.0, 0.0, 0.0, 0.0, 0.0, 0.0, 0.0, 0.0, 0.0, 0.0, 0.0, 0.0, 0.0, 0.0, 0.0, 0.0, 0.0, 0.0], [0.3216771185398102, 0.3235931396484375, 0.35472971200942993, 0.0, 0.0, 0.0, 0.0, 0.0, 0.0, 0.0, 0.0, 0.0, 0.0, 0.0, 0.0, 0.0, 0.0, 0.0, 0.0, 0.0, 0.0, 0.0, 0.0, 0.0], [0.2466060370206833, 0.26135942339897156, 0.3786645233631134, 0.11336996406316757, 0.0, 0.0, 0.0, 0.0, 0.0, 0.0, 0.0, 0.0, 0.0, 0.0, 0.0, 0.0, 0.0, 0.0, 0.0, 0.0, 0.0, 0.0, 0.0, 0.0], [0.2004099041223526, 0.1975608766078949, 0.24832011759281158, 0.14791502058506012, 0.20579411089420319, 0.0, 0.0, 0.0, 0.0, 0.0, 0.0, 0.0, 0.0, 0.0, 0.0, 0.0, 0.0, 0.0, 0.0, 0.0, 0.0, 0.0, 0.0, 0.0], [0.21694156527519226, 0.2487000823020935, 0.14838095009326935, 0.21536339819431305, 0.09655855596065521, 0.0740555003285408, 0.0, 0.0, 0.0, 0.0, 0.0, 0.0, 0.0, 0.0, 0.0, 0.0, 0.0, 0.0, 0.0, 0.0, 0.0, 0.0, 0.0, 0.0], [0.1765393763780594, 0.2573851943016052, 0.12417374551296234, 0.14151214063167572, 0.05314766243100166, 0.21323725581169128, 0.03400460630655289, 0.0, 0.0, 0.0, 0.0, 0.0, 0.0, 0.0, 0.0, 0.0, 0.0, 0.0, 0.0, 0.0, 0.0, 0.0, 0.0, 0.0], [0.026887284591794014, 0.02351042442023754, 0.019588876515626907, 0.08012301474809647, 0.06466065347194672, 0.031143421307206154, 0.042288437485694885, 0.711797833442688, 0.0, 0.0, 0.0, 0.0, 0.0, 0.0, 0.0, 0.0, 0.0, 0.0, 0.0, 0.0, 0.0, 0.0, 0.0, 0.0], [0.03196221590042114, 0.03728726878762245, 0.03411956876516342, 0.03545568510890007, 0.03667377308011055, 0.1683555543422699, 0.05998457595705986, 0.45774152874946594, 0.1384197622537613, 0.0, 0.0, 0.0, 0.0, 0.0, 0.0, 0.0, 0.0, 0.0, 0.0, 0.0, 0.0, 0.0, 0.0, 0.0], [0.059502217918634415, 0.05055319517850876, 0.07696855068206787, 0.06007267162203789, 0.10903454571962357, 0.07685965299606323, 0.1665983647108078, 0.10663359612226486, 0.13554473221302032, 0.15823248028755188, 0.0, 0.0, 0.0, 0.0, 0.0, 0.0, 0.0, 0.0, 0.0, 0.0, 0.0, 0.0, 0.0, 0.0], [0.12987488508224487, 0.20718318223953247, 0.09736645966768265, 0.08486761897802353, 0.03190774843096733, 0.2440793514251709, 0.024916816502809525, 0.06801608949899673, 0.026173215359449387, 0.012253307737410069, 0.07336132228374481, 0.0, 0.0, 0.0, 0.0, 0.0, 0.0, 0.0, 0.0, 0.0, 0.0, 0.0, 0.0, 0.0], [0.20792768895626068, 0.24348744750022888, 0.12387457489967346, 0.1812688112258911, 0.060056187212467194, 0.028732281178236008, 0.01799381710588932, 0.005940482951700687, 0.01162957027554512, 0.04191478341817856, 0.015990981832146645, 0.061183441430330276, 0.0, 0.0, 0.0, 0.0, 0.0, 0.0, 0.0, 0.0, 0.0, 0.0, 0.0, 0.0], [0.14994245767593384, 0.1743503212928772, 0.09468595683574677, 0.16640351712703705, 0.06551958620548248, 0.049035415053367615, 0.0261540524661541, 0.03070177137851715, 0.033232904970645905, 0.044644422829151154, 0.03967815637588501, 0.06822382658720016, 0.057427629828453064, 0.0, 0.0, 0.0, 0.0, 0.0, 0.0, 0.0, 0.0, 0.0, 0.0, 0.0], [0.062406133860349655, 0.06269431859254837, 0.05566529929637909, 0.07868602871894836, 0.06728600710630417, 0.06311776489019394, 0.05726906657218933, 0.11733187735080719, 0.09395343065261841, 0.06325322389602661, 0.08279882371425629, 0.059114981442689896, 0.07086379081010818, 0.06555933505296707, 0.0, 0.0, 0.0, 0.0, 0.0, 0.0, 0.0, 0.0, 0.0, 0.0], [0.1457594931125641, 0.13824918866157532, 0.11972743272781372, 0.1158381998538971, 0.07910365611314774, 0.020287547260522842, 0.03735446557402611, 0.004078036639839411, 0.013858772814273834, 0.09100349992513657, 0.01416049525141716, 0.05265190824866295, 0.0263929832726717, 0.048097457736730576, 0.09343686699867249, 0.0, 0.0, 0.0, 0.0, 0.0, 0.0, 0.0, 0.0, 0.0], [0.01527668721973896, 0.011968716979026794, 0.018045008182525635, 0.026658644899725914, 0.04975070059299469, 0.02759973332285881, 0.07201827317476273, 0.21408182382583618, 0.17187263071537018, 0.07727190852165222, 0.08356030285358429, 0.022925544530153275, 0.03868531063199043, 0.06313137710094452, 0.012348918244242668, 0.09480447322130203, 0.0, 0.0, 0.0, 0.0, 0.0, 0.0, 0.0, 0.0], [0.07675082981586456, 0.08846642822027206, 0.10195907205343246, 0.033221498131752014, 0.04105594381690025, 0.11137360334396362, 0.06774014234542847, 0.01255716010928154, 0.016261206939816475, 0.03601738065481186, 0.03359046205878258, 0.10319194197654724, 0.06169172376394272, 0.046354204416275024, 0.09572406858205795, 0.01999073289334774, 0.05405360087752342, 0.0, 0.0, 0.0, 0.0, 0.0, 0.0, 0.0], [0.04788815230131149, 0.03328040987253189, 0.03198800981044769, 0.12938636541366577, 0.1026766300201416, 0.005676686763763428, 0.034304484724998474, 0.037725046277046204, 0.09299451857805252, 0.18202725052833557, 0.027840469032526016, 0.015228677541017532, 0.017452020198106766, 0.06168213486671448, 0.02050292305648327, 0.052699483931064606, 0.06216723099350929, 0.044479478150606155, 0.0, 0.0, 0.0, 0.0, 0.0, 0.0], [0.02210669033229351, 0.027270996943116188, 0.03823172673583031, 0.010008403100073338, 0.01936187967658043, 0.22875209152698517, 0.07439063489437103, 0.07684389501810074, 0.03350384905934334, 0.0148668447509408, 0.07727909833192825, 0.08464344590902328, 0.08775509893894196, 0.036341629922389984, 0.04339824989438057, 0.040476154536008835, 0.021906064823269844, 0.04778170958161354, 0.015081506222486496, 0.0, 0.0, 0.0, 0.0, 0.0], [0.003678374458104372, 0.002947055734694004, 0.009128616191446781, 0.0031450146343559027, 0.019014298915863037, 0.06419262290000916, 0.13663332164287567, 0.24114170670509338, 0.12358422577381134, 0.03409135341644287, 0.09682740271091461, 0.023365430533885956, 0.040942154824733734, 0.0488758385181427, 0.004416173789650202, 0.052367646247148514, 0.007496659643948078, 0.056730691343545914, 0.01474983710795641, 0.01667157933115959, 0.0, 0.0, 0.0, 0.0], [0.08603598177433014, 0.10859774798154831, 0.05081363022327423, 0.09795008599758148, 0.03231078013777733, 0.03709063678979874, 0.012544961646199226, 0.026469290256500244, 0.020541563630104065, 0.01824565790593624, 0.02779165282845497, 0.042455464601516724, 0.03981705754995346, 0.022075846791267395, 0.10445743054151535, 0.04071683809161186, 0.061643749475479126, 0.02679421752691269, 0.05414286255836487, 0.05663641169667244, 0.03286813944578171, 0.0, 0.0, 0.0], [0.04246930778026581, 0.038557350635528564, 0.029172580689191818, 0.08070731163024902, 0.05082903802394867, 0.015163358300924301, 0.02316395565867424, 0.05380196124315262, 0.060297105461359024, 0.05400976538658142, 0.034974511712789536, 0.02195281907916069, 0.027007296681404114, 0.03732389584183693, 0.0319305844604969, 0.05711963027715683, 0.04743805527687073, 0.037757616490125656, 0.08109106868505478, 0.0960884764790535, 0.03724953159689903, 0.041894733905792236, 0.0, 0.0], [0.03152409568428993, 0.027800502255558968, 0.027722574770450592, 0.04948623850941658, 0.0478784404695034, 0.020917603746056557, 0.03597177192568779, 0.06375529617071152, 0.0681532546877861, 0.05726485326886177, 0.042383283376693726, 0.024877408519387245, 0.03077402338385582, 0.04346272721886635, 0.025102129206061363, 0.055031824856996536, 0.038211673498153687, 0.043149352073669434, 0.06173503398895264, 0.07040606439113617, 0.04160306975245476, 0.04575538635253906, 0.0470334067940712, 0.0], [0.04114549979567528, 0.03611011058092117, 0.030858676880598068, 0.07096165418624878, 0.05258529633283615, 0.014482175931334496, 0.027059337124228477, 0.04074788838624954, 0.05407647043466568, 0.061654094606637955, 0.031353581696748734, 0.02223213203251362, 0.02511327713727951, 0.039632126688957214, 0.02920340746641159, 0.04650680348277092, 0.0456882119178772, 0.03671666234731674, 0.0692950189113617, 0.0778549388051033, 0.033664289861917496, 0.03632941469550133, 0.0419093519449234, 0.03481954336166382]], [[1.0, 0.0, 0.0, 0.0, 0.0, 0.0, 0.0, 0.0, 0.0, 0.0, 0.0, 0.0, 0.0, 0.0, 0.0, 0.0, 0.0, 0.0, 0.0, 0.0, 0.0, 0.0, 0.0, 0.0], [0.5562552213668823, 0.4437447786331177, 0.0, 0.0, 0.0, 0.0, 0.0, 0.0, 0.0, 0.0, 0.0, 0.0, 0.0, 0.0, 0.0, 0.0, 0.0, 0.0, 0.0, 0.0, 0.0, 0.0, 0.0, 0.0], [0.3702297508716583, 0.39149168133735657, 0.23827852308750153, 0.0, 0.0, 0.0, 0.0, 0.0, 0.0, 0.0, 0.0, 0.0, 0.0, 0.0, 0.0, 0.0, 0.0, 0.0, 0.0, 0.0, 0.0, 0.0, 0.0, 0.0], [0.2625276446342468, 0.3604775369167328, 0.29158222675323486, 0.08541254699230194, 0.0, 0.0, 0.0, 0.0, 0.0, 0.0, 0.0, 0.0, 0.0, 0.0, 0.0, 0.0, 0.0, 0.0, 0.0, 0.0, 0.0, 0.0, 0.0, 0.0], [0.1780083328485489, 0.13711921870708466, 0.31195148825645447, 0.16558873653411865, 0.20733225345611572, 0.0, 0.0, 0.0, 0.0, 0.0, 0.0, 0.0, 0.0, 0.0, 0.0, 0.0, 0.0, 0.0, 0.0, 0.0, 0.0, 0.0, 0.0, 0.0], [0.059757523238658905, 0.0567302480340004, 0.03607715666294098, 0.3544732332229614, 0.4902145266532898, 0.002747324761003256, 0.0, 0.0, 0.0, 0.0, 0.0, 0.0, 0.0, 0.0, 0.0, 0.0, 0.0, 0.0, 0.0, 0.0, 0.0, 0.0, 0.0, 0.0], [0.17319774627685547, 0.2431866079568863, 0.06292873620986938, 0.1934988647699356, 0.12824419140815735, 0.15456414222717285, 0.04437968134880066, 0.0, 0.0, 0.0, 0.0, 0.0, 0.0, 0.0, 0.0, 0.0, 0.0, 0.0, 0.0, 0.0, 0.0, 0.0, 0.0, 0.0], [0.11168773472309113, 0.09197504073381424, 0.15011246502399445, 0.10622448474168777, 0.11916717141866684, 0.13339149951934814, 0.2110796570777893, 0.0763620063662529, 0.0, 0.0, 0.0, 0.0, 0.0, 0.0, 0.0, 0.0, 0.0, 0.0, 0.0, 0.0, 0.0, 0.0, 0.0, 0.0], [0.0413980707526207, 0.05798444151878357, 0.048853084444999695, 0.007451339159160852, 0.004733201116323471, 0.6729558110237122, 0.044193606823682785, 0.10641340166330338, 0.01601712964475155, 0.0, 0.0, 0.0, 0.0, 0.0, 0.0, 0.0, 0.0, 0.0, 0.0, 0.0, 0.0, 0.0, 0.0, 0.0], [0.0784154012799263, 0.06444326043128967, 0.07874321937561035, 0.15023355185985565, 0.18379703164100647, 0.028557464480400085, 0.09327086806297302, 0.04639992490410805, 0.12179475277662277, 0.1543445736169815, 0.0, 0.0, 0.0, 0.0, 0.0, 0.0, 0.0, 0.0, 0.0, 0.0, 0.0, 0.0, 0.0, 0.0], [0.02066829800605774, 0.03337698429822922, 0.020169969648122787, 0.0022279005497694016, 0.001112239551730454, 0.8276991248130798, 0.0181286484003067, 0.06422830373048782, 0.004355961922556162, 0.000889162125531584, 0.007143468130379915, 0.0, 0.0, 0.0, 0.0, 0.0, 0.0, 0.0, 0.0, 0.0, 0.0, 0.0, 0.0, 0.0], [0.07476446777582169, 0.057318732142448425, 0.0644521713256836, 0.0981253832578659, 0.10000740736722946, 0.06525639444589615, 0.11674967408180237, 0.027837054803967476, 0.07067599892616272, 0.03364229574799538, 0.20006872713565826, 0.09110172092914581, 0.0, 0.0, 0.0, 0.0, 0.0, 0.0, 0.0, 0.0, 0.0, 0.0, 0.0, 0.0], [0.1240527480840683, 0.16957183182239532, 0.02850661426782608, 0.14614513516426086, 0.08052529394626617, 0.12897272408008575, 0.026549207046628, 0.08829987049102783, 0.019345562905073166, 0.0300152525305748, 0.09616049379110336, 0.0536641851067543, 0.008191057480871677, 0.0, 0.0, 0.0, 0.0, 0.0, 0.0, 0.0, 0.0, 0.0, 0.0, 0.0], [0.07099562883377075, 0.06668803095817566, 0.05977009981870651, 0.10717954486608505, 0.11277268826961517, 0.037931833416223526, 0.0627293735742569, 0.05293155461549759, 0.07451965659856796, 0.09760349988937378, 0.08793214708566666, 0.06315088272094727, 0.06007114052772522, 0.04572395235300064, 0.0, 0.0, 0.0, 0.0, 0.0, 0.0, 0.0, 0.0, 0.0, 0.0], [0.05254333093762398, 0.04035401716828346, 0.0458681546151638, 0.13073457777500153, 0.16298331320285797, 0.013481222093105316, 0.0609247200191021, 0.02277624048292637, 0.08024504780769348, 0.10554865747690201, 0.1141577884554863, 0.05064791068434715, 0.05543217435479164, 0.028720593079924583, 0.03558225557208061, 0.0, 0.0, 0.0, 0.0, 0.0, 0.0, 0.0, 0.0, 0.0], [0.02515547163784504, 0.01498325914144516, 0.07286692410707474, 0.02280290424823761, 0.03534237667918205, 0.033043891191482544, 0.15428978204727173, 0.012009060941636562, 0.09289664775133133, 0.02176487259566784, 0.08749595284461975, 0.066238172352314, 0.15225665271282196, 0.12869474291801453, 0.024736877530813217, 0.05542238801717758, 0.0, 0.0, 0.0, 0.0, 0.0, 0.0, 0.0, 0.0], [0.014388888143002987, 0.01377958059310913, 0.03762532398104668, 0.0016430302057415247, 0.0012886691838502884, 0.5875394940376282, 0.07005946338176727, 0.020138923078775406, 0.01124433521181345, 0.0006372491479851305, 0.01762177236378193, 0.04336003586649895, 0.030969075858592987, 0.09154047071933746, 0.025946952402591705, 0.01366520393639803, 0.018551578745245934, 0.0, 0.0, 0.0, 0.0, 0.0, 0.0, 0.0], [0.0182152409106493, 0.0104916887357831, 0.013593216426670551, 0.15930309891700745, 0.2727348506450653, 0.0006456454866565764, 0.021848145872354507, 0.0033258190378546715, 0.05274636670947075, 0.14031808078289032, 0.08560822904109955, 0.015275981277227402, 0.02305077202618122, 0.005247616674751043, 0.007810228504240513, 0.029487593099474907, 0.13741451501846313, 0.002882929751649499, 0.0, 0.0, 0.0, 0.0, 0.0, 0.0], [0.011254946701228619, 0.017019156366586685, 0.02477564662694931, 0.0008527466561645269, 0.0005461551481857896, 0.6408030986785889, 0.02019117958843708, 0.057453710585832596, 0.005593686830252409, 0.0009117811569012702, 0.0032760777976363897, 0.02115832455456257, 0.018026893958449364, 0.09361669421195984, 0.029723195359110832, 0.008874865248799324, 0.0024552475661039352, 0.042439185082912445, 0.0010274050291627645, 0.0, 0.0, 0.0, 0.0, 0.0], [0.018076272681355476, 0.015763644129037857, 0.06608778983354568, 0.007617258466780186, 0.010328518226742744, 0.05841323733329773, 0.07041432708501816, 0.03356402739882469, 0.05669392645359039, 0.02171802893280983, 0.016946781426668167, 0.04137631878256798, 0.1465987265110016, 0.2609657049179077, 0.029846573248505592, 0.04051845148205757, 0.025438204407691956, 0.05200842767953873, 0.008830795995891094, 0.01879296638071537, 0.0, 0.0, 0.0, 0.0], [0.05278318375349045, 0.061535581946372986, 0.02880018576979637, 0.08035431802272797, 0.07002893835306168, 0.026652002707123756, 0.02233497053384781, 0.053703732788562775, 0.03181302919983864, 0.07302659004926682, 0.03902262821793556, 0.031816013157367706, 0.021131236106157303, 0.017522476613521576, 0.045143648982048035, 0.037601593881845474, 0.030998706817626953, 0.07430049777030945, 0.051771827042102814, 0.041121821850538254, 0.10853702574968338, 0.0, 0.0, 0.0], [0.020577015355229378, 0.028797589242458344, 0.0032982113771140575, 0.13845175504684448, 0.11107797175645828, 0.0009025855106301606, 0.0015472256345674396, 0.016078578308224678, 0.006895611062645912, 0.13814741373062134, 0.010859182104468346, 0.004143564961850643, 0.0016858658054843545, 0.000657644821330905, 0.01068609394133091, 0.009338464587926865, 0.006313321180641651, 0.05933115631341934, 0.03206527233123779, 0.013282136991620064, 0.16288457810878754, 0.22297883033752441, 0.0, 0.0], [0.011318103410303593, 0.01572803407907486, 0.0016956552863121033, 0.1062563806772232, 0.09165316820144653, 0.00027455470990389585, 0.000717084389179945, 0.008667812682688236, 0.004389035515487194, 0.13705217838287354, 0.005784874316304922, 0.0019989078864455223, 0.0009622109937481582, 0.0003208547714166343, 0.00548014510422945, 0.005560413468629122, 0.0034567671827971935, 0.046242907643318176, 0.019343050196766853, 0.007519644219428301, 0.09519679844379425, 0.20712345838546753, 0.22325794398784637, 0.0], [0.009853008203208447, 0.01464155688881874, 0.001161901163868606, 0.09597551077604294, 0.07536156475543976, 0.0002315265592187643, 0.0004648132307920605, 0.007557522971183062, 0.002852620556950569, 0.10369085520505905, 0.004540059715509415, 0.0014819558709859848, 0.0005464355926960707, 0.00017912824114318937, 0.004574349150061607, 0.004009336233139038, 0.0024235842283815145, 0.038468148559331894, 0.01630050502717495, 0.005848926957696676, 0.11072557419538498, 0.1835993528366089, 0.20227327942848206, 0.11323853582143784]], [[1.0, 0.0, 0.0, 0.0, 0.0, 0.0, 0.0, 0.0, 0.0, 0.0, 0.0, 0.0, 0.0, 0.0, 0.0, 0.0, 0.0, 0.0, 0.0, 0.0, 0.0, 0.0, 0.0, 0.0], [0.6497098803520203, 0.35029008984565735, 0.0, 0.0, 0.0, 0.0, 0.0, 0.0, 0.0, 0.0, 0.0, 0.0, 0.0, 0.0, 0.0, 0.0, 0.0, 0.0, 0.0, 0.0, 0.0, 0.0, 0.0, 0.0], [0.338336706161499, 0.30068546533584595, 0.36097779870033264, 0.0, 0.0, 0.0, 0.0, 0.0, 0.0, 0.0, 0.0, 0.0, 0.0, 0.0, 0.0, 0.0, 0.0, 0.0, 0.0, 0.0, 0.0, 0.0, 0.0, 0.0], [0.15842442214488983, 0.2657691240310669, 0.4861159920692444, 0.0896904468536377, 0.0, 0.0, 0.0, 0.0, 0.0, 0.0, 0.0, 0.0, 0.0, 0.0, 0.0, 0.0, 0.0, 0.0, 0.0, 0.0, 0.0, 0.0, 0.0, 0.0], [0.035013407468795776, 0.11704819649457932, 0.34508615732192993, 0.1936825066804886, 0.3091697096824646, 0.0, 0.0, 0.0, 0.0, 0.0, 0.0, 0.0, 0.0, 0.0, 0.0, 0.0, 0.0, 0.0, 0.0, 0.0, 0.0, 0.0, 0.0, 0.0], [0.14864128828048706, 0.12665210664272308, 0.09257098287343979, 0.32690516114234924, 0.11891684681177139, 0.18631364405155182, 0.0, 0.0, 0.0, 0.0, 0.0, 0.0, 0.0, 0.0, 0.0, 0.0, 0.0, 0.0, 0.0, 0.0, 0.0, 0.0, 0.0, 0.0], [0.0461488775908947, 0.14476826786994934, 0.25566110014915466, 0.2989785671234131, 0.09008076786994934, 0.12756258249282837, 0.036799829453229904, 0.0, 0.0, 0.0, 0.0, 0.0, 0.0, 0.0, 0.0, 0.0, 0.0, 0.0, 0.0, 0.0, 0.0, 0.0, 0.0, 0.0], [0.14119631052017212, 0.18811778724193573, 0.14543862640857697, 0.2349313199520111, 0.04382989928126335, 0.14494985342025757, 0.018000401556491852, 0.08353577554225922, 0.0, 0.0, 0.0, 0.0, 0.0, 0.0, 0.0, 0.0, 0.0, 0.0, 0.0, 0.0, 0.0, 0.0, 0.0, 0.0], [0.045576103031635284, 0.17953407764434814, 0.35445907711982727, 0.13088563084602356, 0.04754070192575455, 0.08626659214496613, 0.030488204210996628, 0.07698515057563782, 0.048264481127262115, 0.0, 0.0, 0.0, 0.0, 0.0, 0.0, 0.0, 0.0, 0.0, 0.0, 0.0, 0.0, 0.0, 0.0, 0.0], [0.02246992290019989, 0.09543062001466751, 0.27795806527137756, 0.14246810972690582, 0.12412276864051819, 0.07847972214221954, 0.09248046576976776, 0.03143595904111862, 0.09717071056365967, 0.03798362985253334, 0.0, 0.0, 0.0, 0.0, 0.0, 0.0, 0.0, 0.0, 0.0, 0.0, 0.0, 0.0, 0.0, 0.0], [0.09729994833469391, 0.13843730092048645, 0.1497722566127777, 0.03273125737905502, 0.029829958453774452, 0.05549818277359009, 0.04707760736346245, 0.29368776082992554, 0.047976117581129074, 0.058013275265693665, 0.049676358699798584, 0.0, 0.0, 0.0, 0.0, 0.0, 0.0, 0.0, 0.0, 0.0, 0.0, 0.0, 0.0, 0.0], [0.037902604788541794, 0.030680736526846886, 0.033208560198545456, 0.15683455765247345, 0.19286571443080902, 0.08354457467794418, 0.11944746226072311, 0.012178756296634674, 0.11104124039411545, 0.07439828664064407, 0.11216612905263901, 0.03573128953576088, 0.0, 0.0, 0.0, 0.0, 0.0, 0.0, 0.0, 0.0, 0.0, 0.0, 0.0, 0.0], [0.056552279740571976, 0.0397842675447464, 0.03814338892698288, 0.09064578264951706, 0.14081355929374695, 0.07496040314435959, 0.1314534693956375, 0.03159867972135544, 0.10827786475419998, 0.08349242061376572, 0.11080285161733627, 0.05078187584877014, 0.04269319400191307, 0.0, 0.0, 0.0, 0.0, 0.0, 0.0, 0.0, 0.0, 0.0, 0.0, 0.0], [0.025689128786325455, 0.06806252896785736, 0.11388056725263596, 0.3309360146522522, 0.09284085035324097, 0.09974083304405212, 0.027184566482901573, 0.009326216764748096, 0.05030885338783264, 0.04104671627283096, 0.04780995100736618, 0.041987333446741104, 0.0190044604241848, 0.032181985676288605, 0.0, 0.0, 0.0, 0.0, 0.0, 0.0, 0.0, 0.0, 0.0, 0.0], [0.038517579436302185, 0.02155071124434471, 0.020336143672466278, 0.07363986223936081, 0.1662510484457016, 0.05794620141386986, 0.16211359202861786, 0.016520805656909943, 0.11268283426761627, 0.07167122513055801, 0.11877377331256866, 0.0354531891644001, 0.025571972131729126, 0.058689359575510025, 0.020281722769141197, 0.0, 0.0, 0.0, 0.0, 0.0, 0.0, 0.0, 0.0, 0.0], [0.022339461371302605, 0.03992738574743271, 0.06639278680086136, 0.16719681024551392, 0.13043344020843506, 0.07221881300210953, 0.06685732305049896, 0.010219108313322067, 0.07613620907068253, 0.04312983527779579, 0.08101199567317963, 0.056621428579092026, 0.01814437098801136, 0.045404043048620224, 0.061794836074113846, 0.04217211529612541, 0.0, 0.0, 0.0, 0.0, 0.0, 0.0, 0.0, 0.0], [0.007491579279303551, 0.012798973359167576, 0.027064036577939987, 0.034952010959386826, 0.0809427946805954, 0.0225367434322834, 0.08114991337060928, 0.006212096661329269, 0.05460957810282707, 0.017643189057707787, 0.06967730820178986, 0.061612099409103394, 0.008452480658888817, 0.035260289907455444, 0.019986262544989586, 0.03319232910871506, 0.426418274641037, 0.0, 0.0, 0.0, 0.0, 0.0, 0.0, 0.0], [0.05847116559743881, 0.06060941144824028, 0.054051563143730164, 0.1751236617565155, 0.07358864694833755, 0.09240245074033737, 0.03324194997549057, 0.02236965484917164, 0.051061902195215225, 0.06683430820703506, 0.04436318576335907, 0.023994335904717445, 0.036861125379800797, 0.035395827144384384, 0.06584664434194565, 0.033943451941013336, 0.0379173681139946, 0.03392334654927254, 0.0, 0.0, 0.0, 0.0, 0.0, 0.0], [0.01335264090448618, 0.0403580404818058, 0.08819020539522171, 0.01252495963126421, 0.017076745629310608, 0.016502948477864265, 0.028275618329644203, 0.053031083196401596, 0.02357996441423893, 0.012700002640485764, 0.029798446223139763, 0.15414240956306458, 0.03117350861430168, 0.042401302605867386, 0.060523808002471924, 0.043424367904663086, 0.27444931864738464, 0.03388356789946556, 0.02461102418601513, 0.0, 0.0, 0.0, 0.0, 0.0], [0.00730179063975811, 0.023133156821131706, 0.05704664811491966, 0.02992171049118042, 0.032535094767808914, 0.019808107987046242, 0.028835026547312737, 0.010547871701419353, 0.02731635980308056, 0.011588224209845066, 0.03370661288499832, 0.07753504067659378, 0.011163554154336452, 0.027624547481536865, 0.04167334362864494, 0.026599708944559097, 0.4193977415561676, 0.004838686902076006, 0.0800088569521904, 0.02941792458295822, 0.0, 0.0, 0.0, 0.0], [0.05333075299859047, 0.04743122681975365, 0.03138462454080582, 0.009413349442183971, 0.005576523020863533, 0.018121397122740746, 0.007862328551709652, 0.12901712954044342, 0.009893596172332764, 0.022252390161156654, 0.008765504695475101, 0.020489679649472237, 0.07119761407375336, 0.020193299278616905, 0.0351974256336689, 0.021781248971819878, 0.00355784990824759, 0.4070909023284912, 0.0027286619879305363, 0.005618931259959936, 0.06909569352865219, 0.0, 0.0, 0.0], [0.04882437363266945, 0.04640468582510948, 0.03768414631485939, 0.01169145293533802, 0.010798384435474873, 0.021557731553912163, 0.01716049574315548, 0.11830492317676544, 0.01749955490231514, 0.026758410036563873, 0.01697658933699131, 0.036758556962013245, 0.06886298954486847, 0.031299132853746414, 0.037894293665885925, 0.033279191702604294, 0.010664694011211395, 0.21677625179290771, 0.006263554561883211, 0.009877890348434448, 0.0617091991007328, 0.11295346915721893, 0.0, 0.0], [0.04276469349861145, 0.04786888137459755, 0.04968077689409256, 0.015188300050795078, 0.01972487010061741, 0.02572913095355034, 0.03355636075139046, 0.1056722030043602, 0.029089871793985367, 0.030413147062063217, 0.030842401087284088, 0.06739842146635056, 0.06506052613258362, 0.04665938764810562, 0.04465483874082565, 0.04884166643023491, 0.0346757210791111, 0.11819540709257126, 0.01434106845408678, 0.016653627157211304, 0.05100170895457268, 0.035129353404045105, 0.026857541874051094, 0.0], [0.04465189948678017, 0.03459674492478371, 0.026508022099733353, 0.01035598199814558, 0.012313306331634521, 0.01957884058356285, 0.020965538918972015, 0.09478728473186493, 0.01905032992362976, 0.027074994519352913, 0.018686892464756966, 0.030830731615424156, 0.058178309351205826, 0.030306315049529076, 0.026701325550675392, 0.032086681574583054, 0.009137784130871296, 0.14286907017230988, 0.006742401048541069, 0.010922478511929512, 0.05915693938732147, 0.09395260363817215, 0.07349883764982224, 0.09704666584730148]], [[1.0, 0.0, 0.0, 0.0, 0.0, 0.0, 0.0, 0.0, 0.0, 0.0, 0.0, 0.0, 0.0, 0.0, 0.0, 0.0, 0.0, 0.0, 0.0, 0.0, 0.0, 0.0, 0.0, 0.0], [0.506334125995636, 0.49366581439971924, 0.0, 0.0, 0.0, 0.0, 0.0, 0.0, 0.0, 0.0, 0.0, 0.0, 0.0, 0.0, 0.0, 0.0, 0.0, 0.0, 0.0, 0.0, 0.0, 0.0, 0.0, 0.0], [0.38549405336380005, 0.367999404668808, 0.24650658667087555, 0.0, 0.0, 0.0, 0.0, 0.0, 0.0, 0.0, 0.0, 0.0, 0.0, 0.0, 0.0, 0.0, 0.0, 0.0, 0.0, 0.0, 0.0, 0.0, 0.0, 0.0], [0.2727862596511841, 0.2954460382461548, 0.2643425464630127, 0.16742511093616486, 0.0, 0.0, 0.0, 0.0, 0.0, 0.0, 0.0, 0.0, 0.0, 0.0, 0.0, 0.0, 0.0, 0.0, 0.0, 0.0, 0.0, 0.0, 0.0, 0.0], [0.3011365234851837, 0.3373483717441559, 0.23911002278327942, 0.044347815215587616, 0.07805725932121277, 0.0, 0.0, 0.0, 0.0, 0.0, 0.0, 0.0, 0.0, 0.0, 0.0, 0.0, 0.0, 0.0, 0.0, 0.0, 0.0, 0.0, 0.0, 0.0], [0.18435178697109222, 0.16604691743850708, 0.15668229758739471, 0.2019473910331726, 0.2310032844543457, 0.05996836721897125, 0.0, 0.0, 0.0, 0.0, 0.0, 0.0, 0.0, 0.0, 0.0, 0.0, 0.0, 0.0, 0.0, 0.0, 0.0, 0.0, 0.0, 0.0], [0.26608017086982727, 0.2647017538547516, 0.1820545345544815, 0.0809548869729042, 0.1338605135679245, 0.033322978764772415, 0.039025090634822845, 0.0, 0.0, 0.0, 0.0, 0.0, 0.0, 0.0, 0.0, 0.0, 0.0, 0.0, 0.0, 0.0, 0.0, 0.0, 0.0, 0.0], [0.03630051761865616, 0.02966414950788021, 0.03940381854772568, 0.2156292051076889, 0.14758077263832092, 0.0652308538556099, 0.34006360173225403, 0.12612709403038025, 0.0, 0.0, 0.0, 0.0, 0.0, 0.0, 0.0, 0.0, 0.0, 0.0, 0.0, 0.0, 0.0, 0.0, 0.0, 0.0], [0.11367418617010117, 0.11602780222892761, 0.09612966328859329, 0.08885668963193893, 0.09858380258083344, 0.10066596418619156, 0.08660731464624405, 0.19358986616134644, 0.10586468875408173, 0.0, 0.0, 0.0, 0.0, 0.0, 0.0, 0.0, 0.0, 0.0, 0.0, 0.0, 0.0, 0.0, 0.0, 0.0], [0.13811956346035004, 0.12005593627691269, 0.06946492195129395, 0.08375683426856995, 0.14011651277542114, 0.01177768874913454, 0.044318702071905136, 0.23553967475891113, 0.09375166893005371, 0.0630984753370285, 0.0, 0.0, 0.0, 0.0, 0.0, 0.0, 0.0, 0.0, 0.0, 0.0, 0.0, 0.0, 0.0, 0.0], [0.15364013612270355, 0.20618484914302826, 0.21674592792987823, 0.02725076489150524, 0.031318116933107376, 0.2648482620716095, 0.021688193082809448, 0.018401360139250755, 0.006923596374690533, 0.047964226454496384, 0.005034558475017548, 0.0, 0.0, 0.0, 0.0, 0.0, 0.0, 0.0, 0.0, 0.0, 0.0, 0.0, 0.0, 0.0], [0.18227437138557434, 0.20277482271194458, 0.16354019939899445, 0.037537943571805954, 0.05765485391020775, 0.043234288692474365, 0.018994854763150215, 0.028735516592860222, 0.011179485358297825, 0.04652603715658188, 0.017670050263404846, 0.18987759947776794, 0.0, 0.0, 0.0, 0.0, 0.0, 0.0, 0.0, 0.0, 0.0, 0.0, 0.0, 0.0], [0.16731949150562286, 0.19116291403770447, 0.13118290901184082, 0.028599072247743607, 0.047018907964229584, 0.04188719764351845, 0.014897160232067108, 0.0473942831158638, 0.010547277517616749, 0.0365140475332737, 0.01899312250316143, 0.18708667159080505, 0.07739686220884323, 0.0, 0.0, 0.0, 0.0, 0.0, 0.0, 0.0, 0.0, 0.0, 0.0, 0.0], [0.02958330139517784, 0.024885285645723343, 0.014149844646453857, 0.03865722194314003, 0.05284206569194794, 0.0067186555825173855, 0.032143522053956985, 0.26707369089126587, 0.10963186621665955, 0.02661920338869095, 0.283833384513855, 0.04959234222769737, 0.0487944632768631, 0.01547516230493784, 0.0, 0.0, 0.0, 0.0, 0.0, 0.0, 0.0, 0.0, 0.0, 0.0], [0.0910370871424675, 0.0906025841832161, 0.0763205960392952, 0.05566421523690224, 0.06910397112369537, 0.03753552958369255, 0.04107470065355301, 0.06539106369018555, 0.04254604130983353, 0.05511914938688278, 0.0607779286801815, 0.1021958664059639, 0.07750791311264038, 0.04720602184534073, 0.08791730552911758, 0.0, 0.0, 0.0, 0.0, 0.0, 0.0, 0.0, 0.0, 0.0], [0.08916830271482468, 0.0957549586892128, 0.08512932807207108, 0.04334797337651253, 0.05133422091603279, 0.061768144369125366, 0.03475309908390045, 0.050399791449308395, 0.028144776821136475, 0.04948468506336212, 0.03283831477165222, 0.08970783650875092, 0.06340160965919495, 0.05207374691963196, 0.10299637168645859, 0.06969679892063141, 0.0, 0.0, 0.0, 0.0, 0.0, 0.0, 0.0, 0.0], [0.09446684271097183, 0.11815304309129715, 0.09513595700263977, 0.021231453865766525, 0.02683776617050171, 0.11355410516262054, 0.01748764142394066, 0.045341283082962036, 0.010589308105409145, 0.031761229038238525, 0.011159834451973438, 0.08676492422819138, 0.044316574931144714, 0.046243928372859955, 0.14702340960502625, 0.05540486425161362, 0.034527894109487534, 0.0, 0.0, 0.0, 0.0, 0.0, 0.0, 0.0], [0.008576130494475365, 0.0058205826207995415, 0.004433491732925177, 0.042449042201042175, 0.0468035452067852, 0.0013226320734247565, 0.03809085860848427, 0.0800364762544632, 0.16995173692703247, 0.020182661712169647, 0.4032946228981018, 0.014859269373118877, 0.026657285168766975, 0.007962697185575962, 0.0033002293203026056, 0.055125314742326736, 0.06811361759901047, 0.0030197433661669493, 0.0, 0.0, 0.0, 0.0, 0.0, 0.0], [0.05650603398680687, 0.06817857921123505, 0.07095758616924286, 0.029058819636702538, 0.02741352468729019, 0.1759525090456009, 0.034531835466623306, 0.039803069084882736, 0.021095750853419304, 0.04093818739056587, 0.014442214742302895, 0.045645326375961304, 0.03608407452702522, 0.06618643552064896, 0.08518996834754944, 0.03243643045425415, 0.021078800782561302, 0.11917754262685776, 0.015323345549404621, 0.0, 0.0, 0.0, 0.0, 0.0], [0.04561198875308037, 0.049601923674345016, 0.04525965079665184, 0.036967337131500244, 0.03606915473937988, 0.09204711019992828, 0.04460553452372551, 0.08395229279994965, 0.04599915072321892, 0.04227602481842041, 0.04141298681497574, 0.04419123753905296, 0.04117874056100845, 0.05362604930996895, 0.05172128975391388, 0.05178961530327797, 0.03014962188899517, 0.08122649788856506, 0.03627854958176613, 0.04603518173098564, 0.0, 0.0, 0.0, 0.0], [0.05226907506585121, 0.05029295012354851, 0.06659997254610062, 0.06626623123884201, 0.05991514399647713, 0.04485645890235901, 0.060807857662439346, 0.01628476195037365, 0.04189363121986389, 0.06398679316043854, 0.03367746248841286, 0.04589857533574104, 0.05225542560219765, 0.05976066738367081, 0.05410035327076912, 0.028856273740530014, 0.05746578052639961, 0.03243979066610336, 0.04791358485817909, 0.03975608944892883, 0.024703092873096466, 0.0, 0.0, 0.0], [0.03661623224616051, 0.030183428898453712, 0.026113901287317276, 0.04996725916862488, 0.061746351420879364, 0.0060231368988752365, 0.03327707201242447, 0.03668497875332832, 0.0540115162730217, 0.035193827003240585, 0.10094350576400757, 0.048823077231645584, 0.05064883083105087, 0.01933765411376953, 0.023801373317837715, 0.0626537874341011, 0.10911662876605988, 0.013765052892267704, 0.08810890465974808, 0.05637331306934357, 0.04294436052441597, 0.013665792532265186, 0.0, 0.0], [0.05417819321155548, 0.04706675931811333, 0.03993002697825432, 0.04514406621456146, 0.06126042827963829, 0.0071120415814220905, 0.025521952658891678, 0.027702854946255684, 0.03204093128442764, 0.03531929478049278, 0.06228688731789589, 0.06967872381210327, 0.05748184770345688, 0.020373398438096046, 0.040195342153310776, 0.06643565744161606, 0.12827591598033905, 0.019481079652905464, 0.05584600567817688, 0.04692435264587402, 0.0314045324921608, 0.011398660950362682, 0.014941000379621983, 0.0], [0.03216040879487991, 0.026157626882195473, 0.02200395055115223, 0.046954166144132614, 0.05828230828046799, 0.0051034665666520596, 0.031689032912254333, 0.03943316265940666, 0.05645013228058815, 0.032132454216480255, 0.1100047305226326, 0.04418383166193962, 0.04698418080806732, 0.017152931541204453, 0.020033350214362144, 0.062427371740341187, 0.1034490242600441, 0.012127203866839409, 0.09217319637537003, 0.05637095868587494, 0.045061830431222916, 0.012744723819196224, 0.016443762928247452, 0.010476168245077133]]]}\n",
       "    )\n",
       "    </script>"
      ],
      "text/plain": [
       "<circuitsvis.utils.render.RenderedHTML at 0x42e67ce90>"
      ]
     },
     "metadata": {},
     "output_type": "display_data"
    }
   ],
   "source": [
    "# Look at some example output\n",
    "import circuitsvis as cv\n",
    "\n",
    "import functools\n",
    "\n",
    "\n",
    "def visualize_pattern_hook(\n",
    "    pattern: Float32[torch.Tensor, \"batch head_index dest_pos source_pos\"],\n",
    "    hook: transformer_lens.hook_points.HookPoint,\n",
    "    tokens_as_strings: list[str],\n",
    ") -> None:\n",
    "    print(\"Layer: \", hook.layer())\n",
    "    display(\n",
    "        cv.attention.attention_patterns(\n",
    "            tokens=tokens_as_strings, attention=pattern.mean(0)\n",
    "        )\n",
    "    )\n",
    "\n",
    "\n",
    "# create a custom to_string function since using our own tokenizer\n",
    "def token_to_string(token: int) -> str:\n",
    "    return tokenizer.decode([token])\n",
    "\n",
    "\n",
    "for difficulty, test_loader in test_loaders.items():\n",
    "\n",
    "    print(difficulty)\n",
    "\n",
    "    # grab something from the test batch\n",
    "    example_batch = next(iter(test_loader))\n",
    "\n",
    "    x, y = example_batch\n",
    "\n",
    "    example_sample = x[0]\n",
    "\n",
    "    # example_sample = torch.tensor(tokenizer.encode(\"<az|za|az>>>>>>>>>>\"))\n",
    "\n",
    "    # grab the first part of it, ex: `<abc|`\n",
    "    example_prompt = example_sample  # [:8]\n",
    "\n",
    "    example_prompt = example_prompt.to(device)\n",
    "\n",
    "    print(f\"Using {example_prompt} from {example_sample} (from test set)\")\n",
    "\n",
    "    # note: already encoded\n",
    "    input_tokens = example_prompt\n",
    "\n",
    "    # first let's get these as strings so can easily work with them\n",
    "    input_tokens_as_strings = [token_to_string(x.item()) for x in input_tokens]\n",
    "\n",
    "    # wrap to bind input tokens\n",
    "    visualize_pattern_hook_fn = functools.partial(\n",
    "        visualize_pattern_hook, tokens_as_strings=input_tokens_as_strings\n",
    "    )\n",
    "\n",
    "    model.run_with_hooks(\n",
    "        input_tokens,\n",
    "        return_type=None,  # For efficiency, we don't need to calculate the logits\n",
    "        fwd_hooks=[(lambda name: name.endswith(\"pattern\"), visualize_pattern_hook_fn)],\n",
    "    )\n",
    "\n",
    "    logits_batch, cache = model.run_with_cache(input_tokens)\n",
    "\n",
    "    logits = logits_batch[0]\n",
    "\n",
    "    log_probs = logits.log_softmax(dim=-1)\n",
    "\n",
    "    cv.logits.token_log_probs(\n",
    "        token_indices=input_tokens,\n",
    "        log_probs=log_probs,\n",
    "        to_string=token_to_string,\n",
    "    )"
   ]
  },
  {
   "cell_type": "code",
   "execution_count": null,
   "id": "222a9eea",
   "metadata": {},
   "outputs": [],
   "source": []
  },
  {
   "cell_type": "code",
   "execution_count": null,
   "id": "13997a3d",
   "metadata": {},
   "outputs": [],
   "source": []
  },
  {
   "cell_type": "markdown",
   "id": "a544cede",
   "metadata": {},
   "source": [
    "### Looking at it with CircuitsViz"
   ]
  },
  {
   "cell_type": "code",
   "execution_count": 83,
   "id": "1d8cedde",
   "metadata": {},
   "outputs": [],
   "source": [
    "# before even going to SAE, let's look at circuitsviz here\n",
    "import circuitsvis as cv\n",
    "\n",
    "import circuitsvis.activations\n",
    "import circuitsvis.attention\n",
    "import circuitsvis.logits\n",
    "import circuitsvis.tokens\n",
    "import circuitsvis.topk_samples\n",
    "import circuitsvis.topk_tokens"
   ]
  },
  {
   "cell_type": "code",
   "execution_count": 84,
   "id": "a5b587d5",
   "metadata": {},
   "outputs": [
    {
     "name": "stdout",
     "output_type": "stream",
     "text": [
      "len(input_tokens)=18\n",
      "----------  ------\n",
      "n_layers    2\n",
      "d_model     12\n",
      "n_ctx       19\n",
      "d_head      3\n",
      "model_name  custom\n",
      "n_heads     4\n",
      "d_mlp       48\n",
      "act_fn      relu\n",
      "d_vocab     29\n",
      "eps         1e-05\n",
      "----------  ------\n",
      "------------------------------  --------------------------\n",
      "hook_embed                      torch.Size([1, 18, 12])\n",
      "hook_pos_embed                  torch.Size([1, 18, 12])\n",
      "blocks.0.hook_resid_pre         torch.Size([1, 18, 12])\n",
      "blocks.0.ln1.hook_scale         torch.Size([1, 18, 1])\n",
      "blocks.0.ln1.hook_normalized    torch.Size([1, 18, 12])\n",
      "blocks.0.attn.hook_q            torch.Size([1, 18, 4, 3])\n",
      "blocks.0.attn.hook_k            torch.Size([1, 18, 4, 3])\n",
      "blocks.0.attn.hook_v            torch.Size([1, 18, 4, 3])\n",
      "blocks.0.attn.hook_attn_scores  torch.Size([1, 4, 18, 18])\n",
      "blocks.0.attn.hook_pattern      torch.Size([1, 4, 18, 18])\n",
      "blocks.0.attn.hook_z            torch.Size([1, 18, 4, 3])\n",
      "blocks.0.hook_attn_out          torch.Size([1, 18, 12])\n",
      "blocks.0.hook_resid_mid         torch.Size([1, 18, 12])\n",
      "blocks.0.ln2.hook_scale         torch.Size([1, 18, 1])\n",
      "blocks.0.ln2.hook_normalized    torch.Size([1, 18, 12])\n",
      "blocks.0.mlp.hook_pre           torch.Size([1, 18, 48])\n",
      "blocks.0.mlp.hook_post          torch.Size([1, 18, 48])\n",
      "blocks.0.hook_mlp_out           torch.Size([1, 18, 12])\n",
      "blocks.0.hook_resid_post        torch.Size([1, 18, 12])\n",
      "blocks.1.hook_resid_pre         torch.Size([1, 18, 12])\n",
      "blocks.1.ln1.hook_scale         torch.Size([1, 18, 1])\n",
      "blocks.1.ln1.hook_normalized    torch.Size([1, 18, 12])\n",
      "blocks.1.attn.hook_q            torch.Size([1, 18, 4, 3])\n",
      "blocks.1.attn.hook_k            torch.Size([1, 18, 4, 3])\n",
      "blocks.1.attn.hook_v            torch.Size([1, 18, 4, 3])\n",
      "blocks.1.attn.hook_attn_scores  torch.Size([1, 4, 18, 18])\n",
      "blocks.1.attn.hook_pattern      torch.Size([1, 4, 18, 18])\n",
      "blocks.1.attn.hook_z            torch.Size([1, 18, 4, 3])\n",
      "blocks.1.hook_attn_out          torch.Size([1, 18, 12])\n",
      "blocks.1.hook_resid_mid         torch.Size([1, 18, 12])\n",
      "blocks.1.ln2.hook_scale         torch.Size([1, 18, 1])\n",
      "blocks.1.ln2.hook_normalized    torch.Size([1, 18, 12])\n",
      "blocks.1.mlp.hook_pre           torch.Size([1, 18, 48])\n",
      "blocks.1.mlp.hook_post          torch.Size([1, 18, 48])\n",
      "blocks.1.hook_mlp_out           torch.Size([1, 18, 12])\n",
      "blocks.1.hook_resid_post        torch.Size([1, 18, 12])\n",
      "ln_final.hook_scale             torch.Size([1, 18, 1])\n",
      "ln_final.hook_normalized        torch.Size([1, 18, 12])\n",
      "------------------------------  --------------------------\n"
     ]
    }
   ],
   "source": [
    "# first let's see what we have\n",
    "import tabulate\n",
    "\n",
    "print(f\"{len(input_tokens)=}\")\n",
    "\n",
    "# show the first few elements of the `HookedTransformerConfig`, since that has things like `d_model`, num heads, etc\n",
    "print(tabulate.tabulate([(k, v) for k, v in cfg.__dict__.items()][:10]))\n",
    "\n",
    "print(tabulate.tabulate([(k, v.shape) for k, v in cache.items()]))"
   ]
  },
  {
   "cell_type": "code",
   "execution_count": 85,
   "id": "519db727",
   "metadata": {},
   "outputs": [
    {
     "data": {
      "text/html": [
       "    <style>\n",
       "        .bk-notebook-logo {\n",
       "            display: block;\n",
       "            width: 20px;\n",
       "            height: 20px;\n",
       "            background-image: url(data:image/png;base64,iVBORw0KGgoAAAANSUhEUgAAABQAAAAUCAYAAACNiR0NAAAABHNCSVQICAgIfAhkiAAAAAlwSFlzAAALEgAACxIB0t1+/AAAABx0RVh0U29mdHdhcmUAQWRvYmUgRmlyZXdvcmtzIENTNui8sowAAAOkSURBVDiNjZRtaJVlGMd/1/08zzln5zjP1LWcU9N0NkN8m2CYjpgQYQXqSs0I84OLIC0hkEKoPtiH3gmKoiJDU7QpLgoLjLIQCpEsNJ1vqUOdO7ppbuec5+V+rj4ctwzd8IIbbi6u+8f1539dt3A78eXC7QizUF7gyV1fD1Yqg4JWz84yffhm0qkFqBogB9rM8tZdtwVsPUhWhGcFJngGeWrPzHm5oaMmkfEg1usvLFyc8jLRqDOMru7AyC8saQr7GG7f5fvDeH7Ej8CM66nIF+8yngt6HWaKh7k49Soy9nXurCi1o3qUbS3zWfrYeQDTB/Qj6kX6Ybhw4B+bOYoLKCC9H3Nu/leUTZ1JdRWkkn2ldcCamzrcf47KKXdAJllSlxAOkRgyHsGC/zRday5Qld9DyoM4/q/rUoy/CXh3jzOu3bHUVZeU+DEn8FInkPBFlu3+nW3Nw0mk6vCDiWg8CeJaxEwuHS3+z5RgY+YBR6V1Z1nxSOfoaPa4LASWxxdNp+VWTk7+4vzaou8v8PN+xo+KY2xsw6une2frhw05CTYOmQvsEhjhWjn0bmXPjpE1+kplmmkP3suftwTubK9Vq22qKmrBhpY4jvd5afdRA3wGjFAgcnTK2s4hY0/GPNIb0nErGMCRxWOOX64Z8RAC4oCXdklmEvcL8o0BfkNK4lUg9HTl+oPlQxdNo3Mg4Nv175e/1LDGzZen30MEjRUtmXSfiTVu1kK8W4txyV6BMKlbgk3lMwYCiusNy9fVfvvwMxv8Ynl6vxoByANLTWplvuj/nF9m2+PDtt1eiHPBr1oIfhCChQMBw6Aw0UulqTKZdfVvfG7VcfIqLG9bcldL/+pdWTLxLUy8Qq38heUIjh4XlzZxzQm19lLFlr8vdQ97rjZVOLf8nclzckbcD4wxXMidpX30sFd37Fv/GtwwhzhxGVAprjbg0gCAEeIgwCZyTV2Z1REEW8O4py0wsjeloKoMr6iCY6dP92H6Vw/oTyICIthibxjm/DfN9lVz8IqtqKYLUXfoKVMVQVVJOElGjrnnUt9T9wbgp8AyYKaGlqingHZU/uG2NTZSVqwHQTWkx9hxjkpWDaCg6Ckj5qebgBVbT3V3NNXMSiWSDdGV3hrtzla7J+duwPOToIg42ChPQOQjspnSlp1V+Gjdged7+8UN5CRAV7a5EdFNwCjEaBR27b3W890TE7g24NAP/mMDXRWrGoFPQI9ls/MWO2dWFAar/xcOIImbbpA3zgAAAABJRU5ErkJggg==);\n",
       "        }\n",
       "    </style>\n",
       "    <div>\n",
       "        <a href=\"https://bokeh.org\" target=\"_blank\" class=\"bk-notebook-logo\"></a>\n",
       "        <span id=\"e076bf09-374a-4bae-9a32-d9e2a801f9e5\">Loading BokehJS ...</span>\n",
       "    </div>\n"
      ]
     },
     "metadata": {},
     "output_type": "display_data"
    },
    {
     "data": {
      "application/javascript": "'use strict';\n(function(root) {\n  function now() {\n    return new Date();\n  }\n\n  const force = true;\n\n  if (typeof root._bokeh_onload_callbacks === \"undefined\" || force === true) {\n    root._bokeh_onload_callbacks = [];\n    root._bokeh_is_loading = undefined;\n  }\n\nconst JS_MIME_TYPE = 'application/javascript';\n  const HTML_MIME_TYPE = 'text/html';\n  const EXEC_MIME_TYPE = 'application/vnd.bokehjs_exec.v0+json';\n  const CLASS_NAME = 'output_bokeh rendered_html';\n\n  /**\n   * Render data to the DOM node\n   */\n  function render(props, node) {\n    const script = document.createElement(\"script\");\n    node.appendChild(script);\n  }\n\n  /**\n   * Handle when an output is cleared or removed\n   */\n  function handleClearOutput(event, handle) {\n    function drop(id) {\n      const view = Bokeh.index.get_by_id(id)\n      if (view != null) {\n        view.model.document.clear()\n        Bokeh.index.delete(view)\n      }\n    }\n\n    const cell = handle.cell;\n\n    const id = cell.output_area._bokeh_element_id;\n    const server_id = cell.output_area._bokeh_server_id;\n\n    // Clean up Bokeh references\n    if (id != null) {\n      drop(id)\n    }\n\n    if (server_id !== undefined) {\n      // Clean up Bokeh references\n      const cmd_clean = \"from bokeh.io.state import curstate; print(curstate().uuid_to_server['\" + server_id + \"'].get_sessions()[0].document.roots[0]._id)\";\n      cell.notebook.kernel.execute(cmd_clean, {\n        iopub: {\n          output: function(msg) {\n            const id = msg.content.text.trim()\n            drop(id)\n          }\n        }\n      });\n      // Destroy server and session\n      const cmd_destroy = \"import bokeh.io.notebook as ion; ion.destroy_server('\" + server_id + \"')\";\n      cell.notebook.kernel.execute(cmd_destroy);\n    }\n  }\n\n  /**\n   * Handle when a new output is added\n   */\n  function handleAddOutput(event, handle) {\n    const output_area = handle.output_area;\n    const output = handle.output;\n\n    // limit handleAddOutput to display_data with EXEC_MIME_TYPE content only\n    if ((output.output_type != \"display_data\") || (!Object.prototype.hasOwnProperty.call(output.data, EXEC_MIME_TYPE))) {\n      return\n    }\n\n    const toinsert = output_area.element.find(\".\" + CLASS_NAME.split(' ')[0]);\n\n    if (output.metadata[EXEC_MIME_TYPE][\"id\"] !== undefined) {\n      toinsert[toinsert.length - 1].firstChild.textContent = output.data[JS_MIME_TYPE];\n      // store reference to embed id on output_area\n      output_area._bokeh_element_id = output.metadata[EXEC_MIME_TYPE][\"id\"];\n    }\n    if (output.metadata[EXEC_MIME_TYPE][\"server_id\"] !== undefined) {\n      const bk_div = document.createElement(\"div\");\n      bk_div.innerHTML = output.data[HTML_MIME_TYPE];\n      const script_attrs = bk_div.children[0].attributes;\n      for (let i = 0; i < script_attrs.length; i++) {\n        toinsert[toinsert.length - 1].firstChild.setAttribute(script_attrs[i].name, script_attrs[i].value);\n        toinsert[toinsert.length - 1].firstChild.textContent = bk_div.children[0].textContent\n      }\n      // store reference to server id on output_area\n      output_area._bokeh_server_id = output.metadata[EXEC_MIME_TYPE][\"server_id\"];\n    }\n  }\n\n  function register_renderer(events, OutputArea) {\n\n    function append_mime(data, metadata, element) {\n      // create a DOM node to render to\n      const toinsert = this.create_output_subarea(\n        metadata,\n        CLASS_NAME,\n        EXEC_MIME_TYPE\n      );\n      this.keyboard_manager.register_events(toinsert);\n      // Render to node\n      const props = {data: data, metadata: metadata[EXEC_MIME_TYPE]};\n      render(props, toinsert[toinsert.length - 1]);\n      element.append(toinsert);\n      return toinsert\n    }\n\n    /* Handle when an output is cleared or removed */\n    events.on('clear_output.CodeCell', handleClearOutput);\n    events.on('delete.Cell', handleClearOutput);\n\n    /* Handle when a new output is added */\n    events.on('output_added.OutputArea', handleAddOutput);\n\n    /**\n     * Register the mime type and append_mime function with output_area\n     */\n    OutputArea.prototype.register_mime_type(EXEC_MIME_TYPE, append_mime, {\n      /* Is output safe? */\n      safe: true,\n      /* Index of renderer in `output_area.display_order` */\n      index: 0\n    });\n  }\n\n  // register the mime type if in Jupyter Notebook environment and previously unregistered\n  if (root.Jupyter !== undefined) {\n    const events = require('base/js/events');\n    const OutputArea = require('notebook/js/outputarea').OutputArea;\n\n    if (OutputArea.prototype.mime_types().indexOf(EXEC_MIME_TYPE) == -1) {\n      register_renderer(events, OutputArea);\n    }\n  }\n  if (typeof (root._bokeh_timeout) === \"undefined\" || force === true) {\n    root._bokeh_timeout = Date.now() + 5000;\n    root._bokeh_failed_load = false;\n  }\n\n  const NB_LOAD_WARNING = {'data': {'text/html':\n     \"<div style='background-color: #fdd'>\\n\"+\n     \"<p>\\n\"+\n     \"BokehJS does not appear to have successfully loaded. If loading BokehJS from CDN, this \\n\"+\n     \"may be due to a slow or bad network connection. Possible fixes:\\n\"+\n     \"</p>\\n\"+\n     \"<ul>\\n\"+\n     \"<li>re-rerun `output_notebook()` to attempt to load from CDN again, or</li>\\n\"+\n     \"<li>use INLINE resources instead, as so:</li>\\n\"+\n     \"</ul>\\n\"+\n     \"<code>\\n\"+\n     \"from bokeh.resources import INLINE\\n\"+\n     \"output_notebook(resources=INLINE)\\n\"+\n     \"</code>\\n\"+\n     \"</div>\"}};\n\n  function display_loaded(error = null) {\n    const el = document.getElementById(\"e076bf09-374a-4bae-9a32-d9e2a801f9e5\");\n    if (el != null) {\n      const html = (() => {\n        if (typeof root.Bokeh === \"undefined\") {\n          if (error == null) {\n            return \"BokehJS is loading ...\";\n          } else {\n            return \"BokehJS failed to load.\";\n          }\n        } else {\n          const prefix = `BokehJS ${root.Bokeh.version}`;\n          if (error == null) {\n            return `${prefix} successfully loaded.`;\n          } else {\n            return `${prefix} <b>encountered errors</b> while loading and may not function as expected.`;\n          }\n        }\n      })();\n      el.innerHTML = html;\n\n      if (error != null) {\n        const wrapper = document.createElement(\"div\");\n        wrapper.style.overflow = \"auto\";\n        wrapper.style.height = \"5em\";\n        wrapper.style.resize = \"vertical\";\n        const content = document.createElement(\"div\");\n        content.style.fontFamily = \"monospace\";\n        content.style.whiteSpace = \"pre-wrap\";\n        content.style.backgroundColor = \"rgb(255, 221, 221)\";\n        content.textContent = error.stack ?? error.toString();\n        wrapper.append(content);\n        el.append(wrapper);\n      }\n    } else if (Date.now() < root._bokeh_timeout) {\n      setTimeout(() => display_loaded(error), 100);\n    }\n  }\n\n  function run_callbacks() {\n    try {\n      root._bokeh_onload_callbacks.forEach(function(callback) {\n        if (callback != null)\n          callback();\n      });\n    } finally {\n      delete root._bokeh_onload_callbacks\n    }\n    console.debug(\"Bokeh: all callbacks have finished\");\n  }\n\n  function load_libs(css_urls, js_urls, callback) {\n    if (css_urls == null) css_urls = [];\n    if (js_urls == null) js_urls = [];\n\n    root._bokeh_onload_callbacks.push(callback);\n    if (root._bokeh_is_loading > 0) {\n      console.debug(\"Bokeh: BokehJS is being loaded, scheduling callback at\", now());\n      return null;\n    }\n    if (js_urls == null || js_urls.length === 0) {\n      run_callbacks();\n      return null;\n    }\n    console.debug(\"Bokeh: BokehJS not loaded, scheduling load and callback at\", now());\n    root._bokeh_is_loading = css_urls.length + js_urls.length;\n\n    function on_load() {\n      root._bokeh_is_loading--;\n      if (root._bokeh_is_loading === 0) {\n        console.debug(\"Bokeh: all BokehJS libraries/stylesheets loaded\");\n        run_callbacks()\n      }\n    }\n\n    function on_error(url) {\n      console.error(\"failed to load \" + url);\n    }\n\n    for (let i = 0; i < css_urls.length; i++) {\n      const url = css_urls[i];\n      const element = document.createElement(\"link\");\n      element.onload = on_load;\n      element.onerror = on_error.bind(null, url);\n      element.rel = \"stylesheet\";\n      element.type = \"text/css\";\n      element.href = url;\n      console.debug(\"Bokeh: injecting link tag for BokehJS stylesheet: \", url);\n      document.body.appendChild(element);\n    }\n\n    for (let i = 0; i < js_urls.length; i++) {\n      const url = js_urls[i];\n      const element = document.createElement('script');\n      element.onload = on_load;\n      element.onerror = on_error.bind(null, url);\n      element.async = false;\n      element.src = url;\n      console.debug(\"Bokeh: injecting script tag for BokehJS library: \", url);\n      document.head.appendChild(element);\n    }\n  };\n\n  function inject_raw_css(css) {\n    const element = document.createElement(\"style\");\n    element.appendChild(document.createTextNode(css));\n    document.body.appendChild(element);\n  }\n\n  const js_urls = [\"https://cdn.bokeh.org/bokeh/release/bokeh-3.5.2.min.js\", \"https://cdn.bokeh.org/bokeh/release/bokeh-gl-3.5.2.min.js\", \"https://cdn.bokeh.org/bokeh/release/bokeh-widgets-3.5.2.min.js\", \"https://cdn.bokeh.org/bokeh/release/bokeh-tables-3.5.2.min.js\", \"https://cdn.bokeh.org/bokeh/release/bokeh-mathjax-3.5.2.min.js\"];\n  const css_urls = [];\n\n  const inline_js = [    function(Bokeh) {\n      Bokeh.set_log_level(\"info\");\n    },\nfunction(Bokeh) {\n    }\n  ];\n\n  function run_inline_js() {\n    if (root.Bokeh !== undefined || force === true) {\n      try {\n            for (let i = 0; i < inline_js.length; i++) {\n      inline_js[i].call(root, root.Bokeh);\n    }\n\n      } catch (error) {display_loaded(error);throw error;\n      }if (force === true) {\n        display_loaded();\n      }} else if (Date.now() < root._bokeh_timeout) {\n      setTimeout(run_inline_js, 100);\n    } else if (!root._bokeh_failed_load) {\n      console.log(\"Bokeh: BokehJS failed to load within specified timeout.\");\n      root._bokeh_failed_load = true;\n    } else if (force !== true) {\n      const cell = $(document.getElementById(\"e076bf09-374a-4bae-9a32-d9e2a801f9e5\")).parents('.cell').data().cell;\n      cell.output_area.append_execute_result(NB_LOAD_WARNING)\n    }\n  }\n\n  if (root._bokeh_is_loading === 0) {\n    console.debug(\"Bokeh: BokehJS loaded, going straight to plotting\");\n    run_inline_js();\n  } else {\n    load_libs(css_urls, js_urls, function() {\n      console.debug(\"Bokeh: BokehJS plotting callback run at\", now());\n      run_inline_js();\n    });\n  }\n}(window));",
      "application/vnd.bokehjs_load.v0+json": ""
     },
     "metadata": {},
     "output_type": "display_data"
    }
   ],
   "source": [
    "from bokeh.plotting import figure, show\n",
    "from bokeh.models import ColumnDataSource, HoverTool\n",
    "from bokeh.palettes import Viridis256\n",
    "\n",
    "import numpy as np\n",
    "import pandas as pd\n",
    "\n",
    "from bokeh.io import output_notebook\n",
    "\n",
    "import seaborn as sns\n",
    "\n",
    "import matplotlib.pyplot as plt\n",
    "\n",
    "# Enable Bokeh output in the notebook\n",
    "output_notebook()\n",
    "\n",
    "\n",
    "def tensor_to_dataframe(\n",
    "    tensor: torch.Tensor, labels: list[str], tokens: list[str]\n",
    ") -> pd.DataFrame:\n",
    "    \"\"\"\n",
    "    Convert a 2D PyTorch tensor to a pandas DataFrame.\n",
    "\n",
    "    Args:\n",
    "        tensor (torch.Tensor): A 2D tensor to convert.\n",
    "\n",
    "    Returns:\n",
    "        pd.DataFrame: A DataFrame representation of the input tensor.\n",
    "\n",
    "    Raises:\n",
    "        ValueError: If the input tensor is not 2D.\n",
    "    \"\"\"\n",
    "    if tensor.dim() != 2:\n",
    "        raise ValueError(f\"Input tensor must be 2D, got {tensor.dim()}D\")\n",
    "    if len(labels) != 2:\n",
    "        raise ValueError(f\"Expected labels for both dimensions, got {len(labels)}\")\n",
    "\n",
    "    # Convert tensor to numpy array\n",
    "    numpy_array = tensor.detach().cpu().numpy()\n",
    "\n",
    "    # Create DataFrame\n",
    "    df = pd.DataFrame(numpy_array)\n",
    "\n",
    "    # Name the index the first label\n",
    "    df.index.name = labels[0]\n",
    "\n",
    "    # Name the columns the second label\n",
    "    df.columns = [f\"{labels[1]}_{i}\" for i in range(numpy_array.shape[1])]\n",
    "\n",
    "    return df\n",
    "\n",
    "\n",
    "def visualize_tensor_heatmap(\n",
    "    tensor: torch.Tensor,\n",
    "    title: str = \"Tensor Heatmap\",\n",
    "    colormap: list[str] = Viridis256,\n",
    "    width: int = 800,\n",
    "    height: int = 400,\n",
    ") -> None:\n",
    "    \"\"\"\n",
    "    Visualize a 2D tensor as a heatmap.\n",
    "\n",
    "    Args:\n",
    "        tensor (torch.Tensor): A 2D tensor to visualize.\n",
    "        title (str): Title of the heatmap.\n",
    "        colormap (List[str]): A list of colors to use for the heatmap.\n",
    "        width (int): Width of the plot in pixels.\n",
    "        height (int): Height of the plot in pixels.\n",
    "\n",
    "    \"\"\"\n",
    "\n",
    "    # Ensure tensor is 2D\n",
    "    if tensor.dim() != 2:\n",
    "        raise ValueError(f\"Input tensor must be 2D, got {tensor.shape}\")\n",
    "\n",
    "    # convert tensor to dataframe\n",
    "    df = tensor_to_dataframe(tensor)\n",
    "\n",
    "    # Create a 2D grid of coordinates\n",
    "    y, x = np.mgrid[0 : data.shape[0], 0 : data.shape[1]]\n",
    "\n",
    "    # Flatten the arrays\n",
    "    x = x.flatten()\n",
    "    y = y.flatten()\n",
    "    z = data.flatten()\n",
    "\n",
    "    # Create a ColumnDataSource\n",
    "    source = ColumnDataSource(\n",
    "        data=dict(\n",
    "            x=x,\n",
    "            y=y,\n",
    "            z=z,\n",
    "            color=Viridis256[:: int(256 / len(z))][: len(z)],  # Map values to colors\n",
    "        )\n",
    "    )\n",
    "\n",
    "    # Create the figure\n",
    "    p = figure(\n",
    "        title=\"Tensor Heatmap\",\n",
    "        x_range=(0, data.shape[1]),\n",
    "        y_range=(0, data.shape[0]),\n",
    "        toolbar_location=\"below\",\n",
    "        tools=\"pan,wheel_zoom,box_zoom,reset\",\n",
    "    )\n",
    "\n",
    "    # Add rectangular glyphs\n",
    "    p.rect(\n",
    "        x=\"x\",\n",
    "        y=\"y\",\n",
    "        width=1,\n",
    "        height=1,\n",
    "        source=source,\n",
    "        fill_color=\"color\",\n",
    "        line_color=None,\n",
    "    )\n",
    "\n",
    "    # Add hover tool\n",
    "    hover = HoverTool(tooltips=[(\"x\", \"@x\"), (\"y\", \"@y\"), (\"value\", \"@z{0.000}\")])\n",
    "    p.add_tools(hover)\n",
    "\n",
    "    # Invert y-axis to match tensor indexing\n",
    "    p.y_range.start, p.y_range.end = p.y_range.end, p.y_range.start\n",
    "\n",
    "    # Show the plot\n",
    "    show(p)"
   ]
  },
  {
   "cell_type": "code",
   "execution_count": 44,
   "id": "5317b414",
   "metadata": {},
   "outputs": [
    {
     "name": "stdout",
     "output_type": "stream",
     "text": [
      "------------------------------  -----------------------\n",
      "hook_embed                      torch.Size([15, 12])\n",
      "hook_pos_embed                  torch.Size([15, 12])\n",
      "blocks.0.hook_resid_pre         torch.Size([15, 12])\n",
      "blocks.0.ln1.hook_scale         torch.Size([15, 1])\n",
      "blocks.0.ln1.hook_normalized    torch.Size([15, 12])\n",
      "blocks.0.attn.hook_q            torch.Size([15, 4, 3])\n",
      "blocks.0.attn.hook_k            torch.Size([15, 4, 3])\n",
      "blocks.0.attn.hook_v            torch.Size([15, 4, 3])\n",
      "blocks.0.attn.hook_attn_scores  torch.Size([4, 15, 15])\n",
      "blocks.0.attn.hook_pattern      torch.Size([4, 15, 15])\n",
      "blocks.0.attn.hook_z            torch.Size([15, 4, 3])\n",
      "blocks.0.hook_attn_out          torch.Size([15, 12])\n",
      "blocks.0.hook_resid_mid         torch.Size([15, 12])\n",
      "blocks.0.ln2.hook_scale         torch.Size([15, 1])\n",
      "blocks.0.ln2.hook_normalized    torch.Size([15, 12])\n",
      "blocks.0.mlp.hook_pre           torch.Size([15, 48])\n",
      "blocks.0.mlp.hook_post          torch.Size([15, 48])\n",
      "blocks.0.hook_mlp_out           torch.Size([15, 12])\n",
      "blocks.0.hook_resid_post        torch.Size([15, 12])\n",
      "blocks.1.hook_resid_pre         torch.Size([15, 12])\n",
      "blocks.1.ln1.hook_scale         torch.Size([15, 1])\n",
      "blocks.1.ln1.hook_normalized    torch.Size([15, 12])\n",
      "blocks.1.attn.hook_q            torch.Size([15, 4, 3])\n",
      "blocks.1.attn.hook_k            torch.Size([15, 4, 3])\n",
      "blocks.1.attn.hook_v            torch.Size([15, 4, 3])\n",
      "blocks.1.attn.hook_attn_scores  torch.Size([4, 15, 15])\n",
      "blocks.1.attn.hook_pattern      torch.Size([4, 15, 15])\n",
      "blocks.1.attn.hook_z            torch.Size([15, 4, 3])\n",
      "blocks.1.hook_attn_out          torch.Size([15, 12])\n",
      "blocks.1.hook_resid_mid         torch.Size([15, 12])\n",
      "blocks.1.ln2.hook_scale         torch.Size([15, 1])\n",
      "blocks.1.ln2.hook_normalized    torch.Size([15, 12])\n",
      "blocks.1.mlp.hook_pre           torch.Size([15, 48])\n",
      "blocks.1.mlp.hook_post          torch.Size([15, 48])\n",
      "blocks.1.hook_mlp_out           torch.Size([15, 12])\n",
      "blocks.1.hook_resid_post        torch.Size([15, 12])\n",
      "ln_final.hook_scale             torch.Size([15, 1])\n",
      "ln_final.hook_normalized        torch.Size([15, 12])\n",
      "------------------------------  -----------------------\n"
     ]
    }
   ],
   "source": [
    "print(tabulate.tabulate([(k, v[0].shape) for k, v in cache.items()]))"
   ]
  },
  {
   "cell_type": "code",
   "execution_count": 45,
   "id": "d52ad382",
   "metadata": {},
   "outputs": [],
   "source": [
    "# let's go ahead and just use first batch\n",
    "def first_batch(tensor: Float32[torch.Tensor, \"b t c\"]) -> Float32[torch.Tensor, \"t c\"]:\n",
    "    return tensor[0]"
   ]
  },
  {
   "cell_type": "code",
   "execution_count": null,
   "id": "bacb2343",
   "metadata": {},
   "outputs": [],
   "source": []
  },
  {
   "cell_type": "code",
   "execution_count": null,
   "id": "439c2ec3",
   "metadata": {},
   "outputs": [],
   "source": [
    "model"
   ]
  },
  {
   "cell_type": "code",
   "execution_count": 46,
   "id": "ea0d0fdb",
   "metadata": {},
   "outputs": [],
   "source": [
    "import torch.nn as nn\n",
    "\n",
    "from typing import Iterable, TypeVar\n",
    "\n",
    "import tabulate\n",
    "\n",
    "T = TypeVar(\"T\")\n",
    "\n",
    "\n",
    "# alias for `print(tabulate.tabulate(data))`\n",
    "def print_table(data: T) -> None:\n",
    "    print(tabulate.tabulate(data))\n",
    "\n",
    "\n",
    "# Define a function to print module weights recursively\n",
    "def print_module_weights(module: nn.Module) -> Iterable[tuple[str, str]]:\n",
    "    \"\"\"\n",
    "    Recursively prints the weights of a PyTorch module and its submodules.\n",
    "\n",
    "    This function traverses through the module hierarchy, printing information\n",
    "    about parameters that require gradients and are not hook-related.\n",
    "\n",
    "    Example:\n",
    "        >>> print_table(print_module_weights(model))\n",
    "\n",
    "        ------------------  ----------------------\n",
    "        embed.W_E           torch.Size([29, 14])\n",
    "        pos_embed.W_pos     torch.Size([9, 14])\n",
    "        blocks.0.ln1.w      torch.Size([14])\n",
    "        blocks.0.ln1.b      torch.Size([14])\n",
    "        blocks.0.ln2.w      torch.Size([14])\n",
    "        blocks.0.ln2.b      torch.Size([14])\n",
    "        blocks.0.attn.W_Q   torch.Size([3, 14, 4])\n",
    "        blocks.0.attn.W_O   torch.Size([3, 4, 14])\n",
    "        blocks.0.attn.b_Q   torch.Size([3, 4])\n",
    "        blocks.0.attn.b_O   torch.Size([14])\n",
    "        blocks.0.attn.W_K   torch.Size([3, 14, 4])\n",
    "        blocks.0.attn.W_V   torch.Size([3, 14, 4])\n",
    "        blocks.0.attn.b_K   torch.Size([3, 4])\n",
    "        blocks.0.attn.b_V   torch.Size([3, 4])\n",
    "        blocks.0.mlp.W_in   torch.Size([14, 56])\n",
    "        blocks.0.mlp.b_in   torch.Size([56])\n",
    "        blocks.0.mlp.W_out  torch.Size([56, 14])\n",
    "        blocks.0.mlp.b_out  torch.Size([14])\n",
    "        ln_final.w          torch.Size([14])\n",
    "        ln_final.b          torch.Size([14])\n",
    "        unembed.W_U         torch.Size([14, 29])\n",
    "        unembed.b_U         torch.Size([29])\n",
    "        ------------------  ----------------------\n",
    "\n",
    "    Args:\n",
    "        module (nn.Module): The PyTorch module to inspect.\n",
    "        prefix (str, optional): A string prefix for indentation in the output.\n",
    "                                Defaults to an empty string.\n",
    "\n",
    "    Returns:\n",
    "        Iterable[tuple[str, str]]: A list of tuples, where each tuple contains\n",
    "            the name and shape of the parameter.\n",
    "    \"\"\"\n",
    "\n",
    "    # Iterate through named parameters of the module\n",
    "    for name, param in module.named_parameters():\n",
    "\n",
    "        # Check if parameter requires gradient and doesn't start with 'hook_'\n",
    "        if param.requires_grad and not name.startswith(\"hook_\"):\n",
    "\n",
    "            # yield parameter name and type\n",
    "            yield f\"{name}\", f\"{param.shape}\"\n",
    "\n",
    "\n",
    "def print_cache(cache: transformer_lens.ActivationCache) -> None:\n",
    "    print(tabulate.tabulate([(k, v[0].shape) for k, v in cache.items()]))"
   ]
  },
  {
   "cell_type": "code",
   "execution_count": null,
   "id": "e95b1c4d",
   "metadata": {},
   "outputs": [],
   "source": [
    "print(\"Weights in the model:\")\n",
    "print_table(print_module_weights(model))"
   ]
  },
  {
   "cell_type": "code",
   "execution_count": null,
   "id": "80fb6a22",
   "metadata": {},
   "outputs": [],
   "source": [
    "print(\"Cached activations:\")\n",
    "print_cache(cache)"
   ]
  },
  {
   "cell_type": "code",
   "execution_count": null,
   "id": "3c6910da",
   "metadata": {},
   "outputs": [],
   "source": []
  },
  {
   "cell_type": "code",
   "execution_count": null,
   "id": "ac58f3d7",
   "metadata": {},
   "outputs": [],
   "source": [
    "def plot_cache_activation(\n",
    "    cache: transformer_lens.ActivationCache,\n",
    "    cache_key: str,\n",
    "    input_tokens_as_strings: list[str],\n",
    ") -> None:\n",
    "\n",
    "    activations = first_batch(cache[cache_key])\n",
    "\n",
    "    figsize = (4, 4)\n",
    "\n",
    "    # make figure smaller for vectors\n",
    "    if activations.shape[-1] == 1:\n",
    "        figsize = (4, 1.5)\n",
    "\n",
    "    # for larger activations like MLP, allow it to be taller\n",
    "    elif activations.shape[-1] > 20:\n",
    "        figsize = (4, 12)\n",
    "\n",
    "    plt.figure(figsize=figsize)\n",
    "\n",
    "    sns.heatmap(\n",
    "        activations.cpu().numpy().T,\n",
    "        cmap=\"coolwarm\",\n",
    "        center=0,\n",
    "        xticklabels=input_tokens_as_strings,\n",
    "    )\n",
    "\n",
    "    plt.title(cache_key)\n",
    "\n",
    "    # TODO(bschoen): Allow specifying this\n",
    "    #\n",
    "    plt.ylabel(\"Embedding Dimension\")\n",
    "    plt.xlabel(\"Token\")\n",
    "\n",
    "    plt.tight_layout()\n",
    "    plt.show()\n",
    "\n",
    "\n",
    "for cache_key in [\n",
    "    \"hook_embed\",\n",
    "    \"hook_pos_embed\",\n",
    "    \"blocks.0.hook_resid_pre\",\n",
    "    \"blocks.0.ln1.hook_scale\",\n",
    "    \"blocks.0.ln1.hook_normalized\",\n",
    "    \"blocks.0.hook_attn_out\",\n",
    "    \"blocks.0.hook_resid_mid\",\n",
    "    \"blocks.0.ln2.hook_scale\",\n",
    "    \"blocks.0.ln2.hook_normalized\",\n",
    "    \"blocks.0.mlp.hook_pre\",\n",
    "    \"blocks.0.mlp.hook_post\",\n",
    "    \"blocks.0.hook_mlp_out\",\n",
    "    \"blocks.0.hook_resid_post\",\n",
    "    \"ln_final.hook_scale\",\n",
    "    \"ln_final.hook_normalized\",\n",
    "]:\n",
    "\n",
    "    plot_cache_activation(\n",
    "        cache=cache,\n",
    "        cache_key=cache_key,\n",
    "        input_tokens_as_strings=input_tokens_as_strings,\n",
    "    )"
   ]
  },
  {
   "cell_type": "code",
   "execution_count": null,
   "id": "3dedf265",
   "metadata": {},
   "outputs": [],
   "source": [
    "# visualize MLP\n",
    "\n",
    "import matplotlib.pyplot as plt\n",
    "import seaborn as sns\n",
    "import torch\n",
    "\n",
    "\n",
    "def plot_mlp_weights_and_biases(model):\n",
    "    # Function to plot heatmaps for MLP weights and biases\n",
    "\n",
    "    def plot_weight_bias_pair(weight, bias, title):\n",
    "        fig, (ax1, ax2) = plt.subplots(1, 2, figsize=(15, 5))\n",
    "\n",
    "        sns.heatmap(weight.detach().cpu().numpy(), ax=ax1, cmap=\"coolwarm\", center=0)\n",
    "        ax1.set_title(f\"{title} - Weights\")\n",
    "        ax1.set_xlabel(\"Output dimension\")\n",
    "        ax1.set_ylabel(\"Input dimension\")\n",
    "\n",
    "        sns.heatmap(\n",
    "            bias.detach().cpu().numpy().reshape(-1, 1),\n",
    "            ax=ax2,\n",
    "            cmap=\"coolwarm\",\n",
    "            center=0,\n",
    "        )\n",
    "        ax2.set_title(f\"{title} - Biases\")\n",
    "        ax2.set_xlabel(\"Bias\")\n",
    "        ax2.set_ylabel(\"Dimension\")\n",
    "\n",
    "        plt.tight_layout()\n",
    "        plt.show()\n",
    "\n",
    "    # MLP weights and biases\n",
    "    plot_weight_bias_pair(\n",
    "        model.blocks[0].mlp.W_in, model.blocks[0].mlp.b_in, \"MLP Input\"\n",
    "    )\n",
    "    plot_weight_bias_pair(\n",
    "        model.blocks[0].mlp.W_out, model.blocks[0].mlp.b_out, \"MLP Output\"\n",
    "    )\n",
    "\n",
    "    # Layer Norm final\n",
    "    plt.figure(figsize=(10, 5))\n",
    "    plt.subplot(1, 2, 1)\n",
    "    sns.heatmap(\n",
    "        model.ln_final.w.detach().cpu().numpy().reshape(1, -1),\n",
    "        cmap=\"coolwarm\",\n",
    "        center=1,\n",
    "    )\n",
    "    plt.title(\"Layer Norm Final - Weights\")\n",
    "    plt.subplot(1, 2, 2)\n",
    "    sns.heatmap(\n",
    "        model.ln_final.b.detach().cpu().numpy().reshape(1, -1),\n",
    "        cmap=\"coolwarm\",\n",
    "        center=0,\n",
    "    )\n",
    "    plt.title(\"Layer Norm Final - Biases\")\n",
    "    plt.tight_layout()\n",
    "    plt.show()\n",
    "\n",
    "    # Unembed\n",
    "    plot_weight_bias_pair(model.unembed.W_U, model.unembed.b_U, \"Unembed\")\n",
    "\n",
    "\n",
    "# Call the function\n",
    "plot_mlp_weights_and_biases(model)\n",
    "\n",
    "# Comment: Additional visualizations that could be useful:\n",
    "# 1. Histograms of weight/bias distributions\n",
    "# 2. 3D surface plots for weights to show patterns\n",
    "# 3. Network architecture diagram with weight magnitudes represented by line thickness\n",
    "# 4. Animated heatmaps showing weight changes during training"
   ]
  },
  {
   "cell_type": "code",
   "execution_count": null,
   "id": "3b7a8dc9",
   "metadata": {},
   "outputs": [],
   "source": [
    "def plot_weight_bias_activation(\n",
    "    weight,\n",
    "    bias,\n",
    "    activation,\n",
    "    title: str,\n",
    ") -> None:\n",
    "\n",
    "    activation = first_batch(activation)\n",
    "\n",
    "    fig, (ax1, ax2, ax3) = plt.subplots(1, 3, figsize=(20, 7))\n",
    "\n",
    "    sns.heatmap(weight.detach().cpu().numpy().T, ax=ax1, cmap=\"coolwarm\", center=0)\n",
    "    ax1.set_title(f\"{title} - Weight\")\n",
    "\n",
    "    sns.barplot(x=list(range(len(bias))), y=bias.detach().cpu().numpy(), ax=ax2)\n",
    "    ax2.set_title(f\"{title} - Bias\")\n",
    "    ax2.set_xlabel(\"Index\")\n",
    "    ax2.set_ylabel(\"Value\")\n",
    "\n",
    "    sns.heatmap(activation.detach().cpu().numpy().T, ax=ax3, cmap=\"coolwarm\", center=0)\n",
    "    ax3.set_title(f\"{title} - Activation\")\n",
    "\n",
    "    plt.tight_layout()\n",
    "    plt.show()\n",
    "\n",
    "\n",
    "plot_weight_bias_activation(\n",
    "    model.embed.W_E,\n",
    "    torch.zeros(model.embed.W_E.shape[1]),\n",
    "    cache[\"hook_embed\"],\n",
    "    \"Embedding\",\n",
    ")\n",
    "plot_weight_bias_activation(\n",
    "    model.pos_embed.W_pos,\n",
    "    torch.zeros(model.pos_embed.W_pos.shape[1]),\n",
    "    cache[\"hook_pos_embed\"],\n",
    "    \"Positional Embedding\",\n",
    ")"
   ]
  },
  {
   "cell_type": "code",
   "execution_count": null,
   "id": "55ec88e7",
   "metadata": {},
   "outputs": [],
   "source": [
    "# TODO(bschoen): Hook residual pre?"
   ]
  },
  {
   "cell_type": "code",
   "execution_count": null,
   "id": "d8937bc0",
   "metadata": {},
   "outputs": [],
   "source": []
  },
  {
   "cell_type": "code",
   "execution_count": null,
   "id": "ac9d7f14",
   "metadata": {},
   "outputs": [],
   "source": [
    "# Plotting LayerNorm components\n",
    "\n",
    "\n",
    "def plot_layernorm(scale, normalized, title):\n",
    "    fig, (ax1, ax2) = plt.subplots(1, 2, figsize=(15, 5))\n",
    "\n",
    "    scale = first_batch(scale)\n",
    "    normalized = first_batch(normalized)\n",
    "\n",
    "    sns.barplot(\n",
    "        x=list(range(len(scale))), y=scale.squeeze().detach().cpu().numpy(), ax=ax1\n",
    "    )\n",
    "    ax1.set_title(f\"{title} - Scale\")\n",
    "    ax1.set_xlabel(\"Index\")\n",
    "    ax1.set_ylabel(\"Value\")\n",
    "\n",
    "    sns.heatmap(normalized.detach().cpu().numpy().T, ax=ax2, cmap=\"coolwarm\", center=0)\n",
    "    ax2.set_title(f\"{title} - Normalized\")\n",
    "\n",
    "    plt.tight_layout()\n",
    "    plt.show()\n",
    "\n",
    "\n",
    "plot_layernorm(\n",
    "    cache[\"blocks.0.ln1.hook_scale\"],\n",
    "    cache[\"blocks.0.ln1.hook_normalized\"],\n",
    "    \"LayerNorm 1\",\n",
    ")"
   ]
  },
  {
   "cell_type": "code",
   "execution_count": null,
   "id": "7a3a7cad",
   "metadata": {},
   "outputs": [],
   "source": [
    "# Plotting MLP components\n",
    "plot_weight_bias_activation(\n",
    "    model.blocks[0].mlp.W_in,\n",
    "    model.blocks[0].mlp.b_in,\n",
    "    cache[\"blocks.0.mlp.hook_pre\"],\n",
    "    \"MLP Input\",\n",
    ")\n",
    "plot_weight_bias_activation(\n",
    "    model.blocks[0].mlp.W_out,\n",
    "    model.blocks[0].mlp.b_out,\n",
    "    cache[\"blocks.0.mlp.hook_post\"],\n",
    "    \"MLP Output\",\n",
    ")"
   ]
  },
  {
   "cell_type": "code",
   "execution_count": 132,
   "id": "6abdf33f",
   "metadata": {},
   "outputs": [
    {
     "name": "stdout",
     "output_type": "stream",
     "text": [
      "Layer:  0\n"
     ]
    },
    {
     "data": {
      "text/html": [
       "<div id=\"circuits-vis-9af24320-b3dd\" style=\"margin: 15px 0;\"/>\n",
       "    <script crossorigin type=\"module\">\n",
       "    import { render, AttentionPatterns } from \"https://unpkg.com/circuitsvis@1.43.2/dist/cdn/esm.js\";\n",
       "    render(\n",
       "      \"circuits-vis-9af24320-b3dd\",\n",
       "      AttentionPatterns,\n",
       "      {\"tokens\": [\"<\", \"z\", \"d\", \"h\", \"g\", \"|\", \"g\", \"h\", \"d\", \"z\", \"|\", \"z\", \"d\", \"h\", \"g\"], \"attention\": [[[1.0, 0.0, 0.0, 0.0, 0.0, 0.0, 0.0, 0.0, 0.0, 0.0, 0.0, 0.0, 0.0, 0.0, 0.0, 0.0, 0.0, 0.0, 0.0], [0.31256046891212463, 0.687439501285553, 0.0, 0.0, 0.0, 0.0, 0.0, 0.0, 0.0, 0.0, 0.0, 0.0, 0.0, 0.0, 0.0, 0.0, 0.0, 0.0, 0.0], [0.26864975690841675, 0.45779478549957275, 0.2735554277896881, 0.0, 0.0, 0.0, 0.0, 0.0, 0.0, 0.0, 0.0, 0.0, 0.0, 0.0, 0.0, 0.0, 0.0, 0.0, 0.0], [0.20359690487384796, 0.4434750974178314, 0.1419866383075714, 0.2109413743019104, 0.0, 0.0, 0.0, 0.0, 0.0, 0.0, 0.0, 0.0, 0.0, 0.0, 0.0, 0.0, 0.0, 0.0, 0.0], [0.15743963420391083, 0.10190504789352417, 0.21306279301643372, 0.3574126362800598, 0.17017987370491028, 0.0, 0.0, 0.0, 0.0, 0.0, 0.0, 0.0, 0.0, 0.0, 0.0, 0.0, 0.0, 0.0, 0.0], [0.12479693442583084, 0.04829609766602516, 0.21247947216033936, 0.19865772128105164, 0.2070610225200653, 0.208708718419075, 0.0, 0.0, 0.0, 0.0, 0.0, 0.0, 0.0, 0.0, 0.0, 0.0, 0.0, 0.0, 0.0], [0.14723218977451324, 0.19125166535377502, 0.08933576941490173, 0.21523143351078033, 0.08001117408275604, 0.11537230014801025, 0.16156549751758575, 0.0, 0.0, 0.0, 0.0, 0.0, 0.0, 0.0, 0.0, 0.0, 0.0, 0.0, 0.0], [0.13456474244594574, 0.20519618690013885, 0.08622070401906967, 0.16381913423538208, 0.07859691977500916, 0.10014563798904419, 0.1304556280374527, 0.10100098699331284, 0.0, 0.0, 0.0, 0.0, 0.0, 0.0, 0.0, 0.0, 0.0, 0.0, 0.0], [0.10320870578289032, 0.10279328376054764, 0.08529660850763321, 0.2579307556152344, 0.06458031386137009, 0.09397982060909271, 0.17036831378936768, 0.054901499301195145, 0.06694068014621735, 0.0, 0.0, 0.0, 0.0, 0.0, 0.0, 0.0, 0.0, 0.0, 0.0], [0.08846338838338852, 0.12347966432571411, 0.11691625416278839, 0.112575002014637, 0.09598177671432495, 0.07897653430700302, 0.10092749446630478, 0.1042000874876976, 0.08164806663990021, 0.09683176130056381, 0.0, 0.0, 0.0, 0.0, 0.0, 0.0, 0.0, 0.0, 0.0], [0.07832237333059311, 0.1533859670162201, 0.07088382542133331, 0.0902547538280487, 0.05909326672554016, 0.055824290961027145, 0.07478320598602295, 0.08303184062242508, 0.06179108843207359, 0.09527018666267395, 0.17735923826694489, 0.0, 0.0, 0.0, 0.0, 0.0, 0.0, 0.0, 0.0], [0.07354848831892014, 0.06853441894054413, 0.11080972850322723, 0.11966028064489365, 0.0898277536034584, 0.07994984835386276, 0.10585204511880875, 0.07339546084403992, 0.07003767788410187, 0.07256918400526047, 0.07305819541215897, 0.06275694817304611, 0.0, 0.0, 0.0, 0.0, 0.0, 0.0, 0.0], [0.06680861860513687, 0.10404986888170242, 0.06629174202680588, 0.07667837291955948, 0.057424791157245636, 0.05391315743327141, 0.06715013831853867, 0.07055734097957611, 0.05719280615448952, 0.0759817510843277, 0.11607886105775833, 0.07718328386545181, 0.11068927496671677, 0.0, 0.0, 0.0, 0.0, 0.0, 0.0], [0.05596071109175682, 0.09469914436340332, 0.05486276373267174, 0.05021559074521065, 0.05077306926250458, 0.044035959988832474, 0.04797828197479248, 0.06871423870325089, 0.051784150302410126, 0.06430511921644211, 0.10975128412246704, 0.06285842508077621, 0.11778170615434647, 0.1262795329093933, 0.0, 0.0, 0.0, 0.0, 0.0], [0.05761389061808586, 0.07678564637899399, 0.06696035712957382, 0.09412741661071777, 0.05206567049026489, 0.05041847378015518, 0.07495435327291489, 0.05343855917453766, 0.04654815420508385, 0.06348609179258347, 0.08368154615163803, 0.0629899650812149, 0.06952708959579468, 0.0888480544090271, 0.05855471268296242, 0.0, 0.0, 0.0, 0.0], [0.06763999909162521, 0.03884248435497284, 0.09546636790037155, 0.057902511209249496, 0.10800503194332123, 0.09446479380130768, 0.0718316063284874, 0.07893151044845581, 0.09098434448242188, 0.056708745658397675, 0.03732572868466377, 0.046138010919094086, 0.04254376143217087, 0.03228487819433212, 0.04640250280499458, 0.0345277339220047, 0.0, 0.0, 0.0], [0.054815854877233505, 0.0586712509393692, 0.06666598469018936, 0.07328943908214569, 0.057821061462163925, 0.0542336031794548, 0.0663316622376442, 0.05472918227314949, 0.05115269869565964, 0.05617158114910126, 0.06193547695875168, 0.052785441279411316, 0.05666740611195564, 0.06239782273769379, 0.05065149441361427, 0.055862557142972946, 0.0658174678683281, 0.0, 0.0], [0.04675433784723282, 0.06103138625621796, 0.057408325374126434, 0.07198616117238998, 0.04536973685026169, 0.04191892594099045, 0.05951697379350662, 0.04623183235526085, 0.039571937173604965, 0.050934087485075, 0.06751393526792526, 0.0485130175948143, 0.05840500816702843, 0.07135491073131561, 0.04661867022514343, 0.05806906521320343, 0.06977832317352295, 0.05902336537837982, 0.0], [0.030599502846598625, 0.07764140516519547, 0.02138238027691841, 0.02824394591152668, 0.018855564296245575, 0.018643202260136604, 0.023544007912278175, 0.033104006201028824, 0.02294866554439068, 0.03998051583766937, 0.09088844060897827, 0.047024764120578766, 0.09044106304645538, 0.11666124314069748, 0.056699614971876144, 0.08350305259227753, 0.05812698230147362, 0.07582230120897293, 0.06588933616876602]], [[1.0, 0.0, 0.0, 0.0, 0.0, 0.0, 0.0, 0.0, 0.0, 0.0, 0.0, 0.0, 0.0, 0.0, 0.0, 0.0, 0.0, 0.0, 0.0], [0.5237913131713867, 0.4762086570262909, 0.0, 0.0, 0.0, 0.0, 0.0, 0.0, 0.0, 0.0, 0.0, 0.0, 0.0, 0.0, 0.0, 0.0, 0.0, 0.0, 0.0], [0.2870703339576721, 0.29764050245285034, 0.4152892231941223, 0.0, 0.0, 0.0, 0.0, 0.0, 0.0, 0.0, 0.0, 0.0, 0.0, 0.0, 0.0, 0.0, 0.0, 0.0, 0.0], [0.2713862359523773, 0.275711327791214, 0.1634696125984192, 0.2894328236579895, 0.0, 0.0, 0.0, 0.0, 0.0, 0.0, 0.0, 0.0, 0.0, 0.0, 0.0, 0.0, 0.0, 0.0, 0.0], [0.16170084476470947, 0.15485866367816925, 0.32883235812187195, 0.16993622481822968, 0.18467198312282562, 0.0, 0.0, 0.0, 0.0, 0.0, 0.0, 0.0, 0.0, 0.0, 0.0, 0.0, 0.0, 0.0, 0.0], [0.13857053220272064, 0.13283729553222656, 0.31098732352256775, 0.13467495143413544, 0.16522853076457977, 0.11770135164260864, 0.0, 0.0, 0.0, 0.0, 0.0, 0.0, 0.0, 0.0, 0.0, 0.0, 0.0, 0.0, 0.0], [0.14142346382141113, 0.14133290946483612, 0.10583857446908951, 0.15068207681179047, 0.13203561305999756, 0.15552638471126556, 0.17316092550754547, 0.0, 0.0, 0.0, 0.0, 0.0, 0.0, 0.0, 0.0, 0.0, 0.0, 0.0, 0.0], [0.12313771992921829, 0.12113170325756073, 0.13892261683940887, 0.15304072201251984, 0.11772484332323074, 0.12335357815027237, 0.1365603804588318, 0.08612842112779617, 0.0, 0.0, 0.0, 0.0, 0.0, 0.0, 0.0, 0.0, 0.0, 0.0, 0.0], [0.11423302441835403, 0.10902880877256393, 0.20386867225170135, 0.1287740021944046, 0.12493738532066345, 0.10567085444927216, 0.08709954470396042, 0.05928225442767143, 0.0671055018901825, 0.0, 0.0, 0.0, 0.0, 0.0, 0.0, 0.0, 0.0, 0.0, 0.0], [0.09914378076791763, 0.11110224574804306, 0.1272580772638321, 0.1012498065829277, 0.09285533428192139, 0.07074594497680664, 0.1094978079199791, 0.08577806502580643, 0.10271641612052917, 0.09965251386165619, 0.0, 0.0, 0.0, 0.0, 0.0, 0.0, 0.0, 0.0, 0.0], [0.08866685628890991, 0.0995657667517662, 0.06511159241199493, 0.09727849811315536, 0.07387706637382507, 0.07536794990301132, 0.13908663392066956, 0.11323815584182739, 0.12538009881973267, 0.05350540205836296, 0.06892195343971252, 0.0, 0.0, 0.0, 0.0, 0.0, 0.0, 0.0, 0.0], [0.07900217175483704, 0.07936198264360428, 0.12013781070709229, 0.0739370733499527, 0.08618754148483276, 0.06831832975149155, 0.06070452928543091, 0.06009025126695633, 0.06377203017473221, 0.11433642357587814, 0.11417140811681747, 0.07998037338256836, 0.0, 0.0, 0.0, 0.0, 0.0, 0.0, 0.0], [0.07620441913604736, 0.08608486503362656, 0.06858749687671661, 0.08136485517024994, 0.06590043753385544, 0.05985370650887489, 0.1063862293958664, 0.08498872816562653, 0.09746723622083664, 0.05463897064328194, 0.0710790604352951, 0.07361067831516266, 0.07383327931165695, 0.0, 0.0, 0.0, 0.0, 0.0, 0.0], [0.072754867374897, 0.08145184069871902, 0.048791032284498215, 0.07797467708587646, 0.060407817363739014, 0.0640789121389389, 0.11638369411230087, 0.1026877760887146, 0.11007224023342133, 0.040540456771850586, 0.05065916106104851, 0.06807776540517807, 0.056481923907995224, 0.04963782802224159, 0.0, 0.0, 0.0, 0.0, 0.0], [0.06285365670919418, 0.06360896676778793, 0.08119798451662064, 0.06335455924272537, 0.06462839990854263, 0.056371819227933884, 0.05681702494621277, 0.05072728917002678, 0.05431237444281578, 0.07772312313318253, 0.08175903558731079, 0.06492854654788971, 0.07656707614660263, 0.07683076709508896, 0.06831943243741989, 0.0, 0.0, 0.0, 0.0], [0.06399383395910263, 0.06801582127809525, 0.06277970969676971, 0.05833848938345909, 0.06259454786777496, 0.056009624153375626, 0.06645753234624863, 0.07561568915843964, 0.07695566117763519, 0.055203091353178024, 0.05775298923254013, 0.05852499604225159, 0.06201699376106262, 0.05467787757515907, 0.06660763919353485, 0.05445545166730881, 0.0, 0.0, 0.0], [0.06252311170101166, 0.06930239498615265, 0.048638831824064255, 0.05520758032798767, 0.057496268302202225, 0.05356474593281746, 0.0766066312789917, 0.09607221931219101, 0.09605822712182999, 0.039967212826013565, 0.04327186942100525, 0.05327029153704643, 0.050839804112911224, 0.04127009958028793, 0.06235016882419586, 0.05110403522849083, 0.04245651513338089, 0.0, 0.0], [0.055882085114717484, 0.05810046195983887, 0.05827999487519264, 0.053709615021944046, 0.05519072711467743, 0.050453945994377136, 0.056671176105737686, 0.05812270566821098, 0.05996527150273323, 0.053549814969301224, 0.056157372891902924, 0.05379404500126839, 0.0574113130569458, 0.053673550486564636, 0.0581379160284996, 0.05120847374200821, 0.05358598008751869, 0.05610550940036774, 0.0], [0.05503286421298981, 0.0565066896378994, 0.031217653304338455, 0.057567644864320755, 0.04834011569619179, 0.06217989698052406, 0.08012725412845612, 0.0859004557132721, 0.08035562932491302, 0.031150732189416885, 0.032114237546920776, 0.05182375758886337, 0.03669632598757744, 0.035188719630241394, 0.046762216836214066, 0.06179184839129448, 0.04077526181936264, 0.04558227211236954, 0.060886431485414505]], [[1.0, 0.0, 0.0, 0.0, 0.0, 0.0, 0.0, 0.0, 0.0, 0.0, 0.0, 0.0, 0.0, 0.0, 0.0, 0.0, 0.0, 0.0, 0.0], [0.5234487056732178, 0.4765513241291046, 0.0, 0.0, 0.0, 0.0, 0.0, 0.0, 0.0, 0.0, 0.0, 0.0, 0.0, 0.0, 0.0, 0.0, 0.0, 0.0, 0.0], [0.39051613211631775, 0.3573148250579834, 0.25216904282569885, 0.0, 0.0, 0.0, 0.0, 0.0, 0.0, 0.0, 0.0, 0.0, 0.0, 0.0, 0.0, 0.0, 0.0, 0.0, 0.0], [0.17099997401237488, 0.1928822100162506, 0.29533618688583374, 0.34078165888786316, 0.0, 0.0, 0.0, 0.0, 0.0, 0.0, 0.0, 0.0, 0.0, 0.0, 0.0, 0.0, 0.0, 0.0, 0.0], [0.2868351936340332, 0.23952621221542358, 0.12870417535305023, 0.1454273909330368, 0.19950704276561737, 0.0, 0.0, 0.0, 0.0, 0.0, 0.0, 0.0, 0.0, 0.0, 0.0, 0.0, 0.0, 0.0, 0.0], [0.21438203752040863, 0.18509700894355774, 0.1176852136850357, 0.11835505068302155, 0.15899120271205902, 0.20548942685127258, 0.0, 0.0, 0.0, 0.0, 0.0, 0.0, 0.0, 0.0, 0.0, 0.0, 0.0, 0.0, 0.0], [0.14226092398166656, 0.09231976419687271, 0.08119411766529083, 0.13103190064430237, 0.1501200795173645, 0.3127480447292328, 0.09032517671585083, 0.0, 0.0, 0.0, 0.0, 0.0, 0.0, 0.0, 0.0, 0.0, 0.0, 0.0, 0.0], [0.15107248723506927, 0.15111233294010162, 0.11036012321710587, 0.1023886576294899, 0.12052842974662781, 0.12182310968637466, 0.11771322041749954, 0.12500160932540894, 0.0, 0.0, 0.0, 0.0, 0.0, 0.0, 0.0, 0.0, 0.0, 0.0, 0.0], [0.14967498183250427, 0.09322037547826767, 0.051638659089803696, 0.07075247913599014, 0.11042274534702301, 0.24753031134605408, 0.06058933213353157, 0.1077483519911766, 0.10842278599739075, 0.0, 0.0, 0.0, 0.0, 0.0, 0.0, 0.0, 0.0, 0.0, 0.0], [0.07814379036426544, 0.11994980275630951, 0.1548181027173996, 0.12068573385477066, 0.08760066330432892, 0.043146077543497086, 0.14905469119548798, 0.0970350056886673, 0.10020196437835693, 0.049364130944013596, 0.0, 0.0, 0.0, 0.0, 0.0, 0.0, 0.0, 0.0, 0.0], [0.07356075942516327, 0.08661334216594696, 0.11665099859237671, 0.11729428917169571, 0.0905747190117836, 0.06909996271133423, 0.11318396776914597, 0.09430773556232452, 0.08493239432573318, 0.0684446170926094, 0.08533723652362823, 0.0, 0.0, 0.0, 0.0, 0.0, 0.0, 0.0, 0.0], [0.07151936739683151, 0.07151538133621216, 0.09261848777532578, 0.09147276729345322, 0.08368471264839172, 0.08218701928853989, 0.08475244045257568, 0.07846127450466156, 0.0746530294418335, 0.09158516675233841, 0.09388173371553421, 0.08366865664720535, 0.0, 0.0, 0.0, 0.0, 0.0, 0.0, 0.0], [0.06678836792707443, 0.08452332764863968, 0.10539136826992035, 0.09321866929531097, 0.07520049065351486, 0.050780367106199265, 0.10128320753574371, 0.07862856984138489, 0.0777956023812294, 0.055228233337402344, 0.08083130419254303, 0.05334893614053726, 0.0769815593957901, 0.0, 0.0, 0.0, 0.0, 0.0, 0.0], [0.058330897241830826, 0.07524407655000687, 0.10213436931371689, 0.08345556259155273, 0.06731937825679779, 0.04347584769129753, 0.09261586517095566, 0.06736630201339722, 0.06890738010406494, 0.05340435728430748, 0.08435545116662979, 0.04969814047217369, 0.07999575883150101, 0.07369665801525116, 0.0, 0.0, 0.0, 0.0, 0.0], [0.06055824086070061, 0.0666830763220787, 0.07817879319190979, 0.07176239043474197, 0.06546110659837723, 0.05526198819279671, 0.07396898418664932, 0.06455923616886139, 0.06490029394626617, 0.06140277534723282, 0.07361208647489548, 0.05878373980522156, 0.07214011251926422, 0.06994447857141495, 0.06278268992900848, 0.0, 0.0, 0.0, 0.0], [0.050976965576410294, 0.04687933996319771, 0.059330761432647705, 0.05788302421569824, 0.05793361738324165, 0.06474747508764267, 0.05265820026397705, 0.05143715441226959, 0.050482068210840225, 0.07686960697174072, 0.07138743251562119, 0.0691109150648117, 0.07257542759180069, 0.07457713037729263, 0.06393785029649734, 0.07921312749385834, 0.0, 0.0, 0.0], [0.04822453856468201, 0.04336787760257721, 0.05834151804447174, 0.06885100901126862, 0.061143871396780014, 0.07210766524076462, 0.05518592149019241, 0.05767417699098587, 0.048973798751831055, 0.0691286250948906, 0.0560421422123909, 0.062478162348270416, 0.05725213140249252, 0.059713512659072876, 0.05287141352891922, 0.06673181802034378, 0.06191183999180794, 0.0, 0.0], [0.044369928538799286, 0.042630184441804886, 0.059665560722351074, 0.0643538385629654, 0.056130632758140564, 0.0589686781167984, 0.05472791567444801, 0.052508044987916946, 0.04648109897971153, 0.06177188456058502, 0.05749879777431488, 0.05519695207476616, 0.057936135679483414, 0.05904054269194603, 0.049913037568330765, 0.06072183698415756, 0.06257364153862, 0.05551130324602127, 0.0], [0.036395952105522156, 0.045299287885427475, 0.08379694074392319, 0.08199641853570938, 0.054452020674943924, 0.0372375026345253, 0.07405199110507965, 0.05399289354681969, 0.045615896582603455, 0.041248757392168045, 0.05722090229392052, 0.03526507318019867, 0.05464550852775574, 0.05142946168780327, 0.03713978826999664, 0.0396149568259716, 0.06023330241441727, 0.04773380234837532, 0.0626295879483223]], [[1.0, 0.0, 0.0, 0.0, 0.0, 0.0, 0.0, 0.0, 0.0, 0.0, 0.0, 0.0, 0.0, 0.0, 0.0, 0.0, 0.0, 0.0, 0.0], [0.42862746119499207, 0.5713725090026855, 0.0, 0.0, 0.0, 0.0, 0.0, 0.0, 0.0, 0.0, 0.0, 0.0, 0.0, 0.0, 0.0, 0.0, 0.0, 0.0, 0.0], [0.3490612804889679, 0.35423216223716736, 0.29670655727386475, 0.0, 0.0, 0.0, 0.0, 0.0, 0.0, 0.0, 0.0, 0.0, 0.0, 0.0, 0.0, 0.0, 0.0, 0.0, 0.0], [0.08503195643424988, 0.03731270506978035, 0.09861447662115097, 0.7790408730506897, 0.0, 0.0, 0.0, 0.0, 0.0, 0.0, 0.0, 0.0, 0.0, 0.0, 0.0, 0.0, 0.0, 0.0, 0.0], [0.27713289856910706, 0.28775787353515625, 0.15357045829296112, 0.11227008700370789, 0.1692686527967453, 0.0, 0.0, 0.0, 0.0, 0.0, 0.0, 0.0, 0.0, 0.0, 0.0, 0.0, 0.0, 0.0, 0.0], [0.25232061743736267, 0.2608010768890381, 0.11525040119886398, 0.08874300122261047, 0.12304843217134476, 0.15983647108078003, 0.0, 0.0, 0.0, 0.0, 0.0, 0.0, 0.0, 0.0, 0.0, 0.0, 0.0, 0.0, 0.0], [0.12427907437086105, 0.12906001508235931, 0.14937691390514374, 0.1954515427350998, 0.1181170791387558, 0.10646114498376846, 0.17725425958633423, 0.0, 0.0, 0.0, 0.0, 0.0, 0.0, 0.0, 0.0, 0.0, 0.0, 0.0, 0.0], [0.0690978616476059, 0.037909552454948425, 0.05484101548790932, 0.28507110476493835, 0.06274257600307465, 0.08010877668857574, 0.24217529594898224, 0.16805385053157806, 0.0, 0.0, 0.0, 0.0, 0.0, 0.0, 0.0, 0.0, 0.0, 0.0, 0.0], [0.17248566448688507, 0.35333511233329773, 0.13920380175113678, 0.04749443009495735, 0.06627122312784195, 0.05362812057137489, 0.04268750920891762, 0.04722865670919418, 0.0776655375957489, 0.0, 0.0, 0.0, 0.0, 0.0, 0.0, 0.0, 0.0, 0.0, 0.0], [0.11501656472682953, 0.1253937929868698, 0.09677725285291672, 0.09158239513635635, 0.08393869549036026, 0.08527255058288574, 0.08773111552000046, 0.08761650323867798, 0.09376396238803864, 0.13290713727474213, 0.0, 0.0, 0.0, 0.0, 0.0, 0.0, 0.0, 0.0, 0.0], [0.07636135071516037, 0.10357005149126053, 0.10999096930027008, 0.061954960227012634, 0.0880451500415802, 0.07007398456335068, 0.06274445354938507, 0.0648864284157753, 0.07502961158752441, 0.11263447254896164, 0.1747085601091385, 0.0, 0.0, 0.0, 0.0, 0.0, 0.0, 0.0, 0.0], [0.04458082839846611, 0.10004044324159622, 0.03840106353163719, 0.009023601189255714, 0.01936812698841095, 0.015119402669370174, 0.008649530820548534, 0.01064571738243103, 0.019886692985892296, 0.15984104573726654, 0.44011566042900085, 0.13432779908180237, 0.0, 0.0, 0.0, 0.0, 0.0, 0.0, 0.0], [0.06286891549825668, 0.08171645551919937, 0.07163491100072861, 0.035883091390132904, 0.06642770767211914, 0.0589788593351841, 0.0382438600063324, 0.044109225273132324, 0.05612579733133316, 0.09731210023164749, 0.13911530375480652, 0.09860572963953018, 0.1489780694246292, 0.0, 0.0, 0.0, 0.0, 0.0, 0.0], [0.061113547533750534, 0.05586674436926842, 0.08499313145875931, 0.11436434090137482, 0.08534689247608185, 0.07824801653623581, 0.11178432404994965, 0.0984669104218483, 0.08111148327589035, 0.047252245247364044, 0.04390539601445198, 0.049043651670217514, 0.04477570205926895, 0.04372762516140938, 0.0, 0.0, 0.0, 0.0, 0.0], [0.017302820459008217, 0.04340796172618866, 0.01832842454314232, 0.003594546113163233, 0.008393012918531895, 0.005869126878678799, 0.003442112822085619, 0.00419088127091527, 0.008026660420000553, 0.06966585665941238, 0.2273193597793579, 0.05882931500673294, 0.2053186297416687, 0.21936491131782532, 0.1069464161992073, 0.0, 0.0, 0.0, 0.0], [0.026223378255963326, 0.048623207956552505, 0.02583315595984459, 0.00676349364221096, 0.01780787482857704, 0.014571048319339752, 0.007075859233736992, 0.009088764898478985, 0.015583177097141743, 0.07278747856616974, 0.16071657836437225, 0.0677146166563034, 0.16190432012081146, 0.15766581892967224, 0.10288199782371521, 0.10475923866033554, 0.0, 0.0, 0.0], [0.025538748130202293, 0.04740487411618233, 0.034845177084207535, 0.010976098477840424, 0.021644683554768562, 0.015655353665351868, 0.011001674458384514, 0.012432016432285309, 0.01843322068452835, 0.06213245913386345, 0.14292599260807037, 0.05834679678082466, 0.14269836246967316, 0.1390690952539444, 0.08305127173662186, 0.08680276572704315, 0.08704137057065964, 0.0, 0.0], [0.013754239305853844, 0.032905783504247665, 0.016801247373223305, 0.0033158170990645885, 0.008463195525109768, 0.005789087153971195, 0.0032828827388584614, 0.004017259925603867, 0.007393485400825739, 0.050928547978401184, 0.1596883088350296, 0.044987037777900696, 0.15266230702400208, 0.1542147547006607, 0.07735325396060944, 0.0779370591044426, 0.07485881447792053, 0.11164693534374237, 0.0], [0.039513662457466125, 0.052077002823352814, 0.06392347067594528, 0.06351713836193085, 0.03810976818203926, 0.028182867914438248, 0.055144909769296646, 0.0442049466073513, 0.04031834006309509, 0.046551287174224854, 0.06990758329629898, 0.04296822100877762, 0.06214885786175728, 0.06813289225101471, 0.04651440307497978, 0.04510359466075897, 0.06761936843395233, 0.06021702289581299, 0.06584464758634567]]]}\n",
       "    )\n",
       "    </script>"
      ],
      "text/plain": [
       "<circuitsvis.utils.render.RenderedHTML at 0x326800cb0>"
      ]
     },
     "metadata": {},
     "output_type": "display_data"
    },
    {
     "name": "stdout",
     "output_type": "stream",
     "text": [
      "Layer:  1\n"
     ]
    },
    {
     "data": {
      "text/html": [
       "<div id=\"circuits-vis-3ce2645b-69fb\" style=\"margin: 15px 0;\"/>\n",
       "    <script crossorigin type=\"module\">\n",
       "    import { render, AttentionPatterns } from \"https://unpkg.com/circuitsvis@1.43.2/dist/cdn/esm.js\";\n",
       "    render(\n",
       "      \"circuits-vis-3ce2645b-69fb\",\n",
       "      AttentionPatterns,\n",
       "      {\"tokens\": [\"<\", \"z\", \"d\", \"h\", \"g\", \"|\", \"g\", \"h\", \"d\", \"z\", \"|\", \"z\", \"d\", \"h\", \"g\"], \"attention\": [[[1.0, 0.0, 0.0, 0.0, 0.0, 0.0, 0.0, 0.0, 0.0, 0.0, 0.0, 0.0, 0.0, 0.0, 0.0, 0.0, 0.0, 0.0, 0.0], [0.5526275634765625, 0.4473724663257599, 0.0, 0.0, 0.0, 0.0, 0.0, 0.0, 0.0, 0.0, 0.0, 0.0, 0.0, 0.0, 0.0, 0.0, 0.0, 0.0, 0.0], [0.283325731754303, 0.27896568179130554, 0.43770861625671387, 0.0, 0.0, 0.0, 0.0, 0.0, 0.0, 0.0, 0.0, 0.0, 0.0, 0.0, 0.0, 0.0, 0.0, 0.0, 0.0], [0.2601798474788666, 0.15498748421669006, 0.47592389583587646, 0.10890866070985794, 0.0, 0.0, 0.0, 0.0, 0.0, 0.0, 0.0, 0.0, 0.0, 0.0, 0.0, 0.0, 0.0, 0.0, 0.0], [0.13403061032295227, 0.17530609667301178, 0.24310939013957977, 0.2747584283351898, 0.17279547452926636, 0.0, 0.0, 0.0, 0.0, 0.0, 0.0, 0.0, 0.0, 0.0, 0.0, 0.0, 0.0, 0.0, 0.0], [0.30754372477531433, 0.09679053723812103, 0.07599148899316788, 0.1765926033258438, 0.21261613070964813, 0.1304655373096466, 0.0, 0.0, 0.0, 0.0, 0.0, 0.0, 0.0, 0.0, 0.0, 0.0, 0.0, 0.0, 0.0], [0.061186131089925766, 0.04823071137070656, 0.06436844915151596, 0.04376232996582985, 0.12326592952013016, 0.585349977016449, 0.07383642345666885, 0.0, 0.0, 0.0, 0.0, 0.0, 0.0, 0.0, 0.0, 0.0, 0.0, 0.0, 0.0], [0.0809873715043068, 0.045671768486499786, 0.07808974385261536, 0.09581173211336136, 0.18154829740524292, 0.4621816575527191, 0.02222040854394436, 0.033488910645246506, 0.0, 0.0, 0.0, 0.0, 0.0, 0.0, 0.0, 0.0, 0.0, 0.0, 0.0], [0.05707763880491257, 0.16519370675086975, 0.25222140550613403, 0.39547988772392273, 0.050583090633153915, 0.005546671338379383, 0.05511539801955223, 0.01298320572823286, 0.005799019709229469, 0.0, 0.0, 0.0, 0.0, 0.0, 0.0, 0.0, 0.0, 0.0, 0.0], [0.06471604108810425, 0.22886933386325836, 0.11896707117557526, 0.5483131408691406, 0.006788644473999739, 1.4534504771290813e-05, 0.028979061171412468, 0.0022908549290150404, 0.0010449271649122238, 1.6298472473863512e-05, 0.0, 0.0, 0.0, 0.0, 0.0, 0.0, 0.0, 0.0, 0.0], [0.06560012698173523, 0.25677746534347534, 0.10299229621887207, 0.5343982577323914, 0.004384547937661409, 4.674964657169767e-06, 0.032411687076091766, 0.0020971728954464197, 0.0012877436820417643, 1.6454838259960525e-05, 2.9559283575508744e-05, 0.0, 0.0, 0.0, 0.0, 0.0, 0.0, 0.0, 0.0], [0.03444046154618263, 0.23101681470870972, 0.0856049507856369, 0.6297292113304138, 0.0013692383654415607, 2.6489601623325143e-07, 0.017093239352107048, 0.00048103215522132814, 0.0002601282321847975, 1.3471158126776572e-06, 2.8580570869962685e-06, 3.414839966353611e-07, 0.0, 0.0, 0.0, 0.0, 0.0, 0.0, 0.0], [0.023975152522325516, 0.22142477333545685, 0.0921863541007042, 0.6447282433509827, 0.001011378364637494, 1.5369980133073113e-07, 0.01611979678273201, 0.0003422684094402939, 0.00020724892965517938, 1.323965193478216e-06, 2.6938816972688073e-06, 3.2991229659273813e-07, 3.0917260573914973e-07, 0.0, 0.0, 0.0, 0.0, 0.0, 0.0], [0.05885962024331093, 0.22580066323280334, 0.1026478186249733, 0.5840060114860535, 0.004427453503012657, 4.462954166228883e-06, 0.022301601245999336, 0.001364832161925733, 0.0005648656515404582, 4.930105205858126e-06, 1.1465592251624912e-05, 1.6585722732997965e-06, 1.3432552350423066e-06, 3.2728958103689365e-06, 0.0, 0.0, 0.0, 0.0, 0.0], [0.026306413114070892, 0.24300388991832733, 0.07984339445829391, 0.6322791576385498, 0.000754927983507514, 6.71651037009724e-08, 0.01723817177116871, 0.00033031462226063013, 0.0002391460002399981, 1.169535721601278e-06, 2.14168517231883e-06, 2.5660239089120296e-07, 2.375344365646015e-07, 5.148875175109424e-07, 3.1885417683952255e-07, 0.0, 0.0, 0.0, 0.0], [0.08656548708677292, 0.27474457025527954, 0.06574629247188568, 0.5446187257766724, 0.0024109920486807823, 6.914319783390965e-07, 0.02388942986726761, 0.0012991908006370068, 0.0007135617779567838, 2.4858468350430485e-06, 4.858546617469983e-06, 6.138250796539069e-07, 4.529144632670068e-07, 1.3373534102356643e-06, 5.803691465189331e-07, 7.720854569015501e-07, 0.0, 0.0, 0.0], [0.3119449317455292, 0.3068455159664154, 0.031042590737342834, 0.2886839509010315, 0.004112863447517157, 2.145727876268211e-06, 0.04404193162918091, 0.007118739653378725, 0.0061473241075873375, 1.605319994268939e-05, 2.0847002815571614e-05, 3.6088588331040228e-06, 2.179778221034212e-06, 7.980996088008396e-06, 2.5741148874658393e-06, 2.9302373150130734e-06, 3.7951563172100578e-06, 0.0, 0.0], [0.03449147567152977, 0.2856437563896179, 0.06584129482507706, 0.5909603834152222, 0.0006012980011291802, 3.260868908228076e-08, 0.021628227084875107, 0.00041744919144548476, 0.00040896644350141287, 1.572951191519678e-06, 2.366254648222821e-06, 2.974861388338468e-07, 2.693780629670073e-07, 6.012600692884007e-07, 3.574234597181203e-07, 3.712188174631592e-07, 8.774811135481286e-07, 4.0436970039081643e-07, 0.0], [0.2787928879261017, 0.32929155230522156, 0.030202293768525124, 0.3027590215206146, 0.002878829836845398, 8.65373692704452e-07, 0.044682733714580536, 0.005642388481646776, 0.005701396148651838, 1.3164859410608187e-05, 1.585406789672561e-05, 2.6703371531766606e-06, 1.6617906339888577e-06, 5.907430931983981e-06, 1.9796625565504655e-06, 2.1136700070201186e-06, 2.689004986677901e-06, 1.6708900147932582e-06, 3.2325738175131846e-07]], [[1.0, 0.0, 0.0, 0.0, 0.0, 0.0, 0.0, 0.0, 0.0, 0.0, 0.0, 0.0, 0.0, 0.0, 0.0, 0.0, 0.0, 0.0, 0.0], [0.6286534070968628, 0.37134653329849243, 0.0, 0.0, 0.0, 0.0, 0.0, 0.0, 0.0, 0.0, 0.0, 0.0, 0.0, 0.0, 0.0, 0.0, 0.0, 0.0, 0.0], [0.4625645577907562, 0.20672819018363953, 0.330707311630249, 0.0, 0.0, 0.0, 0.0, 0.0, 0.0, 0.0, 0.0, 0.0, 0.0, 0.0, 0.0, 0.0, 0.0, 0.0, 0.0], [0.3120233416557312, 0.2375553995370865, 0.20433034002780914, 0.24609093368053436, 0.0, 0.0, 0.0, 0.0, 0.0, 0.0, 0.0, 0.0, 0.0, 0.0, 0.0, 0.0, 0.0, 0.0, 0.0], [0.21746301651000977, 0.11235345155000687, 0.282625287771225, 0.13618256151676178, 0.2513757348060608, 0.0, 0.0, 0.0, 0.0, 0.0, 0.0, 0.0, 0.0, 0.0, 0.0, 0.0, 0.0, 0.0, 0.0], [0.15249434113502502, 0.1519949734210968, 0.3230597674846649, 0.20475615561008453, 0.1280192881822586, 0.03967545926570892, 0.0, 0.0, 0.0, 0.0, 0.0, 0.0, 0.0, 0.0, 0.0, 0.0, 0.0, 0.0, 0.0], [0.08141777664422989, 0.051859546452760696, 0.08437444269657135, 0.0752582848072052, 0.14162106812000275, 0.484528511762619, 0.0809403583407402, 0.0, 0.0, 0.0, 0.0, 0.0, 0.0, 0.0, 0.0, 0.0, 0.0, 0.0, 0.0], [0.10050833970308304, 0.07136892527341843, 0.15405912697315216, 0.13189443945884705, 0.17787908017635345, 0.18235376477241516, 0.08191199600696564, 0.10002432018518448, 0.0, 0.0, 0.0, 0.0, 0.0, 0.0, 0.0, 0.0, 0.0, 0.0, 0.0], [0.08167511969804764, 0.04881427809596062, 0.13092994689941406, 0.09748771786689758, 0.15899240970611572, 0.2809876799583435, 0.06275336444377899, 0.09321839362382889, 0.04514104500412941, 0.0, 0.0, 0.0, 0.0, 0.0, 0.0, 0.0, 0.0, 0.0, 0.0], [0.10550642013549805, 0.13766242563724518, 0.20478026568889618, 0.2547858655452728, 0.14391642808914185, 0.009567473083734512, 0.08491548150777817, 0.03602384030818939, 0.020243771374225616, 0.002598052378743887, 0.0, 0.0, 0.0, 0.0, 0.0, 0.0, 0.0, 0.0, 0.0], [0.10314367711544037, 0.1447756141424179, 0.19681565463542938, 0.264230877161026, 0.13856732845306396, 0.0070818630047142506, 0.08569769561290741, 0.033722590655088425, 0.019205402582883835, 0.002305861795321107, 0.0044534713961184025, 0.0, 0.0, 0.0, 0.0, 0.0, 0.0, 0.0, 0.0], [0.10202806442975998, 0.14540709555149078, 0.2122316211462021, 0.27219605445861816, 0.132405623793602, 0.00562543049454689, 0.07989306002855301, 0.027939368039369583, 0.015774808824062347, 0.0015675727045163512, 0.003184607718139887, 0.0017466810531914234, 0.0, 0.0, 0.0, 0.0, 0.0, 0.0, 0.0], [0.10133686661720276, 0.15817855298519135, 0.19936636090278625, 0.27750590443611145, 0.12402326613664627, 0.004233352839946747, 0.08328450471162796, 0.027032706886529922, 0.01629595272243023, 0.0016476809978485107, 0.003488530172035098, 0.001867070677690208, 0.001739229541271925, 0.0, 0.0, 0.0, 0.0, 0.0, 0.0], [0.09575512260198593, 0.15240921080112457, 0.19200478494167328, 0.29428228735923767, 0.13186487555503845, 0.003497142344713211, 0.0813390240073204, 0.026507576927542686, 0.014294440858066082, 0.0012477723648771644, 0.002762220101431012, 0.0014385116519406438, 0.0013505276292562485, 0.0012464439496397972, 0.0, 0.0, 0.0, 0.0, 0.0], [0.10632364451885223, 0.150145024061203, 0.20606659352779388, 0.25269439816474915, 0.12571629881858826, 0.007034167181700468, 0.08415824174880981, 0.030795035883784294, 0.019431643187999725, 0.0024240531492978334, 0.0046493662521243095, 0.0026701074093580246, 0.0024665766395628452, 0.0024144193157553673, 0.0030103938188403845, 0.0, 0.0, 0.0, 0.0], [0.10074896365404129, 0.15941958129405975, 0.2004663050174713, 0.27754268050193787, 0.12067699432373047, 0.003900324460119009, 0.08205410838127136, 0.025694862008094788, 0.015682028606534004, 0.0015356214717030525, 0.003297051414847374, 0.0017417598282918334, 0.0016180856619030237, 0.0015382202109321952, 0.0020232312381267548, 0.0020601365249603987, 0.0, 0.0, 0.0], [0.11135711520910263, 0.1447845846414566, 0.20776794850826263, 0.22155079245567322, 0.11983839422464371, 0.011387541890144348, 0.08501283079385757, 0.034341614693403244, 0.02407209202647209, 0.003937837667763233, 0.006803453899919987, 0.004208816215395927, 0.0038586377631872892, 0.003915221896022558, 0.004590876400470734, 0.004613952711224556, 0.00795828364789486, 0.0, 0.0], [0.10668430477380753, 0.15049265325069427, 0.20072762668132782, 0.24197158217430115, 0.121090367436409, 0.007530551869422197, 0.08485901355743408, 0.03152019530534744, 0.02086571604013443, 0.002854353981092572, 0.005355490371584892, 0.003130475990474224, 0.0028976285830140114, 0.0028479015454649925, 0.0035075887572020292, 0.0035481785889714956, 0.006422633770853281, 0.003693769685924053, 0.0], [0.11901088804006577, 0.14985094964504242, 0.1982974261045456, 0.1616978496313095, 0.08585803955793381, 0.01815592497587204, 0.08474986255168915, 0.03406018763780594, 0.03545005992054939, 0.010062056593596935, 0.015022696927189827, 0.010234491899609566, 0.00924557726830244, 0.010103740729391575, 0.010491584427654743, 0.010136651806533337, 0.014797002077102661, 0.01105987373739481, 0.01171504333615303]], [[1.0, 0.0, 0.0, 0.0, 0.0, 0.0, 0.0, 0.0, 0.0, 0.0, 0.0, 0.0, 0.0, 0.0, 0.0, 0.0, 0.0, 0.0, 0.0], [0.5338432788848877, 0.4661567211151123, 0.0, 0.0, 0.0, 0.0, 0.0, 0.0, 0.0, 0.0, 0.0, 0.0, 0.0, 0.0, 0.0, 0.0, 0.0, 0.0, 0.0], [0.5230834484100342, 0.3285755515098572, 0.14834097027778625, 0.0, 0.0, 0.0, 0.0, 0.0, 0.0, 0.0, 0.0, 0.0, 0.0, 0.0, 0.0, 0.0, 0.0, 0.0, 0.0], [0.23791661858558655, 0.21689635515213013, 0.2833828628063202, 0.2618042230606079, 0.0, 0.0, 0.0, 0.0, 0.0, 0.0, 0.0, 0.0, 0.0, 0.0, 0.0, 0.0, 0.0, 0.0, 0.0], [0.21951161324977875, 0.19405663013458252, 0.1734212040901184, 0.211065411567688, 0.20194515585899353, 0.0, 0.0, 0.0, 0.0, 0.0, 0.0, 0.0, 0.0, 0.0, 0.0, 0.0, 0.0, 0.0, 0.0], [0.25412803888320923, 0.1423989087343216, 0.14572389423847198, 0.09473720192909241, 0.2555909752845764, 0.10742096602916718, 0.0, 0.0, 0.0, 0.0, 0.0, 0.0, 0.0, 0.0, 0.0, 0.0, 0.0, 0.0, 0.0], [0.07834752649068832, 0.06536662578582764, 0.06932075321674347, 0.06896362453699112, 0.07555301487445831, 0.5715153813362122, 0.07093305885791779, 0.0, 0.0, 0.0, 0.0, 0.0, 0.0, 0.0, 0.0, 0.0, 0.0, 0.0, 0.0], [0.09573863446712494, 0.05487736687064171, 0.061772484332323074, 0.04461212083697319, 0.09379502385854721, 0.447101891040802, 0.06922002881765366, 0.13288238644599915, 0.0, 0.0, 0.0, 0.0, 0.0, 0.0, 0.0, 0.0, 0.0, 0.0, 0.0], [0.10458721220493317, 0.0856870636343956, 0.09313509613275528, 0.07987053692340851, 0.10495715588331223, 0.20302754640579224, 0.09326274693012238, 0.11935543268918991, 0.11611718684434891, 0.0, 0.0, 0.0, 0.0, 0.0, 0.0, 0.0, 0.0, 0.0, 0.0], [0.09179501980543137, 0.12119615077972412, 0.3059016168117523, 0.10961019992828369, 0.13146111369132996, 0.0174240842461586, 0.11056113243103027, 0.0340082012116909, 0.05387653410434723, 0.024165894836187363, 0.0, 0.0, 0.0, 0.0, 0.0, 0.0, 0.0, 0.0, 0.0], [0.06697968393564224, 0.12122182548046112, 0.36963048577308655, 0.12881359457969666, 0.10327576845884323, 0.013480952940881252, 0.09798729419708252, 0.024420179426670074, 0.03542253375053406, 0.018476365134119987, 0.020291320979595184, 0.0, 0.0, 0.0, 0.0, 0.0, 0.0, 0.0, 0.0], [0.07265032082796097, 0.13377146422863007, 0.34095266461372375, 0.13677054643630981, 0.10787972807884216, 0.0061508119106292725, 0.10650436580181122, 0.02199445106089115, 0.03579172119498253, 0.01350452657788992, 0.01589403674006462, 0.008135348558425903, 0.0, 0.0, 0.0, 0.0, 0.0, 0.0, 0.0], [0.06843096017837524, 0.13380970060825348, 0.35544174909591675, 0.13883928954601288, 0.1037023589015007, 0.004874314181506634, 0.10405018925666809, 0.019377809017896652, 0.03219130262732506, 0.011522033251821995, 0.01377575658261776, 0.0067778173834085464, 0.007206693757325411, 0.0, 0.0, 0.0, 0.0, 0.0, 0.0], [0.06944965571165085, 0.11894222348928452, 0.37061136960983276, 0.11710033565759659, 0.10895070433616638, 0.008460515178740025, 0.09816946089267731, 0.02094554528594017, 0.03447411581873894, 0.013943090103566647, 0.015640215948224068, 0.008207261562347412, 0.008454504422843456, 0.006651001051068306, 0.0, 0.0, 0.0, 0.0, 0.0], [0.06779922544956207, 0.13503873348236084, 0.3288640081882477, 0.14450499415397644, 0.09963744878768921, 0.005370521452277899, 0.10402309149503708, 0.020926518365740776, 0.033024176955223083, 0.012776859104633331, 0.015320492908358574, 0.007878546603024006, 0.00848220195621252, 0.006473370362073183, 0.009879820048809052, 0.0, 0.0, 0.0, 0.0], [0.07608246058225632, 0.126503124833107, 0.3122897744178772, 0.12353431433439255, 0.11105406284332275, 0.0071341497823596, 0.10486923158168793, 0.023721981793642044, 0.039091095328330994, 0.014701800420880318, 0.016993803903460503, 0.008853151462972164, 0.009108452126383781, 0.007274771574884653, 0.010638180188834667, 0.008149675093591213, 0.0, 0.0, 0.0], [0.09314659237861633, 0.1212398111820221, 0.1837054193019867, 0.1121806651353836, 0.11374204605817795, 0.011452731676399708, 0.10948585718870163, 0.03929091989994049, 0.059505801647901535, 0.024862240999937057, 0.02837618626654148, 0.017002467066049576, 0.01694270223379135, 0.014845121651887894, 0.018797654658555984, 0.015060804784297943, 0.02036294899880886, 0.0, 0.0], [0.07118742167949677, 0.1324174702167511, 0.28839296102523804, 0.13837692141532898, 0.1005081757903099, 0.0056969658471643925, 0.10451640188694, 0.023085281252861023, 0.036277733743190765, 0.013962547294795513, 0.016717543825507164, 0.008766810409724712, 0.009326807223260403, 0.007283504586666822, 0.010760311037302017, 0.00836702436208725, 0.01391568686813116, 0.01044043991714716, 0.0], [0.10549508780241013, 0.11153391003608704, 0.10967924445867538, 0.09533287584781647, 0.11122024804353714, 0.01061203796416521, 0.10808415710926056, 0.050357915461063385, 0.07687737792730331, 0.029235558584332466, 0.03393579646945, 0.020964650437235832, 0.020138923078775406, 0.01893283799290657, 0.021659426391124725, 0.017279790714383125, 0.019327299669384956, 0.018425840884447098, 0.02090700902044773]], [[1.0, 0.0, 0.0, 0.0, 0.0, 0.0, 0.0, 0.0, 0.0, 0.0, 0.0, 0.0, 0.0, 0.0, 0.0, 0.0, 0.0, 0.0, 0.0], [0.5055603981018066, 0.49443960189819336, 0.0, 0.0, 0.0, 0.0, 0.0, 0.0, 0.0, 0.0, 0.0, 0.0, 0.0, 0.0, 0.0, 0.0, 0.0, 0.0, 0.0], [0.3716893792152405, 0.37438634037971497, 0.25392425060272217, 0.0, 0.0, 0.0, 0.0, 0.0, 0.0, 0.0, 0.0, 0.0, 0.0, 0.0, 0.0, 0.0, 0.0, 0.0, 0.0], [0.24419744312763214, 0.2114202231168747, 0.3631465435028076, 0.18123582005500793, 0.0, 0.0, 0.0, 0.0, 0.0, 0.0, 0.0, 0.0, 0.0, 0.0, 0.0, 0.0, 0.0, 0.0, 0.0], [0.19445310533046722, 0.22889025509357452, 0.18690501153469086, 0.21220886707305908, 0.17754274606704712, 0.0, 0.0, 0.0, 0.0, 0.0, 0.0, 0.0, 0.0, 0.0, 0.0, 0.0, 0.0, 0.0, 0.0], [0.1790425181388855, 0.23808476328849792, 0.121448814868927, 0.22905321419239044, 0.09830354154109955, 0.13406719267368317, 0.0, 0.0, 0.0, 0.0, 0.0, 0.0, 0.0, 0.0, 0.0, 0.0, 0.0, 0.0, 0.0], [0.09161309897899628, 0.08850165456533432, 0.1843472123146057, 0.07841687649488449, 0.23356980085372925, 0.21112123131752014, 0.1124301478266716, 0.0, 0.0, 0.0, 0.0, 0.0, 0.0, 0.0, 0.0, 0.0, 0.0, 0.0, 0.0], [0.07874730974435806, 0.07492852956056595, 0.17145493626594543, 0.061068858951330185, 0.2336145043373108, 0.20800630748271942, 0.09989719092845917, 0.07228238880634308, 0.0, 0.0, 0.0, 0.0, 0.0, 0.0, 0.0, 0.0, 0.0, 0.0, 0.0], [0.0685579776763916, 0.06938524544239044, 0.15859439969062805, 0.06080632656812668, 0.20324158668518066, 0.18886125087738037, 0.08952157199382782, 0.06469959765672684, 0.09633210301399231, 0.0, 0.0, 0.0, 0.0, 0.0, 0.0, 0.0, 0.0, 0.0, 0.0], [0.06370019912719727, 0.06680508702993393, 0.1410924792289734, 0.06383571028709412, 0.1673012524843216, 0.16011017560958862, 0.08196013420820236, 0.06102199852466583, 0.08294481039047241, 0.11122815310955048, 0.0, 0.0, 0.0, 0.0, 0.0, 0.0, 0.0, 0.0, 0.0], [0.06349105387926102, 0.06657444685697556, 0.11977221071720123, 0.06389281898736954, 0.13691309094429016, 0.13340750336647034, 0.07805046439170837, 0.061903633177280426, 0.07905551791191101, 0.1012115627527237, 0.09572768211364746, 0.0, 0.0, 0.0, 0.0, 0.0, 0.0, 0.0, 0.0], [0.05652407929301262, 0.06077226623892784, 0.11083719879388809, 0.05974655970931053, 0.12433876097202301, 0.1231362521648407, 0.07066358625888824, 0.055711086839437485, 0.07025200128555298, 0.09316104650497437, 0.0897810086607933, 0.08507613837718964, 0.0, 0.0, 0.0, 0.0, 0.0, 0.0, 0.0], [0.05542777106165886, 0.05779583007097244, 0.1016094833612442, 0.056447893381118774, 0.11462996155023575, 0.11130580306053162, 0.06717376410961151, 0.053756099194288254, 0.06724795699119568, 0.0844266414642334, 0.0812363550066948, 0.07682090252637863, 0.07212158292531967, 0.0, 0.0, 0.0, 0.0, 0.0, 0.0], [0.04453452676534653, 0.047387294471263885, 0.10421217232942581, 0.045704372227191925, 0.1234104335308075, 0.11882492154836655, 0.05844436585903168, 0.042812854051589966, 0.058658961206674576, 0.08111480623483658, 0.0766075924038887, 0.07091403007507324, 0.06488535553216934, 0.062488339841365814, 0.0, 0.0, 0.0, 0.0, 0.0], [0.049088649451732635, 0.05188225582242012, 0.08548326045274734, 0.05195450782775879, 0.09336107969284058, 0.09211235493421555, 0.058688610792160034, 0.048161376267671585, 0.057772569358348846, 0.07220775634050369, 0.07106822729110718, 0.06786908209323883, 0.0650753378868103, 0.06240825355052948, 0.07286673784255981, 0.0, 0.0, 0.0, 0.0], [0.043219033628702164, 0.0454266257584095, 0.0860736146569252, 0.04473239928483963, 0.09795606881380081, 0.09482688456773758, 0.05369441211223602, 0.04171017184853554, 0.053322792053222656, 0.06904037296772003, 0.06676207482814789, 0.0626845508813858, 0.058686815202236176, 0.056447986513376236, 0.0682169571518898, 0.0571991503238678, 0.0, 0.0, 0.0], [0.03878287225961685, 0.043872375041246414, 0.0737622007727623, 0.04574526101350784, 0.07737601548433304, 0.08012225478887558, 0.0485660620033741, 0.03948689624667168, 0.046286892145872116, 0.0637708380818367, 0.06457185000181198, 0.06235470995306969, 0.06161584332585335, 0.056807152926921844, 0.06846125423908234, 0.06031984090805054, 0.06809761375188828, 0.0, 0.0], [0.04751094430685043, 0.04703180864453316, 0.07003692537546158, 0.04713556915521622, 0.0763898715376854, 0.07234522700309753, 0.05264974758028984, 0.04499932378530502, 0.0520768016576767, 0.0573052316904068, 0.05701010674238205, 0.05433051660656929, 0.05197543650865555, 0.050784625113010406, 0.056634724140167236, 0.05066712200641632, 0.05589901655912399, 0.05521700531244278, 0.0], [0.04212416708469391, 0.047552842646837234, 0.04978792741894722, 0.050000131130218506, 0.047016337513923645, 0.05129930004477501, 0.046096574515104294, 0.04517648369073868, 0.04418803006410599, 0.05302782729268074, 0.05466412380337715, 0.05572018772363663, 0.05815660580992699, 0.05490386113524437, 0.058016739785671234, 0.05839374661445618, 0.05821310356259346, 0.060443393886089325, 0.06521862000226974]]]}\n",
       "    )\n",
       "    </script>"
      ],
      "text/plain": [
       "<circuitsvis.utils.render.RenderedHTML at 0x3de3cda90>"
      ]
     },
     "metadata": {},
     "output_type": "display_data"
    }
   ],
   "source": []
  },
  {
   "cell_type": "code",
   "execution_count": null,
   "id": "30c51ff6",
   "metadata": {},
   "outputs": [],
   "source": []
  },
  {
   "cell_type": "code",
   "execution_count": null,
   "id": "e91ff7eb",
   "metadata": {},
   "outputs": [],
   "source": []
  },
  {
   "cell_type": "markdown",
   "id": "a2a5f4f8",
   "metadata": {},
   "source": [
    "#### circuitsvis.activations"
   ]
  },
  {
   "cell_type": "code",
   "execution_count": 47,
   "id": "557cc70f",
   "metadata": {},
   "outputs": [
    {
     "name": "stdout",
     "output_type": "stream",
     "text": [
      "activations.shape=torch.Size([15, 12])\n",
      "activations_view.shape=torch.Size([15, 2, 6])\n"
     ]
    },
    {
     "data": {
      "text/html": [
       "<div id=\"circuits-vis-b3dfecd9-9362\" style=\"margin: 15px 0;\"/>\n",
       "    <script crossorigin type=\"module\">\n",
       "    import { render, TextNeuronActivations } from \"https://unpkg.com/circuitsvis@1.43.2/dist/cdn/esm.js\";\n",
       "    render(\n",
       "      \"circuits-vis-b3dfecd9-9362\",\n",
       "      TextNeuronActivations,\n",
       "      {\"tokens\": [\"<\", \"z\", \"d\", \"h\", \"g\", \"|\", \"g\", \"h\", \"d\", \"z\", \"|\", \"z\", \"d\", \"h\", \"g\"], \"activations\": [[[1.0190163850784302, -1.1005768775939941, 0.7319678068161011, 0.9106473922729492, 2.688511848449707, 1.9292787313461304], [-2.79866099357605, -0.3641040325164795, -0.12953822314739227, 0.8269490599632263, 2.3031632900238037, -1.3622686862945557]], [[1.1967238187789917, -0.9936103224754333, 0.36910051107406616, 0.5160976052284241, 2.0164904594421387, 2.1478872299194336], [-2.93013858795166, -0.8541859984397888, 0.06795178353786469, 1.1661261320114136, 2.957848072052002, -1.3211239576339722]], [[0.9451155662536621, -1.2065463066101074, 0.29663461446762085, 0.4452868700027466, 1.9566420316696167, 2.1753089427948], [-2.9651668071746826, -0.5223711729049683, 0.25115901231765747, 1.0215100049972534, 2.4652836322784424, -1.2893118858337402]], [[1.124959111213684, -1.0917223691940308, 0.26499465107917786, 0.15609830617904663, 1.741158366203308, 1.8952078819274902], [-2.81424880027771, -0.6327606439590454, 0.3118417263031006, 0.9165934324264526, 2.695237159729004, -1.2871495485305786]], [[-0.7579109072685242, -0.8011406660079956, -0.2765572965145111, -0.4494648277759552, -0.9588608145713806, -2.2476890087127686], [0.8961197733879089, 1.5348238945007324, -0.22893239557743073, -0.5020952820777893, -0.5166218876838684, 0.4373292326927185]], [[0.40095922350883484, -0.1975548416376114, -0.04569819197058678, -0.24960318207740784, 0.8156735301017761, 0.2910255193710327], [-0.3603692352771759, 0.2977770268917084, -0.6921112537384033, 0.47592222690582275, 0.28754398226737976, -0.6867611408233643]], [[0.17516250908374786, -0.2733662724494934, 0.08877313137054443, 0.6238448619842529, 0.7850989699363708, 0.3887433111667633], [-0.5509145259857178, 0.5903474688529968, -0.27312612533569336, 0.35781437158584595, 0.6562924981117249, -0.4050815999507904]], [[0.38922974467277527, -0.4205499291419983, -0.39293819665908813, -0.7003458142280579, -0.18115681409835815, 0.42982763051986694], [-0.7931579351425171, 0.08058561384677887, 0.5217050313949585, -0.5010613799095154, 1.299107551574707, -0.2262624055147171]], [[0.9957685470581055, -0.44137459993362427, -0.498820424079895, -1.0605499744415283, 0.1133580431342125, 0.4577072858810425], [-0.681157648563385, -0.06925919651985168, 0.09483103454113007, 0.29227128624916077, 1.1138125658035278, -0.84154212474823]], [[-0.6900333166122437, -1.0627820491790771, -0.26510921120643616, -0.21814687550067902, -0.8892956376075745, -1.4751708507537842], [0.3448188006877899, 0.9138550758361816, -0.16797231137752533, 0.009398149326443672, 0.1621113419532776, 0.40028810501098633]], [[0.9239799976348877, -0.44944077730178833, -0.4772282838821411, -1.1112982034683228, -0.03744954243302345, 0.35421597957611084], [-0.658392608165741, -0.15141473710536957, 0.17053578794002533, 0.1995084136724472, 1.1734095811843872, -0.7752694487571716]], [[0.31312742829322815, -0.6294567584991455, -0.34517544507980347, -0.3844977617263794, -0.012502137571573257, 0.7211256623268127], [-0.8694453835487366, 0.15140819549560547, 0.40336328744888306, -0.33659827709198, 1.3774608373641968, -0.15557892620563507]], [[0.29837003350257874, -0.3981952667236328, 0.0305803082883358, 0.6702017784118652, 0.952602207660675, 0.6160649061203003], [-0.6418060064315796, 0.6425935626029968, -0.4022023677825928, 0.5386892557144165, 0.6806737184524536, -0.5083761215209961]], [[0.4329022169113159, -0.13613930344581604, -0.00015274807810783386, -0.4495825171470642, 0.6692146062850952, 0.09588782489299774], [-0.3243350684642792, 0.19944149255752563, -0.49465274810791016, 0.23272095620632172, 0.3184596598148346, -0.6732299327850342]], [[-1.5513365268707275, 0.49358874559402466, -0.8703329563140869, 0.22667302191257477, -0.59223872423172, 0.6310836672782898], [0.08028429001569748, 0.7233579158782959, 0.33366143703460693, -0.7299861311912537, -0.32026222348213196, 0.9446066617965698]]], \"firstDimensionName\": \"Layer\", \"secondDimensionName\": \"Neuron\"}\n",
       "    )\n",
       "    </script>"
      ],
      "text/plain": [
       "<circuitsvis.utils.render.RenderedHTML at 0x36ff42a50>"
      ]
     },
     "execution_count": 47,
     "metadata": {},
     "output_type": "execute_result"
    }
   ],
   "source": [
    "# tokens := List of tokens if single sample (e.g. `[\"A\", \"person\"]`) or list of lists of tokens (e.g. `[[[\"A\", \"person\"], [\"is\", \"walking\"]]]`)\n",
    "# activations := Activations of the shape [tokens x layers x neurons] if single sample or list of [tokens x layers x neurons] if multiple samples\n",
    "\n",
    "# take first batch for now\n",
    "activations = cache[\"blocks.0.hook_mlp_out\"][0]\n",
    "print(f\"{activations.shape=}\")\n",
    "\n",
    "# reshape [tokens x neurons] -> [tokens x 1 x neurons]\n",
    "#  - `-1` means to automatically infer the size of the last dimension\n",
    "activations_view = activations.view(len(input_tokens), cfg.n_layers, -1)\n",
    "\n",
    "print(f\"{activations_view.shape=}\")\n",
    "\n",
    "# convert to strings (which this function expects)\n",
    "input_tokens_as_strings = [token_to_string(x.item()) for x in input_tokens]\n",
    "\n",
    "# TODO(bschoen): Is there a way to essentially stack these? Claude can probably give the React for that\n",
    "\n",
    "# so here we can visualize activations for a `torch.Size([1, 8, 16])`, which is most\n",
    "# of them since this is the size of the embedding dimension\n",
    "circuitsvis.activations.text_neuron_activations(\n",
    "    tokens=[token_to_string(x.item()) for x in input_tokens],\n",
    "    activations=activations_view,\n",
    ")"
   ]
  },
  {
   "cell_type": "markdown",
   "id": "2e3f7aa2",
   "metadata": {},
   "source": [
    "#### circuitsvis.attention"
   ]
  },
  {
   "cell_type": "code",
   "execution_count": 48,
   "id": "4e5ba9dd",
   "metadata": {},
   "outputs": [
    {
     "name": "stdout",
     "output_type": "stream",
     "text": [
      "attention.shape=torch.Size([4, 15, 15])\n"
     ]
    },
    {
     "data": {
      "text/html": [
       "<div id=\"circuits-vis-0b345f73-063f\" style=\"margin: 15px 0;\"/>\n",
       "    <script crossorigin type=\"module\">\n",
       "    import { render, AttentionHeads } from \"https://unpkg.com/circuitsvis@1.43.2/dist/cdn/esm.js\";\n",
       "    render(\n",
       "      \"circuits-vis-0b345f73-063f\",\n",
       "      AttentionHeads,\n",
       "      {\"attention\": [[[1.0, 0.0, 0.0, 0.0, 0.0, 0.0, 0.0, 0.0, 0.0, 0.0, 0.0, 0.0, 0.0, 0.0, 0.0], [0.9287500381469727, 0.07124991714954376, 0.0, 0.0, 0.0, 0.0, 0.0, 0.0, 0.0, 0.0, 0.0, 0.0, 0.0, 0.0, 0.0], [0.7155841588973999, 0.10711623728275299, 0.17729955911636353, 0.0, 0.0, 0.0, 0.0, 0.0, 0.0, 0.0, 0.0, 0.0, 0.0, 0.0, 0.0], [0.46003904938697815, 0.24053971469402313, 0.10524538904428482, 0.19417579472064972, 0.0, 0.0, 0.0, 0.0, 0.0, 0.0, 0.0, 0.0, 0.0, 0.0, 0.0], [0.049787916243076324, 0.009397806599736214, 0.3788095712661743, 0.011263927444815636, 0.5507407784461975, 0.0, 0.0, 0.0, 0.0, 0.0, 0.0, 0.0, 0.0, 0.0, 0.0], [0.00726782763376832, 0.002401024103164673, 0.00121800706256181, 5.376720582717098e-05, 0.9792694449424744, 0.009789856150746346, 0.0, 0.0, 0.0, 0.0, 0.0, 0.0, 0.0, 0.0, 0.0], [0.004126315470784903, 0.03868119418621063, 0.020220056176185608, 0.9203490614891052, 5.425105700851418e-05, 0.004592632409185171, 0.011976514011621475, 0.0, 0.0, 0.0, 0.0, 0.0, 0.0, 0.0, 0.0], [0.04753847047686577, 0.00040061870822682977, 0.8706678748130798, 0.026569142937660217, 0.0030072806403040886, 0.02314658835530281, 0.017775263637304306, 0.010894817300140858, 0.0, 0.0, 0.0, 0.0, 0.0, 0.0, 0.0], [0.007827947847545147, 0.8569761514663696, 0.000509353878442198, 0.07928973436355591, 0.006560304202139378, 0.006747312378138304, 0.0198159608989954, 0.016213953495025635, 0.0060591744258999825, 0.0, 0.0, 0.0, 0.0, 0.0, 0.0], [0.11562493443489075, 0.02741868421435356, 0.17427383363246918, 0.03375198319554329, 0.1874559372663498, 0.11063812673091888, 0.07895520329475403, 0.07841642946004868, 0.11754246056079865, 0.07592233270406723, 0.0, 0.0, 0.0, 0.0, 0.0], [0.009703602641820908, 0.8478004336357117, 0.0002990011707879603, 0.033325739204883575, 0.016576005145907402, 0.00661612069234252, 0.019165927544236183, 0.013145455159246922, 0.006545005366206169, 0.03824378177523613, 0.008578848093748093, 0.0, 0.0, 0.0, 0.0], [0.057545047253370285, 0.00011524836008902639, 0.8161420822143555, 0.008845495991408825, 0.00311532081104815, 0.015363316051661968, 0.012249038554728031, 0.0048101115971803665, 0.04203411936759949, 0.003288659267127514, 0.031627342104911804, 0.004864206537604332, 0.0, 0.0, 0.0], [0.009309419430792332, 0.021356994286179543, 0.03518157824873924, 0.8608427047729492, 5.332405271474272e-05, 0.00460846209898591, 0.015270468778908253, 0.008495033718645573, 0.007664657663553953, 0.004906557034701109, 0.008260007947683334, 0.00955262966454029, 0.014498202130198479, 0.0, 0.0], [0.011006515473127365, 0.004711998626589775, 0.0015455948887392879, 0.00012044414324918762, 0.9017650485038757, 0.012411260046064854, 0.005584481172263622, 0.006343523506075144, 0.010230300016701221, 0.015228464268147945, 0.009759778156876564, 0.005018812604248524, 0.005050119012594223, 0.011223653331398964, 0.0], [0.013202475383877754, 0.031617481261491776, 0.04157229885458946, 0.010225499980151653, 0.26885971426963806, 0.08178168535232544, 0.025597477331757545, 0.10630996525287628, 0.02878885343670845, 0.05008603632450104, 0.02765929512679577, 0.14298465847969055, 0.038935646414756775, 0.07063069194555283, 0.0617482028901577]], [[1.0, 0.0, 0.0, 0.0, 0.0, 0.0, 0.0, 0.0, 0.0, 0.0, 0.0, 0.0, 0.0, 0.0, 0.0], [0.9404056072235107, 0.059594396501779556, 0.0, 0.0, 0.0, 0.0, 0.0, 0.0, 0.0, 0.0, 0.0, 0.0, 0.0, 0.0, 0.0], [0.8443233370780945, 0.1109631210565567, 0.04471362754702568, 0.0, 0.0, 0.0, 0.0, 0.0, 0.0, 0.0, 0.0, 0.0, 0.0, 0.0, 0.0], [0.7157800197601318, 0.030644632875919342, 0.23394006490707397, 0.019635319709777832, 0.0, 0.0, 0.0, 0.0, 0.0, 0.0, 0.0, 0.0, 0.0, 0.0, 0.0], [0.07280373573303223, 0.18974937498569489, 0.24244114756584167, 0.17086602747440338, 0.32413971424102783, 0.0, 0.0, 0.0, 0.0, 0.0, 0.0, 0.0, 0.0, 0.0, 0.0], [0.01443097461014986, 0.002831693971529603, 0.0011424407130107284, 2.6995599910151213e-05, 0.9749947190284729, 0.006573288701474667, 0.0, 0.0, 0.0, 0.0, 0.0, 0.0, 0.0, 0.0, 0.0], [0.0017488476587459445, 0.014821124263107777, 0.019086172804236412, 0.950798511505127, 4.206318044452928e-05, 0.0046604168601334095, 0.008842833340168, 0.0, 0.0, 0.0, 0.0, 0.0, 0.0, 0.0, 0.0], [0.011217008344829082, 2.1740659576607868e-05, 0.969863772392273, 0.006613785866647959, 0.00127358827739954, 0.002378342906013131, 0.007761932909488678, 0.0008698193123564124, 0.0, 0.0, 0.0, 0.0, 0.0, 0.0, 0.0], [0.003468849929049611, 0.8987101316452026, 0.00014776780153624713, 0.030418993905186653, 0.0049180882051587105, 0.014389293268322945, 0.005667109973728657, 0.04083419591188431, 0.0014456325443461537, 0.0, 0.0, 0.0, 0.0, 0.0, 0.0], [0.10000821948051453, 0.30004847049713135, 0.021705787628889084, 0.0698438510298729, 0.11632292717695236, 0.1110573261976242, 0.06318619102239609, 0.11326377838850021, 0.05016075447201729, 0.05440269783139229, 0.0, 0.0, 0.0, 0.0, 0.0], [0.004098123405128717, 0.9199044704437256, 6.114446296123788e-05, 0.007222354877740145, 0.015031835995614529, 0.014031858183443546, 0.003988719079643488, 0.03103545494377613, 0.0012248536804690957, 0.002159182447940111, 0.001242042169906199, 0.0, 0.0, 0.0, 0.0], [0.03194638714194298, 2.883834167732857e-05, 0.8759209513664246, 0.004952510353177786, 0.002367395209148526, 0.00392899988219142, 0.0069463965483009815, 0.0008920038817450404, 0.03082316927611828, 0.01232241466641426, 0.028506405651569366, 0.0013645959552377462, 0.0, 0.0, 0.0], [0.0032667333725839853, 0.01338522881269455, 0.017833318561315536, 0.9234817624092102, 3.3568871003808454e-05, 0.005434105638414621, 0.0064144982025027275, 0.011199488304555416, 0.0024092860985547304, 0.0015597410965710878, 0.0035305542405694723, 0.007827247492969036, 0.003624418517574668, 0.0, 0.0], [0.014792944304645061, 0.0028576336335390806, 0.001114507089368999, 2.75576257990906e-05, 0.9260579347610474, 0.006594262085855007, 0.0035068034194409847, 0.0024636692833155394, 0.009722716175019741, 0.013508854433894157, 0.006410124246031046, 0.0029552108608186245, 0.005050984211266041, 0.004936715122312307, 0.0], [0.010201375000178814, 0.06274110823869705, 0.053026460111141205, 0.06914867460727692, 0.05039773881435394, 0.03128456696867943, 0.09150524437427521, 0.07821770757436752, 0.06389831751585007, 0.09834656119346619, 0.07051361352205276, 0.11346449702978134, 0.14717867970466614, 0.03648168221116066, 0.02359379269182682]], [[1.0, 0.0, 0.0, 0.0, 0.0, 0.0, 0.0, 0.0, 0.0, 0.0, 0.0, 0.0, 0.0, 0.0, 0.0], [0.5380102396011353, 0.46198979020118713, 0.0, 0.0, 0.0, 0.0, 0.0, 0.0, 0.0, 0.0, 0.0, 0.0, 0.0, 0.0, 0.0], [0.3747401833534241, 0.2161279171705246, 0.40913188457489014, 0.0, 0.0, 0.0, 0.0, 0.0, 0.0, 0.0, 0.0, 0.0, 0.0, 0.0, 0.0], [0.2061583250761032, 0.32974788546562195, 0.21756939589977264, 0.24652443826198578, 0.0, 0.0, 0.0, 0.0, 0.0, 0.0, 0.0, 0.0, 0.0, 0.0, 0.0], [0.19845940172672272, 0.03631344810128212, 0.24644319713115692, 0.06045310199260712, 0.4583308696746826, 0.0, 0.0, 0.0, 0.0, 0.0, 0.0, 0.0, 0.0, 0.0, 0.0], [0.05392487719655037, 0.02388691157102585, 0.026520948857069016, 0.002745075849816203, 0.8630498647689819, 0.029872385784983635, 0.0, 0.0, 0.0, 0.0, 0.0, 0.0, 0.0, 0.0, 0.0], [0.03436543419957161, 0.0882541611790657, 0.07215142995119095, 0.6957365274429321, 0.0016687647439539433, 0.08714103698730469, 0.020682690665125847, 0.0, 0.0, 0.0, 0.0, 0.0, 0.0, 0.0, 0.0], [0.15784433484077454, 0.01015535555779934, 0.46660158038139343, 0.09610681980848312, 0.06035324186086655, 0.09203267842531204, 0.05872779339551926, 0.05817821994423866, 0.0, 0.0, 0.0, 0.0, 0.0, 0.0, 0.0], [0.04006252437829971, 0.5240086317062378, 0.01931607536971569, 0.10359223186969757, 0.0393739715218544, 0.10950469225645065, 0.03943708539009094, 0.07740174233913422, 0.04730303958058357, 0.0, 0.0, 0.0, 0.0, 0.0, 0.0], [0.07513203471899033, 0.2109929323196411, 0.057953886687755585, 0.12577341496944427, 0.06824152916669846, 0.10817129909992218, 0.08412810415029526, 0.09864857792854309, 0.08633528649806976, 0.08462287485599518, 0.0, 0.0, 0.0, 0.0, 0.0], [0.04320058226585388, 0.39932069182395935, 0.023352032527327538, 0.10628370940685272, 0.04093688726425171, 0.09926712512969971, 0.0471709743142128, 0.07725127786397934, 0.05289790406823158, 0.05697040259838104, 0.0533483624458313, 0.0, 0.0, 0.0, 0.0], [0.12196680903434753, 0.008584228344261646, 0.3262137174606323, 0.06625404208898544, 0.05892272666096687, 0.06638836860656738, 0.05449056997895241, 0.04890726879239082, 0.06883770227432251, 0.055636223405599594, 0.07456354051828384, 0.049234844744205475, 0.0, 0.0, 0.0], [0.03047308698296547, 0.09628288447856903, 0.056004393845796585, 0.5530490875244141, 0.0018497230485081673, 0.07939890027046204, 0.019574783742427826, 0.026299817487597466, 0.03150039166212082, 0.011281273327767849, 0.04621382802724838, 0.03044457733631134, 0.01762721687555313, 0.0, 0.0], [0.05036807805299759, 0.016224713996052742, 0.03138275817036629, 0.003225654596462846, 0.5172146558761597, 0.028033670037984848, 0.03730405867099762, 0.04872972145676613, 0.03348476439714432, 0.09639570116996765, 0.023832902312278748, 0.04821757972240448, 0.04492376744747162, 0.020661966875195503, 0.0], [0.03982856497168541, 0.01944192312657833, 0.04135281592607498, 0.03376169875264168, 0.07444428652524948, 0.013897663913667202, 0.21443495154380798, 0.04743959754705429, 0.09190002828836441, 0.0678241029381752, 0.0888286754488945, 0.03368188813328743, 0.1647864133119583, 0.0185009203851223, 0.049876462668180466]], [[1.0, 0.0, 0.0, 0.0, 0.0, 0.0, 0.0, 0.0, 0.0, 0.0, 0.0, 0.0, 0.0, 0.0, 0.0], [0.9336534142494202, 0.06634660065174103, 0.0, 0.0, 0.0, 0.0, 0.0, 0.0, 0.0, 0.0, 0.0, 0.0, 0.0, 0.0, 0.0], [0.7243877053260803, 0.15125861763954163, 0.12435368448495865, 0.0, 0.0, 0.0, 0.0, 0.0, 0.0, 0.0, 0.0, 0.0, 0.0, 0.0, 0.0], [0.7260969877243042, 0.11392731219530106, 0.13858038187026978, 0.021395325660705566, 0.0, 0.0, 0.0, 0.0, 0.0, 0.0, 0.0, 0.0, 0.0, 0.0, 0.0], [0.05634942278265953, 0.08825656771659851, 0.31750229001045227, 0.5237563848495483, 0.014135368168354034, 0.0, 0.0, 0.0, 0.0, 0.0, 0.0, 0.0, 0.0, 0.0, 0.0], [0.0230365302413702, 0.0014318582834675908, 0.0005225523491390049, 2.6937812435789965e-05, 0.9694104194641113, 0.0055717285722494125, 0.0, 0.0, 0.0, 0.0, 0.0, 0.0, 0.0, 0.0, 0.0], [0.0016819838201627135, 0.030311523005366325, 0.027045506983995438, 0.9087132215499878, 0.00012124098429922014, 0.009774853475391865, 0.022351667284965515, 0.0, 0.0, 0.0, 0.0, 0.0, 0.0, 0.0, 0.0], [0.009602668695151806, 5.3678802942158654e-05, 0.9564264416694641, 0.005677647422999144, 0.00364331784658134, 0.011864233762025833, 0.005622232332825661, 0.00710980175063014, 0.0, 0.0, 0.0, 0.0, 0.0, 0.0, 0.0], [0.009708095341920853, 0.8750948905944824, 0.00036574358819052577, 0.040475524961948395, 0.017461268231272697, 0.012752150185406208, 0.019701937213540077, 0.01752999797463417, 0.006910456344485283, 0.0, 0.0, 0.0, 0.0, 0.0, 0.0], [0.03372016176581383, 0.267287939786911, 0.03715867921710014, 0.3081493377685547, 0.013314032927155495, 0.04986882209777832, 0.1017388179898262, 0.07114799320697784, 0.053471148014068604, 0.06414313614368439, 0.0, 0.0, 0.0, 0.0, 0.0], [0.010053480975329876, 0.8671938180923462, 0.00020878501527477056, 0.020710865035653114, 0.02645414136350155, 0.010740585625171661, 0.01540676224976778, 0.014472546987235546, 0.005673752631992102, 0.02186117321252823, 0.007224031258374453, 0.0, 0.0, 0.0, 0.0], [0.013520235195755959, 4.3122450733790174e-05, 0.8986951112747192, 0.0025743062142282724, 0.007405292242765427, 0.011529908515512943, 0.005196287762373686, 0.006809948477894068, 0.020716466009616852, 0.00451600831001997, 0.015928763896226883, 0.013064655475318432, 0.0, 0.0, 0.0], [0.0030736231710761786, 0.0302201509475708, 0.050267454236745834, 0.7570626139640808, 0.00023427656560670584, 0.012877785600721836, 0.032329872250556946, 0.01886845752596855, 0.013907714746892452, 0.010848429054021835, 0.018266020342707634, 0.022644978016614914, 0.02939867600798607, 0.0, 0.0], [0.03668726980686188, 0.0035187334287911654, 0.001099735382013023, 7.577088399557397e-05, 0.9057429432868958, 0.008432161062955856, 0.0023293423000723124, 0.0048964256420731544, 0.006056983955204487, 0.009495861828327179, 0.004891721066087484, 0.003564816666767001, 0.002284641843289137, 0.010923625901341438, 0.0], [0.052362583577632904, 0.0524272620677948, 0.08385727554559708, 0.1101531907916069, 0.04902094602584839, 0.08003809303045273, 0.05922812968492508, 0.06800340861082077, 0.06149546429514885, 0.062304213643074036, 0.07119477540254593, 0.06475690007209778, 0.05320600047707558, 0.08838912844657898, 0.04356255754828453]]], \"maxValue\": 1, \"minValue\": -1, \"negativeColor\": \"blue\", \"positiveColor\": \"red\", \"tokens\": [\"<\", \"z\", \"d\", \"h\", \"g\", \"|\", \"g\", \"h\", \"d\", \"z\", \"|\", \"z\", \"d\", \"h\", \"g\"], \"maskUpperTri\": true}\n",
       "    )\n",
       "    </script>"
      ],
      "text/plain": [
       "<circuitsvis.utils.render.RenderedHTML at 0x380a0f830>"
      ]
     },
     "execution_count": 48,
     "metadata": {},
     "output_type": "execute_result"
    }
   ],
   "source": [
    "# tokens: List of tokens (e.g. `[\"A\", \"person\"]`). Must be the same length as the list of values.\n",
    "# attention: Attention head activations of the shape [dest_tokens x src_tokens]\n",
    "# max_value: Maximum value. Used to determine how dark the token color is when positive (i.e. based on how close it is to the maximum value).\n",
    "# min_value: Minimum value. Used to determine how dark the token color is when negative (i.e. based on how close it is to the minimum value).\n",
    "# negative_color: Color for negative values\n",
    "# positive_color: Color for positive values.\n",
    "# show_axis_labels: Whether to show axis labels.\n",
    "# mask_upper_tri: Whether or not to mask the upper triangular portion of the attention patterns. Should be true for causal attention, false for bidirectional attention.\n",
    "\n",
    "\n",
    "# take first batch\n",
    "# ex: torch.Size([4, 8, 8]) -> [n_heads, n_ctx, n_ctx]\n",
    "# note: `blocks.0.attn.hook_attn_scores` is too early (not normalized?)\n",
    "attention = cache[\"blocks.0.attn.hook_pattern\"][0]\n",
    "\n",
    "print(f\"{attention.shape=}\")\n",
    "\n",
    "circuitsvis.attention.attention_heads(\n",
    "    tokens=input_tokens_as_strings,\n",
    "    attention=attention,\n",
    "    max_value=1,\n",
    "    min_value=-1,\n",
    "    negative_color=\"blue\",\n",
    "    positive_color=\"red\",\n",
    "    mask_upper_tri=True,\n",
    ")"
   ]
  },
  {
   "cell_type": "markdown",
   "id": "777d512f",
   "metadata": {},
   "source": [
    "#### circuitsvis.logits"
   ]
  },
  {
   "cell_type": "code",
   "execution_count": null,
   "id": "d689dadf",
   "metadata": {},
   "outputs": [],
   "source": [
    "# this is the normal one we usually show, i.e.\n",
    "# cv.logits.token_log_probs(\n",
    "#     token_indices=input_tokens,\n",
    "#     log_probs=log_probs,\n",
    "#     to_string=token_to_string,\n",
    "# )"
   ]
  },
  {
   "cell_type": "markdown",
   "id": "d4a72925",
   "metadata": {},
   "source": [
    "#### circuitsvis.tokens"
   ]
  },
  {
   "cell_type": "code",
   "execution_count": 49,
   "id": "fa878bdc",
   "metadata": {},
   "outputs": [
    {
     "data": {
      "text/html": [
       "<div id=\"circuits-vis-bc5214b6-bc76\" style=\"margin: 15px 0;\"/>\n",
       "    <script crossorigin type=\"module\">\n",
       "    import { render, ColoredTokens } from \"https://unpkg.com/circuitsvis@1.43.2/dist/cdn/esm.js\";\n",
       "    render(\n",
       "      \"circuits-vis-bc5214b6-bc76\",\n",
       "      ColoredTokens,\n",
       "      {\"tokens\": [\"<\", \"z\", \"d\", \"h\", \"g\", \"|\", \"g\", \"h\", \"d\", \"z\", \"|\", \"z\", \"d\", \"h\", \"g\"], \"values\": [0.3338068723678589, -0.09759684652090073, 0.26722484827041626, 0.061810750514268875, 0.242661252617836, 0.014934582635760307, -0.036927640438079834, 0.08971690386533737, 0.028435343876481056, -0.0007539752405136824, -0.32845425605773926, -0.12051613628864288, -0.05500871315598488, 0.014747307635843754, 0.3638240694999695], \"negativeColor\": \"blue\", \"positiveColor\": \"red\"}\n",
       "    )\n",
       "    </script>"
      ],
      "text/plain": [
       "<circuitsvis.utils.render.RenderedHTML at 0x329536120>"
      ]
     },
     "metadata": {},
     "output_type": "display_data"
    },
    {
     "data": {
      "text/html": [
       "<div id=\"circuits-vis-a4f338fc-b0cd\" style=\"margin: 15px 0;\"/>\n",
       "    <script crossorigin type=\"module\">\n",
       "    import { render, ColoredTokens } from \"https://unpkg.com/circuitsvis@1.43.2/dist/cdn/esm.js\";\n",
       "    render(\n",
       "      \"circuits-vis-a4f338fc-b0cd\",\n",
       "      ColoredTokens,\n",
       "      {\"tokens\": [\"<\", \"z\", \"d\", \"h\", \"g\", \"|\", \"g\", \"h\", \"d\", \"z\", \"|\", \"z\", \"d\", \"h\", \"g\"], \"values\": [-0.11321587860584259, -0.002614144003018737, 0.1645112782716751, 0.30956771969795227, -0.21101874113082886, -0.11609827727079391, -0.06286393105983734, -0.1628405749797821, 0.1468733549118042, 0.02040555514395237, 0.003797800512984395, -0.13767729699611664, 0.010187712498009205, -0.02890714630484581, -0.04120936989784241], \"negativeColor\": \"blue\", \"positiveColor\": \"red\"}\n",
       "    )\n",
       "    </script>"
      ],
      "text/plain": [
       "<circuitsvis.utils.render.RenderedHTML at 0x380668a10>"
      ]
     },
     "metadata": {},
     "output_type": "display_data"
    },
    {
     "data": {
      "text/html": [
       "<div id=\"circuits-vis-3ab1b434-4e55\" style=\"margin: 15px 0;\"/>\n",
       "    <script crossorigin type=\"module\">\n",
       "    import { render, ColoredTokens } from \"https://unpkg.com/circuitsvis@1.43.2/dist/cdn/esm.js\";\n",
       "    render(\n",
       "      \"circuits-vis-3ab1b434-4e55\",\n",
       "      ColoredTokens,\n",
       "      {\"tokens\": [\"<\", \"z\", \"d\", \"h\", \"g\", \"|\", \"g\", \"h\", \"d\", \"z\", \"|\", \"z\", \"d\", \"h\", \"g\"], \"values\": [-0.07438259571790695, 0.027626173570752144, 0.007688384037464857, 0.17598143219947815, -0.16556254029273987, -0.08958636969327927, -0.09883204102516174, -0.5111344456672668, 0.2670748829841614, 0.11594799906015396, -0.049540482461452484, -0.48756271600723267, -0.10890670120716095, 0.06397074460983276, 0.1370568424463272], \"negativeColor\": \"blue\", \"positiveColor\": \"red\"}\n",
       "    )\n",
       "    </script>"
      ],
      "text/plain": [
       "<circuitsvis.utils.render.RenderedHTML at 0x329536120>"
      ]
     },
     "metadata": {},
     "output_type": "display_data"
    },
    {
     "data": {
      "text/html": [
       "<div id=\"circuits-vis-728ca567-85bc\" style=\"margin: 15px 0;\"/>\n",
       "    <script crossorigin type=\"module\">\n",
       "    import { render, ColoredTokens } from \"https://unpkg.com/circuitsvis@1.43.2/dist/cdn/esm.js\";\n",
       "    render(\n",
       "      \"circuits-vis-728ca567-85bc\",\n",
       "      ColoredTokens,\n",
       "      {\"tokens\": [\"<\", \"z\", \"d\", \"h\", \"g\", \"|\", \"g\", \"h\", \"d\", \"z\", \"|\", \"z\", \"d\", \"h\", \"g\"], \"values\": [-0.254935622215271, -0.010328482836484909, -0.08457200229167938, -0.04285692051053047, -0.0027689854614436626, 0.15880396962165833, -0.01160294096916914, -0.07294045388698578, 0.25354939699172974, -0.5481539964675903, 0.1481529027223587, -0.10493555665016174, -0.05822266265749931, 0.14075811207294464, 0.5458955764770508], \"negativeColor\": \"blue\", \"positiveColor\": \"red\"}\n",
       "    )\n",
       "    </script>"
      ],
      "text/plain": [
       "<circuitsvis.utils.render.RenderedHTML at 0x37ffeade0>"
      ]
     },
     "metadata": {},
     "output_type": "display_data"
    },
    {
     "data": {
      "text/html": [
       "<div id=\"circuits-vis-21ca81d5-eff7\" style=\"margin: 15px 0;\"/>\n",
       "    <script crossorigin type=\"module\">\n",
       "    import { render, ColoredTokens } from \"https://unpkg.com/circuitsvis@1.43.2/dist/cdn/esm.js\";\n",
       "    render(\n",
       "      \"circuits-vis-21ca81d5-eff7\",\n",
       "      ColoredTokens,\n",
       "      {\"tokens\": [\"<\", \"z\", \"d\", \"h\", \"g\", \"|\", \"g\", \"h\", \"d\", \"z\", \"|\", \"z\", \"d\", \"h\", \"g\"], \"values\": [-0.006966283544898033, -0.0168390404433012, 0.03299949690699577, 0.10944225639104843, 0.021892867982387543, -0.11351007223129272, 0.11537346988916397, 0.0036647578235715628, -0.11690180003643036, 0.09480074793100357, 0.05945022031664848, 0.11754587292671204, 0.12630899250507355, -0.15283429622650146, -0.03037523850798607], \"negativeColor\": \"blue\", \"positiveColor\": \"red\"}\n",
       "    )\n",
       "    </script>"
      ],
      "text/plain": [
       "<circuitsvis.utils.render.RenderedHTML at 0x37ffeade0>"
      ]
     },
     "metadata": {},
     "output_type": "display_data"
    },
    {
     "data": {
      "text/html": [
       "<div id=\"circuits-vis-a37e8306-df68\" style=\"margin: 15px 0;\"/>\n",
       "    <script crossorigin type=\"module\">\n",
       "    import { render, ColoredTokens } from \"https://unpkg.com/circuitsvis@1.43.2/dist/cdn/esm.js\";\n",
       "    render(\n",
       "      \"circuits-vis-a37e8306-df68\",\n",
       "      ColoredTokens,\n",
       "      {\"tokens\": [\"<\", \"z\", \"d\", \"h\", \"g\", \"|\", \"g\", \"h\", \"d\", \"z\", \"|\", \"z\", \"d\", \"h\", \"g\"], \"values\": [-0.06988584995269775, 0.1396666318178177, 0.10622096806764603, 0.3388018012046814, -0.26526957750320435, 0.27277711033821106, -0.3570305407047272, 0.14977169036865234, -0.279067724943161, -0.30138376355171204, -0.19062145054340363, 0.1754424273967743, -0.3472297191619873, 0.1728229522705078, -0.24664153158664703], \"negativeColor\": \"blue\", \"positiveColor\": \"red\"}\n",
       "    )\n",
       "    </script>"
      ],
      "text/plain": [
       "<circuitsvis.utils.render.RenderedHTML at 0x37ffeade0>"
      ]
     },
     "metadata": {},
     "output_type": "display_data"
    },
    {
     "data": {
      "text/html": [
       "<div id=\"circuits-vis-619656b5-db9c\" style=\"margin: 15px 0;\"/>\n",
       "    <script crossorigin type=\"module\">\n",
       "    import { render, ColoredTokens } from \"https://unpkg.com/circuitsvis@1.43.2/dist/cdn/esm.js\";\n",
       "    render(\n",
       "      \"circuits-vis-619656b5-db9c\",\n",
       "      ColoredTokens,\n",
       "      {\"tokens\": [\"<\", \"z\", \"d\", \"h\", \"g\", \"|\", \"g\", \"h\", \"d\", \"z\", \"|\", \"z\", \"d\", \"h\", \"g\"], \"values\": [-0.06942381709814072, -0.06889750063419342, -0.04987090453505516, 0.04391982778906822, -0.04214960336685181, -0.3053015470504761, 0.3586701452732086, 0.09507470577955246, -0.0025004856288433075, 0.011756278574466705, -0.11365196853876114, 0.0710008516907692, 0.4264918863773346, -0.4340912401676178, -0.013767022639513016], \"negativeColor\": \"blue\", \"positiveColor\": \"red\"}\n",
       "    )\n",
       "    </script>"
      ],
      "text/plain": [
       "<circuitsvis.utils.render.RenderedHTML at 0x329536120>"
      ]
     },
     "metadata": {},
     "output_type": "display_data"
    },
    {
     "data": {
      "text/html": [
       "<div id=\"circuits-vis-92dc20d1-3b65\" style=\"margin: 15px 0;\"/>\n",
       "    <script crossorigin type=\"module\">\n",
       "    import { render, ColoredTokens } from \"https://unpkg.com/circuitsvis@1.43.2/dist/cdn/esm.js\";\n",
       "    render(\n",
       "      \"circuits-vis-92dc20d1-3b65\",\n",
       "      ColoredTokens,\n",
       "      {\"tokens\": [\"<\", \"z\", \"d\", \"h\", \"g\", \"|\", \"g\", \"h\", \"d\", \"z\", \"|\", \"z\", \"d\", \"h\", \"g\"], \"values\": [0.08833367377519608, 0.2561122477054596, -0.18002477288246155, 0.2326502948999405, -0.10934305936098099, 0.16093295812606812, 0.25694409012794495, 0.12328214198350906, 0.04437533766031265, -0.23919492959976196, 0.007799425162374973, -0.06290435045957565, 0.20547454059123993, -0.15062610805034637, 0.26420918107032776], \"negativeColor\": \"blue\", \"positiveColor\": \"red\"}\n",
       "    )\n",
       "    </script>"
      ],
      "text/plain": [
       "<circuitsvis.utils.render.RenderedHTML at 0x329536120>"
      ]
     },
     "metadata": {},
     "output_type": "display_data"
    },
    {
     "data": {
      "text/html": [
       "<div id=\"circuits-vis-a5677062-9f64\" style=\"margin: 15px 0;\"/>\n",
       "    <script crossorigin type=\"module\">\n",
       "    import { render, ColoredTokens } from \"https://unpkg.com/circuitsvis@1.43.2/dist/cdn/esm.js\";\n",
       "    render(\n",
       "      \"circuits-vis-a5677062-9f64\",\n",
       "      ColoredTokens,\n",
       "      {\"tokens\": [\"<\", \"z\", \"d\", \"h\", \"g\", \"|\", \"g\", \"h\", \"d\", \"z\", \"|\", \"z\", \"d\", \"h\", \"g\"], \"values\": [-0.16052205860614777, 0.2461918145418167, -0.15138988196849823, -0.08694431185722351, 0.2623918652534485, 0.2343648374080658, -0.25805017352104187, 0.08908861875534058, -0.22620999813079834, 0.027148636057972908, -0.16022801399230957, 0.1741495430469513, -0.1973387449979782, 0.06682144850492477, 0.358918160200119], \"negativeColor\": \"blue\", \"positiveColor\": \"red\"}\n",
       "    )\n",
       "    </script>"
      ],
      "text/plain": [
       "<circuitsvis.utils.render.RenderedHTML at 0x37ffeade0>"
      ]
     },
     "metadata": {},
     "output_type": "display_data"
    },
    {
     "data": {
      "text/html": [
       "<div id=\"circuits-vis-4dc9ca7a-3220\" style=\"margin: 15px 0;\"/>\n",
       "    <script crossorigin type=\"module\">\n",
       "    import { render, ColoredTokens } from \"https://unpkg.com/circuitsvis@1.43.2/dist/cdn/esm.js\";\n",
       "    render(\n",
       "      \"circuits-vis-4dc9ca7a-3220\",\n",
       "      ColoredTokens,\n",
       "      {\"tokens\": [\"<\", \"z\", \"d\", \"h\", \"g\", \"|\", \"g\", \"h\", \"d\", \"z\", \"|\", \"z\", \"d\", \"h\", \"g\"], \"values\": [0.0775282084941864, -0.09822019189596176, -0.22322194278240204, -0.11474164575338364, 0.16771498322486877, 0.015134829096496105, -0.19828307628631592, -0.4529804587364197, 0.07657068967819214, 0.11392199248075485, 0.21600176393985748, -0.3995288908481598, -0.21687740087509155, -0.07108504325151443, -0.23019400238990784], \"negativeColor\": \"blue\", \"positiveColor\": \"red\"}\n",
       "    )\n",
       "    </script>"
      ],
      "text/plain": [
       "<circuitsvis.utils.render.RenderedHTML at 0x329536120>"
      ]
     },
     "metadata": {},
     "output_type": "display_data"
    },
    {
     "data": {
      "text/html": [
       "<div id=\"circuits-vis-9b7f96da-c692\" style=\"margin: 15px 0;\"/>\n",
       "    <script crossorigin type=\"module\">\n",
       "    import { render, ColoredTokens } from \"https://unpkg.com/circuitsvis@1.43.2/dist/cdn/esm.js\";\n",
       "    render(\n",
       "      \"circuits-vis-9b7f96da-c692\",\n",
       "      ColoredTokens,\n",
       "      {\"tokens\": [\"<\", \"z\", \"d\", \"h\", \"g\", \"|\", \"g\", \"h\", \"d\", \"z\", \"|\", \"z\", \"d\", \"h\", \"g\"], \"values\": [-0.13256794214248657, -0.3475736379623413, 0.24702228605747223, 0.09368574619293213, -0.08776320517063141, 0.09800346195697784, -0.12984652817249298, 0.01093792449682951, -0.009823777712881565, -0.3217317759990692, -0.03329475224018097, 0.035082634538412094, -0.06651782989501953, 0.08033344894647598, -0.3980964124202728], \"negativeColor\": \"blue\", \"positiveColor\": \"red\"}\n",
       "    )\n",
       "    </script>"
      ],
      "text/plain": [
       "<circuitsvis.utils.render.RenderedHTML at 0x36f110c80>"
      ]
     },
     "metadata": {},
     "output_type": "display_data"
    },
    {
     "data": {
      "text/html": [
       "<div id=\"circuits-vis-dce6f4bf-ac38\" style=\"margin: 15px 0;\"/>\n",
       "    <script crossorigin type=\"module\">\n",
       "    import { render, ColoredTokens } from \"https://unpkg.com/circuitsvis@1.43.2/dist/cdn/esm.js\";\n",
       "    render(\n",
       "      \"circuits-vis-dce6f4bf-ac38\",\n",
       "      ColoredTokens,\n",
       "      {\"tokens\": [\"<\", \"z\", \"d\", \"h\", \"g\", \"|\", \"g\", \"h\", \"d\", \"z\", \"|\", \"z\", \"d\", \"h\", \"g\"], \"values\": [0.17177452147006989, 0.12116317451000214, 0.20152297616004944, 0.19976040720939636, -0.10057494789361954, 0.024416213855147362, 0.17829014360904694, -0.08355549722909927, 0.20260392129421234, -0.3355482518672943, 0.16779117286205292, 0.014777996577322483, 0.20082761347293854, -0.008801138028502464, -0.16951389610767365], \"negativeColor\": \"blue\", \"positiveColor\": \"red\"}\n",
       "    )\n",
       "    </script>"
      ],
      "text/plain": [
       "<circuitsvis.utils.render.RenderedHTML at 0x329536120>"
      ]
     },
     "metadata": {},
     "output_type": "display_data"
    }
   ],
   "source": [
    "# for example, we'll look at each\n",
    "\n",
    "# take first batch, ex: torch.Size([8, 16])\n",
    "pos_embed = cache[\"hook_pos_embed\"][0]\n",
    "\n",
    "# low level function for coloring tokens according to single value\n",
    "for i in range(cfg.d_model):\n",
    "    display(\n",
    "        circuitsvis.tokens.colored_tokens(\n",
    "            tokens=input_tokens_as_strings,\n",
    "            values=pos_embed[:, i],\n",
    "            negative_color=\"blue\",\n",
    "            positive_color=\"red\",\n",
    "        )\n",
    "    )\n",
    "\n",
    "    # only display a few for example\n",
    "    # if i >= 2:\n",
    "    #    break"
   ]
  },
  {
   "cell_type": "code",
   "execution_count": null,
   "id": "cf69c3f7",
   "metadata": {},
   "outputs": [],
   "source": [
    "# take first batch\n",
    "# ex: torch.size([8, 16]) = [n_ctx, d_model]\n",
    "attention_out = cache[\"blocks.0.hook_attn_out\"][0]\n",
    "\n",
    "circuitsvis.tokens.colored_tokens_multi(\n",
    "    tokens=input_tokens_as_strings,\n",
    "    values=attention_out,\n",
    "    labels=[str(x) for x in range(cfg.d_model)],\n",
    ")"
   ]
  },
  {
   "cell_type": "code",
   "execution_count": null,
   "id": "c163a765",
   "metadata": {},
   "outputs": [],
   "source": [
    "circuitsvis.tokens.visualize_model_performance(\n",
    "    tokens=input_tokens,\n",
    "    str_tokens=input_tokens_as_strings,\n",
    "    logits=logits,\n",
    ")"
   ]
  },
  {
   "cell_type": "markdown",
   "id": "cf0406d0",
   "metadata": {},
   "source": [
    "#### circuitsvis.topk_samples"
   ]
  },
  {
   "cell_type": "code",
   "execution_count": null,
   "id": "6d155e16",
   "metadata": {},
   "outputs": [],
   "source": [
    "circuitsvis.topk_samples.topk_samples??"
   ]
  },
  {
   "cell_type": "code",
   "execution_count": null,
   "id": "0f90d626",
   "metadata": {},
   "outputs": [],
   "source": []
  },
  {
   "cell_type": "markdown",
   "id": "7e239f06",
   "metadata": {},
   "source": [
    "#### circuitsvis.topk_tokens"
   ]
  },
  {
   "cell_type": "code",
   "execution_count": null,
   "id": "64f5a157",
   "metadata": {},
   "outputs": [],
   "source": [
    "circuitsvis.topk_tokens.topk_tokens??"
   ]
  },
  {
   "cell_type": "code",
   "execution_count": null,
   "id": "0533d521",
   "metadata": {},
   "outputs": [],
   "source": []
  },
  {
   "cell_type": "code",
   "execution_count": null,
   "id": "edee20ad",
   "metadata": {},
   "outputs": [],
   "source": []
  },
  {
   "cell_type": "code",
   "execution_count": null,
   "id": "d4195832",
   "metadata": {},
   "outputs": [],
   "source": []
  },
  {
   "cell_type": "code",
   "execution_count": null,
   "id": "c0c59598",
   "metadata": {},
   "outputs": [],
   "source": []
  },
  {
   "cell_type": "markdown",
   "id": "86be5940",
   "metadata": {},
   "source": [
    "## SAE"
   ]
  },
  {
   "cell_type": "code",
   "execution_count": null,
   "id": "aaee566f",
   "metadata": {},
   "outputs": [],
   "source": [
    "for layer_index in range(cfg.n_layers):\n",
    "    imshow(\n",
    "        transformer_lens.utils.to_numpy(cache[\"attn\", layer_index].mean([0, 1])),\n",
    "        title=f\"Layer {layer_index} Attention Pattern\",\n",
    "        height=400,\n",
    "        width=400,\n",
    "    )"
   ]
  },
  {
   "cell_type": "code",
   "execution_count": null,
   "id": "5469c53a",
   "metadata": {},
   "outputs": [],
   "source": [
    "import torch\n",
    "import torch.nn as nn\n",
    "import torch.optim as optim\n",
    "import torch.nn.functional as F\n",
    "\n",
    "import dataclasses\n",
    "\n",
    "Loss = Float32[torch.Tensor, \"\"]\n",
    "MSELoss = Float32[torch.Tensor, \"\"]\n",
    "WeightedSparsityLoss = Float32[torch.Tensor, \"\"]\n",
    "\n",
    "Logits = Float32[torch.Tensor, \"n_ctx d_vocab\"]\n",
    "BatchedLogits = Float32[torch.Tensor, \"batch n_ctx d_vocab\"]\n",
    "\n",
    "ModelActivations = Float32[torch.Tensor, \"n_ctx d_model\"]\n",
    "BatchedModelActivations = Float32[torch.Tensor, \"batch n_ctx d_model\"]\n",
    "\n",
    "FlattenedModelActivations = Float32[torch.Tensor, \"d_sae_in\"]\n",
    "\n",
    "BatchedFlattenedModelActivations = Float32[torch.Tensor, \"batch d_sae_in\"]\n",
    "BatchedSAEActivations = Float32[torch.Tensor, \"batch d_sae_model\"]\n",
    "\n",
    "\n",
    "@dataclasses.dataclass\n",
    "class SAEOutput:\n",
    "    sae_activations: BatchedSAEActivations\n",
    "    reconstructed_model_activations: BatchedFlattenedModelActivations\n",
    "\n",
    "\n",
    "def sparse_loss_kl_divergence(\n",
    "    flattened_model_activations: BatchedFlattenedModelActivations,\n",
    "    sae_output: SAEOutput,\n",
    "    sparsity_target: float,\n",
    "    sparsity_weight: float,\n",
    "    epsilon: float = 1e-7,\n",
    ") -> tuple[Loss, MSELoss, WeightedSparsityLoss]:\n",
    "\n",
    "    # same as dense loss (this is constant?)\n",
    "    mse_loss = F.mse_loss(\n",
    "        sae_output.reconstructed_model_activations,\n",
    "        flattened_model_activations,\n",
    "    )\n",
    "\n",
    "    # KL divergence for sparsity\n",
    "    avg_activation = torch.mean(sae_output.sae_activations, dim=0)\n",
    "\n",
    "    # print(f'[pre-clamping] {avg_activation=}')\n",
    "\n",
    "    # Add epsilon for numerical stability\n",
    "    avg_activation = torch.clamp(avg_activation, epsilon, 1 - epsilon)\n",
    "\n",
    "    kl_div = sparsity_target * torch.log(sparsity_target / avg_activation) + (\n",
    "        1 - sparsity_target\n",
    "    ) * torch.log((1 - sparsity_target) / (1 - avg_activation))\n",
    "    kl_div = torch.sum(kl_div)\n",
    "\n",
    "    # `sparsity_weight` decides how much we weight `KL-Divergence`\n",
    "    sparsity_penalty = sparsity_weight * kl_div\n",
    "\n",
    "    # print(f\"{mse_loss=}, {avg_activation=}, {kl_div.item()}, {sparsity_penalty=}\")\n",
    "\n",
    "    return mse_loss + sparsity_penalty, mse_loss, sparsity_penalty"
   ]
  },
  {
   "cell_type": "code",
   "execution_count": null,
   "id": "de4ac6aa",
   "metadata": {},
   "outputs": [],
   "source": [
    "def sparse_loss_l1_norm(\n",
    "    flattened_model_activations: BatchedFlattenedModelActivations,\n",
    "    sae_output: SAEOutput,\n",
    "    sparsity_weight: float,\n",
    ") -> tuple[Loss, MSELoss, WeightedSparsityLoss]:\n",
    "\n",
    "    # Reconstruction loss (Mean Squared Error)\n",
    "    mse_loss = F.mse_loss(\n",
    "        sae_output.reconstructed_model_activations,\n",
    "        flattened_model_activations,\n",
    "    )\n",
    "\n",
    "    # L1 sparsity penalty\n",
    "    l1_penalty = torch.mean(torch.abs(sae_output.sae_activations))\n",
    "\n",
    "    sparsity_penalty = sparsity_weight * l1_penalty\n",
    "\n",
    "    # Total loss\n",
    "    total_loss = mse_loss + sparsity_penalty\n",
    "\n",
    "    return total_loss, mse_loss, sparsity_penalty"
   ]
  },
  {
   "cell_type": "code",
   "execution_count": null,
   "id": "1dc92db5",
   "metadata": {},
   "outputs": [],
   "source": [
    "import dataclasses\n",
    "\n",
    "\n",
    "@dataclasses.dataclass\n",
    "class SparseAutoencoderConfig:\n",
    "    d_in: int\n",
    "    d_model: int\n",
    "\n",
    "\n",
    "# TODO(bschoen): Start using the config pattern, it stays typesafe and allows\n",
    "#                easy logging to things like wandb\n",
    "class SparseAutoencoder(nn.Module):\n",
    "    def __init__(\n",
    "        self,\n",
    "        cfg: SparseAutoencoderConfig,\n",
    "    ) -> None:\n",
    "\n",
    "        print(f\"Creating SparseAutoencoder with {cfg}\")\n",
    "\n",
    "        super(SparseAutoencoder, self).__init__()\n",
    "\n",
    "        self.d_in = cfg.d_in\n",
    "        self.d_model = cfg.d_model\n",
    "\n",
    "        self.encoder = nn.Linear(cfg.d_in, cfg.d_model)\n",
    "        self.decoder = nn.Linear(cfg.d_model, cfg.d_in)\n",
    "\n",
    "    def forward(\n",
    "        self,\n",
    "        x: BatchedFlattenedModelActivations,\n",
    "    ) -> SAEOutput:\n",
    "\n",
    "        # TODO(bschoen): Which activation function should we use?\n",
    "        encoded = F.gelu(self.encoder(x))\n",
    "\n",
    "        decoded = self.decoder(encoded)\n",
    "\n",
    "        return SAEOutput(\n",
    "            sae_activations=encoded,\n",
    "            reconstructed_model_activations=decoded,\n",
    "        )"
   ]
  },
  {
   "cell_type": "code",
   "execution_count": null,
   "id": "8b22b5b1",
   "metadata": {},
   "outputs": [],
   "source": [
    "import lightning.pytorch\n",
    "\n",
    "\n",
    "@dataclasses.dataclass\n",
    "class LightningSparseAutoencoderConfig:\n",
    "\n",
    "    model_config: transformer_lens.HookedTransformerConfig\n",
    "    sae_config: SparseAutoencoderConfig\n",
    "    learning_rate: float\n",
    "    sparsity_weight: float\n",
    "\n",
    "\n",
    "# note: this kind of lightning adapter is a common pattern: https://lightning.ai/docs/pytorch/stable/common/lightning_module.html#starter-example\n",
    "class LightningSparseAutoencoder(lightning.pytorch.LightningModule):\n",
    "    def __init__(\n",
    "        self,\n",
    "        cfg: LightningSparseAutoencoderConfig,\n",
    "    ) -> None:\n",
    "\n",
    "        super(LightningSparseAutoencoder, self).__init__()\n",
    "\n",
    "        self.model = transformer_lens.HookedTransformer(cfg=cfg.model_config)\n",
    "        self.sae = SparseAutoencoder(cfg=cfg.sae_config)\n",
    "        self.cfg = cfg\n",
    "\n",
    "    def forward(self, inputs, target):\n",
    "        return self.model(inputs, target)\n",
    "\n",
    "    def training_step(self, batch, batch_idx: int) -> Loss:\n",
    "        inputs, target = batch\n",
    "\n",
    "        self.model\n",
    "        output = self(inputs, target)\n",
    "        loss = torch.nn.functional.cr(output, target.view(-1))\n",
    "        return loss\n",
    "\n",
    "    def configure_optimizers(self):\n",
    "        return torch.optim.SGD(self.model.parameters(), lr=0.1)"
   ]
  },
  {
   "cell_type": "code",
   "execution_count": null,
   "id": "85e9c948",
   "metadata": {},
   "outputs": [],
   "source": [
    "hook_id = \"blocks.0.hook_mlp_out\"\n",
    "\n",
    "cache[hook_id].shape"
   ]
  },
  {
   "cell_type": "code",
   "execution_count": null,
   "id": "1036691e",
   "metadata": {},
   "outputs": [],
   "source": [
    "# Training loop\n",
    "sae_num_epochs = 100000\n",
    "sae_expansion_factor = 64\n",
    "\n",
    "learning_rate = 5e-4\n",
    "\n",
    "# both arbitrary for now\n",
    "# - Start small: A common approach is to begin with a relatively small sparsity weight,\n",
    "#                typically in the range of 1e-5 to 1e-3. This allows the model to\n",
    "#                learn meaningful representations before enforcing strong sparsity\n",
    "#                constraints.\n",
    "sparsity_weight: float = 1e-3  # Weight of the sparsity loss in the total loss\n",
    "sparsity_target: float = 0.05  # Target average activation of hidden neurons\n",
    "\n",
    "print(f\"Training SAE for {hook_id}...\")\n",
    "sae_d_in = (cfg.n_ctx - 1) * cfg.d_model  # -1 since not predicting first token\n",
    "sae_d_model = sae_d_in * sae_expansion_factor\n",
    "\n",
    "sae_cfg = SparseAutoencoderConfig(\n",
    "    d_in=sae_d_in,\n",
    "    d_model=sae_d_model,\n",
    ")\n",
    "\n",
    "sae_model = SparseAutoencoder(cfg=sae_cfg)\n",
    "sae_model.to(device)\n",
    "\n",
    "sae_optimizer = optim.Adam(sae_model.parameters(), lr=learning_rate)\n",
    "\n",
    "wandb.init(\n",
    "    project=\"toy-problem-hooked-transformer-sae\",\n",
    "    config={\n",
    "        \"sae_num_epochs\": sae_num_epochs,\n",
    "        \"sae_expansion_factor\": sae_expansion_factor,\n",
    "        \"learning_rate\": learning_rate,\n",
    "        \"sparsity_weight\": sparsity_weight,\n",
    "        \"sparsity_target\": sparsity_target,\n",
    "        \"sae_d_in\": sae_d_in,\n",
    "        \"sae_d_model\": sae_d_model,\n",
    "        \"hook_id\": hook_id,\n",
    "    },\n",
    ")\n",
    "\n",
    "# put model itself into eval mode so doesn't change\n",
    "model.eval()\n",
    "\n",
    "# go through the training data again, this time training the sae on the activations\n",
    "for epoch, batch in tqdm.tqdm(\n",
    "    zip(\n",
    "        range(sae_num_epochs),\n",
    "        itertools.cycle(train_loader),\n",
    "    )\n",
    "):\n",
    "\n",
    "    tokens, target = batch\n",
    "\n",
    "    tokens, target = tokens.to(device), target.to(device)\n",
    "\n",
    "    # run through the model (with cache) to get the activations\n",
    "    logits, cache = model.run_with_cache(tokens)\n",
    "\n",
    "    # ex: torch.Size([4, 8, 16])\n",
    "    activations = cache[hook_id]\n",
    "\n",
    "    # ex: torch.Size([4, 128])\n",
    "    flattened_activations = activations.reshape(activations.size(0), -1)\n",
    "\n",
    "    sae_optimizer.zero_grad()\n",
    "\n",
    "    # now the SAE model is given the *activations*\n",
    "    sae_output = sae_model.forward(flattened_activations)\n",
    "\n",
    "    # compute loss\n",
    "\n",
    "    total_loss, reconstruction_loss, weighted_sparsity_loss = sparse_loss_kl_divergence(\n",
    "        flattened_activations,\n",
    "        sae_output,\n",
    "        sparsity_target=sparsity_target,\n",
    "        sparsity_weight=sparsity_weight,\n",
    "    )\n",
    "\n",
    "    \"\"\"total_loss, reconstruction_loss, weighted_sparsity_loss = sparse_loss_l1_norm(\n",
    "        flattened_model_activations=flattened_activations,\n",
    "        sae_output=sae_output,\n",
    "        sparsity_weight=sparsity_weight,\n",
    "    )\"\"\"\n",
    "\n",
    "    total_loss.backward()\n",
    "\n",
    "    sae_optimizer.step()\n",
    "\n",
    "    if epoch % 500 == 0:\n",
    "        print(\n",
    "            f\"Step {epoch}, \"\n",
    "            f\"Total Loss: {total_loss.item():.6f}, \"\n",
    "            f\"Reconstruction Loss: {reconstruction_loss.item():.6f}, \"\n",
    "            f\"Sparsity Loss: {weighted_sparsity_loss.item():.6f}\",\n",
    "        )\n",
    "\n",
    "        wandb.log(\n",
    "            {\n",
    "                \"epoch\": epoch,\n",
    "                \"total_loss\": total_loss.item(),\n",
    "                \"reconstruction_loss\": reconstruction_loss.item(),\n",
    "                \"weighted_sparsity_loss\": weighted_sparsity_loss.item(),\n",
    "            }\n",
    "        )\n",
    "\n",
    "wandb.finish()"
   ]
  },
  {
   "cell_type": "markdown",
   "id": "f66a407f",
   "metadata": {},
   "source": [
    "#### Dictionary Learning Implementation\n",
    "\n",
    "See [simple_dictionary_learning.ipynb](simple_dictionary_learning.ipynb) for a details"
   ]
  },
  {
   "cell_type": "markdown",
   "id": "408a1011",
   "metadata": {},
   "source": [
    "#### Extracting the learned dictionary"
   ]
  },
  {
   "cell_type": "code",
   "execution_count": null,
   "id": "7dde7a41",
   "metadata": {},
   "outputs": [],
   "source": [
    "# Creating SparseAutoencoder with d_in=128, d_model=512, sparsity_target=0.05\n",
    "dictionary: Float32[torch.Tensor, \"sae_hidden sae_in\"] = (\n",
    "    sae_model.encoder.weight.detach()\n",
    ")\n",
    "\n",
    "# ex: Dictionary shape: torch.Size([512, 128])\n",
    "print(f\"Dictionary shape: {dictionary.shape}\")"
   ]
  },
  {
   "cell_type": "code",
   "execution_count": null,
   "id": "30ba6b61",
   "metadata": {},
   "outputs": [],
   "source": [
    "# Reshape dictionary elements to match original activation shape\n",
    "# (essentially `unflatting`)\n",
    "reshaped_dictionary = dictionary.reshape(sae_d_model, (cfg.n_ctx - 1), cfg.d_model)\n",
    "\n",
    "# Motivation: Extract the learned features (dictionary elements) from the encoder weights\n",
    "# ex: Dictionary shape: torch.Size([512, 8, 16])\n",
    "print(f\"Dictionary shape: {reshaped_dictionary.shape}\")"
   ]
  },
  {
   "cell_type": "code",
   "execution_count": null,
   "id": "ac34bfe9",
   "metadata": {},
   "outputs": [],
   "source": [
    "# It's always worth checking this sort of thing when you do this by hand\n",
    "# to check that you haven't got the wrong site, or are missing a\n",
    "# scaling factor or something like this.\n",
    "#\n",
    "# This is like the overfitting thing"
   ]
  },
  {
   "cell_type": "code",
   "execution_count": null,
   "id": "70afd13e",
   "metadata": {},
   "outputs": [],
   "source": []
  },
  {
   "cell_type": "code",
   "execution_count": null,
   "id": "29f65ce6",
   "metadata": {},
   "outputs": [],
   "source": [
    "import matplotlib.pyplot as plt"
   ]
  },
  {
   "cell_type": "code",
   "execution_count": null,
   "id": "4d71a9aa",
   "metadata": {},
   "outputs": [],
   "source": [
    "# let's look at an example batch from `test`\n",
    "\n",
    "# set both to eval mode\n",
    "model.eval()\n",
    "sae_model.eval()\n",
    "\n",
    "# grab something from the test batch\n",
    "example_batch = next(iter(test_loader))\n",
    "\n",
    "x, y = example_batch\n",
    "\n",
    "_, cache = model.run_with_cache(x)\n",
    "\n",
    "activations = cache[hook_id]\n",
    "\n",
    "print(f\"Activations shape: {activations.shape}\")\n",
    "\n",
    "# flatten it\n",
    "flattened_activations = activations.reshape(activations.size(0), -1)\n",
    "\n",
    "print(f\"{flattened_activations.shape=}\")\n",
    "\n",
    "sae_outputs = sae_model(flattened_activations)\n",
    "\n",
    "print(f\"{sae_outputs.sae_activations.shape=}\")\n",
    "print(f\"{sae_outputs.reconstructed_model_activations.shape=}\")\n",
    "\n",
    "# now we can get the dictionary\n",
    "dictionary = sae_model.encoder.weight.detach()\n",
    "\n",
    "print(f\"Dictionary shape: {dictionary.shape}\")\n",
    "\n",
    "# now we can get the sparse coefficients\n",
    "alpha = dictionary @ flattened_activations.T"
   ]
  },
  {
   "cell_type": "markdown",
   "id": "2ef94946",
   "metadata": {},
   "source": [
    "### Determine Quality Of SAE"
   ]
  },
  {
   "cell_type": "code",
   "execution_count": null,
   "id": "0df2e586",
   "metadata": {},
   "outputs": [],
   "source": [
    "def calculate_sparsity(\n",
    "    sae_activations: BatchedSAEActivations,\n",
    "    threshold: float = 1e-5,\n",
    ") -> float:\n",
    "    \"\"\"\n",
    "    Calculate sparsity of SAE activations across a batch.\n",
    "\n",
    "    Args:\n",
    "    sae_activations (torch.Tensor): The activations from the Sparse Autoencoder.\n",
    "                                    Shape: (batch, d_sae_model)\n",
    "    threshold (float): The threshold below which an activation is considered \"inactive\".\n",
    "\n",
    "    Returns:\n",
    "    float: The average sparsity value across the batch (fraction of inactive neurons).\n",
    "    \"\"\"\n",
    "    # Count the number of neurons that are below the threshold (inactive)\n",
    "    inactive_neurons = torch.sum(torch.abs(sae_activations) < threshold, dim=1)\n",
    "\n",
    "    # Calculate the fraction of inactive neurons for each item in the batch\n",
    "    sparsity_per_item = inactive_neurons.float() / sae_activations.shape[1]\n",
    "\n",
    "    # Take the mean across the batch\n",
    "    average_sparsity = torch.mean(sparsity_per_item)\n",
    "\n",
    "    return average_sparsity.item()"
   ]
  },
  {
   "cell_type": "code",
   "execution_count": null,
   "id": "4ce98afd",
   "metadata": {},
   "outputs": [],
   "source": [
    "def calculate_explained_variance(\n",
    "    reconstructed_model_activations: BatchedFlattenedModelActivations,\n",
    "    flattened_activations: BatchedFlattenedModelActivations,\n",
    ") -> float:\n",
    "    \"\"\"\n",
    "    Calculate the explained variance of the SAE activations.\n",
    "    \"\"\"\n",
    "\n",
    "    numerator = torch.mean(\n",
    "        (reconstructed_model_activations[:, 1:] - flattened_activations[:, 1:]) ** 2\n",
    "    )\n",
    "    denominator = flattened_activations[:, 1:].to(torch.float32).var()\n",
    "\n",
    "    explained_variance = 1 - (numerator / denominator)\n",
    "\n",
    "    return explained_variance.item()"
   ]
  },
  {
   "cell_type": "code",
   "execution_count": null,
   "id": "ba21e4bf",
   "metadata": {},
   "outputs": [],
   "source": [
    "# explained_variance=0.995 -> good, basically all the variance is explained by our SAE\n",
    "# sparsity=0.0045 -> good, very sparse, and more sparse than our target of 0.05\n",
    "explained_variance = calculate_explained_variance(\n",
    "    sae_outputs.reconstructed_model_activations,\n",
    "    flattened_activations,\n",
    ")\n",
    "print(f\"{explained_variance=:.4f}\")\n",
    "\n",
    "sparsity = calculate_sparsity(sae_outputs.sae_activations)\n",
    "print(f\"{sparsity=:.4f}\")"
   ]
  },
  {
   "cell_type": "code",
   "execution_count": null,
   "id": "c7fa3d47",
   "metadata": {},
   "outputs": [],
   "source": [
    "# Let's analyze the relationship between SAE activations and input features\n",
    "\n",
    "# TODO(bschoen): Oh `imshow` is huge here!\n",
    "\n",
    "# 1. Visualize the dictionary (encoder weights)\n",
    "plt.figure(figsize=(12, 8))\n",
    "plt.imshow(dictionary.cpu().T, aspect=\"auto\", cmap=\"RdBu_r\")\n",
    "plt.colorbar()\n",
    "plt.title(\"SAE Dictionary (Encoder Weights)\")\n",
    "plt.xlabel(\"Dictionary Elements\")\n",
    "plt.ylabel(\"Input Features\")\n",
    "plt.show()"
   ]
  },
  {
   "cell_type": "code",
   "execution_count": null,
   "id": "231f5344",
   "metadata": {},
   "outputs": [],
   "source": [
    "# 2. Find the most active neurons for each input\n",
    "top_k = 5  # Number of top activations to consider\n",
    "\n",
    "# so this is essentially the top 5 activations over `batch_size` examples\n",
    "top_activations = torch.topk(sae_outputs.sae_activations, k=top_k, dim=1)\n",
    "\n",
    "# Visualization of top activations\n",
    "plt.figure(figsize=(12, 8))\n",
    "plt.subplot(2, 1, 1)\n",
    "sns.heatmap(\n",
    "    top_activations.values.detach().cpu().numpy(), cmap=\"viridis\", annot=True, fmt=\".2f\"\n",
    ")\n",
    "plt.title(\"Top 5 Activation Values\")\n",
    "plt.xlabel(\"Top K\")\n",
    "plt.ylabel(\"Batch Sample\")\n",
    "\n",
    "plt.subplot(2, 1, 2)\n",
    "sns.heatmap(\n",
    "    top_activations.indices.detach().cpu().numpy(), cmap=\"YlOrRd\", annot=True, fmt=\"d\"\n",
    ")\n",
    "plt.title(\"Indices of Top 5 Activations\")\n",
    "plt.xlabel(\"Top K\")\n",
    "plt.ylabel(\"Batch Sample\")\n",
    "\n",
    "plt.tight_layout()\n",
    "plt.show()\n",
    "\n",
    "# Additional analysis: frequency of top neurons\n",
    "top_neuron_counts = torch.bincount(\n",
    "    top_activations.indices.flatten().detach().cpu(),\n",
    "    minlength=sae_outputs.sae_activations.shape[1],\n",
    ")\n",
    "top_10_neurons = torch.topk(top_neuron_counts, k=10)\n",
    "\n",
    "plt.figure(figsize=(10, 6))\n",
    "plt.bar(range(10), top_10_neurons.values.detach().cpu().numpy())\n",
    "plt.title(\"Top 10 Most Frequently Activated Neurons\")\n",
    "plt.xlabel(\"Neuron Index\")\n",
    "plt.ylabel(\"Activation Frequency\")\n",
    "plt.xticks(range(10), top_10_neurons.indices.detach().cpu().numpy())\n",
    "plt.show()"
   ]
  },
  {
   "cell_type": "code",
   "execution_count": null,
   "id": "a52cdffb",
   "metadata": {},
   "outputs": [],
   "source": [
    "sae_outputs.sae_activations[:, 1210]"
   ]
  },
  {
   "cell_type": "code",
   "execution_count": null,
   "id": "9e5749ae",
   "metadata": {},
   "outputs": [],
   "source": [
    "print(f\"{sae_outputs.sae_activations.shape=}\")\n",
    "print(f\"{top_activations.values.shape=}\")\n",
    "print(f\"{top_activations.indices.shape=}\")"
   ]
  },
  {
   "cell_type": "code",
   "execution_count": null,
   "id": "980c3b50",
   "metadata": {},
   "outputs": [],
   "source": [
    "print(top_activations.indices)"
   ]
  },
  {
   "cell_type": "code",
   "execution_count": null,
   "id": "c4932383",
   "metadata": {},
   "outputs": [],
   "source": [
    "# ex: 51 and 410 show up a lot\n",
    "sns.heatmap(top_activations.values.cpu().T, cmap=\"viridis\")"
   ]
  },
  {
   "cell_type": "code",
   "execution_count": null,
   "id": "5df3ea7b",
   "metadata": {},
   "outputs": [],
   "source": [
    "# 3. Analyze feature importance for each neuron\n",
    "feature_importance = torch.abs(dictionary).sum(dim=1)\n",
    "top_features = torch.topk(feature_importance, k=10)\n",
    "\n",
    "print(f\"{dictionary.shape=}\")\n",
    "print(f\"{feature_importance.shape=}\")\n",
    "print(f\"{top_features.values.shape=}\")\n",
    "print(f\"{top_features.indices.shape=}\")\n",
    "\n",
    "top_features"
   ]
  },
  {
   "cell_type": "code",
   "execution_count": null,
   "id": "597dd95e",
   "metadata": {},
   "outputs": [],
   "source": [
    "print(\"\\nTop 10 most important neurons:\")\n",
    "for i, (value, index) in enumerate(\n",
    "    zip(top_features.values.tolist(), top_features.indices.tolist())\n",
    "):\n",
    "    print(f\"Neuron {index}:\\t{value:.4f}\")"
   ]
  },
  {
   "cell_type": "code",
   "execution_count": null,
   "id": "e0168d0e",
   "metadata": {},
   "outputs": [],
   "source": [
    "top_features.values.tolist()"
   ]
  },
  {
   "cell_type": "code",
   "execution_count": null,
   "id": "77201da4",
   "metadata": {},
   "outputs": [],
   "source": [
    "top_features.indices.tolist()"
   ]
  },
  {
   "cell_type": "code",
   "execution_count": null,
   "id": "3db4dd67",
   "metadata": {},
   "outputs": [],
   "source": [
    "# 4. Visualize activations for a few examples\n",
    "\n",
    "# first look at a single batch\n",
    "sae_activations = sae_outputs.sae_activations[0].detach().cpu()\n",
    "\n",
    "print(f\"{sae_activations.shape=}\")\n",
    "\n",
    "plt.figure(figsize=(15, 5))\n",
    "plt.subplot(1, 1, 1)\n",
    "\n",
    "# Look at a single batch\n",
    "plt.bar(range(sae_activations.shape[0]), sae_activations)\n",
    "\n",
    "plt.title(f\"SAE Activations for Example\")\n",
    "plt.xlabel(\"Neuron\")\n",
    "plt.ylabel(\"Activation\")\n",
    "plt.tight_layout()\n",
    "plt.show()"
   ]
  },
  {
   "cell_type": "code",
   "execution_count": null,
   "id": "3f0fa395",
   "metadata": {},
   "outputs": [],
   "source": []
  },
  {
   "cell_type": "code",
   "execution_count": null,
   "id": "3a496682",
   "metadata": {},
   "outputs": [],
   "source": [
    "# 5. Reconstruct input features from SAE activations\n",
    "#\n",
    "# Take a single batch first\n",
    "reconstructed_model_activations = (\n",
    "    sae_outputs.reconstructed_model_activations.detach().cpu()\n",
    ")\n",
    "\n",
    "# 6. Compare original and reconstructed features\n",
    "num_features = 5\n",
    "\n",
    "plt.figure(figsize=(15, 3 * num_features))\n",
    "for i in range(num_features):\n",
    "    plt.subplot(num_features, 1, i + 1)\n",
    "    plt.ylim(-1, 1)  # Set y-axis range from -1 to 1\n",
    "    plt.plot(flattened_activations[:, i].cpu(), label=\"Original\", alpha=0.5)\n",
    "    plt.plot(reconstructed_model_activations[:, i], label=\"Reconstructed\", alpha=0.5)\n",
    "    plt.title(f\"Feature {i}: Original vs Reconstructed\")\n",
    "    plt.legend()\n",
    "plt.tight_layout()\n",
    "plt.show()"
   ]
  },
  {
   "cell_type": "code",
   "execution_count": null,
   "id": "00b59930",
   "metadata": {},
   "outputs": [],
   "source": [
    "# 7. Correlation between SAE activations and input features\n",
    "correlation_matrix = torch.corrcoef(\n",
    "    torch.cat([sae_outputs.sae_activations, flattened_activations], dim=1).T\n",
    ")\n",
    "num_neurons = sae_outputs.sae_activations.shape[1]\n",
    "neuron_feature_correlation = correlation_matrix[:num_neurons, num_neurons:]\n",
    "\n",
    "plt.figure(figsize=(12, 8))\n",
    "plt.imshow(\n",
    "    neuron_feature_correlation.detach().cpu(),\n",
    "    aspect=\"auto\",\n",
    "    cmap=\"RdBu_r\",\n",
    "    vmin=-1,\n",
    "    vmax=1,\n",
    ")\n",
    "plt.colorbar()\n",
    "plt.title(\"Correlation between SAE Neurons and Input Features\")\n",
    "plt.xlabel(\"Input Features\")\n",
    "plt.ylabel(\"SAE Neurons\")\n",
    "plt.show()"
   ]
  },
  {
   "cell_type": "code",
   "execution_count": null,
   "id": "c3d72027",
   "metadata": {},
   "outputs": [],
   "source": []
  },
  {
   "cell_type": "code",
   "execution_count": null,
   "id": "0385d16d",
   "metadata": {},
   "outputs": [],
   "source": []
  },
  {
   "cell_type": "code",
   "execution_count": null,
   "id": "d02318ef",
   "metadata": {},
   "outputs": [],
   "source": []
  },
  {
   "cell_type": "code",
   "execution_count": null,
   "id": "47054e92",
   "metadata": {},
   "outputs": [],
   "source": [
    "sae_outputs.sae_activations"
   ]
  },
  {
   "cell_type": "code",
   "execution_count": null,
   "id": "960382a9",
   "metadata": {},
   "outputs": [],
   "source": []
  },
  {
   "cell_type": "code",
   "execution_count": null,
   "id": "fb9c6bc4",
   "metadata": {},
   "outputs": [],
   "source": []
  },
  {
   "cell_type": "code",
   "execution_count": null,
   "id": "ffcdbe07",
   "metadata": {},
   "outputs": [],
   "source": [
    "# collect max activations\n",
    "\n",
    "\n",
    "with torch.no_grad():\n",
    "\n",
    "    # go through the training data again, but don't cycle, no reason to go through more than once\n",
    "    for batch in tqdm.tqdm(train_loader):\n",
    "\n",
    "        tokens, target = batch\n",
    "\n",
    "        tokens, target = tokens.to(device), target.to(device)\n",
    "\n",
    "        # run through the model (with cache) to get the activations\n",
    "        logits, cache = model.run_with_cache(tokens)\n",
    "\n",
    "        # ex: torch.Size([4, 8, 16])\n",
    "        activations = cache[hook_id]\n",
    "\n",
    "        # ex: torch.Size([4, 128])\n",
    "        flattened_activations = activations.reshape(activations.size(0), -1)\n",
    "\n",
    "        # now the SAE model is given the *activations*\n",
    "        encoded, decoded = sae_model(flattened_activations)\n",
    "\n",
    "        sae_activations = encoded\n",
    "\n",
    "        # sae_activations.reshape(sae_d_model, (cfg.n_ctx - 1), cfg.d_model)\n",
    "\n",
    "        # max_activations = torch.max(encoded, dim=1)\n",
    "\n",
    "        break"
   ]
  },
  {
   "cell_type": "code",
   "execution_count": null,
   "id": "cc950af9",
   "metadata": {},
   "outputs": [],
   "source": [
    "alpha = sae_model.encoder.weight @ flattened_activations[0]\n",
    "\n",
    "print(f\"{alpha.shape=}\")"
   ]
  },
  {
   "cell_type": "code",
   "execution_count": null,
   "id": "e9278a80",
   "metadata": {},
   "outputs": [],
   "source": [
    "torch.mean(torch.abs(alpha))"
   ]
  },
  {
   "cell_type": "code",
   "execution_count": null,
   "id": "ccec2363",
   "metadata": {},
   "outputs": [],
   "source": [
    "sae_activations[0].shape"
   ]
  },
  {
   "cell_type": "code",
   "execution_count": null,
   "id": "04427556",
   "metadata": {},
   "outputs": [],
   "source": [
    "8 * 16"
   ]
  },
  {
   "cell_type": "code",
   "execution_count": null,
   "id": "5474f153",
   "metadata": {},
   "outputs": [],
   "source": []
  }
 ],
 "metadata": {
  "kernelspec": {
   "display_name": "Python 3 (ipykernel)",
   "language": "python",
   "name": "python3"
  },
  "language_info": {
   "codemirror_mode": {
    "name": "ipython",
    "version": 3
   },
   "file_extension": ".py",
   "mimetype": "text/x-python",
   "name": "python",
   "nbconvert_exporter": "python",
   "pygments_lexer": "ipython3",
   "version": "3.12.5"
  }
 },
 "nbformat": 4,
 "nbformat_minor": 5
}
