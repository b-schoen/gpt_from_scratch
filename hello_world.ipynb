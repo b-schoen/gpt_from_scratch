{
 "cells": [
  {
   "cell_type": "code",
   "execution_count": 7,
   "id": "3c8a7db6",
   "metadata": {},
   "outputs": [
    {
     "name": "stdout",
     "output_type": "stream",
     "text": [
      "The autoreload extension is already loaded. To reload it, use:\n",
      "  %reload_ext autoreload\n"
     ]
    }
   ],
   "source": [
    "%load_ext autoreload\n",
    "%autoreload 2"
   ]
  },
  {
   "cell_type": "code",
   "execution_count": 1,
   "id": "5c32fa23",
   "metadata": {},
   "outputs": [],
   "source": [
    "# today can reproduce GPT-2 in about an hour\n",
    "# GPT-2 paper is pretty light on details, so we reference the GPT-3 paper as well (not huge change in architecture)"
   ]
  },
  {
   "cell_type": "markdown",
   "id": "0ed473d0",
   "metadata": {},
   "source": [
    "* GPT-2 - [Language Models are Unsupervised Multitask Learners](https://cdn.openai.com/better-language-models/language_models_are_unsupervised_multitask_learners.pdf)\n",
    "* GPT-3 - [Language Models are Few-Shot Learners](https://arxiv.org/pdf/2005.14165)"
   ]
  },
  {
   "cell_type": "code",
   "execution_count": null,
   "id": "18012535",
   "metadata": {},
   "outputs": [],
   "source": [
    "# original written in tensorflow\n",
    "# karpathy not a fan"
   ]
  }
 ],
 "metadata": {
  "kernelspec": {
   "display_name": "Python 3 (ipykernel)",
   "language": "python",
   "name": "python3"
  },
  "language_info": {
   "codemirror_mode": {
    "name": "ipython",
    "version": 3
   },
   "file_extension": ".py",
   "mimetype": "text/x-python",
   "name": "python",
   "nbconvert_exporter": "python",
   "pygments_lexer": "ipython3",
   "version": "3.12.5"
  }
 },
 "nbformat": 4,
 "nbformat_minor": 5
}
