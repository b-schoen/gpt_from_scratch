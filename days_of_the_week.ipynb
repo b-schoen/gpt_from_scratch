{
 "cells": [
  {
   "cell_type": "code",
   "execution_count": 1,
   "id": "8136c449-8445-45fd-8d23-358f6e639e67",
   "metadata": {},
   "outputs": [],
   "source": [
    "# note: same thing for REPL\n",
    "# note: we use this instead of magic because `black` will otherwise fail to format\n",
    "#\n",
    "# Enable autoreload to automatically reload modules when they change\n",
    "\n",
    "from IPython import get_ipython\n",
    "\n",
    "# do this so that formatter not messed up\n",
    "ipython = get_ipython()\n",
    "ipython.run_line_magic(\"load_ext\", \"autoreload\")\n",
    "ipython.run_line_magic(\"autoreload\", \"2\")\n",
    "\n",
    "# Import commonly used libraries\n",
    "import numpy as np\n",
    "import pandas as pd\n",
    "\n",
    "import torch\n",
    "import torch.nn as nn\n",
    "import torch.optim as optim\n",
    "import torch.nn.functional as F\n",
    "\n",
    "# graphics\n",
    "import matplotlib.pyplot as plt\n",
    "import plotly.express as px\n",
    "import plotly.graph_objects as go\n",
    "\n",
    "# type annotation\n",
    "import jaxtyping\n",
    "from jaxtyping import Float32, Int64, jaxtyped\n",
    "from typeguard import typechecked as typechecker\n",
    "\n",
    "# more itertools\n",
    "import more_itertools as mi\n",
    "\n",
    "# itertools\n",
    "import itertools\n",
    "import collections\n",
    "\n",
    "# tensor manipulation\n",
    "from einops import rearrange, reduce, repeat\n",
    "\n",
    "# automatically apply jaxtyping\n",
    "# %load_ext jaxtyping\n",
    "# %jaxtyping.typechecker typeguard.typechecked"
   ]
  },
  {
   "cell_type": "code",
   "execution_count": 2,
   "id": "d91f8447",
   "metadata": {},
   "outputs": [],
   "source": [
    "# Install necessary packages\n",
    "# If you're running this in a new environment, uncomment the following line:\n",
    "# !pip install transformer_lens jaxtyping transformers einops\n",
    "\n",
    "# Import standard libraries\n",
    "import torch\n",
    "import torch.nn as nn\n",
    "import torch.optim as optim\n",
    "from torch.utils.data import DataLoader, Dataset\n",
    "\n",
    "# Import transformer_lens and other tools\n",
    "import transformer_lens\n",
    "from transformer_lens import HookedTransformer\n",
    "\n",
    "# Import type annotations\n",
    "from jaxtyping import Float, Int\n",
    "\n",
    "# Additional imports\n",
    "import numpy as np\n",
    "import random\n",
    "from typing import List, Tuple\n",
    "\n",
    "# For evaluation and analysis\n",
    "from sklearn.model_selection import train_test_split\n",
    "from sklearn.linear_model import LogisticRegression\n",
    "from sklearn.metrics import classification_report, accuracy_score\n",
    "\n",
    "# For visualization\n",
    "import matplotlib.pyplot as plt\n",
    "\n",
    "# Set random seeds for reproducibility\n",
    "torch.manual_seed(42)\n",
    "np.random.seed(42)\n",
    "random.seed(42)"
   ]
  },
  {
   "cell_type": "code",
   "execution_count": 17,
   "id": "52e8b041",
   "metadata": {},
   "outputs": [],
   "source": [
    "import torch\n",
    "import torch.nn as nn\n",
    "from transformer_lens import HookedTransformer\n",
    "import torch.optim as optim\n",
    "from tqdm import tqdm\n",
    "import random"
   ]
  },
  {
   "cell_type": "code",
   "execution_count": 18,
   "id": "3144448a",
   "metadata": {},
   "outputs": [],
   "source": [
    "device = torch.device(\"cuda\" if torch.cuda.is_available() else \"cpu\")"
   ]
  },
  {
   "cell_type": "code",
   "execution_count": null,
   "id": "ac365ac4",
   "metadata": {},
   "outputs": [],
   "source": [
    "model_name = \"gpt2-small\"\n",
    "model = HookedTransformer.from_pretrained(model_name)\n",
    "model.to(device)\n",
    "model.eval()  # Set the model to evaluation mode"
   ]
  },
  {
   "cell_type": "code",
   "execution_count": 19,
   "id": "6d8cdd85",
   "metadata": {},
   "outputs": [],
   "source": [
    "def generate_linearly_separable_sentences(num_samples):\n",
    "    sentences = []\n",
    "    labels = []\n",
    "    for _ in range(num_samples):\n",
    "        words = [\"The\", \"quick\", \"brown\", \"fox\"]\n",
    "        label = random.choice([0, 1])\n",
    "        if label == 0:\n",
    "            words.insert(2, \"cat\")  # Insert \"cat\" at position 2\n",
    "        else:\n",
    "            words.insert(2, \"dog\")  # Insert \"dog\" at position 2\n",
    "        sentence = \" \".join(words)\n",
    "        sentences.append(sentence)\n",
    "        labels.append(label)\n",
    "    return sentences, labels\n",
    "\n",
    "\n",
    "num_samples = 1000\n",
    "lin_sentences, lin_labels = generate_linearly_separable_sentences(num_samples)"
   ]
  },
  {
   "cell_type": "code",
   "execution_count": 20,
   "id": "8d93858e",
   "metadata": {},
   "outputs": [],
   "source": [
    "def generate_non_linearly_separable_sentences(num_samples):\n",
    "    sentences = []\n",
    "    labels = []\n",
    "    days = [\n",
    "        \"Monday\",\n",
    "        \"Tuesday\",\n",
    "        \"Wednesday\",\n",
    "        \"Thursday\",\n",
    "        \"Friday\",\n",
    "        \"Saturday\",\n",
    "        \"Sunday\",\n",
    "    ]\n",
    "    for _ in range(num_samples):\n",
    "        words = [\"I\", \"went\", \"to\", \"the\", \"store\", \"on\"]\n",
    "        day = random.choice(days)\n",
    "        words.append(day)\n",
    "        sentence = \" \".join(words)\n",
    "        # Label: 1 if weekday, 0 if weekend\n",
    "        if day in [\"Saturday\", \"Sunday\"]:\n",
    "            label = 0\n",
    "        else:\n",
    "            label = 1\n",
    "        sentences.append(sentence)\n",
    "        labels.append(label)\n",
    "    return sentences, labels\n",
    "\n",
    "\n",
    "nonlin_sentences, nonlin_labels = generate_non_linearly_separable_sentences(num_samples)"
   ]
  },
  {
   "cell_type": "code",
   "execution_count": 21,
   "id": "75a06c18",
   "metadata": {},
   "outputs": [],
   "source": [
    "lin_tokens = model.to_tokens(lin_sentences, prepend_bos=False).to(device)\n",
    "nonlin_tokens = model.to_tokens(nonlin_sentences, prepend_bos=False).to(device)"
   ]
  },
  {
   "cell_type": "code",
   "execution_count": 22,
   "id": "99e58db5",
   "metadata": {},
   "outputs": [],
   "source": [
    "lin_labels = torch.tensor(lin_labels).float().to(device)\n",
    "nonlin_labels = torch.tensor(nonlin_labels).float().to(device)"
   ]
  },
  {
   "cell_type": "code",
   "execution_count": 23,
   "id": "9448c9ec",
   "metadata": {},
   "outputs": [],
   "source": [
    "# For Dataset 1\n",
    "with torch.no_grad():\n",
    "    lin_logits, lin_cache = model.run_with_cache(lin_tokens)\n",
    "\n",
    "# For Dataset 2\n",
    "with torch.no_grad():\n",
    "    nonlin_logits, nonlin_cache = model.run_with_cache(nonlin_tokens)"
   ]
  },
  {
   "cell_type": "code",
   "execution_count": 51,
   "id": "473f9949",
   "metadata": {},
   "outputs": [],
   "source": [
    "n_layers = model.cfg.n_layers"
   ]
  },
  {
   "cell_type": "code",
   "execution_count": 52,
   "id": "c566ee95",
   "metadata": {},
   "outputs": [],
   "source": [
    "# layer = 7  # You can experiment with different layers\n",
    "position = 2  # Position where \"cat\" or \"dog\" appears"
   ]
  },
  {
   "cell_type": "code",
   "execution_count": null,
   "id": "c159867e",
   "metadata": {},
   "outputs": [],
   "source": [
    "# Initialize a list to store residuals from each layer\n",
    "lin_residuals = []\n",
    "\n",
    "# Iterate over each layer\n",
    "for layer in range(n_layers + 1):  # Including input embedding (layer 0)\n",
    "    # Access the residual stream at the specified position\n",
    "    if layer == 0:\n",
    "        resid = lin_cache[\"resid_pre\", 0][:, position, :].detach()\n",
    "    else:\n",
    "        resid = lin_cache[\"resid_post\", layer - 1][:, position, :].detach()\n",
    "    lin_residuals.append(resid)\n",
    "\n",
    "# Stack residuals: Shape -> (n_layers + 1, batch_size, d_model)\n",
    "lin_residuals = torch.stack(lin_residuals)"
   ]
  },
  {
   "cell_type": "code",
   "execution_count": 53,
   "id": "39411f74",
   "metadata": {},
   "outputs": [],
   "source": [
    "nonlin_position = -1  # Last token position\n",
    "nonlin_residuals = []\n",
    "\n",
    "for layer in range(n_layers + 1):\n",
    "    if layer == 0:\n",
    "        resid = nonlin_cache[\"resid_pre\", 0][:, nonlin_position, :].detach()\n",
    "    else:\n",
    "        resid = nonlin_cache[\"resid_post\", layer - 1][:, nonlin_position, :].detach()\n",
    "    nonlin_residuals.append(resid)\n",
    "\n",
    "nonlin_residuals = torch.stack(nonlin_residuals)"
   ]
  },
  {
   "cell_type": "code",
   "execution_count": 43,
   "id": "03fed594",
   "metadata": {},
   "outputs": [],
   "source": [
    "class LinearProbe(nn.Module):\n",
    "    def __init__(self, d_model):\n",
    "        super(LinearProbe, self).__init__()\n",
    "        self.linear = nn.Linear(d_model, 1)\n",
    "\n",
    "    def forward(self, x):\n",
    "        return self.linear(x)"
   ]
  },
  {
   "cell_type": "code",
   "execution_count": 54,
   "id": "2b7b803f",
   "metadata": {},
   "outputs": [],
   "source": [
    "def train_linear_probes(residuals, labels, epochs=5):\n",
    "    \"\"\"\n",
    "    Train a linear probe for each layer's residuals.\n",
    "\n",
    "    Args:\n",
    "        residuals: Tensor of shape (n_layers, batch_size, d_model)\n",
    "        labels: Tensor of shape (batch_size,)\n",
    "        epochs: Number of training epochs\n",
    "\n",
    "    Returns:\n",
    "        probes: List of trained LinearProbe instances\n",
    "        losses: List of training losses for each layer\n",
    "    \"\"\"\n",
    "    n_layers = residuals.size(0)\n",
    "    d_model = residuals.size(2)\n",
    "    batch_size = residuals.size(1)\n",
    "\n",
    "    probes = []\n",
    "    losses = []\n",
    "\n",
    "    for layer in range(n_layers):\n",
    "        probe = LinearProbe(d_model).to(device)\n",
    "        optimizer = optim.Adam(probe.parameters(), lr=1e-3)\n",
    "        criterion = nn.BCEWithLogitsLoss()\n",
    "\n",
    "        # Get residuals for this layer: Shape (batch_size, d_model)\n",
    "        layer_residuals = residuals[layer]\n",
    "\n",
    "        # Training loop\n",
    "        for epoch in range(epochs):\n",
    "            probe.train()\n",
    "            optimizer.zero_grad()\n",
    "            outputs = probe(layer_residuals).squeeze()\n",
    "            loss = criterion(outputs, labels)\n",
    "            loss.backward()\n",
    "            optimizer.step()\n",
    "\n",
    "        probes.append(probe)\n",
    "        losses.append(loss.item())\n",
    "\n",
    "    return probes, losses\n",
    "\n",
    "\n",
    "def evaluate_probes(probes, residuals, labels):\n",
    "    \"\"\"\n",
    "    Evaluate the linear probes on the residuals.\n",
    "\n",
    "    Args:\n",
    "        probes: List of LinearProbe instances\n",
    "        residuals: Tensor of shape (n_layers, batch_size, d_model)\n",
    "        labels: Tensor of shape (batch_size,)\n",
    "\n",
    "    Returns:\n",
    "        accuracies: List of accuracies for each layer\n",
    "    \"\"\"\n",
    "    n_layers = residuals.size(0)\n",
    "    accuracies = []\n",
    "\n",
    "    for layer in range(n_layers):\n",
    "        probe = probes[layer]\n",
    "        layer_residuals = residuals[layer]\n",
    "        probe.eval()\n",
    "        with torch.no_grad():\n",
    "            outputs = probe(layer_residuals).squeeze()\n",
    "            predictions = torch.sigmoid(outputs) > 0.5\n",
    "            accuracy = (predictions == labels.byte()).float().mean()\n",
    "            accuracies.append(accuracy.item())\n",
    "    return accuracies"
   ]
  },
  {
   "cell_type": "code",
   "execution_count": 55,
   "id": "3b59a57e",
   "metadata": {},
   "outputs": [],
   "source": [
    "epochs = 5\n",
    "\n",
    "# Train probes\n",
    "lin_probes, lin_losses = train_linear_probes(lin_residuals, lin_labels, epochs=epochs)\n",
    "\n",
    "# Evaluate probes\n",
    "lin_accuracies = evaluate_probes(lin_probes, lin_residuals, lin_labels)"
   ]
  },
  {
   "cell_type": "code",
   "execution_count": 56,
   "id": "75a63b93",
   "metadata": {},
   "outputs": [],
   "source": [
    "# Train probes\n",
    "nonlin_probes, nonlin_losses = train_linear_probes(\n",
    "    nonlin_residuals, nonlin_labels, epochs=epochs\n",
    ")\n",
    "\n",
    "# Evaluate probes\n",
    "nonlin_accuracies = evaluate_probes(nonlin_probes, nonlin_residuals, nonlin_labels)"
   ]
  },
  {
   "cell_type": "code",
   "execution_count": 57,
   "id": "a00c9ab1",
   "metadata": {},
   "outputs": [
    {
     "data": {
      "image/png": "[encoded data removed]",
      "text/plain": [
       "<Figure size 1000x500 with 1 Axes>"
      ]
     },
     "metadata": {},
     "output_type": "display_data"
    },
    {
     "data": {
      "image/png": "[encoded data removed]",
      "text/plain": [
       "<Figure size 1000x500 with 1 Axes>"
      ]
     },
     "metadata": {},
     "output_type": "display_data"
    }
   ],
   "source": [
    "import matplotlib.pyplot as plt\n",
    "\n",
    "layers = list(range(n_layers + 1))\n",
    "\n",
    "# For Dataset 1\n",
    "plt.figure(figsize=(10, 5))\n",
    "plt.plot(layers, lin_accuracies, marker=\"o\", label=\"Dataset 1 (Linearly Separable)\")\n",
    "plt.title(\"Linear Probe Accuracy Across Layers (Dataset 1)\")\n",
    "plt.xlabel(\"Layer\")\n",
    "plt.ylabel(\"Accuracy\")\n",
    "plt.xticks(layers)\n",
    "plt.ylim(0, 1)\n",
    "plt.grid(True)\n",
    "plt.legend()\n",
    "plt.show()\n",
    "\n",
    "# For Dataset 2\n",
    "plt.figure(figsize=(10, 5))\n",
    "plt.plot(\n",
    "    layers,\n",
    "    nonlin_accuracies,\n",
    "    marker=\"o\",\n",
    "    color=\"red\",\n",
    "    label=\"Dataset 2 (Non-Linearly Separable)\",\n",
    ")\n",
    "plt.title(\"Linear Probe Accuracy Across Layers (Dataset 2)\")\n",
    "plt.xlabel(\"Layer\")\n",
    "plt.ylabel(\"Accuracy\")\n",
    "plt.xticks(layers)\n",
    "plt.ylim(0, 1)\n",
    "plt.grid(True)\n",
    "plt.legend()\n",
    "plt.show()"
   ]
  },
  {
   "cell_type": "code",
   "execution_count": 48,
   "id": "3dff58c0",
   "metadata": {},
   "outputs": [],
   "source": [
    "class NonLinearProbe(nn.Module):\n",
    "    def __init__(self, d_model):\n",
    "        super(NonLinearProbe, self).__init__()\n",
    "        self.fc1 = nn.Linear(d_model, 128)\n",
    "        self.relu = nn.ReLU()\n",
    "        self.fc2 = nn.Linear(128, 1)\n",
    "\n",
    "    def forward(self, x):\n",
    "        x = self.relu(self.fc1(x))\n",
    "        return self.fc2(x)"
   ]
  },
  {
   "cell_type": "code",
   "execution_count": 49,
   "id": "ec1b015d",
   "metadata": {},
   "outputs": [
    {
     "name": "stdout",
     "output_type": "stream",
     "text": [
      "Epoch 1/100, Loss: 0.5570\n",
      "Epoch 11/100, Loss: 0.1772\n",
      "Epoch 21/100, Loss: 0.0573\n",
      "Epoch 31/100, Loss: 0.0295\n",
      "Epoch 41/100, Loss: 0.0193\n",
      "Epoch 51/100, Loss: 0.0146\n",
      "Epoch 61/100, Loss: 0.0118\n",
      "Epoch 71/100, Loss: 0.0100\n",
      "Epoch 81/100, Loss: 0.0087\n",
      "Epoch 91/100, Loss: 0.0077\n"
     ]
    }
   ],
   "source": [
    "nonlin_probe = LinearProbe(d_model).to(device)\n",
    "optimizer = optim.Adam(nonlin_probe.parameters(), lr=1e-3)\n",
    "\n",
    "# Training loop\n",
    "for epoch in range(epochs):\n",
    "    nonlin_probe.train()\n",
    "    optimizer.zero_grad()\n",
    "    outputs = nonlin_probe(nonlin_residual_stream).squeeze()\n",
    "    loss = criterion(outputs, nonlin_labels)\n",
    "    loss.backward()\n",
    "    optimizer.step()\n",
    "    if epoch % 10 == 0:\n",
    "        print(f\"Epoch {epoch+1}/{epochs}, Loss: {loss.item():.4f}\")"
   ]
  },
  {
   "cell_type": "code",
   "execution_count": 50,
   "id": "7cd5a65b",
   "metadata": {},
   "outputs": [
    {
     "name": "stdout",
     "output_type": "stream",
     "text": [
      "Linear Probe Accuracy on Dataset 2: 100.00%\n"
     ]
    }
   ],
   "source": [
    "nonlin_probe.eval()\n",
    "with torch.no_grad():\n",
    "    outputs = nonlin_probe(nonlin_residual_stream).squeeze()\n",
    "    predictions = torch.sigmoid(outputs) > 0.5\n",
    "    accuracy = (predictions == nonlin_labels.byte()).float().mean()\n",
    "    print(f\"Linear Probe Accuracy on Dataset 2: {accuracy.item() * 100:.2f}%\")"
   ]
  },
  {
   "cell_type": "code",
   "execution_count": null,
   "id": "c969a7bd",
   "metadata": {},
   "outputs": [],
   "source": []
  }
 ],
 "metadata": {
  "kernelspec": {
   "display_name": "Python 3 (ipykernel)",
   "language": "python",
   "name": "python3"
  },
  "language_info": {
   "codemirror_mode": {
    "name": "ipython",
    "version": 3
   },
   "file_extension": ".py",
   "mimetype": "text/x-python",
   "name": "python",
   "nbconvert_exporter": "python",
   "pygments_lexer": "ipython3",
   "version": "3.12.5"
  }
 },
 "nbformat": 4,
 "nbformat_minor": 5
}
