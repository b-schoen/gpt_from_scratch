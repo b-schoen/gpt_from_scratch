{
  "nbformat": 4,
  "nbformat_minor": 0,
  "metadata": {
    "colab": {
      "provenance": [],
      "gpuType": "A100",
      "machine_shape": "hm",
      "include_colab_link": true
    },
    "kernelspec": {
      "name": "python3",
      "display_name": "Python 3"
    },
    "language_info": {
      "name": "python"
    },
    "accelerator": "GPU",
    "widgets": {
      "application/vnd.jupyter.widget-state+json": {
        "5f2412a1350c40d390daabcfa9c7d7fc": {
          "model_module": "@jupyter-widgets/controls",
          "model_name": "HBoxModel",
          "model_module_version": "1.5.0",
          "state": {
            "_dom_classes": [],
            "_model_module": "@jupyter-widgets/controls",
            "_model_module_version": "1.5.0",
            "_model_name": "HBoxModel",
            "_view_count": null,
            "_view_module": "@jupyter-widgets/controls",
            "_view_module_version": "1.5.0",
            "_view_name": "HBoxView",
            "box_style": "",
            "children": [
              "IPY_MODEL_74837cae96bd46bf81ebde1893000924",
              "IPY_MODEL_d9d93d5ce1944c858c0f9f3427c981c9",
              "IPY_MODEL_064b20f3b7cb4a2ab60b0578590ef4b7"
            ],
            "layout": "IPY_MODEL_fb6cf7461257410bb0f5ed232ec5828a"
          }
        },
        "74837cae96bd46bf81ebde1893000924": {
          "model_module": "@jupyter-widgets/controls",
          "model_name": "HTMLModel",
          "model_module_version": "1.5.0",
          "state": {
            "_dom_classes": [],
            "_model_module": "@jupyter-widgets/controls",
            "_model_module_version": "1.5.0",
            "_model_name": "HTMLModel",
            "_view_count": null,
            "_view_module": "@jupyter-widgets/controls",
            "_view_module_version": "1.5.0",
            "_view_name": "HTMLView",
            "description": "",
            "description_tooltip": null,
            "layout": "IPY_MODEL_8b09dcb894d343d39e27bd085058b50e",
            "placeholder": "​",
            "style": "IPY_MODEL_d2ead4f054104f2898c411aa5e0fce7b",
            "value": "config.json: 100%"
          }
        },
        "d9d93d5ce1944c858c0f9f3427c981c9": {
          "model_module": "@jupyter-widgets/controls",
          "model_name": "FloatProgressModel",
          "model_module_version": "1.5.0",
          "state": {
            "_dom_classes": [],
            "_model_module": "@jupyter-widgets/controls",
            "_model_module_version": "1.5.0",
            "_model_name": "FloatProgressModel",
            "_view_count": null,
            "_view_module": "@jupyter-widgets/controls",
            "_view_module_version": "1.5.0",
            "_view_name": "ProgressView",
            "bar_style": "success",
            "description": "",
            "description_tooltip": null,
            "layout": "IPY_MODEL_a705af543bd047c98885f9b6f10f6fd0",
            "max": 838,
            "min": 0,
            "orientation": "horizontal",
            "style": "IPY_MODEL_b839f26127aa4314a5c7fafece5de312",
            "value": 838
          }
        },
        "064b20f3b7cb4a2ab60b0578590ef4b7": {
          "model_module": "@jupyter-widgets/controls",
          "model_name": "HTMLModel",
          "model_module_version": "1.5.0",
          "state": {
            "_dom_classes": [],
            "_model_module": "@jupyter-widgets/controls",
            "_model_module_version": "1.5.0",
            "_model_name": "HTMLModel",
            "_view_count": null,
            "_view_module": "@jupyter-widgets/controls",
            "_view_module_version": "1.5.0",
            "_view_name": "HTMLView",
            "description": "",
            "description_tooltip": null,
            "layout": "IPY_MODEL_f0eddf62ce2f4a0b806dee95681e2e0d",
            "placeholder": "​",
            "style": "IPY_MODEL_d48198c5b5ae4fc38e669a942ffbd852",
            "value": " 838/838 [00:00&lt;00:00, 68.4kB/s]"
          }
        },
        "fb6cf7461257410bb0f5ed232ec5828a": {
          "model_module": "@jupyter-widgets/base",
          "model_name": "LayoutModel",
          "model_module_version": "1.2.0",
          "state": {
            "_model_module": "@jupyter-widgets/base",
            "_model_module_version": "1.2.0",
            "_model_name": "LayoutModel",
            "_view_count": null,
            "_view_module": "@jupyter-widgets/base",
            "_view_module_version": "1.2.0",
            "_view_name": "LayoutView",
            "align_content": null,
            "align_items": null,
            "align_self": null,
            "border": null,
            "bottom": null,
            "display": null,
            "flex": null,
            "flex_flow": null,
            "grid_area": null,
            "grid_auto_columns": null,
            "grid_auto_flow": null,
            "grid_auto_rows": null,
            "grid_column": null,
            "grid_gap": null,
            "grid_row": null,
            "grid_template_areas": null,
            "grid_template_columns": null,
            "grid_template_rows": null,
            "height": null,
            "justify_content": null,
            "justify_items": null,
            "left": null,
            "margin": null,
            "max_height": null,
            "max_width": null,
            "min_height": null,
            "min_width": null,
            "object_fit": null,
            "object_position": null,
            "order": null,
            "overflow": null,
            "overflow_x": null,
            "overflow_y": null,
            "padding": null,
            "right": null,
            "top": null,
            "visibility": null,
            "width": null
          }
        },
        "8b09dcb894d343d39e27bd085058b50e": {
          "model_module": "@jupyter-widgets/base",
          "model_name": "LayoutModel",
          "model_module_version": "1.2.0",
          "state": {
            "_model_module": "@jupyter-widgets/base",
            "_model_module_version": "1.2.0",
            "_model_name": "LayoutModel",
            "_view_count": null,
            "_view_module": "@jupyter-widgets/base",
            "_view_module_version": "1.2.0",
            "_view_name": "LayoutView",
            "align_content": null,
            "align_items": null,
            "align_self": null,
            "border": null,
            "bottom": null,
            "display": null,
            "flex": null,
            "flex_flow": null,
            "grid_area": null,
            "grid_auto_columns": null,
            "grid_auto_flow": null,
            "grid_auto_rows": null,
            "grid_column": null,
            "grid_gap": null,
            "grid_row": null,
            "grid_template_areas": null,
            "grid_template_columns": null,
            "grid_template_rows": null,
            "height": null,
            "justify_content": null,
            "justify_items": null,
            "left": null,
            "margin": null,
            "max_height": null,
            "max_width": null,
            "min_height": null,
            "min_width": null,
            "object_fit": null,
            "object_position": null,
            "order": null,
            "overflow": null,
            "overflow_x": null,
            "overflow_y": null,
            "padding": null,
            "right": null,
            "top": null,
            "visibility": null,
            "width": null
          }
        },
        "d2ead4f054104f2898c411aa5e0fce7b": {
          "model_module": "@jupyter-widgets/controls",
          "model_name": "DescriptionStyleModel",
          "model_module_version": "1.5.0",
          "state": {
            "_model_module": "@jupyter-widgets/controls",
            "_model_module_version": "1.5.0",
            "_model_name": "DescriptionStyleModel",
            "_view_count": null,
            "_view_module": "@jupyter-widgets/base",
            "_view_module_version": "1.2.0",
            "_view_name": "StyleView",
            "description_width": ""
          }
        },
        "a705af543bd047c98885f9b6f10f6fd0": {
          "model_module": "@jupyter-widgets/base",
          "model_name": "LayoutModel",
          "model_module_version": "1.2.0",
          "state": {
            "_model_module": "@jupyter-widgets/base",
            "_model_module_version": "1.2.0",
            "_model_name": "LayoutModel",
            "_view_count": null,
            "_view_module": "@jupyter-widgets/base",
            "_view_module_version": "1.2.0",
            "_view_name": "LayoutView",
            "align_content": null,
            "align_items": null,
            "align_self": null,
            "border": null,
            "bottom": null,
            "display": null,
            "flex": null,
            "flex_flow": null,
            "grid_area": null,
            "grid_auto_columns": null,
            "grid_auto_flow": null,
            "grid_auto_rows": null,
            "grid_column": null,
            "grid_gap": null,
            "grid_row": null,
            "grid_template_areas": null,
            "grid_template_columns": null,
            "grid_template_rows": null,
            "height": null,
            "justify_content": null,
            "justify_items": null,
            "left": null,
            "margin": null,
            "max_height": null,
            "max_width": null,
            "min_height": null,
            "min_width": null,
            "object_fit": null,
            "object_position": null,
            "order": null,
            "overflow": null,
            "overflow_x": null,
            "overflow_y": null,
            "padding": null,
            "right": null,
            "top": null,
            "visibility": null,
            "width": null
          }
        },
        "b839f26127aa4314a5c7fafece5de312": {
          "model_module": "@jupyter-widgets/controls",
          "model_name": "ProgressStyleModel",
          "model_module_version": "1.5.0",
          "state": {
            "_model_module": "@jupyter-widgets/controls",
            "_model_module_version": "1.5.0",
            "_model_name": "ProgressStyleModel",
            "_view_count": null,
            "_view_module": "@jupyter-widgets/base",
            "_view_module_version": "1.2.0",
            "_view_name": "StyleView",
            "bar_color": null,
            "description_width": ""
          }
        },
        "f0eddf62ce2f4a0b806dee95681e2e0d": {
          "model_module": "@jupyter-widgets/base",
          "model_name": "LayoutModel",
          "model_module_version": "1.2.0",
          "state": {
            "_model_module": "@jupyter-widgets/base",
            "_model_module_version": "1.2.0",
            "_model_name": "LayoutModel",
            "_view_count": null,
            "_view_module": "@jupyter-widgets/base",
            "_view_module_version": "1.2.0",
            "_view_name": "LayoutView",
            "align_content": null,
            "align_items": null,
            "align_self": null,
            "border": null,
            "bottom": null,
            "display": null,
            "flex": null,
            "flex_flow": null,
            "grid_area": null,
            "grid_auto_columns": null,
            "grid_auto_flow": null,
            "grid_auto_rows": null,
            "grid_column": null,
            "grid_gap": null,
            "grid_row": null,
            "grid_template_areas": null,
            "grid_template_columns": null,
            "grid_template_rows": null,
            "height": null,
            "justify_content": null,
            "justify_items": null,
            "left": null,
            "margin": null,
            "max_height": null,
            "max_width": null,
            "min_height": null,
            "min_width": null,
            "object_fit": null,
            "object_position": null,
            "order": null,
            "overflow": null,
            "overflow_x": null,
            "overflow_y": null,
            "padding": null,
            "right": null,
            "top": null,
            "visibility": null,
            "width": null
          }
        },
        "d48198c5b5ae4fc38e669a942ffbd852": {
          "model_module": "@jupyter-widgets/controls",
          "model_name": "DescriptionStyleModel",
          "model_module_version": "1.5.0",
          "state": {
            "_model_module": "@jupyter-widgets/controls",
            "_model_module_version": "1.5.0",
            "_model_name": "DescriptionStyleModel",
            "_view_count": null,
            "_view_module": "@jupyter-widgets/base",
            "_view_module_version": "1.2.0",
            "_view_name": "StyleView",
            "description_width": ""
          }
        },
        "ee3c09cc88984a2a8622d75538bdbe63": {
          "model_module": "@jupyter-widgets/controls",
          "model_name": "HBoxModel",
          "model_module_version": "1.5.0",
          "state": {
            "_dom_classes": [],
            "_model_module": "@jupyter-widgets/controls",
            "_model_module_version": "1.5.0",
            "_model_name": "HBoxModel",
            "_view_count": null,
            "_view_module": "@jupyter-widgets/controls",
            "_view_module_version": "1.5.0",
            "_view_name": "HBoxView",
            "box_style": "",
            "children": [
              "IPY_MODEL_b9ee4a1f3e1349ff8afced700bda757a",
              "IPY_MODEL_016a9924ab894c2eb7802fced320c3fc",
              "IPY_MODEL_2e9c2a35ef524aca8a1fd41904f3c3d3"
            ],
            "layout": "IPY_MODEL_8c0e40482d204b1eb2e90efbf3593948"
          }
        },
        "b9ee4a1f3e1349ff8afced700bda757a": {
          "model_module": "@jupyter-widgets/controls",
          "model_name": "HTMLModel",
          "model_module_version": "1.5.0",
          "state": {
            "_dom_classes": [],
            "_model_module": "@jupyter-widgets/controls",
            "_model_module_version": "1.5.0",
            "_model_name": "HTMLModel",
            "_view_count": null,
            "_view_module": "@jupyter-widgets/controls",
            "_view_module_version": "1.5.0",
            "_view_name": "HTMLView",
            "description": "",
            "description_tooltip": null,
            "layout": "IPY_MODEL_b85c9dcd63eb4a69b4f8ae988e1aeb58",
            "placeholder": "​",
            "style": "IPY_MODEL_d195bcfce98642a69e4723660a57ff70",
            "value": "model.safetensors.index.json: 100%"
          }
        },
        "016a9924ab894c2eb7802fced320c3fc": {
          "model_module": "@jupyter-widgets/controls",
          "model_name": "FloatProgressModel",
          "model_module_version": "1.5.0",
          "state": {
            "_dom_classes": [],
            "_model_module": "@jupyter-widgets/controls",
            "_model_module_version": "1.5.0",
            "_model_name": "FloatProgressModel",
            "_view_count": null,
            "_view_module": "@jupyter-widgets/controls",
            "_view_module_version": "1.5.0",
            "_view_name": "ProgressView",
            "bar_style": "success",
            "description": "",
            "description_tooltip": null,
            "layout": "IPY_MODEL_c4ad8ea2eaef49b58bb24d69361dc6cb",
            "max": 24223,
            "min": 0,
            "orientation": "horizontal",
            "style": "IPY_MODEL_3b082340b1304ea688aff3b49ceaafaa",
            "value": 24223
          }
        },
        "2e9c2a35ef524aca8a1fd41904f3c3d3": {
          "model_module": "@jupyter-widgets/controls",
          "model_name": "HTMLModel",
          "model_module_version": "1.5.0",
          "state": {
            "_dom_classes": [],
            "_model_module": "@jupyter-widgets/controls",
            "_model_module_version": "1.5.0",
            "_model_name": "HTMLModel",
            "_view_count": null,
            "_view_module": "@jupyter-widgets/controls",
            "_view_module_version": "1.5.0",
            "_view_name": "HTMLView",
            "description": "",
            "description_tooltip": null,
            "layout": "IPY_MODEL_344c9a901eb343ad815df6af3792f9c2",
            "placeholder": "​",
            "style": "IPY_MODEL_075d937b93d74aad91a6b74de0500eb5",
            "value": " 24.2k/24.2k [00:00&lt;00:00, 1.96MB/s]"
          }
        },
        "8c0e40482d204b1eb2e90efbf3593948": {
          "model_module": "@jupyter-widgets/base",
          "model_name": "LayoutModel",
          "model_module_version": "1.2.0",
          "state": {
            "_model_module": "@jupyter-widgets/base",
            "_model_module_version": "1.2.0",
            "_model_name": "LayoutModel",
            "_view_count": null,
            "_view_module": "@jupyter-widgets/base",
            "_view_module_version": "1.2.0",
            "_view_name": "LayoutView",
            "align_content": null,
            "align_items": null,
            "align_self": null,
            "border": null,
            "bottom": null,
            "display": null,
            "flex": null,
            "flex_flow": null,
            "grid_area": null,
            "grid_auto_columns": null,
            "grid_auto_flow": null,
            "grid_auto_rows": null,
            "grid_column": null,
            "grid_gap": null,
            "grid_row": null,
            "grid_template_areas": null,
            "grid_template_columns": null,
            "grid_template_rows": null,
            "height": null,
            "justify_content": null,
            "justify_items": null,
            "left": null,
            "margin": null,
            "max_height": null,
            "max_width": null,
            "min_height": null,
            "min_width": null,
            "object_fit": null,
            "object_position": null,
            "order": null,
            "overflow": null,
            "overflow_x": null,
            "overflow_y": null,
            "padding": null,
            "right": null,
            "top": null,
            "visibility": null,
            "width": null
          }
        },
        "b85c9dcd63eb4a69b4f8ae988e1aeb58": {
          "model_module": "@jupyter-widgets/base",
          "model_name": "LayoutModel",
          "model_module_version": "1.2.0",
          "state": {
            "_model_module": "@jupyter-widgets/base",
            "_model_module_version": "1.2.0",
            "_model_name": "LayoutModel",
            "_view_count": null,
            "_view_module": "@jupyter-widgets/base",
            "_view_module_version": "1.2.0",
            "_view_name": "LayoutView",
            "align_content": null,
            "align_items": null,
            "align_self": null,
            "border": null,
            "bottom": null,
            "display": null,
            "flex": null,
            "flex_flow": null,
            "grid_area": null,
            "grid_auto_columns": null,
            "grid_auto_flow": null,
            "grid_auto_rows": null,
            "grid_column": null,
            "grid_gap": null,
            "grid_row": null,
            "grid_template_areas": null,
            "grid_template_columns": null,
            "grid_template_rows": null,
            "height": null,
            "justify_content": null,
            "justify_items": null,
            "left": null,
            "margin": null,
            "max_height": null,
            "max_width": null,
            "min_height": null,
            "min_width": null,
            "object_fit": null,
            "object_position": null,
            "order": null,
            "overflow": null,
            "overflow_x": null,
            "overflow_y": null,
            "padding": null,
            "right": null,
            "top": null,
            "visibility": null,
            "width": null
          }
        },
        "d195bcfce98642a69e4723660a57ff70": {
          "model_module": "@jupyter-widgets/controls",
          "model_name": "DescriptionStyleModel",
          "model_module_version": "1.5.0",
          "state": {
            "_model_module": "@jupyter-widgets/controls",
            "_model_module_version": "1.5.0",
            "_model_name": "DescriptionStyleModel",
            "_view_count": null,
            "_view_module": "@jupyter-widgets/base",
            "_view_module_version": "1.2.0",
            "_view_name": "StyleView",
            "description_width": ""
          }
        },
        "c4ad8ea2eaef49b58bb24d69361dc6cb": {
          "model_module": "@jupyter-widgets/base",
          "model_name": "LayoutModel",
          "model_module_version": "1.2.0",
          "state": {
            "_model_module": "@jupyter-widgets/base",
            "_model_module_version": "1.2.0",
            "_model_name": "LayoutModel",
            "_view_count": null,
            "_view_module": "@jupyter-widgets/base",
            "_view_module_version": "1.2.0",
            "_view_name": "LayoutView",
            "align_content": null,
            "align_items": null,
            "align_self": null,
            "border": null,
            "bottom": null,
            "display": null,
            "flex": null,
            "flex_flow": null,
            "grid_area": null,
            "grid_auto_columns": null,
            "grid_auto_flow": null,
            "grid_auto_rows": null,
            "grid_column": null,
            "grid_gap": null,
            "grid_row": null,
            "grid_template_areas": null,
            "grid_template_columns": null,
            "grid_template_rows": null,
            "height": null,
            "justify_content": null,
            "justify_items": null,
            "left": null,
            "margin": null,
            "max_height": null,
            "max_width": null,
            "min_height": null,
            "min_width": null,
            "object_fit": null,
            "object_position": null,
            "order": null,
            "overflow": null,
            "overflow_x": null,
            "overflow_y": null,
            "padding": null,
            "right": null,
            "top": null,
            "visibility": null,
            "width": null
          }
        },
        "3b082340b1304ea688aff3b49ceaafaa": {
          "model_module": "@jupyter-widgets/controls",
          "model_name": "ProgressStyleModel",
          "model_module_version": "1.5.0",
          "state": {
            "_model_module": "@jupyter-widgets/controls",
            "_model_module_version": "1.5.0",
            "_model_name": "ProgressStyleModel",
            "_view_count": null,
            "_view_module": "@jupyter-widgets/base",
            "_view_module_version": "1.2.0",
            "_view_name": "StyleView",
            "bar_color": null,
            "description_width": ""
          }
        },
        "344c9a901eb343ad815df6af3792f9c2": {
          "model_module": "@jupyter-widgets/base",
          "model_name": "LayoutModel",
          "model_module_version": "1.2.0",
          "state": {
            "_model_module": "@jupyter-widgets/base",
            "_model_module_version": "1.2.0",
            "_model_name": "LayoutModel",
            "_view_count": null,
            "_view_module": "@jupyter-widgets/base",
            "_view_module_version": "1.2.0",
            "_view_name": "LayoutView",
            "align_content": null,
            "align_items": null,
            "align_self": null,
            "border": null,
            "bottom": null,
            "display": null,
            "flex": null,
            "flex_flow": null,
            "grid_area": null,
            "grid_auto_columns": null,
            "grid_auto_flow": null,
            "grid_auto_rows": null,
            "grid_column": null,
            "grid_gap": null,
            "grid_row": null,
            "grid_template_areas": null,
            "grid_template_columns": null,
            "grid_template_rows": null,
            "height": null,
            "justify_content": null,
            "justify_items": null,
            "left": null,
            "margin": null,
            "max_height": null,
            "max_width": null,
            "min_height": null,
            "min_width": null,
            "object_fit": null,
            "object_position": null,
            "order": null,
            "overflow": null,
            "overflow_x": null,
            "overflow_y": null,
            "padding": null,
            "right": null,
            "top": null,
            "visibility": null,
            "width": null
          }
        },
        "075d937b93d74aad91a6b74de0500eb5": {
          "model_module": "@jupyter-widgets/controls",
          "model_name": "DescriptionStyleModel",
          "model_module_version": "1.5.0",
          "state": {
            "_model_module": "@jupyter-widgets/controls",
            "_model_module_version": "1.5.0",
            "_model_name": "DescriptionStyleModel",
            "_view_count": null,
            "_view_module": "@jupyter-widgets/base",
            "_view_module_version": "1.2.0",
            "_view_name": "StyleView",
            "description_width": ""
          }
        },
        "4483b5acf7504f12bd2560b1916fc10a": {
          "model_module": "@jupyter-widgets/controls",
          "model_name": "HBoxModel",
          "model_module_version": "1.5.0",
          "state": {
            "_dom_classes": [],
            "_model_module": "@jupyter-widgets/controls",
            "_model_module_version": "1.5.0",
            "_model_name": "HBoxModel",
            "_view_count": null,
            "_view_module": "@jupyter-widgets/controls",
            "_view_module_version": "1.5.0",
            "_view_name": "HBoxView",
            "box_style": "",
            "children": [
              "IPY_MODEL_e9059fa9b2484c9d9ec744866c45e576",
              "IPY_MODEL_eaf77e89d88b460aa1bce1529ec653e9",
              "IPY_MODEL_ae00550985024a39968c2e7cf208935a"
            ],
            "layout": "IPY_MODEL_417e21a3648a4fa9b6272acaf9d934a2"
          }
        },
        "e9059fa9b2484c9d9ec744866c45e576": {
          "model_module": "@jupyter-widgets/controls",
          "model_name": "HTMLModel",
          "model_module_version": "1.5.0",
          "state": {
            "_dom_classes": [],
            "_model_module": "@jupyter-widgets/controls",
            "_model_module_version": "1.5.0",
            "_model_name": "HTMLModel",
            "_view_count": null,
            "_view_module": "@jupyter-widgets/controls",
            "_view_module_version": "1.5.0",
            "_view_name": "HTMLView",
            "description": "",
            "description_tooltip": null,
            "layout": "IPY_MODEL_0d7a810c99a64f52a03869ee8b9f8dd2",
            "placeholder": "​",
            "style": "IPY_MODEL_1af67579c3aa42e784ad16bef47a3ef4",
            "value": "Downloading shards:   0%"
          }
        },
        "eaf77e89d88b460aa1bce1529ec653e9": {
          "model_module": "@jupyter-widgets/controls",
          "model_name": "FloatProgressModel",
          "model_module_version": "1.5.0",
          "state": {
            "_dom_classes": [],
            "_model_module": "@jupyter-widgets/controls",
            "_model_module_version": "1.5.0",
            "_model_name": "FloatProgressModel",
            "_view_count": null,
            "_view_module": "@jupyter-widgets/controls",
            "_view_module_version": "1.5.0",
            "_view_name": "ProgressView",
            "bar_style": "",
            "description": "",
            "description_tooltip": null,
            "layout": "IPY_MODEL_b0a38badd062491b89f1715b2b06e421",
            "max": 2,
            "min": 0,
            "orientation": "horizontal",
            "style": "IPY_MODEL_ef8b8272d4d04184980a24fda0fb725a",
            "value": 0
          }
        },
        "ae00550985024a39968c2e7cf208935a": {
          "model_module": "@jupyter-widgets/controls",
          "model_name": "HTMLModel",
          "model_module_version": "1.5.0",
          "state": {
            "_dom_classes": [],
            "_model_module": "@jupyter-widgets/controls",
            "_model_module_version": "1.5.0",
            "_model_name": "HTMLModel",
            "_view_count": null,
            "_view_module": "@jupyter-widgets/controls",
            "_view_module_version": "1.5.0",
            "_view_name": "HTMLView",
            "description": "",
            "description_tooltip": null,
            "layout": "IPY_MODEL_ac303f8dc29c4370ba20200c13e141bd",
            "placeholder": "​",
            "style": "IPY_MODEL_92af5c3447904718960a348b18fa6fd5",
            "value": " 0/2 [00:00&lt;?, ?it/s]"
          }
        },
        "417e21a3648a4fa9b6272acaf9d934a2": {
          "model_module": "@jupyter-widgets/base",
          "model_name": "LayoutModel",
          "model_module_version": "1.2.0",
          "state": {
            "_model_module": "@jupyter-widgets/base",
            "_model_module_version": "1.2.0",
            "_model_name": "LayoutModel",
            "_view_count": null,
            "_view_module": "@jupyter-widgets/base",
            "_view_module_version": "1.2.0",
            "_view_name": "LayoutView",
            "align_content": null,
            "align_items": null,
            "align_self": null,
            "border": null,
            "bottom": null,
            "display": null,
            "flex": null,
            "flex_flow": null,
            "grid_area": null,
            "grid_auto_columns": null,
            "grid_auto_flow": null,
            "grid_auto_rows": null,
            "grid_column": null,
            "grid_gap": null,
            "grid_row": null,
            "grid_template_areas": null,
            "grid_template_columns": null,
            "grid_template_rows": null,
            "height": null,
            "justify_content": null,
            "justify_items": null,
            "left": null,
            "margin": null,
            "max_height": null,
            "max_width": null,
            "min_height": null,
            "min_width": null,
            "object_fit": null,
            "object_position": null,
            "order": null,
            "overflow": null,
            "overflow_x": null,
            "overflow_y": null,
            "padding": null,
            "right": null,
            "top": null,
            "visibility": null,
            "width": null
          }
        },
        "0d7a810c99a64f52a03869ee8b9f8dd2": {
          "model_module": "@jupyter-widgets/base",
          "model_name": "LayoutModel",
          "model_module_version": "1.2.0",
          "state": {
            "_model_module": "@jupyter-widgets/base",
            "_model_module_version": "1.2.0",
            "_model_name": "LayoutModel",
            "_view_count": null,
            "_view_module": "@jupyter-widgets/base",
            "_view_module_version": "1.2.0",
            "_view_name": "LayoutView",
            "align_content": null,
            "align_items": null,
            "align_self": null,
            "border": null,
            "bottom": null,
            "display": null,
            "flex": null,
            "flex_flow": null,
            "grid_area": null,
            "grid_auto_columns": null,
            "grid_auto_flow": null,
            "grid_auto_rows": null,
            "grid_column": null,
            "grid_gap": null,
            "grid_row": null,
            "grid_template_areas": null,
            "grid_template_columns": null,
            "grid_template_rows": null,
            "height": null,
            "justify_content": null,
            "justify_items": null,
            "left": null,
            "margin": null,
            "max_height": null,
            "max_width": null,
            "min_height": null,
            "min_width": null,
            "object_fit": null,
            "object_position": null,
            "order": null,
            "overflow": null,
            "overflow_x": null,
            "overflow_y": null,
            "padding": null,
            "right": null,
            "top": null,
            "visibility": null,
            "width": null
          }
        },
        "1af67579c3aa42e784ad16bef47a3ef4": {
          "model_module": "@jupyter-widgets/controls",
          "model_name": "DescriptionStyleModel",
          "model_module_version": "1.5.0",
          "state": {
            "_model_module": "@jupyter-widgets/controls",
            "_model_module_version": "1.5.0",
            "_model_name": "DescriptionStyleModel",
            "_view_count": null,
            "_view_module": "@jupyter-widgets/base",
            "_view_module_version": "1.2.0",
            "_view_name": "StyleView",
            "description_width": ""
          }
        },
        "b0a38badd062491b89f1715b2b06e421": {
          "model_module": "@jupyter-widgets/base",
          "model_name": "LayoutModel",
          "model_module_version": "1.2.0",
          "state": {
            "_model_module": "@jupyter-widgets/base",
            "_model_module_version": "1.2.0",
            "_model_name": "LayoutModel",
            "_view_count": null,
            "_view_module": "@jupyter-widgets/base",
            "_view_module_version": "1.2.0",
            "_view_name": "LayoutView",
            "align_content": null,
            "align_items": null,
            "align_self": null,
            "border": null,
            "bottom": null,
            "display": null,
            "flex": null,
            "flex_flow": null,
            "grid_area": null,
            "grid_auto_columns": null,
            "grid_auto_flow": null,
            "grid_auto_rows": null,
            "grid_column": null,
            "grid_gap": null,
            "grid_row": null,
            "grid_template_areas": null,
            "grid_template_columns": null,
            "grid_template_rows": null,
            "height": null,
            "justify_content": null,
            "justify_items": null,
            "left": null,
            "margin": null,
            "max_height": null,
            "max_width": null,
            "min_height": null,
            "min_width": null,
            "object_fit": null,
            "object_position": null,
            "order": null,
            "overflow": null,
            "overflow_x": null,
            "overflow_y": null,
            "padding": null,
            "right": null,
            "top": null,
            "visibility": null,
            "width": null
          }
        },
        "ef8b8272d4d04184980a24fda0fb725a": {
          "model_module": "@jupyter-widgets/controls",
          "model_name": "ProgressStyleModel",
          "model_module_version": "1.5.0",
          "state": {
            "_model_module": "@jupyter-widgets/controls",
            "_model_module_version": "1.5.0",
            "_model_name": "ProgressStyleModel",
            "_view_count": null,
            "_view_module": "@jupyter-widgets/base",
            "_view_module_version": "1.2.0",
            "_view_name": "StyleView",
            "bar_color": null,
            "description_width": ""
          }
        },
        "ac303f8dc29c4370ba20200c13e141bd": {
          "model_module": "@jupyter-widgets/base",
          "model_name": "LayoutModel",
          "model_module_version": "1.2.0",
          "state": {
            "_model_module": "@jupyter-widgets/base",
            "_model_module_version": "1.2.0",
            "_model_name": "LayoutModel",
            "_view_count": null,
            "_view_module": "@jupyter-widgets/base",
            "_view_module_version": "1.2.0",
            "_view_name": "LayoutView",
            "align_content": null,
            "align_items": null,
            "align_self": null,
            "border": null,
            "bottom": null,
            "display": null,
            "flex": null,
            "flex_flow": null,
            "grid_area": null,
            "grid_auto_columns": null,
            "grid_auto_flow": null,
            "grid_auto_rows": null,
            "grid_column": null,
            "grid_gap": null,
            "grid_row": null,
            "grid_template_areas": null,
            "grid_template_columns": null,
            "grid_template_rows": null,
            "height": null,
            "justify_content": null,
            "justify_items": null,
            "left": null,
            "margin": null,
            "max_height": null,
            "max_width": null,
            "min_height": null,
            "min_width": null,
            "object_fit": null,
            "object_position": null,
            "order": null,
            "overflow": null,
            "overflow_x": null,
            "overflow_y": null,
            "padding": null,
            "right": null,
            "top": null,
            "visibility": null,
            "width": null
          }
        },
        "92af5c3447904718960a348b18fa6fd5": {
          "model_module": "@jupyter-widgets/controls",
          "model_name": "DescriptionStyleModel",
          "model_module_version": "1.5.0",
          "state": {
            "_model_module": "@jupyter-widgets/controls",
            "_model_module_version": "1.5.0",
            "_model_name": "DescriptionStyleModel",
            "_view_count": null,
            "_view_module": "@jupyter-widgets/base",
            "_view_module_version": "1.2.0",
            "_view_name": "StyleView",
            "description_width": ""
          }
        },
        "472348e438de447989a53b99c31069b5": {
          "model_module": "@jupyter-widgets/controls",
          "model_name": "HBoxModel",
          "model_module_version": "1.5.0",
          "state": {
            "_dom_classes": [],
            "_model_module": "@jupyter-widgets/controls",
            "_model_module_version": "1.5.0",
            "_model_name": "HBoxModel",
            "_view_count": null,
            "_view_module": "@jupyter-widgets/controls",
            "_view_module_version": "1.5.0",
            "_view_name": "HBoxView",
            "box_style": "",
            "children": [
              "IPY_MODEL_211fe89512144f7fafb1b89ab4107e1a",
              "IPY_MODEL_11499297c7284abaa5802bc9a9c9ffe7",
              "IPY_MODEL_2bcd57d2d7bc471187bdfd5d6db40c6d"
            ],
            "layout": "IPY_MODEL_98382f5aa7e4489086fdc675101c14bb"
          }
        },
        "211fe89512144f7fafb1b89ab4107e1a": {
          "model_module": "@jupyter-widgets/controls",
          "model_name": "HTMLModel",
          "model_module_version": "1.5.0",
          "state": {
            "_dom_classes": [],
            "_model_module": "@jupyter-widgets/controls",
            "_model_module_version": "1.5.0",
            "_model_name": "HTMLModel",
            "_view_count": null,
            "_view_module": "@jupyter-widgets/controls",
            "_view_module_version": "1.5.0",
            "_view_name": "HTMLView",
            "description": "",
            "description_tooltip": null,
            "layout": "IPY_MODEL_c1743ef062614ea8b8c04a2800ef2f59",
            "placeholder": "​",
            "style": "IPY_MODEL_14830d81be694f2a94e593f8b65d38c6",
            "value": "model-00001-of-00002.safetensors:  42%"
          }
        },
        "11499297c7284abaa5802bc9a9c9ffe7": {
          "model_module": "@jupyter-widgets/controls",
          "model_name": "FloatProgressModel",
          "model_module_version": "1.5.0",
          "state": {
            "_dom_classes": [],
            "_model_module": "@jupyter-widgets/controls",
            "_model_module_version": "1.5.0",
            "_model_name": "FloatProgressModel",
            "_view_count": null,
            "_view_module": "@jupyter-widgets/controls",
            "_view_module_version": "1.5.0",
            "_view_name": "ProgressView",
            "bar_style": "",
            "description": "",
            "description_tooltip": null,
            "layout": "IPY_MODEL_2e2a8c556a0c46d38558b051dba8878f",
            "max": 4988025760,
            "min": 0,
            "orientation": "horizontal",
            "style": "IPY_MODEL_be0837282c444c3996a4e74a0822f2f2",
            "value": 2086666240
          }
        },
        "2bcd57d2d7bc471187bdfd5d6db40c6d": {
          "model_module": "@jupyter-widgets/controls",
          "model_name": "HTMLModel",
          "model_module_version": "1.5.0",
          "state": {
            "_dom_classes": [],
            "_model_module": "@jupyter-widgets/controls",
            "_model_module_version": "1.5.0",
            "_model_name": "HTMLModel",
            "_view_count": null,
            "_view_module": "@jupyter-widgets/controls",
            "_view_module_version": "1.5.0",
            "_view_name": "HTMLView",
            "description": "",
            "description_tooltip": null,
            "layout": "IPY_MODEL_e1a161f4e0594cf7844061cf80360327",
            "placeholder": "​",
            "style": "IPY_MODEL_e128f4c664c1418793c90fd9287f0dc8",
            "value": " 2.09G/4.99G [00:13&lt;00:34, 84.5MB/s]"
          }
        },
        "98382f5aa7e4489086fdc675101c14bb": {
          "model_module": "@jupyter-widgets/base",
          "model_name": "LayoutModel",
          "model_module_version": "1.2.0",
          "state": {
            "_model_module": "@jupyter-widgets/base",
            "_model_module_version": "1.2.0",
            "_model_name": "LayoutModel",
            "_view_count": null,
            "_view_module": "@jupyter-widgets/base",
            "_view_module_version": "1.2.0",
            "_view_name": "LayoutView",
            "align_content": null,
            "align_items": null,
            "align_self": null,
            "border": null,
            "bottom": null,
            "display": null,
            "flex": null,
            "flex_flow": null,
            "grid_area": null,
            "grid_auto_columns": null,
            "grid_auto_flow": null,
            "grid_auto_rows": null,
            "grid_column": null,
            "grid_gap": null,
            "grid_row": null,
            "grid_template_areas": null,
            "grid_template_columns": null,
            "grid_template_rows": null,
            "height": null,
            "justify_content": null,
            "justify_items": null,
            "left": null,
            "margin": null,
            "max_height": null,
            "max_width": null,
            "min_height": null,
            "min_width": null,
            "object_fit": null,
            "object_position": null,
            "order": null,
            "overflow": null,
            "overflow_x": null,
            "overflow_y": null,
            "padding": null,
            "right": null,
            "top": null,
            "visibility": null,
            "width": null
          }
        },
        "c1743ef062614ea8b8c04a2800ef2f59": {
          "model_module": "@jupyter-widgets/base",
          "model_name": "LayoutModel",
          "model_module_version": "1.2.0",
          "state": {
            "_model_module": "@jupyter-widgets/base",
            "_model_module_version": "1.2.0",
            "_model_name": "LayoutModel",
            "_view_count": null,
            "_view_module": "@jupyter-widgets/base",
            "_view_module_version": "1.2.0",
            "_view_name": "LayoutView",
            "align_content": null,
            "align_items": null,
            "align_self": null,
            "border": null,
            "bottom": null,
            "display": null,
            "flex": null,
            "flex_flow": null,
            "grid_area": null,
            "grid_auto_columns": null,
            "grid_auto_flow": null,
            "grid_auto_rows": null,
            "grid_column": null,
            "grid_gap": null,
            "grid_row": null,
            "grid_template_areas": null,
            "grid_template_columns": null,
            "grid_template_rows": null,
            "height": null,
            "justify_content": null,
            "justify_items": null,
            "left": null,
            "margin": null,
            "max_height": null,
            "max_width": null,
            "min_height": null,
            "min_width": null,
            "object_fit": null,
            "object_position": null,
            "order": null,
            "overflow": null,
            "overflow_x": null,
            "overflow_y": null,
            "padding": null,
            "right": null,
            "top": null,
            "visibility": null,
            "width": null
          }
        },
        "14830d81be694f2a94e593f8b65d38c6": {
          "model_module": "@jupyter-widgets/controls",
          "model_name": "DescriptionStyleModel",
          "model_module_version": "1.5.0",
          "state": {
            "_model_module": "@jupyter-widgets/controls",
            "_model_module_version": "1.5.0",
            "_model_name": "DescriptionStyleModel",
            "_view_count": null,
            "_view_module": "@jupyter-widgets/base",
            "_view_module_version": "1.2.0",
            "_view_name": "StyleView",
            "description_width": ""
          }
        },
        "2e2a8c556a0c46d38558b051dba8878f": {
          "model_module": "@jupyter-widgets/base",
          "model_name": "LayoutModel",
          "model_module_version": "1.2.0",
          "state": {
            "_model_module": "@jupyter-widgets/base",
            "_model_module_version": "1.2.0",
            "_model_name": "LayoutModel",
            "_view_count": null,
            "_view_module": "@jupyter-widgets/base",
            "_view_module_version": "1.2.0",
            "_view_name": "LayoutView",
            "align_content": null,
            "align_items": null,
            "align_self": null,
            "border": null,
            "bottom": null,
            "display": null,
            "flex": null,
            "flex_flow": null,
            "grid_area": null,
            "grid_auto_columns": null,
            "grid_auto_flow": null,
            "grid_auto_rows": null,
            "grid_column": null,
            "grid_gap": null,
            "grid_row": null,
            "grid_template_areas": null,
            "grid_template_columns": null,
            "grid_template_rows": null,
            "height": null,
            "justify_content": null,
            "justify_items": null,
            "left": null,
            "margin": null,
            "max_height": null,
            "max_width": null,
            "min_height": null,
            "min_width": null,
            "object_fit": null,
            "object_position": null,
            "order": null,
            "overflow": null,
            "overflow_x": null,
            "overflow_y": null,
            "padding": null,
            "right": null,
            "top": null,
            "visibility": null,
            "width": null
          }
        },
        "be0837282c444c3996a4e74a0822f2f2": {
          "model_module": "@jupyter-widgets/controls",
          "model_name": "ProgressStyleModel",
          "model_module_version": "1.5.0",
          "state": {
            "_model_module": "@jupyter-widgets/controls",
            "_model_module_version": "1.5.0",
            "_model_name": "ProgressStyleModel",
            "_view_count": null,
            "_view_module": "@jupyter-widgets/base",
            "_view_module_version": "1.2.0",
            "_view_name": "StyleView",
            "bar_color": null,
            "description_width": ""
          }
        },
        "e1a161f4e0594cf7844061cf80360327": {
          "model_module": "@jupyter-widgets/base",
          "model_name": "LayoutModel",
          "model_module_version": "1.2.0",
          "state": {
            "_model_module": "@jupyter-widgets/base",
            "_model_module_version": "1.2.0",
            "_model_name": "LayoutModel",
            "_view_count": null,
            "_view_module": "@jupyter-widgets/base",
            "_view_module_version": "1.2.0",
            "_view_name": "LayoutView",
            "align_content": null,
            "align_items": null,
            "align_self": null,
            "border": null,
            "bottom": null,
            "display": null,
            "flex": null,
            "flex_flow": null,
            "grid_area": null,
            "grid_auto_columns": null,
            "grid_auto_flow": null,
            "grid_auto_rows": null,
            "grid_column": null,
            "grid_gap": null,
            "grid_row": null,
            "grid_template_areas": null,
            "grid_template_columns": null,
            "grid_template_rows": null,
            "height": null,
            "justify_content": null,
            "justify_items": null,
            "left": null,
            "margin": null,
            "max_height": null,
            "max_width": null,
            "min_height": null,
            "min_width": null,
            "object_fit": null,
            "object_position": null,
            "order": null,
            "overflow": null,
            "overflow_x": null,
            "overflow_y": null,
            "padding": null,
            "right": null,
            "top": null,
            "visibility": null,
            "width": null
          }
        },
        "e128f4c664c1418793c90fd9287f0dc8": {
          "model_module": "@jupyter-widgets/controls",
          "model_name": "DescriptionStyleModel",
          "model_module_version": "1.5.0",
          "state": {
            "_model_module": "@jupyter-widgets/controls",
            "_model_module_version": "1.5.0",
            "_model_name": "DescriptionStyleModel",
            "_view_count": null,
            "_view_module": "@jupyter-widgets/base",
            "_view_module_version": "1.2.0",
            "_view_name": "StyleView",
            "description_width": ""
          }
        }
      }
    }
  },
  "cells": [
    {
      "cell_type": "markdown",
      "metadata": {
        "id": "view-in-github",
        "colab_type": "text"
      },
      "source": [
        "<a href=\"https://colab.research.google.com/github/b-schoen/gpt_from_scratch/blob/main/colab/refusal_direction.ipynb\" target=\"_parent\"><img src=\"https://colab.research.google.com/assets/colab-badge.svg\" alt=\"Open In Colab\"/></a>"
      ]
    },
    {
      "cell_type": "markdown",
      "source": [
        "# Demo of bypassing refusal"
      ],
      "metadata": {
        "id": "82acAhWYGIPx"
      }
    },
    {
      "cell_type": "markdown",
      "source": [
        ">[Demo of bypassing refusal](#scrollTo=82acAhWYGIPx)\n",
        "\n",
        ">>[Setup](#scrollTo=fcxHyDZw6b86)\n",
        "\n",
        ">>>[Load model](#scrollTo=6ZOoJagxD49V)\n",
        "\n",
        ">>>[Load harmful / harmless datasets](#scrollTo=rF7e-u20EFTe)\n",
        "\n",
        ">>>[Tokenization utils](#scrollTo=KOKYA61k8LWt)\n",
        "\n",
        ">>>[Generation utils](#scrollTo=gtrIK8x78SZh)\n",
        "\n",
        ">>[Finding the \"refusal direction\"](#scrollTo=W9O8dm0_EQRk)\n",
        "\n",
        ">>[Ablate \"refusal direction\" via inference-time intervention](#scrollTo=2EoxY5i1CWe3)\n",
        "\n",
        ">>[Orthogonalize weights w.r.t. \"refusal direction\"](#scrollTo=t9KooaWaCDc_)\n",
        "\n"
      ],
      "metadata": {
        "colab_type": "toc",
        "id": "s-_vu8HuGEb-"
      }
    },
    {
      "cell_type": "markdown",
      "source": [
        "This notebook demonstrates our method for bypassing refusal, levaraging the insight that refusal is mediated by a 1-dimensional subspace. We recommend reading the [research post](https://www.lesswrong.com/posts/jGuXSZgv6qfdhMCuJ/refusal-in-llms-is-mediated-by-a-single-direction) for a more thorough explanation."
      ],
      "metadata": {
        "id": "j7hOtw7UHXdD"
      }
    },
    {
      "cell_type": "markdown",
      "source": [
        "## Setup"
      ],
      "metadata": {
        "id": "fcxHyDZw6b86"
      }
    },
    {
      "cell_type": "code",
      "source": [
        "%%capture\n",
        "!pip install --upgrade transformers transformers_stream_generator tiktoken transformer_lens einops jaxtyping colorama"
      ],
      "metadata": {
        "id": "dLeei4-T6Wef"
      },
      "execution_count": 1,
      "outputs": []
    },
    {
      "cell_type": "code",
      "source": [
        "# !git clone https://github.com/andyrdt/refusal_direction.git"
      ],
      "metadata": {
        "id": "FQk04ISyMD_N"
      },
      "execution_count": 2,
      "outputs": []
    },
    {
      "cell_type": "code",
      "source": [
        "# change into the repo directory\n",
        "# import os\n",
        "\n",
        "# os.chdir('refusal_direction')\n",
        "\n",
        "# print(\"Current Working Directory:\", os.getcwd())"
      ],
      "metadata": {
        "id": "k_xGAPt-MWII"
      },
      "execution_count": 3,
      "outputs": []
    },
    {
      "cell_type": "code",
      "source": [
        "# !ls"
      ],
      "metadata": {
        "id": "-fR7cesoMJw3"
      },
      "execution_count": 4,
      "outputs": []
    },
    {
      "cell_type": "code",
      "source": [
        "# !source setup.sh"
      ],
      "metadata": {
        "id": "iBA52fyxMZ7G"
      },
      "execution_count": 5,
      "outputs": []
    },
    {
      "cell_type": "code",
      "source": [
        "# from pipeline import run_pipeline"
      ],
      "metadata": {
        "id": "DcPUXpyBXFAy"
      },
      "execution_count": 6,
      "outputs": []
    },
    {
      "cell_type": "code",
      "source": [],
      "metadata": {
        "id": "0A04W8OKXFEF"
      },
      "execution_count": 6,
      "outputs": []
    },
    {
      "cell_type": "code",
      "source": [
        "import torch\n",
        "import functools\n",
        "import einops\n",
        "import requests\n",
        "import pandas as pd\n",
        "import io\n",
        "import textwrap\n",
        "import gc\n",
        "\n",
        "from datasets import load_dataset\n",
        "from sklearn.model_selection import train_test_split\n",
        "from tqdm import tqdm\n",
        "from torch import Tensor\n",
        "from typing import List, Callable\n",
        "from transformer_lens import HookedTransformer, utils\n",
        "from transformer_lens.hook_points import HookPoint\n",
        "from transformers import AutoTokenizer\n",
        "from jaxtyping import Float, Int\n",
        "from colorama import Fore"
      ],
      "metadata": {
        "id": "_vhhwl-2-jPg"
      },
      "execution_count": 7,
      "outputs": []
    },
    {
      "cell_type": "code",
      "source": [],
      "metadata": {
        "id": "efJ2iv9OMzCX"
      },
      "execution_count": 7,
      "outputs": []
    },
    {
      "cell_type": "code",
      "source": [],
      "metadata": {
        "id": "8WUfLxtDMrqy"
      },
      "execution_count": 7,
      "outputs": []
    },
    {
      "cell_type": "markdown",
      "source": [
        "### Load model"
      ],
      "metadata": {
        "id": "6ZOoJagxD49V"
      }
    },
    {
      "cell_type": "code",
      "execution_count": null,
      "metadata": {
        "id": "Vnp65Vsg5x-5",
        "colab": {
          "base_uri": "https://localhost:8080/",
          "height": 182,
          "referenced_widgets": [
            "5f2412a1350c40d390daabcfa9c7d7fc",
            "74837cae96bd46bf81ebde1893000924",
            "d9d93d5ce1944c858c0f9f3427c981c9",
            "064b20f3b7cb4a2ab60b0578590ef4b7",
            "fb6cf7461257410bb0f5ed232ec5828a",
            "8b09dcb894d343d39e27bd085058b50e",
            "d2ead4f054104f2898c411aa5e0fce7b",
            "a705af543bd047c98885f9b6f10f6fd0",
            "b839f26127aa4314a5c7fafece5de312",
            "f0eddf62ce2f4a0b806dee95681e2e0d",
            "d48198c5b5ae4fc38e669a942ffbd852",
            "ee3c09cc88984a2a8622d75538bdbe63",
            "b9ee4a1f3e1349ff8afced700bda757a",
            "016a9924ab894c2eb7802fced320c3fc",
            "2e9c2a35ef524aca8a1fd41904f3c3d3",
            "8c0e40482d204b1eb2e90efbf3593948",
            "b85c9dcd63eb4a69b4f8ae988e1aeb58",
            "d195bcfce98642a69e4723660a57ff70",
            "c4ad8ea2eaef49b58bb24d69361dc6cb",
            "3b082340b1304ea688aff3b49ceaafaa",
            "344c9a901eb343ad815df6af3792f9c2",
            "075d937b93d74aad91a6b74de0500eb5",
            "4483b5acf7504f12bd2560b1916fc10a",
            "e9059fa9b2484c9d9ec744866c45e576",
            "eaf77e89d88b460aa1bce1529ec653e9",
            "ae00550985024a39968c2e7cf208935a",
            "417e21a3648a4fa9b6272acaf9d934a2",
            "0d7a810c99a64f52a03869ee8b9f8dd2",
            "1af67579c3aa42e784ad16bef47a3ef4",
            "b0a38badd062491b89f1715b2b06e421",
            "ef8b8272d4d04184980a24fda0fb725a",
            "ac303f8dc29c4370ba20200c13e141bd",
            "92af5c3447904718960a348b18fa6fd5",
            "472348e438de447989a53b99c31069b5",
            "211fe89512144f7fafb1b89ab4107e1a",
            "11499297c7284abaa5802bc9a9c9ffe7",
            "2bcd57d2d7bc471187bdfd5d6db40c6d",
            "98382f5aa7e4489086fdc675101c14bb",
            "c1743ef062614ea8b8c04a2800ef2f59",
            "14830d81be694f2a94e593f8b65d38c6",
            "2e2a8c556a0c46d38558b051dba8878f",
            "be0837282c444c3996a4e74a0822f2f2",
            "e1a161f4e0594cf7844061cf80360327",
            "e128f4c664c1418793c90fd9287f0dc8"
          ]
        },
        "outputId": "cb9958f4-f92e-4fbc-9eec-3dcd85d5768d"
      },
      "outputs": [
        {
          "output_type": "stream",
          "name": "stderr",
          "text": [
            "WARNING:root:You tried to specify center_unembed=True for a model using logit softcap, but this can't be done! Softcapping is not invariant upon adding a constantSetting center_unembed=False instead.\n"
          ]
        },
        {
          "output_type": "display_data",
          "data": {
            "text/plain": [
              "config.json:   0%|          | 0.00/838 [00:00<?, ?B/s]"
            ],
            "application/vnd.jupyter.widget-view+json": {
              "version_major": 2,
              "version_minor": 0,
              "model_id": "5f2412a1350c40d390daabcfa9c7d7fc"
            }
          },
          "metadata": {}
        },
        {
          "output_type": "display_data",
          "data": {
            "text/plain": [
              "model.safetensors.index.json:   0%|          | 0.00/24.2k [00:00<?, ?B/s]"
            ],
            "application/vnd.jupyter.widget-view+json": {
              "version_major": 2,
              "version_minor": 0,
              "model_id": "ee3c09cc88984a2a8622d75538bdbe63"
            }
          },
          "metadata": {}
        },
        {
          "output_type": "display_data",
          "data": {
            "text/plain": [
              "Downloading shards:   0%|          | 0/2 [00:00<?, ?it/s]"
            ],
            "application/vnd.jupyter.widget-view+json": {
              "version_major": 2,
              "version_minor": 0,
              "model_id": "4483b5acf7504f12bd2560b1916fc10a"
            }
          },
          "metadata": {}
        },
        {
          "output_type": "display_data",
          "data": {
            "text/plain": [
              "model-00001-of-00002.safetensors:   0%|          | 0.00/4.99G [00:00<?, ?B/s]"
            ],
            "application/vnd.jupyter.widget-view+json": {
              "version_major": 2,
              "version_minor": 0,
              "model_id": "472348e438de447989a53b99c31069b5"
            }
          },
          "metadata": {}
        }
      ],
      "source": [
        "import os\n",
        "\n",
        "# MODEL_PATH = 'meta-llama/meta-llama-3-8b-instruct'\n",
        "MODEL_PATH = 'google/gemma-2-2b-it'\n",
        "DEVICE = 'cuda'\n",
        "\n",
        "model = HookedTransformer.from_pretrained(\n",
        "    MODEL_PATH,\n",
        "    device=DEVICE,\n",
        "    dtype=torch.bfloat16,\n",
        ")"
      ]
    },
    {
      "cell_type": "code",
      "source": [
        "# from https://github.com/andyrdt/refusal_direction/blob/main/pipeline/model_utils/gemma_model.py#L100C9-L100C40\n",
        "model.tokenizer.padding_side = 'left'"
      ],
      "metadata": {
        "id": "JhGb5nJhQ6fv"
      },
      "execution_count": null,
      "outputs": []
    },
    {
      "cell_type": "code",
      "source": [
        "# Make sure our understanding of the tokenization here is correct\n",
        "example_prompt = \"hello\"\n",
        "\n",
        "# note: hello maps to ~128k token int, that's not the sequence length but can be confusing at first glance if not paying attention\n",
        "tokens = model.tokenizer.encode(example_prompt, return_tensors=\"pt\")\n",
        "tokens = tokens.to('cuda')\n",
        "\n",
        "print(f'{tokens.shape=}')\n",
        "\n",
        "reconstructed_example_prompt = model.tokenizer.decode(tokens[0])\n",
        "\n",
        "print(f\"Original prompt: {example_prompt}\")\n",
        "print(f\"Reconstructed prompt: {reconstructed_example_prompt}\")"
      ],
      "metadata": {
        "id": "AlDXTPXAR_qX"
      },
      "execution_count": null,
      "outputs": []
    },
    {
      "cell_type": "code",
      "source": [
        "output = model.generate(\n",
        "    'What is the capital of France?',\n",
        "    max_new_tokens=10,\n",
        "    verbose=True,\n",
        ")\n",
        "\n",
        "print(output)"
      ],
      "metadata": {
        "id": "OKFe7XA3SLPX"
      },
      "execution_count": null,
      "outputs": []
    },
    {
      "cell_type": "code",
      "source": [],
      "metadata": {
        "id": "1LddjMzlSLSK"
      },
      "execution_count": null,
      "outputs": []
    },
    {
      "cell_type": "code",
      "source": [],
      "metadata": {
        "id": "aU335fu5SLU3"
      },
      "execution_count": null,
      "outputs": []
    },
    {
      "cell_type": "markdown",
      "source": [
        "### Load harmful / harmless datasets"
      ],
      "metadata": {
        "id": "rF7e-u20EFTe"
      }
    },
    {
      "cell_type": "code",
      "source": [
        "def get_harmful_instructions():\n",
        "    url = 'https://raw.githubusercontent.com/llm-attacks/llm-attacks/main/data/advbench/harmful_behaviors.csv'\n",
        "    response = requests.get(url)\n",
        "\n",
        "    dataset = pd.read_csv(io.StringIO(response.content.decode('utf-8')))\n",
        "    instructions = dataset['goal'].tolist()\n",
        "\n",
        "    train, test = train_test_split(instructions, test_size=0.2, random_state=42)\n",
        "    return train, test\n",
        "\n",
        "def get_harmless_instructions():\n",
        "    hf_path = 'tatsu-lab/alpaca'\n",
        "    dataset = load_dataset(hf_path)\n",
        "\n",
        "    # filter for instructions that do not have inputs\n",
        "    instructions = []\n",
        "    for i in range(len(dataset['train'])):\n",
        "        if dataset['train'][i]['input'].strip() == '':\n",
        "            instructions.append(dataset['train'][i]['instruction'])\n",
        "\n",
        "    train, test = train_test_split(instructions, test_size=0.2, random_state=42)\n",
        "    return train, test"
      ],
      "metadata": {
        "id": "5i1XcVIgHEE1"
      },
      "execution_count": null,
      "outputs": []
    },
    {
      "cell_type": "code",
      "source": [
        "harmful_inst_train, harmful_inst_test = get_harmful_instructions()\n",
        "harmless_inst_train, harmless_inst_test = get_harmless_instructions()"
      ],
      "metadata": {
        "id": "Rth8yvLZJsXs"
      },
      "execution_count": null,
      "outputs": []
    },
    {
      "cell_type": "code",
      "source": [
        "print(\"Harmful instructions:\")\n",
        "for i in range(4):\n",
        "    print(f\"\\t{repr(harmful_inst_train[i])}\")\n",
        "print(\"Harmless instructions:\")\n",
        "for i in range(4):\n",
        "    print(f\"\\t{repr(harmless_inst_train[i])}\")"
      ],
      "metadata": {
        "id": "Qv2ALDY_J44G"
      },
      "execution_count": null,
      "outputs": []
    },
    {
      "cell_type": "markdown",
      "source": [
        "### Tokenization utils"
      ],
      "metadata": {
        "id": "KOKYA61k8LWt"
      }
    },
    {
      "cell_type": "code",
      "source": [
        "# Gemma chat template is based on\n",
        "# - Official Gemma documentation: https://ai.google.dev/gemma/docs/formatting\n",
        "\n",
        "GEMMA_CHAT_TEMPLATE = \"\"\"<start_of_turn>user\n",
        "{instruction}<end_of_turn>\n",
        "<start_of_turn>model\n",
        "\"\"\"\n",
        "\n",
        "def format_instruction_gemma_chat(\n",
        "    instruction: str,\n",
        "    output: str=None,\n",
        "    system: str=None,\n",
        "    include_trailing_whitespace: bool=True,\n",
        "):\n",
        "    if system is not None:\n",
        "        raise ValueError(\"System prompts are not supported for Gemma models.\")\n",
        "    else:\n",
        "        formatted_instruction = GEMMA_CHAT_TEMPLATE.format(instruction=instruction)\n",
        "\n",
        "    if not include_trailing_whitespace:\n",
        "        formatted_instruction = formatted_instruction.rstrip()\n",
        "\n",
        "    if output is not None:\n",
        "        formatted_instruction += output\n",
        "\n",
        "    return formatted_instruction\n",
        "\n",
        "def tokenize_instructions_gemma_chat(\n",
        "    tokenizer: AutoTokenizer,\n",
        "    instructions: List[str],\n",
        "    outputs: List[str]=None,\n",
        "    system: str=None,\n",
        "    include_trailing_whitespace=True,\n",
        "):\n",
        "    if outputs is not None:\n",
        "        prompts = [\n",
        "            format_instruction_gemma_chat(instruction=instruction, output=output, system=system, include_trailing_whitespace=include_trailing_whitespace)\n",
        "            for instruction, output in zip(instructions, outputs)\n",
        "        ]\n",
        "    else:\n",
        "        prompts = [\n",
        "            format_instruction_gemma_chat(instruction=instruction, system=system, include_trailing_whitespace=include_trailing_whitespace)\n",
        "            for instruction in instructions\n",
        "        ]\n",
        "\n",
        "    result = tokenizer(\n",
        "        prompts,\n",
        "        padding=True,\n",
        "        truncation=False,\n",
        "        return_tensors=\"pt\",\n",
        "    )\n",
        "\n",
        "    # note: we do this for compatibility with original notebook\n",
        "    return result['input_ids']\n",
        "\n",
        "tokenize_instructions_fn = functools.partial(\n",
        "    tokenize_instructions_gemma_chat,\n",
        "    tokenizer=model.tokenizer,\n",
        "  )"
      ],
      "metadata": {
        "id": "P8UPQSfpWOSK"
      },
      "execution_count": null,
      "outputs": []
    },
    {
      "cell_type": "markdown",
      "source": [
        "### Generation utils"
      ],
      "metadata": {
        "id": "gtrIK8x78SZh"
      }
    },
    {
      "cell_type": "code",
      "source": [
        "def _generate_with_hooks(\n",
        "    model: HookedTransformer,\n",
        "    toks: Int[Tensor, 'batch_size seq_len'],\n",
        "    max_tokens_generated: int = 64,\n",
        "    fwd_hooks = [],\n",
        ") -> List[str]:\n",
        "\n",
        "    all_toks = torch.zeros((toks.shape[0], toks.shape[1] + max_tokens_generated), dtype=torch.long, device=toks.device)\n",
        "    all_toks[:, :toks.shape[1]] = toks\n",
        "\n",
        "    for i in range(max_tokens_generated):\n",
        "        with model.hooks(fwd_hooks=fwd_hooks):\n",
        "            logits = model(all_toks[:, :-max_tokens_generated + i])\n",
        "            next_tokens = logits[:, -1, :].argmax(dim=-1) # greedy sampling (temperature=0)\n",
        "            all_toks[:,-max_tokens_generated+i] = next_tokens\n",
        "\n",
        "    return model.tokenizer.batch_decode(all_toks[:, toks.shape[1]:], skip_special_tokens=True)\n",
        "\n",
        "def get_generations(\n",
        "    model: HookedTransformer,\n",
        "    instructions: List[str],\n",
        "    tokenize_instructions_fn: Callable[[List[str]], Int[Tensor, 'batch_size seq_len']],\n",
        "    fwd_hooks = [],\n",
        "    max_tokens_generated: int = 64,\n",
        "    batch_size: int = 4,\n",
        ") -> List[str]:\n",
        "\n",
        "    generations = []\n",
        "\n",
        "    for i in tqdm(range(0, len(instructions), batch_size)):\n",
        "        toks = tokenize_instructions_fn(instructions=instructions[i:i+batch_size])\n",
        "        generation = _generate_with_hooks(\n",
        "            model,\n",
        "            toks,\n",
        "            max_tokens_generated=max_tokens_generated,\n",
        "            fwd_hooks=fwd_hooks,\n",
        "        )\n",
        "        generations.extend(generation)\n",
        "\n",
        "    return generations"
      ],
      "metadata": {
        "id": "94jRJDR0DRoY"
      },
      "execution_count": null,
      "outputs": []
    },
    {
      "cell_type": "markdown",
      "source": [
        "## Finding the \"refusal direction\""
      ],
      "metadata": {
        "id": "W9O8dm0_EQRk"
      }
    },
    {
      "cell_type": "code",
      "source": [
        "N_INST_TRAIN = 32\n",
        "\n",
        "# tokenize instructions\n",
        "harmful_toks = tokenize_instructions_fn(instructions=harmful_inst_train[:N_INST_TRAIN])\n",
        "harmless_toks = tokenize_instructions_fn(instructions=harmless_inst_train[:N_INST_TRAIN])\n",
        "\n",
        "# run model on harmful and harmless instructions, caching intermediate activations\n"
      ],
      "metadata": {
        "id": "MbY79kSP8oOg"
      },
      "execution_count": null,
      "outputs": []
    },
    {
      "cell_type": "code",
      "source": [
        "type(harmful_toks)"
      ],
      "metadata": {
        "id": "Qah3hVpeS_oJ"
      },
      "execution_count": null,
      "outputs": []
    },
    {
      "cell_type": "code",
      "source": [
        "harmful_logits, harmful_cache = model.run_with_cache(\n",
        "    harmful_toks,\n",
        "    names_filter=lambda hook_name: 'resid' in hook_name,\n",
        ")"
      ],
      "metadata": {
        "id": "7NYPhZFkS3XZ"
      },
      "execution_count": null,
      "outputs": []
    },
    {
      "cell_type": "code",
      "source": [
        "harmless_logits, harmless_cache = model.run_with_cache(\n",
        "    harmless_toks,\n",
        "    names_filter=lambda hook_name: 'resid' in hook_name,\n",
        ")"
      ],
      "metadata": {
        "id": "GyPqIyOnS3au"
      },
      "execution_count": null,
      "outputs": []
    },
    {
      "cell_type": "code",
      "source": [
        "# compute difference of means between harmful and harmless activations at an intermediate layer\n",
        "\n",
        "# note: is this just chosen arbitrarily lol?\n",
        "pos = -1\n",
        "layer = 14\n",
        "\n",
        "harmful_mean_act = harmful_cache['resid_pre', layer][:, pos, :].mean(dim=0)\n",
        "harmless_mean_act = harmless_cache['resid_pre', layer][:, pos, :].mean(dim=0)\n",
        "\n",
        "refusal_dir = harmful_mean_act - harmless_mean_act\n",
        "refusal_dir = refusal_dir / refusal_dir.norm()"
      ],
      "metadata": {
        "id": "tqD5E8Vc_w5d"
      },
      "execution_count": null,
      "outputs": []
    },
    {
      "cell_type": "code",
      "source": [
        "print(f'{harmful_mean_act.shape=}')\n",
        "print(f'{harmless_mean_act.shape=}')\n",
        "print(f'{refusal_dir.shape=}')"
      ],
      "metadata": {
        "id": "-acoIMbjUIAD"
      },
      "execution_count": null,
      "outputs": []
    },
    {
      "cell_type": "code",
      "source": [
        "# clean up memory\n",
        "del harmful_cache, harmless_cache, harmful_logits, harmless_logits\n",
        "gc.collect(); torch.cuda.empty_cache()"
      ],
      "metadata": {
        "id": "NU9rjXPT4uQ_"
      },
      "execution_count": null,
      "outputs": []
    },
    {
      "cell_type": "markdown",
      "source": [
        "## Ablate \"refusal direction\" via inference-time intervention\n",
        "\n",
        "Given a \"refusal direction\" $\\widehat{r} \\in \\mathbb{R}^{d_{\\text{model}}}$ with unit norm, we can ablate this direction from the model's activations $a_{l}$:\n",
        "$${a}_{l}' \\leftarrow a_l - (a_l \\cdot \\widehat{r}) \\widehat{r}$$\n",
        "\n",
        "By performing this ablation on all intermediate activations, we enforce that the model can never express this direction (or \"feature\")."
      ],
      "metadata": {
        "id": "2EoxY5i1CWe3"
      }
    },
    {
      "cell_type": "code",
      "source": [
        "def direction_ablation_hook(\n",
        "    activation: Float[Tensor, \"... d_act\"],\n",
        "    hook: HookPoint,\n",
        "    direction: Float[Tensor, \"d_act\"]\n",
        "):\n",
        "    proj = einops.einsum(\n",
        "        activation,\n",
        "        direction.view(-1, 1),\n",
        "        '... d_act, d_act single -> ... single',\n",
        "    ) * direction\n",
        "\n",
        "    return activation - proj"
      ],
      "metadata": {
        "id": "26rf-yncB2PT"
      },
      "execution_count": null,
      "outputs": []
    },
    {
      "cell_type": "code",
      "source": [
        "N_INST_TEST = 32\n",
        "intervention_dir = refusal_dir\n",
        "intervention_layers = list(range(model.cfg.n_layers)) # all layers\n",
        "\n",
        "hook_fn = functools.partial(\n",
        "    direction_ablation_hook,\n",
        "    direction=intervention_dir,\n",
        ")\n",
        "\n",
        "fwd_hooks = [\n",
        "    (utils.get_act_name(act_name, l), hook_fn)\n",
        "    for l in intervention_layers\n",
        "    for act_name in ['resid_pre', 'resid_mid', 'resid_post'],\n",
        "]\n",
        "\n",
        "intervention_generations = get_generations(\n",
        "    model,\n",
        "    harmful_inst_test[:N_INST_TEST],\n",
        "    tokenize_instructions_fn,\n",
        "    fwd_hooks=fwd_hooks,\n",
        ")\n",
        "\n",
        "baseline_generations = get_generations(\n",
        "    model,\n",
        "    harmful_inst_test[:N_INST_TEST],\n",
        "    tokenize_instructions_fn,\n",
        "    fwd_hooks=[],\n",
        ")"
      ],
      "metadata": {
        "id": "sR1G5bXoEDty"
      },
      "execution_count": null,
      "outputs": []
    },
    {
      "cell_type": "code",
      "source": [
        "for i in range(N_INST_TEST):\n",
        "    print(f\"INSTRUCTION {i}: {repr(harmful_inst_test[i])}\")\n",
        "    print(Fore.GREEN + f\"BASELINE COMPLETION:\")\n",
        "    print(textwrap.fill(repr(baseline_generations[i]), width=100, initial_indent='\\t', subsequent_indent='\\t'))\n",
        "    print(Fore.RED + f\"INTERVENTION COMPLETION:\")\n",
        "    print(textwrap.fill(repr(intervention_generations[i]), width=100, initial_indent='\\t', subsequent_indent='\\t'))\n",
        "    print(Fore.RESET)"
      ],
      "metadata": {
        "id": "pxbJr4vCFCOL"
      },
      "execution_count": null,
      "outputs": []
    },
    {
      "cell_type": "markdown",
      "source": [
        "## Orthogonalize weights w.r.t. \"refusal direction\"\n",
        "\n",
        "We can implement the intervention equivalently by directly orthogonalizing the weight matrices that write to the residual stream with respect to the refusal direction $\\widehat{r}$:\n",
        "$$W_{\\text{out}}' \\leftarrow W_{\\text{out}} - \\widehat{r}\\widehat{r}^{\\mathsf{T}} W_{\\text{out}}$$\n",
        "\n",
        "By orthogonalizing these weight matrices, we enforce that the model is unable to write direction $r$ to the residual stream at all!"
      ],
      "metadata": {
        "id": "t9KooaWaCDc_"
      }
    },
    {
      "cell_type": "code",
      "source": [
        "def get_orthogonalized_matrix(\n",
        "    matrix: Float[Tensor, '... d_model'],\n",
        "    vec: Float[Tensor, 'd_model'],\n",
        ") -> Float[Tensor, '... d_model']:\n",
        "\n",
        "    proj = einops.einsum(\n",
        "        matrix,\n",
        "        vec.view(-1, 1),\n",
        "        '... d_model, d_model single -> ... single',\n",
        "    ) * vec\n",
        "\n",
        "    return matrix - proj"
      ],
      "metadata": {
        "id": "8fhx0i9vCEou"
      },
      "execution_count": null,
      "outputs": []
    },
    {
      "cell_type": "code",
      "source": [
        "model.W_E.data = get_orthogonalized_matrix(model.W_E, refusal_dir)\n",
        "\n",
        "for block in model.blocks:\n",
        "    block.attn.W_O.data = get_orthogonalized_matrix(block.attn.W_O, refusal_dir)\n",
        "    block.mlp.W_out.data = get_orthogonalized_matrix(block.mlp.W_out, refusal_dir)"
      ],
      "metadata": {
        "id": "GC7cpMXZCG64"
      },
      "execution_count": null,
      "outputs": []
    },
    {
      "cell_type": "code",
      "source": [
        "orthogonalized_generations = get_generations(\n",
        "    model,\n",
        "    harmful_inst_test[:N_INST_TEST],\n",
        "    tokenize_instructions_fn,\n",
        "    fwd_hooks=[],\n",
        ")"
      ],
      "metadata": {
        "id": "1Y-qtouNGf3t"
      },
      "execution_count": null,
      "outputs": []
    },
    {
      "cell_type": "code",
      "source": [
        "for i in range(N_INST_TEST):\n",
        "    print(f\"INSTRUCTION {i}: {repr(harmful_inst_test[i])}\")\n",
        "    print(Fore.GREEN + f\"BASELINE COMPLETION:\")\n",
        "    print(textwrap.fill(repr(baseline_generations[i]), width=100, initial_indent='\\t', subsequent_indent='\\t'))\n",
        "    print(Fore.RED + f\"INTERVENTION COMPLETION:\")\n",
        "    print(textwrap.fill(repr(intervention_generations[i]), width=100, initial_indent='\\t', subsequent_indent='\\t'))\n",
        "    print(Fore.MAGENTA + f\"ORTHOGONALIZED COMPLETION:\")\n",
        "    print(textwrap.fill(repr(orthogonalized_generations[i]), width=100, initial_indent='\\t', subsequent_indent='\\t'))\n",
        "    print(Fore.RESET)"
      ],
      "metadata": {
        "id": "r68O4_4DG3P7"
      },
      "execution_count": null,
      "outputs": []
    },
    {
      "cell_type": "code",
      "source": [],
      "metadata": {
        "id": "exUh3PEHRe9x"
      },
      "execution_count": null,
      "outputs": []
    }
  ]
}